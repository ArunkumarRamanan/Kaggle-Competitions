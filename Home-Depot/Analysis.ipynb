{
 "cells": [
  {
   "cell_type": "code",
   "execution_count": 1,
   "metadata": {
    "collapsed": false
   },
   "outputs": [
    {
     "name": "stderr",
     "output_type": "stream",
     "text": [
      "C:\\Users\\Abhishek\\Anaconda2\\lib\\site-packages\\matplotlib\\__init__.py:872: UserWarning: axes.color_cycle is deprecated and replaced with axes.prop_cycle; please use the latter.\n",
      "  warnings.warn(self.msg_depr % (key, alt_key))\n"
     ]
    }
   ],
   "source": [
    "import pandas as pd\n",
    "import numpy as np\n",
    "\n",
    "import seaborn as sns\n",
    "\n",
    "import matplotlib.pyplot as plt\n",
    "\n",
    "import warnings\n",
    "warnings.filterwarnings('ignore')\n",
    "\n",
    "%matplotlib inline"
   ]
  },
  {
   "cell_type": "code",
   "execution_count": 2,
   "metadata": {
    "collapsed": true
   },
   "outputs": [],
   "source": [
    "train = pd.read_csv('./data/train.csv', index_col='id', encoding=\"ISO-8859-1\")\n",
    "test = pd.read_csv('./data/test.csv', index_col='id', encoding=\"ISO-8859-1\")\n",
    "\n",
    "products_description = pd.read_csv('./data/product_descriptions.csv')\n",
    "products_attributes = pd.read_csv('./data/attributes.csv')"
   ]
  },
  {
   "cell_type": "code",
   "execution_count": 3,
   "metadata": {
    "collapsed": true
   },
   "outputs": [],
   "source": [
    "# merge datasets\n",
    "train_merged = pd.merge(train, products_description, how='left', on='product_uid')\n",
    "test_merged = pd.merge(test, products_description, how='left', on='product_uid')"
   ]
  },
  {
   "cell_type": "code",
   "execution_count": 4,
   "metadata": {
    "collapsed": false
   },
   "outputs": [
    {
     "data": {
      "text/plain": [
       "'Not only do angles make joints stronger, they also provide more consistent, straight corners. Simpson Strong-Tie offers a wide variety of angles in various sizes and thicknesses to handle light-duty jobs or projects where a structural connection is needed. Some can be bent (skewed) to match the project. For outdoor projects or those where moisture is present, use our ZMAX zinc-coated connectors, which provide extra resistance against corrosion (look for a \"Z\" at the end of the model number).Versatile connector for various 90 connections and home repair projectsStronger than angled nailing or screw fastening aloneHelp ensure joints are consistently straight and strongDimensions: 3 in. x 3 in. x 1-1/2 in.Made from 12-Gauge steelGalvanized for extra corrosion resistanceInstall with 10d common nails or #9 x 1-1/2 in. Strong-Drive SD screws'"
      ]
     },
     "execution_count": 4,
     "metadata": {},
     "output_type": "execute_result"
    }
   ],
   "source": [
    "train_merged.ix[0].product_description"
   ]
  },
  {
   "cell_type": "code",
   "execution_count": 226,
   "metadata": {
    "collapsed": true
   },
   "outputs": [],
   "source": [
    "import re"
   ]
  },
  {
   "cell_type": "code",
   "execution_count": 219,
   "metadata": {
    "collapsed": false
   },
   "outputs": [
    {
     "data": {
      "text/plain": [
       "'Not only do angles make joints stronger, they also provide more consistent, straight corners. Simpson Strong-Tie offers a wide variety of angles in various sizes and thicknesses to handle light-duty jobs or projects where a structural connection is needed. Some can be bent (skewed) to match the project. For outdoor projects or those where moisture is present, use our ZMAX zinc-coated connectors, which provide extra resistance against corrosion (look for a \"Z\" at the end of the model number).Versatile connector for various 90 connections and home repair projects. Stronger than angled nailing or screw fastening alone. Help ensure joints are consistently straight and strong. Dimensions: 3 in. x 3 in. x 1-1/2 in.Made from 12-Gauge steel. Galvanized for extra corrosion resistance. Install with 10d common nails or #9 x 1-1/2 in. Strong-Drive SD screws'"
      ]
     },
     "execution_count": 219,
     "metadata": {},
     "output_type": "execute_result"
    }
   ],
   "source": [
    "def addPeriod(matchobj):\n",
    "    matched_group = matchobj.group(0)\n",
    "    uppercase_index = re.search(r'[A-Z]', matched_group).start()\n",
    "    return matched_group[:uppercase_index] + '. ' + matched_group[uppercase_index:]\n",
    "re.sub(r'[a-z]+[A-Z][a-z]+', addPeriod, train_merged.ix[0].product_description)"
   ]
  },
  {
   "cell_type": "code",
   "execution_count": 5,
   "metadata": {
    "collapsed": false
   },
   "outputs": [
    {
     "name": "stdout",
     "output_type": "stream",
     "text": [
      "Simpson Strong-Tie 12-Gauge Angle\n",
      "Simpson Strong-Tie 12-Gauge Angle\n",
      "BEHR Premium Textured DeckOver 1-gal. #SC-141 Tugboat Wood and Concrete Coating\n",
      "Delta Vero 1-Handle Shower Only Faucet Trim Kit in Chrome (Valve Not Included)\n",
      "Delta Vero 1-Handle Shower Only Faucet Trim Kit in Chrome (Valve Not Included)\n",
      "Whirlpool 1.9 cu. ft. Over the Range Convection Microwave in Stainless Steel with Sensor Cooking\n",
      "Whirlpool 1.9 cu. ft. Over the Range Convection Microwave in Stainless Steel with Sensor Cooking\n",
      "Whirlpool 1.9 cu. ft. Over the Range Convection Microwave in Stainless Steel with Sensor Cooking\n",
      "Lithonia Lighting Quantum 2-Light Black LED Emergency Fixture Unit\n",
      "House of Fara 3/4 in. x 3 in. x 8 ft. MDF Fluted Casing\n",
      "Valley View Industries Metal Stakes (4-Pack)\n",
      "Toro Personal Pace Recycler 22 in. Variable Speed Self-Propelled Gas Lawn Mower with Briggs &amp; Stratton Engine\n",
      "Toro Personal Pace Recycler 22 in. Variable Speed Self-Propelled Gas Lawn Mower with Briggs &amp; Stratton Engine\n",
      "Toro Personal Pace Recycler 22 in. Variable Speed Self-Propelled Gas Lawn Mower with Briggs &amp; Stratton Engine\n",
      "Hampton Bay Caramel Simple Weave Bamboo Rollup Shade - 96 in. W x 72 in. L\n",
      "InSinkErator SinkTop Switch Single Outlet for InSinkErator Disposers\n",
      "Sunjoy Calais 8 ft. x 5 ft. x 8 ft. Steel Tile Fabric Grill Gazebo\n",
      "MD Building Products 36 in. x 36 in. Cloverleaf Aluminum Sheet, Silver\n",
      "MD Building Products 36 in. x 36 in. Cloverleaf Aluminum Sheet, Silver\n",
      "MD Building Products 36 in. x 36 in. Cloverleaf Aluminum Sheet, Silver\n",
      "MD Building Products 36 in. x 36 in. Cloverleaf Aluminum Sheet, Silver\n",
      "House of Fara 8 Linear ft. MDF Overlapping Wainscot Interior Paneling Kit\n",
      "House of Fara 8 Linear ft. MDF Overlapping Wainscot Interior Paneling Kit\n",
      "House of Fara 8 Linear ft. MDF Overlapping Wainscot Interior Paneling Kit\n",
      "House of Fara 8 Linear ft. MDF Overlapping Wainscot Interior Paneling Kit\n",
      "House of Fara 8 Linear ft. MDF Overlapping Wainscot Interior Paneling Kit\n",
      "House of Fara 8 Linear ft. MDF Overlapping Wainscot Interior Paneling Kit\n",
      "1804 Dual Spray Half Pattern 4 in Pop-Up Spray Head\n",
      "1804 Dual Spray Half Pattern 4 in Pop-Up Spray Head\n",
      "Samsung 4.2 cu. ft. Front Load Washer with Steam in White, ENERGY STAR\n",
      "Samsung 4.2 cu. ft. Front Load Washer with Steam in White, ENERGY STAR\n",
      "Samsung 4.2 cu. ft. Front Load Washer with Steam in White, ENERGY STAR\n",
      "Quikrete 80 lb. Crack-Resistant Concrete\n",
      "Quikrete 80 lb. Crack-Resistant Concrete\n",
      "Quikrete 80 lb. Crack-Resistant Concrete\n",
      "Nantucket Pavers Patio-on-a-Pallet 10 ft. x 10 ft. Concrete Tan Variegated Basketweave Yorkstone Paver\n",
      "Nantucket Pavers Patio-on-a-Pallet 10 ft. x 10 ft. Concrete Tan Variegated Basketweave Yorkstone Paver\n",
      "UltraTouch 48 in. x 24 ft. Radiant Barrier\n",
      "Backyard X-Scapes 6 ft. H. x 16 ft. L Reed Fencing\n",
      "Backyard X-Scapes 6 ft. H. x 16 ft. L Reed Fencing\n",
      "Backyard X-Scapes 6 ft. H. x 16 ft. L Reed Fencing\n",
      "Backyard X-Scapes 6 ft. H. x 16 ft. L Reed Fencing\n",
      "Backyard X-Scapes 6 ft. H. x 16 ft. L Reed Fencing\n",
      "DecoArt Americana Decor 16-oz. Whisper Chalky Finish\n",
      "9.1 in. x 5.8 in. White Designer Shelf Bracket\n",
      "9.1 in. x 5.8 in. White Designer Shelf Bracket\n",
      "9.1 in. x 5.8 in. White Designer Shelf Bracket\n",
      "HDX 48 in. W x 72 in. H x 18 in. D Decorative Wire Chrome Finish Commercial Shelving Unit\n",
      "HDX 48 in. W x 72 in. H x 18 in. D Decorative Wire Chrome Finish Commercial Shelving Unit\n",
      "HDX 48 in. W x 72 in. H x 18 in. D Decorative Wire Chrome Finish Commercial Shelving Unit\n",
      "HDX 48 in. W x 72 in. H x 18 in. D Decorative Wire Chrome Finish Commercial Shelving Unit\n",
      "HDX 48 in. W x 72 in. H x 18 in. D Decorative Wire Chrome Finish Commercial Shelving Unit\n",
      "HDX 48 in. W x 72 in. H x 18 in. D Decorative Wire Chrome Finish Commercial Shelving Unit\n",
      "HDX 48 in. W x 72 in. H x 18 in. D Decorative Wire Chrome Finish Commercial Shelving Unit\n",
      "HDX 48 in. W x 72 in. H x 18 in. D Decorative Wire Chrome Finish Commercial Shelving Unit\n",
      "HDX 48 in. W x 72 in. H x 18 in. D Decorative Wire Chrome Finish Commercial Shelving Unit\n",
      "Marshalltown Masonry Brush\n",
      "Rubbermaid 12 in. D Single Track Bracket\n",
      "Rubbermaid 12 in. D Single Track Bracket\n",
      "Rubbermaid 12 in. D Single Track Bracket\n",
      "Rubbermaid 12 in. D Single Track Bracket\n",
      "Husky 9-Pocket Maintenance Pouch\n",
      "RIDGID X4 18-Volt 1/2 in. Impact Wrench (Tool Only)\n",
      "RIDGID X4 18-Volt 1/2 in. Impact Wrench (Tool Only)\n",
      "Emberglow 25,000 BTU Vent-Free Dual Fuel Gas Stove with Thermostat\n",
      "Emberglow 25,000 BTU Vent-Free Dual Fuel Gas Stove with Thermostat\n",
      "Emberglow 25,000 BTU Vent-Free Dual Fuel Gas Stove with Thermostat\n",
      "Emberglow 25,000 BTU Vent-Free Dual Fuel Gas Stove with Thermostat\n",
      "American Standard Cadet 3 FloWise 2-piece 1.28 GPF Round Front Toilet in Bone\n",
      "American Standard Cadet 3 FloWise 2-piece 1.28 GPF Round Front Toilet in Bone\n",
      "Sumner Street Home Hardware Grayson 2-1/2 in. Oil Rubbed Bronze Cup Pull\n",
      "HDX 6 ft. Heavy Duty Steel Green Painted T-Post\n",
      "HDX 6 ft. Heavy Duty Steel Green Painted T-Post\n",
      "HDX 6 ft. Heavy Duty Steel Green Painted T-Post\n",
      "HDX 6 ft. Heavy Duty Steel Green Painted T-Post\n",
      "HDX 6 ft. Heavy Duty Steel Green Painted T-Post\n",
      "Crown Bolt 24 in. x 1/2 in. x 12 in. Plain Metal Expanded Sheet\n",
      "Crown Bolt 24 in. x 1/2 in. x 12 in. Plain Metal Expanded Sheet\n",
      "Crown Bolt 24 in. x 1/2 in. x 12 in. Plain Metal Expanded Sheet\n",
      "Henry 587 4.75 Gal. White Roof Coating\n",
      "Hampton Bay Beverly Patio Dining Arm Chairs with Custom Cushion (2-Pack)\n",
      "Hampton Bay Spring Haven Brown All-Weather Wicker Patio Lounge Chair with Sky Blue Cushions\n",
      "Hampton Bay Spring Haven Brown All-Weather Wicker Patio Lounge Chair with Sky Blue Cushions\n",
      "Hampton Bay Spring Haven Brown All-Weather Wicker Patio Lounge Chair with Sky Blue Cushions\n",
      "60 in. x 150 ft. 10/10 Remesh\n",
      "Stanley Doors 36 in. x 80 in. Chatham 3/4 Lite 1-Panel Prefinished Steel Prehung Front Door\n",
      "Stanley Doors 36 in. x 80 in. Chatham 3/4 Lite 1-Panel Prefinished Steel Prehung Front Door\n",
      "Stanley Doors 36 in. x 80 in. Chatham 3/4 Lite 1-Panel Prefinished Steel Prehung Front Door\n",
      "MOEN Essie Single-Handle Pull-Down Sprayer Kitchen Faucet in Spot Resist Stainless with Soap Dispenser\n",
      "MOEN Essie Single-Handle Pull-Down Sprayer Kitchen Faucet in Spot Resist Stainless with Soap Dispenser\n",
      "MOEN Essie Single-Handle Pull-Down Sprayer Kitchen Faucet in Spot Resist Stainless with Soap Dispenser\n",
      "MOEN Essie Single-Handle Pull-Down Sprayer Kitchen Faucet in Spot Resist Stainless with Soap Dispenser\n",
      "MOEN Essie Single-Handle Pull-Down Sprayer Kitchen Faucet in Spot Resist Stainless with Soap Dispenser\n",
      "Bare Ground 4 Gal. Liquid De-Icer (Case-4)\n",
      "Owens Corning R-19 Kraft Faced Insulation Batts 15 in. x 93 in.\n",
      "Owens Corning R-19 Kraft Faced Insulation Batts 15 in. x 93 in.\n",
      "Owens Corning R-19 Kraft Faced Insulation Batts 15 in. x 93 in.\n",
      "Owens Corning R-19 Kraft Faced Insulation Batts 15 in. x 93 in.\n",
      "Owens Corning R-19 Kraft Faced Insulation Batts 15 in. x 93 in.\n",
      "Gama Sonic 40-LED Rechargeable Battery-Powered Emergency Lantern\n"
     ]
    }
   ],
   "source": [
    "for title in train.product_title[:100]:\n",
    "    print title"
   ]
  },
  {
   "cell_type": "code",
   "execution_count": 8,
   "metadata": {
    "collapsed": false
   },
   "outputs": [],
   "source": [
    "train['num_titles'] = train.product_title.map(lambda x: len(x.split(' ')))"
   ]
  },
  {
   "cell_type": "code",
   "execution_count": 9,
   "metadata": {
    "collapsed": false
   },
   "outputs": [
    {
     "data": {
      "image/png": "[encoded data removed]",
      "text/plain": [
       "<matplotlib.figure.Figure at 0x29b4dc50>"
      ]
     },
     "metadata": {},
     "output_type": "display_data"
    }
   ],
   "source": [
    "plt.scatter(train.num_titles, train.relevance);"
   ]
  },
  {
   "cell_type": "code",
   "execution_count": 12,
   "metadata": {
    "collapsed": true
   },
   "outputs": [],
   "source": [
    "def jaccard_distance(df):\n",
    "    '''\n",
    "    Jaccard distance = A intersection B / A U B\n",
    "    '''\n",
    "    search_term = set(df['search_term'])\n",
    "    product_title = set(df['product_title'])\n",
    "    \n",
    "    return len(search_term & product_title) * 1. / len(search_term | product_title)\n",
    "\n",
    "train['jaccard_distance'] = train.apply(jaccard_distance, axis=1)"
   ]
  },
  {
   "cell_type": "code",
   "execution_count": 13,
   "metadata": {
    "collapsed": false
   },
   "outputs": [
    {
     "data": {
      "text/plain": [
       "<matplotlib.collections.PathCollection at 0x29e8c128>"
      ]
     },
     "execution_count": 13,
     "metadata": {},
     "output_type": "execute_result"
    },
    {
     "data": {
      "image/png": "[encoded data removed]",
      "text/plain": [
       "<matplotlib.figure.Figure at 0x2f5a9160>"
      ]
     },
     "metadata": {},
     "output_type": "display_data"
    }
   ],
   "source": [
    "plt.scatter(train.jaccard_distance, train.relevance, alpha=0.3)"
   ]
  },
  {
   "cell_type": "code",
   "execution_count": 17,
   "metadata": {
    "collapsed": false
   },
   "outputs": [
    {
     "data": {
      "text/plain": [
       "(54667L,)"
      ]
     },
     "execution_count": 17,
     "metadata": {},
     "output_type": "execute_result"
    }
   ],
   "source": [
    "product_search_term_frequency = train.groupby('product_uid').size()"
   ]
  },
  {
   "cell_type": "code",
   "execution_count": 18,
   "metadata": {
    "collapsed": false
   },
   "outputs": [
    {
     "data": {
      "text/plain": [
       "(74067L,)"
      ]
     },
     "execution_count": 18,
     "metadata": {},
     "output_type": "execute_result"
    }
   ],
   "source": [
    "train.product_uid.shape"
   ]
  },
  {
   "cell_type": "code",
   "execution_count": 10,
   "metadata": {
    "collapsed": true
   },
   "outputs": [],
   "source": [
    "a = set(['a', 'b', 'c'])\n",
    "b = set(['a', 'd', 'e'])\n",
    "\n",
    "a_intersection_b = a & b"
   ]
  },
  {
   "cell_type": "code",
   "execution_count": 11,
   "metadata": {
    "collapsed": false
   },
   "outputs": [
    {
     "data": {
      "text/plain": [
       "{'a'}"
      ]
     },
     "execution_count": 11,
     "metadata": {},
     "output_type": "execute_result"
    }
   ],
   "source": [
    "a_intersection_b"
   ]
  },
  {
   "cell_type": "code",
   "execution_count": 15,
   "metadata": {
    "collapsed": false
   },
   "outputs": [
    {
     "data": {
      "text/html": [
       "<div>\n",
       "<table border=\"1\" class=\"dataframe\">\n",
       "  <thead>\n",
       "    <tr style=\"text-align: right;\">\n",
       "      <th></th>\n",
       "      <th>product_uid</th>\n",
       "      <th>name</th>\n",
       "      <th>value</th>\n",
       "    </tr>\n",
       "  </thead>\n",
       "  <tbody>\n",
       "  </tbody>\n",
       "</table>\n",
       "</div>"
      ],
      "text/plain": [
       "Empty DataFrame\n",
       "Columns: [product_uid, name, value]\n",
       "Index: []"
      ]
     },
     "execution_count": 15,
     "metadata": {},
     "output_type": "execute_result"
    }
   ],
   "source": [
    "products_attributes[]"
   ]
  },
  {
   "cell_type": "code",
   "execution_count": null,
   "metadata": {
    "collapsed": true
   },
   "outputs": [],
   "source": []
  },
  {
   "cell_type": "code",
   "execution_count": null,
   "metadata": {
    "collapsed": true
   },
   "outputs": [],
   "source": []
  },
  {
   "cell_type": "code",
   "execution_count": null,
   "metadata": {
    "collapsed": true
   },
   "outputs": [],
   "source": []
  },
  {
   "cell_type": "code",
   "execution_count": null,
   "metadata": {
    "collapsed": true
   },
   "outputs": [],
   "source": []
  },
  {
   "cell_type": "code",
   "execution_count": null,
   "metadata": {
    "collapsed": true
   },
   "outputs": [],
   "source": []
  },
  {
   "cell_type": "code",
   "execution_count": null,
   "metadata": {
    "collapsed": true
   },
   "outputs": [],
   "source": []
  }
 ],
 "metadata": {
  "kernelspec": {
   "display_name": "Python 2",
   "language": "python",
   "name": "python2"
  },
  "language_info": {
   "codemirror_mode": {
    "name": "ipython",
    "version": 2
   },
   "file_extension": ".py",
   "mimetype": "text/x-python",
   "name": "python",
   "nbconvert_exporter": "python",
   "pygments_lexer": "ipython2",
   "version": "2.7.11"
  }
 },
 "nbformat": 4,
 "nbformat_minor": 0
}
