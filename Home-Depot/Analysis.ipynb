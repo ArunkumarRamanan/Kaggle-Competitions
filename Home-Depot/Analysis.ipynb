{
 "cells": [
  {
   "cell_type": "code",
   "execution_count": 1,
   "metadata": {
    "collapsed": false
   },
   "outputs": [
    {
     "name": "stderr",
     "output_type": "stream",
     "text": [
      "C:\\Users\\Abhishek\\Anaconda2\\lib\\site-packages\\matplotlib\\__init__.py:872: UserWarning: axes.color_cycle is deprecated and replaced with axes.prop_cycle; please use the latter.\n",
      "  warnings.warn(self.msg_depr % (key, alt_key))\n"
     ]
    }
   ],
   "source": [
    "import pandas as pd\n",
    "import numpy as np\n",
    "\n",
    "import seaborn as sns\n",
    "\n",
    "import matplotlib.pyplot as plt\n",
    "\n",
    "import warnings\n",
    "warnings.filterwarnings('ignore')\n",
    "\n",
    "%matplotlib inline"
   ]
  },
  {
   "cell_type": "code",
   "execution_count": 2,
   "metadata": {
    "collapsed": true
   },
   "outputs": [],
   "source": [
    "train = pd.read_csv('./data/train.csv', index_col='id', encoding=\"ISO-8859-1\")\n",
    "test = pd.read_csv('./data/test.csv', index_col='id', encoding=\"ISO-8859-1\")\n",
    "\n",
    "products_description = pd.read_csv('./data/product_descriptions.csv')\n",
    "products_attributes = pd.read_csv('./data/attributes.csv')"
   ]
  },
  {
   "cell_type": "code",
   "execution_count": 3,
   "metadata": {
    "collapsed": true
   },
   "outputs": [],
   "source": [
    "# merge datasets\n",
    "train_merged = pd.merge(train, products_description, how='left', on='product_uid')\n",
    "test_merged = pd.merge(test, products_description, how='left', on='product_uid')"
   ]
  },
  {
   "cell_type": "code",
   "execution_count": 16,
   "metadata": {
    "collapsed": false
   },
   "outputs": [],
   "source": [
    "from sklearn.feature_extraction.text import CountVectorizer"
   ]
  },
  {
   "cell_type": "code",
   "execution_count": 33,
   "metadata": {
    "collapsed": false
   },
   "outputs": [],
   "source": [
    "vec = CountVectorizer()\n",
    "bow = vec.fit_transform(train_merged.search_term)"
   ]
  },
  {
   "cell_type": "code",
   "execution_count": 37,
   "metadata": {
    "collapsed": false
   },
   "outputs": [],
   "source": [
    "import nltk"
   ]
  },
  {
   "cell_type": "code",
   "execution_count": 52,
   "metadata": {
    "collapsed": true
   },
   "outputs": [],
   "source": [
    "search_terms_text = ' '.join(train_merged.search_term)\n",
    "search_terms = search_term_text.split()"
   ]
  },
  {
   "cell_type": "code",
   "execution_count": 53,
   "metadata": {
    "collapsed": false
   },
   "outputs": [],
   "source": [
    "search_terms_freq = nltk.FreqDist(search_terms)"
   ]
  },
  {
   "cell_type": "code",
   "execution_count": 54,
   "metadata": {
    "collapsed": false
   },
   "outputs": [
    {
     "data": {
      "text/plain": [
       "[(u'door', 2643),\n",
       " (u'light', 1976),\n",
       " (u'for', 1803),\n",
       " (u'in', 1657),\n",
       " (u'inch', 1485),\n",
       " (u'wall', 1423),\n",
       " (u'shower', 1421),\n",
       " (u'with', 1416),\n",
       " (u'white', 1351),\n",
       " (u'wood', 1317),\n",
       " (u'x', 1302),\n",
       " (u'tile', 1288),\n",
       " (u'and', 1156),\n",
       " (u'paint', 1112),\n",
       " (u'cabinet', 1061),\n",
       " (u'outdoor', 1033),\n",
       " (u'water', 1015),\n",
       " (u'vanity', 956),\n",
       " (u'kitchen', 949),\n",
       " (u'bathroom', 946),\n",
       " (u'doors', 941),\n",
       " (u'gas', 916),\n",
       " (u'lights', 840),\n",
       " (u'air', 821),\n",
       " (u'led', 802),\n",
       " (u'sink', 786),\n",
       " (u'2', 780),\n",
       " (u'1/2', 772),\n",
       " (u'ceiling', 772),\n",
       " (u'faucet', 766),\n",
       " (u'kit', 760),\n",
       " (u'4', 733),\n",
       " (u'floor', 728),\n",
       " (u'saw', 714),\n",
       " (u'pipe', 712),\n",
       " (u'black', 709),\n",
       " (u'steel', 699),\n",
       " (u'fan', 696),\n",
       " (u'window', 684),\n",
       " (u'lighting', 668),\n",
       " (u'electric', 664),\n",
       " (u'1', 637),\n",
       " (u'glass', 622),\n",
       " (u'metal', 603),\n",
       " (u'heater', 596),\n",
       " (u'3', 588),\n",
       " (u'toilet', 580),\n",
       " (u'wire', 568),\n",
       " (u'6', 564),\n",
       " (u'pvc', 564),\n",
       " (u'12', 560),\n",
       " (u'patio', 548),\n",
       " (u'fence', 538),\n",
       " (u'cover', 531),\n",
       " (u'drill', 527),\n",
       " (u'plastic', 521),\n",
       " (u'tub', 499),\n",
       " (u'base', 498),\n",
       " (u'bulb', 494),\n",
       " (u'range', 485),\n",
       " (u'panel', 477),\n",
       " (u'top', 475),\n",
       " (u'storage', 473),\n",
       " (u'post', 460),\n",
       " (u'bay', 455),\n",
       " (u'vinyl', 454),\n",
       " (u'battery', 452),\n",
       " (u'round', 451),\n",
       " (u'bronze', 447),\n",
       " (u'cabinets', 436),\n",
       " (u'1/4', 436),\n",
       " (u'stainless', 435),\n",
       " (u'filter', 414),\n",
       " (u'spray', 412),\n",
       " (u'table', 409),\n",
       " (u'exterior', 399),\n",
       " (u'tool', 395),\n",
       " (u'double', 395),\n",
       " (u'stone', 392),\n",
       " (u'hose', 392),\n",
       " (u'replacement', 384),\n",
       " (u'bath', 382),\n",
       " (u'3/4', 380),\n",
       " (u'to', 372),\n",
       " (u'in.', 372),\n",
       " (u'bar', 372),\n",
       " (u'30', 369),\n",
       " (u'box', 368),\n",
       " (u'set', 367),\n",
       " (u'dewalt', 366),\n",
       " (u'washer', 366),\n",
       " (u'trim', 364),\n",
       " (u'closet', 358),\n",
       " (u'mount', 357),\n",
       " (u'ft', 353),\n",
       " (u'interior', 353),\n",
       " (u'vent', 353),\n",
       " (u'8', 352),\n",
       " (u'garden', 350),\n",
       " (u'solar', 350),\n",
       " (u'deck', 348),\n",
       " (u'garage', 347),\n",
       " (u'cordless', 340),\n",
       " (u'ge', 337),\n",
       " (u'stove', 330),\n",
       " (u'10', 329),\n",
       " (u'bulbs', 323),\n",
       " (u'chrome', 321),\n",
       " (u'36', 318),\n",
       " (u'5', 316),\n",
       " (u'handle', 314),\n",
       " (u'drain', 313),\n",
       " (u'valve', 310),\n",
       " (u'oak', 307),\n",
       " (u'screen', 306),\n",
       " (u'cable', 299),\n",
       " (u'sliding', 299),\n",
       " (u'grill', 299),\n",
       " (u'24', 299),\n",
       " (u'screw', 298),\n",
       " (u'hampton', 297),\n",
       " (u'stain', 296),\n",
       " (u'board', 294),\n",
       " (u'a', 292),\n",
       " (u'flooring', 290),\n",
       " (u'electrical', 289),\n",
       " (u'pressure', 287),\n",
       " (u'20', 287),\n",
       " (u'nickel', 284),\n",
       " (u'home', 283),\n",
       " (u'switch', 280),\n",
       " (u'moen', 280),\n",
       " (u'parts', 279),\n",
       " (u'covers', 277),\n",
       " (u'mower', 277),\n",
       " (u'lawn', 274),\n",
       " (u'outlet', 273),\n",
       " (u'screws', 273),\n",
       " (u'hardware', 272),\n",
       " (u'christmas', 272),\n",
       " (u'corner', 267),\n",
       " (u'tree', 265),\n",
       " (u'shelf', 261),\n",
       " (u'kohler', 260),\n",
       " (u'oil', 259),\n",
       " (u'bolt', 255),\n",
       " (u'dryer', 255),\n",
       " (u'foot', 253),\n",
       " (u'connector', 252),\n",
       " (u'carpet', 251),\n",
       " (u'single', 249),\n",
       " (u'tiles', 248),\n",
       " (u'refrigerator', 248),\n",
       " (u'60', 247),\n",
       " (u'red', 246),\n",
       " (u'brass', 246),\n",
       " (u'pole', 245),\n",
       " (u'one', 244),\n",
       " (u'copper', 243),\n",
       " (u'plate', 242),\n",
       " (u'concrete', 240),\n",
       " (u'blade', 237),\n",
       " (u'power', 237),\n",
       " (u'sinks', 235),\n",
       " (u'front', 235),\n",
       " (u'fireplace', 233),\n",
       " (u'delta', 231),\n",
       " (u'hot', 228),\n",
       " (u'rod', 226),\n",
       " (u'panels', 223),\n",
       " (u'watt', 223),\n",
       " (u'18', 223),\n",
       " (u'portable', 220),\n",
       " (u'ryobi', 219),\n",
       " (u'rug', 219),\n",
       " (u'propane', 218),\n",
       " (u'head', 218),\n",
       " (u'plug', 217),\n",
       " (u'chain', 216),\n",
       " (u'tape', 216),\n",
       " (u'motion', 216),\n",
       " (u'duct', 215),\n",
       " (u'faucets', 215),\n",
       " (u'behr', 214),\n",
       " (u'gate', 212),\n",
       " (u'track', 211),\n",
       " (u'lock', 208),\n",
       " (u'security', 208),\n",
       " (u'stair', 208),\n",
       " (u'rugs', 208),\n",
       " (u'french', 207),\n",
       " (u'volt', 207),\n",
       " (u'pendant', 207),\n",
       " (u'drawer', 206),\n",
       " (u'hand', 205),\n",
       " (u'mirror', 204),\n",
       " (u'bracket', 204),\n",
       " (u'3/8', 204),\n",
       " (u'blue', 204),\n",
       " (u'line', 202)]"
      ]
     },
     "execution_count": 54,
     "metadata": {},
     "output_type": "execute_result"
    }
   ],
   "source": [
    "search_terms_freq.most_common(200)"
   ]
  },
  {
   "cell_type": "code",
   "execution_count": 45,
   "metadata": {
    "collapsed": true
   },
   "outputs": [],
   "source": [
    "titles_freq = nltk.FreqDist(train_merged.product_title)"
   ]
  },
  {
   "cell_type": "code",
   "execution_count": 51,
   "metadata": {
    "collapsed": false
   },
   "outputs": [
    {
     "data": {
      "text/plain": [
       "21"
      ]
     },
     "execution_count": 51,
     "metadata": {},
     "output_type": "execute_result"
    }
   ],
   "source": [
    "titles_freq['Lithonia Lighting All Season 4 ft. 2-Light Grey T8 Strip Fluorescent Shop Light']"
   ]
  },
  {
   "cell_type": "code",
   "execution_count": 46,
   "metadata": {
    "collapsed": false
   },
   "outputs": [
    {
     "data": {
      "text/plain": [
       "[(u'Pressure-Treated Timber #2 Southern Yellow Pine (Common: 4 in. x 4 in. x 8 ft.; Actual: 3.56 in. x 3.56 in. x 96 in.)',\n",
       "  21),\n",
       " (u'Lithonia Lighting All Season 4 ft. 2-Light Grey T8 Strip Fluorescent Shop Light',\n",
       "  21),\n",
       " (u'2 in. x 4 in. x 96 in. Premium Kiln-Dried Whitewood Stud', 18),\n",
       " (u'Ryobi ONE+ 18-Volt Lithium-Ion Ultimate Combo Kit (6-Tool)', 17),\n",
       " (u'Ryobi ONE+ 18-Volt Lithium-Ion Cordless Drill/Driver and Impact Driver Kit (2-Tool)',\n",
       "  17),\n",
       " (u'Custom Building Products VersaBond Gray 50 lb. Fortified Thin-Set Mortar',\n",
       "  17),\n",
       " (u'Whirlpool Gold Series Top Control Dishwasher in Monochromatic Stainless Steel with Silverware Spray',\n",
       "  15),\n",
       " (u'WeatherShield 2 in. x 4 in. x 8 ft. #2 Prime Prime Pressure-Treated Lumber',\n",
       "  14),\n",
       " (u'23/32 in. x 4 ft. x 8 ft. RTD Sheathing Syp', 14),\n",
       " (u'Oriented Strand Board (Common: 7/16 in. x 4 ft. x 8 ft.; Actual: 0.418 in. x 47.75 in. x 95.75 in.)',\n",
       "  14),\n",
       " (u'Ryobi ONE+ 18-Volt Lithium-Ion Cordless Super Combo Kit (4-Piece)', 14),\n",
       " (u'Owens Corning R-30 Unfaced Insulation Continuous Roll 15 in. x 25 ft.',\n",
       "  14),\n",
       " (u'36 in. x 80 in. 6-Panel Primed Premium Steel Front Door Slab', 14),\n",
       " (u'Whirlpool 1.7 cu. ft. Over the Range Microwave in Stainless Steel', 14),\n",
       " (u'Honeywell 1 in. Allergen Elite Pleated FPR 10 Air Filter - Custom Sizes Available',\n",
       "  14),\n",
       " (u'LG Electronics Refrigerator Water Filter', 14),\n",
       " (u'Honeywell 1 in. Allergen Superior Pleated FPR 9 Air Filter - Custom Sizes Available',\n",
       "  14),\n",
       " (u'Ryobi 18-Volt ONE+ High Capacity LITHIUM+ Battery (2-Pack)', 14),\n",
       " (u'DEWALT 20-Volt Max Lithium-Ion Cordless Combo Kit (2-Tool)', 14),\n",
       " (u'1 in. Depth EZ Flow Heavy Duty (Case of 12)', 13),\n",
       " (u'GE Spacemaker Washer and Electric Dryer in White', 13),\n",
       " (u'BLACK+DECKER 20-Volt Max Lithium-ion String Trimmer and Sweeper Combo Kit',\n",
       "  13),\n",
       " (u'Glacier Bay 2-piece 1.28 GPF High Efficiency Round Toilet in White', 13),\n",
       " (u'JELD-WEN 30 in. x 80 in. Textured 6-Panel Primed Composite Molded Bored Interior Door Slab',\n",
       "  13),\n",
       " (u'Glacier Bay 2-piece High Efficiency Dual Flush Complete Elongated Toilet in White',\n",
       "  13),\n",
       " (u'WeatherShield 2 in. x 6 in. x 12 ft. #2 Prime Pressure-Treated Lumber',\n",
       "  13),\n",
       " (u'Hampton Bay Roanoke 48 in. Iron Indoor/Outdoor Ceiling Fan', 12),\n",
       " (u'Veranda 6 ft. x 36 in. Traditional Pre-Built Rail Kit without Brackets',\n",
       "  12),\n",
       " (u'Owens Corning R-13 Kraft Faced Insulation Roll 15 in. x 32 ft.', 12),\n",
       " (u'Ryobi ONE+ 18-Volt Lithium-Ion Battery and IntelliPort Charger Upgrade Kit',\n",
       "  12),\n",
       " (u'4 in. x 4 in. x 10 ft. #2 Pressure-Treated Timber', 11),\n",
       " (u'Whirlpool 25.2 cu. ft. French Door Refrigerator in Monochromatic Stainless Steel',\n",
       "  11),\n",
       " (u'Andersen 36 in. x 80 in. 4000 Series White Full View Storm Door', 11),\n",
       " (u'SmartSide 48 in. x 96 in. Composite Panel Siding (Actual: 0.315 in. x 48.56 in. x 95.87 in.)',\n",
       "  11),\n",
       " (u'LG Electronics 4.0 DOE cu. ft. High-Efficiency Front Load Washer in White, ENERGY STAR',\n",
       "  11),\n",
       " (u'AIRCARE Humidifier Replacement Wick', 11),\n",
       " (u'Rheem Performance Plus 50 Gal. Tall 9 Year 40,000 BTU High Efficiency Natural Gas Water Heater',\n",
       "  11),\n",
       " (u'Roberts 100 sq. ft. Roll of Serenity Foam Laminate Underlayment', 10),\n",
       " (u'MARAZZI Montagna Natural 6 in. x 24 in Glazed Porcelain Floor and Wall Tile (14.53 sq. ft. / case)',\n",
       "  10),\n",
       " (u'1/16 in. x 4 ft. x 8 ft. Plastic Panel', 10),\n",
       " (u'MARAZZI Montagna Gunstock 6 in. x 24 in. Glazed Porcelain Floor and Wall Tile (14.53 sq. ft. / case)',\n",
       "  10),\n",
       " (u'Glacier Bay All-in-One Dual Mount Stainless Steel 33 in. 2-Hole Double Bowl Kitchen Sink',\n",
       "  10),\n",
       " (u'Jason Industrial Dual V-Belt', 10),\n",
       " (u'5/8 in. x 5-1/2 in. x 6 ft. Pressure-Treated Pine Dog-Ear Fence Picket',\n",
       "  10),\n",
       " (u'YARDGARD 1-3/8 in x 10 ft. 6 in. 17-Gauge Galvanized Top Rail', 10),\n",
       " (u'48 lb. Leveling Sand', 10),\n",
       " (u'Makita 18-Volt Lithium-Ion Compact Combo Kit (2-Tool)', 10),\n",
       " (u'ECHO 2 Cycle 21.2 cc Straight Shaft Gas Trimmer', 10),\n",
       " (u'2 in. x 4 in. x 8 ft. #2 Pressure-Treated Lumber', 10),\n",
       " (u'18 in. x 24 in. Traditional 1 PVC Decorative Backsplash Panel in Bermuda Bronze',\n",
       "  10),\n",
       " (u'Home Decorators Collection Petersford 52 in. Brushed Nickel LED Ceiling Fan',\n",
       "  10),\n",
       " (u'Lund 60 in. Cross Bed Truck Tool Box', 10),\n",
       " (u'Rheem PROTECH ULN Pilot Assembly Replacement Kit for GE, Hot Point and Sure Comfort Ultra Low Nox Natural Gas Water Heaters',\n",
       "  9),\n",
       " (u'Whirlpool Duet 4.2 cu. ft. High-Efficiency Front Load Washer in White, ENERGY STAR',\n",
       "  9),\n",
       " (u'Frigidaire 25.54 cu. ft. Side by Side Refrigerator in Stainless Steel', 9),\n",
       " (u'Smart Tiles 10.20 in. x 9.10 in. Mosaic Adhesive Decorative Wall Tile Backsplash Murano Metallic in Grey (6-Piece)',\n",
       "  9),\n",
       " (u'Samsung 25.5 cu. ft. French Door Refrigerator in Stainless Steel', 9),\n",
       " (u'RIDGID 15 Amp 10 in. Heavy-Duty Portable Table Saw with Stand', 9),\n",
       " (u'Schon All-in-One Undermount Stainless Steel 30 in. 0-Hole Double Bowl Kitchen Sink with Faucet',\n",
       "  9),\n",
       " (u'TrafficMASTER Portland Stone Gray 18 in. x 18 in. Glazed Ceramic Floor and Wall Tile (17.44 sq. ft. / case)',\n",
       "  9),\n",
       " (u'Daltile Catalina Canyon Noce 12 in. x 12 in. Porcelain Floor and Wall Tile (15 sq. ft. / case)',\n",
       "  9),\n",
       " (u'Daltile Folkstone Sandy Beach 12 in. x 12 in. x 8 mm Porcelain Brick-Joint Mosaic Tile',\n",
       "  9),\n",
       " (u'Global Specialty Products Dimensions Faux 2 ft. x 4 ft. Tin Style Ceiling and Wall Tiles in White',\n",
       "  9),\n",
       " (u'Andersen 36 in. x 80 in. 3000 Series White Self-Storing Easy Install Storm Door',\n",
       "  9),\n",
       " (u'MARAZZI Montagna Wood Vintage Chic 6 in. x 24 in. Porcelain Floor and Wall Tile (14.53 sq. ft. / case)',\n",
       "  9),\n",
       " (u'Glacier Bay 1-piece High Efficiency Dual Flush Elongated Toilet in White',\n",
       "  9),\n",
       " (u'Coolaroo Walnut Cordless Exterior Roller Shade', 9),\n",
       " (u'MARAZZI Montagna White Wash 6 in. x 24 in Glazed Porcelain Floor and Wall Tile (14.53 sq. ft. /case)',\n",
       "  9),\n",
       " (u'BLACK+DECKER 40-Volt Electric Cordless Straight Shaft String Trimmer', 9),\n",
       " (u'EGO 20 in. 56-Volt Lithium-ion Cordless Lawn Mower', 9),\n",
       " (u'15/32 in. x 4 ft. x 8 ft. 3-Ply RTD Sheathing', 9),\n",
       " (u'Home Decorators Collection Cut-to-Width 2 in. Faux Wood Blind', 9),\n",
       " (u'Andersen 36 in. x 80 in. 2500 Series White Self-Storing Storm Door', 9),\n",
       " (u'MARAZZI Montagna Rustic Bay 6 in. x 24 in. Glazed Porcelain Floor and Wall Tile (14.53 sq. ft. / case)',\n",
       "  9),\n",
       " (u'1 in. Depth EZ Flow Metal Retainer (Case of 12)', 9),\n",
       " (u'DEWALT 20-Volt Max Lithium-Ion 1/2 in. Cordless Drill/Driver Kit', 9),\n",
       " (u'Sheetrock UltraLight 1/2 in. x 4 ft. x 8 ft. Gypsum Board', 9),\n",
       " (u'Steves &amp; Sons 2-Panel Barn Solid Core Unfinished Knotty Alder Interior Door Slab',\n",
       "  9),\n",
       " (u'UltraTouch 16 in. x 48 in. Denim Insulation Multi-Purpose Roll (6-Pack)',\n",
       "  9),\n",
       " (u'LG Electronics 7.3 cu. ft. Electric Dryer in White', 9),\n",
       " (u'Cub Cadet XT1 Enduro Series LT 46 in. 22 HP V-Twin Kohler Hydrostatic Gas Front-Engine Riding Mower',\n",
       "  9),\n",
       " (u'MS International Golden Honey Ledger Panel 6 in. x 24 in. Natural Quartzite Wall Tile (6 sq. ft. / case)',\n",
       "  9),\n",
       " (u'Hampton Bay 4-Light Universal Ceiling Fan Light Kit with Shatter Resistant Shades',\n",
       "  9),\n",
       " (u'MS International Golden Honey Ledger Panel 6 in. x 24 in. Natural Quartzite Wall Tile (5 cases / 30 sq. ft. / pallet)',\n",
       "  9),\n",
       " (u'Rheem EcoSense 9.5 GPM Liquid Propane Gas High Efficiency Indoor Tankless Gas Water Heater',\n",
       "  9),\n",
       " (u'Delta Clear Knob Replacement Handle with Chrome Arrow Button for Tub and Shower Faucets',\n",
       "  9),\n",
       " (u'Genie QuietLift 800 1/2 HP DC Motor Belt Drive Garage Door Opener', 9),\n",
       " (u'EUCATILE 32 sq. ft. 96 in. x 48 in. Hardboard Thrifty White Tile Board',\n",
       "  9),\n",
       " (u'Hampton Bay Fall River 7-Piece Patio Dining Set with Dragonfruit Cushion',\n",
       "  9),\n",
       " (u'HDX 48 in. W x 72 in. H x 18 in. D Decorative Wire Chrome Finish Commercial Shelving Unit',\n",
       "  9),\n",
       " (u'Wyndham Collection Avara 60 in. Vanity in Espresso with Double Basin Glass Vanity Top in Aqua and Medicine Cabinets',\n",
       "  9),\n",
       " (u'Honeywell 1 in. Allergen Plus Pleated FPR 7 Air Filter - Custom Sizes Available',\n",
       "  9),\n",
       " (u'Mueller Streamline 1-1/2 in. PVC DWV 45-Degree Hub x Hub Elbow', 9),\n",
       " (u'Prepac Elite 32 in. Wood Laminate Cabinet in White', 9),\n",
       " (u'LG Electronics 8,000 BTU Window Air Conditioner with Remote', 9),\n",
       " (u'Hampton Bay 1-Light Black Outdoor Wall Lantern', 8),\n",
       " (u'Ryobi ONE+ 18-Volt Cordless String Trimmer/Edger - Battery and Charger Not Included',\n",
       "  8),\n",
       " (u'6 in. x 6 in. x 8 ft. #2 Pressure-Treated Timber', 8),\n",
       " (u'Andersen 37.625 in. x 56.875 in. 400 Series Tilt-Wash Double-Hung Wood Window - White',\n",
       "  8),\n",
       " (u'GE 7.5 ft. Just Cut Colorado Spruce EZ Light Artificial Christmas Tree with 400 Color Choice LED Lights',\n",
       "  8),\n",
       " (u'60x34.5x24 in. Sink Base Cabinet in Unfinished Oak', 8),\n",
       " (u'Veranda White Vinyl Linden Pro Privacy Fence Panel Kit (Common: 6 ft. x 8 ft.; Actual: 68 in. x 91 in.)',\n",
       "  8),\n",
       " (u'GE 40W Equivalent Soft White G16.5 Globe Candelabra Base Dimmable LED Light Bulb (2-Pack)',\n",
       "  8),\n",
       " (u'TAFCO WINDOWS Vinyl Casement Window with Screen', 8),\n",
       " (u'JELD-WEN Smooth 6-Panel Hollow Core Molded Interior Closet Bi-fold Door',\n",
       "  8),\n",
       " (u'HOME-FLEX 1/2 in. x 25 ft. CSST Corrugated Stainless Steel Tubing', 8),\n",
       " (u'Ryobi 40-Volt Lithium-Ion Cordless Attachment Capable String Trimmer', 8),\n",
       " (u'Samsung 30 in. W 1.6 cu. ft. Over the Range Microwave in Stainless Steel',\n",
       "  8),\n",
       " (u'Cub Cadet 1.5 in. 159cc Gas Chipper Shredder Vacuum', 8),\n",
       " (u'Milliken Millwork 60 in. x 80 in. Classic Clear Glass 1-Lite Composite Double Prehung Interior French Door',\n",
       "  8),\n",
       " (u'Smart Tiles 10.13 in. x 10 in. Peel and Stick Mosaic Decorative Wall Tile in Bellagio (6-Pack)',\n",
       "  8),\n",
       " (u'MS International Bologna Chiaro 3 in. x 6 in. Tumbled Travertine Floor and Wall Tile (1 sq. ft. / case)',\n",
       "  8),\n",
       " (u'Feather River Doors Privacy Woodgrain 1 Lite Unfinished Cherry Interior Door Slab',\n",
       "  8),\n",
       " (u'JELD-WEN 30 in. x 80 in. Woodgrain Flush Unfinished Hardwood Bored Interior Door Slab',\n",
       "  8),\n",
       " (u'EcoSmart 60-Watt Equivalent Daylight (5000K) Spiral CFL Light Bulb (4-Pack)',\n",
       "  8),\n",
       " (u'Rheem EcoSense 9.5 GPM Natural Gas High Efficiency Indoor Tankless Gas Water Heater',\n",
       "  8),\n",
       " (u'Cub Cadet XT1 Enduro Series LT 42 in. 18 HP Kohler Hydrostatic Gas Front-Engine Riding Mower',\n",
       "  8),\n",
       " (u'James Hardie HardiePlank HZ10 5/16 in. x 8.25 in. x 144 in. Fiber Cement Select Cedarmill Lap Siding',\n",
       "  8),\n",
       " (u'Rheem 1 in. Depth Standard Pleated FPR 4 (Case of 12)', 8),\n",
       " (u'Veranda 4 in. x 4 in. White New England Base Trim', 8),\n",
       " (u'Lithonia Lighting 2-Light White T12 Fluorescent Shop Light', 8),\n",
       " (u'Rheem EcoSense 8.4 GPM Natural Gas High Efficiency Indoor Tankless Gas Water Heater',\n",
       "  8),\n",
       " (u'Glacier Bay Constructor 4 in. Centerset 2-Handle Low-Arc Bathroom Faucet in Chrome',\n",
       "  8),\n",
       " (u'Global Specialty Products Dimensions Faux 2 ft. x 4 ft. Glue-up Tin Style White Ceiling Tile for Surface Mount',\n",
       "  8),\n",
       " (u'Lithonia Lighting 2-Light White Ceiling Commercial Strip Fluorescent Light',\n",
       "  8),\n",
       " (u'Underlayment (Common: 7/32 in. x 4 ft. x 8 ft.; Actual: 0.196 in. x 48 in. x 96 in.)',\n",
       "  8),\n",
       " (u'American Craftsman 31 in. x 19 in. 70 Series Slider Dual Venting Buck Vinyl Window - White',\n",
       "  8),\n",
       " (u'Barrette 6 ft. x 8 ft. Pressure-Treated Pine 4 in. Dog-Ear Fence Panel',\n",
       "  8),\n",
       " (u'ClosetMaid Selectives 25 in. White Custom Closet Organizer', 8),\n",
       " (u'WeatherShield 2 in. x 6 in. x 8 ft. #2 Prime Pressure-Treated Lumber', 8),\n",
       " (u'2.5 in. x 2.5 in. x 8 ft. Pressure-Treated Landscape Timber', 8),\n",
       " (u'LG Electronics 12,000 BTU Window Air Conditioner with Remote', 8),\n",
       " (u'Philips 4 ft. T8 32-Watt Cool White Alto Linear Fluorescent Light Bulb (10-Pack)',\n",
       "  8),\n",
       " (u'Simpson Strong-Tie Z-MAX 2 in. x 6 in. Galvanized Double Shear Face Mount Joist Hanger',\n",
       "  8),\n",
       " (u'4 in. x 4 in. x 12 ft. #2 Pressure-Treated Timber', 8),\n",
       " (u'TrafficMASTER Laguna Bay Cream 12 in. x 12 in. Ceramic Floor and Wall Tile (15 sq. ft. / case)',\n",
       "  8),\n",
       " (u'Owens Corning AttiCat Fiberglass Expanding Blown-in Insulation System', 8),\n",
       " (u'Heath Zenith Wired Door Chime', 8),\n",
       " (u'Home Decorators Collection Hamilton 61 in. W x 22 in. D Double Vanity in White with Granite Vanity Top in Beige',\n",
       "  8),\n",
       " (u'Glacier Bay Lancaster 24 in. Vanity in White with Alpine Vanity Top in White',\n",
       "  8),\n",
       " (u'MS International Greecian White 12 in. x 12 in. Polished Marble Floor and Wall Tile (5 sq. ft. / case)',\n",
       "  8),\n",
       " (u'TrafficMASTER InterLock 5-45/64 in. x 35-45/64 in. x 4 mm Old Hickory Nutmeg Vinyl Plank Flooring (22.66 sq. ft. / case)',\n",
       "  8),\n",
       " (u'Makita 18-Volt LXT Lithium-Ion Brushless Cordless Combo Kit (2-Piece)', 8),\n",
       " (u'Hampton Bay Nutmeg Simple Weave Rollup Shade', 8),\n",
       " (u'Samsung 28.15 cu. ft. 4-Door French Door Refrigerator in Stainless Steel',\n",
       "  8),\n",
       " (u'Whirlpool Duet 7.3 cu. ft. High-Efficiency Electric Dryer in White, ENERGY STAR',\n",
       "  8),\n",
       " (u'Ryobi 155 mph 300 CFM 40-Volt Lithium-Ion Cordless Jet Fan Blower - Battery and Charger Not Included',\n",
       "  8),\n",
       " (u'MOEN Brantford 1-Handle Posi-Temp Tub and Shower Faucet Trim Kit in Brushed Nickel (Valve Sold Separately)',\n",
       "  8),\n",
       " (u'Andersen 32 in. x 80 in. 2500 Series White Self-Storing Storm Door', 8),\n",
       " (u'DEWALT 18-Volt Ni-Cad 1/2 in. Compact Drill/Driver Kit', 8),\n",
       " (u'Ryobi ONE+ 9.5 ft.18-Volt Lithium-ion Cordless Pole Saw - Battery and Charger Not Included',\n",
       "  8),\n",
       " (u'ViaVolt 4 ft. T5 865 High Output (6500K) Fluorescent Grow Light Replacement Bulb',\n",
       "  8),\n",
       " (u'American Standard Champion 4 Max Right Height 2-piece High-Efficiency 1.28 GPF Single Flush Elongated Toilet in White',\n",
       "  8),\n",
       " (u'30,000 BTU/Hr Direct-Vent Furnace Natural Gas Heater with Wall or Cabinet-Mounted Thermostat',\n",
       "  7),\n",
       " (u'Hampton Bay Caramel Simple Weave Flatstick Bamboo Roman Shade', 7),\n",
       " (u'KitchenAid 24 in. Top Control Dishwasher in Stainless Steel with Stainless Steel Tub',\n",
       "  7),\n",
       " (u'Rheem Performance 40 Gal. Tall 6 Year 36,000 BTU Natural Gas Water Heater',\n",
       "  7),\n",
       " (u'Whirlpool 30 in. W 19.7 cu. ft. French Door Refrigerator in Monochromatic Stainless Steel',\n",
       "  7),\n",
       " (u'Quickie Automatic Sponge Mop Refill', 7),\n",
       " (u'Ryobi 18-Volt ONE+ Compact Lithium-Ion Battery (4-Pack)', 7),\n",
       " (u'GE 4 in. x 8 ft. Dryer Duct', 7),\n",
       " (u'Garage Door Insulation Kit (8-Pieces)', 7),\n",
       " (u'MARAZZI Montagna Saddle 6 in. x 24 in Glazed Porcelain Floor and Wall Tile (14.53 sq. ft. / case)',\n",
       "  7),\n",
       " (u'Amana 30 in. W 18.7 cu. ft. Bottom Freezer Refrigerator in Monochromatic Stainless Steel',\n",
       "  7),\n",
       " (u'LG Electronics 6.3 cu. ft. Single Oven Electric Range with Self-Cleaning Convection Oven in Stainless Steel',\n",
       "  7),\n",
       " (u'Glacier Bay 24 in. x 30 in. Recessed or Surface Mount Medicine Cabinet with Deco Framed in Brushed Nickel',\n",
       "  7),\n",
       " (u'James Hardie HardieBacker 3 ft. x 5 ft. x 1/4 in. Cement Backerboard', 7),\n",
       " (u'Sanded Plywood (Common: 1/2 in. x 2 ft. x 4 ft.; Actual: 0.451 in. x 23.75 in. x 47.75 in.)',\n",
       "  7),\n",
       " (u'DEWALT 20-Volt Max Lithium-Ion 6-1/2 in. Cordless Circular Saw (Tool-Only)',\n",
       "  7),\n",
       " (u'Lithonia Lighting 4 ft. Wraparound Fluorescent Ceiling Fixture', 7),\n",
       " (u'Suncast Sutton 7 ft. 3 in. x 7 ft. 4.5 in. Resin Storage Shed', 7),\n",
       " (u'Porter-Cable 4.5 Amp 6 in. Variable Speed Random Orbit Polisher', 7),\n",
       " (u'GE Cafe 6.7 cu. ft. Double Oven Gas Range with Self-Cleaning Convection Oven in Stainless Steel',\n",
       "  7),\n",
       " (u'Furring Strip Board (Common: 2 in. x 2 in. x 8 ft.; Actual: 1.375 in. x 1.37 in. x 96 in.)',\n",
       "  7),\n",
       " (u'Hampton Bay 18x34.5x24 in. Hampton Drawer Base Cabinet with Ball-Bearing Drawer Glides in Satin White',\n",
       "  7),\n",
       " (u'GE Profile 30 in. Gas Cooktop in Stainless Steel with 5 Burners including Power Boil Burner',\n",
       "  7),\n",
       " (u'1 in. Depth EZ Flow II No-Metal (Case of 12)', 7),\n",
       " (u'GE Profile 30 in. Double Electric Wall Oven Self-Cleaning with Convection in Stainless Steel',\n",
       "  7),\n",
       " (u'MOEN Banbury Single-Handle Pull-Out Sprayer Kitchen Faucet in Spot Resist Stainless',\n",
       "  7),\n",
       " (u'Home Decorators Collection Altura 68 in. Oil Rubbed Bronze Ceiling Fan',\n",
       "  7),\n",
       " (u'Cree 100W Equivalent Daylight (5000K) A21 Dimmable LED Light Bulb', 7),\n",
       " (u'Tulen Lawrence 1-Light Outdoor Black Incandescent Wall Light', 7),\n",
       " (u'35,000 BTU/Hr Monterey Top-Vent Gravity Wall Furnace Natural Gas Heater with Wall or Cabinet-Mounted Thermostat',\n",
       "  7),\n",
       " (u'4D Concepts Hanging Wall Corner Shelf Storage', 7),\n",
       " (u'KOHLER Archer Pedestal Combo Bathroom Sink in White', 7),\n",
       " (u'Masonite Mini Blind Painted Steel Prehung Front Door with No Brickmold',\n",
       "  7),\n",
       " (u'Masonite 30 in. x 80 in. Textured 6-Panel Hollow Core Primed Composite Interior Door Slab',\n",
       "  7),\n",
       " (u'Woodgrain 6-Panel Primed Molded Interior Closet Bi-fold Door', 7),\n",
       " (u'6 ft. x 6 ft. Pressure-Treated Cedar-Tone Moulded Fence Kit', 7),\n",
       " (u'KOHLER Verse Top Mount Stainless Steel 33 in. 4-Hole Double Bowl Kitchen Sink',\n",
       "  7),\n",
       " (u'LG Electronics 15,000 BTU Window Air Conditioner with Remote', 7),\n",
       " (u'Dremel Multi-Max Oscillating Tool Kit', 7),\n",
       " (u'Ryobi 18-Volt ONE+ AirStrike 18-Gauge Cordless Brad Nailer (Tool-Only)',\n",
       "  7),\n",
       " (u'TrafficMASTER Ceramica 12 in. x 24 in. Coastal Grey Resilient Vinyl Tile Flooring (30 sq. ft. / case)',\n",
       "  7),\n",
       " (u'Whirlpool Gold 30 in. Convertible Range Hood in Stainless Steel', 7),\n",
       " (u'Everbilt 36 in. Bi-Fold Door Hardware Set', 7),\n",
       " (u'Samsung 30 in. 5.8 cu. ft. Gas Range with Self-Cleaning and Fan Convection Oven in Stainless Steel',\n",
       "  7),\n",
       " (u'All-Pro Gray LED Outdoor Area and Wall Security Light with Replaceable Photo Control',\n",
       "  7),\n",
       " (u'Tenax 3 ft. x 15 ft. Plastic Black Hardware Net', 7),\n",
       " (u'Scotts Earthgro 2 cu. ft. Brown Mulch', 7)]"
      ]
     },
     "execution_count": 46,
     "metadata": {},
     "output_type": "execute_result"
    }
   ],
   "source": [
    "titles_freq.most_common(200)"
   ]
  },
  {
   "cell_type": "code",
   "execution_count": 50,
   "metadata": {
    "collapsed": false
   },
   "outputs": [
    {
     "data": {
      "text/plain": [
       "6536    1.33\n",
       "6537    2.33\n",
       "6538    1.67\n",
       "6539    2.33\n",
       "6540    2.00\n",
       "6541    2.33\n",
       "6542    2.33\n",
       "6543    2.67\n",
       "6544    1.67\n",
       "6545    2.00\n",
       "6546    2.00\n",
       "6547    1.33\n",
       "6548    1.67\n",
       "6549    1.67\n",
       "6550    2.33\n",
       "Name: relevance, dtype: float64"
      ]
     },
     "execution_count": 50,
     "metadata": {},
     "output_type": "execute_result"
    }
   ],
   "source": [
    "title = 'Whirlpool Gold Series Top Control Dishwasher in Monochromatic Stainless Steel with Silverware Spray'\n",
    "train_merged[train_merged.product_title == title].relevance"
   ]
  },
  {
   "cell_type": "code",
   "execution_count": null,
   "metadata": {
    "collapsed": true
   },
   "outputs": [],
   "source": []
  },
  {
   "cell_type": "code",
   "execution_count": null,
   "metadata": {
    "collapsed": true
   },
   "outputs": [],
   "source": []
  },
  {
   "cell_type": "code",
   "execution_count": null,
   "metadata": {
    "collapsed": true
   },
   "outputs": [],
   "source": []
  },
  {
   "cell_type": "code",
   "execution_count": null,
   "metadata": {
    "collapsed": true
   },
   "outputs": [],
   "source": []
  },
  {
   "cell_type": "code",
   "execution_count": null,
   "metadata": {
    "collapsed": true
   },
   "outputs": [],
   "source": []
  },
  {
   "cell_type": "code",
   "execution_count": null,
   "metadata": {
    "collapsed": true
   },
   "outputs": [],
   "source": []
  },
  {
   "cell_type": "code",
   "execution_count": null,
   "metadata": {
    "collapsed": true
   },
   "outputs": [],
   "source": []
  },
  {
   "cell_type": "code",
   "execution_count": null,
   "metadata": {
    "collapsed": true
   },
   "outputs": [],
   "source": []
  },
  {
   "cell_type": "code",
   "execution_count": null,
   "metadata": {
    "collapsed": true
   },
   "outputs": [],
   "source": []
  },
  {
   "cell_type": "code",
   "execution_count": null,
   "metadata": {
    "collapsed": true
   },
   "outputs": [],
   "source": []
  },
  {
   "cell_type": "code",
   "execution_count": null,
   "metadata": {
    "collapsed": true
   },
   "outputs": [],
   "source": []
  },
  {
   "cell_type": "code",
   "execution_count": null,
   "metadata": {
    "collapsed": true
   },
   "outputs": [],
   "source": []
  },
  {
   "cell_type": "code",
   "execution_count": null,
   "metadata": {
    "collapsed": true
   },
   "outputs": [],
   "source": []
  },
  {
   "cell_type": "code",
   "execution_count": null,
   "metadata": {
    "collapsed": true
   },
   "outputs": [],
   "source": []
  },
  {
   "cell_type": "code",
   "execution_count": null,
   "metadata": {
    "collapsed": true
   },
   "outputs": [],
   "source": []
  },
  {
   "cell_type": "code",
   "execution_count": null,
   "metadata": {
    "collapsed": true
   },
   "outputs": [],
   "source": []
  },
  {
   "cell_type": "code",
   "execution_count": null,
   "metadata": {
    "collapsed": true
   },
   "outputs": [],
   "source": []
  },
  {
   "cell_type": "code",
   "execution_count": null,
   "metadata": {
    "collapsed": true
   },
   "outputs": [],
   "source": []
  }
 ],
 "metadata": {
  "kernelspec": {
   "display_name": "Python 2",
   "language": "python",
   "name": "python2"
  },
  "language_info": {
   "codemirror_mode": {
    "name": "ipython",
    "version": 2
   },
   "file_extension": ".py",
   "mimetype": "text/x-python",
   "name": "python",
   "nbconvert_exporter": "python",
   "pygments_lexer": "ipython2",
   "version": "2.7.11"
  }
 },
 "nbformat": 4,
 "nbformat_minor": 0
}
