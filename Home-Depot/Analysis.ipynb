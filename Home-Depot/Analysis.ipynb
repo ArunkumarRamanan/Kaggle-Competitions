{
 "cells": [
  {
   "cell_type": "code",
   "execution_count": 13,
   "metadata": {
    "collapsed": false
   },
   "outputs": [],
   "source": [
    "import pandas as pd\n",
    "import numpy as np\n",
    "\n",
    "import seaborn as sns\n",
    "\n",
    "import matplotlib.pyplot as plt\n",
    "\n",
    "import warnings\n",
    "warnings.filterwarnings('ignore')\n",
    "\n",
    "import re\n",
    "\n",
    "%matplotlib inline"
   ]
  },
  {
   "cell_type": "code",
   "execution_count": 2,
   "metadata": {
    "collapsed": true
   },
   "outputs": [],
   "source": [
    "train = pd.read_csv('./data/train.csv', index_col='id', encoding=\"ISO-8859-1\")\n",
    "test = pd.read_csv('./data/test.csv', index_col='id', encoding=\"ISO-8859-1\")\n",
    "\n",
    "products_description = pd.read_csv('./data/product_descriptions.csv')\n",
    "prod_attributes = pd.read_csv('./data/attributes.csv')"
   ]
  },
  {
   "cell_type": "code",
   "execution_count": 3,
   "metadata": {
    "collapsed": true
   },
   "outputs": [],
   "source": [
    "attributes = prod_attributes[prod_attributes.name == \"MFG Brand Name\"][[\"product_uid\", \"value\"]].rename(columns={\"value\": \"brand\"})"
   ]
  },
  {
   "cell_type": "code",
   "execution_count": 4,
   "metadata": {
    "collapsed": true
   },
   "outputs": [],
   "source": [
    "# merge datasets\n",
    "train_merged = pd.merge(train, products_description, how='left', on='product_uid')\n",
    "test_merged = pd.merge(test, products_description, how='left', on='product_uid')"
   ]
  },
  {
   "cell_type": "code",
   "execution_count": 5,
   "metadata": {
    "collapsed": false
   },
   "outputs": [],
   "source": [
    "import nltk"
   ]
  },
  {
   "cell_type": "code",
   "execution_count": 6,
   "metadata": {
    "collapsed": false
   },
   "outputs": [],
   "source": [
    "search_terms_text = ' '.join(train_merged.search_term)\n",
    "search_terms = search_terms_text.split()"
   ]
  },
  {
   "cell_type": "code",
   "execution_count": 7,
   "metadata": {
    "collapsed": false
   },
   "outputs": [],
   "source": [
    "search_terms_freq = nltk.FreqDist(search_terms)"
   ]
  },
  {
   "cell_type": "code",
   "execution_count": 10,
   "metadata": {
    "collapsed": false
   },
   "outputs": [
    {
     "data": {
      "text/plain": [
       "[(u'door', 2643),\n",
       " (u'light', 1976),\n",
       " (u'for', 1803),\n",
       " (u'in', 1657),\n",
       " (u'inch', 1485),\n",
       " (u'wall', 1423),\n",
       " (u'shower', 1421),\n",
       " (u'with', 1416),\n",
       " (u'white', 1351),\n",
       " (u'wood', 1317),\n",
       " (u'x', 1302),\n",
       " (u'tile', 1288),\n",
       " (u'and', 1156),\n",
       " (u'paint', 1112),\n",
       " (u'cabinet', 1061),\n",
       " (u'outdoor', 1033),\n",
       " (u'water', 1015),\n",
       " (u'vanity', 956),\n",
       " (u'kitchen', 949),\n",
       " (u'bathroom', 946),\n",
       " (u'doors', 941),\n",
       " (u'gas', 916),\n",
       " (u'lights', 840),\n",
       " (u'air', 821),\n",
       " (u'led', 802),\n",
       " (u'sink', 786),\n",
       " (u'2', 780),\n",
       " (u'1/2', 772),\n",
       " (u'ceiling', 772),\n",
       " (u'faucet', 766),\n",
       " (u'kit', 760),\n",
       " (u'4', 733),\n",
       " (u'floor', 728),\n",
       " (u'saw', 714),\n",
       " (u'pipe', 712),\n",
       " (u'black', 709),\n",
       " (u'steel', 699),\n",
       " (u'fan', 696),\n",
       " (u'window', 684),\n",
       " (u'lighting', 668),\n",
       " (u'electric', 664),\n",
       " (u'1', 637),\n",
       " (u'glass', 622),\n",
       " (u'metal', 603),\n",
       " (u'heater', 596),\n",
       " (u'3', 588),\n",
       " (u'toilet', 580),\n",
       " (u'wire', 568),\n",
       " (u'6', 564),\n",
       " (u'pvc', 564),\n",
       " (u'12', 560),\n",
       " (u'patio', 548),\n",
       " (u'fence', 538),\n",
       " (u'cover', 531),\n",
       " (u'drill', 527),\n",
       " (u'plastic', 521),\n",
       " (u'tub', 499),\n",
       " (u'base', 498),\n",
       " (u'bulb', 494),\n",
       " (u'range', 485),\n",
       " (u'panel', 477),\n",
       " (u'top', 475),\n",
       " (u'storage', 473),\n",
       " (u'post', 460),\n",
       " (u'bay', 455),\n",
       " (u'vinyl', 454),\n",
       " (u'battery', 452),\n",
       " (u'round', 451),\n",
       " (u'bronze', 447),\n",
       " (u'cabinets', 436),\n",
       " (u'1/4', 436),\n",
       " (u'stainless', 435),\n",
       " (u'filter', 414),\n",
       " (u'spray', 412),\n",
       " (u'table', 409),\n",
       " (u'exterior', 399),\n",
       " (u'tool', 395),\n",
       " (u'double', 395),\n",
       " (u'stone', 392),\n",
       " (u'hose', 392),\n",
       " (u'replacement', 384),\n",
       " (u'bath', 382),\n",
       " (u'3/4', 380),\n",
       " (u'to', 372),\n",
       " (u'in.', 372),\n",
       " (u'bar', 372),\n",
       " (u'30', 369),\n",
       " (u'box', 368),\n",
       " (u'set', 367),\n",
       " (u'dewalt', 366),\n",
       " (u'washer', 366),\n",
       " (u'trim', 364),\n",
       " (u'closet', 358),\n",
       " (u'mount', 357),\n",
       " (u'ft', 353),\n",
       " (u'interior', 353),\n",
       " (u'vent', 353),\n",
       " (u'8', 352),\n",
       " (u'garden', 350),\n",
       " (u'solar', 350),\n",
       " (u'deck', 348),\n",
       " (u'garage', 347),\n",
       " (u'cordless', 340),\n",
       " (u'ge', 337),\n",
       " (u'stove', 330),\n",
       " (u'10', 329),\n",
       " (u'bulbs', 323),\n",
       " (u'chrome', 321),\n",
       " (u'36', 318),\n",
       " (u'5', 316),\n",
       " (u'handle', 314),\n",
       " (u'drain', 313),\n",
       " (u'valve', 310),\n",
       " (u'oak', 307),\n",
       " (u'screen', 306),\n",
       " (u'cable', 299),\n",
       " (u'sliding', 299),\n",
       " (u'grill', 299),\n",
       " (u'24', 299),\n",
       " (u'screw', 298),\n",
       " (u'hampton', 297),\n",
       " (u'stain', 296),\n",
       " (u'board', 294),\n",
       " (u'a', 292),\n",
       " (u'flooring', 290),\n",
       " (u'electrical', 289),\n",
       " (u'pressure', 287),\n",
       " (u'20', 287),\n",
       " (u'nickel', 284),\n",
       " (u'home', 283),\n",
       " (u'switch', 280),\n",
       " (u'moen', 280),\n",
       " (u'parts', 279),\n",
       " (u'covers', 277),\n",
       " (u'mower', 277),\n",
       " (u'lawn', 274),\n",
       " (u'outlet', 273),\n",
       " (u'screws', 273),\n",
       " (u'hardware', 272),\n",
       " (u'christmas', 272),\n",
       " (u'corner', 267),\n",
       " (u'tree', 265),\n",
       " (u'shelf', 261),\n",
       " (u'kohler', 260),\n",
       " (u'oil', 259),\n",
       " (u'bolt', 255),\n",
       " (u'dryer', 255),\n",
       " (u'foot', 253),\n",
       " (u'connector', 252),\n",
       " (u'carpet', 251),\n",
       " (u'single', 249),\n",
       " (u'tiles', 248),\n",
       " (u'refrigerator', 248),\n",
       " (u'60', 247),\n",
       " (u'red', 246),\n",
       " (u'brass', 246),\n",
       " (u'pole', 245),\n",
       " (u'one', 244),\n",
       " (u'copper', 243),\n",
       " (u'plate', 242),\n",
       " (u'concrete', 240),\n",
       " (u'blade', 237),\n",
       " (u'power', 237),\n",
       " (u'sinks', 235),\n",
       " (u'front', 235),\n",
       " (u'fireplace', 233),\n",
       " (u'delta', 231),\n",
       " (u'hot', 228),\n",
       " (u'rod', 226),\n",
       " (u'panels', 223),\n",
       " (u'watt', 223),\n",
       " (u'18', 223),\n",
       " (u'portable', 220),\n",
       " (u'ryobi', 219),\n",
       " (u'rug', 219),\n",
       " (u'propane', 218),\n",
       " (u'head', 218),\n",
       " (u'plug', 217),\n",
       " (u'chain', 216),\n",
       " (u'tape', 216),\n",
       " (u'motion', 216),\n",
       " (u'duct', 215),\n",
       " (u'faucets', 215),\n",
       " (u'behr', 214),\n",
       " (u'gate', 212),\n",
       " (u'track', 211),\n",
       " (u'lock', 208),\n",
       " (u'security', 208),\n",
       " (u'stair', 208),\n",
       " (u'rugs', 208),\n",
       " (u'french', 207),\n",
       " (u'volt', 207),\n",
       " (u'pendant', 207),\n",
       " (u'drawer', 206),\n",
       " (u'hand', 205),\n",
       " (u'mirror', 204),\n",
       " (u'bracket', 204),\n",
       " (u'3/8', 204),\n",
       " (u'blue', 204),\n",
       " (u'line', 202),\n",
       " (u'bit', 202),\n",
       " (u'gallon', 201),\n",
       " (u'fire', 198),\n",
       " (u'windows', 198),\n",
       " (u'under', 198),\n",
       " (u'cleaner', 198),\n",
       " (u'whirlpool', 198),\n",
       " (u'tank', 197),\n",
       " (u'filters', 194),\n",
       " (u'cord', 194),\n",
       " (u'hole', 193),\n",
       " (u'laminate', 193),\n",
       " (u'25', 192),\n",
       " (u'40', 192),\n",
       " (u'towel', 192),\n",
       " (u'extension', 192),\n",
       " (u'microwave', 191),\n",
       " (u'brown', 190),\n",
       " (u'molding', 189),\n",
       " (u'galvanized', 188),\n",
       " (u'model', 186),\n",
       " (u'hammer', 185),\n",
       " (u'impact', 185),\n",
       " (u'adapter', 184),\n",
       " (u'chair', 184),\n",
       " (u'flat', 183),\n",
       " (u'over', 180),\n",
       " (u'brushed', 180),\n",
       " (u'repair', 179),\n",
       " (u'backsplash', 179),\n",
       " (u'nails', 179),\n",
       " (u'indoor', 178),\n",
       " (u'high', 177),\n",
       " (u'the', 177),\n",
       " (u'amp', 177),\n",
       " (u'american', 177),\n",
       " (u'entry', 177),\n",
       " (u'cap', 176),\n",
       " (u'blinds', 175),\n",
       " (u'pine', 175),\n",
       " (u'48', 175),\n",
       " (u'conditioner', 174),\n",
       " (u'control', 174),\n",
       " (u'house', 174),\n",
       " (u'kits', 174),\n",
       " (u'fixture', 174),\n",
       " (u'roof', 173),\n",
       " (u'seat', 173),\n",
       " (u'small', 172),\n",
       " (u'slide', 172),\n",
       " (u'trimmer', 171),\n",
       " (u'treated', 170),\n",
       " (u'combo', 170),\n",
       " (u'sheet', 168),\n",
       " (u'blades', 166),\n",
       " (u'milwaukee', 165),\n",
       " (u'fans', 165),\n",
       " (u'plywood', 164),\n",
       " (u'wooden', 163),\n",
       " (u'aluminum', 161),\n",
       " (u'tools', 160),\n",
       " (u'outside', 160),\n",
       " (u'roller', 159),\n",
       " (u'mini', 159),\n",
       " (u'green', 158),\n",
       " (u'bolts', 158),\n",
       " (u'pull', 157),\n",
       " (u'oven', 156),\n",
       " (u'siding', 155),\n",
       " (u'pulls', 155),\n",
       " (u'solid', 154),\n",
       " (u'ceramic', 154),\n",
       " (u'standard', 154),\n",
       " (u'gun', 154),\n",
       " (u'recessed', 154),\n",
       " (u'granite', 154),\n",
       " (u'natural', 153),\n",
       " (u'frame', 153),\n",
       " (u'martha', 153),\n",
       " (u'counter', 152),\n",
       " (u'rail', 152),\n",
       " (u'pump', 152),\n",
       " (u'tube', 151),\n",
       " (u'stand', 150),\n",
       " (u'chairs', 150),\n",
       " (u'clear', 150),\n",
       " (u'accessories', 150),\n",
       " (u'of', 150),\n",
       " (u'work', 149),\n",
       " (u'breaker', 149),\n",
       " (u'ridgid', 148),\n",
       " (u'vac', 148),\n",
       " (u'shelves', 147),\n",
       " (u'14', 147),\n",
       " (u'by', 146),\n",
       " (u'countertop', 146),\n",
       " (u'16', 146),\n",
       " (u'lamp', 146),\n",
       " (u'socket', 146),\n",
       " (u'50', 146),\n",
       " (u'rubber', 146),\n",
       " (u'square', 145),\n",
       " (u'shelving', 145),\n",
       " (u'knobs', 144),\n",
       " (u'32', 144),\n",
       " (u'heat', 144),\n",
       " (u'furniture', 144),\n",
       " (u'cedar', 143),\n",
       " (u'stewart', 142),\n",
       " (u'storm', 142),\n",
       " (u'angle', 142),\n",
       " (u'rope', 141),\n",
       " (u'hinge', 141),\n",
       " (u'decker', 140),\n",
       " (u'flush', 140),\n",
       " (u'decorative', 140),\n",
       " (u'bench', 139),\n",
       " (u'shed', 139),\n",
       " (u'dual', 139),\n",
       " (u'plates', 138),\n",
       " (u'hanger', 138),\n",
       " (u'heaters', 137),\n",
       " (u'5/8', 137),\n",
       " (u'bowl', 137),\n",
       " (u'tv', 136),\n",
       " (u'finish', 136),\n",
       " (u'makita', 136),\n",
       " (u'rigid', 136),\n",
       " (u'knob', 136),\n",
       " (u'foam', 135),\n",
       " (u'pool', 135),\n",
       " (u'hickory', 134),\n",
       " (u'color', 134),\n",
       " (u'bed', 134),\n",
       " (u'adhesive', 134),\n",
       " (u'brackets', 134),\n",
       " (u'tops', 133),\n",
       " (u'shop', 133),\n",
       " (u'bits', 132),\n",
       " (u'hanging', 131),\n",
       " (u'side', 131),\n",
       " (u'charger', 130),\n",
       " (u'9', 130),\n",
       " (u'driver', 129),\n",
       " (u'out', 129),\n",
       " (u'string', 128),\n",
       " (u'15', 128),\n",
       " (u'posts', 128),\n",
       " (u'holder', 128),\n",
       " (u'roofing', 127)]"
      ]
     },
     "execution_count": 10,
     "metadata": {},
     "output_type": "execute_result"
    }
   ],
   "source": [
    "search_terms_freq.most_common(350)"
   ]
  },
  {
   "cell_type": "code",
   "execution_count": 66,
   "metadata": {
    "collapsed": true
   },
   "outputs": [],
   "source": [
    "title_freq = nltk.FreqDist(train_merged.product_title)"
   ]
  },
  {
   "cell_type": "code",
   "execution_count": 67,
   "metadata": {
    "collapsed": false
   },
   "outputs": [
    {
     "data": {
      "text/plain": [
       "[(u'Pressure-Treated Timber #2 Southern Yellow Pine (Common: 4 in. x 4 in. x 8 ft.; Actual: 3.56 in. x 3.56 in. x 96 in.)',\n",
       "  21),\n",
       " (u'Lithonia Lighting All Season 4 ft. 2-Light Grey T8 Strip Fluorescent Shop Light',\n",
       "  21),\n",
       " (u'2 in. x 4 in. x 96 in. Premium Kiln-Dried Whitewood Stud', 18),\n",
       " (u'Ryobi ONE+ 18-Volt Lithium-Ion Ultimate Combo Kit (6-Tool)', 17),\n",
       " (u'Ryobi ONE+ 18-Volt Lithium-Ion Cordless Drill/Driver and Impact Driver Kit (2-Tool)',\n",
       "  17),\n",
       " (u'Custom Building Products VersaBond Gray 50 lb. Fortified Thin-Set Mortar',\n",
       "  17),\n",
       " (u'Whirlpool Gold Series Top Control Dishwasher in Monochromatic Stainless Steel with Silverware Spray',\n",
       "  15),\n",
       " (u'WeatherShield 2 in. x 4 in. x 8 ft. #2 Prime Prime Pressure-Treated Lumber',\n",
       "  14),\n",
       " (u'23/32 in. x 4 ft. x 8 ft. RTD Sheathing Syp', 14),\n",
       " (u'Oriented Strand Board (Common: 7/16 in. x 4 ft. x 8 ft.; Actual: 0.418 in. x 47.75 in. x 95.75 in.)',\n",
       "  14),\n",
       " (u'Ryobi ONE+ 18-Volt Lithium-Ion Cordless Super Combo Kit (4-Piece)', 14),\n",
       " (u'Owens Corning R-30 Unfaced Insulation Continuous Roll 15 in. x 25 ft.',\n",
       "  14),\n",
       " (u'36 in. x 80 in. 6-Panel Primed Premium Steel Front Door Slab', 14),\n",
       " (u'Whirlpool 1.7 cu. ft. Over the Range Microwave in Stainless Steel', 14),\n",
       " (u'Honeywell 1 in. Allergen Elite Pleated FPR 10 Air Filter - Custom Sizes Available',\n",
       "  14),\n",
       " (u'LG Electronics Refrigerator Water Filter', 14),\n",
       " (u'Honeywell 1 in. Allergen Superior Pleated FPR 9 Air Filter - Custom Sizes Available',\n",
       "  14),\n",
       " (u'Ryobi 18-Volt ONE+ High Capacity LITHIUM+ Battery (2-Pack)', 14),\n",
       " (u'DEWALT 20-Volt Max Lithium-Ion Cordless Combo Kit (2-Tool)', 14),\n",
       " (u'1 in. Depth EZ Flow Heavy Duty (Case of 12)', 13),\n",
       " (u'GE Spacemaker Washer and Electric Dryer in White', 13),\n",
       " (u'BLACK+DECKER 20-Volt Max Lithium-ion String Trimmer and Sweeper Combo Kit',\n",
       "  13),\n",
       " (u'Glacier Bay 2-piece 1.28 GPF High Efficiency Round Toilet in White', 13),\n",
       " (u'JELD-WEN 30 in. x 80 in. Textured 6-Panel Primed Composite Molded Bored Interior Door Slab',\n",
       "  13),\n",
       " (u'Glacier Bay 2-piece High Efficiency Dual Flush Complete Elongated Toilet in White',\n",
       "  13),\n",
       " (u'WeatherShield 2 in. x 6 in. x 12 ft. #2 Prime Pressure-Treated Lumber',\n",
       "  13),\n",
       " (u'Hampton Bay Roanoke 48 in. Iron Indoor/Outdoor Ceiling Fan', 12),\n",
       " (u'Veranda 6 ft. x 36 in. Traditional Pre-Built Rail Kit without Brackets',\n",
       "  12),\n",
       " (u'Owens Corning R-13 Kraft Faced Insulation Roll 15 in. x 32 ft.', 12),\n",
       " (u'Ryobi ONE+ 18-Volt Lithium-Ion Battery and IntelliPort Charger Upgrade Kit',\n",
       "  12),\n",
       " (u'4 in. x 4 in. x 10 ft. #2 Pressure-Treated Timber', 11),\n",
       " (u'Whirlpool 25.2 cu. ft. French Door Refrigerator in Monochromatic Stainless Steel',\n",
       "  11),\n",
       " (u'Andersen 36 in. x 80 in. 4000 Series White Full View Storm Door', 11),\n",
       " (u'SmartSide 48 in. x 96 in. Composite Panel Siding (Actual: 0.315 in. x 48.56 in. x 95.87 in.)',\n",
       "  11),\n",
       " (u'LG Electronics 4.0 DOE cu. ft. High-Efficiency Front Load Washer in White, ENERGY STAR',\n",
       "  11),\n",
       " (u'AIRCARE Humidifier Replacement Wick', 11),\n",
       " (u'Rheem Performance Plus 50 Gal. Tall 9 Year 40,000 BTU High Efficiency Natural Gas Water Heater',\n",
       "  11),\n",
       " (u'Roberts 100 sq. ft. Roll of Serenity Foam Laminate Underlayment', 10),\n",
       " (u'MARAZZI Montagna Natural 6 in. x 24 in Glazed Porcelain Floor and Wall Tile (14.53 sq. ft. / case)',\n",
       "  10),\n",
       " (u'1/16 in. x 4 ft. x 8 ft. Plastic Panel', 10),\n",
       " (u'MARAZZI Montagna Gunstock 6 in. x 24 in. Glazed Porcelain Floor and Wall Tile (14.53 sq. ft. / case)',\n",
       "  10),\n",
       " (u'Glacier Bay All-in-One Dual Mount Stainless Steel 33 in. 2-Hole Double Bowl Kitchen Sink',\n",
       "  10),\n",
       " (u'Jason Industrial Dual V-Belt', 10),\n",
       " (u'5/8 in. x 5-1/2 in. x 6 ft. Pressure-Treated Pine Dog-Ear Fence Picket',\n",
       "  10),\n",
       " (u'YARDGARD 1-3/8 in x 10 ft. 6 in. 17-Gauge Galvanized Top Rail', 10),\n",
       " (u'48 lb. Leveling Sand', 10),\n",
       " (u'Makita 18-Volt Lithium-Ion Compact Combo Kit (2-Tool)', 10),\n",
       " (u'ECHO 2 Cycle 21.2 cc Straight Shaft Gas Trimmer', 10),\n",
       " (u'2 in. x 4 in. x 8 ft. #2 Pressure-Treated Lumber', 10),\n",
       " (u'18 in. x 24 in. Traditional 1 PVC Decorative Backsplash Panel in Bermuda Bronze',\n",
       "  10),\n",
       " (u'Home Decorators Collection Petersford 52 in. Brushed Nickel LED Ceiling Fan',\n",
       "  10),\n",
       " (u'Lund 60 in. Cross Bed Truck Tool Box', 10),\n",
       " (u'Rheem PROTECH ULN Pilot Assembly Replacement Kit for GE, Hot Point and Sure Comfort Ultra Low Nox Natural Gas Water Heaters',\n",
       "  9),\n",
       " (u'Whirlpool Duet 4.2 cu. ft. High-Efficiency Front Load Washer in White, ENERGY STAR',\n",
       "  9),\n",
       " (u'Frigidaire 25.54 cu. ft. Side by Side Refrigerator in Stainless Steel', 9),\n",
       " (u'Smart Tiles 10.20 in. x 9.10 in. Mosaic Adhesive Decorative Wall Tile Backsplash Murano Metallic in Grey (6-Piece)',\n",
       "  9),\n",
       " (u'Samsung 25.5 cu. ft. French Door Refrigerator in Stainless Steel', 9),\n",
       " (u'RIDGID 15 Amp 10 in. Heavy-Duty Portable Table Saw with Stand', 9),\n",
       " (u'Schon All-in-One Undermount Stainless Steel 30 in. 0-Hole Double Bowl Kitchen Sink with Faucet',\n",
       "  9),\n",
       " (u'TrafficMASTER Portland Stone Gray 18 in. x 18 in. Glazed Ceramic Floor and Wall Tile (17.44 sq. ft. / case)',\n",
       "  9),\n",
       " (u'Daltile Catalina Canyon Noce 12 in. x 12 in. Porcelain Floor and Wall Tile (15 sq. ft. / case)',\n",
       "  9),\n",
       " (u'Daltile Folkstone Sandy Beach 12 in. x 12 in. x 8 mm Porcelain Brick-Joint Mosaic Tile',\n",
       "  9),\n",
       " (u'Global Specialty Products Dimensions Faux 2 ft. x 4 ft. Tin Style Ceiling and Wall Tiles in White',\n",
       "  9),\n",
       " (u'Andersen 36 in. x 80 in. 3000 Series White Self-Storing Easy Install Storm Door',\n",
       "  9),\n",
       " (u'MARAZZI Montagna Wood Vintage Chic 6 in. x 24 in. Porcelain Floor and Wall Tile (14.53 sq. ft. / case)',\n",
       "  9),\n",
       " (u'Glacier Bay 1-piece High Efficiency Dual Flush Elongated Toilet in White',\n",
       "  9),\n",
       " (u'Coolaroo Walnut Cordless Exterior Roller Shade', 9),\n",
       " (u'MARAZZI Montagna White Wash 6 in. x 24 in Glazed Porcelain Floor and Wall Tile (14.53 sq. ft. /case)',\n",
       "  9),\n",
       " (u'BLACK+DECKER 40-Volt Electric Cordless Straight Shaft String Trimmer', 9),\n",
       " (u'EGO 20 in. 56-Volt Lithium-ion Cordless Lawn Mower', 9),\n",
       " (u'15/32 in. x 4 ft. x 8 ft. 3-Ply RTD Sheathing', 9),\n",
       " (u'Home Decorators Collection Cut-to-Width 2 in. Faux Wood Blind', 9),\n",
       " (u'Andersen 36 in. x 80 in. 2500 Series White Self-Storing Storm Door', 9),\n",
       " (u'MARAZZI Montagna Rustic Bay 6 in. x 24 in. Glazed Porcelain Floor and Wall Tile (14.53 sq. ft. / case)',\n",
       "  9),\n",
       " (u'1 in. Depth EZ Flow Metal Retainer (Case of 12)', 9),\n",
       " (u'DEWALT 20-Volt Max Lithium-Ion 1/2 in. Cordless Drill/Driver Kit', 9),\n",
       " (u'Sheetrock UltraLight 1/2 in. x 4 ft. x 8 ft. Gypsum Board', 9),\n",
       " (u'Steves &amp; Sons 2-Panel Barn Solid Core Unfinished Knotty Alder Interior Door Slab',\n",
       "  9),\n",
       " (u'UltraTouch 16 in. x 48 in. Denim Insulation Multi-Purpose Roll (6-Pack)',\n",
       "  9),\n",
       " (u'LG Electronics 7.3 cu. ft. Electric Dryer in White', 9),\n",
       " (u'Cub Cadet XT1 Enduro Series LT 46 in. 22 HP V-Twin Kohler Hydrostatic Gas Front-Engine Riding Mower',\n",
       "  9),\n",
       " (u'MS International Golden Honey Ledger Panel 6 in. x 24 in. Natural Quartzite Wall Tile (6 sq. ft. / case)',\n",
       "  9),\n",
       " (u'Hampton Bay 4-Light Universal Ceiling Fan Light Kit with Shatter Resistant Shades',\n",
       "  9),\n",
       " (u'MS International Golden Honey Ledger Panel 6 in. x 24 in. Natural Quartzite Wall Tile (5 cases / 30 sq. ft. / pallet)',\n",
       "  9),\n",
       " (u'Rheem EcoSense 9.5 GPM Liquid Propane Gas High Efficiency Indoor Tankless Gas Water Heater',\n",
       "  9),\n",
       " (u'Delta Clear Knob Replacement Handle with Chrome Arrow Button for Tub and Shower Faucets',\n",
       "  9),\n",
       " (u'Genie QuietLift 800 1/2 HP DC Motor Belt Drive Garage Door Opener', 9),\n",
       " (u'EUCATILE 32 sq. ft. 96 in. x 48 in. Hardboard Thrifty White Tile Board',\n",
       "  9),\n",
       " (u'Hampton Bay Fall River 7-Piece Patio Dining Set with Dragonfruit Cushion',\n",
       "  9),\n",
       " (u'HDX 48 in. W x 72 in. H x 18 in. D Decorative Wire Chrome Finish Commercial Shelving Unit',\n",
       "  9),\n",
       " (u'Wyndham Collection Avara 60 in. Vanity in Espresso with Double Basin Glass Vanity Top in Aqua and Medicine Cabinets',\n",
       "  9),\n",
       " (u'Honeywell 1 in. Allergen Plus Pleated FPR 7 Air Filter - Custom Sizes Available',\n",
       "  9),\n",
       " (u'Mueller Streamline 1-1/2 in. PVC DWV 45-Degree Hub x Hub Elbow', 9),\n",
       " (u'Prepac Elite 32 in. Wood Laminate Cabinet in White', 9),\n",
       " (u'LG Electronics 8,000 BTU Window Air Conditioner with Remote', 9),\n",
       " (u'Hampton Bay 1-Light Black Outdoor Wall Lantern', 8),\n",
       " (u'Ryobi ONE+ 18-Volt Cordless String Trimmer/Edger - Battery and Charger Not Included',\n",
       "  8),\n",
       " (u'6 in. x 6 in. x 8 ft. #2 Pressure-Treated Timber', 8),\n",
       " (u'Andersen 37.625 in. x 56.875 in. 400 Series Tilt-Wash Double-Hung Wood Window - White',\n",
       "  8),\n",
       " (u'GE 7.5 ft. Just Cut Colorado Spruce EZ Light Artificial Christmas Tree with 400 Color Choice LED Lights',\n",
       "  8)]"
      ]
     },
     "execution_count": 67,
     "metadata": {},
     "output_type": "execute_result"
    }
   ],
   "source": [
    "title_freq.most_common(100)"
   ]
  },
  {
   "cell_type": "code",
   "execution_count": 46,
   "metadata": {
    "collapsed": true
   },
   "outputs": [],
   "source": [
    "def transform(matchobj):\n",
    "    matched_group = matchobj.group(0)\n",
    "    uppercase_index = re.search(r'[A-Z]', matched_group).start()\n",
    "    return matched_group[:uppercase_index] + '. ' + matched_group[uppercase_index:]"
   ]
  },
  {
   "cell_type": "code",
   "execution_count": 71,
   "metadata": {
    "collapsed": false
   },
   "outputs": [
    {
     "data": {
      "text/plain": [
       "'Pressure Treated Timber  2 Southern Yellow Pine  Common  4 in  x 4 in  x 8 ft   Actual  3 56 in  x 3 56 in  x 96 in '"
      ]
     },
     "execution_count": 71,
     "metadata": {},
     "output_type": "execute_result"
    }
   ],
   "source": [
    "text = 'Pressure-Treated Timber #2 Southern Yellow Pine (Common: 4 in. x 4 in. x 8 ft.; Actual: 3.56 in. x 3.56 in. x 96 in.'\n",
    "re.sub(r'[^\\w\\s\\d]', ' ', text)"
   ]
  },
  {
   "cell_type": "code",
   "execution_count": 45,
   "metadata": {
    "collapsed": false
   },
   "outputs": [
    {
     "data": {
      "text/plain": [
       "[\"n't\", \"t's\", \"n's\", \"t's\"]"
      ]
     },
     "execution_count": 45,
     "metadata": {},
     "output_type": "execute_result"
    }
   ],
   "source": [
    "re.findall(r\"[\\'][a-z]\", processed_text)"
   ]
  },
  {
   "cell_type": "code",
   "execution_count": 37,
   "metadata": {
    "collapsed": false
   },
   "outputs": [
    {
     "data": {
      "text/plain": [
       "'Team spirit by the gallon. With the officially licensed colors from your favorite teams, you can turn any room into your dream \"Fan Cave\". Don\\'t worry about your paint\\'s defense either. Glidden\\'s DUO formula is more than just a paint. It also primes with every single roll, saving you time and energy. Better yet, Glidden DUO Paint and Primer is a great value. You only have to purchase one product to get a quality primer plus a premium paint. Glidden DUO Paint and Primer is available in three sheens and 282 interior colors and is especially effective as a bathroom paint. Get going on your project today to experience beautiful, long-lasting results, guaranteed.California residents: see&nbsp;Proposition 65 informationExceptional hiding power for great coverage in fewer coats, even over darker colorsExcellent adhesion to most new or previously painted surfacesStain-blocking primer combined with stain-resistant paintMildew-resistant coating that\\'s great for bathroomsEasy cleaning to keep walls looking good over timeLow odor and low VOCsActual paint colors may vary from on-screen and printer representationsOnline Price includes Paint Care fee in the following states: CA, CO, CT, MN, OR, RI, VTClick here to use our paint calculator and estimate how much paint you need to complete your project'"
      ]
     },
     "execution_count": 37,
     "metadata": {},
     "output_type": "execute_result"
    }
   ],
   "source": [
    "example"
   ]
  },
  {
   "cell_type": "code",
   "execution_count": 21,
   "metadata": {
    "collapsed": false
   },
   "outputs": [
    {
     "data": {
      "text/plain": [
       "MFG Brand Name                          86250\n",
       "Bullet02                                86248\n",
       "Bullet03                                86226\n",
       "Bullet04                                86174\n",
       "Bullet01                                85940\n",
       "Product Width (in.)                     61137\n",
       "Bullet05                                60529\n",
       "Product Height (in.)                    54698\n",
       "Product Depth (in.)                     53652\n",
       "Product Weight (lb.)                    45175\n",
       "Bullet06                                44901\n",
       "Color Family                            41508\n",
       "Bullet07                                34349\n",
       "Material                                31500\n",
       "Color/Finish                            28564\n",
       "Bullet08                                26645\n",
       "Certifications and Listings             24583\n",
       "Bullet09                                20567\n",
       "Assembled Height (in.)                  18299\n",
       "Assembled Width (in.)                   18263\n",
       "Assembled Depth (in.)                   18198\n",
       "Product Length (in.)                    16705\n",
       "Bullet10                                14763\n",
       "Indoor/Outdoor                          12939\n",
       "Bullet11                                11784\n",
       "Commercial / Residential                 9530\n",
       "Bullet12                                 8795\n",
       "ENERGY STAR Certified                    8420\n",
       "Hardware Included                        7462\n",
       "Package Quantity                         6904\n",
       "                                        ...  \n",
       "Chuck Style                                 1\n",
       "HDMI Outputs                                1\n",
       "Number of settings included                 1\n",
       "Spatter shield                              1\n",
       "Number of Component Video Outputs           1\n",
       "Total number of storage compartments        1\n",
       "Number of tacks per strip                   1\n",
       "Duct System                                 1\n",
       "Multi-family                                1\n",
       "Point Size                                  1\n",
       "Number of Seats (max)                       1\n",
       "Tray Material                               1\n",
       "Individual strip diameter (in.)             1\n",
       "Sensor bar                                  1\n",
       "Compatible with a knee kicker               1\n",
       "Safe working load (lb.)                     1\n",
       "Accent mount material                       1\n",
       "Package size (oz.)                          1\n",
       "Number of Coaxial Outputs                   1\n",
       "Solar powered                               1\n",
       "Recreational Vehicle Product Type           1\n",
       "Container/Shelf Material                    1\n",
       "Individual strip length (in.)               1\n",
       "Closure Type                                1\n",
       "Warming Rack                                1\n",
       "Average Locking Speed (ft/sec)              1\n",
       "Convex                                      1\n",
       "Point Type                                  1\n",
       "Grip Style                                  1\n",
       "Removable cover                             1\n",
       "Name: name, dtype: int64"
      ]
     },
     "execution_count": 21,
     "metadata": {},
     "output_type": "execute_result"
    }
   ],
   "source": [
    "prod_attributes.name.value_counts()"
   ]
  },
  {
   "cell_type": "code",
   "execution_count": 95,
   "metadata": {
    "collapsed": true
   },
   "outputs": [],
   "source": [
    "dimensions_regex = r'[0-9]+[ |a-z]*x[ |a-z]*[0-9]+[ |a-z]*(?:x[ |a-z]*[0-9]+)?'"
   ]
  },
  {
   "cell_type": "code",
   "execution_count": 98,
   "metadata": {
    "collapsed": false
   },
   "outputs": [
    {
     "data": {
      "text/plain": [
       "['4 x 6 and ', '4 x 6 x']"
      ]
     },
     "execution_count": 98,
     "metadata": {},
     "output_type": "execute_result"
    }
   ],
   "source": [
    "re.findall(dimensions_regex, 'This drum is of the size 9in. x4 x 6 and 4 x 6 x5')"
   ]
  },
  {
   "cell_type": "code",
   "execution_count": 74,
   "metadata": {
    "collapsed": false
   },
   "outputs": [],
   "source": [
    "width = prod_attributes[prod_attributes.name == \"Product Width (in.)\"][[\"product_uid\", \"value\"]].rename(columns={\"value\": \"width\"})"
   ]
  },
  {
   "cell_type": "code",
   "execution_count": 75,
   "metadata": {
    "collapsed": true
   },
   "outputs": [],
   "source": [
    "color = prod_attributes[prod_attributes.name == \"Color Family\"][[\"product_uid\", \"value\"]].rename(columns={\"value\": \"color\"})"
   ]
  },
  {
   "cell_type": "code",
   "execution_count": 76,
   "metadata": {
    "collapsed": true
   },
   "outputs": [],
   "source": [
    "train_merged  = pd.merge(train_merged, width, on='product_uid', how='left')"
   ]
  },
  {
   "cell_type": "code",
   "execution_count": 77,
   "metadata": {
    "collapsed": true
   },
   "outputs": [],
   "source": [
    "train_merged = pd.merge(train_merged, color, on='product_uid', how='left')"
   ]
  },
  {
   "cell_type": "code",
   "execution_count": 78,
   "metadata": {
    "collapsed": true
   },
   "outputs": [],
   "source": [
    "train_merged = pd.merge(train_merged, attributes, on='product_uid', how='left')"
   ]
  },
  {
   "cell_type": "code",
   "execution_count": 79,
   "metadata": {
    "collapsed": false
   },
   "outputs": [
    {
     "data": {
      "text/html": [
       "<div>\n",
       "<table border=\"1\" class=\"dataframe\">\n",
       "  <thead>\n",
       "    <tr style=\"text-align: right;\">\n",
       "      <th></th>\n",
       "      <th>product_uid</th>\n",
       "      <th>product_title</th>\n",
       "      <th>search_term</th>\n",
       "      <th>relevance</th>\n",
       "      <th>product_description</th>\n",
       "      <th>width</th>\n",
       "      <th>color</th>\n",
       "      <th>brand</th>\n",
       "    </tr>\n",
       "  </thead>\n",
       "  <tbody>\n",
       "    <tr>\n",
       "      <th>0</th>\n",
       "      <td>100001</td>\n",
       "      <td>Simpson Strong-Tie 12-Gauge Angle</td>\n",
       "      <td>angle bracket</td>\n",
       "      <td>3.00</td>\n",
       "      <td>Not only do angles make joints stronger, they ...</td>\n",
       "      <td>3</td>\n",
       "      <td>NaN</td>\n",
       "      <td>Simpson Strong-Tie</td>\n",
       "    </tr>\n",
       "    <tr>\n",
       "      <th>1</th>\n",
       "      <td>100001</td>\n",
       "      <td>Simpson Strong-Tie 12-Gauge Angle</td>\n",
       "      <td>l bracket</td>\n",
       "      <td>2.50</td>\n",
       "      <td>Not only do angles make joints stronger, they ...</td>\n",
       "      <td>3</td>\n",
       "      <td>NaN</td>\n",
       "      <td>Simpson Strong-Tie</td>\n",
       "    </tr>\n",
       "    <tr>\n",
       "      <th>2</th>\n",
       "      <td>100002</td>\n",
       "      <td>BEHR Premium Textured DeckOver 1-gal. #SC-141 ...</td>\n",
       "      <td>deck over</td>\n",
       "      <td>3.00</td>\n",
       "      <td>BEHR Premium Textured DECKOVER is an innovativ...</td>\n",
       "      <td>NaN</td>\n",
       "      <td>Browns / Tans</td>\n",
       "      <td>BEHR Premium Textured DeckOver</td>\n",
       "    </tr>\n",
       "    <tr>\n",
       "      <th>3</th>\n",
       "      <td>100005</td>\n",
       "      <td>Delta Vero 1-Handle Shower Only Faucet Trim Ki...</td>\n",
       "      <td>rain shower head</td>\n",
       "      <td>2.33</td>\n",
       "      <td>Update your bathroom with the Delta Vero Singl...</td>\n",
       "      <td>7.09</td>\n",
       "      <td>Chrome</td>\n",
       "      <td>Delta</td>\n",
       "    </tr>\n",
       "    <tr>\n",
       "      <th>4</th>\n",
       "      <td>100005</td>\n",
       "      <td>Delta Vero 1-Handle Shower Only Faucet Trim Ki...</td>\n",
       "      <td>shower only faucet</td>\n",
       "      <td>2.67</td>\n",
       "      <td>Update your bathroom with the Delta Vero Singl...</td>\n",
       "      <td>7.09</td>\n",
       "      <td>Chrome</td>\n",
       "      <td>Delta</td>\n",
       "    </tr>\n",
       "  </tbody>\n",
       "</table>\n",
       "</div>"
      ],
      "text/plain": [
       "   product_uid                                      product_title  \\\n",
       "0       100001                  Simpson Strong-Tie 12-Gauge Angle   \n",
       "1       100001                  Simpson Strong-Tie 12-Gauge Angle   \n",
       "2       100002  BEHR Premium Textured DeckOver 1-gal. #SC-141 ...   \n",
       "3       100005  Delta Vero 1-Handle Shower Only Faucet Trim Ki...   \n",
       "4       100005  Delta Vero 1-Handle Shower Only Faucet Trim Ki...   \n",
       "\n",
       "          search_term  relevance  \\\n",
       "0       angle bracket       3.00   \n",
       "1           l bracket       2.50   \n",
       "2           deck over       3.00   \n",
       "3    rain shower head       2.33   \n",
       "4  shower only faucet       2.67   \n",
       "\n",
       "                                 product_description width          color  \\\n",
       "0  Not only do angles make joints stronger, they ...     3            NaN   \n",
       "1  Not only do angles make joints stronger, they ...     3            NaN   \n",
       "2  BEHR Premium Textured DECKOVER is an innovativ...   NaN  Browns / Tans   \n",
       "3  Update your bathroom with the Delta Vero Singl...  7.09         Chrome   \n",
       "4  Update your bathroom with the Delta Vero Singl...  7.09         Chrome   \n",
       "\n",
       "                            brand  \n",
       "0              Simpson Strong-Tie  \n",
       "1              Simpson Strong-Tie  \n",
       "2  BEHR Premium Textured DeckOver  \n",
       "3                           Delta  \n",
       "4                           Delta  "
      ]
     },
     "execution_count": 79,
     "metadata": {},
     "output_type": "execute_result"
    }
   ],
   "source": [
    "train_merged.head()"
   ]
  },
  {
   "cell_type": "code",
   "execution_count": 81,
   "metadata": {
    "collapsed": false
   },
   "outputs": [],
   "source": [
    "def has_digit(text):\n",
    "    return int(any(char.isdigit() for char in text))\n",
    "\n",
    "train_merged['has_digit'] = train_merged.search_term.map(has_digit)"
   ]
  },
  {
   "cell_type": "code",
   "execution_count": 82,
   "metadata": {
    "collapsed": true
   },
   "outputs": [],
   "source": [
    "train_merged['search_term_len'] = train_merged.search_term.map(lambda x: len(x.split()))"
   ]
  },
  {
   "cell_type": "code",
   "execution_count": 83,
   "metadata": {
    "collapsed": true
   },
   "outputs": [],
   "source": [
    "def num_expressive_terms(text):\n",
    "    return len([word for word in text.split() if len(word) >= 6])\n",
    "\n",
    "train_merged['num_expressive_words'] = train_merged.search_term.map(num_expressive_terms)"
   ]
  },
  {
   "cell_type": "code",
   "execution_count": 89,
   "metadata": {
    "collapsed": true
   },
   "outputs": [],
   "source": [
    "def num_dimension_matches(text):\n",
    "    return len(re.findall(dimensions_regex, text))\n",
    "\n",
    "train_merged['has_dimension'] = train_merged.search_term.map(num_dimension_matches)"
   ]
  },
  {
   "cell_type": "code",
   "execution_count": 90,
   "metadata": {
    "collapsed": true
   },
   "outputs": [],
   "source": [
    "train_merged['has_dimension_title'] = train_merged.product_title.map(num_dimension_matches)"
   ]
  },
  {
   "cell_type": "code",
   "execution_count": 91,
   "metadata": {
    "collapsed": true
   },
   "outputs": [],
   "source": [
    "train_merged['has_dimension_desc'] = train_merged.product_description.map(num_dimension_matches)"
   ]
  },
  {
   "cell_type": "code",
   "execution_count": 94,
   "metadata": {
    "collapsed": false
   },
   "outputs": [
    {
     "data": {
      "text/plain": [
       "count    74495.000000\n",
       "mean         0.036029\n",
       "std          0.186364\n",
       "min          0.000000\n",
       "25%          0.000000\n",
       "50%          0.000000\n",
       "75%          0.000000\n",
       "max          1.000000\n",
       "Name: has_dimension, dtype: float64"
      ]
     },
     "execution_count": 94,
     "metadata": {},
     "output_type": "execute_result"
    }
   ],
   "source": [
    "train_merged['has_dimension'].describe()"
   ]
  },
  {
   "cell_type": "code",
   "execution_count": 87,
   "metadata": {
    "collapsed": true
   },
   "outputs": [],
   "source": [
    "def has_color(color):\n",
    "    return int(pd.isnull(color))\n",
    "\n",
    "train_merged['has_color'] = train_merged.color.map(has_color)"
   ]
  },
  {
   "cell_type": "code",
   "execution_count": 86,
   "metadata": {
    "collapsed": false
   },
   "outputs": [],
   "source": [
    "def is_unbranded(brand):\n",
    "    return brand == 'Unbranded'\n",
    "\n",
    "train_merged['is_unbranded'] = train_merged.brand.map(is_unbranded)"
   ]
  },
  {
   "cell_type": "code",
   "execution_count": 87,
   "metadata": {
    "collapsed": false
   },
   "outputs": [
    {
     "data": {
      "image/png": "[encoded data removed]",
      "text/plain": [
       "<matplotlib.figure.Figure at 0x3061c278>"
      ]
     },
     "metadata": {},
     "output_type": "display_data"
    }
   ],
   "source": [
    "sns.factorplot(x='has_digit', y='relevance', data=train_merged);"
   ]
  },
  {
   "cell_type": "code",
   "execution_count": 59,
   "metadata": {
    "collapsed": false
   },
   "outputs": [
    {
     "data": {
      "image/png": "[encoded data removed]",
      "text/plain": [
       "<matplotlib.figure.Figure at 0x2c4256d8>"
      ]
     },
     "metadata": {},
     "output_type": "display_data"
    }
   ],
   "source": [
    "sns.pairplot(train_merged, vars=['search_term_len', 'relevance']);"
   ]
  },
  {
   "cell_type": "code",
   "execution_count": 62,
   "metadata": {
    "collapsed": false
   },
   "outputs": [
    {
     "data": {
      "image/png": "[encoded data removed]",
      "text/plain": [
       "<matplotlib.figure.Figure at 0x3cf934e0>"
      ]
     },
     "metadata": {},
     "output_type": "display_data"
    }
   ],
   "source": [
    "sns.pairplot(train_merged, vars=['num_expressive_words', 'relevance']);"
   ]
  },
  {
   "cell_type": "code",
   "execution_count": 92,
   "metadata": {
    "collapsed": false
   },
   "outputs": [
    {
     "data": {
      "image/png": "[encoded data removed]",
      "text/plain": [
       "<matplotlib.figure.Figure at 0x30462c18>"
      ]
     },
     "metadata": {},
     "output_type": "display_data"
    }
   ],
   "source": [
    "sns.factorplot(x='has_dimension', y='relevance', data=train_merged);"
   ]
  },
  {
   "cell_type": "code",
   "execution_count": 88,
   "metadata": {
    "collapsed": false
   },
   "outputs": [
    {
     "data": {
      "image/png": "[encoded data removed]",
      "text/plain": [
       "<matplotlib.figure.Figure at 0x2ae08358>"
      ]
     },
     "metadata": {},
     "output_type": "display_data"
    }
   ],
   "source": [
    "sns.factorplot(x='has_dimension_title', y='relevance', data=train_merged);"
   ]
  },
  {
   "cell_type": "code",
   "execution_count": 88,
   "metadata": {
    "collapsed": false
   },
   "outputs": [
    {
     "data": {
      "image/png": "[encoded data removed]",
      "text/plain": [
       "<matplotlib.figure.Figure at 0x2bd30a20>"
      ]
     },
     "metadata": {},
     "output_type": "display_data"
    }
   ],
   "source": [
    "sns.factorplot(x='has_color', y='relevance', data=train_merged);"
   ]
  },
  {
   "cell_type": "code",
   "execution_count": 93,
   "metadata": {
    "collapsed": false
   },
   "outputs": [
    {
     "data": {
      "image/png": "[encoded data removed]",
      "text/plain": [
       "<matplotlib.figure.Figure at 0x2dae12e8>"
      ]
     },
     "metadata": {},
     "output_type": "display_data"
    }
   ],
   "source": [
    "sns.factorplot(x='is_unbranded', y='relevance', data=train_merged);"
   ]
  },
  {
   "cell_type": "code",
   "execution_count": null,
   "metadata": {
    "collapsed": true
   },
   "outputs": [],
   "source": []
  },
  {
   "cell_type": "code",
   "execution_count": null,
   "metadata": {
    "collapsed": true
   },
   "outputs": [],
   "source": []
  },
  {
   "cell_type": "code",
   "execution_count": null,
   "metadata": {
    "collapsed": true
   },
   "outputs": [],
   "source": []
  }
 ],
 "metadata": {
  "kernelspec": {
   "display_name": "Python 2",
   "language": "python",
   "name": "python2"
  },
  "language_info": {
   "codemirror_mode": {
    "name": "ipython",
    "version": 2
   },
   "file_extension": ".py",
   "mimetype": "text/x-python",
   "name": "python",
   "nbconvert_exporter": "python",
   "pygments_lexer": "ipython2",
   "version": "2.7.11"
  }
 },
 "nbformat": 4,
 "nbformat_minor": 0
}
