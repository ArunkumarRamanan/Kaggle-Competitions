{
 "cells": [
  {
   "cell_type": "code",
   "execution_count": 1,
   "metadata": {
    "collapsed": false
   },
   "outputs": [
    {
     "name": "stderr",
     "output_type": "stream",
     "text": [
      "C:\\Users\\Abhishek\\Anaconda2\\lib\\site-packages\\matplotlib\\__init__.py:872: UserWarning: axes.color_cycle is deprecated and replaced with axes.prop_cycle; please use the latter.\n",
      "  warnings.warn(self.msg_depr % (key, alt_key))\n"
     ]
    }
   ],
   "source": [
    "import pandas as pd\n",
    "import numpy as np\n",
    "\n",
    "import seaborn as sns\n",
    "\n",
    "import matplotlib.pyplot as plt\n",
    "\n",
    "import warnings\n",
    "warnings.filterwarnings('ignore')\n",
    "\n",
    "%matplotlib inline"
   ]
  },
  {
   "cell_type": "code",
   "execution_count": 16,
   "metadata": {
    "collapsed": true
   },
   "outputs": [],
   "source": [
    "train = pd.read_csv('./data/train.csv', index_col='id', encoding=\"ISO-8859-1\")\n",
    "test = pd.read_csv('./data/test.csv', index_col='id', encoding=\"ISO-8859-1\")\n",
    "\n",
    "products_description = pd.read_csv('./data/product_descriptions.csv')\n",
    "prod_attributes = pd.read_csv('./data/attributes.csv')"
   ]
  },
  {
   "cell_type": "code",
   "execution_count": 17,
   "metadata": {
    "collapsed": true
   },
   "outputs": [],
   "source": [
    "attributes = prod_attributes[prod_attributes.name == \"MFG Brand Name\"][[\"product_uid\", \"value\"]].rename(columns={\"value\": \"brand\"})"
   ]
  },
  {
   "cell_type": "code",
   "execution_count": 4,
   "metadata": {
    "collapsed": true
   },
   "outputs": [],
   "source": [
    "# merge datasets\n",
    "train_merged = pd.merge(train, products_description, how='left', on='product_uid')\n",
    "test_merged = pd.merge(test, products_description, how='left', on='product_uid')"
   ]
  },
  {
   "cell_type": "code",
   "execution_count": 5,
   "metadata": {
    "collapsed": false
   },
   "outputs": [],
   "source": [
    "from sklearn.feature_extraction.text import CountVectorizer"
   ]
  },
  {
   "cell_type": "code",
   "execution_count": 6,
   "metadata": {
    "collapsed": false
   },
   "outputs": [],
   "source": [
    "vec = CountVectorizer()\n",
    "bow = vec.fit_transform(train_merged.search_term)"
   ]
  },
  {
   "cell_type": "code",
   "execution_count": 7,
   "metadata": {
    "collapsed": false
   },
   "outputs": [],
   "source": [
    "import nltk"
   ]
  },
  {
   "cell_type": "code",
   "execution_count": 10,
   "metadata": {
    "collapsed": false
   },
   "outputs": [],
   "source": [
    "search_terms_text = ' '.join(train_merged.search_term)\n",
    "search_terms = search_terms_text.split()"
   ]
  },
  {
   "cell_type": "code",
   "execution_count": 11,
   "metadata": {
    "collapsed": false
   },
   "outputs": [],
   "source": [
    "search_terms_freq = nltk.FreqDist(search_terms)"
   ]
  },
  {
   "cell_type": "code",
   "execution_count": 12,
   "metadata": {
    "collapsed": false
   },
   "outputs": [
    {
     "data": {
      "text/plain": [
       "[(u'door', 2643),\n",
       " (u'light', 1976),\n",
       " (u'for', 1803),\n",
       " (u'in', 1657),\n",
       " (u'inch', 1485),\n",
       " (u'wall', 1423),\n",
       " (u'shower', 1421),\n",
       " (u'with', 1416),\n",
       " (u'white', 1351),\n",
       " (u'wood', 1317),\n",
       " (u'x', 1302),\n",
       " (u'tile', 1288),\n",
       " (u'and', 1156),\n",
       " (u'paint', 1112),\n",
       " (u'cabinet', 1061),\n",
       " (u'outdoor', 1033),\n",
       " (u'water', 1015),\n",
       " (u'vanity', 956),\n",
       " (u'kitchen', 949),\n",
       " (u'bathroom', 946),\n",
       " (u'doors', 941),\n",
       " (u'gas', 916),\n",
       " (u'lights', 840),\n",
       " (u'air', 821),\n",
       " (u'led', 802),\n",
       " (u'sink', 786),\n",
       " (u'2', 780),\n",
       " (u'1/2', 772),\n",
       " (u'ceiling', 772),\n",
       " (u'faucet', 766),\n",
       " (u'kit', 760),\n",
       " (u'4', 733),\n",
       " (u'floor', 728),\n",
       " (u'saw', 714),\n",
       " (u'pipe', 712),\n",
       " (u'black', 709),\n",
       " (u'steel', 699),\n",
       " (u'fan', 696),\n",
       " (u'window', 684),\n",
       " (u'lighting', 668),\n",
       " (u'electric', 664),\n",
       " (u'1', 637),\n",
       " (u'glass', 622),\n",
       " (u'metal', 603),\n",
       " (u'heater', 596),\n",
       " (u'3', 588),\n",
       " (u'toilet', 580),\n",
       " (u'wire', 568),\n",
       " (u'6', 564),\n",
       " (u'pvc', 564)]"
      ]
     },
     "execution_count": 12,
     "metadata": {},
     "output_type": "execute_result"
    }
   ],
   "source": [
    "search_terms_freq.most_common(50)"
   ]
  },
  {
   "cell_type": "code",
   "execution_count": 13,
   "metadata": {
    "collapsed": true
   },
   "outputs": [],
   "source": [
    "brand_freq = nltk.FreqDist(attributes.brand)"
   ]
  },
  {
   "cell_type": "code",
   "execution_count": 15,
   "metadata": {
    "collapsed": false
   },
   "outputs": [
    {
     "data": {
      "text/plain": [
       "[('Unbranded', 2954),\n",
       " ('Hampton Bay', 1723),\n",
       " ('KOHLER', 1389),\n",
       " ('Everbilt', 1381),\n",
       " ('Home Decorators Collection', 1275),\n",
       " ('GE', 987),\n",
       " ('Prime-Line', 931),\n",
       " ('Crown Bolt', 878),\n",
       " ('Delta', 853),\n",
       " ('DEWALT', 675),\n",
       " ('Milwaukee', 618),\n",
       " ('American Standard', 592),\n",
       " ('Philips', 565),\n",
       " ('Husky', 533),\n",
       " ('MOEN', 518),\n",
       " ('Daltile', 491),\n",
       " ('BEHR Premium Plus Ultra', 455),\n",
       " ('Glacier Bay', 420),\n",
       " ('Makita', 403),\n",
       " ('Lithonia Lighting', 397)]"
      ]
     },
     "execution_count": 15,
     "metadata": {},
     "output_type": "execute_result"
    }
   ],
   "source": [
    "brand_freq.most_common(20)"
   ]
  },
  {
   "cell_type": "code",
   "execution_count": 21,
   "metadata": {
    "collapsed": false
   },
   "outputs": [
    {
     "data": {
      "text/plain": [
       "MFG Brand Name                          86250\n",
       "Bullet02                                86248\n",
       "Bullet03                                86226\n",
       "Bullet04                                86174\n",
       "Bullet01                                85940\n",
       "Product Width (in.)                     61137\n",
       "Bullet05                                60529\n",
       "Product Height (in.)                    54698\n",
       "Product Depth (in.)                     53652\n",
       "Product Weight (lb.)                    45175\n",
       "Bullet06                                44901\n",
       "Color Family                            41508\n",
       "Bullet07                                34349\n",
       "Material                                31500\n",
       "Color/Finish                            28564\n",
       "Bullet08                                26645\n",
       "Certifications and Listings             24583\n",
       "Bullet09                                20567\n",
       "Assembled Height (in.)                  18299\n",
       "Assembled Width (in.)                   18263\n",
       "Assembled Depth (in.)                   18198\n",
       "Product Length (in.)                    16705\n",
       "Bullet10                                14763\n",
       "Indoor/Outdoor                          12939\n",
       "Bullet11                                11784\n",
       "Commercial / Residential                 9530\n",
       "Bullet12                                 8795\n",
       "ENERGY STAR Certified                    8420\n",
       "Hardware Included                        7462\n",
       "Package Quantity                         6904\n",
       "                                        ...  \n",
       "Chuck Style                                 1\n",
       "HDMI Outputs                                1\n",
       "Number of settings included                 1\n",
       "Spatter shield                              1\n",
       "Number of Component Video Outputs           1\n",
       "Total number of storage compartments        1\n",
       "Number of tacks per strip                   1\n",
       "Duct System                                 1\n",
       "Multi-family                                1\n",
       "Point Size                                  1\n",
       "Number of Seats (max)                       1\n",
       "Tray Material                               1\n",
       "Individual strip diameter (in.)             1\n",
       "Sensor bar                                  1\n",
       "Compatible with a knee kicker               1\n",
       "Safe working load (lb.)                     1\n",
       "Accent mount material                       1\n",
       "Package size (oz.)                          1\n",
       "Number of Coaxial Outputs                   1\n",
       "Solar powered                               1\n",
       "Recreational Vehicle Product Type           1\n",
       "Container/Shelf Material                    1\n",
       "Individual strip length (in.)               1\n",
       "Closure Type                                1\n",
       "Warming Rack                                1\n",
       "Average Locking Speed (ft/sec)              1\n",
       "Convex                                      1\n",
       "Point Type                                  1\n",
       "Grip Style                                  1\n",
       "Removable cover                             1\n",
       "Name: name, dtype: int64"
      ]
     },
     "execution_count": 21,
     "metadata": {},
     "output_type": "execute_result"
    }
   ],
   "source": [
    "prod_attributes.name.value_counts()"
   ]
  },
  {
   "cell_type": "code",
   "execution_count": 24,
   "metadata": {
    "collapsed": false
   },
   "outputs": [],
   "source": [
    "# import module for regular expression\n",
    "import re"
   ]
  },
  {
   "cell_type": "code",
   "execution_count": 41,
   "metadata": {
    "collapsed": true
   },
   "outputs": [],
   "source": [
    "dimensions_regex = r'[0-9]+[ ]*x[ ]*[0-9]+[ ]*(?:x[ ]*[0-9]+)?'"
   ]
  },
  {
   "cell_type": "code",
   "execution_count": 44,
   "metadata": {
    "collapsed": false
   },
   "outputs": [
    {
     "data": {
      "text/plain": [
       "['9 ', '4 ', ' 6']"
      ]
     },
     "execution_count": 44,
     "metadata": {},
     "output_type": "execute_result"
    }
   ],
   "source": [
    "re.findall(dimensions_regex, 'This drum is of the size 9 x4 x 6')[0].split('x')"
   ]
  },
  {
   "cell_type": "code",
   "execution_count": null,
   "metadata": {
    "collapsed": true
   },
   "outputs": [],
   "source": []
  },
  {
   "cell_type": "code",
   "execution_count": 46,
   "metadata": {
    "collapsed": false
   },
   "outputs": [],
   "source": [
    "width = prod_attributes[prod_attributes.name == \"Product Width (in.)\"][[\"product_uid\", \"value\"]].rename(columns={\"value\": \"width\"})"
   ]
  },
  {
   "cell_type": "code",
   "execution_count": 49,
   "metadata": {
    "collapsed": true
   },
   "outputs": [],
   "source": [
    "train_with_width  = pd.merge(train_merged, width, on='product_uid', how='left')"
   ]
  },
  {
   "cell_type": "code",
   "execution_count": 50,
   "metadata": {
    "collapsed": false
   },
   "outputs": [
    {
     "data": {
      "text/html": [
       "<div>\n",
       "<table border=\"1\" class=\"dataframe\">\n",
       "  <thead>\n",
       "    <tr style=\"text-align: right;\">\n",
       "      <th></th>\n",
       "      <th>product_uid</th>\n",
       "      <th>product_title</th>\n",
       "      <th>search_term</th>\n",
       "      <th>relevance</th>\n",
       "      <th>product_description</th>\n",
       "      <th>width</th>\n",
       "    </tr>\n",
       "  </thead>\n",
       "  <tbody>\n",
       "    <tr>\n",
       "      <th>0</th>\n",
       "      <td>100001</td>\n",
       "      <td>Simpson Strong-Tie 12-Gauge Angle</td>\n",
       "      <td>angle bracket</td>\n",
       "      <td>3.00</td>\n",
       "      <td>Not only do angles make joints stronger, they ...</td>\n",
       "      <td>3</td>\n",
       "    </tr>\n",
       "    <tr>\n",
       "      <th>1</th>\n",
       "      <td>100001</td>\n",
       "      <td>Simpson Strong-Tie 12-Gauge Angle</td>\n",
       "      <td>l bracket</td>\n",
       "      <td>2.50</td>\n",
       "      <td>Not only do angles make joints stronger, they ...</td>\n",
       "      <td>3</td>\n",
       "    </tr>\n",
       "    <tr>\n",
       "      <th>2</th>\n",
       "      <td>100002</td>\n",
       "      <td>BEHR Premium Textured DeckOver 1-gal. #SC-141 ...</td>\n",
       "      <td>deck over</td>\n",
       "      <td>3.00</td>\n",
       "      <td>BEHR Premium Textured DECKOVER is an innovativ...</td>\n",
       "      <td>NaN</td>\n",
       "    </tr>\n",
       "    <tr>\n",
       "      <th>3</th>\n",
       "      <td>100005</td>\n",
       "      <td>Delta Vero 1-Handle Shower Only Faucet Trim Ki...</td>\n",
       "      <td>rain shower head</td>\n",
       "      <td>2.33</td>\n",
       "      <td>Update your bathroom with the Delta Vero Singl...</td>\n",
       "      <td>7.09</td>\n",
       "    </tr>\n",
       "    <tr>\n",
       "      <th>4</th>\n",
       "      <td>100005</td>\n",
       "      <td>Delta Vero 1-Handle Shower Only Faucet Trim Ki...</td>\n",
       "      <td>shower only faucet</td>\n",
       "      <td>2.67</td>\n",
       "      <td>Update your bathroom with the Delta Vero Singl...</td>\n",
       "      <td>7.09</td>\n",
       "    </tr>\n",
       "  </tbody>\n",
       "</table>\n",
       "</div>"
      ],
      "text/plain": [
       "   product_uid                                      product_title  \\\n",
       "0       100001                  Simpson Strong-Tie 12-Gauge Angle   \n",
       "1       100001                  Simpson Strong-Tie 12-Gauge Angle   \n",
       "2       100002  BEHR Premium Textured DeckOver 1-gal. #SC-141 ...   \n",
       "3       100005  Delta Vero 1-Handle Shower Only Faucet Trim Ki...   \n",
       "4       100005  Delta Vero 1-Handle Shower Only Faucet Trim Ki...   \n",
       "\n",
       "          search_term  relevance  \\\n",
       "0       angle bracket       3.00   \n",
       "1           l bracket       2.50   \n",
       "2           deck over       3.00   \n",
       "3    rain shower head       2.33   \n",
       "4  shower only faucet       2.67   \n",
       "\n",
       "                                 product_description width  \n",
       "0  Not only do angles make joints stronger, they ...     3  \n",
       "1  Not only do angles make joints stronger, they ...     3  \n",
       "2  BEHR Premium Textured DECKOVER is an innovativ...   NaN  \n",
       "3  Update your bathroom with the Delta Vero Singl...  7.09  \n",
       "4  Update your bathroom with the Delta Vero Singl...  7.09  "
      ]
     },
     "execution_count": 50,
     "metadata": {},
     "output_type": "execute_result"
    }
   ],
   "source": [
    "train_with_width.head()"
   ]
  },
  {
   "cell_type": "code",
   "execution_count": 54,
   "metadata": {
    "collapsed": false
   },
   "outputs": [],
   "source": [
    "def has_digit(text):\n",
    "    return int(any(char.isdigit() for char in text))\n",
    "\n",
    "train_with_width['has_digit'] = train_with_width.search_term.map(has_digit)"
   ]
  },
  {
   "cell_type": "code",
   "execution_count": 58,
   "metadata": {
    "collapsed": true
   },
   "outputs": [],
   "source": [
    "train_with_width['search_term_len'] = train_with_width.search_term.map(lambda x: len(x.split()))"
   ]
  },
  {
   "cell_type": "code",
   "execution_count": 60,
   "metadata": {
    "collapsed": true
   },
   "outputs": [],
   "source": [
    "def num_expressive_terms(text):\n",
    "    return len([word for word in text.split() if len(word) >= 6])\n",
    "\n",
    "train_with_width['num_expressive_words'] = train_with_width.search_term.map(num_expressive_terms)"
   ]
  },
  {
   "cell_type": "code",
   "execution_count": 67,
   "metadata": {
    "collapsed": true
   },
   "outputs": [],
   "source": [
    "def has_dimension(text):\n",
    "    return int(len(re.findall(dimensions_regex, text)) > 0)\n",
    "\n",
    "train_with_width['has_dimension'] = train_with_width.search_term.map(has_dimension)"
   ]
  },
  {
   "cell_type": "code",
   "execution_count": 57,
   "metadata": {
    "collapsed": false
   },
   "outputs": [
    {
     "data": {
      "image/png": "[encoded data removed]",
      "text/plain": [
       "<matplotlib.figure.Figure at 0x2f2f85c0>"
      ]
     },
     "metadata": {},
     "output_type": "display_data"
    }
   ],
   "source": [
    "sns.factorplot(x='has_digit', y='relevance', data=train_with_width);"
   ]
  },
  {
   "cell_type": "code",
   "execution_count": 59,
   "metadata": {
    "collapsed": false
   },
   "outputs": [
    {
     "data": {
      "image/png": "[encoded data removed]",
      "text/plain": [
       "<matplotlib.figure.Figure at 0x2c4256d8>"
      ]
     },
     "metadata": {},
     "output_type": "display_data"
    }
   ],
   "source": [
    "sns.pairplot(train_with_width, vars=['search_term_len', 'relevance']);"
   ]
  },
  {
   "cell_type": "code",
   "execution_count": 62,
   "metadata": {
    "collapsed": false
   },
   "outputs": [
    {
     "data": {
      "image/png": "[encoded data removed]",
      "text/plain": [
       "<matplotlib.figure.Figure at 0x3cf934e0>"
      ]
     },
     "metadata": {},
     "output_type": "display_data"
    }
   ],
   "source": [
    "sns.pairplot(train_with_width, vars=['num_expressive_words', 'relevance']);"
   ]
  },
  {
   "cell_type": "code",
   "execution_count": 65,
   "metadata": {
    "collapsed": false
   },
   "outputs": [
    {
     "data": {
      "image/png": "[encoded data removed]",
      "text/plain": [
       "<matplotlib.figure.Figure at 0x2f4c1518>"
      ]
     },
     "metadata": {},
     "output_type": "display_data"
    }
   ],
   "source": [
    "sns.factorplot(x='has_dimension', y='relevance', data=train_with_width);"
   ]
  },
  {
   "cell_type": "code",
   "execution_count": null,
   "metadata": {
    "collapsed": true
   },
   "outputs": [],
   "source": []
  },
  {
   "cell_type": "code",
   "execution_count": null,
   "metadata": {
    "collapsed": true
   },
   "outputs": [],
   "source": []
  },
  {
   "cell_type": "code",
   "execution_count": null,
   "metadata": {
    "collapsed": true
   },
   "outputs": [],
   "source": []
  },
  {
   "cell_type": "code",
   "execution_count": null,
   "metadata": {
    "collapsed": true
   },
   "outputs": [],
   "source": []
  },
  {
   "cell_type": "code",
   "execution_count": null,
   "metadata": {
    "collapsed": true
   },
   "outputs": [],
   "source": []
  }
 ],
 "metadata": {
  "kernelspec": {
   "display_name": "Python 2",
   "language": "python",
   "name": "python2"
  },
  "language_info": {
   "codemirror_mode": {
    "name": "ipython",
    "version": 2
   },
   "file_extension": ".py",
   "mimetype": "text/x-python",
   "name": "python",
   "nbconvert_exporter": "python",
   "pygments_lexer": "ipython2",
   "version": "2.7.11"
  }
 },
 "nbformat": 4,
 "nbformat_minor": 0
}
