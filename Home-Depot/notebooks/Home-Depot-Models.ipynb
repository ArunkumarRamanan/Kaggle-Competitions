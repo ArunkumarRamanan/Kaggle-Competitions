{
 "cells": [
  {
   "cell_type": "code",
   "execution_count": 68,
   "metadata": {
    "collapsed": true
   },
   "outputs": [],
   "source": [
    "from __future__ import division\n",
    "from nltk.util import ngrams\n",
    "\n",
    "import numpy as np\n",
    "import pandas as pd\n",
    "import re\n",
    "\n",
    "import matplotlib.pyplot as plt\n",
    "import seaborn as sns\n",
    "\n",
    "from sklearn.feature_extraction import text\n",
    "from sklearn.cross_validation import train_test_split, cross_val_score\n",
    "from sklearn.metrics import mean_squared_error, make_scorer\n",
    "\n",
    "from sklearn.linear_model import LinearRegression\n",
    "\n",
    "%matplotlib inline"
   ]
  },
  {
   "cell_type": "code",
   "execution_count": 18,
   "metadata": {
    "collapsed": true
   },
   "outputs": [],
   "source": [
    "def eval_metric(y_true, y_pred):\n",
    "    return np.sqrt(mean_squared_error(y_true, y_pred))\n",
    "\n",
    "rmse_scorer = make_scorer(eval_metric, greater_is_better=False)"
   ]
  },
  {
   "cell_type": "markdown",
   "metadata": {},
   "source": [
    "## Evaluation metric: RMSE"
   ]
  },
  {
   "cell_type": "code",
   "execution_count": 2,
   "metadata": {
    "collapsed": true
   },
   "outputs": [],
   "source": [
    "# load train and test set\n",
    "train = pd.read_csv('../data/train.csv')\n",
    "test = pd.read_csv('../data/test.csv')"
   ]
  },
  {
   "cell_type": "code",
   "execution_count": 3,
   "metadata": {
    "collapsed": true
   },
   "outputs": [],
   "source": [
    "X = train[['product_title', 'search_term']]\n",
    "y = train.relevance"
   ]
  },
  {
   "cell_type": "markdown",
   "metadata": {},
   "source": [
    "```\n",
    "1. Preprocessing ( Sanitize strings, correct spelling mistakes )\n",
    "2. Stemming ( Check to see if this helps )\n",
    "```"
   ]
  },
  {
   "cell_type": "code",
   "execution_count": 55,
   "metadata": {
    "collapsed": true
   },
   "outputs": [],
   "source": [
    "pattern = re.compile(r'\\b(' + r'|'.join(text.ENGLISH_STOP_WORDS) + r')\\b\\s*')\n",
    "\n",
    "def filter_characters(char):\n",
    "    return char == '\\n' or 32 <= ord(char) <= 126\n",
    "\n",
    "def sanitize(s):\n",
    "    s = s.replace('ft.', 'feet')\n",
    "    s = s.replace('cu.', 'cubic')\n",
    "    s = s.replace('mm', 'milimeters')\n",
    "    s = s.replace('oz.', 'ounces')\n",
    "    s = s.replace('btu', 'british thermal unit')\n",
    "    s = s.replace('otr', 'over the range')\n",
    "    s = s.replace('lb.', 'pounds')\n",
    "    s = s.replace('in.', 'inches')\n",
    "    s = s.replace('&amp;', 'and')\n",
    "    s = s.replace('sq.', 'square')\n",
    "    s = s.replace('gal.', 'gallon')\n",
    "    \n",
    "    return s\n",
    "\n",
    "def preprocess(s):\n",
    "    s = filter(filter_characters, s)\n",
    "    s = s.lower()\n",
    "    s = sanitize(s)\n",
    "    return pattern.sub('', s)"
   ]
  },
  {
   "cell_type": "code",
   "execution_count": 56,
   "metadata": {
    "collapsed": true
   },
   "outputs": [],
   "source": [
    "def generate_ngrams(sentence, ngram_range=3):\n",
    "    possible_combinations = []\n",
    "    for n in range(1, ngram_range + 1):\n",
    "        ngram_tuples = ngrams(sentence.split(), n)\n",
    "        for gram in ngram_tuples:\n",
    "            term = ' '.join(gram)\n",
    "            possible_combinations.append(term)\n",
    "    return possible_combinations\n",
    "\n",
    "def average_dice(row):\n",
    "    search_term = row['search_term']\n",
    "    product_title = row['product_title']\n",
    "    \n",
    "    product_title = product_title.lower()\n",
    "    \n",
    "    search_term_combinations = generate_ngrams(search_term, ngram_range=6) # generate possible combinations\n",
    "    dice_scores = 0 # keep track of dice score\n",
    "    product_title_count = len(set(product_title.split(' ')))\n",
    "    \n",
    "    for term in search_term_combinations:\n",
    "        term = term.lower()\n",
    "        term_words = term.split(' ')\n",
    "        intersection_count = np.array([1 if w in product_title else 0 for w in term_words]).sum(axis=0)\n",
    "        dice_scores += ((2 * intersection_count) / (product_title_count + len(set(term_words))))\n",
    "    \n",
    "    return dice_scores / 6."
   ]
  },
  {
   "cell_type": "code",
   "execution_count": 57,
   "metadata": {
    "collapsed": false
   },
   "outputs": [],
   "source": [
    "X.loc[:, 'product_title'] = X.product_title.map(preprocess)\n",
    "X.loc[:, 'search_term'] = X.search_term.map(preprocess)\n",
    "X.loc[:, 'average_dice_score'] = X.apply(average_dice, axis=1)"
   ]
  },
  {
   "cell_type": "code",
   "execution_count": 58,
   "metadata": {
    "collapsed": false
   },
   "outputs": [
    {
     "data": {
      "text/html": [
       "<div>\n",
       "<table border=\"1\" class=\"dataframe\">\n",
       "  <thead>\n",
       "    <tr style=\"text-align: right;\">\n",
       "      <th></th>\n",
       "      <th>product_title</th>\n",
       "      <th>search_term</th>\n",
       "      <th>average_dice_score</th>\n",
       "    </tr>\n",
       "  </thead>\n",
       "  <tbody>\n",
       "    <tr>\n",
       "      <th>0</th>\n",
       "      <td>simpson strong-tie 12-gauge angle</td>\n",
       "      <td>angle bracket</td>\n",
       "      <td>0.122222</td>\n",
       "    </tr>\n",
       "    <tr>\n",
       "      <th>1</th>\n",
       "      <td>simpson strong-tie 12-gauge angle</td>\n",
       "      <td>l bracket</td>\n",
       "      <td>0.122222</td>\n",
       "    </tr>\n",
       "    <tr>\n",
       "      <th>2</th>\n",
       "      <td>behr premium textured deckover 1-gallon #sc-14...</td>\n",
       "      <td>deck</td>\n",
       "      <td>0.030303</td>\n",
       "    </tr>\n",
       "    <tr>\n",
       "      <th>3</th>\n",
       "      <td>delta vero 1-handle shower faucet trim kit chr...</td>\n",
       "      <td>rain shower head</td>\n",
       "      <td>0.111500</td>\n",
       "    </tr>\n",
       "    <tr>\n",
       "      <th>4</th>\n",
       "      <td>delta vero 1-handle shower faucet trim kit chr...</td>\n",
       "      <td>shower faucet</td>\n",
       "      <td>0.116162</td>\n",
       "    </tr>\n",
       "  </tbody>\n",
       "</table>\n",
       "</div>"
      ],
      "text/plain": [
       "                                       product_title       search_term  \\\n",
       "0                  simpson strong-tie 12-gauge angle     angle bracket   \n",
       "1                  simpson strong-tie 12-gauge angle         l bracket   \n",
       "2  behr premium textured deckover 1-gallon #sc-14...             deck    \n",
       "3  delta vero 1-handle shower faucet trim kit chr...  rain shower head   \n",
       "4  delta vero 1-handle shower faucet trim kit chr...     shower faucet   \n",
       "\n",
       "   average_dice_score  \n",
       "0            0.122222  \n",
       "1            0.122222  \n",
       "2            0.030303  \n",
       "3            0.111500  \n",
       "4            0.116162  "
      ]
     },
     "execution_count": 58,
     "metadata": {},
     "output_type": "execute_result"
    }
   ],
   "source": [
    "X.head()"
   ]
  },
  {
   "cell_type": "markdown",
   "metadata": {},
   "source": [
    "## Train Test split"
   ]
  },
  {
   "cell_type": "code",
   "execution_count": 59,
   "metadata": {
    "collapsed": true
   },
   "outputs": [],
   "source": [
    "X_train, X_test, y_train, y_test = train_test_split(X, y, test_size=0.3, random_state=1279)"
   ]
  },
  {
   "cell_type": "markdown",
   "metadata": {},
   "source": [
    "## Count Vectorizer"
   ]
  },
  {
   "cell_type": "code",
   "execution_count": 75,
   "metadata": {
    "collapsed": false
   },
   "outputs": [],
   "source": [
    "train_corpus = X_train.apply(lambda x: '%s %s' %(x['search_term'], x['product_title']), axis=1)\n",
    "test_corpus = X_test.apply(lambda x: '%s %s' %(x['search_term'], x['product_title']), axis=1)"
   ]
  },
  {
   "cell_type": "code",
   "execution_count": 76,
   "metadata": {
    "collapsed": false
   },
   "outputs": [],
   "source": [
    "count_vec = text.CountVectorizer(max_df=.95, min_df=3)\n",
    "train_corpus = count_vec.fit_transform(train_corpus)\n",
    "test_corpus = count_vec.transform(test_corpus)"
   ]
  },
  {
   "cell_type": "code",
   "execution_count": 77,
   "metadata": {
    "collapsed": false
   },
   "outputs": [
    {
     "data": {
      "text/plain": [
       "LinearRegression(copy_X=True, fit_intercept=True, n_jobs=1, normalize=False)"
      ]
     },
     "execution_count": 77,
     "metadata": {},
     "output_type": "execute_result"
    }
   ],
   "source": [
    "clf = LinearRegression()\n",
    "clf.fit(train_corpus, y_train)"
   ]
  },
  {
   "cell_type": "code",
   "execution_count": 78,
   "metadata": {
    "collapsed": false
   },
   "outputs": [],
   "source": [
    "train_preds = clf.predict(train_corpus)\n",
    "test_preds = clf.predict(test_corpus)"
   ]
  },
  {
   "cell_type": "code",
   "execution_count": 79,
   "metadata": {
    "collapsed": false
   },
   "outputs": [
    {
     "name": "stdout",
     "output_type": "stream",
     "text": [
      "RMSE on training set 0.419057 \n",
      "RMSE on test set 0.533445 \n"
     ]
    }
   ],
   "source": [
    "print 'RMSE on training set %f ' %(eval_metric(y_train, train_preds))\n",
    "print 'RMSE on test set %f ' %(eval_metric(y_test, test_preds))"
   ]
  },
  {
   "cell_type": "markdown",
   "metadata": {},
   "source": [
    "## TF-IDF Vectorizer"
   ]
  },
  {
   "cell_type": "code",
   "execution_count": 80,
   "metadata": {
    "collapsed": true
   },
   "outputs": [],
   "source": [
    "train_corpus = X_train.apply(lambda x: '%s %s' %(x['search_term'], x['product_title']), axis=1)\n",
    "test_corpus = X_test.apply(lambda x: '%s %s' %(x['search_term'], x['product_title']), axis=1)"
   ]
  },
  {
   "cell_type": "code",
   "execution_count": 81,
   "metadata": {
    "collapsed": true
   },
   "outputs": [],
   "source": [
    "tfidf_vec = text.TfidfVectorizer(max_df=.95, min_df=3)\n",
    "train_corpus = tfidf_vec.fit_transform(train_corpus)\n",
    "test_corpus = tfidf_vec.transform(test_corpus)"
   ]
  },
  {
   "cell_type": "code",
   "execution_count": 82,
   "metadata": {
    "collapsed": false
   },
   "outputs": [
    {
     "data": {
      "text/plain": [
       "LinearRegression(copy_X=True, fit_intercept=True, n_jobs=1, normalize=False)"
      ]
     },
     "execution_count": 82,
     "metadata": {},
     "output_type": "execute_result"
    }
   ],
   "source": [
    "clf = LinearRegression()\n",
    "clf.fit(train_corpus, y_train)"
   ]
  },
  {
   "cell_type": "code",
   "execution_count": 83,
   "metadata": {
    "collapsed": true
   },
   "outputs": [],
   "source": [
    "train_preds = clf.predict(train_corpus)\n",
    "test_preds = clf.predict(test_corpus)"
   ]
  },
  {
   "cell_type": "code",
   "execution_count": 84,
   "metadata": {
    "collapsed": false
   },
   "outputs": [
    {
     "name": "stdout",
     "output_type": "stream",
     "text": [
      "RMSE on training set 0.418427 \n",
      "RMSE on test set 0.534408 \n"
     ]
    }
   ],
   "source": [
    "print 'RMSE on training set %f ' %(eval_metric(y_train, train_preds))\n",
    "print 'RMSE on test set %f ' %(eval_metric(y_test, test_preds))"
   ]
  },
  {
   "cell_type": "code",
   "execution_count": null,
   "metadata": {
    "collapsed": true
   },
   "outputs": [],
   "source": []
  }
 ],
 "metadata": {
  "kernelspec": {
   "display_name": "Python 2",
   "language": "python",
   "name": "python2"
  },
  "language_info": {
   "codemirror_mode": {
    "name": "ipython",
    "version": 2
   },
   "file_extension": ".py",
   "mimetype": "text/x-python",
   "name": "python",
   "nbconvert_exporter": "python",
   "pygments_lexer": "ipython2",
   "version": "2.7.11"
  }
 },
 "nbformat": 4,
 "nbformat_minor": 0
}
