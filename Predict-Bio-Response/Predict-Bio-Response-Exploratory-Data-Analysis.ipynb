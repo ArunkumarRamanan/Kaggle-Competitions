{
 "cells": [
  {
   "cell_type": "code",
   "execution_count": 1,
   "metadata": {
    "collapsed": true
   },
   "outputs": [],
   "source": [
    "import pandas as pd\n",
    "import numpy as np\n",
    "\n",
    "import seaborn as sns\n",
    "import matplotlib.pyplot as plt\n",
    "\n",
    "%matplotlib inline"
   ]
  },
  {
   "cell_type": "markdown",
   "metadata": {},
   "source": [
    "## Objectives\n",
    "\n",
    "* Exploratory Data Analysis\n",
    "* How to deal with data that has anonymous features"
   ]
  },
  {
   "cell_type": "code",
   "execution_count": 2,
   "metadata": {
    "collapsed": true
   },
   "outputs": [],
   "source": [
    "train = pd.read_csv('./data/train.csv')\n",
    "test = pd.read_csv('./data/test.csv')"
   ]
  },
  {
   "cell_type": "code",
   "execution_count": 3,
   "metadata": {
    "collapsed": false
   },
   "outputs": [
    {
     "data": {
      "text/html": [
       "<div>\n",
       "<table border=\"1\" class=\"dataframe\">\n",
       "  <thead>\n",
       "    <tr style=\"text-align: right;\">\n",
       "      <th></th>\n",
       "      <th>Activity</th>\n",
       "      <th>D1</th>\n",
       "      <th>D2</th>\n",
       "      <th>D3</th>\n",
       "      <th>D4</th>\n",
       "      <th>D5</th>\n",
       "      <th>D6</th>\n",
       "      <th>D7</th>\n",
       "      <th>D8</th>\n",
       "      <th>D9</th>\n",
       "      <th>...</th>\n",
       "      <th>D1767</th>\n",
       "      <th>D1768</th>\n",
       "      <th>D1769</th>\n",
       "      <th>D1770</th>\n",
       "      <th>D1771</th>\n",
       "      <th>D1772</th>\n",
       "      <th>D1773</th>\n",
       "      <th>D1774</th>\n",
       "      <th>D1775</th>\n",
       "      <th>D1776</th>\n",
       "    </tr>\n",
       "  </thead>\n",
       "  <tbody>\n",
       "    <tr>\n",
       "      <th>0</th>\n",
       "      <td>1</td>\n",
       "      <td>0.000000</td>\n",
       "      <td>0.497009</td>\n",
       "      <td>0.10</td>\n",
       "      <td>0.0</td>\n",
       "      <td>0.132956</td>\n",
       "      <td>0.678031</td>\n",
       "      <td>0.273166</td>\n",
       "      <td>0.585445</td>\n",
       "      <td>0.743663</td>\n",
       "      <td>...</td>\n",
       "      <td>0</td>\n",
       "      <td>0</td>\n",
       "      <td>0</td>\n",
       "      <td>0</td>\n",
       "      <td>0</td>\n",
       "      <td>0</td>\n",
       "      <td>0</td>\n",
       "      <td>0</td>\n",
       "      <td>0</td>\n",
       "      <td>0</td>\n",
       "    </tr>\n",
       "    <tr>\n",
       "      <th>1</th>\n",
       "      <td>1</td>\n",
       "      <td>0.366667</td>\n",
       "      <td>0.606291</td>\n",
       "      <td>0.05</td>\n",
       "      <td>0.0</td>\n",
       "      <td>0.111209</td>\n",
       "      <td>0.803455</td>\n",
       "      <td>0.106105</td>\n",
       "      <td>0.411754</td>\n",
       "      <td>0.836582</td>\n",
       "      <td>...</td>\n",
       "      <td>1</td>\n",
       "      <td>1</td>\n",
       "      <td>1</td>\n",
       "      <td>1</td>\n",
       "      <td>0</td>\n",
       "      <td>1</td>\n",
       "      <td>0</td>\n",
       "      <td>0</td>\n",
       "      <td>1</td>\n",
       "      <td>0</td>\n",
       "    </tr>\n",
       "    <tr>\n",
       "      <th>2</th>\n",
       "      <td>1</td>\n",
       "      <td>0.033300</td>\n",
       "      <td>0.480124</td>\n",
       "      <td>0.00</td>\n",
       "      <td>0.0</td>\n",
       "      <td>0.209791</td>\n",
       "      <td>0.610350</td>\n",
       "      <td>0.356453</td>\n",
       "      <td>0.517720</td>\n",
       "      <td>0.679051</td>\n",
       "      <td>...</td>\n",
       "      <td>0</td>\n",
       "      <td>0</td>\n",
       "      <td>0</td>\n",
       "      <td>0</td>\n",
       "      <td>0</td>\n",
       "      <td>0</td>\n",
       "      <td>0</td>\n",
       "      <td>0</td>\n",
       "      <td>0</td>\n",
       "      <td>0</td>\n",
       "    </tr>\n",
       "    <tr>\n",
       "      <th>3</th>\n",
       "      <td>1</td>\n",
       "      <td>0.000000</td>\n",
       "      <td>0.538825</td>\n",
       "      <td>0.00</td>\n",
       "      <td>0.5</td>\n",
       "      <td>0.196344</td>\n",
       "      <td>0.724230</td>\n",
       "      <td>0.235606</td>\n",
       "      <td>0.288764</td>\n",
       "      <td>0.805110</td>\n",
       "      <td>...</td>\n",
       "      <td>0</td>\n",
       "      <td>0</td>\n",
       "      <td>0</td>\n",
       "      <td>0</td>\n",
       "      <td>0</td>\n",
       "      <td>0</td>\n",
       "      <td>0</td>\n",
       "      <td>0</td>\n",
       "      <td>0</td>\n",
       "      <td>0</td>\n",
       "    </tr>\n",
       "    <tr>\n",
       "      <th>4</th>\n",
       "      <td>0</td>\n",
       "      <td>0.100000</td>\n",
       "      <td>0.517794</td>\n",
       "      <td>0.00</td>\n",
       "      <td>0.0</td>\n",
       "      <td>0.494734</td>\n",
       "      <td>0.781422</td>\n",
       "      <td>0.154361</td>\n",
       "      <td>0.303809</td>\n",
       "      <td>0.812646</td>\n",
       "      <td>...</td>\n",
       "      <td>0</td>\n",
       "      <td>0</td>\n",
       "      <td>0</td>\n",
       "      <td>0</td>\n",
       "      <td>0</td>\n",
       "      <td>0</td>\n",
       "      <td>0</td>\n",
       "      <td>0</td>\n",
       "      <td>0</td>\n",
       "      <td>0</td>\n",
       "    </tr>\n",
       "  </tbody>\n",
       "</table>\n",
       "<p>5 rows × 1777 columns</p>\n",
       "</div>"
      ],
      "text/plain": [
       "   Activity        D1        D2    D3   D4        D5        D6        D7  \\\n",
       "0         1  0.000000  0.497009  0.10  0.0  0.132956  0.678031  0.273166   \n",
       "1         1  0.366667  0.606291  0.05  0.0  0.111209  0.803455  0.106105   \n",
       "2         1  0.033300  0.480124  0.00  0.0  0.209791  0.610350  0.356453   \n",
       "3         1  0.000000  0.538825  0.00  0.5  0.196344  0.724230  0.235606   \n",
       "4         0  0.100000  0.517794  0.00  0.0  0.494734  0.781422  0.154361   \n",
       "\n",
       "         D8        D9  ...    D1767  D1768  D1769  D1770  D1771  D1772  D1773  \\\n",
       "0  0.585445  0.743663  ...        0      0      0      0      0      0      0   \n",
       "1  0.411754  0.836582  ...        1      1      1      1      0      1      0   \n",
       "2  0.517720  0.679051  ...        0      0      0      0      0      0      0   \n",
       "3  0.288764  0.805110  ...        0      0      0      0      0      0      0   \n",
       "4  0.303809  0.812646  ...        0      0      0      0      0      0      0   \n",
       "\n",
       "   D1774  D1775  D1776  \n",
       "0      0      0      0  \n",
       "1      0      1      0  \n",
       "2      0      0      0  \n",
       "3      0      0      0  \n",
       "4      0      0      0  \n",
       "\n",
       "[5 rows x 1777 columns]"
      ]
     },
     "execution_count": 3,
     "metadata": {},
     "output_type": "execute_result"
    }
   ],
   "source": [
    "train.head()"
   ]
  },
  {
   "cell_type": "code",
   "execution_count": 4,
   "metadata": {
    "collapsed": false
   },
   "outputs": [
    {
     "data": {
      "text/html": [
       "<div>\n",
       "<table border=\"1\" class=\"dataframe\">\n",
       "  <thead>\n",
       "    <tr style=\"text-align: right;\">\n",
       "      <th></th>\n",
       "      <th>D1</th>\n",
       "      <th>D2</th>\n",
       "      <th>D3</th>\n",
       "      <th>D4</th>\n",
       "      <th>D5</th>\n",
       "      <th>D6</th>\n",
       "      <th>D7</th>\n",
       "      <th>D8</th>\n",
       "      <th>D9</th>\n",
       "      <th>D10</th>\n",
       "      <th>...</th>\n",
       "      <th>D1767</th>\n",
       "      <th>D1768</th>\n",
       "      <th>D1769</th>\n",
       "      <th>D1770</th>\n",
       "      <th>D1771</th>\n",
       "      <th>D1772</th>\n",
       "      <th>D1773</th>\n",
       "      <th>D1774</th>\n",
       "      <th>D1775</th>\n",
       "      <th>D1776</th>\n",
       "    </tr>\n",
       "  </thead>\n",
       "  <tbody>\n",
       "    <tr>\n",
       "      <th>0</th>\n",
       "      <td>0.366667</td>\n",
       "      <td>0.611765</td>\n",
       "      <td>0.05</td>\n",
       "      <td>0</td>\n",
       "      <td>0.110435</td>\n",
       "      <td>0.803973</td>\n",
       "      <td>0.106075</td>\n",
       "      <td>0.473965</td>\n",
       "      <td>0.835617</td>\n",
       "      <td>0.106452</td>\n",
       "      <td>...</td>\n",
       "      <td>1</td>\n",
       "      <td>1</td>\n",
       "      <td>1</td>\n",
       "      <td>1</td>\n",
       "      <td>0</td>\n",
       "      <td>1</td>\n",
       "      <td>0</td>\n",
       "      <td>0</td>\n",
       "      <td>1</td>\n",
       "      <td>0</td>\n",
       "    </tr>\n",
       "    <tr>\n",
       "      <th>1</th>\n",
       "      <td>0.100000</td>\n",
       "      <td>0.758175</td>\n",
       "      <td>0.30</td>\n",
       "      <td>0</td>\n",
       "      <td>0.180128</td>\n",
       "      <td>0.621378</td>\n",
       "      <td>0.287144</td>\n",
       "      <td>0.503919</td>\n",
       "      <td>0.674919</td>\n",
       "      <td>0.403616</td>\n",
       "      <td>...</td>\n",
       "      <td>0</td>\n",
       "      <td>0</td>\n",
       "      <td>0</td>\n",
       "      <td>0</td>\n",
       "      <td>0</td>\n",
       "      <td>0</td>\n",
       "      <td>0</td>\n",
       "      <td>0</td>\n",
       "      <td>0</td>\n",
       "      <td>0</td>\n",
       "    </tr>\n",
       "    <tr>\n",
       "      <th>2</th>\n",
       "      <td>0.100000</td>\n",
       "      <td>0.658812</td>\n",
       "      <td>0.10</td>\n",
       "      <td>0</td>\n",
       "      <td>0.243421</td>\n",
       "      <td>0.640959</td>\n",
       "      <td>0.312765</td>\n",
       "      <td>0.279784</td>\n",
       "      <td>0.686775</td>\n",
       "      <td>0.280301</td>\n",
       "      <td>...</td>\n",
       "      <td>0</td>\n",
       "      <td>0</td>\n",
       "      <td>0</td>\n",
       "      <td>0</td>\n",
       "      <td>0</td>\n",
       "      <td>0</td>\n",
       "      <td>0</td>\n",
       "      <td>0</td>\n",
       "      <td>0</td>\n",
       "      <td>0</td>\n",
       "    </tr>\n",
       "    <tr>\n",
       "      <th>3</th>\n",
       "      <td>0.100000</td>\n",
       "      <td>0.655752</td>\n",
       "      <td>0.10</td>\n",
       "      <td>0</td>\n",
       "      <td>0.226978</td>\n",
       "      <td>0.776996</td>\n",
       "      <td>0.150657</td>\n",
       "      <td>0.336948</td>\n",
       "      <td>0.802121</td>\n",
       "      <td>0.125608</td>\n",
       "      <td>...</td>\n",
       "      <td>0</td>\n",
       "      <td>0</td>\n",
       "      <td>0</td>\n",
       "      <td>0</td>\n",
       "      <td>0</td>\n",
       "      <td>0</td>\n",
       "      <td>0</td>\n",
       "      <td>0</td>\n",
       "      <td>0</td>\n",
       "      <td>0</td>\n",
       "    </tr>\n",
       "    <tr>\n",
       "      <th>4</th>\n",
       "      <td>0.000000</td>\n",
       "      <td>0.484851</td>\n",
       "      <td>0.00</td>\n",
       "      <td>0</td>\n",
       "      <td>0.561200</td>\n",
       "      <td>0.771463</td>\n",
       "      <td>0.244287</td>\n",
       "      <td>0.293096</td>\n",
       "      <td>0.717575</td>\n",
       "      <td>0.230842</td>\n",
       "      <td>...</td>\n",
       "      <td>0</td>\n",
       "      <td>0</td>\n",
       "      <td>0</td>\n",
       "      <td>0</td>\n",
       "      <td>0</td>\n",
       "      <td>0</td>\n",
       "      <td>0</td>\n",
       "      <td>0</td>\n",
       "      <td>0</td>\n",
       "      <td>0</td>\n",
       "    </tr>\n",
       "  </tbody>\n",
       "</table>\n",
       "<p>5 rows × 1776 columns</p>\n",
       "</div>"
      ],
      "text/plain": [
       "         D1        D2    D3  D4        D5        D6        D7        D8  \\\n",
       "0  0.366667  0.611765  0.05   0  0.110435  0.803973  0.106075  0.473965   \n",
       "1  0.100000  0.758175  0.30   0  0.180128  0.621378  0.287144  0.503919   \n",
       "2  0.100000  0.658812  0.10   0  0.243421  0.640959  0.312765  0.279784   \n",
       "3  0.100000  0.655752  0.10   0  0.226978  0.776996  0.150657  0.336948   \n",
       "4  0.000000  0.484851  0.00   0  0.561200  0.771463  0.244287  0.293096   \n",
       "\n",
       "         D9       D10  ...    D1767  D1768  D1769  D1770  D1771  D1772  D1773  \\\n",
       "0  0.835617  0.106452  ...        1      1      1      1      0      1      0   \n",
       "1  0.674919  0.403616  ...        0      0      0      0      0      0      0   \n",
       "2  0.686775  0.280301  ...        0      0      0      0      0      0      0   \n",
       "3  0.802121  0.125608  ...        0      0      0      0      0      0      0   \n",
       "4  0.717575  0.230842  ...        0      0      0      0      0      0      0   \n",
       "\n",
       "   D1774  D1775  D1776  \n",
       "0      0      1      0  \n",
       "1      0      0      0  \n",
       "2      0      0      0  \n",
       "3      0      0      0  \n",
       "4      0      0      0  \n",
       "\n",
       "[5 rows x 1776 columns]"
      ]
     },
     "execution_count": 4,
     "metadata": {},
     "output_type": "execute_result"
    }
   ],
   "source": [
    "test.head()"
   ]
  },
  {
   "cell_type": "code",
   "execution_count": 5,
   "metadata": {
    "collapsed": false
   },
   "outputs": [
    {
     "data": {
      "text/plain": [
       "Index([u'Activity', u'D1', u'D2', u'D3', u'D4', u'D5', u'D6', u'D7', u'D8',\n",
       "       u'D9',\n",
       "       ...\n",
       "       u'D1767', u'D1768', u'D1769', u'D1770', u'D1771', u'D1772', u'D1773',\n",
       "       u'D1774', u'D1775', u'D1776'],\n",
       "      dtype='object', length=1777)"
      ]
     },
     "execution_count": 5,
     "metadata": {},
     "output_type": "execute_result"
    }
   ],
   "source": [
    "train.columns"
   ]
  },
  {
   "cell_type": "code",
   "execution_count": 6,
   "metadata": {
    "collapsed": false
   },
   "outputs": [
    {
     "data": {
      "text/plain": [
       "1    2034\n",
       "0    1717\n",
       "Name: Activity, dtype: int64"
      ]
     },
     "execution_count": 6,
     "metadata": {},
     "output_type": "execute_result"
    }
   ],
   "source": [
    "train.Activity.value_counts()"
   ]
  },
  {
   "cell_type": "markdown",
   "metadata": {},
   "source": [
    "** Balanced Dataset **"
   ]
  },
  {
   "cell_type": "code",
   "execution_count": 7,
   "metadata": {
    "collapsed": false
   },
   "outputs": [],
   "source": [
    "assert train.isnull().sum().sum() == 0, 'There are some missing values in the dataset'"
   ]
  },
  {
   "cell_type": "code",
   "execution_count": 8,
   "metadata": {
    "collapsed": true
   },
   "outputs": [],
   "source": [
    "assert test.isnull().sum().sum() == 0, 'There are some missing values in the dataset'"
   ]
  },
  {
   "cell_type": "markdown",
   "metadata": {
    "collapsed": true
   },
   "source": [
    "## Correlation"
   ]
  },
  {
   "cell_type": "code",
   "execution_count": 13,
   "metadata": {
    "collapsed": false
   },
   "outputs": [],
   "source": [
    "def get_pearson_score(target, feature_name):\n",
    "    return np.corrcoef(train[target], train[feature_name])[0][1]\n",
    "\n",
    "def get_correlation_scores(df):\n",
    "    if 'Activity' not in df.columns:\n",
    "        raise ValueError('Target Variable is missing in the dataset')\n",
    "    \n",
    "    correlation_map = {}\n",
    "    \n",
    "    for feat in df.columns:\n",
    "        correlation_map[('Activity', feat)] = get_pearson_score('Activity', feat)\n",
    "    \n",
    "    return correlation_map"
   ]
  },
  {
   "cell_type": "code",
   "execution_count": 14,
   "metadata": {
    "collapsed": false
   },
   "outputs": [],
   "source": [
    "correlation_map = get_correlation_scores(train)"
   ]
  },
  {
   "cell_type": "code",
   "execution_count": 24,
   "metadata": {
    "collapsed": false
   },
   "outputs": [],
   "source": [
    "def get_highly_correlated_features(correlation_map, threshold=0.3):\n",
    "    highly_correlated_features = []\n",
    "    \n",
    "    for key, value in correlation_map.iteritems():\n",
    "        if abs(value) >= threshold:\n",
    "            if key[0] != key[1]: # Avoid pairs like ( 'Activity', 'Activity' )\n",
    "                highly_correlated_features.append(key)\n",
    "    \n",
    "    return highly_correlated_features"
   ]
  },
  {
   "cell_type": "code",
   "execution_count": 25,
   "metadata": {
    "collapsed": true
   },
   "outputs": [],
   "source": [
    "highly_correlated_features = get_highly_correlated_features(correlation_map)"
   ]
  },
  {
   "cell_type": "code",
   "execution_count": 32,
   "metadata": {
    "collapsed": false
   },
   "outputs": [],
   "source": [
    "def analyze_different_thresholds( correlation_map ):\n",
    "    thresholds = np.linspace(0.2, 0.4, 10)\n",
    "    \n",
    "    for threshold in thresholds:\n",
    "        print 'Threshold %f -> \\nFeature Pairs %s \\n' %(threshold, get_highly_correlated_features(correlation_map, threshold)) "
   ]
  },
  {
   "cell_type": "code",
   "execution_count": 33,
   "metadata": {
    "collapsed": false
   },
   "outputs": [
    {
     "name": "stdout",
     "output_type": "stream",
     "text": [
      "Threshold 0.200000 -> \n",
      "Feature Pairs [('Activity', 'D146'), ('Activity', 'D659'), ('Activity', 'D607'), ('Activity', 'D209'), ('Activity', 'D596'), ('Activity', 'D87'), ('Activity', 'D27'), ('Activity', 'D217'), ('Activity', 'D469'), ('Activity', 'D660'), ('Activity', 'D182'), ('Activity', 'D747')] \n",
      "\n",
      "Threshold 0.222222 -> \n",
      "Feature Pairs [('Activity', 'D659'), ('Activity', 'D87'), ('Activity', 'D27'), ('Activity', 'D217'), ('Activity', 'D469'), ('Activity', 'D182'), ('Activity', 'D747')] \n",
      "\n",
      "Threshold 0.244444 -> \n",
      "Feature Pairs [('Activity', 'D27'), ('Activity', 'D469')] \n",
      "\n",
      "Threshold 0.266667 -> \n",
      "Feature Pairs [('Activity', 'D27'), ('Activity', 'D469')] \n",
      "\n",
      "Threshold 0.288889 -> \n",
      "Feature Pairs [('Activity', 'D27')] \n",
      "\n",
      "Threshold 0.311111 -> \n",
      "Feature Pairs [('Activity', 'D27')] \n",
      "\n",
      "Threshold 0.333333 -> \n",
      "Feature Pairs [('Activity', 'D27')] \n",
      "\n",
      "Threshold 0.355556 -> \n",
      "Feature Pairs [('Activity', 'D27')] \n",
      "\n",
      "Threshold 0.377778 -> \n",
      "Feature Pairs [('Activity', 'D27')] \n",
      "\n",
      "Threshold 0.400000 -> \n",
      "Feature Pairs [('Activity', 'D27')] \n",
      "\n"
     ]
    }
   ],
   "source": [
    "analyze_different_thresholds( correlation_map )"
   ]
  },
  {
   "cell_type": "markdown",
   "metadata": {},
   "source": [
    "## Visualize Mean by Category"
   ]
  },
  {
   "cell_type": "code",
   "execution_count": 34,
   "metadata": {
    "collapsed": true
   },
   "outputs": [],
   "source": [
    "train_neg_target = train[train.Activity == 0]\n",
    "train_pos_target = train[train.Activity == 1]"
   ]
  },
  {
   "cell_type": "code",
   "execution_count": 37,
   "metadata": {
    "collapsed": false
   },
   "outputs": [],
   "source": [
    "features = train.columns[1:] # Omitting Activity variable\n",
    "train_neg_target_mean = train_neg_target[features].mean()\n",
    "train_pos_target_mean = train_pos_target[features].mean()"
   ]
  },
  {
   "cell_type": "code",
   "execution_count": 38,
   "metadata": {
    "collapsed": false
   },
   "outputs": [
    {
     "data": {
      "image/png": "[encoded data removed]",
      "text/plain": [
       "<matplotlib.figure.Figure at 0x116fedb10>"
      ]
     },
     "metadata": {},
     "output_type": "display_data"
    }
   ],
   "source": [
    "plt.scatter(train_neg_target_mean, train_pos_target_mean, color='g', alpha=0.4);"
   ]
  },
  {
   "cell_type": "code",
   "execution_count": 40,
   "metadata": {
    "collapsed": false
   },
   "outputs": [
    {
     "name": "stdout",
     "output_type": "stream",
     "text": [
      "D5       0.228685\n",
      "D7       0.261290\n",
      "D10      0.251676\n",
      "D16      0.265259\n",
      "D27      0.263832\n",
      "D30      0.293579\n",
      "D47      0.214984\n",
      "D103     0.284289\n",
      "D106     0.236429\n",
      "D198     0.200367\n",
      "D199     0.269549\n",
      "D219     0.207658\n",
      "D955     0.264997\n",
      "D963     0.288294\n",
      "D966     0.246360\n",
      "D976     0.276063\n",
      "D978     0.298195\n",
      "D983     0.240536\n",
      "D985     0.202097\n",
      "D987     0.225976\n",
      "D988     0.233547\n",
      "D991     0.229470\n",
      "D997     0.270821\n",
      "D999     0.237041\n",
      "D1002    0.262085\n",
      "D1006    0.228888\n",
      "D1007    0.244030\n",
      "D1008    0.253349\n",
      "D1009    0.267909\n",
      "D1011    0.284799\n",
      "           ...   \n",
      "D1142    0.234129\n",
      "D1147    0.220734\n",
      "D1150    0.245195\n",
      "D1151    0.235294\n",
      "D1152    0.246942\n",
      "D1161    0.263250\n",
      "D1163    0.246360\n",
      "D1164    0.265579\n",
      "D1165    0.242283\n",
      "D1166    0.252184\n",
      "D1167    0.276645\n",
      "D1168    0.252766\n",
      "D1172    0.262667\n",
      "D1175    0.287129\n",
      "D1178    0.214327\n",
      "D1182    0.291788\n",
      "D1187    0.262085\n",
      "D1189    0.240536\n",
      "D1191    0.262667\n",
      "D1194    0.242865\n",
      "D1197    0.264997\n",
      "D1199    0.218987\n",
      "D1202    0.225976\n",
      "D1232    0.211998\n",
      "D1241    0.200932\n",
      "D1266    0.211998\n",
      "D1337    0.206174\n",
      "D1366    0.215492\n",
      "D1385    0.210833\n",
      "D1406    0.205591\n",
      "dtype: float64\n",
      "D9       0.744396\n",
      "D26      0.728737\n",
      "D27      0.737463\n",
      "D205     0.785825\n",
      "D979     0.721731\n",
      "D1034    0.735988\n",
      "D1077    0.741396\n",
      "dtype: float64\n"
     ]
    }
   ],
   "source": [
    "mask = (train_neg_target_mean > 0.2) & ( train_neg_target_mean < 0.3)\n",
    "df1 = train_neg_target_mean[mask]\n",
    "\n",
    "mask = ( train_pos_target_mean > 0.7) & ( train_pos_target_mean < 0.8)\n",
    "df2 = train_pos_target_mean[mask]\n",
    "\n",
    "print 'Common column ', set(df1.col)"
   ]
  },
  {
   "cell_type": "code",
   "execution_count": null,
   "metadata": {
    "collapsed": true
   },
   "outputs": [],
   "source": []
  },
  {
   "cell_type": "code",
   "execution_count": null,
   "metadata": {
    "collapsed": true
   },
   "outputs": [],
   "source": []
  },
  {
   "cell_type": "code",
   "execution_count": null,
   "metadata": {
    "collapsed": true
   },
   "outputs": [],
   "source": []
  },
  {
   "cell_type": "code",
   "execution_count": null,
   "metadata": {
    "collapsed": true
   },
   "outputs": [],
   "source": []
  },
  {
   "cell_type": "code",
   "execution_count": null,
   "metadata": {
    "collapsed": true
   },
   "outputs": [],
   "source": []
  },
  {
   "cell_type": "code",
   "execution_count": null,
   "metadata": {
    "collapsed": true
   },
   "outputs": [],
   "source": []
  },
  {
   "cell_type": "code",
   "execution_count": null,
   "metadata": {
    "collapsed": true
   },
   "outputs": [],
   "source": []
  },
  {
   "cell_type": "code",
   "execution_count": null,
   "metadata": {
    "collapsed": true
   },
   "outputs": [],
   "source": []
  },
  {
   "cell_type": "code",
   "execution_count": null,
   "metadata": {
    "collapsed": true
   },
   "outputs": [],
   "source": []
  },
  {
   "cell_type": "code",
   "execution_count": null,
   "metadata": {
    "collapsed": true
   },
   "outputs": [],
   "source": []
  }
 ],
 "metadata": {
  "kernelspec": {
   "display_name": "Python 2",
   "language": "python",
   "name": "python2"
  },
  "language_info": {
   "codemirror_mode": {
    "name": "ipython",
    "version": 2
   },
   "file_extension": ".py",
   "mimetype": "text/x-python",
   "name": "python",
   "nbconvert_exporter": "python",
   "pygments_lexer": "ipython2",
   "version": "2.7.11"
  }
 },
 "nbformat": 4,
 "nbformat_minor": 0
}
