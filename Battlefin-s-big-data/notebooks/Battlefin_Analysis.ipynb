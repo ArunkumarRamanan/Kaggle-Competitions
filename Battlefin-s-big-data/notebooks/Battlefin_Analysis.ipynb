{
 "cells": [
  {
   "cell_type": "code",
   "execution_count": 1,
   "metadata": {
    "collapsed": true
   },
   "outputs": [],
   "source": [
    "import numpy as np\n",
    "import pandas as pd\n",
    "import os\n",
    "\n",
    "import matplotlib.pyplot as plt\n",
    "import seaborn as sns\n",
    "\n",
    "%matplotlib inline"
   ]
  },
  {
   "cell_type": "code",
   "execution_count": 33,
   "metadata": {
    "collapsed": false
   },
   "outputs": [],
   "source": [
    "def read_files(directory='../data/data/'):\n",
    "    return [files for files in os.listdir(directory)]\n",
    "\n",
    "def last_observed_benchmark(filenames, start, end):\n",
    "    '''\n",
    "    For a given start and end index iterate through dataframes to fetch the latest item\n",
    "    and return it as prediction for that range\n",
    "    '''\n",
    "    predictions = []\n",
    "    for i in range(start, end):\n",
    "        df = pd.read_csv('../data/data/'+ str(i) + '.csv')\n",
    "        recent_observation = df.iloc[-1:, 0:198]\n",
    "        predictions.append(recent_observation)\n",
    "    \n",
    "    recent_observations_df = pd.concat(predictions, axis=0)\n",
    "    recent_observations_df = recent_observations_df.set_index(np.arange(start - 1, end - 1))\n",
    "    \n",
    "    return recent_observations_df\n",
    "\n",
    "def loss(y, y_pred):\n",
    "    e = abs(y - y_pred)\n",
    "    return e"
   ]
  },
  {
   "cell_type": "code",
   "execution_count": 24,
   "metadata": {
    "collapsed": false
   },
   "outputs": [],
   "source": [
    "filenames = read_files()\n",
    "recent_observation_df = last_observed_benchmark(filenames, 1, 201)"
   ]
  },
  {
   "cell_type": "code",
   "execution_count": 31,
   "metadata": {
    "collapsed": true
   },
   "outputs": [],
   "source": [
    "## load true values\n",
    "trueLabels = pd.read_csv('../data/trainLabels.csv')\n",
    "y_true = trueLabels.iloc[:, 1:]"
   ]
  },
  {
   "cell_type": "code",
   "execution_count": 34,
   "metadata": {
    "collapsed": false
   },
   "outputs": [],
   "source": [
    "## lets take a look at the loss metric\n",
    "e = loss(y_true, recent_observation_df)"
   ]
  },
  {
   "cell_type": "code",
   "execution_count": 38,
   "metadata": {
    "collapsed": false
   },
   "outputs": [
    {
     "data": {
      "image/png": "[encoded data removed]",
      "text/plain": [
       "<matplotlib.figure.Figure at 0x117265d50>"
      ]
     },
     "metadata": {},
     "output_type": "display_data"
    }
   ],
   "source": [
    "plt.scatter(y_true.iloc[:, 5], recent_observation_df.iloc[:, 5], c='r', alpha=.5)\n",
    "plt.scatter(y_true.iloc[:, 6], recent_observation_df.iloc[:, 6], c='b', alpha=.5)\n",
    "plt.title('Analysis of our response');"
   ]
  },
  {
   "cell_type": "code",
   "execution_count": 40,
   "metadata": {
    "collapsed": false
   },
   "outputs": [
    {
     "name": "stdout",
     "output_type": "stream",
     "text": [
      "Error on the training set is 0.440612 \n"
     ]
    }
   ],
   "source": [
    "print 'Error on the training set is %f ' %e.mean(axis=1).mean()"
   ]
  },
  {
   "cell_type": "markdown",
   "metadata": {},
   "source": [
    "## Submission"
   ]
  },
  {
   "cell_type": "code",
   "execution_count": 47,
   "metadata": {
    "collapsed": false
   },
   "outputs": [],
   "source": [
    "recent_observation_df_test = last_observed_benchmark(filenames, 201, 511)"
   ]
  },
  {
   "cell_type": "code",
   "execution_count": 61,
   "metadata": {
    "collapsed": true
   },
   "outputs": [],
   "source": [
    "recent_observation_df_test = recent_observation_df_test.set_index(np.arange(0, 310))"
   ]
  },
  {
   "cell_type": "code",
   "execution_count": 62,
   "metadata": {
    "collapsed": false
   },
   "outputs": [],
   "source": [
    "submission = pd.read_csv('../data/sampleSubmission.csv')"
   ]
  },
  {
   "cell_type": "code",
   "execution_count": 63,
   "metadata": {
    "collapsed": false
   },
   "outputs": [],
   "source": [
    "submission.iloc[:, 1:] = recent_observation_df_test"
   ]
  },
  {
   "cell_type": "code",
   "execution_count": 64,
   "metadata": {
    "collapsed": false
   },
   "outputs": [
    {
     "data": {
      "text/html": [
       "<div>\n",
       "<table border=\"1\" class=\"dataframe\">\n",
       "  <thead>\n",
       "    <tr style=\"text-align: right;\">\n",
       "      <th></th>\n",
       "      <th>O1</th>\n",
       "      <th>O2</th>\n",
       "      <th>O3</th>\n",
       "      <th>O4</th>\n",
       "      <th>O5</th>\n",
       "      <th>O6</th>\n",
       "      <th>O7</th>\n",
       "      <th>O8</th>\n",
       "      <th>O9</th>\n",
       "      <th>O10</th>\n",
       "      <th>...</th>\n",
       "      <th>O189</th>\n",
       "      <th>O190</th>\n",
       "      <th>O191</th>\n",
       "      <th>O192</th>\n",
       "      <th>O193</th>\n",
       "      <th>O194</th>\n",
       "      <th>O195</th>\n",
       "      <th>O196</th>\n",
       "      <th>O197</th>\n",
       "      <th>O198</th>\n",
       "    </tr>\n",
       "  </thead>\n",
       "  <tbody>\n",
       "    <tr>\n",
       "      <th>0</th>\n",
       "      <td>-3.82</td>\n",
       "      <td>-0.88</td>\n",
       "      <td>0.54</td>\n",
       "      <td>0.08</td>\n",
       "      <td>-1.65</td>\n",
       "      <td>-2.80</td>\n",
       "      <td>-1.74</td>\n",
       "      <td>-5.16</td>\n",
       "      <td>-4.58</td>\n",
       "      <td>-5.23</td>\n",
       "      <td>...</td>\n",
       "      <td>-1.16</td>\n",
       "      <td>-3.50</td>\n",
       "      <td>-2.83</td>\n",
       "      <td>-2.03</td>\n",
       "      <td>-1.53</td>\n",
       "      <td>-2.50</td>\n",
       "      <td>-3.14</td>\n",
       "      <td>-6.31</td>\n",
       "      <td>-4.71</td>\n",
       "      <td>-3.53</td>\n",
       "    </tr>\n",
       "    <tr>\n",
       "      <th>1</th>\n",
       "      <td>6.79</td>\n",
       "      <td>-1.90</td>\n",
       "      <td>-0.65</td>\n",
       "      <td>0.14</td>\n",
       "      <td>-0.08</td>\n",
       "      <td>-1.74</td>\n",
       "      <td>-0.86</td>\n",
       "      <td>-1.17</td>\n",
       "      <td>-1.91</td>\n",
       "      <td>-0.50</td>\n",
       "      <td>...</td>\n",
       "      <td>-0.95</td>\n",
       "      <td>-2.09</td>\n",
       "      <td>-1.44</td>\n",
       "      <td>-0.67</td>\n",
       "      <td>-1.78</td>\n",
       "      <td>-2.33</td>\n",
       "      <td>-2.04</td>\n",
       "      <td>-5.38</td>\n",
       "      <td>-5.58</td>\n",
       "      <td>-2.60</td>\n",
       "    </tr>\n",
       "    <tr>\n",
       "      <th>2</th>\n",
       "      <td>2.06</td>\n",
       "      <td>-0.11</td>\n",
       "      <td>0.37</td>\n",
       "      <td>-0.13</td>\n",
       "      <td>0.36</td>\n",
       "      <td>0.82</td>\n",
       "      <td>0.97</td>\n",
       "      <td>1.61</td>\n",
       "      <td>1.14</td>\n",
       "      <td>2.93</td>\n",
       "      <td>...</td>\n",
       "      <td>0.42</td>\n",
       "      <td>0.99</td>\n",
       "      <td>0.47</td>\n",
       "      <td>0.29</td>\n",
       "      <td>-0.05</td>\n",
       "      <td>0.50</td>\n",
       "      <td>0.37</td>\n",
       "      <td>0.88</td>\n",
       "      <td>0.93</td>\n",
       "      <td>0.67</td>\n",
       "    </tr>\n",
       "    <tr>\n",
       "      <th>3</th>\n",
       "      <td>-0.62</td>\n",
       "      <td>-0.06</td>\n",
       "      <td>0.08</td>\n",
       "      <td>0.26</td>\n",
       "      <td>-0.37</td>\n",
       "      <td>0.26</td>\n",
       "      <td>7.22</td>\n",
       "      <td>-0.29</td>\n",
       "      <td>0.79</td>\n",
       "      <td>-1.71</td>\n",
       "      <td>...</td>\n",
       "      <td>0.09</td>\n",
       "      <td>0.26</td>\n",
       "      <td>-0.08</td>\n",
       "      <td>0.45</td>\n",
       "      <td>0.67</td>\n",
       "      <td>0.22</td>\n",
       "      <td>0.38</td>\n",
       "      <td>0.96</td>\n",
       "      <td>-0.42</td>\n",
       "      <td>1.06</td>\n",
       "    </tr>\n",
       "    <tr>\n",
       "      <th>4</th>\n",
       "      <td>-0.91</td>\n",
       "      <td>-0.84</td>\n",
       "      <td>-0.40</td>\n",
       "      <td>0.44</td>\n",
       "      <td>-2.77</td>\n",
       "      <td>-1.44</td>\n",
       "      <td>-1.72</td>\n",
       "      <td>-2.17</td>\n",
       "      <td>-3.19</td>\n",
       "      <td>-2.51</td>\n",
       "      <td>...</td>\n",
       "      <td>-0.89</td>\n",
       "      <td>-1.34</td>\n",
       "      <td>-1.77</td>\n",
       "      <td>-1.55</td>\n",
       "      <td>-1.16</td>\n",
       "      <td>-1.28</td>\n",
       "      <td>-1.35</td>\n",
       "      <td>-2.40</td>\n",
       "      <td>-2.61</td>\n",
       "      <td>-1.30</td>\n",
       "    </tr>\n",
       "  </tbody>\n",
       "</table>\n",
       "<p>5 rows × 198 columns</p>\n",
       "</div>"
      ],
      "text/plain": [
       "     O1    O2    O3    O4    O5    O6    O7    O8    O9   O10  ...   O189  \\\n",
       "0 -3.82 -0.88  0.54  0.08 -1.65 -2.80 -1.74 -5.16 -4.58 -5.23  ...  -1.16   \n",
       "1  6.79 -1.90 -0.65  0.14 -0.08 -1.74 -0.86 -1.17 -1.91 -0.50  ...  -0.95   \n",
       "2  2.06 -0.11  0.37 -0.13  0.36  0.82  0.97  1.61  1.14  2.93  ...   0.42   \n",
       "3 -0.62 -0.06  0.08  0.26 -0.37  0.26  7.22 -0.29  0.79 -1.71  ...   0.09   \n",
       "4 -0.91 -0.84 -0.40  0.44 -2.77 -1.44 -1.72 -2.17 -3.19 -2.51  ...  -0.89   \n",
       "\n",
       "   O190  O191  O192  O193  O194  O195  O196  O197  O198  \n",
       "0 -3.50 -2.83 -2.03 -1.53 -2.50 -3.14 -6.31 -4.71 -3.53  \n",
       "1 -2.09 -1.44 -0.67 -1.78 -2.33 -2.04 -5.38 -5.58 -2.60  \n",
       "2  0.99  0.47  0.29 -0.05  0.50  0.37  0.88  0.93  0.67  \n",
       "3  0.26 -0.08  0.45  0.67  0.22  0.38  0.96 -0.42  1.06  \n",
       "4 -1.34 -1.77 -1.55 -1.16 -1.28 -1.35 -2.40 -2.61 -1.30  \n",
       "\n",
       "[5 rows x 198 columns]"
      ]
     },
     "execution_count": 64,
     "metadata": {},
     "output_type": "execute_result"
    }
   ],
   "source": [
    "recent_observation_df_test.head()"
   ]
  },
  {
   "cell_type": "code",
   "execution_count": 66,
   "metadata": {
    "collapsed": false
   },
   "outputs": [],
   "source": [
    "submission.to_csv('../submissions/last_observed_benchmark.csv', index=False)"
   ]
  },
  {
   "cell_type": "code",
   "execution_count": null,
   "metadata": {
    "collapsed": true
   },
   "outputs": [],
   "source": []
  }
 ],
 "metadata": {
  "kernelspec": {
   "display_name": "Python 2",
   "language": "python",
   "name": "python2"
  },
  "language_info": {
   "codemirror_mode": {
    "name": "ipython",
    "version": 2
   },
   "file_extension": ".py",
   "mimetype": "text/x-python",
   "name": "python",
   "nbconvert_exporter": "python",
   "pygments_lexer": "ipython2",
   "version": "2.7.11"
  }
 },
 "nbformat": 4,
 "nbformat_minor": 0
}
