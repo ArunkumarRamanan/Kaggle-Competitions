{
 "cells": [
  {
   "cell_type": "code",
   "execution_count": 1,
   "metadata": {
    "collapsed": false
   },
   "outputs": [],
   "source": [
    "# import external libraries\n",
    "import numpy as np\n",
    "import pandas as pd\n",
    "import matplotlib.pyplot as plt\n",
    "import seaborn as sb\n",
    "import json\n",
    "from collections import defaultdict\n",
    "from scipy import sparse\n",
    "%matplotlib inline"
   ]
  },
  {
   "cell_type": "code",
   "execution_count": 2,
   "metadata": {
    "collapsed": false
   },
   "outputs": [],
   "source": [
    "def convert_to_json(filename='./data/train.json'):\n",
    "    \"\"\"\n",
    "    Reads in a file and returns json \n",
    "    \"\"\"\n",
    "    \n",
    "    with open(filename) as infile:\n",
    "        return json.load(infile)"
   ]
  },
  {
   "cell_type": "code",
   "execution_count": 3,
   "metadata": {
    "collapsed": true
   },
   "outputs": [],
   "source": [
    "def get_column_names(row):\n",
    "    \"\"\"\n",
    "    Takes in a row of the data and returns column names\n",
    "    \"\"\"\n",
    "    return row.keys()    "
   ]
  },
  {
   "cell_type": "code",
   "execution_count": 4,
   "metadata": {
    "collapsed": true
   },
   "outputs": [],
   "source": [
    "def get_content(row, col_name):\n",
    "    \"\"\"\n",
    "    Takes in a row and a column name\n",
    "    and returns a list of values\n",
    "    \"\"\"\n",
    "    if col_name == 'ingredients':\n",
    "        return ' '.join(row[col_name])\n",
    "    else:\n",
    "        return row[col_name]"
   ]
  },
  {
   "cell_type": "code",
   "execution_count": 5,
   "metadata": {
    "collapsed": false
   },
   "outputs": [],
   "source": [
    "whats_cooking_train = convert_to_json()\n",
    "whats_cooking_test = convert_to_json('./data/test.json')"
   ]
  },
  {
   "cell_type": "code",
   "execution_count": 6,
   "metadata": {
    "collapsed": true
   },
   "outputs": [],
   "source": [
    "def prepare_dataset(json_repr):\n",
    "    \"\"\"\n",
    "    Takes in a json representation of the data\n",
    "    and returns a Pandas DataFrame.\n",
    "    \"\"\"\n",
    "    \n",
    "    column_names = sorted(get_column_names(json_repr[0]))\n",
    "    cols = []\n",
    "    \n",
    "    for col_name in column_names:\n",
    "        cols.append([get_content(row, col_name) for row in json_repr])\n",
    "    \n",
    "    data = dict(zip(column_names, cols))\n",
    "    \n",
    "    df = pd.DataFrame(data)\n",
    "    df.set_index('id', inplace=True)\n",
    "    \n",
    "    return df\n"
   ]
  },
  {
   "cell_type": "code",
   "execution_count": 7,
   "metadata": {
    "collapsed": false
   },
   "outputs": [],
   "source": [
    "whats_cooking_train_df = prepare_dataset(whats_cooking_train)\n",
    "whats_cooking_test_df = prepare_dataset(whats_cooking_test)"
   ]
  },
  {
   "cell_type": "code",
   "execution_count": 8,
   "metadata": {
    "collapsed": false
   },
   "outputs": [
    {
     "data": {
      "text/html": [
       "<div>\n",
       "<table border=\"1\" class=\"dataframe\">\n",
       "  <thead>\n",
       "    <tr style=\"text-align: right;\">\n",
       "      <th></th>\n",
       "      <th>cuisine</th>\n",
       "      <th>ingredients</th>\n",
       "    </tr>\n",
       "    <tr>\n",
       "      <th>id</th>\n",
       "      <th></th>\n",
       "      <th></th>\n",
       "    </tr>\n",
       "  </thead>\n",
       "  <tbody>\n",
       "    <tr>\n",
       "      <th>10259</th>\n",
       "      <td>greek</td>\n",
       "      <td>romaine lettuce black olives grape tomatoes ga...</td>\n",
       "    </tr>\n",
       "    <tr>\n",
       "      <th>25693</th>\n",
       "      <td>southern_us</td>\n",
       "      <td>plain flour ground pepper salt tomatoes ground...</td>\n",
       "    </tr>\n",
       "    <tr>\n",
       "      <th>20130</th>\n",
       "      <td>filipino</td>\n",
       "      <td>eggs pepper salt mayonaise cooking oil green c...</td>\n",
       "    </tr>\n",
       "    <tr>\n",
       "      <th>22213</th>\n",
       "      <td>indian</td>\n",
       "      <td>water vegetable oil wheat salt</td>\n",
       "    </tr>\n",
       "    <tr>\n",
       "      <th>13162</th>\n",
       "      <td>indian</td>\n",
       "      <td>black pepper shallots cornflour cayenne pepper...</td>\n",
       "    </tr>\n",
       "  </tbody>\n",
       "</table>\n",
       "</div>"
      ],
      "text/plain": [
       "           cuisine                                        ingredients\n",
       "id                                                                   \n",
       "10259        greek  romaine lettuce black olives grape tomatoes ga...\n",
       "25693  southern_us  plain flour ground pepper salt tomatoes ground...\n",
       "20130     filipino  eggs pepper salt mayonaise cooking oil green c...\n",
       "22213       indian                     water vegetable oil wheat salt\n",
       "13162       indian  black pepper shallots cornflour cayenne pepper..."
      ]
     },
     "execution_count": 8,
     "metadata": {},
     "output_type": "execute_result"
    }
   ],
   "source": [
    "whats_cooking_train_df.head()"
   ]
  },
  {
   "cell_type": "code",
   "execution_count": 9,
   "metadata": {
    "collapsed": false
   },
   "outputs": [
    {
     "data": {
      "text/html": [
       "<div>\n",
       "<table border=\"1\" class=\"dataframe\">\n",
       "  <thead>\n",
       "    <tr style=\"text-align: right;\">\n",
       "      <th></th>\n",
       "      <th>ingredients</th>\n",
       "    </tr>\n",
       "    <tr>\n",
       "      <th>id</th>\n",
       "      <th></th>\n",
       "    </tr>\n",
       "  </thead>\n",
       "  <tbody>\n",
       "    <tr>\n",
       "      <th>18009</th>\n",
       "      <td>baking powder eggs all-purpose flour raisins m...</td>\n",
       "    </tr>\n",
       "    <tr>\n",
       "      <th>28583</th>\n",
       "      <td>sugar egg yolks corn starch cream of tartar ba...</td>\n",
       "    </tr>\n",
       "    <tr>\n",
       "      <th>41580</th>\n",
       "      <td>sausage links fennel bulb fronds olive oil cub...</td>\n",
       "    </tr>\n",
       "    <tr>\n",
       "      <th>29752</th>\n",
       "      <td>meat cuts file powder smoked sausage okra shri...</td>\n",
       "    </tr>\n",
       "    <tr>\n",
       "      <th>35687</th>\n",
       "      <td>ground black pepper salt sausage casings leeks...</td>\n",
       "    </tr>\n",
       "  </tbody>\n",
       "</table>\n",
       "</div>"
      ],
      "text/plain": [
       "                                             ingredients\n",
       "id                                                      \n",
       "18009  baking powder eggs all-purpose flour raisins m...\n",
       "28583  sugar egg yolks corn starch cream of tartar ba...\n",
       "41580  sausage links fennel bulb fronds olive oil cub...\n",
       "29752  meat cuts file powder smoked sausage okra shri...\n",
       "35687  ground black pepper salt sausage casings leeks..."
      ]
     },
     "execution_count": 9,
     "metadata": {},
     "output_type": "execute_result"
    }
   ],
   "source": [
    "whats_cooking_test_df.head()"
   ]
  },
  {
   "cell_type": "markdown",
   "metadata": {
    "collapsed": true
   },
   "source": [
    "## Questions"
   ]
  },
  {
   "cell_type": "code",
   "execution_count": 10,
   "metadata": {
    "collapsed": true
   },
   "outputs": [],
   "source": [
    "import re"
   ]
  },
  {
   "cell_type": "code",
   "execution_count": 11,
   "metadata": {
    "collapsed": true
   },
   "outputs": [],
   "source": [
    "## What are the different unique ingredients used across various cuisines ?\n",
    "\n",
    "def get_ingredients(cuisines):\n",
    "    all_ingredients = []\n",
    "\n",
    "    for i in range(cuisines.shape[0]):\n",
    "        ## get all the ingredients\n",
    "        ingredients = cuisines.iloc[i, 1].split(' ') # 1 here marks first column for ingredients\n",
    "    \n",
    "        for ingredient in ingredients:\n",
    "            ingredient = re.sub(r'[^A-Za-z]', '', ingredient)\n",
    "            # omit empty space and stopwords as ingredient name\n",
    "            if len(ingredient) > 2:\n",
    "                all_ingredients.append(ingredient.lower())\n",
    "    \n",
    "    return all_ingredients\n",
    "\n",
    "def get_unique_ingredients(cuisines):\n",
    "    all_ingredients = get_ingredients(cuisines)\n",
    "    \n",
    "    return set(all_ingredients)\n",
    "    "
   ]
  },
  {
   "cell_type": "code",
   "execution_count": 12,
   "metadata": {
    "collapsed": false
   },
   "outputs": [
    {
     "name": "stdout",
     "output_type": "stream",
     "text": [
      "3030\n"
     ]
    }
   ],
   "source": [
    "print len(get_unique_ingredients(whats_cooking_train_df))"
   ]
  },
  {
   "cell_type": "markdown",
   "metadata": {},
   "source": [
    "** There are 3030 different ingredients used across various cuisines, bearing in mind that we considered \n",
    "   e.g. black olives to be ['black', 'olive'] as two separate ingredients **"
   ]
  },
  {
   "cell_type": "code",
   "execution_count": 13,
   "metadata": {
    "collapsed": true
   },
   "outputs": [],
   "source": [
    "from collections import Counter"
   ]
  },
  {
   "cell_type": "code",
   "execution_count": 14,
   "metadata": {
    "collapsed": true
   },
   "outputs": [],
   "source": [
    "## What are the top most used ingredients ?\n",
    "\n",
    "def get_top_most_used_ingredients(cuisines):\n",
    "    all_ingredients = get_ingredients(cuisines)\n",
    "    \n",
    "    ## counts frequency of each ingredient\n",
    "    top_most_used_ingredients = Counter(all_ingredients)\n",
    "    \n",
    "    return sorted(top_most_used_ingredients, key=lambda x: top_most_used_ingredients[x], reverse=True)"
   ]
  },
  {
   "cell_type": "code",
   "execution_count": 15,
   "metadata": {
    "collapsed": false
   },
   "outputs": [],
   "source": [
    "top_most_used_ingredients = get_top_most_used_ingredients(whats_cooking_train_df)"
   ]
  },
  {
   "cell_type": "code",
   "execution_count": 16,
   "metadata": {
    "collapsed": false
   },
   "outputs": [
    {
     "name": "stdout",
     "output_type": "stream",
     "text": [
      "[u'pepper', u'salt', u'oil', u'garlic', u'ground', u'fresh', u'sauce', u'sugar', u'onions', u'cheese']\n"
     ]
    }
   ],
   "source": [
    "## 10 top most used ingredients\n",
    "print top_most_used_ingredients[:10]"
   ]
  },
  {
   "cell_type": "markdown",
   "metadata": {},
   "source": [
    "** This seems legit, indeed these are some of the top-most used ingredients in preparation of any cuisine **"
   ]
  },
  {
   "cell_type": "code",
   "execution_count": 17,
   "metadata": {
    "collapsed": true
   },
   "outputs": [],
   "source": [
    "## Ingredients per cuisine\n",
    "\n",
    "def get_ingredients_per_cuisine(grouped_cuisines, names_of_cuisines):\n",
    "    ingredients_per_cuisine = {}\n",
    "    \n",
    "    for name in names_of_cuisines:\n",
    "        cuisine_group = grouped_cuisines.get_group(name)\n",
    "        ingredients_per_cuisine[name] = list(get_unique_ingredients(cuisine_group))\n",
    "    \n",
    "    return ingredients_per_cuisine"
   ]
  },
  {
   "cell_type": "code",
   "execution_count": 18,
   "metadata": {
    "collapsed": false
   },
   "outputs": [],
   "source": [
    "grouped_cuisines = whats_cooking_train_df.groupby(['cuisine'])"
   ]
  },
  {
   "cell_type": "code",
   "execution_count": 19,
   "metadata": {
    "collapsed": false
   },
   "outputs": [],
   "source": [
    "names_of_cuisines = whats_cooking_train_df.cuisine.unique()"
   ]
  },
  {
   "cell_type": "code",
   "execution_count": 20,
   "metadata": {
    "collapsed": false
   },
   "outputs": [],
   "source": [
    "ingredients_per_cuisine = get_ingredients_per_cuisine(grouped_cuisines, names_of_cuisines)"
   ]
  },
  {
   "cell_type": "code",
   "execution_count": 21,
   "metadata": {
    "collapsed": false
   },
   "outputs": [
    {
     "name": "stdout",
     "output_type": "stream",
     "text": [
      "[u'irish', u'mexican', u'chinese', u'filipino', u'vietnamese', u'moroccan', u'brazilian', u'japanese', u'british', u'greek', u'indian', u'jamaican', u'french', u'spanish', u'russian', u'cajun_creole', u'thai', u'southern_us', u'korean', u'italian']\n"
     ]
    }
   ],
   "source": [
    "print ingredients_per_cuisine.keys()"
   ]
  },
  {
   "cell_type": "code",
   "execution_count": 22,
   "metadata": {
    "collapsed": false
   },
   "outputs": [
    {
     "name": "stdout",
     "output_type": "stream",
     "text": [
      "[u'freerange', u'monterey', u'all', u'portabello', u'chinese', u'mackerel', u'yellow', u'soften', u'olive', u'mild', u'fivespice', u'skim', u'shortgrain', u'gluten', u'skin', u'roots', u'mascarpone', u'milk', u'cummin', u'preserves', u'grape', u'sago', u'pattypan', u'assam', u'peanut', u'sparkling', u'granular', u'curds', u'dressing', u'couscous', u'tzatziki', u'brown', u'turnips', u'demerara', u'quorn', u'garden', u'yeast', u'citrus', u'kewra', u'vegan', u'baton', u'vadouvan', u'jalape', u'figs', u'softened', u'mooli', u'kappa', u'bhindi', u'minute', u'tortillas']\n"
     ]
    }
   ],
   "source": [
    "## Lets check out what ingredients define indian cuisines\n",
    "print ingredients_per_cuisine['indian'][:50]"
   ]
  },
  {
   "cell_type": "markdown",
   "metadata": {},
   "source": [
    "## Preprocessing"
   ]
  },
  {
   "cell_type": "code",
   "execution_count": 23,
   "metadata": {
    "collapsed": true
   },
   "outputs": [],
   "source": [
    "cuisines_train = whats_cooking_train_df.copy()\n",
    "cuisines_test = whats_cooking_test_df.copy()"
   ]
  },
  {
   "cell_type": "code",
   "execution_count": 24,
   "metadata": {
    "collapsed": true
   },
   "outputs": [],
   "source": [
    "def process_ingredient_name(ingredient_name):\n",
    "    ingredient_name = re.sub(r'^A-Za-z', '', ingredient_name.lower())\n",
    "    return ingredient_name\n",
    "\n",
    "cuisines_train['ingredients'] = cuisines_train.ingredients.map(process_ingredient_name)\n",
    "cuisines_test['ingredients'] = cuisines_test.ingredients.map(process_ingredient_name)"
   ]
  },
  {
   "cell_type": "markdown",
   "metadata": {},
   "source": [
    "## Encoding labels"
   ]
  },
  {
   "cell_type": "code",
   "execution_count": 25,
   "metadata": {
    "collapsed": true
   },
   "outputs": [],
   "source": [
    "from sklearn.preprocessing import LabelEncoder"
   ]
  },
  {
   "cell_type": "code",
   "execution_count": 26,
   "metadata": {
    "collapsed": true
   },
   "outputs": [],
   "source": [
    "## training labels\n",
    "train_labels = cuisines_train.cuisine"
   ]
  },
  {
   "cell_type": "code",
   "execution_count": 27,
   "metadata": {
    "collapsed": false
   },
   "outputs": [
    {
     "data": {
      "text/plain": [
       "LabelEncoder()"
      ]
     },
     "execution_count": 27,
     "metadata": {},
     "output_type": "execute_result"
    }
   ],
   "source": [
    "lbl_encoder = LabelEncoder()\n",
    "lbl_encoder.fit(train_labels)"
   ]
  },
  {
   "cell_type": "code",
   "execution_count": 28,
   "metadata": {
    "collapsed": true
   },
   "outputs": [],
   "source": [
    "target = lbl_encoder.transform(train_labels)"
   ]
  },
  {
   "cell_type": "markdown",
   "metadata": {},
   "source": [
    "## Modelling"
   ]
  },
  {
   "cell_type": "code",
   "execution_count": 29,
   "metadata": {
    "collapsed": true
   },
   "outputs": [],
   "source": [
    "## online learning algorithm\n",
    "from sklearn.feature_extraction.text import TfidfVectorizer\n",
    "from sklearn.linear_model import PassiveAggressiveClassifier\n",
    "from sklearn.cross_validation import StratifiedShuffleSplit"
   ]
  },
  {
   "cell_type": "code",
   "execution_count": 30,
   "metadata": {
    "collapsed": true
   },
   "outputs": [],
   "source": [
    "from nltk.corpus import stopwords"
   ]
  },
  {
   "cell_type": "code",
   "execution_count": 31,
   "metadata": {
    "collapsed": false
   },
   "outputs": [],
   "source": [
    "english_stopwords = stopwords.words('english')"
   ]
  },
  {
   "cell_type": "code",
   "execution_count": 32,
   "metadata": {
    "collapsed": true
   },
   "outputs": [],
   "source": [
    "sss = StratifiedShuffleSplit(target, test_size=0.3)\n",
    "\n",
    "train_index, test_index = next(iter(sss))"
   ]
  },
  {
   "cell_type": "code",
   "execution_count": 33,
   "metadata": {
    "collapsed": true
   },
   "outputs": [],
   "source": [
    "train_X = cuisines_train.iloc[train_index, 1]\n",
    "train_target = target[train_index]\n",
    "\n",
    "test_X = cuisines_train.iloc[test_index, 1]\n",
    "test_target = target[test_index]"
   ]
  },
  {
   "cell_type": "code",
   "execution_count": 80,
   "metadata": {
    "collapsed": false
   },
   "outputs": [],
   "source": [
    "vec = TfidfVectorizer(ngram_range=(1, 2), stop_words=english_stopwords)\n",
    "X_train = vec.fit_transform(train_X)\n",
    "y_train = train_target"
   ]
  },
  {
   "cell_type": "code",
   "execution_count": 85,
   "metadata": {
    "collapsed": false
   },
   "outputs": [
    {
     "data": {
      "text/plain": [
       "PassiveAggressiveClassifier(C=0.5, fit_intercept=True, loss='hinge', n_iter=5,\n",
       "              n_jobs=1, random_state=None, shuffle=True, verbose=0,\n",
       "              warm_start=False)"
      ]
     },
     "execution_count": 85,
     "metadata": {},
     "output_type": "execute_result"
    }
   ],
   "source": [
    "pac = PassiveAggressiveClassifier(C=0.5)\n",
    "pac.fit(X_train, y_train)"
   ]
  },
  {
   "cell_type": "code",
   "execution_count": 86,
   "metadata": {
    "collapsed": false
   },
   "outputs": [
    {
     "name": "stdout",
     "output_type": "stream",
     "text": [
      "Training score %f  0.988289388606\n"
     ]
    }
   ],
   "source": [
    "print 'Training score %f ', pac.score(X_train, y_train)"
   ]
  },
  {
   "cell_type": "code",
   "execution_count": 87,
   "metadata": {
    "collapsed": true
   },
   "outputs": [],
   "source": [
    "X_test = vec.transform(test_X)\n",
    "y_test = test_target"
   ]
  },
  {
   "cell_type": "code",
   "execution_count": 88,
   "metadata": {
    "collapsed": false
   },
   "outputs": [
    {
     "name": "stdout",
     "output_type": "stream",
     "text": [
      "Test score %f  0.780328418231\n"
     ]
    }
   ],
   "source": [
    "print 'Test score %f ', pac.score(X_test, y_test)"
   ]
  },
  {
   "cell_type": "markdown",
   "metadata": {},
   "source": [
    "## One-hot encoding"
   ]
  },
  {
   "cell_type": "code",
   "execution_count": 90,
   "metadata": {
    "collapsed": true
   },
   "outputs": [],
   "source": [
    "from collections import defaultdict"
   ]
  },
  {
   "cell_type": "code",
   "execution_count": 212,
   "metadata": {
    "collapsed": false
   },
   "outputs": [],
   "source": [
    "def prepare_bag_of_ingredients(cuisines):\n",
    "    one_hot_encoded = defaultdict(list)\n",
    "\n",
    "    for i in range(cuisines.shape[0]):\n",
    "        ingredient = cuisines.iloc[i, 1]\n",
    "        ingredient = re.sub(r'^A-Za-z', '', ingredient)\n",
    "        ingredient = ingredient.lower()\n",
    "\n",
    "        for u_ingr in top_most_used_ingredients[:500]:\n",
    "            if u_ingr in ingredient:\n",
    "                one_hot_encoded[u_ingr].append(1)\n",
    "            else:\n",
    "                one_hot_encoded[u_ingr].append(0)\n",
    "    \n",
    "    return one_hot_encoded"
   ]
  },
  {
   "cell_type": "code",
   "execution_count": 295,
   "metadata": {
    "collapsed": true
   },
   "outputs": [],
   "source": [
    "sss_2 = StratifiedShuffleSplit(target, train_size=10000)\n",
    "\n",
    "train_index, test_index = next(iter(sss_2))\n",
    "\n",
    "train_X = cuisines_train.iloc[train_index]\n",
    "train_target = target[train_index]\n",
    "\n",
    "test_X = cuisines_train.iloc[test_index]\n",
    "test_target = target[test_index]"
   ]
  },
  {
   "cell_type": "code",
   "execution_count": 296,
   "metadata": {
    "collapsed": false
   },
   "outputs": [],
   "source": [
    "bag_of_ingredients_train = prepare_bag_of_ingredients(train_X)"
   ]
  },
  {
   "cell_type": "code",
   "execution_count": 297,
   "metadata": {
    "collapsed": false
   },
   "outputs": [],
   "source": [
    "bag_of_ingredients_df_train = pd.DataFrame(bag_of_ingredients_train)"
   ]
  },
  {
   "cell_type": "code",
   "execution_count": 298,
   "metadata": {
    "collapsed": false
   },
   "outputs": [
    {
     "name": "stdout",
     "output_type": "stream",
     "text": [
      "<class 'pandas.core.frame.DataFrame'>\n",
      "Int64Index: 10000 entries, 0 to 9999\n",
      "Columns: 500 entries, active to zucchini\n",
      "dtypes: int64(500)\n",
      "memory usage: 38.2 MB\n"
     ]
    }
   ],
   "source": [
    "bag_of_ingredients_df_train.info()"
   ]
  },
  {
   "cell_type": "code",
   "execution_count": 299,
   "metadata": {
    "collapsed": false
   },
   "outputs": [],
   "source": [
    "from scipy import sparse"
   ]
  },
  {
   "cell_type": "code",
   "execution_count": 304,
   "metadata": {
    "collapsed": true
   },
   "outputs": [],
   "source": [
    "bag_of_ingredients_sparse= sparse.csr_matrix(bag_of_ingredients_df_train.values)"
   ]
  },
  {
   "cell_type": "code",
   "execution_count": 305,
   "metadata": {
    "collapsed": true
   },
   "outputs": [],
   "source": [
    "from sklearn.cross_validation import train_test_split"
   ]
  },
  {
   "cell_type": "code",
   "execution_count": 306,
   "metadata": {
    "collapsed": false
   },
   "outputs": [],
   "source": [
    "X_train, X_test, y_train, y_test = train_test_split(bag_of_ingredients_sparse, train_target, test_size=0.2)"
   ]
  },
  {
   "cell_type": "code",
   "execution_count": 307,
   "metadata": {
    "collapsed": true
   },
   "outputs": [],
   "source": [
    "import xgboost as xgb"
   ]
  },
  {
   "cell_type": "code",
   "execution_count": 308,
   "metadata": {
    "collapsed": true
   },
   "outputs": [],
   "source": [
    "xg_train = xgb.DMatrix( X_train, label=y_train )\n",
    "xg_test = xgb.DMatrix( X_test, label=y_test )"
   ]
  },
  {
   "cell_type": "code",
   "execution_count": 309,
   "metadata": {
    "collapsed": true
   },
   "outputs": [],
   "source": [
    "# setup parameters for xgboost\n",
    "param = {}\n",
    "# use softmax multi-class classification\n",
    "param['objective'] = 'multi:softmax'\n",
    "# scale weight of positive examples\n",
    "param['eta'] = 0.1\n",
    "param['max_depth'] = 6\n",
    "param['silent'] = 1\n",
    "param['nthread'] = 4\n",
    "param['num_class'] = 20"
   ]
  },
  {
   "cell_type": "code",
   "execution_count": null,
   "metadata": {
    "collapsed": false
   },
   "outputs": [
    {
     "name": "stderr",
     "output_type": "stream",
     "text": [
      "[0]\ttrain-merror:0.351000\ttest-merror:0.402500\n",
      "[1]\ttrain-merror:0.319625\ttest-merror:0.368000\n",
      "[2]\ttrain-merror:0.305500\ttest-merror:0.357500\n",
      "[3]\ttrain-merror:0.298625\ttest-merror:0.354000\n",
      "[4]\ttrain-merror:0.288750\ttest-merror:0.354500\n",
      "[5]\ttrain-merror:0.282500\ttest-merror:0.349000\n",
      "[6]\ttrain-merror:0.279000\ttest-merror:0.348000\n",
      "[7]\ttrain-merror:0.273875\ttest-merror:0.344000\n",
      "[8]\ttrain-merror:0.272500\ttest-merror:0.340500\n",
      "[9]\ttrain-merror:0.268625\ttest-merror:0.341500\n",
      "[10]\ttrain-merror:0.264625\ttest-merror:0.338500\n",
      "[11]\ttrain-merror:0.262500\ttest-merror:0.341500\n",
      "[12]\ttrain-merror:0.257875\ttest-merror:0.339500\n",
      "[13]\ttrain-merror:0.255375\ttest-merror:0.335000\n",
      "[14]\ttrain-merror:0.251875\ttest-merror:0.335000\n",
      "[15]\ttrain-merror:0.249000\ttest-merror:0.332500\n",
      "[16]\ttrain-merror:0.246125\ttest-merror:0.331500\n",
      "[17]\ttrain-merror:0.243500\ttest-merror:0.331000\n",
      "[18]\ttrain-merror:0.240125\ttest-merror:0.327500\n",
      "[19]\ttrain-merror:0.238000\ttest-merror:0.328000\n",
      "[20]\ttrain-merror:0.233625\ttest-merror:0.326000\n",
      "[21]\ttrain-merror:0.230875\ttest-merror:0.326500\n",
      "[22]\ttrain-merror:0.227500\ttest-merror:0.326000\n",
      "[23]\ttrain-merror:0.224500\ttest-merror:0.323000\n",
      "[24]\ttrain-merror:0.220875\ttest-merror:0.322000\n",
      "[25]\ttrain-merror:0.218375\ttest-merror:0.319500\n",
      "[26]\ttrain-merror:0.214750\ttest-merror:0.317500\n",
      "[27]\ttrain-merror:0.212750\ttest-merror:0.316500\n"
     ]
    }
   ],
   "source": [
    "watchlist = [ (xg_train,'train'), (xg_test, 'test') ]\n",
    "num_round = 100\n",
    "bst = xgb.train(param, xg_train, num_round, watchlist );"
   ]
  },
  {
   "cell_type": "markdown",
   "metadata": {},
   "source": [
    "## Predictions"
   ]
  },
  {
   "cell_type": "code",
   "execution_count": 64,
   "metadata": {
    "collapsed": true
   },
   "outputs": [],
   "source": [
    "train_X_feat = vec.fit_transform(train_X)"
   ]
  },
  {
   "cell_type": "code",
   "execution_count": 65,
   "metadata": {
    "collapsed": false
   },
   "outputs": [
    {
     "data": {
      "text/plain": [
       "PassiveAggressiveClassifier(C=0.2, fit_intercept=True, loss='hinge', n_iter=5,\n",
       "              n_jobs=1, random_state=None, shuffle=True, verbose=0,\n",
       "              warm_start=False)"
      ]
     },
     "execution_count": 65,
     "metadata": {},
     "output_type": "execute_result"
    }
   ],
   "source": [
    "pac.fit(train_X_feat, train_target)"
   ]
  },
  {
   "cell_type": "code",
   "execution_count": 66,
   "metadata": {
    "collapsed": true
   },
   "outputs": [],
   "source": [
    "X_test = vec.transform(cuisines_test.ingredients)"
   ]
  },
  {
   "cell_type": "code",
   "execution_count": 67,
   "metadata": {
    "collapsed": true
   },
   "outputs": [],
   "source": [
    "preds = pac.predict(X_test)"
   ]
  },
  {
   "cell_type": "markdown",
   "metadata": {},
   "source": [
    "## Submission"
   ]
  },
  {
   "cell_type": "code",
   "execution_count": 68,
   "metadata": {
    "collapsed": true
   },
   "outputs": [],
   "source": [
    "preds_labels = lbl_encoder.inverse_transform(preds)"
   ]
  },
  {
   "cell_type": "code",
   "execution_count": 69,
   "metadata": {
    "collapsed": true
   },
   "outputs": [],
   "source": [
    "test_ids = cuisines_test.index.values\n",
    "submission_df = pd.DataFrame({'id': test_ids, 'cuisine': preds_labels})\n",
    "submission_df.to_csv('./submissions/stratified_split.csv', index=False)"
   ]
  },
  {
   "cell_type": "code",
   "execution_count": null,
   "metadata": {
    "collapsed": true
   },
   "outputs": [],
   "source": []
  }
 ],
 "metadata": {
  "kernelspec": {
   "display_name": "Python 2",
   "language": "python",
   "name": "python2"
  },
  "language_info": {
   "codemirror_mode": {
    "name": "ipython",
    "version": 2
   },
   "file_extension": ".py",
   "mimetype": "text/x-python",
   "name": "python",
   "nbconvert_exporter": "python",
   "pygments_lexer": "ipython2",
   "version": "2.7.10"
  }
 },
 "nbformat": 4,
 "nbformat_minor": 0
}
