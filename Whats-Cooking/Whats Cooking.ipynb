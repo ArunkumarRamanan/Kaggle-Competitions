{
 "cells": [
  {
   "cell_type": "code",
   "execution_count": 3,
   "metadata": {
    "collapsed": false
   },
   "outputs": [],
   "source": [
    "# import external libraries\n",
    "import numpy as np\n",
    "import pandas as pd\n",
    "import json\n",
    "from collections import defaultdict\n",
    "from scipy import sparse"
   ]
  },
  {
   "cell_type": "code",
   "execution_count": 25,
   "metadata": {
    "collapsed": true
   },
   "outputs": [],
   "source": [
    "from nltk.corpus import stopwords\n",
    "english_stopwords = stopwords.words('english')"
   ]
  },
  {
   "cell_type": "code",
   "execution_count": 4,
   "metadata": {
    "collapsed": false
   },
   "outputs": [],
   "source": [
    "def convert_to_json(filename='./data/train.json'):\n",
    "    \"\"\"\n",
    "    Reads in a file and returns json \n",
    "    \"\"\"\n",
    "    \n",
    "    with open(filename) as infile:\n",
    "        return json.load(infile)"
   ]
  },
  {
   "cell_type": "code",
   "execution_count": 5,
   "metadata": {
    "collapsed": true
   },
   "outputs": [],
   "source": [
    "def get_column_names(row):\n",
    "    \"\"\"\n",
    "    Takes in a row of the data and returns column names\n",
    "    \"\"\"\n",
    "    return row.keys()    "
   ]
  },
  {
   "cell_type": "code",
   "execution_count": 6,
   "metadata": {
    "collapsed": true
   },
   "outputs": [],
   "source": [
    "def get_content(row, col_name):\n",
    "    \"\"\"\n",
    "    Takes in a row and a column name\n",
    "    and returns a list of values\n",
    "    \"\"\"\n",
    "    if col_name == 'ingredients':\n",
    "        return ' '.join(row[col_name])\n",
    "    else:\n",
    "        return row[col_name]"
   ]
  },
  {
   "cell_type": "code",
   "execution_count": 7,
   "metadata": {
    "collapsed": false
   },
   "outputs": [],
   "source": [
    "whats_cooking_train = convert_to_json()\n",
    "whats_cooking_test = convert_to_json('./data/test.json')"
   ]
  },
  {
   "cell_type": "code",
   "execution_count": 8,
   "metadata": {
    "collapsed": true
   },
   "outputs": [],
   "source": [
    "def prepare_dataset(json_repr):\n",
    "    \"\"\"\n",
    "    Takes in a json representation of the data\n",
    "    and returns a Pandas DataFrame.\n",
    "    \"\"\"\n",
    "    \n",
    "    column_names = sorted(get_column_names(json_repr[0]))\n",
    "    cols = []\n",
    "    \n",
    "    for col_name in column_names:\n",
    "        cols.append([get_content(row, col_name) for row in json_repr])\n",
    "    \n",
    "    data = dict(zip(column_names, cols))\n",
    "    \n",
    "    df = pd.DataFrame(data)\n",
    "    df.set_index('id', inplace=True)\n",
    "    \n",
    "    return df\n"
   ]
  },
  {
   "cell_type": "code",
   "execution_count": 9,
   "metadata": {
    "collapsed": false
   },
   "outputs": [],
   "source": [
    "whats_cooking_train_df = prepare_dataset(whats_cooking_train)\n",
    "whats_cooking_test_df = prepare_dataset(whats_cooking_test)"
   ]
  },
  {
   "cell_type": "code",
   "execution_count": 10,
   "metadata": {
    "collapsed": false
   },
   "outputs": [
    {
     "data": {
      "text/html": [
       "<div style=\"max-height:1000px;max-width:1500px;overflow:auto;\">\n",
       "<table border=\"1\" class=\"dataframe\">\n",
       "  <thead>\n",
       "    <tr style=\"text-align: right;\">\n",
       "      <th></th>\n",
       "      <th>cuisine</th>\n",
       "      <th>ingredients</th>\n",
       "    </tr>\n",
       "    <tr>\n",
       "      <th>id</th>\n",
       "      <th></th>\n",
       "      <th></th>\n",
       "    </tr>\n",
       "  </thead>\n",
       "  <tbody>\n",
       "    <tr>\n",
       "      <th>10259</th>\n",
       "      <td>       greek</td>\n",
       "      <td> romaine lettuce black olives grape tomatoes ga...</td>\n",
       "    </tr>\n",
       "    <tr>\n",
       "      <th>25693</th>\n",
       "      <td> southern_us</td>\n",
       "      <td> plain flour ground pepper salt tomatoes ground...</td>\n",
       "    </tr>\n",
       "    <tr>\n",
       "      <th>20130</th>\n",
       "      <td>    filipino</td>\n",
       "      <td> eggs pepper salt mayonaise cooking oil green c...</td>\n",
       "    </tr>\n",
       "    <tr>\n",
       "      <th>22213</th>\n",
       "      <td>      indian</td>\n",
       "      <td>                    water vegetable oil wheat salt</td>\n",
       "    </tr>\n",
       "    <tr>\n",
       "      <th>13162</th>\n",
       "      <td>      indian</td>\n",
       "      <td> black pepper shallots cornflour cayenne pepper...</td>\n",
       "    </tr>\n",
       "  </tbody>\n",
       "</table>\n",
       "</div>"
      ],
      "text/plain": [
       "           cuisine                                        ingredients\n",
       "id                                                                   \n",
       "10259        greek  romaine lettuce black olives grape tomatoes ga...\n",
       "25693  southern_us  plain flour ground pepper salt tomatoes ground...\n",
       "20130     filipino  eggs pepper salt mayonaise cooking oil green c...\n",
       "22213       indian                     water vegetable oil wheat salt\n",
       "13162       indian  black pepper shallots cornflour cayenne pepper..."
      ]
     },
     "execution_count": 10,
     "metadata": {},
     "output_type": "execute_result"
    }
   ],
   "source": [
    "whats_cooking_train_df.head()"
   ]
  },
  {
   "cell_type": "code",
   "execution_count": 11,
   "metadata": {
    "collapsed": false
   },
   "outputs": [
    {
     "data": {
      "text/html": [
       "<div style=\"max-height:1000px;max-width:1500px;overflow:auto;\">\n",
       "<table border=\"1\" class=\"dataframe\">\n",
       "  <thead>\n",
       "    <tr style=\"text-align: right;\">\n",
       "      <th></th>\n",
       "      <th>ingredients</th>\n",
       "    </tr>\n",
       "    <tr>\n",
       "      <th>id</th>\n",
       "      <th></th>\n",
       "    </tr>\n",
       "  </thead>\n",
       "  <tbody>\n",
       "    <tr>\n",
       "      <th>18009</th>\n",
       "      <td> baking powder eggs all-purpose flour raisins m...</td>\n",
       "    </tr>\n",
       "    <tr>\n",
       "      <th>28583</th>\n",
       "      <td> sugar egg yolks corn starch cream of tartar ba...</td>\n",
       "    </tr>\n",
       "    <tr>\n",
       "      <th>41580</th>\n",
       "      <td> sausage links fennel bulb fronds olive oil cub...</td>\n",
       "    </tr>\n",
       "    <tr>\n",
       "      <th>29752</th>\n",
       "      <td> meat cuts file powder smoked sausage okra shri...</td>\n",
       "    </tr>\n",
       "    <tr>\n",
       "      <th>35687</th>\n",
       "      <td> ground black pepper salt sausage casings leeks...</td>\n",
       "    </tr>\n",
       "  </tbody>\n",
       "</table>\n",
       "</div>"
      ],
      "text/plain": [
       "                                             ingredients\n",
       "id                                                      \n",
       "18009  baking powder eggs all-purpose flour raisins m...\n",
       "28583  sugar egg yolks corn starch cream of tartar ba...\n",
       "41580  sausage links fennel bulb fronds olive oil cub...\n",
       "29752  meat cuts file powder smoked sausage okra shri...\n",
       "35687  ground black pepper salt sausage casings leeks..."
      ]
     },
     "execution_count": 11,
     "metadata": {},
     "output_type": "execute_result"
    }
   ],
   "source": [
    "whats_cooking_test_df.head()"
   ]
  },
  {
   "cell_type": "markdown",
   "metadata": {
    "collapsed": true
   },
   "source": [
    "## Questions"
   ]
  },
  {
   "cell_type": "code",
   "execution_count": 12,
   "metadata": {
    "collapsed": true
   },
   "outputs": [],
   "source": [
    "import re"
   ]
  },
  {
   "cell_type": "code",
   "execution_count": 26,
   "metadata": {
    "collapsed": true
   },
   "outputs": [],
   "source": [
    "## What are the different unique ingredients used across various cuisines ?\n",
    "\n",
    "def get_ingredients(cuisines):\n",
    "    all_ingredients = []\n",
    "\n",
    "    for i in range(cuisines.shape[0]):\n",
    "        ## get all the ingredients\n",
    "        ingredients = cuisines.iloc[i, 1].split(' ') # 1 here marks first column for ingredients\n",
    "    \n",
    "        for ingredient in ingredients:\n",
    "            ingredient = re.sub(r'[^A-Za-z]', '', ingredient)\n",
    "            # omit empty space and stopwords as ingredient name\n",
    "            if len(ingredient) > 2 and ingredient not in english_stopwords:\n",
    "                all_ingredients.append(ingredient.lower())\n",
    "    \n",
    "    return all_ingredients\n",
    "\n",
    "def get_unique_ingredients(cuisines):\n",
    "    all_ingredients = get_ingredients(cuisines)\n",
    "    \n",
    "    return set(all_ingredients)\n",
    "    "
   ]
  },
  {
   "cell_type": "code",
   "execution_count": 27,
   "metadata": {
    "collapsed": false
   },
   "outputs": [
    {
     "name": "stdout",
     "output_type": "stream",
     "text": [
      "3023\n"
     ]
    }
   ],
   "source": [
    "print len(get_unique_ingredients(whats_cooking_train_df))"
   ]
  },
  {
   "cell_type": "markdown",
   "metadata": {},
   "source": [
    "** There are 3023 different ingredients used across various cuisines, bearing in mind that we considered \n",
    "   e.g. black olives to be ['black', 'olive'] as two separate ingredients **"
   ]
  },
  {
   "cell_type": "code",
   "execution_count": 28,
   "metadata": {
    "collapsed": true
   },
   "outputs": [],
   "source": [
    "from collections import Counter"
   ]
  },
  {
   "cell_type": "code",
   "execution_count": 29,
   "metadata": {
    "collapsed": true
   },
   "outputs": [],
   "source": [
    "## What are the top most used ingredients ?\n",
    "\n",
    "def get_top_most_used_ingredients(cuisines):\n",
    "    all_ingredients = get_ingredients(cuisines)\n",
    "    \n",
    "    ## counts frequency of each ingredient\n",
    "    top_most_used_ingredients = Counter(all_ingredients)\n",
    "    \n",
    "    return sorted(top_most_used_ingredients, key=lambda x: top_most_used_ingredients[x], reverse=True)"
   ]
  },
  {
   "cell_type": "code",
   "execution_count": 30,
   "metadata": {
    "collapsed": false
   },
   "outputs": [],
   "source": [
    "top_most_used_ingredients = get_top_most_used_ingredients(whats_cooking_train_df)"
   ]
  },
  {
   "cell_type": "code",
   "execution_count": 31,
   "metadata": {
    "collapsed": false
   },
   "outputs": [
    {
     "name": "stdout",
     "output_type": "stream",
     "text": [
      "[u'pepper', u'salt', u'oil', u'garlic', u'ground', u'fresh', u'sauce', u'sugar', u'onions', u'cheese', u'chicken', u'olive', u'black', u'water', u'red', u'flour', u'butter', u'tomatoes', u'green', u'powder']\n"
     ]
    }
   ],
   "source": [
    "## 20 top most used ingredients\n",
    "print top_most_used_ingredients[:20]"
   ]
  },
  {
   "cell_type": "markdown",
   "metadata": {},
   "source": [
    "** This seems legit, indeed these are some of the top-most used ingredients in preparation of any cuisine **"
   ]
  },
  {
   "cell_type": "code",
   "execution_count": 32,
   "metadata": {
    "collapsed": true
   },
   "outputs": [],
   "source": [
    "## Ingredients per cuisine\n",
    "\n",
    "def get_ingredients_per_cuisine(grouped_cuisines, names_of_cuisines):\n",
    "    ingredients_per_cuisine = {}\n",
    "    \n",
    "    for name in names_of_cuisines:\n",
    "        cuisine_group = grouped_cuisines.get_group(name)\n",
    "        ingredients_per_cuisine[name] = list(get_unique_ingredients(cuisine_group))\n",
    "    \n",
    "    return ingredients_per_cuisine"
   ]
  },
  {
   "cell_type": "code",
   "execution_count": 33,
   "metadata": {
    "collapsed": false
   },
   "outputs": [],
   "source": [
    "grouped_cuisines = whats_cooking_train_df.groupby(['cuisine'])"
   ]
  },
  {
   "cell_type": "code",
   "execution_count": 34,
   "metadata": {
    "collapsed": false
   },
   "outputs": [],
   "source": [
    "names_of_cuisines = whats_cooking_train_df.cuisine.unique()"
   ]
  },
  {
   "cell_type": "code",
   "execution_count": 35,
   "metadata": {
    "collapsed": false
   },
   "outputs": [],
   "source": [
    "ingredients_per_cuisine = get_ingredients_per_cuisine(grouped_cuisines, names_of_cuisines)"
   ]
  },
  {
   "cell_type": "code",
   "execution_count": 36,
   "metadata": {
    "collapsed": false
   },
   "outputs": [
    {
     "name": "stdout",
     "output_type": "stream",
     "text": [
      "[u'irish', u'mexican', u'chinese', u'filipino', u'vietnamese', u'moroccan', u'brazilian', u'japanese', u'british', u'greek', u'indian', u'jamaican', u'french', u'spanish', u'russian', u'cajun_creole', u'thai', u'southern_us', u'korean', u'italian']\n"
     ]
    }
   ],
   "source": [
    "print ingredients_per_cuisine.keys()"
   ]
  },
  {
   "cell_type": "code",
   "execution_count": 37,
   "metadata": {
    "collapsed": false
   },
   "outputs": [
    {
     "name": "stdout",
     "output_type": "stream",
     "text": [
      "[u'freerange', u'monterey', u'portabello', u'chinese', u'mackerel', u'yellow', u'soften', u'olive', u'mild', u'fivespice', u'skim', u'shortgrain', u'gluten', u'skin', u'roots', u'mascarpone', u'milk', u'cummin', u'preserves', u'grape', u'sago', u'pattypan', u'assam', u'peanut', u'sparkling', u'granular', u'curds', u'dressing', u'couscous', u'tzatziki', u'brown', u'turnips', u'demerara', u'quorn', u'garden', u'yeast', u'citrus', u'kewra', u'vegan', u'baton', u'vadouvan', u'jalape', u'figs', u'softened', u'mooli', u'kappa', u'bhindi', u'minute', u'tortillas', u'baking']\n"
     ]
    }
   ],
   "source": [
    "## Lets check out what ingredients define indian cuisines\n",
    "print ingredients_per_cuisine['indian'][:50]"
   ]
  },
  {
   "cell_type": "markdown",
   "metadata": {},
   "source": [
    "## Preprocessing"
   ]
  },
  {
   "cell_type": "code",
   "execution_count": 38,
   "metadata": {
    "collapsed": true
   },
   "outputs": [],
   "source": [
    "cuisines_train = whats_cooking_train_df.copy()\n",
    "cuisines_test = whats_cooking_test_df.copy()"
   ]
  },
  {
   "cell_type": "code",
   "execution_count": 39,
   "metadata": {
    "collapsed": true
   },
   "outputs": [],
   "source": [
    "def process_ingredient_name(ingredient_name):\n",
    "    ingredient_name = re.sub(r'^A-Za-z', '', ingredient_name.lower())\n",
    "    return ingredient_name\n",
    "\n",
    "cuisines_train['ingredients'] = cuisines_train.ingredients.map(process_ingredient_name)\n",
    "cuisines_test['ingredients'] = cuisines_test.ingredients.map(process_ingredient_name)"
   ]
  },
  {
   "cell_type": "markdown",
   "metadata": {},
   "source": [
    "## Encoding labels"
   ]
  },
  {
   "cell_type": "code",
   "execution_count": 40,
   "metadata": {
    "collapsed": true
   },
   "outputs": [],
   "source": [
    "from sklearn.preprocessing import LabelEncoder"
   ]
  },
  {
   "cell_type": "code",
   "execution_count": 41,
   "metadata": {
    "collapsed": true
   },
   "outputs": [],
   "source": [
    "## training labels\n",
    "train_labels = cuisines_train.cuisine"
   ]
  },
  {
   "cell_type": "code",
   "execution_count": 42,
   "metadata": {
    "collapsed": false
   },
   "outputs": [
    {
     "data": {
      "text/plain": [
       "LabelEncoder()"
      ]
     },
     "execution_count": 42,
     "metadata": {},
     "output_type": "execute_result"
    }
   ],
   "source": [
    "lbl_encoder = LabelEncoder()\n",
    "lbl_encoder.fit(train_labels)"
   ]
  },
  {
   "cell_type": "code",
   "execution_count": 43,
   "metadata": {
    "collapsed": true
   },
   "outputs": [],
   "source": [
    "target = lbl_encoder.transform(train_labels)"
   ]
  },
  {
   "cell_type": "markdown",
   "metadata": {},
   "source": [
    "## Modelling"
   ]
  },
  {
   "cell_type": "code",
   "execution_count": 146,
   "metadata": {
    "collapsed": true
   },
   "outputs": [],
   "source": [
    "## online learning algorithm\n",
    "from sklearn.feature_extraction.text import TfidfVectorizer, CountVectorizer\n",
    "from sklearn.linear_model import PassiveAggressiveClassifier, LogisticRegression\n",
    "from sklearn.cross_validation import StratifiedShuffleSplit"
   ]
  },
  {
   "cell_type": "code",
   "execution_count": 147,
   "metadata": {
    "collapsed": true
   },
   "outputs": [],
   "source": [
    "sss = StratifiedShuffleSplit(target, test_size=0.3)\n",
    "\n",
    "train_index, test_index = next(iter(sss))"
   ]
  },
  {
   "cell_type": "code",
   "execution_count": 148,
   "metadata": {
    "collapsed": true
   },
   "outputs": [],
   "source": [
    "train_X = cuisines_train.iloc[train_index, 1]\n",
    "train_target = target[train_index]\n",
    "\n",
    "test_X = cuisines_train.iloc[test_index, 1]\n",
    "test_target = target[test_index]"
   ]
  },
  {
   "cell_type": "code",
   "execution_count": 149,
   "metadata": {
    "collapsed": false
   },
   "outputs": [],
   "source": [
    "vec = TfidfVectorizer(ngram_range=(1, 2), stop_words=english_stopwords)\n",
    "X_train = vec.fit_transform(train_X)\n",
    "y_train = train_target"
   ]
  },
  {
   "cell_type": "code",
   "execution_count": 150,
   "metadata": {
    "collapsed": false
   },
   "outputs": [
    {
     "data": {
      "text/plain": [
       "PassiveAggressiveClassifier(C=0.1, fit_intercept=True, loss='hinge', n_iter=5,\n",
       "              n_jobs=1, random_state=None, shuffle=True, verbose=0,\n",
       "              warm_start=False)"
      ]
     },
     "execution_count": 150,
     "metadata": {},
     "output_type": "execute_result"
    }
   ],
   "source": [
    "pac = PassiveAggressiveClassifier(C=0.1)\n",
    "pac.fit(X_train, y_train)"
   ]
  },
  {
   "cell_type": "code",
   "execution_count": 151,
   "metadata": {
    "collapsed": false
   },
   "outputs": [
    {
     "name": "stdout",
     "output_type": "stream",
     "text": [
      "Training score %f  0.899777282851\n"
     ]
    }
   ],
   "source": [
    "print 'Training score %f ', pac.score(X_train, y_train)"
   ]
  },
  {
   "cell_type": "code",
   "execution_count": 152,
   "metadata": {
    "collapsed": true
   },
   "outputs": [],
   "source": [
    "X_test = vec.transform(test_X)\n",
    "y_test = test_target"
   ]
  },
  {
   "cell_type": "code",
   "execution_count": 153,
   "metadata": {
    "collapsed": true
   },
   "outputs": [],
   "source": [
    "pac_preds = pac.predict(X_test)"
   ]
  },
  {
   "cell_type": "code",
   "execution_count": 154,
   "metadata": {
    "collapsed": false
   },
   "outputs": [
    {
     "name": "stdout",
     "output_type": "stream",
     "text": [
      "Test score %f  0.780747319035\n"
     ]
    }
   ],
   "source": [
    "print 'Test score %f ', pac.score(X_test, y_test)"
   ]
  },
  {
   "cell_type": "code",
   "execution_count": 155,
   "metadata": {
    "collapsed": true
   },
   "outputs": [],
   "source": [
    "cvec = CountVectorizer()\n",
    "X_train = cvec.fit_transform(train_X)"
   ]
  },
  {
   "cell_type": "code",
   "execution_count": 156,
   "metadata": {
    "collapsed": false
   },
   "outputs": [
    {
     "data": {
      "text/plain": [
       "LogisticRegression(C=1, class_weight=None, dual=False, fit_intercept=True,\n",
       "          intercept_scaling=1, max_iter=100, multi_class='ovr',\n",
       "          penalty='l1', random_state=None, solver='liblinear', tol=0.0001,\n",
       "          verbose=0)"
      ]
     },
     "execution_count": 156,
     "metadata": {},
     "output_type": "execute_result"
    }
   ],
   "source": [
    "log = LogisticRegression(C=1, penalty='l1')\n",
    "log.fit(X_train.toarray(), y_train)"
   ]
  },
  {
   "cell_type": "code",
   "execution_count": 157,
   "metadata": {
    "collapsed": false
   },
   "outputs": [
    {
     "name": "stdout",
     "output_type": "stream",
     "text": [
      "Training score %f  0.839966951649\n"
     ]
    }
   ],
   "source": [
    "print 'Training score %f ', log.score(X_train.toarray(), y_train)"
   ]
  },
  {
   "cell_type": "code",
   "execution_count": 158,
   "metadata": {
    "collapsed": true
   },
   "outputs": [],
   "source": [
    "X_test = cvec.transform(test_X)\n",
    "y_test = test_target"
   ]
  },
  {
   "cell_type": "code",
   "execution_count": 159,
   "metadata": {
    "collapsed": true
   },
   "outputs": [],
   "source": [
    "log_preds = log.predict(X_test.toarray())"
   ]
  },
  {
   "cell_type": "code",
   "execution_count": 160,
   "metadata": {
    "collapsed": false
   },
   "outputs": [
    {
     "name": "stdout",
     "output_type": "stream",
     "text": [
      "Test score %f  0.778401474531\n"
     ]
    }
   ],
   "source": [
    "print 'Test score %f ', log.score(X_test.toarray(), y_test)"
   ]
  },
  {
   "cell_type": "code",
   "execution_count": 145,
   "metadata": {
    "collapsed": true
   },
   "outputs": [],
   "source": [
    "from sklearn.metrics import confusion_matrix"
   ]
  },
  {
   "cell_type": "code",
   "execution_count": 162,
   "metadata": {
    "collapsed": false
   },
   "outputs": [
    {
     "name": "stdout",
     "output_type": "stream",
     "text": [
      "[[  61    1    2    0    3    4    0    5    0   14    1    3    0   22\n",
      "     0    0   17    3    4    0]\n",
      " [   1   71    1    1    2   42    0   11   14   30    0    0    3    1\n",
      "     1    4   59    0    0    0]\n",
      " [   0    2  346    1    0   16    0    0    2   27    1    0    1   12\n",
      "     0    2   53    1    0    0]\n",
      " [   2    1    6  691    7    3    0    7    0    8    2   14   15    4\n",
      "     3    1    7    0   21   10]\n",
      " [   3    1    3   24  135    4    0    6    2   12    0    2    4    5\n",
      "     0    1    9    3    8    5]\n",
      " [   1    8   12    3    7  484    5    6    3  183    2    3    0    5\n",
      "     3    9   48   10    1    1]\n",
      " [   0    0    0    2    1    5  241    5    0   75    1    2    0    3\n",
      "     9    0    5    3    1    0]\n",
      " [   0    1    3    2    1    2    8  823    0   10    1    1    1   15\n",
      "    16    1    5    1    9    1]\n",
      " [   0   10    0    4    0   31    4    2   89   12    1    0    1    1\n",
      "     2    0   39    2    1    1]\n",
      " [   2    4    9    2    1   86   18   10    4 2118    2    1    0   29\n",
      "     8    2   47    8    0    1]\n",
      " [   0    3    3    2    3    6    1    7    2    4  106    0    0    8\n",
      "     0    0   11    1    0    1]\n",
      " [   0    1    1   48    8    2    0   42    0    4    0  302    4    3\n",
      "     0    3    4    0    5    0]\n",
      " [   0    1    0   39    0    1    0    0    0    1    0   14  181    3\n",
      "     1    1    3    0    1    3]\n",
      " [   3    2    3    4    4   16    3    9    1   37    5    3    0 1794\n",
      "     3    1   36    7    1    0]\n",
      " [   0    0    0    0    0    2    5   17    1   16    2    0    0    5\n",
      "   188    0    5    3    0    2]\n",
      " [   2    4    2    0    2   28    9    2    3   19    1    1    0    6\n",
      "     2   52   13    1    0    0]\n",
      " [   0    7   64    2    3   42    4   10    9   55    5    3    1   35\n",
      "     5    4 1039    6    1    1]\n",
      " [   1    0    3    4    4   33    3    3    0   77    2    1    0   29\n",
      "     4    3   13  117    0    0]\n",
      " [   1    1    1   25    6    1    2   17    0    2    2    4    1    8\n",
      "     0    0    2    0  364   25]\n",
      " [   1    0    0   35    5    4    1    2    1    2    0    5    2    4\n",
      "     1    1    0    0   67  117]]\n"
     ]
    }
   ],
   "source": [
    "# confusion matrix for pac learner\n",
    "print confusion_matrix(y_test, pac_preds)"
   ]
  },
  {
   "cell_type": "code",
   "execution_count": 167,
   "metadata": {
    "collapsed": false
   },
   "outputs": [
    {
     "data": {
      "text/plain": [
       "array([u'brazilian', u'british', u'cajun_creole', u'chinese', u'filipino',\n",
       "       u'french', u'greek', u'indian', u'irish', u'italian', u'jamaican',\n",
       "       u'japanese', u'korean', u'mexican', u'moroccan', u'russian',\n",
       "       u'southern_us', u'spanish', u'thai', u'vietnamese'], dtype=object)"
      ]
     },
     "execution_count": 167,
     "metadata": {},
     "output_type": "execute_result"
    }
   ],
   "source": [
    "lbl_encoder.classes_"
   ]
  },
  {
   "cell_type": "code",
   "execution_count": 164,
   "metadata": {
    "collapsed": false
   },
   "outputs": [
    {
     "name": "stdout",
     "output_type": "stream",
     "text": [
      "[[  75    1    2    0    4    3    0    5    0   11    1    0    0   19\n",
      "     0    0   14    4    1    0]\n",
      " [   0   95    1    2    0   33    0    6   19   27    0    0    0    1\n",
      "     1    2   50    4    0    0]\n",
      " [   0    3  338    1    0   11    0    0    1   24    1    0    1   11\n",
      "     0    1   64    7    0    1]\n",
      " [   5    1    2  670    8    4    0    6    0   17    2   22   18    7\n",
      "     0    2   12    0   21    5]\n",
      " [   5    1    2   24  135    7    0    3    2   15    0    4    0    5\n",
      "     0    1   10    3    7    3]\n",
      " [   3   12    5    2    1  500    8    1    6  160    0    4    0    6\n",
      "     1    9   58   16    1    1]\n",
      " [   0    0    1    1    0   10  259    7    0   54    0    1    0    3\n",
      "     3    0    6    8    0    0]\n",
      " [   3    1    1    6    2    3    8  781    2   17    5    5    2   24\n",
      "    20    2   13    1    3    2]\n",
      " [   0   16    0    1    2   29    3    1   93   14    0    0    0    1\n",
      "     2    1   34    2    0    1]\n",
      " [   0    4   11    1    0  117   21    7    5 2073    1    3    0   24\n",
      "     2   10   58   14    0    1]\n",
      " [   1    4    2    0    1    6    0    8    3    4  111    0    1    4\n",
      "     0    0   11    1    0    1]\n",
      " [   0    1    1   44    3    5    0   40    0    7    0  302    4    4\n",
      "     0    2    8    0    4    2]\n",
      " [   0    2    0   34    0    1    0    1    0    3    0   11  183    3\n",
      "     1    0    5    0    2    3]\n",
      " [   3    2    3    3    3   19    3    4    1   44    3    2    0 1782\n",
      "     3    0   44   12    1    0]\n",
      " [   0    0    3    1    0    6    6   17    1   17    2    0    1    6\n",
      "   174    0    8    4    0    0]\n",
      " [   0    5    1    1    1   27    6    2    4   20    1    1    0    4\n",
      "     0   51   20    1    0    2]\n",
      " [   5   13   53    3    2   44    5    4    7   59    4    2    0   37\n",
      "     3    5 1041    6    3    0]\n",
      " [   4    0    1    0    3   36    7    4    2   57    0    0    0   23\n",
      "     4    3   12  141    0    0]\n",
      " [   0    1    1   24    8    1    1   13    0    3    1    6    0   10\n",
      "     0    0    4    0  359   30]\n",
      " [   0    0    0   32    6    4    1    2    0    7    0    5    2    3\n",
      "     1    0    1    2   54  128]]\n"
     ]
    }
   ],
   "source": [
    "# confusion matrix for logistic regression\n",
    "print confusion_matrix(y_test, log_preds)"
   ]
  },
  {
   "cell_type": "markdown",
   "metadata": {},
   "source": [
    "## One-hot encoding"
   ]
  },
  {
   "cell_type": "code",
   "execution_count": 52,
   "metadata": {
    "collapsed": true
   },
   "outputs": [],
   "source": [
    "from collections import defaultdict"
   ]
  },
  {
   "cell_type": "code",
   "execution_count": 257,
   "metadata": {
    "collapsed": false
   },
   "outputs": [],
   "source": [
    "def prepare_bag_of_ingredients(cuisines):\n",
    "    one_hot_encoded = defaultdict(list)\n",
    "\n",
    "    for i in range(cuisines.shape[0]):\n",
    "        ingredient = cuisines.iloc[i, 0]\n",
    "        ingredient = re.sub(r'^A-Za-z', '', ingredient)\n",
    "        ingredient = ingredient.lower()\n",
    "\n",
    "        for u_ingr in top_most_used_ingredients[:750]:\n",
    "            if u_ingr in ingredient:\n",
    "                one_hot_encoded[u_ingr].append(1)\n",
    "            else:\n",
    "                one_hot_encoded[u_ingr].append(0)\n",
    "    \n",
    "    return one_hot_encoded"
   ]
  },
  {
   "cell_type": "code",
   "execution_count": 233,
   "metadata": {
    "collapsed": true
   },
   "outputs": [],
   "source": [
    "sss_2 = StratifiedShuffleSplit(target, train_size=35000)\n",
    "\n",
    "train_index, test_index = next(iter(sss_2))\n",
    "\n",
    "train_X = cuisines_train.iloc[train_index]\n",
    "train_target = target[train_index]\n",
    "\n",
    "test_X = cuisines_train.iloc[test_index]\n",
    "test_target = target[test_index]"
   ]
  },
  {
   "cell_type": "code",
   "execution_count": 234,
   "metadata": {
    "collapsed": false
   },
   "outputs": [],
   "source": [
    "bag_of_ingredients_train = prepare_bag_of_ingredients(train_X)"
   ]
  },
  {
   "cell_type": "code",
   "execution_count": 235,
   "metadata": {
    "collapsed": false
   },
   "outputs": [],
   "source": [
    "bag_of_ingredients_df_train = pd.DataFrame(bag_of_ingredients_train)"
   ]
  },
  {
   "cell_type": "code",
   "execution_count": 236,
   "metadata": {
    "collapsed": false
   },
   "outputs": [
    {
     "name": "stdout",
     "output_type": "stream",
     "text": [
      "<class 'pandas.core.frame.DataFrame'>\n",
      "Int64Index: 35000 entries, 0 to 34999\n",
      "Columns: 750 entries, active to zucchini\n",
      "dtypes: int64(750)\n",
      "memory usage: 200.5 MB\n"
     ]
    }
   ],
   "source": [
    "bag_of_ingredients_df_train.info()"
   ]
  },
  {
   "cell_type": "code",
   "execution_count": 258,
   "metadata": {
    "collapsed": false
   },
   "outputs": [],
   "source": [
    "bag_of_ingredients_test = prepare_bag_of_ingredients(cuisines_test)"
   ]
  },
  {
   "cell_type": "code",
   "execution_count": 259,
   "metadata": {
    "collapsed": true
   },
   "outputs": [],
   "source": [
    "bag_of_ingredients_df_test = pd.DataFrame(bag_of_ingredients_test)"
   ]
  },
  {
   "cell_type": "code",
   "execution_count": 260,
   "metadata": {
    "collapsed": false
   },
   "outputs": [
    {
     "name": "stdout",
     "output_type": "stream",
     "text": [
      "<class 'pandas.core.frame.DataFrame'>\n",
      "Int64Index: 9944 entries, 0 to 9943\n",
      "Columns: 750 entries, active to zucchini\n",
      "dtypes: int64(750)\n",
      "memory usage: 57.0 MB\n"
     ]
    }
   ],
   "source": [
    "bag_of_ingredients_df_test.info()"
   ]
  },
  {
   "cell_type": "code",
   "execution_count": 237,
   "metadata": {
    "collapsed": false
   },
   "outputs": [],
   "source": [
    "from scipy import sparse"
   ]
  },
  {
   "cell_type": "code",
   "execution_count": 238,
   "metadata": {
    "collapsed": true
   },
   "outputs": [],
   "source": [
    "bag_of_ingredients_sparse= sparse.csr_matrix(bag_of_ingredients_df_train.values)"
   ]
  },
  {
   "cell_type": "code",
   "execution_count": 261,
   "metadata": {
    "collapsed": true
   },
   "outputs": [],
   "source": [
    "bag_of_ingredients_sparse_test = sparse.csr_matrix(bag_of_ingredients_df_test.values)"
   ]
  },
  {
   "cell_type": "code",
   "execution_count": 239,
   "metadata": {
    "collapsed": true
   },
   "outputs": [],
   "source": [
    "from sklearn.cross_validation import train_test_split"
   ]
  },
  {
   "cell_type": "code",
   "execution_count": 240,
   "metadata": {
    "collapsed": false
   },
   "outputs": [],
   "source": [
    "X_train, X_test, y_train, y_test = train_test_split(bag_of_ingredients_sparse, train_target, test_size=0.2)"
   ]
  },
  {
   "cell_type": "code",
   "execution_count": 241,
   "metadata": {
    "collapsed": true
   },
   "outputs": [],
   "source": [
    "import xgboost as xgb"
   ]
  },
  {
   "cell_type": "code",
   "execution_count": 242,
   "metadata": {
    "collapsed": true
   },
   "outputs": [],
   "source": [
    "xg_train = xgb.DMatrix( X_train, label=y_train )\n",
    "xg_test = xgb.DMatrix( X_test, label=y_test )"
   ]
  },
  {
   "cell_type": "code",
   "execution_count": 250,
   "metadata": {
    "collapsed": true
   },
   "outputs": [],
   "source": [
    "# setup parameters for xgboost\n",
    "param = {}\n",
    "# use softmax multi-class classification\n",
    "param['objective'] = 'multi:softmax'\n",
    "# scale weight of positive examples\n",
    "param['eta'] = 0.03\n",
    "param['max_depth'] = 8\n",
    "param['silent'] = 1\n",
    "param['nthread'] = 8\n",
    "param['num_class'] = 20\n",
    "param['colsample_bytree'] = 0.7\n",
    "param['subsample'] = 0.8"
   ]
  },
  {
   "cell_type": "code",
   "execution_count": 251,
   "metadata": {
    "collapsed": false
   },
   "outputs": [
    {
     "name": "stderr",
     "output_type": "stream",
     "text": [
      "[0]\ttrain-merror:0.361571\ttest-merror:0.385000\n",
      "[1]\ttrain-merror:0.305000\ttest-merror:0.331143\n",
      "[2]\ttrain-merror:0.290786\ttest-merror:0.322571\n",
      "[3]\ttrain-merror:0.282000\ttest-merror:0.314714\n",
      "[4]\ttrain-merror:0.276143\ttest-merror:0.309286\n",
      "[5]\ttrain-merror:0.273393\ttest-merror:0.306714\n",
      "[6]\ttrain-merror:0.269607\ttest-merror:0.305286\n",
      "[7]\ttrain-merror:0.266036\ttest-merror:0.302714\n",
      "[8]\ttrain-merror:0.263964\ttest-merror:0.300857\n",
      "[9]\ttrain-merror:0.261214\ttest-merror:0.299714\n",
      "[10]\ttrain-merror:0.258536\ttest-merror:0.298143\n",
      "[11]\ttrain-merror:0.257143\ttest-merror:0.296857\n",
      "[12]\ttrain-merror:0.255321\ttest-merror:0.296143\n",
      "[13]\ttrain-merror:0.253500\ttest-merror:0.293571\n",
      "[14]\ttrain-merror:0.251929\ttest-merror:0.293571\n",
      "[15]\ttrain-merror:0.250679\ttest-merror:0.292714\n",
      "[16]\ttrain-merror:0.250286\ttest-merror:0.292286\n",
      "[17]\ttrain-merror:0.249607\ttest-merror:0.291429\n",
      "[18]\ttrain-merror:0.248107\ttest-merror:0.291857\n",
      "[19]\ttrain-merror:0.246036\ttest-merror:0.290857\n",
      "[20]\ttrain-merror:0.244786\ttest-merror:0.289143\n",
      "[21]\ttrain-merror:0.242821\ttest-merror:0.289143\n",
      "[22]\ttrain-merror:0.241964\ttest-merror:0.289143\n",
      "[23]\ttrain-merror:0.241107\ttest-merror:0.286000\n",
      "[24]\ttrain-merror:0.240786\ttest-merror:0.285714\n",
      "[25]\ttrain-merror:0.239464\ttest-merror:0.285286\n",
      "[26]\ttrain-merror:0.238929\ttest-merror:0.284857\n",
      "[27]\ttrain-merror:0.238286\ttest-merror:0.283571\n",
      "[28]\ttrain-merror:0.236750\ttest-merror:0.282857\n",
      "[29]\ttrain-merror:0.236143\ttest-merror:0.281857\n",
      "[30]\ttrain-merror:0.235607\ttest-merror:0.281000\n",
      "[31]\ttrain-merror:0.235250\ttest-merror:0.281000\n",
      "[32]\ttrain-merror:0.234000\ttest-merror:0.280714\n",
      "[33]\ttrain-merror:0.233036\ttest-merror:0.280286\n",
      "[34]\ttrain-merror:0.232464\ttest-merror:0.279429\n",
      "[35]\ttrain-merror:0.231250\ttest-merror:0.279000\n",
      "[36]\ttrain-merror:0.229893\ttest-merror:0.278286\n",
      "[37]\ttrain-merror:0.228929\ttest-merror:0.278571\n",
      "[38]\ttrain-merror:0.228286\ttest-merror:0.278143\n",
      "[39]\ttrain-merror:0.227179\ttest-merror:0.278286\n",
      "[40]\ttrain-merror:0.226607\ttest-merror:0.277286\n",
      "[41]\ttrain-merror:0.226107\ttest-merror:0.276429\n",
      "[42]\ttrain-merror:0.225286\ttest-merror:0.275571\n",
      "[43]\ttrain-merror:0.225107\ttest-merror:0.277571\n",
      "[44]\ttrain-merror:0.224357\ttest-merror:0.277286\n",
      "[45]\ttrain-merror:0.223571\ttest-merror:0.276857\n",
      "[46]\ttrain-merror:0.222750\ttest-merror:0.275714\n",
      "[47]\ttrain-merror:0.222357\ttest-merror:0.275571\n",
      "[48]\ttrain-merror:0.221429\ttest-merror:0.276429\n",
      "[49]\ttrain-merror:0.220893\ttest-merror:0.276000\n",
      "[50]\ttrain-merror:0.220250\ttest-merror:0.276000\n",
      "[51]\ttrain-merror:0.219500\ttest-merror:0.274857\n",
      "[52]\ttrain-merror:0.219464\ttest-merror:0.275143\n",
      "[53]\ttrain-merror:0.218607\ttest-merror:0.274286\n",
      "[54]\ttrain-merror:0.217821\ttest-merror:0.273429\n",
      "[55]\ttrain-merror:0.217393\ttest-merror:0.273571\n",
      "[56]\ttrain-merror:0.216071\ttest-merror:0.272714\n",
      "[57]\ttrain-merror:0.215179\ttest-merror:0.273000\n",
      "[58]\ttrain-merror:0.214500\ttest-merror:0.273000\n",
      "[59]\ttrain-merror:0.213786\ttest-merror:0.272714\n",
      "[60]\ttrain-merror:0.213321\ttest-merror:0.271286\n",
      "[61]\ttrain-merror:0.212536\ttest-merror:0.271286\n",
      "[62]\ttrain-merror:0.212464\ttest-merror:0.271429\n",
      "[63]\ttrain-merror:0.211607\ttest-merror:0.271143\n",
      "[64]\ttrain-merror:0.211143\ttest-merror:0.270429\n",
      "[65]\ttrain-merror:0.210321\ttest-merror:0.270429\n",
      "[66]\ttrain-merror:0.210179\ttest-merror:0.270714\n",
      "[67]\ttrain-merror:0.209750\ttest-merror:0.270571\n",
      "[68]\ttrain-merror:0.208857\ttest-merror:0.271000\n",
      "[69]\ttrain-merror:0.207929\ttest-merror:0.271143\n",
      "[70]\ttrain-merror:0.207500\ttest-merror:0.270571\n",
      "[71]\ttrain-merror:0.206464\ttest-merror:0.269429\n",
      "[72]\ttrain-merror:0.205643\ttest-merror:0.268714\n",
      "[73]\ttrain-merror:0.204857\ttest-merror:0.267714\n",
      "[74]\ttrain-merror:0.204179\ttest-merror:0.266857\n",
      "[75]\ttrain-merror:0.203464\ttest-merror:0.266857\n",
      "[76]\ttrain-merror:0.203107\ttest-merror:0.265429\n",
      "[77]\ttrain-merror:0.202607\ttest-merror:0.265286\n",
      "[78]\ttrain-merror:0.201857\ttest-merror:0.266286\n",
      "[79]\ttrain-merror:0.201500\ttest-merror:0.266571\n",
      "[80]\ttrain-merror:0.200857\ttest-merror:0.266143\n",
      "[81]\ttrain-merror:0.200286\ttest-merror:0.265571\n",
      "[82]\ttrain-merror:0.199571\ttest-merror:0.264571\n",
      "[83]\ttrain-merror:0.198821\ttest-merror:0.263286\n",
      "[84]\ttrain-merror:0.197571\ttest-merror:0.263571\n",
      "[85]\ttrain-merror:0.197000\ttest-merror:0.263571\n",
      "[86]\ttrain-merror:0.196643\ttest-merror:0.264000\n",
      "[87]\ttrain-merror:0.196071\ttest-merror:0.263571\n",
      "[88]\ttrain-merror:0.195607\ttest-merror:0.263429\n",
      "[89]\ttrain-merror:0.195107\ttest-merror:0.263571\n",
      "[90]\ttrain-merror:0.194286\ttest-merror:0.263000\n",
      "[91]\ttrain-merror:0.193821\ttest-merror:0.262429\n",
      "[92]\ttrain-merror:0.193000\ttest-merror:0.263143\n",
      "[93]\ttrain-merror:0.192357\ttest-merror:0.262286\n",
      "[94]\ttrain-merror:0.192036\ttest-merror:0.262143\n",
      "[95]\ttrain-merror:0.191893\ttest-merror:0.262143\n",
      "[96]\ttrain-merror:0.191536\ttest-merror:0.262286\n",
      "[97]\ttrain-merror:0.190821\ttest-merror:0.261857\n",
      "[98]\ttrain-merror:0.190214\ttest-merror:0.261714\n",
      "[99]\ttrain-merror:0.189857\ttest-merror:0.261429\n",
      "[100]\ttrain-merror:0.189536\ttest-merror:0.261429\n",
      "[101]\ttrain-merror:0.188321\ttest-merror:0.260429\n",
      "[102]\ttrain-merror:0.188500\ttest-merror:0.260714\n",
      "[103]\ttrain-merror:0.187786\ttest-merror:0.260286\n",
      "[104]\ttrain-merror:0.187536\ttest-merror:0.259571\n",
      "[105]\ttrain-merror:0.186857\ttest-merror:0.258571\n",
      "[106]\ttrain-merror:0.186321\ttest-merror:0.258571\n",
      "[107]\ttrain-merror:0.185964\ttest-merror:0.257857\n",
      "[108]\ttrain-merror:0.185643\ttest-merror:0.258000\n",
      "[109]\ttrain-merror:0.185000\ttest-merror:0.258000\n",
      "[110]\ttrain-merror:0.184857\ttest-merror:0.257571\n",
      "[111]\ttrain-merror:0.184071\ttest-merror:0.257429\n",
      "[112]\ttrain-merror:0.183679\ttest-merror:0.257286\n",
      "[113]\ttrain-merror:0.183214\ttest-merror:0.256571\n",
      "[114]\ttrain-merror:0.182536\ttest-merror:0.256571\n",
      "[115]\ttrain-merror:0.181929\ttest-merror:0.255857\n",
      "[116]\ttrain-merror:0.181357\ttest-merror:0.255714\n",
      "[117]\ttrain-merror:0.180714\ttest-merror:0.255143\n",
      "[118]\ttrain-merror:0.180500\ttest-merror:0.255000\n",
      "[119]\ttrain-merror:0.180179\ttest-merror:0.255143\n",
      "[120]\ttrain-merror:0.179679\ttest-merror:0.255714\n",
      "[121]\ttrain-merror:0.179286\ttest-merror:0.255429\n",
      "[122]\ttrain-merror:0.178821\ttest-merror:0.255571\n",
      "[123]\ttrain-merror:0.178429\ttest-merror:0.254571\n",
      "[124]\ttrain-merror:0.177857\ttest-merror:0.254143\n",
      "[125]\ttrain-merror:0.177214\ttest-merror:0.253714\n",
      "[126]\ttrain-merror:0.176571\ttest-merror:0.254143\n",
      "[127]\ttrain-merror:0.176036\ttest-merror:0.252714\n",
      "[128]\ttrain-merror:0.175679\ttest-merror:0.252429\n",
      "[129]\ttrain-merror:0.175000\ttest-merror:0.251857\n",
      "[130]\ttrain-merror:0.174571\ttest-merror:0.251571\n",
      "[131]\ttrain-merror:0.174429\ttest-merror:0.251143\n",
      "[132]\ttrain-merror:0.173786\ttest-merror:0.251000\n",
      "[133]\ttrain-merror:0.173607\ttest-merror:0.251000\n",
      "[134]\ttrain-merror:0.173071\ttest-merror:0.251143\n",
      "[135]\ttrain-merror:0.172500\ttest-merror:0.250429\n",
      "[136]\ttrain-merror:0.172179\ttest-merror:0.251000\n",
      "[137]\ttrain-merror:0.171643\ttest-merror:0.251143\n",
      "[138]\ttrain-merror:0.171679\ttest-merror:0.250143\n",
      "[139]\ttrain-merror:0.171071\ttest-merror:0.250429\n",
      "[140]\ttrain-merror:0.170679\ttest-merror:0.250000\n",
      "[141]\ttrain-merror:0.170643\ttest-merror:0.250000\n",
      "[142]\ttrain-merror:0.170036\ttest-merror:0.248857\n",
      "[143]\ttrain-merror:0.169679\ttest-merror:0.249143\n",
      "[144]\ttrain-merror:0.168893\ttest-merror:0.248714\n",
      "[145]\ttrain-merror:0.168607\ttest-merror:0.249143\n",
      "[146]\ttrain-merror:0.167929\ttest-merror:0.249143\n",
      "[147]\ttrain-merror:0.167750\ttest-merror:0.249714\n",
      "[148]\ttrain-merror:0.167214\ttest-merror:0.248429\n",
      "[149]\ttrain-merror:0.166857\ttest-merror:0.247714\n",
      "[150]\ttrain-merror:0.166214\ttest-merror:0.247714\n",
      "[151]\ttrain-merror:0.166036\ttest-merror:0.247571\n",
      "[152]\ttrain-merror:0.165679\ttest-merror:0.247429\n",
      "[153]\ttrain-merror:0.165429\ttest-merror:0.247429\n",
      "[154]\ttrain-merror:0.164893\ttest-merror:0.247714\n",
      "[155]\ttrain-merror:0.164393\ttest-merror:0.247286\n",
      "[156]\ttrain-merror:0.164000\ttest-merror:0.247000\n",
      "[157]\ttrain-merror:0.163643\ttest-merror:0.247429\n",
      "[158]\ttrain-merror:0.163429\ttest-merror:0.246429\n",
      "[159]\ttrain-merror:0.162893\ttest-merror:0.246571\n",
      "[160]\ttrain-merror:0.162286\ttest-merror:0.246571\n",
      "[161]\ttrain-merror:0.162107\ttest-merror:0.246571\n",
      "[162]\ttrain-merror:0.161786\ttest-merror:0.246714\n",
      "[163]\ttrain-merror:0.161429\ttest-merror:0.246143\n",
      "[164]\ttrain-merror:0.161107\ttest-merror:0.246429\n",
      "[165]\ttrain-merror:0.160786\ttest-merror:0.245857\n",
      "[166]\ttrain-merror:0.160357\ttest-merror:0.245571\n",
      "[167]\ttrain-merror:0.160107\ttest-merror:0.245429\n",
      "[168]\ttrain-merror:0.159643\ttest-merror:0.245286\n",
      "[169]\ttrain-merror:0.159286\ttest-merror:0.244857\n",
      "[170]\ttrain-merror:0.158714\ttest-merror:0.245143\n",
      "[171]\ttrain-merror:0.158679\ttest-merror:0.244857\n",
      "[172]\ttrain-merror:0.158250\ttest-merror:0.244571\n",
      "[173]\ttrain-merror:0.157964\ttest-merror:0.244571\n",
      "[174]\ttrain-merror:0.157214\ttest-merror:0.244286\n",
      "[175]\ttrain-merror:0.156821\ttest-merror:0.244857\n",
      "[176]\ttrain-merror:0.156536\ttest-merror:0.244000\n",
      "[177]\ttrain-merror:0.156214\ttest-merror:0.244286\n",
      "[178]\ttrain-merror:0.156000\ttest-merror:0.244143\n",
      "[179]\ttrain-merror:0.155536\ttest-merror:0.243286\n",
      "[180]\ttrain-merror:0.155214\ttest-merror:0.243571\n",
      "[181]\ttrain-merror:0.154821\ttest-merror:0.243000\n",
      "[182]\ttrain-merror:0.154607\ttest-merror:0.242857\n",
      "[183]\ttrain-merror:0.154071\ttest-merror:0.242286\n",
      "[184]\ttrain-merror:0.153214\ttest-merror:0.242286\n",
      "[185]\ttrain-merror:0.152714\ttest-merror:0.242143\n",
      "[186]\ttrain-merror:0.152607\ttest-merror:0.242000\n",
      "[187]\ttrain-merror:0.152321\ttest-merror:0.240857\n",
      "[188]\ttrain-merror:0.152000\ttest-merror:0.240857\n",
      "[189]\ttrain-merror:0.151679\ttest-merror:0.240714\n",
      "[190]\ttrain-merror:0.151250\ttest-merror:0.240857\n",
      "[191]\ttrain-merror:0.151000\ttest-merror:0.240714\n",
      "[192]\ttrain-merror:0.150714\ttest-merror:0.240571\n",
      "[193]\ttrain-merror:0.150214\ttest-merror:0.240286\n",
      "[194]\ttrain-merror:0.149750\ttest-merror:0.240286\n",
      "[195]\ttrain-merror:0.149464\ttest-merror:0.240429\n",
      "[196]\ttrain-merror:0.148893\ttest-merror:0.240000\n",
      "[197]\ttrain-merror:0.148714\ttest-merror:0.240000\n",
      "[198]\ttrain-merror:0.148500\ttest-merror:0.239857\n",
      "[199]\ttrain-merror:0.148429\ttest-merror:0.240000\n",
      "[200]\ttrain-merror:0.147750\ttest-merror:0.239286\n",
      "[201]\ttrain-merror:0.147786\ttest-merror:0.239286\n",
      "[202]\ttrain-merror:0.147429\ttest-merror:0.239000\n",
      "[203]\ttrain-merror:0.147214\ttest-merror:0.239000\n",
      "[204]\ttrain-merror:0.146643\ttest-merror:0.239143\n",
      "[205]\ttrain-merror:0.146357\ttest-merror:0.238714\n",
      "[206]\ttrain-merror:0.146179\ttest-merror:0.238571\n",
      "[207]\ttrain-merror:0.145714\ttest-merror:0.238857\n",
      "[208]\ttrain-merror:0.145464\ttest-merror:0.238857\n",
      "[209]\ttrain-merror:0.145179\ttest-merror:0.238571\n",
      "[210]\ttrain-merror:0.144750\ttest-merror:0.238429\n",
      "[211]\ttrain-merror:0.144429\ttest-merror:0.237857\n",
      "[212]\ttrain-merror:0.143750\ttest-merror:0.238143\n",
      "[213]\ttrain-merror:0.143321\ttest-merror:0.238000\n",
      "[214]\ttrain-merror:0.143143\ttest-merror:0.237714\n",
      "[215]\ttrain-merror:0.142929\ttest-merror:0.237857\n",
      "[216]\ttrain-merror:0.142679\ttest-merror:0.237143\n",
      "[217]\ttrain-merror:0.142429\ttest-merror:0.236714\n",
      "[218]\ttrain-merror:0.141893\ttest-merror:0.236714\n",
      "[219]\ttrain-merror:0.141679\ttest-merror:0.236571\n",
      "[220]\ttrain-merror:0.141214\ttest-merror:0.236143\n",
      "[221]\ttrain-merror:0.141036\ttest-merror:0.235714\n",
      "[222]\ttrain-merror:0.140679\ttest-merror:0.236000\n",
      "[223]\ttrain-merror:0.140429\ttest-merror:0.236000\n",
      "[224]\ttrain-merror:0.139929\ttest-merror:0.235286\n",
      "[225]\ttrain-merror:0.139536\ttest-merror:0.236000\n",
      "[226]\ttrain-merror:0.139214\ttest-merror:0.235286\n",
      "[227]\ttrain-merror:0.138929\ttest-merror:0.235429\n",
      "[228]\ttrain-merror:0.138607\ttest-merror:0.235000\n",
      "[229]\ttrain-merror:0.138321\ttest-merror:0.234571\n",
      "[230]\ttrain-merror:0.138107\ttest-merror:0.234857\n",
      "[231]\ttrain-merror:0.137929\ttest-merror:0.234714\n",
      "[232]\ttrain-merror:0.137750\ttest-merror:0.234000\n",
      "[233]\ttrain-merror:0.137321\ttest-merror:0.234000\n",
      "[234]\ttrain-merror:0.136857\ttest-merror:0.234286\n",
      "[235]\ttrain-merror:0.136857\ttest-merror:0.233714\n",
      "[236]\ttrain-merror:0.136643\ttest-merror:0.233571\n",
      "[237]\ttrain-merror:0.136393\ttest-merror:0.233429\n",
      "[238]\ttrain-merror:0.136214\ttest-merror:0.232857\n",
      "[239]\ttrain-merror:0.135857\ttest-merror:0.233000\n",
      "[240]\ttrain-merror:0.135643\ttest-merror:0.232857\n",
      "[241]\ttrain-merror:0.135179\ttest-merror:0.232286\n",
      "[242]\ttrain-merror:0.134929\ttest-merror:0.233000\n",
      "[243]\ttrain-merror:0.134500\ttest-merror:0.232857\n",
      "[244]\ttrain-merror:0.134393\ttest-merror:0.232714\n",
      "[245]\ttrain-merror:0.134036\ttest-merror:0.232429\n",
      "[246]\ttrain-merror:0.134036\ttest-merror:0.232143\n",
      "[247]\ttrain-merror:0.133464\ttest-merror:0.232286\n",
      "[248]\ttrain-merror:0.133286\ttest-merror:0.231714\n",
      "[249]\ttrain-merror:0.132929\ttest-merror:0.231286\n",
      "[250]\ttrain-merror:0.132464\ttest-merror:0.231143\n",
      "[251]\ttrain-merror:0.132250\ttest-merror:0.232000\n",
      "[252]\ttrain-merror:0.132214\ttest-merror:0.231429\n",
      "[253]\ttrain-merror:0.131714\ttest-merror:0.231286\n",
      "[254]\ttrain-merror:0.131643\ttest-merror:0.231286\n",
      "[255]\ttrain-merror:0.131107\ttest-merror:0.231571\n",
      "[256]\ttrain-merror:0.130500\ttest-merror:0.231429\n",
      "[257]\ttrain-merror:0.130250\ttest-merror:0.231286\n",
      "[258]\ttrain-merror:0.130071\ttest-merror:0.231571\n",
      "[259]\ttrain-merror:0.129536\ttest-merror:0.231714\n",
      "[260]\ttrain-merror:0.129357\ttest-merror:0.231857\n",
      "[261]\ttrain-merror:0.129143\ttest-merror:0.232143\n",
      "[262]\ttrain-merror:0.128821\ttest-merror:0.231143\n",
      "[263]\ttrain-merror:0.128500\ttest-merror:0.231143\n",
      "[264]\ttrain-merror:0.128393\ttest-merror:0.231000\n",
      "[265]\ttrain-merror:0.128071\ttest-merror:0.230571\n",
      "[266]\ttrain-merror:0.127857\ttest-merror:0.230286\n",
      "[267]\ttrain-merror:0.127679\ttest-merror:0.230857\n",
      "[268]\ttrain-merror:0.127036\ttest-merror:0.230714\n",
      "[269]\ttrain-merror:0.127036\ttest-merror:0.230714\n",
      "[270]\ttrain-merror:0.126786\ttest-merror:0.230857\n",
      "[271]\ttrain-merror:0.126607\ttest-merror:0.230857\n",
      "[272]\ttrain-merror:0.126429\ttest-merror:0.230714\n",
      "[273]\ttrain-merror:0.126071\ttest-merror:0.230429\n",
      "[274]\ttrain-merror:0.125857\ttest-merror:0.230429\n",
      "[275]\ttrain-merror:0.125643\ttest-merror:0.230714\n",
      "[276]\ttrain-merror:0.125429\ttest-merror:0.230571\n",
      "[277]\ttrain-merror:0.125321\ttest-merror:0.230571\n",
      "[278]\ttrain-merror:0.125214\ttest-merror:0.230000\n",
      "[279]\ttrain-merror:0.124786\ttest-merror:0.229857\n",
      "[280]\ttrain-merror:0.124714\ttest-merror:0.230286\n",
      "[281]\ttrain-merror:0.124643\ttest-merror:0.230429\n",
      "[282]\ttrain-merror:0.124464\ttest-merror:0.230143\n",
      "[283]\ttrain-merror:0.124143\ttest-merror:0.230143\n",
      "[284]\ttrain-merror:0.123786\ttest-merror:0.230286\n",
      "[285]\ttrain-merror:0.123250\ttest-merror:0.229857\n",
      "[286]\ttrain-merror:0.122714\ttest-merror:0.230000\n",
      "[287]\ttrain-merror:0.122679\ttest-merror:0.229714\n",
      "[288]\ttrain-merror:0.122500\ttest-merror:0.230143\n",
      "[289]\ttrain-merror:0.122214\ttest-merror:0.229857\n",
      "[290]\ttrain-merror:0.121929\ttest-merror:0.229429\n",
      "[291]\ttrain-merror:0.121821\ttest-merror:0.229429\n",
      "[292]\ttrain-merror:0.121250\ttest-merror:0.228857\n",
      "[293]\ttrain-merror:0.120964\ttest-merror:0.229000\n",
      "[294]\ttrain-merror:0.120964\ttest-merror:0.228857\n",
      "[295]\ttrain-merror:0.120607\ttest-merror:0.228286\n",
      "[296]\ttrain-merror:0.120214\ttest-merror:0.228571\n",
      "[297]\ttrain-merror:0.120107\ttest-merror:0.228571\n",
      "[298]\ttrain-merror:0.119750\ttest-merror:0.228714\n",
      "[299]\ttrain-merror:0.119393\ttest-merror:0.228286\n",
      "[300]\ttrain-merror:0.119286\ttest-merror:0.228143\n",
      "[301]\ttrain-merror:0.119071\ttest-merror:0.227857\n",
      "[302]\ttrain-merror:0.118929\ttest-merror:0.227857\n",
      "[303]\ttrain-merror:0.118357\ttest-merror:0.228143\n",
      "[304]\ttrain-merror:0.118250\ttest-merror:0.228000\n",
      "[305]\ttrain-merror:0.118179\ttest-merror:0.227857\n",
      "[306]\ttrain-merror:0.117964\ttest-merror:0.227286\n",
      "[307]\ttrain-merror:0.117679\ttest-merror:0.227286\n",
      "[308]\ttrain-merror:0.117500\ttest-merror:0.226429\n",
      "[309]\ttrain-merror:0.117250\ttest-merror:0.226429\n",
      "[310]\ttrain-merror:0.116893\ttest-merror:0.226143\n",
      "[311]\ttrain-merror:0.116607\ttest-merror:0.225571\n",
      "[312]\ttrain-merror:0.116500\ttest-merror:0.225286\n",
      "[313]\ttrain-merror:0.116536\ttest-merror:0.225571\n",
      "[314]\ttrain-merror:0.116393\ttest-merror:0.226000\n",
      "[315]\ttrain-merror:0.116250\ttest-merror:0.225714\n",
      "[316]\ttrain-merror:0.115714\ttest-merror:0.225571\n",
      "[317]\ttrain-merror:0.115571\ttest-merror:0.225571\n",
      "[318]\ttrain-merror:0.115464\ttest-merror:0.225286\n",
      "[319]\ttrain-merror:0.115321\ttest-merror:0.225571\n",
      "[320]\ttrain-merror:0.114929\ttest-merror:0.225286\n",
      "[321]\ttrain-merror:0.114893\ttest-merror:0.225714\n",
      "[322]\ttrain-merror:0.114464\ttest-merror:0.225286\n",
      "[323]\ttrain-merror:0.114179\ttest-merror:0.225429\n",
      "[324]\ttrain-merror:0.114000\ttest-merror:0.225286\n",
      "[325]\ttrain-merror:0.113893\ttest-merror:0.224714\n",
      "[326]\ttrain-merror:0.113571\ttest-merror:0.225000\n",
      "[327]\ttrain-merror:0.113464\ttest-merror:0.224571\n",
      "[328]\ttrain-merror:0.113143\ttest-merror:0.224429\n",
      "[329]\ttrain-merror:0.112964\ttest-merror:0.224857\n",
      "[330]\ttrain-merror:0.112607\ttest-merror:0.224714\n",
      "[331]\ttrain-merror:0.112500\ttest-merror:0.224714\n",
      "[332]\ttrain-merror:0.112179\ttest-merror:0.224571\n",
      "[333]\ttrain-merror:0.112143\ttest-merror:0.224286\n",
      "[334]\ttrain-merror:0.111857\ttest-merror:0.224143\n",
      "[335]\ttrain-merror:0.111750\ttest-merror:0.223857\n",
      "[336]\ttrain-merror:0.111429\ttest-merror:0.224000\n",
      "[337]\ttrain-merror:0.111357\ttest-merror:0.224143\n",
      "[338]\ttrain-merror:0.111036\ttest-merror:0.224143\n",
      "[339]\ttrain-merror:0.110964\ttest-merror:0.224286\n",
      "[340]\ttrain-merror:0.110786\ttest-merror:0.224429\n",
      "[341]\ttrain-merror:0.110643\ttest-merror:0.224143\n",
      "[342]\ttrain-merror:0.110607\ttest-merror:0.223714\n",
      "[343]\ttrain-merror:0.110179\ttest-merror:0.223429\n",
      "[344]\ttrain-merror:0.110143\ttest-merror:0.223429\n",
      "[345]\ttrain-merror:0.110000\ttest-merror:0.223714\n",
      "[346]\ttrain-merror:0.109786\ttest-merror:0.223286\n",
      "[347]\ttrain-merror:0.109679\ttest-merror:0.223143\n",
      "[348]\ttrain-merror:0.109286\ttest-merror:0.223143\n",
      "[349]\ttrain-merror:0.109071\ttest-merror:0.222714\n",
      "[350]\ttrain-merror:0.108964\ttest-merror:0.223000\n",
      "[351]\ttrain-merror:0.108679\ttest-merror:0.223143\n",
      "[352]\ttrain-merror:0.108464\ttest-merror:0.223000\n",
      "[353]\ttrain-merror:0.108286\ttest-merror:0.222857\n",
      "[354]\ttrain-merror:0.108000\ttest-merror:0.222000\n",
      "[355]\ttrain-merror:0.107893\ttest-merror:0.222429\n",
      "[356]\ttrain-merror:0.107786\ttest-merror:0.222000\n",
      "[357]\ttrain-merror:0.107571\ttest-merror:0.222000\n",
      "[358]\ttrain-merror:0.107464\ttest-merror:0.222143\n",
      "[359]\ttrain-merror:0.107179\ttest-merror:0.222429\n",
      "[360]\ttrain-merror:0.106964\ttest-merror:0.222286\n",
      "[361]\ttrain-merror:0.106607\ttest-merror:0.222286\n",
      "[362]\ttrain-merror:0.106429\ttest-merror:0.221286\n",
      "[363]\ttrain-merror:0.106143\ttest-merror:0.221571\n",
      "[364]\ttrain-merror:0.106071\ttest-merror:0.221429\n",
      "[365]\ttrain-merror:0.105929\ttest-merror:0.221571\n",
      "[366]\ttrain-merror:0.105786\ttest-merror:0.221429\n",
      "[367]\ttrain-merror:0.105500\ttest-merror:0.222000\n",
      "[368]\ttrain-merror:0.105429\ttest-merror:0.222143\n",
      "[369]\ttrain-merror:0.105143\ttest-merror:0.221571\n",
      "[370]\ttrain-merror:0.105107\ttest-merror:0.221857\n",
      "[371]\ttrain-merror:0.105071\ttest-merror:0.221714\n",
      "[372]\ttrain-merror:0.104821\ttest-merror:0.222000\n",
      "[373]\ttrain-merror:0.104714\ttest-merror:0.222000\n",
      "[374]\ttrain-merror:0.104679\ttest-merror:0.222000\n",
      "[375]\ttrain-merror:0.104464\ttest-merror:0.221857\n",
      "[376]\ttrain-merror:0.104464\ttest-merror:0.221857\n",
      "[377]\ttrain-merror:0.104429\ttest-merror:0.221571\n",
      "[378]\ttrain-merror:0.104286\ttest-merror:0.221857\n",
      "[379]\ttrain-merror:0.103893\ttest-merror:0.222286\n",
      "[380]\ttrain-merror:0.103714\ttest-merror:0.222000\n",
      "[381]\ttrain-merror:0.103464\ttest-merror:0.222286\n",
      "[382]\ttrain-merror:0.103214\ttest-merror:0.222571\n",
      "[383]\ttrain-merror:0.103179\ttest-merror:0.221857\n",
      "[384]\ttrain-merror:0.103071\ttest-merror:0.221714\n",
      "[385]\ttrain-merror:0.102929\ttest-merror:0.222000\n",
      "[386]\ttrain-merror:0.102750\ttest-merror:0.222000\n",
      "[387]\ttrain-merror:0.102393\ttest-merror:0.221571\n",
      "[388]\ttrain-merror:0.102214\ttest-merror:0.221571\n",
      "[389]\ttrain-merror:0.102143\ttest-merror:0.221857\n",
      "[390]\ttrain-merror:0.102036\ttest-merror:0.221571\n",
      "[391]\ttrain-merror:0.101857\ttest-merror:0.221571\n",
      "[392]\ttrain-merror:0.101607\ttest-merror:0.221571\n",
      "[393]\ttrain-merror:0.101429\ttest-merror:0.221000\n",
      "[394]\ttrain-merror:0.101393\ttest-merror:0.220714\n",
      "[395]\ttrain-merror:0.101000\ttest-merror:0.220714\n",
      "[396]\ttrain-merror:0.100857\ttest-merror:0.220714\n",
      "[397]\ttrain-merror:0.100750\ttest-merror:0.221000\n",
      "[398]\ttrain-merror:0.100643\ttest-merror:0.220857\n",
      "[399]\ttrain-merror:0.100571\ttest-merror:0.220714\n",
      "[400]\ttrain-merror:0.100429\ttest-merror:0.221000\n",
      "[401]\ttrain-merror:0.100179\ttest-merror:0.220429\n",
      "[402]\ttrain-merror:0.099714\ttest-merror:0.220286\n",
      "[403]\ttrain-merror:0.099500\ttest-merror:0.220429\n",
      "[404]\ttrain-merror:0.099250\ttest-merror:0.220143\n",
      "[405]\ttrain-merror:0.099000\ttest-merror:0.220571\n",
      "[406]\ttrain-merror:0.098750\ttest-merror:0.220571\n",
      "[407]\ttrain-merror:0.098714\ttest-merror:0.220429\n",
      "[408]\ttrain-merror:0.098571\ttest-merror:0.220857\n",
      "[409]\ttrain-merror:0.098250\ttest-merror:0.220857\n",
      "[410]\ttrain-merror:0.098250\ttest-merror:0.220286\n",
      "[411]\ttrain-merror:0.097786\ttest-merror:0.220429\n",
      "[412]\ttrain-merror:0.097607\ttest-merror:0.220286\n",
      "[413]\ttrain-merror:0.097071\ttest-merror:0.220143\n",
      "[414]\ttrain-merror:0.096893\ttest-merror:0.220143\n",
      "[415]\ttrain-merror:0.096929\ttest-merror:0.220286\n",
      "[416]\ttrain-merror:0.096714\ttest-merror:0.219857\n",
      "[417]\ttrain-merror:0.096429\ttest-merror:0.219857\n",
      "[418]\ttrain-merror:0.096429\ttest-merror:0.219571\n",
      "[419]\ttrain-merror:0.096107\ttest-merror:0.219714\n",
      "[420]\ttrain-merror:0.095857\ttest-merror:0.219143\n",
      "[421]\ttrain-merror:0.096000\ttest-merror:0.218857\n",
      "[422]\ttrain-merror:0.095786\ttest-merror:0.219143\n",
      "[423]\ttrain-merror:0.095321\ttest-merror:0.219000\n",
      "[424]\ttrain-merror:0.095107\ttest-merror:0.219286\n",
      "[425]\ttrain-merror:0.095107\ttest-merror:0.219286\n",
      "[426]\ttrain-merror:0.094929\ttest-merror:0.219429\n",
      "[427]\ttrain-merror:0.094893\ttest-merror:0.219000\n",
      "[428]\ttrain-merror:0.094893\ttest-merror:0.218714\n",
      "[429]\ttrain-merror:0.094893\ttest-merror:0.219143\n",
      "[430]\ttrain-merror:0.094429\ttest-merror:0.219143\n",
      "[431]\ttrain-merror:0.094321\ttest-merror:0.219143\n",
      "[432]\ttrain-merror:0.094107\ttest-merror:0.219000\n",
      "[433]\ttrain-merror:0.093964\ttest-merror:0.218857\n",
      "[434]\ttrain-merror:0.093893\ttest-merror:0.218714\n",
      "[435]\ttrain-merror:0.093821\ttest-merror:0.218286\n",
      "[436]\ttrain-merror:0.093643\ttest-merror:0.218429\n",
      "[437]\ttrain-merror:0.093357\ttest-merror:0.218286\n",
      "[438]\ttrain-merror:0.093250\ttest-merror:0.218429\n",
      "[439]\ttrain-merror:0.093000\ttest-merror:0.218143\n",
      "[440]\ttrain-merror:0.092821\ttest-merror:0.217857\n",
      "[441]\ttrain-merror:0.092571\ttest-merror:0.217857\n",
      "[442]\ttrain-merror:0.092536\ttest-merror:0.218000\n",
      "[443]\ttrain-merror:0.092500\ttest-merror:0.217857\n",
      "[444]\ttrain-merror:0.092286\ttest-merror:0.218000\n",
      "[445]\ttrain-merror:0.092214\ttest-merror:0.217714\n",
      "[446]\ttrain-merror:0.092000\ttest-merror:0.217571\n",
      "[447]\ttrain-merror:0.092000\ttest-merror:0.217143\n",
      "[448]\ttrain-merror:0.091929\ttest-merror:0.217429\n",
      "[449]\ttrain-merror:0.091750\ttest-merror:0.217714\n",
      "[450]\ttrain-merror:0.091536\ttest-merror:0.217714\n",
      "[451]\ttrain-merror:0.091321\ttest-merror:0.217286\n",
      "[452]\ttrain-merror:0.091464\ttest-merror:0.217000\n",
      "[453]\ttrain-merror:0.091214\ttest-merror:0.217714\n",
      "[454]\ttrain-merror:0.091071\ttest-merror:0.217857\n",
      "[455]\ttrain-merror:0.091000\ttest-merror:0.217857\n",
      "[456]\ttrain-merror:0.090821\ttest-merror:0.217857\n",
      "[457]\ttrain-merror:0.090607\ttest-merror:0.218286\n",
      "[458]\ttrain-merror:0.090464\ttest-merror:0.218429\n",
      "[459]\ttrain-merror:0.090250\ttest-merror:0.217857\n",
      "[460]\ttrain-merror:0.090179\ttest-merror:0.217571\n",
      "[461]\ttrain-merror:0.090071\ttest-merror:0.217429\n",
      "[462]\ttrain-merror:0.089857\ttest-merror:0.217714\n",
      "[463]\ttrain-merror:0.089893\ttest-merror:0.217429\n",
      "[464]\ttrain-merror:0.089750\ttest-merror:0.217714\n",
      "[465]\ttrain-merror:0.089429\ttest-merror:0.217571\n",
      "[466]\ttrain-merror:0.089357\ttest-merror:0.217714\n",
      "[467]\ttrain-merror:0.089250\ttest-merror:0.217000\n",
      "[468]\ttrain-merror:0.089179\ttest-merror:0.217429\n",
      "[469]\ttrain-merror:0.089036\ttest-merror:0.217714\n",
      "[470]\ttrain-merror:0.088964\ttest-merror:0.217286\n",
      "[471]\ttrain-merror:0.088714\ttest-merror:0.217286\n",
      "[472]\ttrain-merror:0.088607\ttest-merror:0.217571\n",
      "[473]\ttrain-merror:0.088393\ttest-merror:0.217571\n",
      "[474]\ttrain-merror:0.088393\ttest-merror:0.217429\n",
      "[475]\ttrain-merror:0.088179\ttest-merror:0.217143\n",
      "[476]\ttrain-merror:0.088071\ttest-merror:0.217000\n",
      "[477]\ttrain-merror:0.087964\ttest-merror:0.216857\n",
      "[478]\ttrain-merror:0.087857\ttest-merror:0.216857\n",
      "[479]\ttrain-merror:0.087536\ttest-merror:0.216857\n",
      "[480]\ttrain-merror:0.087500\ttest-merror:0.216857\n",
      "[481]\ttrain-merror:0.087429\ttest-merror:0.216857\n",
      "[482]\ttrain-merror:0.087214\ttest-merror:0.217000\n",
      "[483]\ttrain-merror:0.087071\ttest-merror:0.216714\n",
      "[484]\ttrain-merror:0.086929\ttest-merror:0.216714\n",
      "[485]\ttrain-merror:0.086750\ttest-merror:0.216714\n",
      "[486]\ttrain-merror:0.086643\ttest-merror:0.217000\n",
      "[487]\ttrain-merror:0.086607\ttest-merror:0.216857\n",
      "[488]\ttrain-merror:0.086429\ttest-merror:0.216714\n",
      "[489]\ttrain-merror:0.086286\ttest-merror:0.216571\n",
      "[490]\ttrain-merror:0.086250\ttest-merror:0.216429\n",
      "[491]\ttrain-merror:0.086321\ttest-merror:0.216000\n",
      "[492]\ttrain-merror:0.086179\ttest-merror:0.216143\n",
      "[493]\ttrain-merror:0.085964\ttest-merror:0.216429\n",
      "[494]\ttrain-merror:0.085714\ttest-merror:0.216143\n",
      "[495]\ttrain-merror:0.085500\ttest-merror:0.216143\n",
      "[496]\ttrain-merror:0.085429\ttest-merror:0.216429\n",
      "[497]\ttrain-merror:0.085321\ttest-merror:0.216143\n",
      "[498]\ttrain-merror:0.084929\ttest-merror:0.216286\n",
      "[499]\ttrain-merror:0.084679\ttest-merror:0.216143\n",
      "[500]\ttrain-merror:0.084536\ttest-merror:0.215857\n",
      "[501]\ttrain-merror:0.084643\ttest-merror:0.216286\n",
      "[502]\ttrain-merror:0.084250\ttest-merror:0.215857\n",
      "[503]\ttrain-merror:0.084179\ttest-merror:0.215571\n",
      "[504]\ttrain-merror:0.084107\ttest-merror:0.215143\n",
      "[505]\ttrain-merror:0.083964\ttest-merror:0.214714\n",
      "[506]\ttrain-merror:0.083821\ttest-merror:0.214714\n",
      "[507]\ttrain-merror:0.083714\ttest-merror:0.214857\n",
      "[508]\ttrain-merror:0.083607\ttest-merror:0.214857\n",
      "[509]\ttrain-merror:0.083429\ttest-merror:0.214714\n",
      "[510]\ttrain-merror:0.083286\ttest-merror:0.214714\n",
      "[511]\ttrain-merror:0.083286\ttest-merror:0.214714\n",
      "[512]\ttrain-merror:0.082964\ttest-merror:0.214714\n",
      "[513]\ttrain-merror:0.082929\ttest-merror:0.215000\n",
      "[514]\ttrain-merror:0.082750\ttest-merror:0.214857\n",
      "[515]\ttrain-merror:0.082571\ttest-merror:0.214857\n",
      "[516]\ttrain-merror:0.082536\ttest-merror:0.214571\n",
      "[517]\ttrain-merror:0.082429\ttest-merror:0.214714\n",
      "[518]\ttrain-merror:0.082143\ttest-merror:0.214571\n",
      "[519]\ttrain-merror:0.082000\ttest-merror:0.214429\n",
      "[520]\ttrain-merror:0.081964\ttest-merror:0.214571\n",
      "[521]\ttrain-merror:0.081929\ttest-merror:0.214286\n",
      "[522]\ttrain-merror:0.081857\ttest-merror:0.214429\n",
      "[523]\ttrain-merror:0.081821\ttest-merror:0.214714\n",
      "[524]\ttrain-merror:0.081536\ttest-merror:0.214714\n",
      "[525]\ttrain-merror:0.081321\ttest-merror:0.214429\n",
      "[526]\ttrain-merror:0.081321\ttest-merror:0.214143\n",
      "[527]\ttrain-merror:0.081286\ttest-merror:0.213857\n",
      "[528]\ttrain-merror:0.081143\ttest-merror:0.213857\n",
      "[529]\ttrain-merror:0.081036\ttest-merror:0.214143\n",
      "[530]\ttrain-merror:0.080893\ttest-merror:0.214429\n",
      "[531]\ttrain-merror:0.080714\ttest-merror:0.214143\n",
      "[532]\ttrain-merror:0.080500\ttest-merror:0.214143\n",
      "[533]\ttrain-merror:0.080357\ttest-merror:0.214286\n",
      "[534]\ttrain-merror:0.080107\ttest-merror:0.213571\n",
      "[535]\ttrain-merror:0.080036\ttest-merror:0.213714\n",
      "[536]\ttrain-merror:0.079857\ttest-merror:0.213714\n",
      "[537]\ttrain-merror:0.079607\ttest-merror:0.213429\n",
      "[538]\ttrain-merror:0.079607\ttest-merror:0.213714\n",
      "[539]\ttrain-merror:0.079679\ttest-merror:0.213714\n",
      "[540]\ttrain-merror:0.079536\ttest-merror:0.213571\n",
      "[541]\ttrain-merror:0.079357\ttest-merror:0.213571\n",
      "[542]\ttrain-merror:0.079179\ttest-merror:0.213857\n",
      "[543]\ttrain-merror:0.079071\ttest-merror:0.213714\n",
      "[544]\ttrain-merror:0.078929\ttest-merror:0.213857\n",
      "[545]\ttrain-merror:0.078821\ttest-merror:0.213286\n",
      "[546]\ttrain-merror:0.078714\ttest-merror:0.213286\n",
      "[547]\ttrain-merror:0.078464\ttest-merror:0.213143\n",
      "[548]\ttrain-merror:0.078536\ttest-merror:0.213286\n",
      "[549]\ttrain-merror:0.078143\ttest-merror:0.213000\n",
      "[550]\ttrain-merror:0.077929\ttest-merror:0.212857\n",
      "[551]\ttrain-merror:0.077714\ttest-merror:0.212857\n",
      "[552]\ttrain-merror:0.077714\ttest-merror:0.212571\n",
      "[553]\ttrain-merror:0.077500\ttest-merror:0.213143\n",
      "[554]\ttrain-merror:0.077500\ttest-merror:0.213000\n",
      "[555]\ttrain-merror:0.077321\ttest-merror:0.213000\n",
      "[556]\ttrain-merror:0.077286\ttest-merror:0.213000\n",
      "[557]\ttrain-merror:0.077071\ttest-merror:0.212571\n",
      "[558]\ttrain-merror:0.076857\ttest-merror:0.212714\n",
      "[559]\ttrain-merror:0.076821\ttest-merror:0.212429\n",
      "[560]\ttrain-merror:0.076714\ttest-merror:0.212143\n",
      "[561]\ttrain-merror:0.076571\ttest-merror:0.212571\n",
      "[562]\ttrain-merror:0.076357\ttest-merror:0.212286\n",
      "[563]\ttrain-merror:0.076214\ttest-merror:0.212429\n",
      "[564]\ttrain-merror:0.076214\ttest-merror:0.212571\n",
      "[565]\ttrain-merror:0.076071\ttest-merror:0.212571\n",
      "[566]\ttrain-merror:0.075893\ttest-merror:0.212571\n",
      "[567]\ttrain-merror:0.075714\ttest-merror:0.212571\n",
      "[568]\ttrain-merror:0.075679\ttest-merror:0.212714\n",
      "[569]\ttrain-merror:0.075643\ttest-merror:0.212429\n",
      "[570]\ttrain-merror:0.075500\ttest-merror:0.212714\n",
      "[571]\ttrain-merror:0.075286\ttest-merror:0.212571\n",
      "[572]\ttrain-merror:0.075250\ttest-merror:0.212571\n",
      "[573]\ttrain-merror:0.075357\ttest-merror:0.212571\n",
      "[574]\ttrain-merror:0.075071\ttest-merror:0.212429\n",
      "[575]\ttrain-merror:0.074929\ttest-merror:0.212286\n",
      "[576]\ttrain-merror:0.074929\ttest-merror:0.212143\n",
      "[577]\ttrain-merror:0.074750\ttest-merror:0.212286\n",
      "[578]\ttrain-merror:0.074750\ttest-merror:0.212286\n",
      "[579]\ttrain-merror:0.074607\ttest-merror:0.212143\n",
      "[580]\ttrain-merror:0.074429\ttest-merror:0.212143\n",
      "[581]\ttrain-merror:0.074286\ttest-merror:0.212000\n",
      "[582]\ttrain-merror:0.074179\ttest-merror:0.212000\n",
      "[583]\ttrain-merror:0.074036\ttest-merror:0.211714\n",
      "[584]\ttrain-merror:0.073857\ttest-merror:0.211714\n",
      "[585]\ttrain-merror:0.073750\ttest-merror:0.211571\n",
      "[586]\ttrain-merror:0.073679\ttest-merror:0.211429\n",
      "[587]\ttrain-merror:0.073500\ttest-merror:0.211429\n",
      "[588]\ttrain-merror:0.073429\ttest-merror:0.211286\n",
      "[589]\ttrain-merror:0.073429\ttest-merror:0.211143\n",
      "[590]\ttrain-merror:0.073286\ttest-merror:0.211571\n",
      "[591]\ttrain-merror:0.073214\ttest-merror:0.211143\n",
      "[592]\ttrain-merror:0.073107\ttest-merror:0.211000\n",
      "[593]\ttrain-merror:0.073036\ttest-merror:0.210714\n",
      "[594]\ttrain-merror:0.073036\ttest-merror:0.210857\n",
      "[595]\ttrain-merror:0.073000\ttest-merror:0.211000\n",
      "[596]\ttrain-merror:0.072786\ttest-merror:0.211286\n",
      "[597]\ttrain-merror:0.072750\ttest-merror:0.210857\n",
      "[598]\ttrain-merror:0.072679\ttest-merror:0.210857\n",
      "[599]\ttrain-merror:0.072464\ttest-merror:0.211000\n",
      "[600]\ttrain-merror:0.072393\ttest-merror:0.211143\n",
      "[601]\ttrain-merror:0.072429\ttest-merror:0.210714\n",
      "[602]\ttrain-merror:0.072286\ttest-merror:0.210857\n",
      "[603]\ttrain-merror:0.072250\ttest-merror:0.211000\n",
      "[604]\ttrain-merror:0.072143\ttest-merror:0.211000\n",
      "[605]\ttrain-merror:0.072071\ttest-merror:0.211000\n",
      "[606]\ttrain-merror:0.071929\ttest-merror:0.210857\n",
      "[607]\ttrain-merror:0.071857\ttest-merror:0.210714\n",
      "[608]\ttrain-merror:0.071714\ttest-merror:0.210857\n",
      "[609]\ttrain-merror:0.071714\ttest-merror:0.210714\n",
      "[610]\ttrain-merror:0.071536\ttest-merror:0.211000\n",
      "[611]\ttrain-merror:0.071393\ttest-merror:0.211000\n",
      "[612]\ttrain-merror:0.071286\ttest-merror:0.211143\n",
      "[613]\ttrain-merror:0.071214\ttest-merror:0.211143\n",
      "[614]\ttrain-merror:0.071000\ttest-merror:0.211286\n",
      "[615]\ttrain-merror:0.070857\ttest-merror:0.211286\n",
      "[616]\ttrain-merror:0.070714\ttest-merror:0.211143\n",
      "[617]\ttrain-merror:0.070679\ttest-merror:0.211000\n",
      "[618]\ttrain-merror:0.070643\ttest-merror:0.210857\n",
      "[619]\ttrain-merror:0.070571\ttest-merror:0.210571\n",
      "[620]\ttrain-merror:0.070429\ttest-merror:0.210429\n",
      "[621]\ttrain-merror:0.070321\ttest-merror:0.210429\n",
      "[622]\ttrain-merror:0.070250\ttest-merror:0.210571\n",
      "[623]\ttrain-merror:0.070071\ttest-merror:0.210000\n",
      "[624]\ttrain-merror:0.070000\ttest-merror:0.210143\n",
      "[625]\ttrain-merror:0.069929\ttest-merror:0.210000\n",
      "[626]\ttrain-merror:0.069857\ttest-merror:0.210286\n",
      "[627]\ttrain-merror:0.069750\ttest-merror:0.210714\n",
      "[628]\ttrain-merror:0.069714\ttest-merror:0.210857\n",
      "[629]\ttrain-merror:0.069679\ttest-merror:0.210714\n",
      "[630]\ttrain-merror:0.069607\ttest-merror:0.210714\n",
      "[631]\ttrain-merror:0.069429\ttest-merror:0.211000\n",
      "[632]\ttrain-merror:0.069429\ttest-merror:0.210857\n",
      "[633]\ttrain-merror:0.069357\ttest-merror:0.210857\n",
      "[634]\ttrain-merror:0.069357\ttest-merror:0.210857\n",
      "[635]\ttrain-merror:0.069250\ttest-merror:0.211000\n",
      "[636]\ttrain-merror:0.069143\ttest-merror:0.210714\n",
      "[637]\ttrain-merror:0.069000\ttest-merror:0.210714\n",
      "[638]\ttrain-merror:0.068964\ttest-merror:0.210571\n",
      "[639]\ttrain-merror:0.068750\ttest-merror:0.210429\n",
      "[640]\ttrain-merror:0.068679\ttest-merror:0.210286\n",
      "[641]\ttrain-merror:0.068464\ttest-merror:0.210429\n",
      "[642]\ttrain-merror:0.068429\ttest-merror:0.210286\n",
      "[643]\ttrain-merror:0.068286\ttest-merror:0.210571\n",
      "[644]\ttrain-merror:0.068250\ttest-merror:0.210143\n",
      "[645]\ttrain-merror:0.068286\ttest-merror:0.210286\n",
      "[646]\ttrain-merror:0.068036\ttest-merror:0.210143\n",
      "[647]\ttrain-merror:0.067857\ttest-merror:0.210429\n",
      "[648]\ttrain-merror:0.067750\ttest-merror:0.210429\n",
      "[649]\ttrain-merror:0.067643\ttest-merror:0.210286\n",
      "[650]\ttrain-merror:0.067571\ttest-merror:0.210429\n",
      "[651]\ttrain-merror:0.067286\ttest-merror:0.210429\n",
      "[652]\ttrain-merror:0.067071\ttest-merror:0.210286\n",
      "[653]\ttrain-merror:0.067071\ttest-merror:0.209857\n",
      "[654]\ttrain-merror:0.067036\ttest-merror:0.210143\n",
      "[655]\ttrain-merror:0.066893\ttest-merror:0.210286\n",
      "[656]\ttrain-merror:0.066857\ttest-merror:0.210143\n",
      "[657]\ttrain-merror:0.066643\ttest-merror:0.210429\n",
      "[658]\ttrain-merror:0.066571\ttest-merror:0.211000\n",
      "[659]\ttrain-merror:0.066571\ttest-merror:0.210286\n",
      "[660]\ttrain-merror:0.066464\ttest-merror:0.210429\n",
      "[661]\ttrain-merror:0.066393\ttest-merror:0.210143\n",
      "[662]\ttrain-merror:0.066321\ttest-merror:0.209857\n",
      "[663]\ttrain-merror:0.066321\ttest-merror:0.210000\n",
      "[664]\ttrain-merror:0.066250\ttest-merror:0.209571\n",
      "[665]\ttrain-merror:0.066143\ttest-merror:0.209571\n",
      "[666]\ttrain-merror:0.065821\ttest-merror:0.209571\n",
      "[667]\ttrain-merror:0.065679\ttest-merror:0.209429\n",
      "[668]\ttrain-merror:0.065643\ttest-merror:0.209714\n",
      "[669]\ttrain-merror:0.065393\ttest-merror:0.209429\n",
      "[670]\ttrain-merror:0.065393\ttest-merror:0.209143\n",
      "[671]\ttrain-merror:0.065321\ttest-merror:0.209429\n",
      "[672]\ttrain-merror:0.065214\ttest-merror:0.209000\n",
      "[673]\ttrain-merror:0.065214\ttest-merror:0.209000\n",
      "[674]\ttrain-merror:0.065071\ttest-merror:0.209000\n",
      "[675]\ttrain-merror:0.065000\ttest-merror:0.208857\n",
      "[676]\ttrain-merror:0.064893\ttest-merror:0.208857\n",
      "[677]\ttrain-merror:0.064786\ttest-merror:0.209286\n",
      "[678]\ttrain-merror:0.064643\ttest-merror:0.209429\n",
      "[679]\ttrain-merror:0.064643\ttest-merror:0.209714\n",
      "[680]\ttrain-merror:0.064571\ttest-merror:0.209857\n",
      "[681]\ttrain-merror:0.064500\ttest-merror:0.209857\n",
      "[682]\ttrain-merror:0.064321\ttest-merror:0.209571\n",
      "[683]\ttrain-merror:0.064179\ttest-merror:0.209429\n",
      "[684]\ttrain-merror:0.064071\ttest-merror:0.209429\n",
      "[685]\ttrain-merror:0.064107\ttest-merror:0.209429\n",
      "[686]\ttrain-merror:0.064000\ttest-merror:0.209857\n",
      "[687]\ttrain-merror:0.064000\ttest-merror:0.209857\n",
      "[688]\ttrain-merror:0.063821\ttest-merror:0.209857\n",
      "[689]\ttrain-merror:0.063893\ttest-merror:0.209571\n",
      "[690]\ttrain-merror:0.063714\ttest-merror:0.209571\n",
      "[691]\ttrain-merror:0.063679\ttest-merror:0.209571\n",
      "[692]\ttrain-merror:0.063536\ttest-merror:0.209286\n",
      "[693]\ttrain-merror:0.063464\ttest-merror:0.209286\n",
      "[694]\ttrain-merror:0.063429\ttest-merror:0.209143\n",
      "[695]\ttrain-merror:0.063321\ttest-merror:0.209000\n",
      "[696]\ttrain-merror:0.063321\ttest-merror:0.209000\n",
      "[697]\ttrain-merror:0.063286\ttest-merror:0.209286\n",
      "[698]\ttrain-merror:0.063286\ttest-merror:0.209000\n",
      "[699]\ttrain-merror:0.063286\ttest-merror:0.209000\n"
     ]
    }
   ],
   "source": [
    "watchlist = [ (xg_train,'train'), (xg_test, 'test') ]\n",
    "num_round = 700\n",
    "bst = xgb.train(param, xg_train, num_round, watchlist );"
   ]
  },
  {
   "cell_type": "code",
   "execution_count": 253,
   "metadata": {
    "collapsed": true
   },
   "outputs": [],
   "source": [
    "xg_full = xgb.DMatrix( bag_of_ingredients_sparse, label=train_target )"
   ]
  },
  {
   "cell_type": "code",
   "execution_count": 254,
   "metadata": {
    "collapsed": true
   },
   "outputs": [],
   "source": [
    "xgb_model = xgb.train(param, xg_full, num_round)"
   ]
  },
  {
   "cell_type": "code",
   "execution_count": 262,
   "metadata": {
    "collapsed": true
   },
   "outputs": [],
   "source": [
    "xg_test = xgb.DMatrix( bag_of_ingredients_sparse_test )"
   ]
  },
  {
   "cell_type": "code",
   "execution_count": 263,
   "metadata": {
    "collapsed": true
   },
   "outputs": [],
   "source": [
    "xgb_preds = xgb_model.predict(xg_test)"
   ]
  },
  {
   "cell_type": "code",
   "execution_count": 266,
   "metadata": {
    "collapsed": false
   },
   "outputs": [],
   "source": [
    "preds = [int(pred) for pred in xgb_preds]"
   ]
  },
  {
   "cell_type": "markdown",
   "metadata": {},
   "source": [
    "## Predictions"
   ]
  },
  {
   "cell_type": "code",
   "execution_count": 168,
   "metadata": {
    "collapsed": true
   },
   "outputs": [],
   "source": [
    "train_X_feat = cvec.fit_transform(train_X)"
   ]
  },
  {
   "cell_type": "code",
   "execution_count": 169,
   "metadata": {
    "collapsed": false
   },
   "outputs": [
    {
     "data": {
      "text/plain": [
       "LogisticRegression(C=1, class_weight=None, dual=False, fit_intercept=True,\n",
       "          intercept_scaling=1, max_iter=100, multi_class='ovr',\n",
       "          penalty='l1', random_state=None, solver='liblinear', tol=0.0001,\n",
       "          verbose=0)"
      ]
     },
     "execution_count": 169,
     "metadata": {},
     "output_type": "execute_result"
    }
   ],
   "source": [
    "log.fit(train_X_feat, train_target)"
   ]
  },
  {
   "cell_type": "code",
   "execution_count": 170,
   "metadata": {
    "collapsed": true
   },
   "outputs": [],
   "source": [
    "X_test = cvec.transform(cuisines_test.ingredients)"
   ]
  },
  {
   "cell_type": "code",
   "execution_count": 171,
   "metadata": {
    "collapsed": true
   },
   "outputs": [],
   "source": [
    "preds = log.predict(X_test)"
   ]
  },
  {
   "cell_type": "markdown",
   "metadata": {},
   "source": [
    "## Submission"
   ]
  },
  {
   "cell_type": "code",
   "execution_count": 268,
   "metadata": {
    "collapsed": true
   },
   "outputs": [],
   "source": [
    "preds_labels = lbl_encoder.inverse_transform(preds)"
   ]
  },
  {
   "cell_type": "code",
   "execution_count": 269,
   "metadata": {
    "collapsed": true
   },
   "outputs": [],
   "source": [
    "test_ids = cuisines_test.index.values\n",
    "submission_df = pd.DataFrame({'id': test_ids, 'cuisine': preds_labels})\n",
    "submission_df.to_csv('./submissions/xgb_preds.csv', index=False)"
   ]
  },
  {
   "cell_type": "code",
   "execution_count": null,
   "metadata": {
    "collapsed": true
   },
   "outputs": [],
   "source": []
  }
 ],
 "metadata": {
  "kernelspec": {
   "display_name": "Python 2",
   "language": "python",
   "name": "python2"
  },
  "language_info": {
   "codemirror_mode": {
    "name": "ipython",
    "version": 2
   },
   "file_extension": ".py",
   "mimetype": "text/x-python",
   "name": "python",
   "nbconvert_exporter": "python",
   "pygments_lexer": "ipython2",
   "version": "2.7.10"
  }
 },
 "nbformat": 4,
 "nbformat_minor": 0
}
