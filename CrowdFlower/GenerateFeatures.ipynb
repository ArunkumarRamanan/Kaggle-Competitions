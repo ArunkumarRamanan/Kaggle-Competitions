{
 "cells": [
  {
   "cell_type": "code",
   "execution_count": 42,
   "metadata": {
    "collapsed": true
   },
   "outputs": [],
   "source": [
    "import numpy as np\n",
    "from nltk.stem import PorterStemmer\n",
    "from nltk.corpus import stopwords\n",
    "from nltk.corpus import wordnet as wn"
   ]
  },
  {
   "cell_type": "code",
   "execution_count": 2,
   "metadata": {
    "collapsed": true
   },
   "outputs": [],
   "source": [
    "%run scripts/helper.py"
   ]
  },
  {
   "cell_type": "code",
   "execution_count": 3,
   "metadata": {
    "collapsed": true
   },
   "outputs": [],
   "source": [
    "crowd_train = load_file('./data/train.csv/train.csv', None)"
   ]
  },
  {
   "cell_type": "code",
   "execution_count": 4,
   "metadata": {
    "collapsed": true
   },
   "outputs": [],
   "source": [
    "# General text related features\n",
    "# 1. Text length of the title"
   ]
  },
  {
   "cell_type": "code",
   "execution_count": 5,
   "metadata": {
    "collapsed": false
   },
   "outputs": [
    {
     "data": {
      "text/plain": [
       "Index([u'id', u'query', u'product_title', u'product_description', u'median_relevance', u'relevance_variance'], dtype='object')"
      ]
     },
     "execution_count": 5,
     "metadata": {},
     "output_type": "execute_result"
    }
   ],
   "source": [
    "crowd_train.columns"
   ]
  },
  {
   "cell_type": "code",
   "execution_count": 56,
   "metadata": {
    "collapsed": true
   },
   "outputs": [],
   "source": [
    "title_length = crowd_train[crowd_train.relevance_variance < 0.5].apply(lambda x: len(x['product_title']), axis=1)"
   ]
  },
  {
   "cell_type": "code",
   "execution_count": 57,
   "metadata": {
    "collapsed": false
   },
   "outputs": [
    {
     "data": {
      "text/html": [
       "<div style=\"max-height:1000px;max-width:1500px;overflow:auto;\">\n",
       "<table border=\"1\" class=\"dataframe\">\n",
       "  <thead>\n",
       "    <tr style=\"text-align: right;\">\n",
       "      <th></th>\n",
       "      <th>median_relevance</th>\n",
       "      <th>title_length</th>\n",
       "    </tr>\n",
       "  </thead>\n",
       "  <tbody>\n",
       "    <tr>\n",
       "      <th>median_relevance</th>\n",
       "      <td> 1.000000</td>\n",
       "      <td> 0.042657</td>\n",
       "    </tr>\n",
       "    <tr>\n",
       "      <th>title_length</th>\n",
       "      <td> 0.042657</td>\n",
       "      <td> 1.000000</td>\n",
       "    </tr>\n",
       "  </tbody>\n",
       "</table>\n",
       "</div>"
      ],
      "text/plain": [
       "                  median_relevance  title_length\n",
       "median_relevance          1.000000      0.042657\n",
       "title_length              0.042657      1.000000"
      ]
     },
     "execution_count": 57,
     "metadata": {},
     "output_type": "execute_result"
    }
   ],
   "source": [
    "# lets see how correlated this feature is with response variable\n",
    "# crowd_train[['title_length', 'median_relevance']].corr()\n",
    "pd.DataFrame({'title_length': title_length, \n",
    "              'median_relevance': crowd_train[crowd_train.relevance_variance < 0.5].median_relevance}).corr()"
   ]
  },
  {
   "cell_type": "code",
   "execution_count": 9,
   "metadata": {
    "collapsed": true
   },
   "outputs": [],
   "source": [
    "# Not a high correlation"
   ]
  },
  {
   "cell_type": "code",
   "execution_count": 58,
   "metadata": {
    "collapsed": true
   },
   "outputs": [],
   "source": [
    "# 2. Number of words in the title\n",
    "# crowd_train['num_words_title'] = crowd_train.apply(lambda x: len(x['product_title'].split(' ')), axis=1)\n",
    "num_words_title = crowd_train[crowd_train.relevance_variance < 0.5].apply(lambda x: len(x['product_title'].split(' ')), axis=1)"
   ]
  },
  {
   "cell_type": "code",
   "execution_count": 59,
   "metadata": {
    "collapsed": false
   },
   "outputs": [
    {
     "data": {
      "text/html": [
       "<div style=\"max-height:1000px;max-width:1500px;overflow:auto;\">\n",
       "<table border=\"1\" class=\"dataframe\">\n",
       "  <thead>\n",
       "    <tr style=\"text-align: right;\">\n",
       "      <th></th>\n",
       "      <th>median_relevance</th>\n",
       "      <th>num_words_title</th>\n",
       "    </tr>\n",
       "  </thead>\n",
       "  <tbody>\n",
       "    <tr>\n",
       "      <th>median_relevance</th>\n",
       "      <td> 1.00000</td>\n",
       "      <td> 0.02938</td>\n",
       "    </tr>\n",
       "    <tr>\n",
       "      <th>num_words_title</th>\n",
       "      <td> 0.02938</td>\n",
       "      <td> 1.00000</td>\n",
       "    </tr>\n",
       "  </tbody>\n",
       "</table>\n",
       "</div>"
      ],
      "text/plain": [
       "                  median_relevance  num_words_title\n",
       "median_relevance           1.00000          0.02938\n",
       "num_words_title            0.02938          1.00000"
      ]
     },
     "execution_count": 59,
     "metadata": {},
     "output_type": "execute_result"
    }
   ],
   "source": [
    "# crowd_train[['num_words_title', 'median_relevance']].corr()\n",
    "pd.DataFrame({'num_words_title': num_words_title, \n",
    "              'median_relevance': crowd_train[crowd_train.relevance_variance < 0.5].median_relevance}).corr()"
   ]
  },
  {
   "cell_type": "code",
   "execution_count": 12,
   "metadata": {
    "collapsed": true
   },
   "outputs": [],
   "source": [
    "# 3. Number of words in the prodcut description\n",
    "crowd_train['num_words_desc'] = crowd_train.apply(lambda x: len(x['product_description']), axis=1)"
   ]
  },
  {
   "cell_type": "code",
   "execution_count": 13,
   "metadata": {
    "collapsed": false
   },
   "outputs": [
    {
     "data": {
      "text/html": [
       "<div style=\"max-height:1000px;max-width:1500px;overflow:auto;\">\n",
       "<table border=\"1\" class=\"dataframe\">\n",
       "  <thead>\n",
       "    <tr style=\"text-align: right;\">\n",
       "      <th></th>\n",
       "      <th>num_words_desc</th>\n",
       "      <th>median_relevance</th>\n",
       "    </tr>\n",
       "  </thead>\n",
       "  <tbody>\n",
       "    <tr>\n",
       "      <th>num_words_desc</th>\n",
       "      <td> 1.000000</td>\n",
       "      <td>-0.009985</td>\n",
       "    </tr>\n",
       "    <tr>\n",
       "      <th>median_relevance</th>\n",
       "      <td>-0.009985</td>\n",
       "      <td> 1.000000</td>\n",
       "    </tr>\n",
       "  </tbody>\n",
       "</table>\n",
       "</div>"
      ],
      "text/plain": [
       "                  num_words_desc  median_relevance\n",
       "num_words_desc          1.000000         -0.009985\n",
       "median_relevance       -0.009985          1.000000"
      ]
     },
     "execution_count": 13,
     "metadata": {},
     "output_type": "execute_result"
    }
   ],
   "source": [
    "crowd_train[['num_words_desc', 'median_relevance']].corr()"
   ]
  },
  {
   "cell_type": "code",
   "execution_count": 31,
   "metadata": {
    "collapsed": false
   },
   "outputs": [],
   "source": [
    "# 4. Ratio of words in query other than stopwords that match in the title and description\n",
    "def f(x):\n",
    "    query = x['query'].lower()\n",
    "    title = x['product_title'].lower()\n",
    "    desc = x['product_description'].lower()\n",
    "    stop = stopwords.words('english')\n",
    "    total_words = len(title.split(' ')) + len(desc.split(' '))\n",
    "    count = 0\n",
    "    \n",
    "    unique_query_terms = list(set(query.split(' ')))\n",
    "    for q in unique_query_terms:\n",
    "        if q not in stop:\n",
    "            if q in title or q in desc:\n",
    "                count += 1\n",
    "    \n",
    "    return (count * 1.) / total_words\n",
    "\n",
    "crowd_train['ratio_query_terms_in_res'] = crowd_train.apply(f, axis=1)"
   ]
  },
  {
   "cell_type": "code",
   "execution_count": 32,
   "metadata": {
    "collapsed": false
   },
   "outputs": [
    {
     "data": {
      "text/html": [
       "<div style=\"max-height:1000px;max-width:1500px;overflow:auto;\">\n",
       "<table border=\"1\" class=\"dataframe\">\n",
       "  <thead>\n",
       "    <tr style=\"text-align: right;\">\n",
       "      <th></th>\n",
       "      <th>ratio_query_terms_in_res</th>\n",
       "      <th>median_relevance</th>\n",
       "    </tr>\n",
       "  </thead>\n",
       "  <tbody>\n",
       "    <tr>\n",
       "      <th>ratio_query_terms_in_res</th>\n",
       "      <td> 1.000000</td>\n",
       "      <td> 0.158718</td>\n",
       "    </tr>\n",
       "    <tr>\n",
       "      <th>median_relevance</th>\n",
       "      <td> 0.158718</td>\n",
       "      <td> 1.000000</td>\n",
       "    </tr>\n",
       "  </tbody>\n",
       "</table>\n",
       "</div>"
      ],
      "text/plain": [
       "                          ratio_query_terms_in_res  median_relevance\n",
       "ratio_query_terms_in_res                  1.000000          0.158718\n",
       "median_relevance                          0.158718          1.000000"
      ]
     },
     "execution_count": 32,
     "metadata": {},
     "output_type": "execute_result"
    }
   ],
   "source": [
    "crowd_train[['ratio_query_terms_in_res', 'median_relevance']].corr()"
   ]
  },
  {
   "cell_type": "code",
   "execution_count": 5,
   "metadata": {
    "collapsed": false
   },
   "outputs": [],
   "source": [
    "# Jaccard distance between query and (title + description)\n",
    "def jaccard(x):\n",
    "    query = x['query'].lower()\n",
    "    title = x['product_title'].lower()\n",
    "    description = x['product_description'].lower()\n",
    "    response = title + ' ' + description\n",
    "    \n",
    "    query_set = set(query.split(' '))\n",
    "    response_set = set(response.split(' '))\n",
    "    \n",
    "    query_response_intersection_len = len(query_set & response_set)\n",
    "    query_response_union_len = len(query_set | response_set)\n",
    "    \n",
    "    return (query_response_intersection_len * 1.) / (query_response_union_len)\n",
    "\n",
    "crowd_train['jaccard_dist'] = crowd_train.apply(jaccard, axis=1)"
   ]
  },
  {
   "cell_type": "code",
   "execution_count": 6,
   "metadata": {
    "collapsed": false
   },
   "outputs": [
    {
     "data": {
      "text/html": [
       "<div style=\"max-height:1000px;max-width:1500px;overflow:auto;\">\n",
       "<table border=\"1\" class=\"dataframe\">\n",
       "  <thead>\n",
       "    <tr style=\"text-align: right;\">\n",
       "      <th></th>\n",
       "      <th>jaccard_dist</th>\n",
       "      <th>median_relevance</th>\n",
       "    </tr>\n",
       "  </thead>\n",
       "  <tbody>\n",
       "    <tr>\n",
       "      <th>jaccard_dist</th>\n",
       "      <td> 1.000000</td>\n",
       "      <td> 0.181246</td>\n",
       "    </tr>\n",
       "    <tr>\n",
       "      <th>median_relevance</th>\n",
       "      <td> 0.181246</td>\n",
       "      <td> 1.000000</td>\n",
       "    </tr>\n",
       "  </tbody>\n",
       "</table>\n",
       "</div>"
      ],
      "text/plain": [
       "                  jaccard_dist  median_relevance\n",
       "jaccard_dist          1.000000          0.181246\n",
       "median_relevance      0.181246          1.000000"
      ]
     },
     "execution_count": 6,
     "metadata": {},
     "output_type": "execute_result"
    }
   ],
   "source": [
    "# lets how much this variable is correlated with distance\n",
    "crowd_train[['jaccard_dist', 'median_relevance']].corr()"
   ]
  },
  {
   "cell_type": "code",
   "execution_count": 7,
   "metadata": {
    "collapsed": false
   },
   "outputs": [
    {
     "data": {
      "text/plain": [
       "0    0.000000\n",
       "1    0.025641\n",
       "2    0.166667\n",
       "3    0.020833\n",
       "4    0.051282\n",
       "Name: jaccard_dist, dtype: float64"
      ]
     },
     "execution_count": 7,
     "metadata": {},
     "output_type": "execute_result"
    }
   ],
   "source": [
    "crowd_train.jaccard_dist.head()"
   ]
  },
  {
   "cell_type": "code",
   "execution_count": 60,
   "metadata": {
    "collapsed": false
   },
   "outputs": [],
   "source": [
    "# Check if query term in response\n",
    "def is_query_in_response(train):\n",
    "    query_terms = train['query'].split(' ')\n",
    "    response = train['product_title'] + ' ' + train['product_description']\n",
    "    \n",
    "    stemmer = PorterStemmer()\n",
    "    query_terms_stemmed = [stemmer.stem(q) for q in query_terms]\n",
    "    response_stemmed = ''.join([stemmer.stem(r) for r in response])\n",
    "    stop = stopwords.words('english')\n",
    "       \n",
    "    keyword = False\n",
    "    \n",
    "    for q in query_terms_stemmed:\n",
    "        if q not in stop:\n",
    "            keyword = True\n",
    "            if response_stemmed.lower().find(q) == -1:\n",
    "                return 0\n",
    "    \n",
    "    if keyword == False:\n",
    "        return 0\n",
    "    else:\n",
    "        return 1\n",
    "\n",
    "# crowd_train['query_in_response'] = crowd_train.apply(is_query_in_response, axis=1)\n",
    "query_in_response = crowd_train[crowd_train.relevance_variance < 0.5].apply(is_query_in_response, axis=1)"
   ]
  },
  {
   "cell_type": "code",
   "execution_count": 61,
   "metadata": {
    "collapsed": false
   },
   "outputs": [
    {
     "data": {
      "text/html": [
       "<div style=\"max-height:1000px;max-width:1500px;overflow:auto;\">\n",
       "<table border=\"1\" class=\"dataframe\">\n",
       "  <thead>\n",
       "    <tr style=\"text-align: right;\">\n",
       "      <th></th>\n",
       "      <th>median_relevance</th>\n",
       "      <th>query_in_response</th>\n",
       "    </tr>\n",
       "  </thead>\n",
       "  <tbody>\n",
       "    <tr>\n",
       "      <th>median_relevance</th>\n",
       "      <td> 1.000000</td>\n",
       "      <td> 0.408791</td>\n",
       "    </tr>\n",
       "    <tr>\n",
       "      <th>query_in_response</th>\n",
       "      <td> 0.408791</td>\n",
       "      <td> 1.000000</td>\n",
       "    </tr>\n",
       "  </tbody>\n",
       "</table>\n",
       "</div>"
      ],
      "text/plain": [
       "                   median_relevance  query_in_response\n",
       "median_relevance           1.000000           0.408791\n",
       "query_in_response          0.408791           1.000000"
      ]
     },
     "execution_count": 61,
     "metadata": {},
     "output_type": "execute_result"
    }
   ],
   "source": [
    "# crowd_train[['query_in_response', 'median_relevance']].corr()\n",
    "pd.DataFrame({'query_in_response': query_in_response, \n",
    "              'median_relevance': crowd_train[crowd_train.relevance_variance < 0.5].median_relevance}).corr()"
   ]
  },
  {
   "cell_type": "code",
   "execution_count": 62,
   "metadata": {
    "collapsed": true
   },
   "outputs": [],
   "source": [
    "# lets find out how many query terms found in response\n",
    "def count_query_terms_in_response(train):\n",
    "    query_terms = train['query'].split(' ')\n",
    "    unique_terms = list(set(query_terms))\n",
    "    response = train['product_title'].lower() + ' ' + train['product_description'].lower()\n",
    "    stemmer = PorterStemmer()\n",
    "    query_terms_stemmed = [stemmer.stem(q) for q in unique_terms]\n",
    "    response_stemmed = ''.join([stemmer.stem(r) for r in response])\n",
    "    stop = stopwords.words('english')\n",
    "    \n",
    "    \n",
    "    count = 0\n",
    "    for q in query_terms_stemmed:\n",
    "        if q not in stop:\n",
    "            if response_stemmed.find(q) != -1:\n",
    "                count += 1\n",
    "    return count\n",
    "\n",
    "# crowd_train['num_terms_in_resp'] = crowd_train.apply(count_query_terms_in_response, axis=1)\n",
    "num_terms_in_resp = crowd_train[crowd_train.relevance_variance < 0.5].apply(count_query_terms_in_response, axis=1)"
   ]
  },
  {
   "cell_type": "code",
   "execution_count": 63,
   "metadata": {
    "collapsed": false
   },
   "outputs": [
    {
     "data": {
      "text/html": [
       "<div style=\"max-height:1000px;max-width:1500px;overflow:auto;\">\n",
       "<table border=\"1\" class=\"dataframe\">\n",
       "  <thead>\n",
       "    <tr style=\"text-align: right;\">\n",
       "      <th></th>\n",
       "      <th>median_relevance</th>\n",
       "      <th>num_terms_in_resp</th>\n",
       "    </tr>\n",
       "  </thead>\n",
       "  <tbody>\n",
       "    <tr>\n",
       "      <th>median_relevance</th>\n",
       "      <td> 1.000000</td>\n",
       "      <td> 0.317533</td>\n",
       "    </tr>\n",
       "    <tr>\n",
       "      <th>num_terms_in_resp</th>\n",
       "      <td> 0.317533</td>\n",
       "      <td> 1.000000</td>\n",
       "    </tr>\n",
       "  </tbody>\n",
       "</table>\n",
       "</div>"
      ],
      "text/plain": [
       "                   median_relevance  num_terms_in_resp\n",
       "median_relevance           1.000000           0.317533\n",
       "num_terms_in_resp          0.317533           1.000000"
      ]
     },
     "execution_count": 63,
     "metadata": {},
     "output_type": "execute_result"
    }
   ],
   "source": [
    "# crowd_train[['num_terms_in_resp', 'median_relevance']].corr()\n",
    "pd.DataFrame({'num_terms_in_resp': num_terms_in_resp, \n",
    "              'median_relevance': crowd_train[crowd_train.relevance_variance < 0.5].median_relevance}).corr()"
   ]
  },
  {
   "cell_type": "code",
   "execution_count": 61,
   "metadata": {
    "collapsed": false
   },
   "outputs": [],
   "source": [
    "def lch_similarity(x):\n",
    "    query = x['query'].lower()\n",
    "    response = x['product_title'].lower() + ' ' + x['product_description'].lower()\n",
    "    stop = stopwords.words('english')\n",
    "    total = 0\n",
    "    \n",
    "    for q in query.split(' '):\n",
    "        if q not in stop:\n",
    "            query_noun = wn.synsets(q, pos=wn.NOUN)\n",
    "            if len(query_noun) > 0:\n",
    "                for r in response.split(' '):\n",
    "                    if r not in stop:\n",
    "                        synonyms = wn.synsets(r, pos=wn.NOUN)\n",
    "                        if len(synonyms) > 0:\n",
    "                            total += query_noun[0].lch_similarity(synonyms[0])\n",
    "    \n",
    "    return total\n",
    "\n",
    "crowd_train['lch_similarity'] = crowd_train.apply(lch_similarity, axis=1)"
   ]
  },
  {
   "cell_type": "code",
   "execution_count": 63,
   "metadata": {
    "collapsed": false
   },
   "outputs": [
    {
     "data": {
      "text/html": [
       "<div style=\"max-height:1000px;max-width:1500px;overflow:auto;\">\n",
       "<table border=\"1\" class=\"dataframe\">\n",
       "  <thead>\n",
       "    <tr style=\"text-align: right;\">\n",
       "      <th></th>\n",
       "      <th>lch_similarity</th>\n",
       "      <th>median_relevance</th>\n",
       "    </tr>\n",
       "  </thead>\n",
       "  <tbody>\n",
       "    <tr>\n",
       "      <th>lch_similarity</th>\n",
       "      <td> 1.000000</td>\n",
       "      <td> 0.004542</td>\n",
       "    </tr>\n",
       "    <tr>\n",
       "      <th>median_relevance</th>\n",
       "      <td> 0.004542</td>\n",
       "      <td> 1.000000</td>\n",
       "    </tr>\n",
       "  </tbody>\n",
       "</table>\n",
       "</div>"
      ],
      "text/plain": [
       "                  lch_similarity  median_relevance\n",
       "lch_similarity          1.000000          0.004542\n",
       "median_relevance        0.004542          1.000000"
      ]
     },
     "execution_count": 63,
     "metadata": {},
     "output_type": "execute_result"
    }
   ],
   "source": [
    "crowd_train[['lch_similarity', 'median_relevance']].corr()"
   ]
  },
  {
   "cell_type": "markdown",
   "metadata": {
    "collapsed": true
   },
   "source": [
    "### Query Length"
   ]
  },
  {
   "cell_type": "code",
   "execution_count": 6,
   "metadata": {
    "collapsed": true
   },
   "outputs": [],
   "source": [
    "def query_length(x):\n",
    "    return len(x['query'].split(' '))\n",
    "\n",
    "crowd_train['query_length'] = crowd_train.apply(query_length, axis=1)"
   ]
  },
  {
   "cell_type": "code",
   "execution_count": 7,
   "metadata": {
    "collapsed": false
   },
   "outputs": [
    {
     "data": {
      "text/html": [
       "<div style=\"max-height:1000px;max-width:1500px;overflow:auto;\">\n",
       "<table border=\"1\" class=\"dataframe\">\n",
       "  <thead>\n",
       "    <tr style=\"text-align: right;\">\n",
       "      <th></th>\n",
       "      <th>query_length</th>\n",
       "      <th>median_relevance</th>\n",
       "    </tr>\n",
       "  </thead>\n",
       "  <tbody>\n",
       "    <tr>\n",
       "      <th>query_length</th>\n",
       "      <td> 1.000000</td>\n",
       "      <td>-0.100067</td>\n",
       "    </tr>\n",
       "    <tr>\n",
       "      <th>median_relevance</th>\n",
       "      <td>-0.100067</td>\n",
       "      <td> 1.000000</td>\n",
       "    </tr>\n",
       "  </tbody>\n",
       "</table>\n",
       "</div>"
      ],
      "text/plain": [
       "                  query_length  median_relevance\n",
       "query_length          1.000000         -0.100067\n",
       "median_relevance     -0.100067          1.000000"
      ]
     },
     "execution_count": 7,
     "metadata": {},
     "output_type": "execute_result"
    }
   ],
   "source": [
    "crowd_train[['query_length', 'median_relevance']].corr()"
   ]
  },
  {
   "cell_type": "markdown",
   "metadata": {
    "collapsed": true
   },
   "source": [
    "### Response length"
   ]
  },
  {
   "cell_type": "code",
   "execution_count": 8,
   "metadata": {
    "collapsed": true
   },
   "outputs": [],
   "source": [
    "def response_length(x):\n",
    "    return len(x['product_title']) + len(x['product_description'])\n",
    "\n",
    "crowd_train['response_length'] = crowd_train.apply(response_length, axis=1)"
   ]
  },
  {
   "cell_type": "code",
   "execution_count": 9,
   "metadata": {
    "collapsed": false
   },
   "outputs": [
    {
     "data": {
      "text/html": [
       "<div style=\"max-height:1000px;max-width:1500px;overflow:auto;\">\n",
       "<table border=\"1\" class=\"dataframe\">\n",
       "  <thead>\n",
       "    <tr style=\"text-align: right;\">\n",
       "      <th></th>\n",
       "      <th>response_length</th>\n",
       "      <th>median_relevance</th>\n",
       "    </tr>\n",
       "  </thead>\n",
       "  <tbody>\n",
       "    <tr>\n",
       "      <th>response_length</th>\n",
       "      <td> 1.000000</td>\n",
       "      <td>-0.008905</td>\n",
       "    </tr>\n",
       "    <tr>\n",
       "      <th>median_relevance</th>\n",
       "      <td>-0.008905</td>\n",
       "      <td> 1.000000</td>\n",
       "    </tr>\n",
       "  </tbody>\n",
       "</table>\n",
       "</div>"
      ],
      "text/plain": [
       "                  response_length  median_relevance\n",
       "response_length          1.000000         -0.008905\n",
       "median_relevance        -0.008905          1.000000"
      ]
     },
     "execution_count": 9,
     "metadata": {},
     "output_type": "execute_result"
    }
   ],
   "source": [
    "crowd_train[['response_length', 'median_relevance']].corr()"
   ]
  },
  {
   "cell_type": "code",
   "execution_count": 47,
   "metadata": {
    "collapsed": false
   },
   "outputs": [],
   "source": [
    "def query_synonymns_check(x):\n",
    "    query = x['query'].lower()\n",
    "    query_terms = list(set(query.split()))\n",
    "    response = x['product_title'].lower() + ' ' + x['product_description'].lower()\n",
    "    query_synonymns = []\n",
    "    stop = stopwords.words('english')\n",
    "    \n",
    "    for q in query_terms:\n",
    "        for i, j in enumerate(wn.synsets(q)):\n",
    "            query_synonymns.extend(j.lemma_names)\n",
    "    \n",
    "    keyword = False\n",
    "    for qsynonym in query_synonymns:\n",
    "        if qsynonym not in stop:\n",
    "            keyword = True\n",
    "            if response.find(qsynonym) == -1:\n",
    "                return 0\n",
    "    \n",
    "    if keyword == False:\n",
    "        return 0\n",
    "    else:\n",
    "        return 1\n",
    "    \n",
    "crowd_train['query_synonyms_match_count'] = crowd_train.apply(query_synonymns_check, axis=1)"
   ]
  },
  {
   "cell_type": "code",
   "execution_count": 48,
   "metadata": {
    "collapsed": false
   },
   "outputs": [
    {
     "data": {
      "text/html": [
       "<div style=\"max-height:1000px;max-width:1500px;overflow:auto;\">\n",
       "<table border=\"1\" class=\"dataframe\">\n",
       "  <thead>\n",
       "    <tr style=\"text-align: right;\">\n",
       "      <th></th>\n",
       "      <th>query_synonyms_match_count</th>\n",
       "      <th>median_relevance</th>\n",
       "    </tr>\n",
       "  </thead>\n",
       "  <tbody>\n",
       "    <tr>\n",
       "      <th>query_synonyms_match_count</th>\n",
       "      <td> 1.000000</td>\n",
       "      <td> 0.017669</td>\n",
       "    </tr>\n",
       "    <tr>\n",
       "      <th>median_relevance</th>\n",
       "      <td> 0.017669</td>\n",
       "      <td> 1.000000</td>\n",
       "    </tr>\n",
       "  </tbody>\n",
       "</table>\n",
       "</div>"
      ],
      "text/plain": [
       "                            query_synonyms_match_count  median_relevance\n",
       "query_synonyms_match_count                    1.000000          0.017669\n",
       "median_relevance                              0.017669          1.000000"
      ]
     },
     "execution_count": 48,
     "metadata": {},
     "output_type": "execute_result"
    }
   ],
   "source": [
    "crowd_train[['query_synonyms_match_count', 'median_relevance']].corr()"
   ]
  },
  {
   "cell_type": "code",
   "execution_count": 49,
   "metadata": {
    "collapsed": true
   },
   "outputs": [],
   "source": [
    "c = crowd_train.groupby('median_relevance')"
   ]
  },
  {
   "cell_type": "code",
   "execution_count": 52,
   "metadata": {
    "collapsed": false
   },
   "outputs": [
    {
     "data": {
      "text/plain": [
       "count    5.000000\n",
       "mean     0.188400\n",
       "std      0.257977\n",
       "min      0.000000\n",
       "25%      0.000000\n",
       "50%      0.000000\n",
       "75%      0.471000\n",
       "max      0.471000\n",
       "Name: relevance_variance, dtype: float64"
      ]
     },
     "execution_count": 52,
     "metadata": {},
     "output_type": "execute_result"
    }
   ],
   "source": [
    "c.get_group(4).head().relevance_variance.describe()"
   ]
  },
  {
   "cell_type": "code",
   "execution_count": 53,
   "metadata": {
    "collapsed": false
   },
   "outputs": [
    {
     "data": {
      "text/plain": [
       "count    5.000000\n",
       "mean     0.571200\n",
       "std      0.427608\n",
       "min      0.000000\n",
       "25%      0.471000\n",
       "50%      0.471000\n",
       "75%      0.748000\n",
       "max      1.166000\n",
       "Name: relevance_variance, dtype: float64"
      ]
     },
     "execution_count": 53,
     "metadata": {},
     "output_type": "execute_result"
    }
   ],
   "source": [
    "c.get_group(3).head().relevance_variance.describe()"
   ]
  },
  {
   "cell_type": "code",
   "execution_count": 54,
   "metadata": {
    "collapsed": false
   },
   "outputs": [
    {
     "data": {
      "text/plain": [
       "count    5.000000\n",
       "mean     0.722800\n",
       "std      0.279154\n",
       "min      0.471000\n",
       "25%      0.471000\n",
       "50%      0.632000\n",
       "75%      1.020000\n",
       "max      1.020000\n",
       "Name: relevance_variance, dtype: float64"
      ]
     },
     "execution_count": 54,
     "metadata": {},
     "output_type": "execute_result"
    }
   ],
   "source": [
    "c.get_group(2).head().relevance_variance.describe()"
   ]
  },
  {
   "cell_type": "code",
   "execution_count": 55,
   "metadata": {
    "collapsed": false
   },
   "outputs": [
    {
     "data": {
      "text/plain": [
       "count    5.000000\n",
       "mean     0.094200\n",
       "std      0.210638\n",
       "min      0.000000\n",
       "25%      0.000000\n",
       "50%      0.000000\n",
       "75%      0.000000\n",
       "max      0.471000\n",
       "Name: relevance_variance, dtype: float64"
      ]
     },
     "execution_count": 55,
     "metadata": {},
     "output_type": "execute_result"
    }
   ],
   "source": [
    "c.get_group(1).head().relevance_variance.describe()"
   ]
  },
  {
   "cell_type": "code",
   "execution_count": null,
   "metadata": {
    "collapsed": true
   },
   "outputs": [],
   "source": []
  },
  {
   "cell_type": "code",
   "execution_count": null,
   "metadata": {
    "collapsed": true
   },
   "outputs": [],
   "source": []
  },
  {
   "cell_type": "code",
   "execution_count": null,
   "metadata": {
    "collapsed": true
   },
   "outputs": [],
   "source": []
  },
  {
   "cell_type": "code",
   "execution_count": null,
   "metadata": {
    "collapsed": true
   },
   "outputs": [],
   "source": []
  },
  {
   "cell_type": "code",
   "execution_count": null,
   "metadata": {
    "collapsed": true
   },
   "outputs": [],
   "source": []
  },
  {
   "cell_type": "code",
   "execution_count": null,
   "metadata": {
    "collapsed": true
   },
   "outputs": [],
   "source": []
  },
  {
   "cell_type": "code",
   "execution_count": null,
   "metadata": {
    "collapsed": true
   },
   "outputs": [],
   "source": []
  },
  {
   "cell_type": "code",
   "execution_count": null,
   "metadata": {
    "collapsed": true
   },
   "outputs": [],
   "source": []
  },
  {
   "cell_type": "code",
   "execution_count": null,
   "metadata": {
    "collapsed": true
   },
   "outputs": [],
   "source": []
  },
  {
   "cell_type": "code",
   "execution_count": null,
   "metadata": {
    "collapsed": true
   },
   "outputs": [],
   "source": []
  },
  {
   "cell_type": "code",
   "execution_count": null,
   "metadata": {
    "collapsed": true
   },
   "outputs": [],
   "source": []
  },
  {
   "cell_type": "code",
   "execution_count": null,
   "metadata": {
    "collapsed": true
   },
   "outputs": [],
   "source": []
  }
 ],
 "metadata": {
  "kernelspec": {
   "display_name": "Python 2",
   "language": "python",
   "name": "python2"
  },
  "language_info": {
   "codemirror_mode": {
    "name": "ipython",
    "version": 2
   },
   "file_extension": ".py",
   "mimetype": "text/x-python",
   "name": "python",
   "nbconvert_exporter": "python",
   "pygments_lexer": "ipython2",
   "version": "2.7.6"
  }
 },
 "nbformat": 4,
 "nbformat_minor": 0
}
