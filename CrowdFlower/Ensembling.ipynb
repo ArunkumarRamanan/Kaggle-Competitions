{
 "cells": [
  {
   "cell_type": "code",
   "execution_count": 1,
   "metadata": {
    "collapsed": true
   },
   "outputs": [],
   "source": [
    "import numpy as np\n",
    "import warnings\n",
    "warnings.filterwarnings('ignore')"
   ]
  },
  {
   "cell_type": "code",
   "execution_count": 1,
   "metadata": {
    "collapsed": false
   },
   "outputs": [],
   "source": [
    "%run scripts/helper.py\n",
    "%run scripts/models.py"
   ]
  },
  {
   "cell_type": "code",
   "execution_count": 3,
   "metadata": {
    "collapsed": true
   },
   "outputs": [],
   "source": [
    "crowd_train = load_file('./data/train.csv/train.csv', index_col='id')"
   ]
  },
  {
   "cell_type": "code",
   "execution_count": 4,
   "metadata": {
    "collapsed": true
   },
   "outputs": [],
   "source": [
    "y = crowd_train.median_relevance.values"
   ]
  },
  {
   "cell_type": "markdown",
   "metadata": {},
   "source": [
    "### Stratified shuffle split to get smaller dataset with similar class frequency"
   ]
  },
  {
   "cell_type": "code",
   "execution_count": 5,
   "metadata": {
    "collapsed": true
   },
   "outputs": [],
   "source": [
    "train_idx, test_idx = ssSplit(y, train_size=6000)"
   ]
  },
  {
   "cell_type": "code",
   "execution_count": 6,
   "metadata": {
    "collapsed": true
   },
   "outputs": [],
   "source": [
    "X_small_train = crowd_train.iloc[train_idx]\n",
    "y_small_train = y[train_idx]\n",
    "\n",
    "X_small_validation = crowd_train.iloc[test_idx]\n",
    "y_small_validation = y[test_idx]"
   ]
  },
  {
   "cell_type": "markdown",
   "metadata": {},
   "source": [
    "### SVM model on unprocessed data by analyzing character similiarity taking 5 gram model with truncated svd with 400 components"
   ]
  },
  {
   "cell_type": "code",
   "execution_count": 7,
   "metadata": {
    "collapsed": true
   },
   "outputs": [],
   "source": [
    "X_small_train_unprocessed = prepareText(X_small_train)\n",
    "X_small_validation_unprocessed = prepareText(X_small_validation)"
   ]
  },
  {
   "cell_type": "markdown",
   "metadata": {},
   "source": [
    "### SVM model on unprocessed data by analyzing word similarity taking 2 gram model with truncated svd with 200 components"
   ]
  },
  {
   "cell_type": "code",
   "execution_count": 8,
   "metadata": {
    "collapsed": false
   },
   "outputs": [],
   "source": [
    "model_word, tfv_svm, svd_svm, scl_svm = build_non_linear_model(X_small_train_unprocessed, y_small_train, 'word')"
   ]
  },
  {
   "cell_type": "code",
   "execution_count": 9,
   "metadata": {
    "collapsed": true
   },
   "outputs": [],
   "source": [
    "non_linear_SVM_word_preds = non_linear_model_predictions(model_word, tfv_svm, svd_svm, scl_svm, X_small_validation_unprocessed)"
   ]
  },
  {
   "cell_type": "code",
   "execution_count": 10,
   "metadata": {
    "collapsed": false
   },
   "outputs": [
    {
     "name": "stdout",
     "output_type": "stream",
     "text": [
      "Validation set accuracy 0.5749 \n"
     ]
    }
   ],
   "source": [
    "print 'Validation set accuracy %0.4f ' %(quadratic_weighted_kappa(y_small_validation, non_linear_SVM_word_preds))"
   ]
  },
  {
   "cell_type": "markdown",
   "metadata": {},
   "source": [
    "### Linear SVM model with chi2 as selection criteria"
   ]
  },
  {
   "cell_type": "code",
   "execution_count": 11,
   "metadata": {
    "collapsed": true
   },
   "outputs": [],
   "source": [
    "linear_model, tfv_linear, select_linear = build_linear_model(X_small_train_unprocessed, y_small_train, 'word')"
   ]
  },
  {
   "cell_type": "code",
   "execution_count": 12,
   "metadata": {
    "collapsed": true
   },
   "outputs": [],
   "source": [
    "linear_SVM_preds = linear_model_predictions(linear_model, tfv_linear, select_linear, X_small_validation_unprocessed)"
   ]
  },
  {
   "cell_type": "code",
   "execution_count": 13,
   "metadata": {
    "collapsed": false
   },
   "outputs": [
    {
     "name": "stdout",
     "output_type": "stream",
     "text": [
      "Validation set accuracy 0.4107 \n"
     ]
    }
   ],
   "source": [
    "print 'Validation set accuracy %0.4f ' %(quadratic_weighted_kappa(y_small_validation, linear_SVM_preds))"
   ]
  },
  {
   "cell_type": "markdown",
   "metadata": {},
   "source": [
    "### KNN neighbors model on unprocessed data"
   ]
  },
  {
   "cell_type": "code",
   "execution_count": 14,
   "metadata": {
    "collapsed": true
   },
   "outputs": [],
   "source": [
    "knn_model_word, tfv_knn, svd_knn = build_knn_model(X_small_train_unprocessed, y_small_train, 'distance', 'word')"
   ]
  },
  {
   "cell_type": "code",
   "execution_count": 15,
   "metadata": {
    "collapsed": false
   },
   "outputs": [],
   "source": [
    "knn_word_preds = knn_model_predictions(knn_model_word, tfv_knn, svd_knn, X_small_validation_unprocessed)"
   ]
  },
  {
   "cell_type": "code",
   "execution_count": 16,
   "metadata": {
    "collapsed": false
   },
   "outputs": [
    {
     "name": "stdout",
     "output_type": "stream",
     "text": [
      "Validation set accuracy 0.5203 \n"
     ]
    }
   ],
   "source": [
    "print 'Validation set accuracy %0.4f ' %(quadratic_weighted_kappa(y_small_validation, knn_word_preds))"
   ]
  },
  {
   "cell_type": "markdown",
   "metadata": {},
   "source": [
    "### Let's see how correlated these predictions are among each other"
   ]
  },
  {
   "cell_type": "code",
   "execution_count": 17,
   "metadata": {
    "collapsed": false
   },
   "outputs": [
    {
     "data": {
      "text/html": [
       "<div style=\"max-height:1000px;max-width:1500px;overflow:auto;\">\n",
       "<table border=\"1\" class=\"dataframe\">\n",
       "  <thead>\n",
       "    <tr style=\"text-align: right;\">\n",
       "      <th></th>\n",
       "      <th>knn_pred_word</th>\n",
       "      <th>lin_pred</th>\n",
       "      <th>non_lin_word</th>\n",
       "    </tr>\n",
       "  </thead>\n",
       "  <tbody>\n",
       "    <tr>\n",
       "      <th>knn_pred_word</th>\n",
       "      <td> 1.000000</td>\n",
       "      <td> 0.584736</td>\n",
       "      <td> 0.736249</td>\n",
       "    </tr>\n",
       "    <tr>\n",
       "      <th>lin_pred</th>\n",
       "      <td> 0.584736</td>\n",
       "      <td> 1.000000</td>\n",
       "      <td> 0.560435</td>\n",
       "    </tr>\n",
       "    <tr>\n",
       "      <th>non_lin_word</th>\n",
       "      <td> 0.736249</td>\n",
       "      <td> 0.560435</td>\n",
       "      <td> 1.000000</td>\n",
       "    </tr>\n",
       "  </tbody>\n",
       "</table>\n",
       "</div>"
      ],
      "text/plain": [
       "               knn_pred_word  lin_pred  non_lin_word\n",
       "knn_pred_word       1.000000  0.584736      0.736249\n",
       "lin_pred            0.584736  1.000000      0.560435\n",
       "non_lin_word        0.736249  0.560435      1.000000"
      ]
     },
     "execution_count": 17,
     "metadata": {},
     "output_type": "execute_result"
    }
   ],
   "source": [
    "pd.DataFrame({'non_lin_word': non_linear_SVM_word_preds,\n",
    "              'lin_pred': linear_SVM_preds,\n",
    "              'knn_pred_word': knn_word_preds\n",
    "             }).corr()"
   ]
  },
  {
   "cell_type": "markdown",
   "metadata": {},
   "source": [
    "### lets take ensemble of all the three strategies"
   ]
  },
  {
   "cell_type": "code",
   "execution_count": 27,
   "metadata": {
    "collapsed": true
   },
   "outputs": [],
   "source": [
    "# Averaging\n",
    "# ensemble_unprocessed = (non_linear_SVM_word_preds \n",
    "#                         + linear_SVM_preds + knn_word_preds) / 3"
   ]
  },
  {
   "cell_type": "code",
   "execution_count": 30,
   "metadata": {
    "collapsed": false
   },
   "outputs": [],
   "source": [
    "# Most common\n",
    "ensemble_unprocessed = []\n",
    "\n",
    "for i in range(len(knn_word_preds)):\n",
    "    ensemble_unprocessed.append(most_common([knn_word_preds[i], non_linear_SVM_word_preds[i], linear_SVM_preds[i]]))"
   ]
  },
  {
   "cell_type": "code",
   "execution_count": 32,
   "metadata": {
    "collapsed": false
   },
   "outputs": [
    {
     "name": "stdout",
     "output_type": "stream",
     "text": [
      "Validation set accuracy 0.5524 \n"
     ]
    }
   ],
   "source": [
    "print 'Validation set accuracy %0.4f ' %(quadratic_weighted_kappa(y_small_validation, ensemble_unprocessed))"
   ]
  },
  {
   "cell_type": "markdown",
   "metadata": {},
   "source": [
    "### Models applied after processing text"
   ]
  },
  {
   "cell_type": "code",
   "execution_count": 33,
   "metadata": {
    "collapsed": false
   },
   "outputs": [],
   "source": [
    "X_small_train_processed = tweak_text(X_small_train)\n",
    "X_small_validation_processed = tweak_text(X_small_validation)"
   ]
  },
  {
   "cell_type": "code",
   "execution_count": 34,
   "metadata": {
    "collapsed": true
   },
   "outputs": [],
   "source": [
    "tweaked_model, tfv_tweaked, svd_tweaked, scl_tweaked = build_stopwords_tweak_model(X_small_train_processed, y_small_train)"
   ]
  },
  {
   "cell_type": "code",
   "execution_count": 35,
   "metadata": {
    "collapsed": true
   },
   "outputs": [],
   "source": [
    "tweaked_predictions = non_linear_model_predictions(tweaked_model, tfv_tweaked,\n",
    "                                                   svd_tweaked, scl_tweaked, X_small_validation_processed)"
   ]
  },
  {
   "cell_type": "code",
   "execution_count": 36,
   "metadata": {
    "collapsed": false
   },
   "outputs": [
    {
     "name": "stdout",
     "output_type": "stream",
     "text": [
      "Validation set accuracy 0.5683 \n"
     ]
    }
   ],
   "source": [
    "print 'Validation set accuracy %0.4f ' %(quadratic_weighted_kappa(y_small_validation, tweaked_predictions))"
   ]
  },
  {
   "cell_type": "markdown",
   "metadata": {},
   "source": [
    "### KNN on processed data"
   ]
  },
  {
   "cell_type": "code",
   "execution_count": 37,
   "metadata": {
    "collapsed": false
   },
   "outputs": [],
   "source": [
    "knn_model_distance, tfv_knn, svd_knn = build_knn_model(X_small_train_processed, y_small_train, 'distance','word')"
   ]
  },
  {
   "cell_type": "code",
   "execution_count": 38,
   "metadata": {
    "collapsed": false
   },
   "outputs": [],
   "source": [
    "knn_predictions_distance = knn_model_predictions(knn_model_distance, tfv_knn, svd_knn, X_small_validation_processed)"
   ]
  },
  {
   "cell_type": "code",
   "execution_count": 39,
   "metadata": {
    "collapsed": false
   },
   "outputs": [
    {
     "name": "stdout",
     "output_type": "stream",
     "text": [
      "Validation set accuracy 0.4981 \n"
     ]
    }
   ],
   "source": [
    "print 'Validation set accuracy %0.4f ' %(quadratic_weighted_kappa(y_small_validation, knn_predictions_distance))"
   ]
  },
  {
   "cell_type": "markdown",
   "metadata": {},
   "source": [
    "### Linear model on processed data"
   ]
  },
  {
   "cell_type": "code",
   "execution_count": 41,
   "metadata": {
    "collapsed": true
   },
   "outputs": [],
   "source": [
    "linear_model_proc, tfv_linear, select_linear = build_linear_model(X_small_train_processed, y_small_train, 'word')"
   ]
  },
  {
   "cell_type": "code",
   "execution_count": 42,
   "metadata": {
    "collapsed": true
   },
   "outputs": [],
   "source": [
    "linear_SVM_preds_proc = linear_model_predictions(linear_model_proc, tfv_linear, select_linear, X_small_validation_processed)"
   ]
  },
  {
   "cell_type": "code",
   "execution_count": 43,
   "metadata": {
    "collapsed": false
   },
   "outputs": [
    {
     "name": "stdout",
     "output_type": "stream",
     "text": [
      "Validation set accuracy 0.4114 \n"
     ]
    }
   ],
   "source": [
    "print 'Validation set accuracy %0.4f ' %(quadratic_weighted_kappa(y_small_validation, linear_SVM_preds_proc))"
   ]
  },
  {
   "cell_type": "code",
   "execution_count": 44,
   "metadata": {
    "collapsed": false
   },
   "outputs": [
    {
     "data": {
      "text/html": [
       "<div style=\"max-height:1000px;max-width:1500px;overflow:auto;\">\n",
       "<table border=\"1\" class=\"dataframe\">\n",
       "  <thead>\n",
       "    <tr style=\"text-align: right;\">\n",
       "      <th></th>\n",
       "      <th>knn_distance_proc</th>\n",
       "      <th>linear_svm_proc</th>\n",
       "      <th>non_linear_proc</th>\n",
       "    </tr>\n",
       "  </thead>\n",
       "  <tbody>\n",
       "    <tr>\n",
       "      <th>knn_distance_proc</th>\n",
       "      <td> 1.000000</td>\n",
       "      <td> 0.533003</td>\n",
       "      <td> 0.717910</td>\n",
       "    </tr>\n",
       "    <tr>\n",
       "      <th>linear_svm_proc</th>\n",
       "      <td> 0.533003</td>\n",
       "      <td> 1.000000</td>\n",
       "      <td> 0.532926</td>\n",
       "    </tr>\n",
       "    <tr>\n",
       "      <th>non_linear_proc</th>\n",
       "      <td> 0.717910</td>\n",
       "      <td> 0.532926</td>\n",
       "      <td> 1.000000</td>\n",
       "    </tr>\n",
       "  </tbody>\n",
       "</table>\n",
       "</div>"
      ],
      "text/plain": [
       "                   knn_distance_proc  linear_svm_proc  non_linear_proc\n",
       "knn_distance_proc           1.000000         0.533003         0.717910\n",
       "linear_svm_proc             0.533003         1.000000         0.532926\n",
       "non_linear_proc             0.717910         0.532926         1.000000"
      ]
     },
     "execution_count": 44,
     "metadata": {},
     "output_type": "execute_result"
    }
   ],
   "source": [
    "pd.DataFrame({'non_linear_proc': tweaked_predictions,\n",
    "              'knn_distance_proc': knn_predictions_distance,\n",
    "              'linear_svm_proc': linear_SVM_preds_proc\n",
    "             }).corr()"
   ]
  },
  {
   "cell_type": "code",
   "execution_count": 304,
   "metadata": {
    "collapsed": false
   },
   "outputs": [],
   "source": [
    "# Averaging\n",
    "# ensemble_processed = (knn_predictions_distance + linear_SVM_preds_proc\n",
    "#                       + tweaked_predictions) / 3"
   ]
  },
  {
   "cell_type": "code",
   "execution_count": 45,
   "metadata": {
    "collapsed": true
   },
   "outputs": [],
   "source": [
    "# Most common\n",
    "ensemble_processed = []\n",
    "\n",
    "for i in range(len(knn_predictions_distance)):\n",
    "    ensemble_processed.append(most_common([knn_predictions_distance[i], linear_SVM_preds_proc[i], tweaked_predictions[i]]))"
   ]
  },
  {
   "cell_type": "code",
   "execution_count": 46,
   "metadata": {
    "collapsed": false
   },
   "outputs": [
    {
     "data": {
      "text/plain": [
       "[3, 4, 4, 4, 1, 4, 4, 4, 4, 4]"
      ]
     },
     "execution_count": 46,
     "metadata": {},
     "output_type": "execute_result"
    }
   ],
   "source": [
    "ensemble_processed[:10]"
   ]
  },
  {
   "cell_type": "code",
   "execution_count": 47,
   "metadata": {
    "collapsed": false
   },
   "outputs": [
    {
     "name": "stdout",
     "output_type": "stream",
     "text": [
      "Validation set accuracy 0.5554 \n"
     ]
    }
   ],
   "source": [
    "print 'Validation set accuracy %0.4f ' %(quadratic_weighted_kappa(y_small_validation, ensemble_processed))"
   ]
  },
  {
   "cell_type": "markdown",
   "metadata": {
    "collapsed": true
   },
   "source": [
    "## Ensemble of unprocessed and processed results"
   ]
  },
  {
   "cell_type": "code",
   "execution_count": 306,
   "metadata": {
    "collapsed": true
   },
   "outputs": [],
   "source": [
    "# Averaging\n",
    "# ensemble_all = (ensemble_processed + ensemble_unprocessed) / 2"
   ]
  },
  {
   "cell_type": "code",
   "execution_count": 50,
   "metadata": {
    "collapsed": false
   },
   "outputs": [],
   "source": [
    "# Most common\n",
    "ensemble_all = []\n",
    "for i in range(len(knn_word_preds)):\n",
    "    common_pred = most_common([non_linear_SVM_word_preds[i], linear_SVM_preds[i], knn_word_preds[i],\n",
    "                              tweaked_predictions[i], knn_predictions_distance[i], linear_SVM_preds_proc[i]])\n",
    "    ensemble_all.append(common_pred)"
   ]
  },
  {
   "cell_type": "code",
   "execution_count": 51,
   "metadata": {
    "collapsed": false
   },
   "outputs": [
    {
     "data": {
      "text/plain": [
       "[3, 4, 4, 4, 1, 4, 4, 4, 4, 4]"
      ]
     },
     "execution_count": 51,
     "metadata": {},
     "output_type": "execute_result"
    }
   ],
   "source": [
    "ensemble_all[:10]"
   ]
  },
  {
   "cell_type": "code",
   "execution_count": 52,
   "metadata": {
    "collapsed": false
   },
   "outputs": [
    {
     "name": "stdout",
     "output_type": "stream",
     "text": [
      "Validation set accuracy 0.5711 \n"
     ]
    }
   ],
   "source": [
    "print 'Validation set accuracy %0.4f ' %(quadratic_weighted_kappa(y_small_validation, ensemble_all))"
   ]
  },
  {
   "cell_type": "code",
   "execution_count": null,
   "metadata": {
    "collapsed": true
   },
   "outputs": [],
   "source": []
  },
  {
   "cell_type": "code",
   "execution_count": null,
   "metadata": {
    "collapsed": true
   },
   "outputs": [],
   "source": []
  },
  {
   "cell_type": "code",
   "execution_count": null,
   "metadata": {
    "collapsed": true
   },
   "outputs": [],
   "source": []
  }
 ],
 "metadata": {
  "kernelspec": {
   "display_name": "Python 2",
   "language": "python",
   "name": "python2"
  },
  "language_info": {
   "codemirror_mode": {
    "name": "ipython",
    "version": 2
   },
   "file_extension": ".py",
   "mimetype": "text/x-python",
   "name": "python",
   "nbconvert_exporter": "python",
   "pygments_lexer": "ipython2",
   "version": "2.7.6"
  }
 },
 "nbformat": 4,
 "nbformat_minor": 0
}
