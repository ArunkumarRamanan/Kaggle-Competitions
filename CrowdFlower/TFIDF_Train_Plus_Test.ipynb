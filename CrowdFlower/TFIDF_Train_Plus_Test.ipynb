{
 "cells": [
  {
   "cell_type": "code",
   "execution_count": 1,
   "metadata": {
    "collapsed": true
   },
   "outputs": [],
   "source": [
    "import numpy as np\n",
    "import warnings\n",
    "warnings.filterwarnings('ignore')"
   ]
  },
  {
   "cell_type": "code",
   "execution_count": 30,
   "metadata": {
    "collapsed": true
   },
   "outputs": [],
   "source": [
    "%run scripts/helper.py\n",
    "%run scripts/model_train_plus_test.py"
   ]
  },
  {
   "cell_type": "code",
   "execution_count": 3,
   "metadata": {
    "collapsed": false
   },
   "outputs": [],
   "source": [
    "crowd_train = load_file('./data/train.csv/train.csv', index_col='id')\n",
    "y = crowd_train.median_relevance.values"
   ]
  },
  {
   "cell_type": "code",
   "execution_count": 4,
   "metadata": {
    "collapsed": true
   },
   "outputs": [],
   "source": [
    "crowd_test = load_file('./data/test.csv/test.csv', index_col='id')"
   ]
  },
  {
   "cell_type": "code",
   "execution_count": 5,
   "metadata": {
    "collapsed": true
   },
   "outputs": [],
   "source": [
    "# Stratified shuffle split\n",
    "train_idx, test_idx = ssSplit(y, train_size=500, random_state=1234)"
   ]
  },
  {
   "cell_type": "code",
   "execution_count": 6,
   "metadata": {
    "collapsed": false
   },
   "outputs": [],
   "source": [
    "# training and test set\n",
    "Xtrain = crowd_train.iloc[train_idx]\n",
    "ytrain = y[train_idx]\n",
    "\n",
    "Xtest = crowd_train.iloc[test_idx]\n",
    "ytest = y[test_idx]"
   ]
  },
  {
   "cell_type": "code",
   "execution_count": 7,
   "metadata": {
    "collapsed": true
   },
   "outputs": [],
   "source": [
    "Xtrain_text = tweak_text(Xtrain)\n",
    "#Xtest_text = tweak_text(Xtest)\n",
    "Xtest_text = tweak_text(crowd_test)"
   ]
  },
  {
   "cell_type": "code",
   "execution_count": 8,
   "metadata": {
    "collapsed": true
   },
   "outputs": [],
   "source": [
    "# whole corpus\n",
    "corpus = []\n",
    "\n",
    "for i in range(len(Xtrain_text)):\n",
    "    corpus.append(Xtrain_text[i])\n",
    "\n",
    "for j in range(len(Xtest_text)):\n",
    "    corpus.append(Xtest_text[j])"
   ]
  },
  {
   "cell_type": "code",
   "execution_count": 15,
   "metadata": {
    "collapsed": true
   },
   "outputs": [],
   "source": [
    "Xvalidation_text = tweak_text(Xtest)"
   ]
  },
  {
   "cell_type": "code",
   "execution_count": 16,
   "metadata": {
    "collapsed": true
   },
   "outputs": [],
   "source": [
    "for k in range(len(Xvalidation_text)):\n",
    "    corpus.append(Xvalidation_text[k])"
   ]
  },
  {
   "cell_type": "code",
   "execution_count": 17,
   "metadata": {
    "collapsed": false
   },
   "outputs": [
    {
     "name": "stdout",
     "output_type": "stream",
     "text": [
      "24029\n"
     ]
    }
   ],
   "source": [
    "print len(corpus)"
   ]
  },
  {
   "cell_type": "code",
   "execution_count": 31,
   "metadata": {
    "collapsed": false
   },
   "outputs": [],
   "source": [
    "Xtrain_fitted, tfv = TFIDF(Xtrain_text, corpus)"
   ]
  },
  {
   "cell_type": "code",
   "execution_count": 32,
   "metadata": {
    "collapsed": false
   },
   "outputs": [],
   "source": [
    "# Non linear svm model on processed text\n",
    "svm, svd, scl = build_non_linear_model(Xtrain_fitted, ytrain)"
   ]
  },
  {
   "cell_type": "code",
   "execution_count": 33,
   "metadata": {
    "collapsed": true
   },
   "outputs": [],
   "source": [
    "options = {\n",
    "    'tfv': tfv,\n",
    "    'svd': svd,\n",
    "    'scl': scl\n",
    "}"
   ]
  },
  {
   "cell_type": "code",
   "execution_count": 34,
   "metadata": {
    "collapsed": false
   },
   "outputs": [],
   "source": [
    "svm_pred_non_lin = make_predictions(svm, options, Xvalidation_text)"
   ]
  },
  {
   "cell_type": "code",
   "execution_count": 35,
   "metadata": {
    "collapsed": false
   },
   "outputs": [
    {
     "name": "stdout",
     "output_type": "stream",
     "text": [
      "Kappa score on validation set 0.1151 \n"
     ]
    }
   ],
   "source": [
    "print 'Kappa score on validation set %0.4f ' %(quadratic_weighted_kappa(ytest, svm_pred_non_lin))"
   ]
  },
  {
   "cell_type": "code",
   "execution_count": 59,
   "metadata": {
    "collapsed": false
   },
   "outputs": [],
   "source": [
    "# Linear svm model on processed text\n",
    "svm_lin, select = build_linear_model(Xtrain_fitted, ytrain)"
   ]
  },
  {
   "cell_type": "code",
   "execution_count": 64,
   "metadata": {
    "collapsed": false
   },
   "outputs": [],
   "source": [
    "options = {\n",
    "    'tfv': tfv,\n",
    "    'select': select\n",
    "}"
   ]
  },
  {
   "cell_type": "code",
   "execution_count": 65,
   "metadata": {
    "collapsed": false
   },
   "outputs": [],
   "source": [
    "svm_pred_lin = make_predictions(svm_lin, options, Xtest_text)"
   ]
  },
  {
   "cell_type": "code",
   "execution_count": 66,
   "metadata": {
    "collapsed": false
   },
   "outputs": [
    {
     "name": "stdout",
     "output_type": "stream",
     "text": [
      "Validation set accuracy 0.4350 \n"
     ]
    }
   ],
   "source": [
    "print 'Validation set accuracy %0.4f ' %(quadratic_weighted_kappa(ytest, svm_pred_lin))"
   ]
  },
  {
   "cell_type": "markdown",
   "metadata": {},
   "source": [
    "### Unprocessed text"
   ]
  },
  {
   "cell_type": "code",
   "execution_count": 68,
   "metadata": {
    "collapsed": true
   },
   "outputs": [],
   "source": [
    "Xtrain_text_u = prepareText(Xtrain)\n",
    "Xtest_text_u = prepareText(Xtest)"
   ]
  },
  {
   "cell_type": "code",
   "execution_count": 69,
   "metadata": {
    "collapsed": true
   },
   "outputs": [],
   "source": [
    "# whole corpus\n",
    "corpus_u = []\n",
    "\n",
    "for i in range(len(Xtrain_text_u)):\n",
    "    corpus_u.append(Xtrain_text_u[i])\n",
    "\n",
    "for j in range(len(Xtest_text_u)):\n",
    "    corpus_u.append(Xtest_text_u[j])"
   ]
  },
  {
   "cell_type": "code",
   "execution_count": 77,
   "metadata": {
    "collapsed": true
   },
   "outputs": [],
   "source": [
    "Xtrain_fitted_u, tfv_u = TFIDF(Xtrain_text_u, corpus_u)"
   ]
  },
  {
   "cell_type": "code",
   "execution_count": 78,
   "metadata": {
    "collapsed": true
   },
   "outputs": [],
   "source": [
    "# Non linear svm model on unprocessed text\n",
    "svm_u, svd_u, scl_u = build_non_linear_model(Xtrain_fitted_u, ytrain)"
   ]
  },
  {
   "cell_type": "code",
   "execution_count": 79,
   "metadata": {
    "collapsed": true
   },
   "outputs": [],
   "source": [
    "options = {\n",
    "    'tfv': tfv_u,\n",
    "    'svd': svd_u,\n",
    "    'scl': scl_u\n",
    "}"
   ]
  },
  {
   "cell_type": "code",
   "execution_count": 80,
   "metadata": {
    "collapsed": true
   },
   "outputs": [],
   "source": [
    "svm_pred_non_lin_u = make_predictions(svm_u, options, Xtest_text_u)"
   ]
  },
  {
   "cell_type": "code",
   "execution_count": 81,
   "metadata": {
    "collapsed": false
   },
   "outputs": [
    {
     "name": "stdout",
     "output_type": "stream",
     "text": [
      "Validation set accuracy 0.5620 \n"
     ]
    }
   ],
   "source": [
    "print 'Validation set accuracy %0.4f ' %(quadratic_weighted_kappa(ytest, svm_pred_non_lin_u))"
   ]
  },
  {
   "cell_type": "code",
   "execution_count": 88,
   "metadata": {
    "collapsed": false
   },
   "outputs": [
    {
     "name": "stdout",
     "output_type": "stream",
     "text": [
      "Ensemble of unprocessed and processed non linear SVM models  0.605575423197\n"
     ]
    }
   ],
   "source": [
    "print 'Ensemble of unprocessed and processed non linear SVM models ', quadratic_weighted_kappa(ytest, (svm_pred_non_lin + svm_pred_non_lin_u) / 2)"
   ]
  },
  {
   "cell_type": "code",
   "execution_count": null,
   "metadata": {
    "collapsed": true
   },
   "outputs": [],
   "source": []
  }
 ],
 "metadata": {
  "kernelspec": {
   "display_name": "Python 2",
   "language": "python",
   "name": "python2"
  },
  "language_info": {
   "codemirror_mode": {
    "name": "ipython",
    "version": 2
   },
   "file_extension": ".py",
   "mimetype": "text/x-python",
   "name": "python",
   "nbconvert_exporter": "python",
   "pygments_lexer": "ipython2",
   "version": "2.7.6"
  }
 },
 "nbformat": 4,
 "nbformat_minor": 0
}
