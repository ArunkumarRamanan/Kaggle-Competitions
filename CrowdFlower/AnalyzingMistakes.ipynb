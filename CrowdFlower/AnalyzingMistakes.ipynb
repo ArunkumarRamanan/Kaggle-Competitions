{
 "cells": [
  {
   "cell_type": "code",
   "execution_count": 1,
   "metadata": {
    "collapsed": true
   },
   "outputs": [],
   "source": [
    "import numpy as np\n",
    "import matplotlib.pyplot as plt\n",
    "import warnings\n",
    "warnings.filterwarnings('ignore')\n",
    "%matplotlib inline"
   ]
  },
  {
   "cell_type": "code",
   "execution_count": 2,
   "metadata": {
    "collapsed": true
   },
   "outputs": [],
   "source": [
    "%run scripts/helper.py\n",
    "%run scripts/model_train_plus_test.py"
   ]
  },
  {
   "cell_type": "code",
   "execution_count": 47,
   "metadata": {
    "collapsed": true
   },
   "outputs": [],
   "source": [
    "crowd_train = load_file('./data/train.csv/train.csv', None)\n",
    "crowd_test = load_file('./data/test.csv/test.csv', None)"
   ]
  },
  {
   "cell_type": "code",
   "execution_count": 48,
   "metadata": {
    "collapsed": true
   },
   "outputs": [],
   "source": [
    "target = crowd_train.median_relevance.values"
   ]
  },
  {
   "cell_type": "code",
   "execution_count": 80,
   "metadata": {
    "collapsed": false
   },
   "outputs": [],
   "source": [
    "train_index, test_index = ssSplit(target, train_size=8000, random_state=44)"
   ]
  },
  {
   "cell_type": "code",
   "execution_count": 81,
   "metadata": {
    "collapsed": false
   },
   "outputs": [],
   "source": [
    "X = tweak_text(crowd_train.iloc[train_index])\n",
    "Xv = tweak_text(crowd_train.iloc[test_index])\n",
    "# X = tweak_text(crowd_train)\n",
    "# Xv = tweak_text(crowd_test)"
   ]
  },
  {
   "cell_type": "code",
   "execution_count": 51,
   "metadata": {
    "collapsed": true
   },
   "outputs": [],
   "source": [
    "# y = target[train_index]\n",
    "# yv = target[test_index]\n",
    "y = target"
   ]
  },
  {
   "cell_type": "code",
   "execution_count": 52,
   "metadata": {
    "collapsed": true
   },
   "outputs": [],
   "source": [
    "Xfitted, tfv = TFIDF(X, None)"
   ]
  },
  {
   "cell_type": "code",
   "execution_count": 53,
   "metadata": {
    "collapsed": true
   },
   "outputs": [],
   "source": [
    "svm_non_linear, svd, scl = build_non_linear_model(Xfitted, y)"
   ]
  },
  {
   "cell_type": "code",
   "execution_count": 54,
   "metadata": {
    "collapsed": true
   },
   "outputs": [],
   "source": [
    "options = {\n",
    "    'tfv': tfv,\n",
    "    'svd': svd,\n",
    "    'scl': scl\n",
    "}\n",
    "\n",
    "preds = make_predictions(svm_non_linear, options, Xv)"
   ]
  },
  {
   "cell_type": "code",
   "execution_count": 55,
   "metadata": {
    "collapsed": true
   },
   "outputs": [],
   "source": [
    "make_submission(crowd_test.id.values.astype(int), preds, '300features_svm.csv')"
   ]
  },
  {
   "cell_type": "code",
   "execution_count": 11,
   "metadata": {
    "collapsed": false
   },
   "outputs": [
    {
     "name": "stdout",
     "output_type": "stream",
     "text": [
      "Kappa score on validation set 0.6150 \n"
     ]
    }
   ],
   "source": [
    "#print 'Kappa score on validation set %0.4f ' %(quadratic_weighted_kappa(yv, preds))"
   ]
  },
  {
   "cell_type": "code",
   "execution_count": 12,
   "metadata": {
    "collapsed": true
   },
   "outputs": [],
   "source": [
    "#from sklearn.metrics import confusion_matrix"
   ]
  },
  {
   "cell_type": "code",
   "execution_count": 13,
   "metadata": {
    "collapsed": false
   },
   "outputs": [
    {
     "data": {
      "text/plain": [
       "array([[ 46,  15,   2,  14],\n",
       "       [ 19,  53,  23,  53],\n",
       "       [  6,  23,  33, 112],\n",
       "       [  8,  20,  35, 554]])"
      ]
     },
     "execution_count": 13,
     "metadata": {},
     "output_type": "execute_result"
    }
   ],
   "source": [
    "#confusion_matrix(yv, preds)"
   ]
  },
  {
   "cell_type": "code",
   "execution_count": 14,
   "metadata": {
    "collapsed": false
   },
   "outputs": [],
   "source": [
    "# Analyze the mistakes of this model\n",
    "mistakes_idx = [test_index[i] for i in range(len(preds)) if yv[i] != preds[i]]\n",
    "incorrect_preds = [preds[i] for i in range(len(preds)) if yv[i] != preds[i]]"
   ]
  },
  {
   "cell_type": "code",
   "execution_count": 15,
   "metadata": {
    "collapsed": false
   },
   "outputs": [],
   "source": [
    "mistakes = crowd_train.iloc[mistakes_idx]"
   ]
  },
  {
   "cell_type": "code",
   "execution_count": 16,
   "metadata": {
    "collapsed": false
   },
   "outputs": [],
   "source": [
    "mistakes['pred'] = incorrect_preds"
   ]
  },
  {
   "cell_type": "code",
   "execution_count": 17,
   "metadata": {
    "collapsed": false
   },
   "outputs": [
    {
     "data": {
      "text/plain": [
       "(330, 7)"
      ]
     },
     "execution_count": 17,
     "metadata": {},
     "output_type": "execute_result"
    }
   ],
   "source": [
    "mistakes.shape"
   ]
  },
  {
   "cell_type": "code",
   "execution_count": 18,
   "metadata": {
    "collapsed": false
   },
   "outputs": [
    {
     "data": {
      "text/html": [
       "<div style=\"max-height:1000px;max-width:1500px;overflow:auto;\">\n",
       "<table border=\"1\" class=\"dataframe\">\n",
       "  <thead>\n",
       "    <tr style=\"text-align: right;\">\n",
       "      <th></th>\n",
       "      <th>id</th>\n",
       "      <th>query</th>\n",
       "      <th>product_title</th>\n",
       "      <th>product_description</th>\n",
       "      <th>median_relevance</th>\n",
       "      <th>relevance_variance</th>\n",
       "      <th>pred</th>\n",
       "    </tr>\n",
       "  </thead>\n",
       "  <tbody>\n",
       "    <tr>\n",
       "      <th>8227</th>\n",
       "      <td> 26520</td>\n",
       "      <td>       thomas the train</td>\n",
       "      <td> Fisher-Price Power Wheels Thomas the Train 6-V...</td>\n",
       "      <td> Extra value! Get two more feet of track than t...</td>\n",
       "      <td> 3</td>\n",
       "      <td> 0.471</td>\n",
       "      <td> 4</td>\n",
       "    </tr>\n",
       "    <tr>\n",
       "      <th>5695</th>\n",
       "      <td> 18316</td>\n",
       "      <td>         wii microphone</td>\n",
       "      <td> Tomee Chat Headset with Microphone for Wii U; ...</td>\n",
       "      <td> The Tomee Gaming Chat Headset for the Wii U al...</td>\n",
       "      <td> 4</td>\n",
       "      <td> 0.471</td>\n",
       "      <td> 2</td>\n",
       "    </tr>\n",
       "    <tr>\n",
       "      <th>1058</th>\n",
       "      <td>  3414</td>\n",
       "      <td>         dr who lanyard</td>\n",
       "      <td>    PROTO JLANHATRD Hard Hat Lanyard, , 23 in, Red</td>\n",
       "      <td>                                                  </td>\n",
       "      <td> 2</td>\n",
       "      <td> 0.894</td>\n",
       "      <td> 1</td>\n",
       "    </tr>\n",
       "    <tr>\n",
       "      <th>6449</th>\n",
       "      <td> 20789</td>\n",
       "      <td>  business badge holder</td>\n",
       "      <td> Durable - Click-Fold Convex Name Badge Holder,...</td>\n",
       "      <td> Attractive, contemporary horizontal Click-Fold...</td>\n",
       "      <td> 3</td>\n",
       "      <td> 0.471</td>\n",
       "      <td> 4</td>\n",
       "    </tr>\n",
       "    <tr>\n",
       "      <th>8872</th>\n",
       "      <td> 28542</td>\n",
       "      <td> cuisinart coffee maker</td>\n",
       "      <td>         Cuisinart DCC-1100 - coffee maker - white</td>\n",
       "      <td> This classically designed coffeemaker is accen...</td>\n",
       "      <td> 4</td>\n",
       "      <td> 0.000</td>\n",
       "      <td> 2</td>\n",
       "    </tr>\n",
       "  </tbody>\n",
       "</table>\n",
       "</div>"
      ],
      "text/plain": [
       "         id                   query  \\\n",
       "8227  26520        thomas the train   \n",
       "5695  18316          wii microphone   \n",
       "1058   3414          dr who lanyard   \n",
       "6449  20789   business badge holder   \n",
       "8872  28542  cuisinart coffee maker   \n",
       "\n",
       "                                          product_title  \\\n",
       "8227  Fisher-Price Power Wheels Thomas the Train 6-V...   \n",
       "5695  Tomee Chat Headset with Microphone for Wii U; ...   \n",
       "1058     PROTO JLANHATRD Hard Hat Lanyard, , 23 in, Red   \n",
       "6449  Durable - Click-Fold Convex Name Badge Holder,...   \n",
       "8872          Cuisinart DCC-1100 - coffee maker - white   \n",
       "\n",
       "                                    product_description  median_relevance  \\\n",
       "8227  Extra value! Get two more feet of track than t...                 3   \n",
       "5695  The Tomee Gaming Chat Headset for the Wii U al...                 4   \n",
       "1058                                                                    2   \n",
       "6449  Attractive, contemporary horizontal Click-Fold...                 3   \n",
       "8872  This classically designed coffeemaker is accen...                 4   \n",
       "\n",
       "      relevance_variance  pred  \n",
       "8227               0.471     4  \n",
       "5695               0.471     2  \n",
       "1058               0.894     1  \n",
       "6449               0.471     4  \n",
       "8872               0.000     2  "
      ]
     },
     "execution_count": 18,
     "metadata": {},
     "output_type": "execute_result"
    }
   ],
   "source": [
    "mistakes.head()"
   ]
  },
  {
   "cell_type": "code",
   "execution_count": 19,
   "metadata": {
    "collapsed": false
   },
   "outputs": [
    {
     "name": "stdout",
     "output_type": "stream",
     "text": [
      "Query:  wireless mouse \n",
      "Title: Gear Head Mouse \n",
      "Description: Optical - Wireless - Radio Frequency - Black - 1000 dpi - Scroll Wheel \n",
      "########################################\n",
      "Relevance 3 \n",
      "My Prediction 4 \n",
      "\n",
      "\n",
      "\n",
      "Query:  business badge holder \n",
      "Title: Advantus ID Badge Holder w/Convention Neck Pouch, Vertical, 2 1/4 x 3 1/2, Black, 12/PK \n",
      "Description: Badge ID holders feature a nylon convention pouch to display identification cards as well as offer additional storage. Back features two pockets: one open and one zippered to store credit cards or other items. Adjustable 48\" cord. Insert Width: 2 1/4\"; Insert Height: 3 1/2\"; Orientation: Vertical; Color(s): Black.\n",
      "Material: Nylon\n",
      "Fob: Photo holder\n",
      "Dimensions: 3.5 \" x ; 2.25 \"\n",
      "Manufacturer Suggested Age: 3 Years and Up\n",
      "CPSC Choking Hazard Warnings no_warning_applicabl \n",
      "########################################\n",
      "Relevance 3 \n",
      "My Prediction 4 \n",
      "\n",
      "\n",
      "\n",
      "Query:  ps2 controller usb \n",
      "Title: Limited Edition Datel Rapid Fire Wildfire 2 Wired USB Game Pad Ruby Red Controller for Microsoft Xbox 360 Bulk Packaging \n",
      "Description: About this item\n",
      "Enhance your gaming experience with this Limited Edition Datel Rapid Fire Wildfire 2 Controller for Xbox 360. It faithfully recreates all of the functionality of the original controller, including vibration feedback and full analogue input. In addition, the wired USB controller has a programmable Turbo Rapid Fire function and new ergonomic design. This item features an integrated headset port so you can connect a headphone with mic and chat live while playing games. It also has dual rumble motors for realistic force feedback to immerse you in the game play. The full analogue input is compatible with the Xbox 360.\n",
      "Limited Edition Datel Rapid Fire Wildfire 2 Wired USB Game Pad Ruby Red Controller for Microsoft Xbox 360:\n",
      "Programmable rapid fire function\n",
      "Recreates all of the functionality of the original controller\n",
      "Integrated headset port for chat while playing games\n",
      "Dual rumble motors\n",
      "Vibration feedback and full analogue input\n",
      "Fully compatible with Xbox 360\n",
      "Wired USB game pad\n",
      "Color: ruby red controller\n",
      "VERY IMPORTANT: Turbo fire is programmable. Be aware that the speed can also depend on the way the game is programmed. \n",
      "########################################\n",
      "Relevance 1 \n",
      "My Prediction 2 \n",
      "\n",
      "\n",
      "\n",
      "Query:  small brass bow \n",
      "Title: Bundle Monster 14pc Multicolor Satin Grosgrain Ribbon Bow Girls Hair Clip Set \n",
      "Description:  \n",
      "########################################\n",
      "Relevance 2 \n",
      "My Prediction 1 \n",
      "\n",
      "\n",
      "\n",
      "Query:  gucci guilty intense women \n",
      "Title: Women's Gucci by Gucci by Gucci Eau de Parfum Spray - 2.5 oz \n",
      "Description: A chypre floral with notes of guava, Haitian Tiare flower, patchouli, musk and honey. Introduced in 2007. \n",
      "########################################\n",
      "Relevance 3 \n",
      "My Prediction 2 \n",
      "\n",
      "\n",
      "\n"
     ]
    }
   ],
   "source": [
    "for i in range(5, 10, 1):\n",
    "    print 'Query:  %s ' %(mistakes.iloc[i].query)\n",
    "    print 'Title: %s ' %(mistakes.iloc[i].product_title)\n",
    "    print 'Description: %s ' %(mistakes.iloc[i].product_description)\n",
    "    print '########################################'\n",
    "    print 'Relevance %d ' %(mistakes.iloc[i].median_relevance)\n",
    "    print 'My Prediction %d ' %(mistakes.iloc[i].pred)\n",
    "    print '\\n\\n'"
   ]
  },
  {
   "cell_type": "code",
   "execution_count": 20,
   "metadata": {
    "collapsed": true
   },
   "outputs": [],
   "source": [
    "from nltk.corpus import stopwords\n",
    "stop = stopwords.words('english')"
   ]
  },
  {
   "cell_type": "code",
   "execution_count": 21,
   "metadata": {
    "collapsed": false
   },
   "outputs": [],
   "source": [
    "def query_terms_in_results(train):\n",
    "    query_terms = train['query'].split(' ')\n",
    "    response = train['product_title'] + ' ' + train['product_description']\n",
    "    keyword = False\n",
    "    \n",
    "    for q in query_terms:\n",
    "        if q not in stop:\n",
    "            keyword = True\n",
    "            if response.lower().find(q) == -1:\n",
    "                return 0\n",
    "    \n",
    "    if keyword == False:\n",
    "        return 0\n",
    "    else:\n",
    "        return 1\n",
    "    \n",
    "is_query_in_response = crowd_train.apply(query_terms_in_results, axis=1)"
   ]
  },
  {
   "cell_type": "code",
   "execution_count": 22,
   "metadata": {
    "collapsed": false
   },
   "outputs": [],
   "source": [
    "feature_query_in_response = pd.DataFrame({'is_query_in_response': is_query_in_response,\n",
    "              'median_relevance': crowd_train.median_relevance})"
   ]
  },
  {
   "cell_type": "code",
   "execution_count": 23,
   "metadata": {
    "collapsed": false
   },
   "outputs": [
    {
     "data": {
      "text/html": [
       "<div style=\"max-height:1000px;max-width:1500px;overflow:auto;\">\n",
       "<table border=\"1\" class=\"dataframe\">\n",
       "  <thead>\n",
       "    <tr style=\"text-align: right;\">\n",
       "      <th></th>\n",
       "      <th>is_query_in_response</th>\n",
       "      <th>median_relevance</th>\n",
       "    </tr>\n",
       "  </thead>\n",
       "  <tbody>\n",
       "    <tr>\n",
       "      <th>is_query_in_response</th>\n",
       "      <td> 1.00000</td>\n",
       "      <td> 0.34641</td>\n",
       "    </tr>\n",
       "    <tr>\n",
       "      <th>median_relevance</th>\n",
       "      <td> 0.34641</td>\n",
       "      <td> 1.00000</td>\n",
       "    </tr>\n",
       "  </tbody>\n",
       "</table>\n",
       "</div>"
      ],
      "text/plain": [
       "                      is_query_in_response  median_relevance\n",
       "is_query_in_response               1.00000           0.34641\n",
       "median_relevance                   0.34641           1.00000"
      ]
     },
     "execution_count": 23,
     "metadata": {},
     "output_type": "execute_result"
    }
   ],
   "source": [
    "feature_query_in_response.corr()"
   ]
  },
  {
   "cell_type": "code",
   "execution_count": 24,
   "metadata": {
    "collapsed": false
   },
   "outputs": [
    {
     "data": {
      "text/plain": [
       "is_query_in_response  median_relevance\n",
       "0                     1                    613\n",
       "                      2                    875\n",
       "                      3                    774\n",
       "                      4                   1629\n",
       "1                     1                    161\n",
       "                      2                    601\n",
       "                      3                    963\n",
       "                      4                   4542\n",
       "dtype: int64"
      ]
     },
     "execution_count": 24,
     "metadata": {},
     "output_type": "execute_result"
    }
   ],
   "source": [
    "feature_query_in_response.groupby(['is_query_in_response', 'median_relevance']).size()"
   ]
  },
  {
   "cell_type": "code",
   "execution_count": 25,
   "metadata": {
    "collapsed": true
   },
   "outputs": [],
   "source": [
    "# lets find out how many query terms found in response\n",
    "def count_query_terms_in_response(train):\n",
    "    query_terms = train['query'].split(' ')\n",
    "    response = train['product_title'] + ' ' + train['product_description']\n",
    "    \n",
    "    count = 0\n",
    "    for q in query_terms:\n",
    "        if response.lower().find(q) != -1:\n",
    "            count += 1\n",
    "    return count\n",
    "\n",
    "num_query_terms_in_response = crowd_train.apply(count_query_terms_in_response, axis=1)"
   ]
  },
  {
   "cell_type": "code",
   "execution_count": 26,
   "metadata": {
    "collapsed": false
   },
   "outputs": [],
   "source": [
    "feature_num_query_in_response = pd.DataFrame({'num_query_in_response': num_query_terms_in_response,\n",
    "              'median_relevance': crowd_train.median_relevance})"
   ]
  },
  {
   "cell_type": "code",
   "execution_count": 27,
   "metadata": {
    "collapsed": false
   },
   "outputs": [
    {
     "data": {
      "text/html": [
       "<div style=\"max-height:1000px;max-width:1500px;overflow:auto;\">\n",
       "<table border=\"1\" class=\"dataframe\">\n",
       "  <thead>\n",
       "    <tr style=\"text-align: right;\">\n",
       "      <th></th>\n",
       "      <th>median_relevance</th>\n",
       "      <th>num_query_in_response</th>\n",
       "    </tr>\n",
       "  </thead>\n",
       "  <tbody>\n",
       "    <tr>\n",
       "      <th>median_relevance</th>\n",
       "      <td> 1.000000</td>\n",
       "      <td> 0.250085</td>\n",
       "    </tr>\n",
       "    <tr>\n",
       "      <th>num_query_in_response</th>\n",
       "      <td> 0.250085</td>\n",
       "      <td> 1.000000</td>\n",
       "    </tr>\n",
       "  </tbody>\n",
       "</table>\n",
       "</div>"
      ],
      "text/plain": [
       "                       median_relevance  num_query_in_response\n",
       "median_relevance               1.000000               0.250085\n",
       "num_query_in_response          0.250085               1.000000"
      ]
     },
     "execution_count": 27,
     "metadata": {},
     "output_type": "execute_result"
    }
   ],
   "source": [
    "feature_num_query_in_response.corr()"
   ]
  },
  {
   "cell_type": "code",
   "execution_count": 28,
   "metadata": {
    "collapsed": false
   },
   "outputs": [
    {
     "data": {
      "text/plain": [
       "num_query_in_response  median_relevance\n",
       "0                      1                    176\n",
       "                       2                    148\n",
       "                       3                    129\n",
       "                       4                    210\n",
       "1                      1                    323\n",
       "                       2                    495\n",
       "                       3                    512\n",
       "                       4                   1295\n",
       "2                      1                    232\n",
       "                       2                    598\n",
       "                       3                    711\n",
       "                       4                   3144\n",
       "3                      1                     37\n",
       "                       2                    190\n",
       "                       3                    304\n",
       "                       4                   1076\n",
       "4                      1                      6\n",
       "                       2                     40\n",
       "                       3                     72\n",
       "                       4                    408\n",
       "5                      2                      4\n",
       "                       3                      4\n",
       "                       4                     15\n",
       "6                      2                      1\n",
       "                       3                      5\n",
       "                       4                     23\n",
       "dtype: int64"
      ]
     },
     "execution_count": 28,
     "metadata": {},
     "output_type": "execute_result"
    }
   ],
   "source": [
    "feature_num_query_in_response.groupby(['num_query_in_response', 'median_relevance']).size()"
   ]
  },
  {
   "cell_type": "code",
   "execution_count": 29,
   "metadata": {
    "collapsed": false
   },
   "outputs": [],
   "source": [
    "# lexical diversity\n",
    "def word_diversity(train):\n",
    "    response = train['product_title'] + ' ' + train['product_description']\n",
    "    vocabulary = list(set([x.lower() for x in response.split(' ')]))\n",
    "    \n",
    "    return (len(vocabulary) * 1.) / len(response.split(' '))\n",
    "\n",
    "word_diversity = crowd_train.apply(word_diversity, axis=1)"
   ]
  },
  {
   "cell_type": "code",
   "execution_count": 30,
   "metadata": {
    "collapsed": false
   },
   "outputs": [],
   "source": [
    "feature_word_diversity = pd.DataFrame({'word_diversity': word_diversity,\n",
    "                                       'median_relevance': crowd_train.median_relevance})"
   ]
  },
  {
   "cell_type": "code",
   "execution_count": 31,
   "metadata": {
    "collapsed": false
   },
   "outputs": [
    {
     "data": {
      "text/html": [
       "<div style=\"max-height:1000px;max-width:1500px;overflow:auto;\">\n",
       "<table border=\"1\" class=\"dataframe\">\n",
       "  <thead>\n",
       "    <tr style=\"text-align: right;\">\n",
       "      <th></th>\n",
       "      <th>median_relevance</th>\n",
       "      <th>word_diversity</th>\n",
       "    </tr>\n",
       "  </thead>\n",
       "  <tbody>\n",
       "    <tr>\n",
       "      <th>median_relevance</th>\n",
       "      <td> 1.000000</td>\n",
       "      <td> 0.026877</td>\n",
       "    </tr>\n",
       "    <tr>\n",
       "      <th>word_diversity</th>\n",
       "      <td> 0.026877</td>\n",
       "      <td> 1.000000</td>\n",
       "    </tr>\n",
       "  </tbody>\n",
       "</table>\n",
       "</div>"
      ],
      "text/plain": [
       "                  median_relevance  word_diversity\n",
       "median_relevance          1.000000        0.026877\n",
       "word_diversity            0.026877        1.000000"
      ]
     },
     "execution_count": 31,
     "metadata": {},
     "output_type": "execute_result"
    }
   ],
   "source": [
    "feature_word_diversity.corr()"
   ]
  },
  {
   "cell_type": "code",
   "execution_count": 32,
   "metadata": {
    "collapsed": true
   },
   "outputs": [],
   "source": [
    "# how big the response is\n",
    "def response_length(train):\n",
    "    response = train['product_title'] + ' ' + train['product_description']\n",
    "    return len(response.split(' '))\n",
    "\n",
    "query_response_length = crowd_train.apply(response_length, axis=1)"
   ]
  },
  {
   "cell_type": "code",
   "execution_count": 33,
   "metadata": {
    "collapsed": true
   },
   "outputs": [],
   "source": [
    "feature_response_length = pd.DataFrame({'response_length': query_response_length,\n",
    "                                        'median_relevance': crowd_train.median_relevance})"
   ]
  },
  {
   "cell_type": "code",
   "execution_count": 34,
   "metadata": {
    "collapsed": false
   },
   "outputs": [
    {
     "data": {
      "text/html": [
       "<div style=\"max-height:1000px;max-width:1500px;overflow:auto;\">\n",
       "<table border=\"1\" class=\"dataframe\">\n",
       "  <thead>\n",
       "    <tr style=\"text-align: right;\">\n",
       "      <th></th>\n",
       "      <th>median_relevance</th>\n",
       "      <th>response_length</th>\n",
       "    </tr>\n",
       "  </thead>\n",
       "  <tbody>\n",
       "    <tr>\n",
       "      <th>median_relevance</th>\n",
       "      <td> 1.000000</td>\n",
       "      <td>-0.022693</td>\n",
       "    </tr>\n",
       "    <tr>\n",
       "      <th>response_length</th>\n",
       "      <td>-0.022693</td>\n",
       "      <td> 1.000000</td>\n",
       "    </tr>\n",
       "  </tbody>\n",
       "</table>\n",
       "</div>"
      ],
      "text/plain": [
       "                  median_relevance  response_length\n",
       "median_relevance          1.000000        -0.022693\n",
       "response_length          -0.022693         1.000000"
      ]
     },
     "execution_count": 34,
     "metadata": {},
     "output_type": "execute_result"
    }
   ],
   "source": [
    "feature_response_length.corr()"
   ]
  },
  {
   "cell_type": "markdown",
   "metadata": {},
   "source": [
    "### Stacked model with handcrafted features"
   ]
  },
  {
   "cell_type": "code",
   "execution_count": 56,
   "metadata": {
    "collapsed": false
   },
   "outputs": [],
   "source": [
    "%run query_features.py"
   ]
  },
  {
   "cell_type": "code",
   "execution_count": 57,
   "metadata": {
    "collapsed": false
   },
   "outputs": [],
   "source": [
    "svd = TruncatedSVD(n_components=200, algorithm='randomized', n_iter=5, random_state=None, tol=0.0)\n",
    "\n",
    "scl = StandardScaler(copy=True, with_mean=True, with_std=True)\n",
    "\n",
    "clf = SVC(C=10.0, kernel='rbf', degree=3, \n",
    "        gamma=0.0, coef0=0.0, shrinking=True, probability=False, \n",
    "        tol=0.001, cache_size=200, class_weight=None, \n",
    "        verbose=False, max_iter=-1, random_state=None)\n",
    "\n",
    "#keywords = keyword_counter(crowd_train.iloc[train_index])\n",
    "keywords = keyword_counter(crowd_train)"
   ]
  },
  {
   "cell_type": "code",
   "execution_count": 58,
   "metadata": {
    "collapsed": false
   },
   "outputs": [],
   "source": [
    "features = stack([keywords, Xfitted])"
   ]
  },
  {
   "cell_type": "code",
   "execution_count": 59,
   "metadata": {
    "collapsed": true
   },
   "outputs": [],
   "source": [
    "from sklearn.pipeline import Pipeline"
   ]
  },
  {
   "cell_type": "code",
   "execution_count": 60,
   "metadata": {
    "collapsed": false
   },
   "outputs": [],
   "source": [
    "pipeline = Pipeline([('svd', svd), ('scl', scl), ('clf', clf)])"
   ]
  },
  {
   "cell_type": "code",
   "execution_count": 61,
   "metadata": {
    "collapsed": false
   },
   "outputs": [
    {
     "data": {
      "text/plain": [
       "Pipeline(steps=[('svd', TruncatedSVD(algorithm='randomized', n_components=200, n_iter=5,\n",
       "       random_state=None, tol=0.0)), ('scl', StandardScaler(copy=True, with_mean=True, with_std=True)), ('clf', SVC(C=10.0, cache_size=200, class_weight=None, coef0=0.0, degree=3, gamma=0.0,\n",
       "  kernel='rbf', max_iter=-1, probability=False, random_state=None,\n",
       "  shrinking=True, tol=0.001, verbose=False))])"
      ]
     },
     "execution_count": 61,
     "metadata": {},
     "output_type": "execute_result"
    }
   ],
   "source": [
    "pipeline.fit(features, y)"
   ]
  },
  {
   "cell_type": "code",
   "execution_count": 62,
   "metadata": {
    "collapsed": true
   },
   "outputs": [],
   "source": [
    "#keywords_test = keyword_counter(crowd_train.iloc[test_index])\n",
    "keywords_test = keyword_counter(crowd_test)"
   ]
  },
  {
   "cell_type": "code",
   "execution_count": 63,
   "metadata": {
    "collapsed": true
   },
   "outputs": [],
   "source": [
    "Xtest = tfv.transform(Xv)"
   ]
  },
  {
   "cell_type": "code",
   "execution_count": 64,
   "metadata": {
    "collapsed": false
   },
   "outputs": [],
   "source": [
    "features_test = stack([keywords_test, Xtest])"
   ]
  },
  {
   "cell_type": "code",
   "execution_count": 65,
   "metadata": {
    "collapsed": false
   },
   "outputs": [],
   "source": [
    "preds_new_model = pipeline.predict(features_test)"
   ]
  },
  {
   "cell_type": "code",
   "execution_count": 66,
   "metadata": {
    "collapsed": true
   },
   "outputs": [],
   "source": [
    "make_submission(crowd_test.id.values.astype(int), preds_new_model, 'additionalfeatures.csv')"
   ]
  },
  {
   "cell_type": "code",
   "execution_count": 45,
   "metadata": {
    "collapsed": false
   },
   "outputs": [
    {
     "name": "stdout",
     "output_type": "stream",
     "text": [
      "Kappa score on validation set 0.6520 \n"
     ]
    }
   ],
   "source": [
    "#print 'Kappa score on validation set %0.4f ' %(quadratic_weighted_kappa(yv, preds_new_model))"
   ]
  },
  {
   "cell_type": "code",
   "execution_count": 67,
   "metadata": {
    "collapsed": true
   },
   "outputs": [],
   "source": [
    "ensemble = (preds + preds_new_model) / 2"
   ]
  },
  {
   "cell_type": "code",
   "execution_count": 68,
   "metadata": {
    "collapsed": true
   },
   "outputs": [],
   "source": [
    "make_submission(crowd_test.id.values.astype(int), ensemble, 'ensemble300andadditional.csv')"
   ]
  },
  {
   "cell_type": "code",
   "execution_count": 46,
   "metadata": {
    "collapsed": false
   },
   "outputs": [
    {
     "name": "stdout",
     "output_type": "stream",
     "text": [
      "Ensemble of the two model is 0.6747 \n"
     ]
    }
   ],
   "source": [
    "#print 'Ensemble of the two model is %0.4f ' %(quadratic_weighted_kappa(yv, (preds + preds_new_model) / 2))"
   ]
  },
  {
   "cell_type": "code",
   "execution_count": 69,
   "metadata": {
    "collapsed": true
   },
   "outputs": [],
   "source": [
    "best_score = pd.read_csv('./submissions/best_score.csv')"
   ]
  },
  {
   "cell_type": "code",
   "execution_count": 75,
   "metadata": {
    "collapsed": false
   },
   "outputs": [],
   "source": [
    "ensemble_best_score_additional = ((preds_new_model) + (best_score.prediction)) / 2"
   ]
  },
  {
   "cell_type": "code",
   "execution_count": 77,
   "metadata": {
    "collapsed": false
   },
   "outputs": [],
   "source": [
    "ensemble_best_score_additional_int = [int(x) for x in ensemble_best_score_additional]"
   ]
  },
  {
   "cell_type": "code",
   "execution_count": 78,
   "metadata": {
    "collapsed": false
   },
   "outputs": [
    {
     "data": {
      "text/plain": [
       "[4, 3, 3, 2, 4, 4, 4, 3, 4, 3]"
      ]
     },
     "execution_count": 78,
     "metadata": {},
     "output_type": "execute_result"
    }
   ],
   "source": [
    "ensemble_best_score_additional_int[:10]"
   ]
  },
  {
   "cell_type": "code",
   "execution_count": 79,
   "metadata": {
    "collapsed": true
   },
   "outputs": [],
   "source": [
    "make_submission(crowd_test.id.values.astype(int), ensemble_best_score_additional_int, 'best_and_additional.csv')"
   ]
  },
  {
   "cell_type": "code",
   "execution_count": null,
   "metadata": {
    "collapsed": true
   },
   "outputs": [],
   "source": []
  }
 ],
 "metadata": {
  "kernelspec": {
   "display_name": "Python 2",
   "language": "python",
   "name": "python2"
  },
  "language_info": {
   "codemirror_mode": {
    "name": "ipython",
    "version": 2
   },
   "file_extension": ".py",
   "mimetype": "text/x-python",
   "name": "python",
   "nbconvert_exporter": "python",
   "pygments_lexer": "ipython2",
   "version": "2.7.6"
  }
 },
 "nbformat": 4,
 "nbformat_minor": 0
}
