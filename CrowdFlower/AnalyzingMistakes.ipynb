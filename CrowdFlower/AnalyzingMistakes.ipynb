{
 "cells": [
  {
   "cell_type": "code",
   "execution_count": 1,
   "metadata": {
    "collapsed": true
   },
   "outputs": [],
   "source": [
    "import numpy as np\n",
    "import matplotlib.pyplot as plt\n",
    "import warnings\n",
    "warnings.filterwarnings('ignore')\n",
    "%matplotlib inline"
   ]
  },
  {
   "cell_type": "code",
   "execution_count": 55,
   "metadata": {
    "collapsed": true
   },
   "outputs": [],
   "source": [
    "%run scripts/helper.py\n",
    "%run scripts/model_train_plus_test.py"
   ]
  },
  {
   "cell_type": "code",
   "execution_count": 73,
   "metadata": {
    "collapsed": false
   },
   "outputs": [],
   "source": [
    "crowd_train = load_file('./data/train.csv', None)\n",
    "crowd_test = load_file('./data/test.csv', None)"
   ]
  },
  {
   "cell_type": "code",
   "execution_count": 74,
   "metadata": {
    "collapsed": true
   },
   "outputs": [],
   "source": [
    "target = crowd_train.median_relevance.values"
   ]
  },
  {
   "cell_type": "code",
   "execution_count": 58,
   "metadata": {
    "collapsed": false
   },
   "outputs": [],
   "source": [
    "# train_index, test_index = ssSplit(target, train_size=8000, random_state=44)"
   ]
  },
  {
   "cell_type": "code",
   "execution_count": 87,
   "metadata": {
    "collapsed": false
   },
   "outputs": [],
   "source": [
    "# X = tweak_text(crowd_train.iloc[train_index])\n",
    "# Xv = tweak_text(crowd_train.iloc[test_index])\n",
    "X = tweak_text(crowd_train)\n",
    "Xv = tweak_text(crowd_test)"
   ]
  },
  {
   "cell_type": "code",
   "execution_count": 88,
   "metadata": {
    "collapsed": true
   },
   "outputs": [],
   "source": [
    "# y = target[train_index]\n",
    "# yv = target[test_index]\n",
    "y = target"
   ]
  },
  {
   "cell_type": "code",
   "execution_count": 89,
   "metadata": {
    "collapsed": true
   },
   "outputs": [],
   "source": [
    "Xfitted, tfv = TFIDF(X, None)"
   ]
  },
  {
   "cell_type": "code",
   "execution_count": 51,
   "metadata": {
    "collapsed": true
   },
   "outputs": [],
   "source": [
    "svm_non_linear, svd, scl = build_non_linear_model(Xfitted, y)"
   ]
  },
  {
   "cell_type": "code",
   "execution_count": 52,
   "metadata": {
    "collapsed": true
   },
   "outputs": [],
   "source": [
    "options = {\n",
    "    'tfv': tfv,\n",
    "    'svd': svd,\n",
    "    'scl': scl\n",
    "}\n",
    "\n",
    "preds = make_predictions(svm_non_linear, options, Xv)"
   ]
  },
  {
   "cell_type": "code",
   "execution_count": 53,
   "metadata": {
    "collapsed": false
   },
   "outputs": [
    {
     "name": "stdout",
     "output_type": "stream",
     "text": [
      "Kappa score on validation set 0.5690 \n"
     ]
    }
   ],
   "source": [
    "print 'Kappa score on validation set %0.4f ' %(quadratic_weighted_kappa(yv, preds))"
   ]
  },
  {
   "cell_type": "code",
   "execution_count": 14,
   "metadata": {
    "collapsed": true
   },
   "outputs": [],
   "source": [
    "from sklearn.metrics import confusion_matrix"
   ]
  },
  {
   "cell_type": "code",
   "execution_count": 15,
   "metadata": {
    "collapsed": false
   },
   "outputs": [
    {
     "data": {
      "text/plain": [
       "array([[ 40,  15,  10,  12],\n",
       "       [ 20,  55,  16,  57],\n",
       "       [ 11,  25,  28, 110],\n",
       "       [ 13,  22,  33, 549]])"
      ]
     },
     "execution_count": 15,
     "metadata": {},
     "output_type": "execute_result"
    }
   ],
   "source": [
    "confusion_matrix(yv, preds)"
   ]
  },
  {
   "cell_type": "code",
   "execution_count": 106,
   "metadata": {
    "collapsed": false
   },
   "outputs": [],
   "source": [
    "# Analyze the mistakes of this model\n",
    "mistakes_idx = [test_index[i] for i in range(len(preds)) if yv[i] != preds[i]]\n",
    "incorrect_preds = [preds[i] for i in range(len(preds)) if yv[i] != preds[i]]"
   ]
  },
  {
   "cell_type": "code",
   "execution_count": 107,
   "metadata": {
    "collapsed": false
   },
   "outputs": [],
   "source": [
    "mistakes = crowd_train.iloc[mistakes_idx]"
   ]
  },
  {
   "cell_type": "code",
   "execution_count": 108,
   "metadata": {
    "collapsed": false
   },
   "outputs": [],
   "source": [
    "mistakes['pred'] = incorrect_preds"
   ]
  },
  {
   "cell_type": "code",
   "execution_count": 109,
   "metadata": {
    "collapsed": false
   },
   "outputs": [
    {
     "data": {
      "text/plain": [
       "(371, 7)"
      ]
     },
     "execution_count": 109,
     "metadata": {},
     "output_type": "execute_result"
    }
   ],
   "source": [
    "mistakes.shape"
   ]
  },
  {
   "cell_type": "code",
   "execution_count": 110,
   "metadata": {
    "collapsed": false
   },
   "outputs": [
    {
     "data": {
      "text/html": [
       "<div style=\"max-height:1000px;max-width:1500px;overflow:auto;\">\n",
       "<table border=\"1\" class=\"dataframe\">\n",
       "  <thead>\n",
       "    <tr style=\"text-align: right;\">\n",
       "      <th></th>\n",
       "      <th>id</th>\n",
       "      <th>query</th>\n",
       "      <th>product_title</th>\n",
       "      <th>product_description</th>\n",
       "      <th>median_relevance</th>\n",
       "      <th>relevance_variance</th>\n",
       "      <th>pred</th>\n",
       "    </tr>\n",
       "  </thead>\n",
       "  <tbody>\n",
       "    <tr>\n",
       "      <th>6558 </th>\n",
       "      <td> 21149</td>\n",
       "      <td> ps2 controller usb</td>\n",
       "      <td> INSTEN For Xbox 360 Wireless Game Controller U...</td>\n",
       "      <td> USB Charging Cable compatible with Microsoft X...</td>\n",
       "      <td> 1</td>\n",
       "      <td> 0.000</td>\n",
       "      <td> 2</td>\n",
       "    </tr>\n",
       "    <tr>\n",
       "      <th>5801 </th>\n",
       "      <td> 18673</td>\n",
       "      <td> converse high tops</td>\n",
       "      <td> Converse CT Ox Youth Girls Size 3 Bronze Texti...</td>\n",
       "      <td> The Converse brand of athletic shoes, which no...</td>\n",
       "      <td> 2</td>\n",
       "      <td> 0.471</td>\n",
       "      <td> 4</td>\n",
       "    </tr>\n",
       "    <tr>\n",
       "      <th>10099</th>\n",
       "      <td> 32458</td>\n",
       "      <td>     wii microphone</td>\n",
       "      <td> Insten For XBOX 360 SLIM Black Headset With Mi...</td>\n",
       "      <td> Headset compatible with Microsoft Xbox 360, Bl...</td>\n",
       "      <td> 1</td>\n",
       "      <td> 0.000</td>\n",
       "      <td> 2</td>\n",
       "    </tr>\n",
       "    <tr>\n",
       "      <th>1465 </th>\n",
       "      <td>  4733</td>\n",
       "      <td>   high heels shoes</td>\n",
       "      <td> New Womens Ankle Strap Platform Shoes Hidden W...</td>\n",
       "      <td>                                                  </td>\n",
       "      <td> 3</td>\n",
       "      <td> 0.000</td>\n",
       "      <td> 1</td>\n",
       "    </tr>\n",
       "    <tr>\n",
       "      <th>6859 </th>\n",
       "      <td> 22151</td>\n",
       "      <td>         light bulb</td>\n",
       "      <td>                            LB001 Retro Light Bulb</td>\n",
       "      <td> The standard since the beginning of the centur...</td>\n",
       "      <td> 3</td>\n",
       "      <td> 0.000</td>\n",
       "      <td> 4</td>\n",
       "    </tr>\n",
       "  </tbody>\n",
       "</table>\n",
       "</div>"
      ],
      "text/plain": [
       "          id               query  \\\n",
       "6558   21149  ps2 controller usb   \n",
       "5801   18673  converse high tops   \n",
       "10099  32458      wii microphone   \n",
       "1465    4733    high heels shoes   \n",
       "6859   22151          light bulb   \n",
       "\n",
       "                                           product_title  \\\n",
       "6558   INSTEN For Xbox 360 Wireless Game Controller U...   \n",
       "5801   Converse CT Ox Youth Girls Size 3 Bronze Texti...   \n",
       "10099  Insten For XBOX 360 SLIM Black Headset With Mi...   \n",
       "1465   New Womens Ankle Strap Platform Shoes Hidden W...   \n",
       "6859                              LB001 Retro Light Bulb   \n",
       "\n",
       "                                     product_description  median_relevance  \\\n",
       "6558   USB Charging Cable compatible with Microsoft X...                 1   \n",
       "5801   The Converse brand of athletic shoes, which no...                 2   \n",
       "10099  Headset compatible with Microsoft Xbox 360, Bl...                 1   \n",
       "1465                                                                     3   \n",
       "6859   The standard since the beginning of the centur...                 3   \n",
       "\n",
       "       relevance_variance  pred  \n",
       "6558                0.000     2  \n",
       "5801                0.471     4  \n",
       "10099               0.000     2  \n",
       "1465                0.000     1  \n",
       "6859                0.000     4  "
      ]
     },
     "execution_count": 110,
     "metadata": {},
     "output_type": "execute_result"
    }
   ],
   "source": [
    "mistakes.head()"
   ]
  },
  {
   "cell_type": "code",
   "execution_count": 157,
   "metadata": {
    "collapsed": false
   },
   "outputs": [
    {
     "name": "stdout",
     "output_type": "stream",
     "text": [
      "Query:  samsonite \n",
      "Title: Samsonite Winfield 2 Fashion 24 \n",
      "Description: Travel in style with this 24-inch upright suitcase in orange or charcoal. Wheels and a telescopic handle add convenient maneuverability. \n",
      "########################################\n",
      "Relevance 4 \n",
      "My Prediction 2 \n",
      "\n",
      "\n",
      "\n",
      "Query:  videogames ps4 \n",
      "Title: Metal Gear Solid V: Ground Zeroes - PlayStation 4 \n",
      "Description:  \n",
      "########################################\n",
      "Relevance 3 \n",
      "My Prediction 4 \n",
      "\n",
      "\n",
      "\n",
      "Query:  flower bulbs \n",
      "Title: TotalGreen 72405500 Rembrandt Tulip Flower Bulb-13PK HEMISPHERE TULIPS \n",
      "Description: 13pk hemisphere tulips. Rembrandt mixed colors of tulips. Size: 11 to 12 cm. Packed 13 bulbs per bag. You may be required by your State Department of Agriculture to apply for a nursery stock dealer license. This can be verified by contacting your State Department of Agriculture or your local County Extension office. Do it Best Corp will try to stay in stock on this SKU throughout the season; however, due to the weather and the perishable nature of this SKU, we may run out of stock earlier than planned. Please order most of your anticipated annual needs at the October Market. Type: Rembrandt Tulip, Color: Mixed, Pkg Qty: 13 \n",
      "########################################\n",
      "Relevance 4 \n",
      "My Prediction 1 \n",
      "\n",
      "\n",
      "\n",
      "Query:  notebook paper \n",
      "Title: NotePro College-Ruled Hardcover Notebook \n",
      "Description:  \n",
      "########################################\n",
      "Relevance 4 \n",
      "My Prediction 2 \n",
      "\n",
      "\n",
      "\n",
      "Query:  galaxy note 3 \n",
      "Title: INSTEN Heavy Duty Synthetic Leather Phone Case Cover for Samsung Galaxy Note 3 \n",
      "Description: This is a BasAcc leather case for Samsung Galaxy Note 3. Case compatible with: Samsung Galaxy note iii n9000. \n",
      "########################################\n",
      "Relevance 3 \n",
      "My Prediction 2 \n",
      "\n",
      "\n",
      "\n"
     ]
    }
   ],
   "source": [
    "for i in range(5, 10, 1):\n",
    "    print 'Query:  %s ' %(mistakes.iloc[i].query)\n",
    "    print 'Title: %s ' %(mistakes.iloc[i].product_title)\n",
    "    print 'Description: %s ' %(mistakes.iloc[i].product_description)\n",
    "    print '########################################'\n",
    "    print 'Relevance %d ' %(mistakes.iloc[i].median_relevance)\n",
    "    print 'My Prediction %d ' %(mistakes.iloc[i].pred)\n",
    "    print '\\n\\n'"
   ]
  },
  {
   "cell_type": "code",
   "execution_count": 177,
   "metadata": {
    "collapsed": true
   },
   "outputs": [],
   "source": [
    "from nltk.corpus import stopwords\n",
    "stop = stopwords.words('english')"
   ]
  },
  {
   "cell_type": "code",
   "execution_count": 178,
   "metadata": {
    "collapsed": false
   },
   "outputs": [],
   "source": [
    "def query_terms_in_results(train):\n",
    "    query_terms = train['query'].split(' ')\n",
    "    response = train['product_title'] + ' ' + train['product_description']\n",
    "    keyword = False\n",
    "    \n",
    "    for q in query_terms:\n",
    "        if q not in stop:\n",
    "            keyword = True\n",
    "            if response.lower().find(q) == -1:\n",
    "                return 0\n",
    "    \n",
    "    if keyword == False:\n",
    "        return 0\n",
    "    else:\n",
    "        return 1\n",
    "    \n",
    "is_query_in_response = crowd_train.apply(query_terms_in_results, axis=1)"
   ]
  },
  {
   "cell_type": "code",
   "execution_count": 179,
   "metadata": {
    "collapsed": false
   },
   "outputs": [],
   "source": [
    "feature_query_in_response = pd.DataFrame({'is_query_in_response': is_query_in_response,\n",
    "              'median_relevance': crowd_train.median_relevance})"
   ]
  },
  {
   "cell_type": "code",
   "execution_count": 180,
   "metadata": {
    "collapsed": false
   },
   "outputs": [
    {
     "data": {
      "text/html": [
       "<div style=\"max-height:1000px;max-width:1500px;overflow:auto;\">\n",
       "<table border=\"1\" class=\"dataframe\">\n",
       "  <thead>\n",
       "    <tr style=\"text-align: right;\">\n",
       "      <th></th>\n",
       "      <th>is_query_in_response</th>\n",
       "      <th>median_relevance</th>\n",
       "    </tr>\n",
       "  </thead>\n",
       "  <tbody>\n",
       "    <tr>\n",
       "      <th>is_query_in_response</th>\n",
       "      <td> 1.00000</td>\n",
       "      <td> 0.34641</td>\n",
       "    </tr>\n",
       "    <tr>\n",
       "      <th>median_relevance</th>\n",
       "      <td> 0.34641</td>\n",
       "      <td> 1.00000</td>\n",
       "    </tr>\n",
       "  </tbody>\n",
       "</table>\n",
       "</div>"
      ],
      "text/plain": [
       "                      is_query_in_response  median_relevance\n",
       "is_query_in_response               1.00000           0.34641\n",
       "median_relevance                   0.34641           1.00000"
      ]
     },
     "execution_count": 180,
     "metadata": {},
     "output_type": "execute_result"
    }
   ],
   "source": [
    "feature_query_in_response.corr()"
   ]
  },
  {
   "cell_type": "code",
   "execution_count": 154,
   "metadata": {
    "collapsed": false
   },
   "outputs": [
    {
     "data": {
      "text/plain": [
       "is_query_in_response  median_relevance\n",
       "0                     1                    614\n",
       "                      2                    882\n",
       "                      3                    780\n",
       "                      4                   1633\n",
       "1                     1                    160\n",
       "                      2                    594\n",
       "                      3                    957\n",
       "                      4                   4538\n",
       "dtype: int64"
      ]
     },
     "execution_count": 154,
     "metadata": {},
     "output_type": "execute_result"
    }
   ],
   "source": [
    "feature_query_in_response.groupby(['is_query_in_response', 'median_relevance']).size()"
   ]
  },
  {
   "cell_type": "code",
   "execution_count": 148,
   "metadata": {
    "collapsed": true
   },
   "outputs": [],
   "source": [
    "# lets find out how many query terms found in response\n",
    "def count_query_terms_in_response(train):\n",
    "    query_terms = train['query'].split(' ')\n",
    "    response = train['product_title'] + ' ' + train['product_description']\n",
    "    \n",
    "    count = 0\n",
    "    for q in query_terms:\n",
    "        if response.lower().find(q) != -1:\n",
    "            count += 1\n",
    "    return count\n",
    "\n",
    "num_query_terms_in_response = crowd_train.apply(count_query_terms_in_response, axis=1)"
   ]
  },
  {
   "cell_type": "code",
   "execution_count": 149,
   "metadata": {
    "collapsed": false
   },
   "outputs": [],
   "source": [
    "feature_num_query_in_response = pd.DataFrame({'num_query_in_response': num_query_terms_in_response,\n",
    "              'median_relevance': crowd_train.median_relevance})"
   ]
  },
  {
   "cell_type": "code",
   "execution_count": 150,
   "metadata": {
    "collapsed": false
   },
   "outputs": [
    {
     "data": {
      "text/html": [
       "<div style=\"max-height:1000px;max-width:1500px;overflow:auto;\">\n",
       "<table border=\"1\" class=\"dataframe\">\n",
       "  <thead>\n",
       "    <tr style=\"text-align: right;\">\n",
       "      <th></th>\n",
       "      <th>median_relevance</th>\n",
       "      <th>num_query_in_response</th>\n",
       "    </tr>\n",
       "  </thead>\n",
       "  <tbody>\n",
       "    <tr>\n",
       "      <th>median_relevance</th>\n",
       "      <td> 1.000000</td>\n",
       "      <td> 0.250085</td>\n",
       "    </tr>\n",
       "    <tr>\n",
       "      <th>num_query_in_response</th>\n",
       "      <td> 0.250085</td>\n",
       "      <td> 1.000000</td>\n",
       "    </tr>\n",
       "  </tbody>\n",
       "</table>\n",
       "</div>"
      ],
      "text/plain": [
       "                       median_relevance  num_query_in_response\n",
       "median_relevance               1.000000               0.250085\n",
       "num_query_in_response          0.250085               1.000000"
      ]
     },
     "execution_count": 150,
     "metadata": {},
     "output_type": "execute_result"
    }
   ],
   "source": [
    "feature_num_query_in_response.corr()"
   ]
  },
  {
   "cell_type": "code",
   "execution_count": 156,
   "metadata": {
    "collapsed": false
   },
   "outputs": [
    {
     "data": {
      "text/plain": [
       "num_query_in_response  median_relevance\n",
       "0                      1                    176\n",
       "                       2                    148\n",
       "                       3                    129\n",
       "                       4                    210\n",
       "1                      1                    323\n",
       "                       2                    495\n",
       "                       3                    512\n",
       "                       4                   1295\n",
       "2                      1                    232\n",
       "                       2                    598\n",
       "                       3                    711\n",
       "                       4                   3144\n",
       "3                      1                     37\n",
       "                       2                    190\n",
       "                       3                    304\n",
       "                       4                   1076\n",
       "4                      1                      6\n",
       "                       2                     40\n",
       "                       3                     72\n",
       "                       4                    408\n",
       "5                      2                      4\n",
       "                       3                      4\n",
       "                       4                     15\n",
       "6                      2                      1\n",
       "                       3                      5\n",
       "                       4                     23\n",
       "dtype: int64"
      ]
     },
     "execution_count": 156,
     "metadata": {},
     "output_type": "execute_result"
    }
   ],
   "source": [
    "feature_num_query_in_response.groupby(['num_query_in_response', 'median_relevance']).size()"
   ]
  },
  {
   "cell_type": "code",
   "execution_count": 169,
   "metadata": {
    "collapsed": false
   },
   "outputs": [],
   "source": [
    "# lexical diversity\n",
    "def word_diversity(train):\n",
    "    response = train['product_title'] + ' ' + train['product_description']\n",
    "    vocabulary = list(set([x.lower() for x in response.split(' ')]))\n",
    "    \n",
    "    return (len(vocabulary) * 1.) / len(response.split(' '))\n",
    "\n",
    "word_diversity = crowd_train.apply(word_diversity, axis=1)"
   ]
  },
  {
   "cell_type": "code",
   "execution_count": 172,
   "metadata": {
    "collapsed": false
   },
   "outputs": [],
   "source": [
    "feature_word_diversity = pd.DataFrame({'word_diversity': word_diversity,\n",
    "                                       'median_relevance': crowd_train.median_relevance})"
   ]
  },
  {
   "cell_type": "code",
   "execution_count": 173,
   "metadata": {
    "collapsed": false
   },
   "outputs": [
    {
     "data": {
      "text/html": [
       "<div style=\"max-height:1000px;max-width:1500px;overflow:auto;\">\n",
       "<table border=\"1\" class=\"dataframe\">\n",
       "  <thead>\n",
       "    <tr style=\"text-align: right;\">\n",
       "      <th></th>\n",
       "      <th>median_relevance</th>\n",
       "      <th>word_diversity</th>\n",
       "    </tr>\n",
       "  </thead>\n",
       "  <tbody>\n",
       "    <tr>\n",
       "      <th>median_relevance</th>\n",
       "      <td> 1.000000</td>\n",
       "      <td> 0.026877</td>\n",
       "    </tr>\n",
       "    <tr>\n",
       "      <th>word_diversity</th>\n",
       "      <td> 0.026877</td>\n",
       "      <td> 1.000000</td>\n",
       "    </tr>\n",
       "  </tbody>\n",
       "</table>\n",
       "</div>"
      ],
      "text/plain": [
       "                  median_relevance  word_diversity\n",
       "median_relevance          1.000000        0.026877\n",
       "word_diversity            0.026877        1.000000"
      ]
     },
     "execution_count": 173,
     "metadata": {},
     "output_type": "execute_result"
    }
   ],
   "source": [
    "feature_word_diversity.corr()"
   ]
  },
  {
   "cell_type": "code",
   "execution_count": 174,
   "metadata": {
    "collapsed": true
   },
   "outputs": [],
   "source": [
    "# how big the response is\n",
    "def response_length(train):\n",
    "    response = train['product_title'] + ' ' + train['product_description']\n",
    "    return len(response.split(' '))\n",
    "\n",
    "query_response_length = crowd_train.apply(response_length, axis=1)"
   ]
  },
  {
   "cell_type": "code",
   "execution_count": 175,
   "metadata": {
    "collapsed": true
   },
   "outputs": [],
   "source": [
    "feature_response_length = pd.DataFrame({'response_length': query_response_length,\n",
    "                                        'median_relevance': crowd_train.median_relevance})"
   ]
  },
  {
   "cell_type": "code",
   "execution_count": 176,
   "metadata": {
    "collapsed": false
   },
   "outputs": [
    {
     "data": {
      "text/html": [
       "<div style=\"max-height:1000px;max-width:1500px;overflow:auto;\">\n",
       "<table border=\"1\" class=\"dataframe\">\n",
       "  <thead>\n",
       "    <tr style=\"text-align: right;\">\n",
       "      <th></th>\n",
       "      <th>median_relevance</th>\n",
       "      <th>response_length</th>\n",
       "    </tr>\n",
       "  </thead>\n",
       "  <tbody>\n",
       "    <tr>\n",
       "      <th>median_relevance</th>\n",
       "      <td> 1.000000</td>\n",
       "      <td>-0.022693</td>\n",
       "    </tr>\n",
       "    <tr>\n",
       "      <th>response_length</th>\n",
       "      <td>-0.022693</td>\n",
       "      <td> 1.000000</td>\n",
       "    </tr>\n",
       "  </tbody>\n",
       "</table>\n",
       "</div>"
      ],
      "text/plain": [
       "                  median_relevance  response_length\n",
       "median_relevance          1.000000        -0.022693\n",
       "response_length          -0.022693         1.000000"
      ]
     },
     "execution_count": 176,
     "metadata": {},
     "output_type": "execute_result"
    }
   ],
   "source": [
    "feature_response_length.corr()"
   ]
  },
  {
   "cell_type": "markdown",
   "metadata": {},
   "source": [
    "### Stacked model with handcrafted features"
   ]
  },
  {
   "cell_type": "code",
   "execution_count": 90,
   "metadata": {
    "collapsed": false
   },
   "outputs": [],
   "source": [
    "%run query_features.py"
   ]
  },
  {
   "cell_type": "code",
   "execution_count": 91,
   "metadata": {
    "collapsed": false
   },
   "outputs": [],
   "source": [
    "svd = TruncatedSVD(n_components=200, algorithm='randomized', n_iter=5, random_state=None, tol=0.0)\n",
    "\n",
    "scl = StandardScaler(copy=True, with_mean=True, with_std=True)\n",
    "\n",
    "clf = SVC(C=10.0, kernel='rbf', degree=3, \n",
    "        gamma=0.0, coef0=0.0, shrinking=True, probability=False, \n",
    "        tol=0.001, cache_size=200, class_weight=None, \n",
    "        verbose=False, max_iter=-1, random_state=None)\n",
    "\n",
    "# keywords = keyword_counter(crowd_train.iloc[train_index])\n",
    "keywords = keyword_counter(crowd_train)"
   ]
  },
  {
   "cell_type": "code",
   "execution_count": 92,
   "metadata": {
    "collapsed": false
   },
   "outputs": [],
   "source": [
    "features = stack([keywords, Xfitted])"
   ]
  },
  {
   "cell_type": "code",
   "execution_count": 93,
   "metadata": {
    "collapsed": true
   },
   "outputs": [],
   "source": [
    "from sklearn.pipeline import Pipeline"
   ]
  },
  {
   "cell_type": "code",
   "execution_count": 94,
   "metadata": {
    "collapsed": false
   },
   "outputs": [],
   "source": [
    "pipeline = Pipeline([('svd', svd), ('scl', scl), ('clf', clf)])"
   ]
  },
  {
   "cell_type": "code",
   "execution_count": 95,
   "metadata": {
    "collapsed": false
   },
   "outputs": [
    {
     "data": {
      "text/plain": [
       "Pipeline(steps=[('svd', TruncatedSVD(algorithm='randomized', n_components=200, n_iter=5,\n",
       "       random_state=None, tol=0.0)), ('scl', StandardScaler(copy=True, with_mean=True, with_std=True)), ('clf', SVC(C=10.0, cache_size=200, class_weight=None, coef0=0.0, degree=3, gamma=0.0,\n",
       "  kernel='rbf', max_iter=-1, probability=False, random_state=None,\n",
       "  shrinking=True, tol=0.001, verbose=False))])"
      ]
     },
     "execution_count": 95,
     "metadata": {},
     "output_type": "execute_result"
    }
   ],
   "source": [
    "pipeline.fit(features, y)"
   ]
  },
  {
   "cell_type": "code",
   "execution_count": 96,
   "metadata": {
    "collapsed": true
   },
   "outputs": [],
   "source": [
    "# keywords_test = keyword_counter(crowd_train.iloc[test_index])\n",
    "keywords_test = keyword_counter(crowd_test)"
   ]
  },
  {
   "cell_type": "code",
   "execution_count": 97,
   "metadata": {
    "collapsed": true
   },
   "outputs": [],
   "source": [
    "Xtest = tfv.transform(Xv)"
   ]
  },
  {
   "cell_type": "code",
   "execution_count": 98,
   "metadata": {
    "collapsed": false
   },
   "outputs": [],
   "source": [
    "features_test = stack([keywords_test, Xtest])"
   ]
  },
  {
   "cell_type": "code",
   "execution_count": 99,
   "metadata": {
    "collapsed": false
   },
   "outputs": [],
   "source": [
    "preds_new_model = pipeline.predict(features_test)"
   ]
  },
  {
   "cell_type": "code",
   "execution_count": 72,
   "metadata": {
    "collapsed": false
   },
   "outputs": [
    {
     "name": "stdout",
     "output_type": "stream",
     "text": [
      "Kappa score on validation set 0.6011 \n"
     ]
    }
   ],
   "source": [
    "#print 'Kappa score on validation set %0.4f ' %(quadratic_weighted_kappa(yv, preds_new_model))"
   ]
  },
  {
   "cell_type": "markdown",
   "metadata": {},
   "source": [
    "### Load out best prediction thus far"
   ]
  },
  {
   "cell_type": "code",
   "execution_count": 100,
   "metadata": {
    "collapsed": true
   },
   "outputs": [],
   "source": [
    "best_score_df = pd.read_csv('./submissions/best_score.csv')"
   ]
  },
  {
   "cell_type": "code",
   "execution_count": 101,
   "metadata": {
    "collapsed": true
   },
   "outputs": [],
   "source": [
    "best_score = best_score_df.prediction"
   ]
  },
  {
   "cell_type": "code",
   "execution_count": 102,
   "metadata": {
    "collapsed": true
   },
   "outputs": [],
   "source": [
    "ensemble = (preds_new_model + best_score) / 2\n",
    "ensemble_int = [int(score) for score in ensemble]"
   ]
  },
  {
   "cell_type": "code",
   "execution_count": 104,
   "metadata": {
    "collapsed": true
   },
   "outputs": [],
   "source": [
    "make_submission(crowd_test.id.values.astype(int), ensemble_int, 'addtitional_features_500.csv')"
   ]
  },
  {
   "cell_type": "code",
   "execution_count": null,
   "metadata": {
    "collapsed": true
   },
   "outputs": [],
   "source": []
  },
  {
   "cell_type": "code",
   "execution_count": null,
   "metadata": {
    "collapsed": true
   },
   "outputs": [],
   "source": []
  }
 ],
 "metadata": {
  "kernelspec": {
   "display_name": "Python 2",
   "language": "python",
   "name": "python2"
  },
  "language_info": {
   "codemirror_mode": {
    "name": "ipython",
    "version": 2
   },
   "file_extension": ".py",
   "mimetype": "text/x-python",
   "name": "python",
   "nbconvert_exporter": "python",
   "pygments_lexer": "ipython2",
   "version": "2.7.10"
  }
 },
 "nbformat": 4,
 "nbformat_minor": 0
}
