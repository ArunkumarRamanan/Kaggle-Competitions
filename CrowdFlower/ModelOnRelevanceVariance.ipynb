{
 "cells": [
  {
   "cell_type": "code",
   "execution_count": 1,
   "metadata": {
    "collapsed": true
   },
   "outputs": [],
   "source": [
    "import warnings\n",
    "warnings.filterwarnings('ignore')\n",
    "from sklearn.pipeline import Pipeline"
   ]
  },
  {
   "cell_type": "code",
   "execution_count": 2,
   "metadata": {
    "collapsed": true
   },
   "outputs": [],
   "source": [
    "%run query_features.py\n",
    "%run scripts/helper.py\n",
    "%run scripts/model_train_plus_test.py"
   ]
  },
  {
   "cell_type": "code",
   "execution_count": 3,
   "metadata": {
    "collapsed": true
   },
   "outputs": [],
   "source": [
    "crowd_train = load_file('./data/train.csv/train.csv', None)\n",
    "crowd_test = load_file('./data/test.csv/test.csv', None)"
   ]
  },
  {
   "cell_type": "code",
   "execution_count": 4,
   "metadata": {
    "collapsed": true
   },
   "outputs": [],
   "source": [
    "def get_stable_data():\n",
    "    return crowd_train[crowd_train.relevance_variance < 0.5]\n",
    "\n",
    "def get_unstable_data():\n",
    "    return crowd_train[crowd_train.relevance_variance >= 0.5]"
   ]
  },
  {
   "cell_type": "code",
   "execution_count": 5,
   "metadata": {
    "collapsed": true
   },
   "outputs": [],
   "source": [
    "def get_stable_data_targets():\n",
    "    return crowd_train[crowd_train.relevance_variance < 0.5].median_relevance\n",
    "\n",
    "def get_unstable_data_targets():\n",
    "    return crowd_train[crowd_train.relevance_variance >= 0.5].median_relevance"
   ]
  },
  {
   "cell_type": "code",
   "execution_count": 6,
   "metadata": {
    "collapsed": true
   },
   "outputs": [],
   "source": [
    "def shuffle_split_indices(target, train_size):\n",
    "    return ssSplit(target, train_size=train_size, random_state=44)"
   ]
  },
  {
   "cell_type": "code",
   "execution_count": 29,
   "metadata": {
    "collapsed": true
   },
   "outputs": [],
   "source": [
    "def get_train_test(shuffle_split=False, stable=True):\n",
    "    if shuffle_split:\n",
    "        if stable:\n",
    "            stable_data = get_stable_data()\n",
    "            stable_target = get_stable_data_targets()\n",
    "            train_index, test_index = shuffle_split_indices(stable_target, 500)\n",
    "            \n",
    "            Xt = stable_data.iloc[train_index]\n",
    "            yt = stable_target[train_index]\n",
    "            \n",
    "            Xv = stable_data.iloc[test_index]\n",
    "            yv = stable_target[test_index]\n",
    "            \n",
    "            return [(Xt, yt), (Xv, yv)]\n",
    "        else:\n",
    "            unstable_data = get_unstable_data()\n",
    "            unstable_target = get_unstable_data_targets()\n",
    "            train_index, test_index = shuffle_split_indices(unstable_target, 1000)\n",
    "            \n",
    "            Xt = unstable_data.iloc[train_index]\n",
    "            yt = unstable_target[train_index]\n",
    "            \n",
    "            Xv = unstable_data.iloc[test_index]\n",
    "            yv = unstable_target[test_index]\n",
    "            \n",
    "            \n",
    "            return [(Xt, yt), (Xv, yv)]\n",
    "    else:\n",
    "        if stable:\n",
    "            stable_data = get_stable_data()\n",
    "            stable_target = get_stable_data_targets()\n",
    "            Xt = stable_data\n",
    "            yt = stable_target\n",
    "            \n",
    "            Xv = crowd_test\n",
    "            \n",
    "            return [(Xt, yt), (Xv)]\n",
    "        else:\n",
    "            unstable_data = get_unstable_data()\n",
    "            unstable_target = get_unstable_data_targets()\n",
    "            Xt = unstable_data\n",
    "            yt = unstable_target\n",
    "            \n",
    "            Xv = crowd_test\n",
    "            \n",
    "            return [(Xt, yt), (Xv)]"
   ]
  },
  {
   "cell_type": "code",
   "execution_count": 30,
   "metadata": {
    "collapsed": true
   },
   "outputs": [],
   "source": [
    "def preprocessText(X):\n",
    "    return tweak_text(X)"
   ]
  },
  {
   "cell_type": "code",
   "execution_count": 31,
   "metadata": {
    "collapsed": true
   },
   "outputs": [],
   "source": [
    "def preprocess_data(Xt, Xv):\n",
    "    return (preprocessText(Xt), preprocessText(Xv))"
   ]
  },
  {
   "cell_type": "code",
   "execution_count": 32,
   "metadata": {
    "collapsed": true
   },
   "outputs": [],
   "source": [
    "def bag_of_words(X):\n",
    "    Xfitted, tfv = TFIDF(X, None)\n",
    "    return (Xfitted, tfv)"
   ]
  },
  {
   "cell_type": "code",
   "execution_count": 33,
   "metadata": {
    "collapsed": true
   },
   "outputs": [],
   "source": [
    "def fit_model(Xt, yt, Xt_fitted):\n",
    "    svd = TruncatedSVD(n_components=200, algorithm='randomized', n_iter=5, random_state=None, tol=0.0)\n",
    "    scl = StandardScaler(copy=True, with_mean=True, with_std=True)\n",
    "    clf = SVC(C=10.0, kernel='rbf', degree=3, \n",
    "            gamma=0.0, coef0=0.0, shrinking=True, probability=False, \n",
    "            tol=0.001, cache_size=200, class_weight=None, \n",
    "            verbose=False, max_iter=-1, random_state=None)\n",
    "\n",
    "    keywords = keyword_counter(Xt)\n",
    "    features = stack([keywords, Xt_fitted])\n",
    "    pipeline = Pipeline([('svd', svd), ('scl', scl), ('clf', clf)])\n",
    "    pipeline.fit(features, yt)\n",
    "    \n",
    "    return pipeline"
   ]
  },
  {
   "cell_type": "code",
   "execution_count": 34,
   "metadata": {
    "collapsed": true
   },
   "outputs": [],
   "source": [
    "def predict_model(Xv, Xv_tweaked, tfv, pipeline):\n",
    "    keywords_test = keyword_counter(Xv)\n",
    "    Xtest = tfv.transform(Xv_tweaked)\n",
    "    features_test = stack([keywords_test, Xtest])\n",
    "    preds_new_model = pipeline.predict(features_test)\n",
    "    \n",
    "    return preds_new_model"
   ]
  },
  {
   "cell_type": "code",
   "execution_count": 47,
   "metadata": {
    "collapsed": true
   },
   "outputs": [],
   "source": [
    "def model_preparation(shuffle, stable):\n",
    "    if shuffle:\n",
    "        (Xt, yt), (Xv, yv) = get_train_test(shuffle, stable)\n",
    "    else:\n",
    "        (Xt, yt), (Xv) = get_train_test(shuffle, stable)\n",
    "    \n",
    "    Xt_processed, Xv_processed = preprocess_data(Xt, Xv)\n",
    "    \n",
    "    print 'Length of the training set %d and test set %d ' %(len(Xt_processed), len(Xv_processed))\n",
    "    \n",
    "    Xt_fitted, tfv = bag_of_words(Xt_processed)\n",
    "    model = fit_model(Xt, yt, Xt_fitted)\n",
    "    \n",
    "    model_predictions = predict_model(Xv, Xv_processed, tfv, model)\n",
    "    \n",
    "    if shuffle:\n",
    "        return (model_predictions, yv)\n",
    "    else:\n",
    "        return (model_predictions)"
   ]
  },
  {
   "cell_type": "code",
   "execution_count": 49,
   "metadata": {
    "collapsed": false
   },
   "outputs": [
    {
     "name": "stdout",
     "output_type": "stream",
     "text": [
      "Length of the training set 500 and test set 780 \n"
     ]
    }
   ],
   "source": [
    "shuffle_stable_predictions, yv = model_preparation(True, True)"
   ]
  },
  {
   "cell_type": "code",
   "execution_count": 51,
   "metadata": {
    "collapsed": false
   },
   "outputs": [
    {
     "data": {
      "text/plain": [
       "array([  4.,   1.,   4.,   4.,   4.,   3.,   4.,   2.,   1.,   4.,   4.,\n",
       "         4.,   2.,   4.,   4.,   4.,   4.,   4.,   2.,   2.,   2.,   2.,\n",
       "         4.,  nan,   4.,   4.,   4.,   4.,   4.,   3.,   3.,   4.,   2.,\n",
       "         4.,   4.,   4.,   4.,   3.,   4.,   4.,   4.,   1.,   2.,   4.,\n",
       "         4.,   4.,   4.,  nan,   4.,   4.,   4.,   4.,   4.,   4.,   4.,\n",
       "         3.,   4.,   2.,   4.,   4.,   3.,   4.,   4.,   4.,   4.,   4.,\n",
       "         4.,   2.,   4.,   1.,   1.,   4.,   4.,   4.,   2.,   4.,  nan,\n",
       "         4.,   4.,   4.,   4.,   4.,   4.,   4.,   2.,   3.,   4.,   1.,\n",
       "         1.,   2.,   4.,   4.,   4.,  nan,   4.,   4.,   4.,   4.,   4.,\n",
       "        nan,  nan,   4.,   4.,   2.,   3.,   4.,   4.,   4.,   4.,   4.,\n",
       "         4.,   2.,  nan,   2.,   4.,   4.,   2.,  nan,  nan,   4.,   2.,\n",
       "         4.,   4.,   4.,   3.,   2.,   1.,   1.,   3.,   4.,   4.,   4.,\n",
       "         1.,   4.,   4.,   4.,   4.,   4.,   4.,   4.,   4.,  nan,   4.,\n",
       "         4.,   4.,   4.,   4.,   4.,   4.,  nan,   2.,   4.,   4.,   3.,\n",
       "         2.,  nan,   4.,   4.,  nan,   4.,  nan,   4.,   2.,   4.,   4.,\n",
       "         4.,   4.,   4.,   4.,   4.,   4.,   1.,   4.,   4.,   4.,   4.,\n",
       "         1.,   4.,   4.,   4.,   4.,   4.,   2.,   4.,   4.,   4.,   4.,\n",
       "         4.,   4.,   4.,   4.,   4.,   1.,   4.,   4.,   4.,   4.,   4.,\n",
       "         1.,   4.,   4.,   4.,   4.,   4.,   2.,   4.,   3.,   4.,   4.,\n",
       "         4.,   4.,  nan,   4.,   4.,   4.,   1.,   4.,   4.,   4.,   4.,\n",
       "         2.,   4.,   4.,   4.,   4.,   4.,  nan,   4.,   4.,   4.,   2.,\n",
       "         4.,   4.,   4.,   4.,   2.,   2.,   4.,   3.,   2.,   4.,   4.,\n",
       "         4.,  nan,   3.,   4.,   4.,   4.,   3.,   2.,   3.,   4.,   4.,\n",
       "         2.,   4.,   4.,   3.,   4.,   1.,   4.,   4.,   4.,   2.,   4.,\n",
       "         4.,   4.,   1.,  nan,   4.,   2.,   4.,   4.,   4.,   4.,  nan,\n",
       "         3.,   4.,   1.,   4.,   4.,   4.,   2.,   4.,   4.,   4.,   4.,\n",
       "        nan,   3.,   4.,   2.,   4.,   1.,   4.,   4.,   4.,   4.,   4.,\n",
       "         4.,   4.,   4.,   4.,   2.,   4.,   4.,   4.,   4.,   4.,   4.,\n",
       "         2.,   2.,   2.,   4.,   3.,   4.,   4.,   4.,   4.,   2.,   4.,\n",
       "         4.,   4.,   4.,   2.,   4.,   4.,   4.,  nan,   4.,   4.,   4.,\n",
       "         4.,   4.,   4.,  nan,   1.,   1.,   2.,   4.,   4.,   4.,   2.,\n",
       "         4.,   4.,   4.,   4.,   4.,   4.,  nan,   1.,  nan,   4.,   4.,\n",
       "         4.,   2.,   4.,   4.,   4.,   2.,   1.,   3.,   4.,   4.,   4.,\n",
       "        nan,   4.,   2.,   4.,   2.,   2.,   4.,   2.,   4.,   4.,   4.,\n",
       "        nan,   4.,   4.,   4.,   4.,   4.,   2.,   4.,   4.,   4.,   4.,\n",
       "         1.,   4.,   3.,   1.,   4.,   4.,   2.,   4.,   4.,   1.,   4.,\n",
       "         4.,   4.,   2.,   4.,   4.,   4.,   4.,   1.,  nan,   4.,   4.,\n",
       "         4.,   1.,   4.,   4.,   4.,   4.,   4.,   4.,   4.,   4.,   4.,\n",
       "         4.,   4.,   3.,   4.,  nan,   4.,   4.,   4.,   4.,  nan,   2.,\n",
       "         2.,   4.,   4.,   4.,  nan,   4.,   4.,   4.,   3.,   4.,   4.,\n",
       "         2.,   3.,  nan,   4.,   4.,   4.,   4.,   4.,   3.,   4.,   4.,\n",
       "         4.,   4.,   4.,   4.,   1.,   4.,   2.,   4.,   4.,   2.,   4.,\n",
       "         4.,  nan,   4.,   4.,   1.,   4.,   2.,   4.,   4.,   2.,   4.,\n",
       "         3.,   4.,   4.,   1.,  nan,   4.,   4.,   4.,   4.,   4.,   4.,\n",
       "         4.,   4.,   4.,   4.,   4.,   4.,   4.,   4.,   4.,   4.,   2.,\n",
       "        nan,   4.,   4.,   4.,   4.,   4.,   4.,   1.,  nan,   4.,  nan,\n",
       "         1.,   4.,   4.,  nan,   2.,   4.,   1.,   4.,   1.,   4.,   4.,\n",
       "         3.,   4.,   4.,   2.,   4.,   4.,   1.,  nan,   4.,   4.,   4.,\n",
       "         4.,   4.,   3.,  nan,   4.,   4.,   4.,   4.,   4.,   2.,   4.,\n",
       "         4.,   4.,   4.,   4.,   3.,   4.,   4.,   4.,   4.,   4.,   4.,\n",
       "         2.,   3.,   4.,   4.,   2.,   3.,   2.,   1.,   4.,  nan,   4.,\n",
       "         1.,   4.,   4.,   4.,   4.,   4.,   4.,   4.,   2.,   4.,   2.,\n",
       "         2.,   4.,   3.,   4.,   4.,   4.,   4.,   4.,   4.,   4.,   3.,\n",
       "         4.,   4.,   4.,   2.,   2.,   4.,   4.,   4.,   3.,   4.,   2.,\n",
       "         4.,   4.,   4.,   4.,   4.,   4.,   4.,   4.,  nan,   1.,   1.,\n",
       "         4.,   4.,   4.,   1.,   4.,   2.,   4.,   3.,   4.,   4.,   4.,\n",
       "        nan,   4.,   3.,  nan,   4.,   4.,   4.,   4.,   4.,   4.,   4.,\n",
       "         4.,   4.,  nan,  nan,   4.,   2.,   2.,   4.,   4.,   4.,   4.,\n",
       "         1.,   4.,   4.,   4.,   4.,   4.,   4.,   4.,   4.,   3.,   4.,\n",
       "         4.,   4.,   4.,   4.,   4.,   4.,   4.,   4.,   4.,   4.,   3.,\n",
       "         4.,   2.,   4.,   4.,   4.,   4.,   4.,   4.,   4.,  nan,   4.,\n",
       "         3.,   4.,   4.,   4.,   1.,   1.,   4.,   4.,   4.,   3.,   4.,\n",
       "         4.,   4.,   4.,   4.,   4.,  nan,   4.,   4.,   4.,   4.,  nan,\n",
       "         4.,   4.,   4.,   4.,   4.,   2.,   4.,   4.,   4.,   4.,   4.,\n",
       "        nan,   4.,   4.,   4.,   4.,   2.,   4.,   4.,   4.,   3.,   4.,\n",
       "         1.,   4.,   4.,   1.,   4.,   4.,   2.,   1.,   3.,   4.,  nan,\n",
       "         4.,   4.,   4.,   4.,   4.,   4.,   3.,  nan,   4.,   4.,   4.,\n",
       "         4.,   4.,   4.,   2.,   4.,   4.,   3.,   3.,   3.,   4.,   1.,\n",
       "         3.,   2.,   4.,   4.,   4.,   4.,   4.,   4.,   4.,   4.,   1.,\n",
       "         4.,   4.,   4.,   2.,   4.,   4.,   4.,   4.,   4.,   4.,   4.,\n",
       "         4.,   4.,   4.,   1.,   4.,  nan,   4.,  nan,   4.,   4.])"
      ]
     },
     "execution_count": 51,
     "metadata": {},
     "output_type": "execute_result"
    }
   ],
   "source": [
    "shuffle_stable_predictions"
   ]
  },
  {
   "cell_type": "code",
   "execution_count": null,
   "metadata": {
    "collapsed": true
   },
   "outputs": [],
   "source": [
    "print quadratic_weighted_kappa(get)"
   ]
  },
  {
   "cell_type": "code",
   "execution_count": null,
   "metadata": {
    "collapsed": true
   },
   "outputs": [],
   "source": []
  },
  {
   "cell_type": "code",
   "execution_count": null,
   "metadata": {
    "collapsed": true
   },
   "outputs": [],
   "source": []
  }
 ],
 "metadata": {
  "kernelspec": {
   "display_name": "Python 2",
   "language": "python",
   "name": "python2"
  },
  "language_info": {
   "codemirror_mode": {
    "name": "ipython",
    "version": 2
   },
   "file_extension": ".py",
   "mimetype": "text/x-python",
   "name": "python",
   "nbconvert_exporter": "python",
   "pygments_lexer": "ipython2",
   "version": "2.7.6"
  }
 },
 "nbformat": 4,
 "nbformat_minor": 0
}
