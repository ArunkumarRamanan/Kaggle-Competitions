{
 "cells": [
  {
   "cell_type": "code",
   "execution_count": 1,
   "metadata": {
    "collapsed": true
   },
   "outputs": [],
   "source": [
    "import numpy as np\n",
    "import pandas as pd\n",
    "import seaborn as sns\n",
    "import matplotlib.pyplot as plt\n",
    "%matplotlib inline"
   ]
  },
  {
   "cell_type": "code",
   "execution_count": 2,
   "metadata": {
    "collapsed": true
   },
   "outputs": [],
   "source": [
    "%run scripts/helper.py"
   ]
  },
  {
   "cell_type": "code",
   "execution_count": 3,
   "metadata": {
    "collapsed": true
   },
   "outputs": [],
   "source": [
    "crowd_train = load_file('./data/train.csv/train.csv', index_col='id')\n",
    "crowd_test = load_file('./data/test.csv/test.csv', index_col='id')"
   ]
  },
  {
   "cell_type": "code",
   "execution_count": 4,
   "metadata": {
    "collapsed": true
   },
   "outputs": [],
   "source": [
    "traindata = prepareText(crowd_train)\n",
    "testdata = prepareText(crowd_test)"
   ]
  },
  {
   "cell_type": "code",
   "execution_count": 5,
   "metadata": {
    "collapsed": true
   },
   "outputs": [],
   "source": [
    "y = getTargetVariable(crowd_train)"
   ]
  },
  {
   "cell_type": "code",
   "execution_count": 6,
   "metadata": {
    "collapsed": true
   },
   "outputs": [],
   "source": [
    "from sklearn.metrics import make_scorer\n",
    "\n",
    "# Weighted kappa scorer\n",
    "kappa_scorer = make_scorer(quadratic_weighted_kappa, greater_is_better=True)"
   ]
  },
  {
   "cell_type": "code",
   "execution_count": 8,
   "metadata": {
    "collapsed": true
   },
   "outputs": [],
   "source": [
    "from sklearn.feature_extraction.text import TfidfVectorizer"
   ]
  },
  {
   "cell_type": "code",
   "execution_count": 9,
   "metadata": {
    "collapsed": true
   },
   "outputs": [],
   "source": [
    "from sklearn.pipeline import Pipeline\n",
    "from sklearn.naive_bayes import MultinomialNB\n",
    "\n",
    "pipeline = Pipeline((\n",
    "    ('vec', TfidfVectorizer(min_df=3, max_features=None,\n",
    "                     strip_accents='unicode', analyzer='word',token_pattern=r'\\w{1,}',\n",
    "                     ngram_range=(1, 2), use_idf=1,smooth_idf=1,sublinear_tf=1,\n",
    "                     stop_words = 'english')),\n",
    "    ('clf', MultinomialNB())\n",
    "    ))"
   ]
  },
  {
   "cell_type": "code",
   "execution_count": 10,
   "metadata": {
    "collapsed": true
   },
   "outputs": [],
   "source": [
    "from sklearn.cross_validation import cross_val_score\n",
    "from scipy.stats import sem\n",
    "\n",
    "scores = cross_val_score(pipeline, traindata, y, cv=3, scoring=kappa_scorer, n_jobs=1)"
   ]
  },
  {
   "cell_type": "code",
   "execution_count": 11,
   "metadata": {
    "collapsed": false
   },
   "outputs": [
    {
     "data": {
      "text/plain": [
       "(0.048054550070833958, 0.0036351935006655907)"
      ]
     },
     "execution_count": 11,
     "metadata": {},
     "output_type": "execute_result"
    }
   ],
   "source": [
    "scores.mean(), sem(scores)"
   ]
  },
  {
   "cell_type": "code",
   "execution_count": 14,
   "metadata": {
    "collapsed": false
   },
   "outputs": [
    {
     "name": "stdout",
     "output_type": "stream",
     "text": [
      "Fitting 3 folds for each of 64 candidates, totalling 192 fits\n",
      "[CV] vec__max_df=0.8, vec__ngram_range=(1, 1), vec__min_df=1, vec__use_idf=True, clf__alpha=0.001 \n",
      "[CV]  vec__max_df=0.8, vec__ngram_range=(1, 1), vec__min_df=1, vec__use_idf=True, clf__alpha=0.001 -   6.1s\n",
      "[CV] vec__max_df=0.8, vec__ngram_range=(1, 1), vec__min_df=1, vec__use_idf=True, clf__alpha=0.001 \n",
      "[CV]  vec__max_df=0.8, vec__ngram_range=(1, 1), vec__min_df=1, vec__use_idf=True, clf__alpha=0.001 -   4.9s\n",
      "[CV] vec__max_df=0.8, vec__ngram_range=(1, 1), vec__min_df=1, vec__use_idf=True, clf__alpha=0.001 \n",
      "[CV]  vec__max_df=0.8, vec__ngram_range=(1, 1), vec__min_df=1, vec__use_idf=True, clf__alpha=0.001 -   4.3s\n",
      "[CV] vec__max_df=0.8, vec__ngram_range=(1, 1), vec__min_df=1, vec__use_idf=False, clf__alpha=0.001 \n",
      "[CV]  vec__max_df=0.8, vec__ngram_range=(1, 1), vec__min_df=1, vec__use_idf=False, clf__alpha=0.001 -   3.9s\n",
      "[CV] vec__max_df=0.8, vec__ngram_range=(1, 1), vec__min_df=1, vec__use_idf=False, clf__alpha=0.001 \n",
      "[CV]  vec__max_df=0.8, vec__ngram_range=(1, 1), vec__min_df=1, vec__use_idf=False, clf__alpha=0.001 -   3.8s\n",
      "[CV] vec__max_df=0.8, vec__ngram_range=(1, 1), vec__min_df=1, vec__use_idf=False, clf__alpha=0.001 \n",
      "[CV]  vec__max_df=0.8, vec__ngram_range=(1, 1), vec__min_df=1, vec__use_idf=False, clf__alpha=0.001 -   3.7s\n",
      "[CV] vec__max_df=0.8, vec__ngram_range=(1, 2), vec__min_df=1, vec__use_idf=True, clf__alpha=0.001 \n",
      "[CV]  vec__max_df=0.8, vec__ngram_range=(1, 2), vec__min_df=1, vec__use_idf=True, clf__alpha=0.001 -   7.5s\n",
      "[CV] vec__max_df=0.8, vec__ngram_range=(1, 2), vec__min_df=1, vec__use_idf=True, clf__alpha=0.001 \n",
      "[CV]  vec__max_df=0.8, vec__ngram_range=(1, 2), vec__min_df=1, vec__use_idf=True, clf__alpha=0.001 -   7.7s\n",
      "[CV] vec__max_df=0.8, vec__ngram_range=(1, 2), vec__min_df=1, vec__use_idf=True, clf__alpha=0.001 \n",
      "[CV]  vec__max_df=0.8, vec__ngram_range=(1, 2), vec__min_df=1, vec__use_idf=True, clf__alpha=0.001 -   8.1s\n",
      "[CV] vec__max_df=0.8, vec__ngram_range=(1, 2), vec__min_df=1, vec__use_idf=False, clf__alpha=0.001 \n",
      "[CV]  vec__max_df=0.8, vec__ngram_range=(1, 2), vec__min_df=1, vec__use_idf=False, clf__alpha=0.001 -   7.8s\n",
      "[CV] vec__max_df=0.8, vec__ngram_range=(1, 2), vec__min_df=1, vec__use_idf=False, clf__alpha=0.001 \n",
      "[CV]  vec__max_df=0.8, vec__ngram_range=(1, 2), vec__min_df=1, vec__use_idf=False, clf__alpha=0.001 -   7.7s\n",
      "[CV] vec__max_df=0.8, vec__ngram_range=(1, 2), vec__min_df=1, vec__use_idf=False, clf__alpha=0.001 \n",
      "[CV]  vec__max_df=0.8, vec__ngram_range=(1, 2), vec__min_df=1, vec__use_idf=False, clf__alpha=0.001 -  11.2s\n",
      "[CV] vec__max_df=0.8, vec__ngram_range=(1, 1), vec__min_df=2, vec__use_idf=True, clf__alpha=0.001 \n",
      "[CV]  vec__max_df=0.8, vec__ngram_range=(1, 1), vec__min_df=2, vec__use_idf=True, clf__alpha=0.001 -   6.0s\n",
      "[CV] vec__max_df=0.8, vec__ngram_range=(1, 1), vec__min_df=2, vec__use_idf=True, clf__alpha=0.001 \n",
      "[CV]  vec__max_df=0.8, vec__ngram_range=(1, 1), vec__min_df=2, vec__use_idf=True, clf__alpha=0.001 -   6.4s\n",
      "[CV] vec__max_df=0.8, vec__ngram_range=(1, 1), vec__min_df=2, vec__use_idf=True, clf__alpha=0.001 \n",
      "[CV]  vec__max_df=0.8, vec__ngram_range=(1, 1), vec__min_df=2, vec__use_idf=True, clf__alpha=0.001 -   5.6s\n",
      "[CV] vec__max_df=0.8, vec__ngram_range=(1, 1), vec__min_df=2, vec__use_idf=False, clf__alpha=0.001 \n",
      "[CV]  vec__max_df=0.8, vec__ngram_range=(1, 1), vec__min_df=2, vec__use_idf=False, clf__alpha=0.001 -   4.4s\n",
      "[CV] vec__max_df=0.8, vec__ngram_range=(1, 1), vec__min_df=2, vec__use_idf=False, clf__alpha=0.001 \n",
      "[CV]  vec__max_df=0.8, vec__ngram_range=(1, 1), vec__min_df=2, vec__use_idf=False, clf__alpha=0.001 -   3.8s\n",
      "[CV] vec__max_df=0.8, vec__ngram_range=(1, 1), vec__min_df=2, vec__use_idf=False, clf__alpha=0.001 \n",
      "[CV]  vec__max_df=0.8, vec__ngram_range=(1, 1), vec__min_df=2, vec__use_idf=False, clf__alpha=0.001 -   3.8s\n",
      "[CV] vec__max_df=0.8, vec__ngram_range=(1, 2), vec__min_df=2, vec__use_idf=True, clf__alpha=0.001 \n",
      "[CV]  vec__max_df=0.8, vec__ngram_range=(1, 2), vec__min_df=2, vec__use_idf=True, clf__alpha=0.001 -   7.8s\n",
      "[CV] vec__max_df=0.8, vec__ngram_range=(1, 2), vec__min_df=2, vec__use_idf=True, clf__alpha=0.001 \n",
      "[CV]  vec__max_df=0.8, vec__ngram_range=(1, 2), vec__min_df=2, vec__use_idf=True, clf__alpha=0.001 -   7.6s\n",
      "[CV] vec__max_df=0.8, vec__ngram_range=(1, 2), vec__min_df=2, vec__use_idf=True, clf__alpha=0.001 \n",
      "[CV]  vec__max_df=0.8, vec__ngram_range=(1, 2), vec__min_df=2, vec__use_idf=True, clf__alpha=0.001 -   7.7s\n",
      "[CV] vec__max_df=0.8, vec__ngram_range=(1, 2), vec__min_df=2, vec__use_idf=False, clf__alpha=0.001 \n",
      "[CV]  vec__max_df=0.8, vec__ngram_range=(1, 2), vec__min_df=2, vec__use_idf=False, clf__alpha=0.001 -   9.7s\n",
      "[CV] vec__max_df=0.8, vec__ngram_range=(1, 2), vec__min_df=2, vec__use_idf=False, clf__alpha=0.001 \n",
      "[CV]  vec__max_df=0.8, vec__ngram_range=(1, 2), vec__min_df=2, vec__use_idf=False, clf__alpha=0.001 -   8.5s\n",
      "[CV] vec__max_df=0.8, vec__ngram_range=(1, 2), vec__min_df=2, vec__use_idf=False, clf__alpha=0.001 \n",
      "[CV]  vec__max_df=0.8, vec__ngram_range=(1, 2), vec__min_df=2, vec__use_idf=False, clf__alpha=0.001 -  12.2s\n",
      "[CV] vec__max_df=1.0, vec__ngram_range=(1, 1), vec__min_df=1, vec__use_idf=True, clf__alpha=0.001 \n",
      "[CV]  vec__max_df=1.0, vec__ngram_range=(1, 1), vec__min_df=1, vec__use_idf=True, clf__alpha=0.001 -   7.8s\n",
      "[CV] vec__max_df=1.0, vec__ngram_range=(1, 1), vec__min_df=1, vec__use_idf=True, clf__alpha=0.001 \n",
      "[CV]  vec__max_df=1.0, vec__ngram_range=(1, 1), vec__min_df=1, vec__use_idf=True, clf__alpha=0.001 -   4.7s\n",
      "[CV] vec__max_df=1.0, vec__ngram_range=(1, 1), vec__min_df=1, vec__use_idf=True, clf__alpha=0.001 \n",
      "[CV]  vec__max_df=1.0, vec__ngram_range=(1, 1), vec__min_df=1, vec__use_idf=True, clf__alpha=0.001 -   5.3s\n",
      "[CV] vec__max_df=1.0, vec__ngram_range=(1, 1), vec__min_df=1, vec__use_idf=False, clf__alpha=0.001 \n",
      "[CV]  vec__max_df=1.0, vec__ngram_range=(1, 1), vec__min_df=1, vec__use_idf=False, clf__alpha=0.001 -   6.8s\n",
      "[CV] vec__max_df=1.0, vec__ngram_range=(1, 1), vec__min_df=1, vec__use_idf=False, clf__alpha=0.001 \n",
      "[CV]  vec__max_df=1.0, vec__ngram_range=(1, 1), vec__min_df=1, vec__use_idf=False, clf__alpha=0.001 -   4.1s\n",
      "[CV] vec__max_df=1.0, vec__ngram_range=(1, 1), vec__min_df=1, vec__use_idf=False, clf__alpha=0.001 \n",
      "[CV]  vec__max_df=1.0, vec__ngram_range=(1, 1), vec__min_df=1, vec__use_idf=False, clf__alpha=0.001 -   4.0s\n",
      "[CV] vec__max_df=1.0, vec__ngram_range=(1, 2), vec__min_df=1, vec__use_idf=True, clf__alpha=0.001 \n",
      "[CV]  vec__max_df=1.0, vec__ngram_range=(1, 2), vec__min_df=1, vec__use_idf=True, clf__alpha=0.001 -   7.9s\n",
      "[CV] vec__max_df=1.0, vec__ngram_range=(1, 2), vec__min_df=1, vec__use_idf=True, clf__alpha=0.001 \n",
      "[CV]  vec__max_df=1.0, vec__ngram_range=(1, 2), vec__min_df=1, vec__use_idf=True, clf__alpha=0.001 -   7.6s\n",
      "[CV] vec__max_df=1.0, vec__ngram_range=(1, 2), vec__min_df=1, vec__use_idf=True, clf__alpha=0.001 \n",
      "[CV]  vec__max_df=1.0, vec__ngram_range=(1, 2), vec__min_df=1, vec__use_idf=True, clf__alpha=0.001 -   9.5s\n",
      "[CV] vec__max_df=1.0, vec__ngram_range=(1, 2), vec__min_df=1, vec__use_idf=False, clf__alpha=0.001 \n",
      "[CV]  vec__max_df=1.0, vec__ngram_range=(1, 2), vec__min_df=1, vec__use_idf=False, clf__alpha=0.001 -   8.3s\n",
      "[CV] vec__max_df=1.0, vec__ngram_range=(1, 2), vec__min_df=1, vec__use_idf=False, clf__alpha=0.001 \n",
      "[CV]  vec__max_df=1.0, vec__ngram_range=(1, 2), vec__min_df=1, vec__use_idf=False, clf__alpha=0.001 -   9.9s\n",
      "[CV] vec__max_df=1.0, vec__ngram_range=(1, 2), vec__min_df=1, vec__use_idf=False, clf__alpha=0.001 \n",
      "[CV]  vec__max_df=1.0, vec__ngram_range=(1, 2), vec__min_df=1, vec__use_idf=False, clf__alpha=0.001 -   7.4s\n",
      "[CV] vec__max_df=1.0, vec__ngram_range=(1, 1), vec__min_df=2, vec__use_idf=True, clf__alpha=0.001 \n",
      "[CV]  vec__max_df=1.0, vec__ngram_range=(1, 1), vec__min_df=2, vec__use_idf=True, clf__alpha=0.001 -   4.0s\n",
      "[CV] vec__max_df=1.0, vec__ngram_range=(1, 1), vec__min_df=2, vec__use_idf=True, clf__alpha=0.001 \n",
      "[CV]  vec__max_df=1.0, vec__ngram_range=(1, 1), vec__min_df=2, vec__use_idf=True, clf__alpha=0.001 -   6.9s\n",
      "[CV] vec__max_df=1.0, vec__ngram_range=(1, 1), vec__min_df=2, vec__use_idf=True, clf__alpha=0.001 \n",
      "[CV]  vec__max_df=1.0, vec__ngram_range=(1, 1), vec__min_df=2, vec__use_idf=True, clf__alpha=0.001 -   4.7s\n",
      "[CV] vec__max_df=1.0, vec__ngram_range=(1, 1), vec__min_df=2, vec__use_idf=False, clf__alpha=0.001 \n",
      "[CV]  vec__max_df=1.0, vec__ngram_range=(1, 1), vec__min_df=2, vec__use_idf=False, clf__alpha=0.001 -   3.6s\n",
      "[CV] vec__max_df=1.0, vec__ngram_range=(1, 1), vec__min_df=2, vec__use_idf=False, clf__alpha=0.001 \n",
      "[CV]  vec__max_df=1.0, vec__ngram_range=(1, 1), vec__min_df=2, vec__use_idf=False, clf__alpha=0.001 -   3.7s"
     ]
    },
    {
     "name": "stderr",
     "output_type": "stream",
     "text": [
      "[Parallel(n_jobs=1)]: Done   1 jobs       | elapsed:    6.1s\n",
      "[Parallel(n_jobs=1)]: Done  41 jobs       | elapsed:  4.5min\n"
     ]
    },
    {
     "name": "stdout",
     "output_type": "stream",
     "text": [
      "\n",
      "[CV] vec__max_df=1.0, vec__ngram_range=(1, 1), vec__min_df=2, vec__use_idf=False, clf__alpha=0.001 \n",
      "[CV]  vec__max_df=1.0, vec__ngram_range=(1, 1), vec__min_df=2, vec__use_idf=False, clf__alpha=0.001 -   3.8s\n",
      "[CV] vec__max_df=1.0, vec__ngram_range=(1, 2), vec__min_df=2, vec__use_idf=True, clf__alpha=0.001 \n",
      "[CV]  vec__max_df=1.0, vec__ngram_range=(1, 2), vec__min_df=2, vec__use_idf=True, clf__alpha=0.001 -   7.8s\n",
      "[CV] vec__max_df=1.0, vec__ngram_range=(1, 2), vec__min_df=2, vec__use_idf=True, clf__alpha=0.001 \n",
      "[CV]  vec__max_df=1.0, vec__ngram_range=(1, 2), vec__min_df=2, vec__use_idf=True, clf__alpha=0.001 -   7.3s\n",
      "[CV] vec__max_df=1.0, vec__ngram_range=(1, 2), vec__min_df=2, vec__use_idf=True, clf__alpha=0.001 \n",
      "[CV]  vec__max_df=1.0, vec__ngram_range=(1, 2), vec__min_df=2, vec__use_idf=True, clf__alpha=0.001 -   7.8s\n",
      "[CV] vec__max_df=1.0, vec__ngram_range=(1, 2), vec__min_df=2, vec__use_idf=False, clf__alpha=0.001 \n",
      "[CV]  vec__max_df=1.0, vec__ngram_range=(1, 2), vec__min_df=2, vec__use_idf=False, clf__alpha=0.001 -  10.9s\n",
      "[CV] vec__max_df=1.0, vec__ngram_range=(1, 2), vec__min_df=2, vec__use_idf=False, clf__alpha=0.001 \n",
      "[CV]  vec__max_df=1.0, vec__ngram_range=(1, 2), vec__min_df=2, vec__use_idf=False, clf__alpha=0.001 -   7.3s\n",
      "[CV] vec__max_df=1.0, vec__ngram_range=(1, 2), vec__min_df=2, vec__use_idf=False, clf__alpha=0.001 \n",
      "[CV]  vec__max_df=1.0, vec__ngram_range=(1, 2), vec__min_df=2, vec__use_idf=False, clf__alpha=0.001 -   7.5s\n",
      "[CV] vec__max_df=0.8, vec__ngram_range=(1, 1), vec__min_df=1, vec__use_idf=True, clf__alpha=0.01 \n",
      "[CV]  vec__max_df=0.8, vec__ngram_range=(1, 1), vec__min_df=1, vec__use_idf=True, clf__alpha=0.01 -   3.8s\n",
      "[CV] vec__max_df=0.8, vec__ngram_range=(1, 1), vec__min_df=1, vec__use_idf=True, clf__alpha=0.01 \n",
      "[CV]  vec__max_df=0.8, vec__ngram_range=(1, 1), vec__min_df=1, vec__use_idf=True, clf__alpha=0.01 -   4.1s\n",
      "[CV] vec__max_df=0.8, vec__ngram_range=(1, 1), vec__min_df=1, vec__use_idf=True, clf__alpha=0.01 \n",
      "[CV]  vec__max_df=0.8, vec__ngram_range=(1, 1), vec__min_df=1, vec__use_idf=True, clf__alpha=0.01 -   4.3s\n",
      "[CV] vec__max_df=0.8, vec__ngram_range=(1, 1), vec__min_df=1, vec__use_idf=False, clf__alpha=0.01 \n",
      "[CV]  vec__max_df=0.8, vec__ngram_range=(1, 1), vec__min_df=1, vec__use_idf=False, clf__alpha=0.01 -   5.4s\n",
      "[CV] vec__max_df=0.8, vec__ngram_range=(1, 1), vec__min_df=1, vec__use_idf=False, clf__alpha=0.01 \n",
      "[CV]  vec__max_df=0.8, vec__ngram_range=(1, 1), vec__min_df=1, vec__use_idf=False, clf__alpha=0.01 -   3.7s\n",
      "[CV] vec__max_df=0.8, vec__ngram_range=(1, 1), vec__min_df=1, vec__use_idf=False, clf__alpha=0.01 \n",
      "[CV]  vec__max_df=0.8, vec__ngram_range=(1, 1), vec__min_df=1, vec__use_idf=False, clf__alpha=0.01 -   3.6s\n",
      "[CV] vec__max_df=0.8, vec__ngram_range=(1, 2), vec__min_df=1, vec__use_idf=True, clf__alpha=0.01 \n",
      "[CV]  vec__max_df=0.8, vec__ngram_range=(1, 2), vec__min_df=1, vec__use_idf=True, clf__alpha=0.01 -   9.5s\n",
      "[CV] vec__max_df=0.8, vec__ngram_range=(1, 2), vec__min_df=1, vec__use_idf=True, clf__alpha=0.01 \n",
      "[CV]  vec__max_df=0.8, vec__ngram_range=(1, 2), vec__min_df=1, vec__use_idf=True, clf__alpha=0.01 -   8.0s\n",
      "[CV] vec__max_df=0.8, vec__ngram_range=(1, 2), vec__min_df=1, vec__use_idf=True, clf__alpha=0.01 \n",
      "[CV]  vec__max_df=0.8, vec__ngram_range=(1, 2), vec__min_df=1, vec__use_idf=True, clf__alpha=0.01 -   7.5s\n",
      "[CV] vec__max_df=0.8, vec__ngram_range=(1, 2), vec__min_df=1, vec__use_idf=False, clf__alpha=0.01 \n",
      "[CV]  vec__max_df=0.8, vec__ngram_range=(1, 2), vec__min_df=1, vec__use_idf=False, clf__alpha=0.01 -   7.4s\n",
      "[CV] vec__max_df=0.8, vec__ngram_range=(1, 2), vec__min_df=1, vec__use_idf=False, clf__alpha=0.01 \n",
      "[CV]  vec__max_df=0.8, vec__ngram_range=(1, 2), vec__min_df=1, vec__use_idf=False, clf__alpha=0.01 -  10.5s\n",
      "[CV] vec__max_df=0.8, vec__ngram_range=(1, 2), vec__min_df=1, vec__use_idf=False, clf__alpha=0.01 \n",
      "[CV]  vec__max_df=0.8, vec__ngram_range=(1, 2), vec__min_df=1, vec__use_idf=False, clf__alpha=0.01 -   8.0s\n",
      "[CV] vec__max_df=0.8, vec__ngram_range=(1, 1), vec__min_df=2, vec__use_idf=True, clf__alpha=0.01 \n",
      "[CV]  vec__max_df=0.8, vec__ngram_range=(1, 1), vec__min_df=2, vec__use_idf=True, clf__alpha=0.01 -   3.7s\n",
      "[CV] vec__max_df=0.8, vec__ngram_range=(1, 1), vec__min_df=2, vec__use_idf=True, clf__alpha=0.01 \n",
      "[CV]  vec__max_df=0.8, vec__ngram_range=(1, 1), vec__min_df=2, vec__use_idf=True, clf__alpha=0.01 -   3.7s\n",
      "[CV] vec__max_df=0.8, vec__ngram_range=(1, 1), vec__min_df=2, vec__use_idf=True, clf__alpha=0.01 \n",
      "[CV]  vec__max_df=0.8, vec__ngram_range=(1, 1), vec__min_df=2, vec__use_idf=True, clf__alpha=0.01 -   3.9s\n",
      "[CV] vec__max_df=0.8, vec__ngram_range=(1, 1), vec__min_df=2, vec__use_idf=False, clf__alpha=0.01 \n",
      "[CV]  vec__max_df=0.8, vec__ngram_range=(1, 1), vec__min_df=2, vec__use_idf=False, clf__alpha=0.01 -   3.7s\n",
      "[CV] vec__max_df=0.8, vec__ngram_range=(1, 1), vec__min_df=2, vec__use_idf=False, clf__alpha=0.01 \n",
      "[CV]  vec__max_df=0.8, vec__ngram_range=(1, 1), vec__min_df=2, vec__use_idf=False, clf__alpha=0.01 -   4.0s\n",
      "[CV] vec__max_df=0.8, vec__ngram_range=(1, 1), vec__min_df=2, vec__use_idf=False, clf__alpha=0.01 \n",
      "[CV]  vec__max_df=0.8, vec__ngram_range=(1, 1), vec__min_df=2, vec__use_idf=False, clf__alpha=0.01 -   3.6s\n",
      "[CV] vec__max_df=0.8, vec__ngram_range=(1, 2), vec__min_df=2, vec__use_idf=True, clf__alpha=0.01 \n",
      "[CV]  vec__max_df=0.8, vec__ngram_range=(1, 2), vec__min_df=2, vec__use_idf=True, clf__alpha=0.01 -   7.8s\n",
      "[CV] vec__max_df=0.8, vec__ngram_range=(1, 2), vec__min_df=2, vec__use_idf=True, clf__alpha=0.01 \n",
      "[CV]  vec__max_df=0.8, vec__ngram_range=(1, 2), vec__min_df=2, vec__use_idf=True, clf__alpha=0.01 -   7.9s\n",
      "[CV] vec__max_df=0.8, vec__ngram_range=(1, 2), vec__min_df=2, vec__use_idf=True, clf__alpha=0.01 \n",
      "[CV]  vec__max_df=0.8, vec__ngram_range=(1, 2), vec__min_df=2, vec__use_idf=True, clf__alpha=0.01 -   7.7s\n",
      "[CV] vec__max_df=0.8, vec__ngram_range=(1, 2), vec__min_df=2, vec__use_idf=False, clf__alpha=0.01 \n",
      "[CV]  vec__max_df=0.8, vec__ngram_range=(1, 2), vec__min_df=2, vec__use_idf=False, clf__alpha=0.01 -   7.2s\n",
      "[CV] vec__max_df=0.8, vec__ngram_range=(1, 2), vec__min_df=2, vec__use_idf=False, clf__alpha=0.01 \n",
      "[CV]  vec__max_df=0.8, vec__ngram_range=(1, 2), vec__min_df=2, vec__use_idf=False, clf__alpha=0.01 -   7.3s\n",
      "[CV] vec__max_df=0.8, vec__ngram_range=(1, 2), vec__min_df=2, vec__use_idf=False, clf__alpha=0.01 \n",
      "[CV]  vec__max_df=0.8, vec__ngram_range=(1, 2), vec__min_df=2, vec__use_idf=False, clf__alpha=0.01 -   7.3s\n",
      "[CV] vec__max_df=1.0, vec__ngram_range=(1, 1), vec__min_df=1, vec__use_idf=True, clf__alpha=0.01 \n",
      "[CV]  vec__max_df=1.0, vec__ngram_range=(1, 1), vec__min_df=1, vec__use_idf=True, clf__alpha=0.01 -   3.9s\n",
      "[CV] vec__max_df=1.0, vec__ngram_range=(1, 1), vec__min_df=1, vec__use_idf=True, clf__alpha=0.01 \n",
      "[CV]  vec__max_df=1.0, vec__ngram_range=(1, 1), vec__min_df=1, vec__use_idf=True, clf__alpha=0.01 -   3.8s\n",
      "[CV] vec__max_df=1.0, vec__ngram_range=(1, 1), vec__min_df=1, vec__use_idf=True, clf__alpha=0.01 \n",
      "[CV]  vec__max_df=1.0, vec__ngram_range=(1, 1), vec__min_df=1, vec__use_idf=True, clf__alpha=0.01 -   4.2s\n",
      "[CV] vec__max_df=1.0, vec__ngram_range=(1, 1), vec__min_df=1, vec__use_idf=False, clf__alpha=0.01 \n",
      "[CV]  vec__max_df=1.0, vec__ngram_range=(1, 1), vec__min_df=1, vec__use_idf=False, clf__alpha=0.01 -   3.9s\n",
      "[CV] vec__max_df=1.0, vec__ngram_range=(1, 1), vec__min_df=1, vec__use_idf=False, clf__alpha=0.01 \n",
      "[CV]  vec__max_df=1.0, vec__ngram_range=(1, 1), vec__min_df=1, vec__use_idf=False, clf__alpha=0.01 -   8.6s\n",
      "[CV] vec__max_df=1.0, vec__ngram_range=(1, 1), vec__min_df=1, vec__use_idf=False, clf__alpha=0.01 \n",
      "[CV]  vec__max_df=1.0, vec__ngram_range=(1, 1), vec__min_df=1, vec__use_idf=False, clf__alpha=0.01 -   8.3s\n",
      "[CV] vec__max_df=1.0, vec__ngram_range=(1, 2), vec__min_df=1, vec__use_idf=True, clf__alpha=0.01 \n",
      "[CV]  vec__max_df=1.0, vec__ngram_range=(1, 2), vec__min_df=1, vec__use_idf=True, clf__alpha=0.01 -  16.1s\n",
      "[CV] vec__max_df=1.0, vec__ngram_range=(1, 2), vec__min_df=1, vec__use_idf=True, clf__alpha=0.01 \n",
      "[CV]  vec__max_df=1.0, vec__ngram_range=(1, 2), vec__min_df=1, vec__use_idf=True, clf__alpha=0.01 -  21.3s\n",
      "[CV] vec__max_df=1.0, vec__ngram_range=(1, 2), vec__min_df=1, vec__use_idf=True, clf__alpha=0.01 \n",
      "[CV]  vec__max_df=1.0, vec__ngram_range=(1, 2), vec__min_df=1, vec__use_idf=True, clf__alpha=0.01 -  21.6s\n",
      "[CV] vec__max_df=1.0, vec__ngram_range=(1, 2), vec__min_df=1, vec__use_idf=False, clf__alpha=0.01 \n",
      "[CV]  vec__max_df=1.0, vec__ngram_range=(1, 2), vec__min_df=1, vec__use_idf=False, clf__alpha=0.01 -  16.1s\n",
      "[CV] vec__max_df=1.0, vec__ngram_range=(1, 2), vec__min_df=1, vec__use_idf=False, clf__alpha=0.01 \n",
      "[CV]  vec__max_df=1.0, vec__ngram_range=(1, 2), vec__min_df=1, vec__use_idf=False, clf__alpha=0.01 -  17.0s\n",
      "[CV] vec__max_df=1.0, vec__ngram_range=(1, 2), vec__min_df=1, vec__use_idf=False, clf__alpha=0.01 \n",
      "[CV]  vec__max_df=1.0, vec__ngram_range=(1, 2), vec__min_df=1, vec__use_idf=False, clf__alpha=0.01 -  17.5s\n",
      "[CV] vec__max_df=1.0, vec__ngram_range=(1, 1), vec__min_df=2, vec__use_idf=True, clf__alpha=0.01 \n",
      "[CV]  vec__max_df=1.0, vec__ngram_range=(1, 1), vec__min_df=2, vec__use_idf=True, clf__alpha=0.01 -   9.2s\n",
      "[CV] vec__max_df=1.0, vec__ngram_range=(1, 1), vec__min_df=2, vec__use_idf=True, clf__alpha=0.01 \n",
      "[CV]  vec__max_df=1.0, vec__ngram_range=(1, 1), vec__min_df=2, vec__use_idf=True, clf__alpha=0.01 -   8.7s\n",
      "[CV] vec__max_df=1.0, vec__ngram_range=(1, 1), vec__min_df=2, vec__use_idf=True, clf__alpha=0.01 \n",
      "[CV]  vec__max_df=1.0, vec__ngram_range=(1, 1), vec__min_df=2, vec__use_idf=True, clf__alpha=0.01 -   9.0s\n",
      "[CV] vec__max_df=1.0, vec__ngram_range=(1, 1), vec__min_df=2, vec__use_idf=False, clf__alpha=0.01 \n",
      "[CV]  vec__max_df=1.0, vec__ngram_range=(1, 1), vec__min_df=2, vec__use_idf=False, clf__alpha=0.01 -   9.1s\n",
      "[CV] vec__max_df=1.0, vec__ngram_range=(1, 1), vec__min_df=2, vec__use_idf=False, clf__alpha=0.01 \n",
      "[CV]  vec__max_df=1.0, vec__ngram_range=(1, 1), vec__min_df=2, vec__use_idf=False, clf__alpha=0.01 -  10.9s\n",
      "[CV] vec__max_df=1.0, vec__ngram_range=(1, 1), vec__min_df=2, vec__use_idf=False, clf__alpha=0.01 \n",
      "[CV]  vec__max_df=1.0, vec__ngram_range=(1, 1), vec__min_df=2, vec__use_idf=False, clf__alpha=0.01 -  10.6s\n",
      "[CV] vec__max_df=1.0, vec__ngram_range=(1, 2), vec__min_df=2, vec__use_idf=True, clf__alpha=0.01 \n",
      "[CV]  vec__max_df=1.0, vec__ngram_range=(1, 2), vec__min_df=2, vec__use_idf=True, clf__alpha=0.01 -  17.7s\n",
      "[CV] vec__max_df=1.0, vec__ngram_range=(1, 2), vec__min_df=2, vec__use_idf=True, clf__alpha=0.01 \n",
      "[CV]  vec__max_df=1.0, vec__ngram_range=(1, 2), vec__min_df=2, vec__use_idf=True, clf__alpha=0.01 -  15.8s\n",
      "[CV] vec__max_df=1.0, vec__ngram_range=(1, 2), vec__min_df=2, vec__use_idf=True, clf__alpha=0.01 \n",
      "[CV]  vec__max_df=1.0, vec__ngram_range=(1, 2), vec__min_df=2, vec__use_idf=True, clf__alpha=0.01 -  16.2s\n",
      "[CV] vec__max_df=1.0, vec__ngram_range=(1, 2), vec__min_df=2, vec__use_idf=False, clf__alpha=0.01 \n",
      "[CV]  vec__max_df=1.0, vec__ngram_range=(1, 2), vec__min_df=2, vec__use_idf=False, clf__alpha=0.01 -  17.1s\n",
      "[CV] vec__max_df=1.0, vec__ngram_range=(1, 2), vec__min_df=2, vec__use_idf=False, clf__alpha=0.01 \n",
      "[CV]  vec__max_df=1.0, vec__ngram_range=(1, 2), vec__min_df=2, vec__use_idf=False, clf__alpha=0.01 -  16.9s\n",
      "[CV] vec__max_df=1.0, vec__ngram_range=(1, 2), vec__min_df=2, vec__use_idf=False, clf__alpha=0.01 \n",
      "[CV]  vec__max_df=1.0, vec__ngram_range=(1, 2), vec__min_df=2, vec__use_idf=False, clf__alpha=0.01 -  15.5s\n",
      "[CV] vec__max_df=0.8, vec__ngram_range=(1, 1), vec__min_df=1, vec__use_idf=True, clf__alpha=0.1 \n",
      "[CV]  vec__max_df=0.8, vec__ngram_range=(1, 1), vec__min_df=1, vec__use_idf=True, clf__alpha=0.1 -   8.9s\n",
      "[CV] vec__max_df=0.8, vec__ngram_range=(1, 1), vec__min_df=1, vec__use_idf=True, clf__alpha=0.1 \n",
      "[CV]  vec__max_df=0.8, vec__ngram_range=(1, 1), vec__min_df=1, vec__use_idf=True, clf__alpha=0.1 -   8.8s\n",
      "[CV] vec__max_df=0.8, vec__ngram_range=(1, 1), vec__min_df=1, vec__use_idf=True, clf__alpha=0.1 \n",
      "[CV]  vec__max_df=0.8, vec__ngram_range=(1, 1), vec__min_df=1, vec__use_idf=True, clf__alpha=0.1 -  11.3s\n",
      "[CV] vec__max_df=0.8, vec__ngram_range=(1, 1), vec__min_df=1, vec__use_idf=False, clf__alpha=0.1 \n",
      "[CV]  vec__max_df=0.8, vec__ngram_range=(1, 1), vec__min_df=1, vec__use_idf=False, clf__alpha=0.1 -   8.9s\n",
      "[CV] vec__max_df=0.8, vec__ngram_range=(1, 1), vec__min_df=1, vec__use_idf=False, clf__alpha=0.1 \n",
      "[CV]  vec__max_df=0.8, vec__ngram_range=(1, 1), vec__min_df=1, vec__use_idf=False, clf__alpha=0.1 -   8.3s\n",
      "[CV] vec__max_df=0.8, vec__ngram_range=(1, 1), vec__min_df=1, vec__use_idf=False, clf__alpha=0.1 \n",
      "[CV]  vec__max_df=0.8, vec__ngram_range=(1, 1), vec__min_df=1, vec__use_idf=False, clf__alpha=0.1 -   8.8s\n",
      "[CV] vec__max_df=0.8, vec__ngram_range=(1, 2), vec__min_df=1, vec__use_idf=True, clf__alpha=0.1 \n",
      "[CV]  vec__max_df=0.8, vec__ngram_range=(1, 2), vec__min_df=1, vec__use_idf=True, clf__alpha=0.1 -  17.6s\n",
      "[CV] vec__max_df=0.8, vec__ngram_range=(1, 2), vec__min_df=1, vec__use_idf=True, clf__alpha=0.1 \n",
      "[CV]  vec__max_df=0.8, vec__ngram_range=(1, 2), vec__min_df=1, vec__use_idf=True, clf__alpha=0.1 -  16.2s\n",
      "[CV] vec__max_df=0.8, vec__ngram_range=(1, 2), vec__min_df=1, vec__use_idf=True, clf__alpha=0.1 \n",
      "[CV]  vec__max_df=0.8, vec__ngram_range=(1, 2), vec__min_df=1, vec__use_idf=True, clf__alpha=0.1 -  16.9s\n",
      "[CV] vec__max_df=0.8, vec__ngram_range=(1, 2), vec__min_df=1, vec__use_idf=False, clf__alpha=0.1 \n",
      "[CV]  vec__max_df=0.8, vec__ngram_range=(1, 2), vec__min_df=1, vec__use_idf=False, clf__alpha=0.1 -  21.2s\n",
      "[CV] vec__max_df=0.8, vec__ngram_range=(1, 2), vec__min_df=1, vec__use_idf=False, clf__alpha=0.1 \n",
      "[CV]  vec__max_df=0.8, vec__ngram_range=(1, 2), vec__min_df=1, vec__use_idf=False, clf__alpha=0.1 -  18.0s\n",
      "[CV] vec__max_df=0.8, vec__ngram_range=(1, 2), vec__min_df=1, vec__use_idf=False, clf__alpha=0.1 \n",
      "[CV]  vec__max_df=0.8, vec__ngram_range=(1, 2), vec__min_df=1, vec__use_idf=False, clf__alpha=0.1 -  16.9s\n",
      "[CV] vec__max_df=0.8, vec__ngram_range=(1, 1), vec__min_df=2, vec__use_idf=True, clf__alpha=0.1 \n",
      "[CV]  vec__max_df=0.8, vec__ngram_range=(1, 1), vec__min_df=2, vec__use_idf=True, clf__alpha=0.1 -   9.0s\n",
      "[CV] vec__max_df=0.8, vec__ngram_range=(1, 1), vec__min_df=2, vec__use_idf=True, clf__alpha=0.1 \n",
      "[CV]  vec__max_df=0.8, vec__ngram_range=(1, 1), vec__min_df=2, vec__use_idf=True, clf__alpha=0.1 -   9.8s\n",
      "[CV] vec__max_df=0.8, vec__ngram_range=(1, 1), vec__min_df=2, vec__use_idf=True, clf__alpha=0.1 \n",
      "[CV]  vec__max_df=0.8, vec__ngram_range=(1, 1), vec__min_df=2, vec__use_idf=True, clf__alpha=0.1 -   8.8s\n",
      "[CV] vec__max_df=0.8, vec__ngram_range=(1, 1), vec__min_df=2, vec__use_idf=False, clf__alpha=0.1 \n",
      "[CV]  vec__max_df=0.8, vec__ngram_range=(1, 1), vec__min_df=2, vec__use_idf=False, clf__alpha=0.1 -   8.7s\n",
      "[CV] vec__max_df=0.8, vec__ngram_range=(1, 1), vec__min_df=2, vec__use_idf=False, clf__alpha=0.1 \n",
      "[CV]  vec__max_df=0.8, vec__ngram_range=(1, 1), vec__min_df=2, vec__use_idf=False, clf__alpha=0.1 -   8.7s\n",
      "[CV] vec__max_df=0.8, vec__ngram_range=(1, 1), vec__min_df=2, vec__use_idf=False, clf__alpha=0.1 \n",
      "[CV]  vec__max_df=0.8, vec__ngram_range=(1, 1), vec__min_df=2, vec__use_idf=False, clf__alpha=0.1 -   8.9s\n",
      "[CV] vec__max_df=0.8, vec__ngram_range=(1, 2), vec__min_df=2, vec__use_idf=True, clf__alpha=0.1 \n",
      "[CV]  vec__max_df=0.8, vec__ngram_range=(1, 2), vec__min_df=2, vec__use_idf=True, clf__alpha=0.1 -  18.8s\n",
      "[CV] vec__max_df=0.8, vec__ngram_range=(1, 2), vec__min_df=2, vec__use_idf=True, clf__alpha=0.1 \n",
      "[CV]  vec__max_df=0.8, vec__ngram_range=(1, 2), vec__min_df=2, vec__use_idf=True, clf__alpha=0.1 -  16.3s\n",
      "[CV] vec__max_df=0.8, vec__ngram_range=(1, 2), vec__min_df=2, vec__use_idf=True, clf__alpha=0.1 \n",
      "[CV]  vec__max_df=0.8, vec__ngram_range=(1, 2), vec__min_df=2, vec__use_idf=True, clf__alpha=0.1 -  17.9s\n",
      "[CV] vec__max_df=0.8, vec__ngram_range=(1, 2), vec__min_df=2, vec__use_idf=False, clf__alpha=0.1 \n",
      "[CV]  vec__max_df=0.8, vec__ngram_range=(1, 2), vec__min_df=2, vec__use_idf=False, clf__alpha=0.1 -  16.2s\n",
      "[CV] vec__max_df=0.8, vec__ngram_range=(1, 2), vec__min_df=2, vec__use_idf=False, clf__alpha=0.1 \n",
      "[CV]  vec__max_df=0.8, vec__ngram_range=(1, 2), vec__min_df=2, vec__use_idf=False, clf__alpha=0.1 -  17.8s\n",
      "[CV] vec__max_df=0.8, vec__ngram_range=(1, 2), vec__min_df=2, vec__use_idf=False, clf__alpha=0.1 \n",
      "[CV]  vec__max_df=0.8, vec__ngram_range=(1, 2), vec__min_df=2, vec__use_idf=False, clf__alpha=0.1 -  16.9s\n",
      "[CV] vec__max_df=1.0, vec__ngram_range=(1, 1), vec__min_df=1, vec__use_idf=True, clf__alpha=0.1 \n",
      "[CV]  vec__max_df=1.0, vec__ngram_range=(1, 1), vec__min_df=1, vec__use_idf=True, clf__alpha=0.1 -   9.0s\n",
      "[CV] vec__max_df=1.0, vec__ngram_range=(1, 1), vec__min_df=1, vec__use_idf=True, clf__alpha=0.1 \n",
      "[CV]  vec__max_df=1.0, vec__ngram_range=(1, 1), vec__min_df=1, vec__use_idf=True, clf__alpha=0.1 -   8.7s\n",
      "[CV] vec__max_df=1.0, vec__ngram_range=(1, 1), vec__min_df=1, vec__use_idf=True, clf__alpha=0.1 \n",
      "[CV]  vec__max_df=1.0, vec__ngram_range=(1, 1), vec__min_df=1, vec__use_idf=True, clf__alpha=0.1 -   8.7s\n",
      "[CV] vec__max_df=1.0, vec__ngram_range=(1, 1), vec__min_df=1, vec__use_idf=False, clf__alpha=0.1 \n",
      "[CV]  vec__max_df=1.0, vec__ngram_range=(1, 1), vec__min_df=1, vec__use_idf=False, clf__alpha=0.1 -   8.6s\n",
      "[CV] vec__max_df=1.0, vec__ngram_range=(1, 1), vec__min_df=1, vec__use_idf=False, clf__alpha=0.1 \n",
      "[CV]  vec__max_df=1.0, vec__ngram_range=(1, 1), vec__min_df=1, vec__use_idf=False, clf__alpha=0.1 -   8.7s\n",
      "[CV] vec__max_df=1.0, vec__ngram_range=(1, 1), vec__min_df=1, vec__use_idf=False, clf__alpha=0.1 \n",
      "[CV]  vec__max_df=1.0, vec__ngram_range=(1, 1), vec__min_df=1, vec__use_idf=False, clf__alpha=0.1 -   8.9s\n",
      "[CV] vec__max_df=1.0, vec__ngram_range=(1, 2), vec__min_df=1, vec__use_idf=True, clf__alpha=0.1 \n",
      "[CV]  vec__max_df=1.0, vec__ngram_range=(1, 2), vec__min_df=1, vec__use_idf=True, clf__alpha=0.1 -  16.5s\n",
      "[CV] vec__max_df=1.0, vec__ngram_range=(1, 2), vec__min_df=1, vec__use_idf=True, clf__alpha=0.1 \n",
      "[CV]  vec__max_df=1.0, vec__ngram_range=(1, 2), vec__min_df=1, vec__use_idf=True, clf__alpha=0.1 -  16.3s\n",
      "[CV] vec__max_df=1.0, vec__ngram_range=(1, 2), vec__min_df=1, vec__use_idf=True, clf__alpha=0.1 \n",
      "[CV]  vec__max_df=1.0, vec__ngram_range=(1, 2), vec__min_df=1, vec__use_idf=True, clf__alpha=0.1 -  16.9s\n",
      "[CV] vec__max_df=1.0, vec__ngram_range=(1, 2), vec__min_df=1, vec__use_idf=False, clf__alpha=0.1 \n",
      "[CV]  vec__max_df=1.0, vec__ngram_range=(1, 2), vec__min_df=1, vec__use_idf=False, clf__alpha=0.1 -  16.6s\n",
      "[CV] vec__max_df=1.0, vec__ngram_range=(1, 2), vec__min_df=1, vec__use_idf=False, clf__alpha=0.1 \n",
      "[CV]  vec__max_df=1.0, vec__ngram_range=(1, 2), vec__min_df=1, vec__use_idf=False, clf__alpha=0.1 -  16.0s\n",
      "[CV] vec__max_df=1.0, vec__ngram_range=(1, 2), vec__min_df=1, vec__use_idf=False, clf__alpha=0.1 \n",
      "[CV]  vec__max_df=1.0, vec__ngram_range=(1, 2), vec__min_df=1, vec__use_idf=False, clf__alpha=0.1 -  16.3s\n",
      "[CV] vec__max_df=1.0, vec__ngram_range=(1, 1), vec__min_df=2, vec__use_idf=True, clf__alpha=0.1 \n",
      "[CV]  vec__max_df=1.0, vec__ngram_range=(1, 1), vec__min_df=2, vec__use_idf=True, clf__alpha=0.1 -   9.8s\n",
      "[CV] vec__max_df=1.0, vec__ngram_range=(1, 1), vec__min_df=2, vec__use_idf=True, clf__alpha=0.1 \n",
      "[CV]  vec__max_df=1.0, vec__ngram_range=(1, 1), vec__min_df=2, vec__use_idf=True, clf__alpha=0.1 -   9.8s\n",
      "[CV] vec__max_df=1.0, vec__ngram_range=(1, 1), vec__min_df=2, vec__use_idf=True, clf__alpha=0.1 \n",
      "[CV]  vec__max_df=1.0, vec__ngram_range=(1, 1), vec__min_df=2, vec__use_idf=True, clf__alpha=0.1 -   8.8s\n",
      "[CV] vec__max_df=1.0, vec__ngram_range=(1, 1), vec__min_df=2, vec__use_idf=False, clf__alpha=0.1 \n",
      "[CV]  vec__max_df=1.0, vec__ngram_range=(1, 1), vec__min_df=2, vec__use_idf=False, clf__alpha=0.1 -   8.4s\n",
      "[CV] vec__max_df=1.0, vec__ngram_range=(1, 1), vec__min_df=2, vec__use_idf=False, clf__alpha=0.1 \n",
      "[CV]  vec__max_df=1.0, vec__ngram_range=(1, 1), vec__min_df=2, vec__use_idf=False, clf__alpha=0.1 -   8.5s\n",
      "[CV] vec__max_df=1.0, vec__ngram_range=(1, 1), vec__min_df=2, vec__use_idf=False, clf__alpha=0.1 \n",
      "[CV]  vec__max_df=1.0, vec__ngram_range=(1, 1), vec__min_df=2, vec__use_idf=False, clf__alpha=0.1 -   8.7s\n",
      "[CV] vec__max_df=1.0, vec__ngram_range=(1, 2), vec__min_df=2, vec__use_idf=True, clf__alpha=0.1 \n",
      "[CV]  vec__max_df=1.0, vec__ngram_range=(1, 2), vec__min_df=2, vec__use_idf=True, clf__alpha=0.1 -  16.0s\n",
      "[CV] vec__max_df=1.0, vec__ngram_range=(1, 2), vec__min_df=2, vec__use_idf=True, clf__alpha=0.1 \n",
      "[CV]  vec__max_df=1.0, vec__ngram_range=(1, 2), vec__min_df=2, vec__use_idf=True, clf__alpha=0.1 -  17.0s\n",
      "[CV] vec__max_df=1.0, vec__ngram_range=(1, 2), vec__min_df=2, vec__use_idf=True, clf__alpha=0.1 \n",
      "[CV]  vec__max_df=1.0, vec__ngram_range=(1, 2), vec__min_df=2, vec__use_idf=True, clf__alpha=0.1 -  16.5s\n",
      "[CV] vec__max_df=1.0, vec__ngram_range=(1, 2), vec__min_df=2, vec__use_idf=False, clf__alpha=0.1 \n",
      "[CV]  vec__max_df=1.0, vec__ngram_range=(1, 2), vec__min_df=2, vec__use_idf=False, clf__alpha=0.1 -  18.0s\n",
      "[CV] vec__max_df=1.0, vec__ngram_range=(1, 2), vec__min_df=2, vec__use_idf=False, clf__alpha=0.1 \n",
      "[CV]  vec__max_df=1.0, vec__ngram_range=(1, 2), vec__min_df=2, vec__use_idf=False, clf__alpha=0.1 -  17.8s\n",
      "[CV] vec__max_df=1.0, vec__ngram_range=(1, 2), vec__min_df=2, vec__use_idf=False, clf__alpha=0.1 \n",
      "[CV]  vec__max_df=1.0, vec__ngram_range=(1, 2), vec__min_df=2, vec__use_idf=False, clf__alpha=0.1 -  18.0s\n",
      "[CV] vec__max_df=0.8, vec__ngram_range=(1, 1), vec__min_df=1, vec__use_idf=True, clf__alpha=1.0 \n",
      "[CV]  vec__max_df=0.8, vec__ngram_range=(1, 1), vec__min_df=1, vec__use_idf=True, clf__alpha=1.0 -   9.7s\n",
      "[CV] vec__max_df=0.8, vec__ngram_range=(1, 1), vec__min_df=1, vec__use_idf=True, clf__alpha=1.0 \n",
      "[CV]  vec__max_df=0.8, vec__ngram_range=(1, 1), vec__min_df=1, vec__use_idf=True, clf__alpha=1.0 -  10.7s\n",
      "[CV] vec__max_df=0.8, vec__ngram_range=(1, 1), vec__min_df=1, vec__use_idf=True, clf__alpha=1.0 \n",
      "[CV]  vec__max_df=0.8, vec__ngram_range=(1, 1), vec__min_df=1, vec__use_idf=True, clf__alpha=1.0 -   9.9s\n",
      "[CV] vec__max_df=0.8, vec__ngram_range=(1, 1), vec__min_df=1, vec__use_idf=False, clf__alpha=1.0 \n",
      "[CV]  vec__max_df=0.8, vec__ngram_range=(1, 1), vec__min_df=1, vec__use_idf=False, clf__alpha=1.0 -   9.7s\n",
      "[CV] vec__max_df=0.8, vec__ngram_range=(1, 1), vec__min_df=1, vec__use_idf=False, clf__alpha=1.0 \n",
      "[CV]  vec__max_df=0.8, vec__ngram_range=(1, 1), vec__min_df=1, vec__use_idf=False, clf__alpha=1.0 -   9.6s\n",
      "[CV] vec__max_df=0.8, vec__ngram_range=(1, 1), vec__min_df=1, vec__use_idf=False, clf__alpha=1.0 \n",
      "[CV]  vec__max_df=0.8, vec__ngram_range=(1, 1), vec__min_df=1, vec__use_idf=False, clf__alpha=1.0 -  11.4s\n",
      "[CV] vec__max_df=0.8, vec__ngram_range=(1, 2), vec__min_df=1, vec__use_idf=True, clf__alpha=1.0 \n",
      "[CV]  vec__max_df=0.8, vec__ngram_range=(1, 2), vec__min_df=1, vec__use_idf=True, clf__alpha=1.0 -  16.1s\n",
      "[CV] vec__max_df=0.8, vec__ngram_range=(1, 2), vec__min_df=1, vec__use_idf=True, clf__alpha=1.0 \n",
      "[CV]  vec__max_df=0.8, vec__ngram_range=(1, 2), vec__min_df=1, vec__use_idf=True, clf__alpha=1.0 -  17.6s\n",
      "[CV] vec__max_df=0.8, vec__ngram_range=(1, 2), vec__min_df=1, vec__use_idf=True, clf__alpha=1.0 \n",
      "[CV]  vec__max_df=0.8, vec__ngram_range=(1, 2), vec__min_df=1, vec__use_idf=True, clf__alpha=1.0 -  16.8s\n",
      "[CV] vec__max_df=0.8, vec__ngram_range=(1, 2), vec__min_df=1, vec__use_idf=False, clf__alpha=1.0 \n",
      "[CV]  vec__max_df=0.8, vec__ngram_range=(1, 2), vec__min_df=1, vec__use_idf=False, clf__alpha=1.0 -  16.4s\n",
      "[CV] vec__max_df=0.8, vec__ngram_range=(1, 2), vec__min_df=1, vec__use_idf=False, clf__alpha=1.0 \n",
      "[CV]  vec__max_df=0.8, vec__ngram_range=(1, 2), vec__min_df=1, vec__use_idf=False, clf__alpha=1.0 -  15.8s\n",
      "[CV] vec__max_df=0.8, vec__ngram_range=(1, 2), vec__min_df=1, vec__use_idf=False, clf__alpha=1.0 \n",
      "[CV]  vec__max_df=0.8, vec__ngram_range=(1, 2), vec__min_df=1, vec__use_idf=False, clf__alpha=1.0 -  16.3s\n",
      "[CV] vec__max_df=0.8, vec__ngram_range=(1, 1), vec__min_df=2, vec__use_idf=True, clf__alpha=1.0 \n",
      "[CV]  vec__max_df=0.8, vec__ngram_range=(1, 1), vec__min_df=2, vec__use_idf=True, clf__alpha=1.0 -  10.4s\n",
      "[CV] vec__max_df=0.8, vec__ngram_range=(1, 1), vec__min_df=2, vec__use_idf=True, clf__alpha=1.0 \n",
      "[CV]  vec__max_df=0.8, vec__ngram_range=(1, 1), vec__min_df=2, vec__use_idf=True, clf__alpha=1.0 -  10.3s\n",
      "[CV] vec__max_df=0.8, vec__ngram_range=(1, 1), vec__min_df=2, vec__use_idf=True, clf__alpha=1.0 \n",
      "[CV]  vec__max_df=0.8, vec__ngram_range=(1, 1), vec__min_df=2, vec__use_idf=True, clf__alpha=1.0 -   8.6s\n",
      "[CV] vec__max_df=0.8, vec__ngram_range=(1, 1), vec__min_df=2, vec__use_idf=False, clf__alpha=1.0 \n",
      "[CV]  vec__max_df=0.8, vec__ngram_range=(1, 1), vec__min_df=2, vec__use_idf=False, clf__alpha=1.0 -   8.4s\n",
      "[CV] vec__max_df=0.8, vec__ngram_range=(1, 1), vec__min_df=2, vec__use_idf=False, clf__alpha=1.0 \n",
      "[CV]  vec__max_df=0.8, vec__ngram_range=(1, 1), vec__min_df=2, vec__use_idf=False, clf__alpha=1.0 -   8.4s\n",
      "[CV] vec__max_df=0.8, vec__ngram_range=(1, 1), vec__min_df=2, vec__use_idf=False, clf__alpha=1.0 \n",
      "[CV]  vec__max_df=0.8, vec__ngram_range=(1, 1), vec__min_df=2, vec__use_idf=False, clf__alpha=1.0 -   8.4s\n",
      "[CV] vec__max_df=0.8, vec__ngram_range=(1, 2), vec__min_df=2, vec__use_idf=True, clf__alpha=1.0 \n",
      "[CV]  vec__max_df=0.8, vec__ngram_range=(1, 2), vec__min_df=2, vec__use_idf=True, clf__alpha=1.0 -  17.7s\n",
      "[CV] vec__max_df=0.8, vec__ngram_range=(1, 2), vec__min_df=2, vec__use_idf=True, clf__alpha=1.0 \n",
      "[CV]  vec__max_df=0.8, vec__ngram_range=(1, 2), vec__min_df=2, vec__use_idf=True, clf__alpha=1.0 -  17.3s\n",
      "[CV] vec__max_df=0.8, vec__ngram_range=(1, 2), vec__min_df=2, vec__use_idf=True, clf__alpha=1.0 \n",
      "[CV]  vec__max_df=0.8, vec__ngram_range=(1, 2), vec__min_df=2, vec__use_idf=True, clf__alpha=1.0 -  16.4s\n",
      "[CV] vec__max_df=0.8, vec__ngram_range=(1, 2), vec__min_df=2, vec__use_idf=False, clf__alpha=1.0 \n",
      "[CV]  vec__max_df=0.8, vec__ngram_range=(1, 2), vec__min_df=2, vec__use_idf=False, clf__alpha=1.0 -  15.5s\n",
      "[CV] vec__max_df=0.8, vec__ngram_range=(1, 2), vec__min_df=2, vec__use_idf=False, clf__alpha=1.0 \n",
      "[CV]  vec__max_df=0.8, vec__ngram_range=(1, 2), vec__min_df=2, vec__use_idf=False, clf__alpha=1.0 -  16.5s\n",
      "[CV] vec__max_df=0.8, vec__ngram_range=(1, 2), vec__min_df=2, vec__use_idf=False, clf__alpha=1.0 \n",
      "[CV]  vec__max_df=0.8, vec__ngram_range=(1, 2), vec__min_df=2, vec__use_idf=False, clf__alpha=1.0 -  15.6s\n",
      "[CV] vec__max_df=1.0, vec__ngram_range=(1, 1), vec__min_df=1, vec__use_idf=True, clf__alpha=1.0 \n",
      "[CV]  vec__max_df=1.0, vec__ngram_range=(1, 1), vec__min_df=1, vec__use_idf=True, clf__alpha=1.0 -   8.6s\n",
      "[CV] vec__max_df=1.0, vec__ngram_range=(1, 1), vec__min_df=1, vec__use_idf=True, clf__alpha=1.0 \n",
      "[CV]  vec__max_df=1.0, vec__ngram_range=(1, 1), vec__min_df=1, vec__use_idf=True, clf__alpha=1.0 -   8.5s\n",
      "[CV] vec__max_df=1.0, vec__ngram_range=(1, 1), vec__min_df=1, vec__use_idf=True, clf__alpha=1.0 \n",
      "[CV]  vec__max_df=1.0, vec__ngram_range=(1, 1), vec__min_df=1, vec__use_idf=True, clf__alpha=1.0 -   8.6s\n",
      "[CV] vec__max_df=1.0, vec__ngram_range=(1, 1), vec__min_df=1, vec__use_idf=False, clf__alpha=1.0 \n",
      "[CV]  vec__max_df=1.0, vec__ngram_range=(1, 1), vec__min_df=1, vec__use_idf=False, clf__alpha=1.0 -   8.4s\n",
      "[CV] vec__max_df=1.0, vec__ngram_range=(1, 1), vec__min_df=1, vec__use_idf=False, clf__alpha=1.0 \n",
      "[CV]  vec__max_df=1.0, vec__ngram_range=(1, 1), vec__min_df=1, vec__use_idf=False, clf__alpha=1.0 -   9.0s\n",
      "[CV] vec__max_df=1.0, vec__ngram_range=(1, 1), vec__min_df=1, vec__use_idf=False, clf__alpha=1.0 \n",
      "[CV]  vec__max_df=1.0, vec__ngram_range=(1, 1), vec__min_df=1, vec__use_idf=False, clf__alpha=1.0 -   9.8s\n",
      "[CV] vec__max_df=1.0, vec__ngram_range=(1, 2), vec__min_df=1, vec__use_idf=True, clf__alpha=1.0 \n",
      "[CV]  vec__max_df=1.0, vec__ngram_range=(1, 2), vec__min_df=1, vec__use_idf=True, clf__alpha=1.0 -  18.3s\n",
      "[CV] vec__max_df=1.0, vec__ngram_range=(1, 2), vec__min_df=1, vec__use_idf=True, clf__alpha=1.0 \n",
      "[CV]  vec__max_df=1.0, vec__ngram_range=(1, 2), vec__min_df=1, vec__use_idf=True, clf__alpha=1.0 -  17.0s\n",
      "[CV] vec__max_df=1.0, vec__ngram_range=(1, 2), vec__min_df=1, vec__use_idf=True, clf__alpha=1.0 \n",
      "[CV]  vec__max_df=1.0, vec__ngram_range=(1, 2), vec__min_df=1, vec__use_idf=True, clf__alpha=1.0 -  16.3s\n",
      "[CV] vec__max_df=1.0, vec__ngram_range=(1, 2), vec__min_df=1, vec__use_idf=False, clf__alpha=1.0 \n",
      "[CV]  vec__max_df=1.0, vec__ngram_range=(1, 2), vec__min_df=1, vec__use_idf=False, clf__alpha=1.0 -  15.8s\n",
      "[CV] vec__max_df=1.0, vec__ngram_range=(1, 2), vec__min_df=1, vec__use_idf=False, clf__alpha=1.0 \n",
      "[CV]  vec__max_df=1.0, vec__ngram_range=(1, 2), vec__min_df=1, vec__use_idf=False, clf__alpha=1.0 -  16.1s\n",
      "[CV] vec__max_df=1.0, vec__ngram_range=(1, 2), vec__min_df=1, vec__use_idf=False, clf__alpha=1.0 \n",
      "[CV]  vec__max_df=1.0, vec__ngram_range=(1, 2), vec__min_df=1, vec__use_idf=False, clf__alpha=1.0 -  16.3s\n",
      "[CV] vec__max_df=1.0, vec__ngram_range=(1, 1), vec__min_df=2, vec__use_idf=True, clf__alpha=1.0 \n",
      "[CV]  vec__max_df=1.0, vec__ngram_range=(1, 1), vec__min_df=2, vec__use_idf=True, clf__alpha=1.0 -   8.9s\n",
      "[CV] vec__max_df=1.0, vec__ngram_range=(1, 1), vec__min_df=2, vec__use_idf=True, clf__alpha=1.0 \n",
      "[CV]  vec__max_df=1.0, vec__ngram_range=(1, 1), vec__min_df=2, vec__use_idf=True, clf__alpha=1.0 -   8.5s\n",
      "[CV] vec__max_df=1.0, vec__ngram_range=(1, 1), vec__min_df=2, vec__use_idf=True, clf__alpha=1.0 \n",
      "[CV]  vec__max_df=1.0, vec__ngram_range=(1, 1), vec__min_df=2, vec__use_idf=True, clf__alpha=1.0 -   8.6s\n",
      "[CV] vec__max_df=1.0, vec__ngram_range=(1, 1), vec__min_df=2, vec__use_idf=False, clf__alpha=1.0 \n",
      "[CV]  vec__max_df=1.0, vec__ngram_range=(1, 1), vec__min_df=2, vec__use_idf=False, clf__alpha=1.0 -   8.4s\n",
      "[CV] vec__max_df=1.0, vec__ngram_range=(1, 1), vec__min_df=2, vec__use_idf=False, clf__alpha=1.0 \n",
      "[CV]  vec__max_df=1.0, vec__ngram_range=(1, 1), vec__min_df=2, vec__use_idf=False, clf__alpha=1.0 -   8.4s\n",
      "[CV] vec__max_df=1.0, vec__ngram_range=(1, 1), vec__min_df=2, vec__use_idf=False, clf__alpha=1.0 \n",
      "[CV]  vec__max_df=1.0, vec__ngram_range=(1, 1), vec__min_df=2, vec__use_idf=False, clf__alpha=1.0 -   8.9s\n",
      "[CV] vec__max_df=1.0, vec__ngram_range=(1, 2), vec__min_df=2, vec__use_idf=True, clf__alpha=1.0 \n",
      "[CV]  vec__max_df=1.0, vec__ngram_range=(1, 2), vec__min_df=2, vec__use_idf=True, clf__alpha=1.0 -  15.9s\n",
      "[CV] vec__max_df=1.0, vec__ngram_range=(1, 2), vec__min_df=2, vec__use_idf=True, clf__alpha=1.0 \n",
      "[CV]  vec__max_df=1.0, vec__ngram_range=(1, 2), vec__min_df=2, vec__use_idf=True, clf__alpha=1.0 -  15.8s\n",
      "[CV] vec__max_df=1.0, vec__ngram_range=(1, 2), vec__min_df=2, vec__use_idf=True, clf__alpha=1.0 \n",
      "[CV]  vec__max_df=1.0, vec__ngram_range=(1, 2), vec__min_df=2, vec__use_idf=True, clf__alpha=1.0 -  16.8s\n",
      "[CV] vec__max_df=1.0, vec__ngram_range=(1, 2), vec__min_df=2, vec__use_idf=False, clf__alpha=1.0 \n",
      "[CV]  vec__max_df=1.0, vec__ngram_range=(1, 2), vec__min_df=2, vec__use_idf=False, clf__alpha=1.0 -  16.9s\n",
      "[CV] vec__max_df=1.0, vec__ngram_range=(1, 2), vec__min_df=2, vec__use_idf=False, clf__alpha=1.0 \n",
      "[CV]  vec__max_df=1.0, vec__ngram_range=(1, 2), vec__min_df=2, vec__use_idf=False, clf__alpha=1.0 -  15.7s\n",
      "[CV] vec__max_df=1.0, vec__ngram_range=(1, 2), vec__min_df=2, vec__use_idf=False, clf__alpha=1.0 \n",
      "[CV]  vec__max_df=1.0, vec__ngram_range=(1, 2), vec__min_df=2, vec__use_idf=False, clf__alpha=1.0 -  15.6s"
     ]
    },
    {
     "name": "stderr",
     "output_type": "stream",
     "text": [
      "[Parallel(n_jobs=1)]: Done 162 jobs       | elapsed: 27.1min\n",
      "[Parallel(n_jobs=1)]: Done 192 out of 192 | elapsed: 33.9min finished\n"
     ]
    },
    {
     "name": "stdout",
     "output_type": "stream",
     "text": [
      "\n"
     ]
    }
   ],
   "source": [
    "from sklearn.grid_search import GridSearchCV\n",
    "\n",
    "parameters = {\n",
    "    'vec__min_df': [1, 2],\n",
    "    'vec__max_df': [0.8, 1.0],\n",
    "    'vec__ngram_range': [(1, 1), (1, 2)],\n",
    "    'vec__use_idf': [True, False],\n",
    "    'clf__alpha': np.logspace(-3, 0, 4)\n",
    "}\n",
    "\n",
    "gs = GridSearchCV(pipeline, parameters, verbose=2, refit=False, scoring=kappa_scorer)\n",
    "_ = gs.fit(traindata, y)"
   ]
  },
  {
   "cell_type": "code",
   "execution_count": 15,
   "metadata": {
    "collapsed": false
   },
   "outputs": [
    {
     "data": {
      "text/plain": [
       "0.40330414479371296"
      ]
     },
     "execution_count": 15,
     "metadata": {},
     "output_type": "execute_result"
    }
   ],
   "source": [
    "gs.best_score_"
   ]
  },
  {
   "cell_type": "code",
   "execution_count": 16,
   "metadata": {
    "collapsed": false
   },
   "outputs": [
    {
     "data": {
      "text/plain": [
       "{'clf__alpha': 0.01,\n",
       " 'vec__max_df': 0.8,\n",
       " 'vec__min_df': 2,\n",
       " 'vec__ngram_range': (1, 2),\n",
       " 'vec__use_idf': True}"
      ]
     },
     "execution_count": 16,
     "metadata": {},
     "output_type": "execute_result"
    }
   ],
   "source": [
    "gs.best_params_"
   ]
  },
  {
   "cell_type": "code",
   "execution_count": null,
   "metadata": {
    "collapsed": true
   },
   "outputs": [],
   "source": []
  },
  {
   "cell_type": "code",
   "execution_count": null,
   "metadata": {
    "collapsed": true
   },
   "outputs": [],
   "source": []
  },
  {
   "cell_type": "code",
   "execution_count": null,
   "metadata": {
    "collapsed": true
   },
   "outputs": [],
   "source": []
  },
  {
   "cell_type": "code",
   "execution_count": null,
   "metadata": {
    "collapsed": true
   },
   "outputs": [],
   "source": []
  },
  {
   "cell_type": "code",
   "execution_count": null,
   "metadata": {
    "collapsed": true
   },
   "outputs": [],
   "source": []
  },
  {
   "cell_type": "code",
   "execution_count": null,
   "metadata": {
    "collapsed": true
   },
   "outputs": [],
   "source": []
  }
 ],
 "metadata": {
  "kernelspec": {
   "display_name": "Python 2",
   "language": "python",
   "name": "python2"
  },
  "language_info": {
   "codemirror_mode": {
    "name": "ipython",
    "version": 2
   },
   "file_extension": ".py",
   "mimetype": "text/x-python",
   "name": "python",
   "nbconvert_exporter": "python",
   "pygments_lexer": "ipython2",
   "version": "2.7.6"
  }
 },
 "nbformat": 4,
 "nbformat_minor": 0
}
