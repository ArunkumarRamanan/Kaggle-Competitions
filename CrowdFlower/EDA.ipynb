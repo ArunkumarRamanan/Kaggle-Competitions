{
 "cells": [
  {
   "cell_type": "code",
   "execution_count": 1,
   "metadata": {
    "collapsed": true
   },
   "outputs": [],
   "source": [
    "# import libraries\n",
    "import numpy as np\n",
    "import pandas as pd\n",
    "import seaborn as sns\n",
    "import matplotlib.pyplot as plt\n",
    "%matplotlib inline"
   ]
  },
  {
   "cell_type": "code",
   "execution_count": 2,
   "metadata": {
    "collapsed": true
   },
   "outputs": [],
   "source": [
    "%run scripts/helper.py"
   ]
  },
  {
   "cell_type": "code",
   "execution_count": 3,
   "metadata": {
    "collapsed": true
   },
   "outputs": [],
   "source": [
    "crowd_train = load_file('./data/train.csv/train.csv', index_col='id')\n",
    "crowd_test = load_file('./data/test.csv/test.csv', index_col='id')"
   ]
  },
  {
   "cell_type": "code",
   "execution_count": 4,
   "metadata": {
    "collapsed": false
   },
   "outputs": [
    {
     "name": "stdout",
     "output_type": "stream",
     "text": [
      "<class 'pandas.core.frame.DataFrame'>\n",
      "Int64Index: 10158 entries, 1 to 32668\n",
      "Data columns (total 5 columns):\n",
      "query                  10158 non-null object\n",
      "product_title          10158 non-null object\n",
      "product_description    10158 non-null object\n",
      "median_relevance       10158 non-null int64\n",
      "relevance_variance     10158 non-null float64\n",
      "dtypes: float64(1), int64(1), object(3)\n",
      "memory usage: 357.1+ KB\n"
     ]
    }
   ],
   "source": [
    "# structure of the training and test dataset\n",
    "crowd_train.info()"
   ]
  },
  {
   "cell_type": "code",
   "execution_count": 5,
   "metadata": {
    "collapsed": false
   },
   "outputs": [
    {
     "name": "stdout",
     "output_type": "stream",
     "text": [
      "<class 'pandas.core.frame.DataFrame'>\n",
      "Int64Index: 22513 entries, 3 to 32671\n",
      "Data columns (total 3 columns):\n",
      "query                  22513 non-null object\n",
      "product_title          22513 non-null object\n",
      "product_description    22513 non-null object\n",
      "dtypes: object(3)\n",
      "memory usage: 439.7+ KB\n"
     ]
    }
   ],
   "source": [
    "# structure of the test dataset\n",
    "crowd_test.info()"
   ]
  },
  {
   "cell_type": "code",
   "execution_count": 8,
   "metadata": {
    "collapsed": false
   },
   "outputs": [],
   "source": [
    "## Question 1: Length of text in response to search query\n",
    "crowd_train['length'] = crowd_train.apply(lambda x: len(x['product_title'] + x['product_description']), axis=1)"
   ]
  },
  {
   "cell_type": "code",
   "execution_count": 9,
   "metadata": {
    "collapsed": false
   },
   "outputs": [
    {
     "data": {
      "text/plain": [
       "count    10158.000000\n",
       "mean       447.585942\n",
       "std        591.602290\n",
       "min          8.000000\n",
       "25%        100.000000\n",
       "50%        319.000000\n",
       "75%        596.000000\n",
       "max      19615.000000\n",
       "Name: length, dtype: float64"
      ]
     },
     "execution_count": 9,
     "metadata": {},
     "output_type": "execute_result"
    }
   ],
   "source": [
    "crowd_train.length.describe()"
   ]
  },
  {
   "cell_type": "markdown",
   "metadata": {},
   "source": [
    "### Mean length is 447 characters"
   ]
  },
  {
   "cell_type": "code",
   "execution_count": 10,
   "metadata": {
    "collapsed": false
   },
   "outputs": [
    {
     "data": {
      "text/html": [
       "<div style=\"max-height:1000px;max-width:1500px;overflow:auto;\">\n",
       "<table border=\"1\" class=\"dataframe\">\n",
       "  <thead>\n",
       "    <tr style=\"text-align: right;\">\n",
       "      <th></th>\n",
       "      <th>query</th>\n",
       "      <th>product_title</th>\n",
       "      <th>product_description</th>\n",
       "      <th>median_relevance</th>\n",
       "      <th>relevance_variance</th>\n",
       "      <th>length</th>\n",
       "    </tr>\n",
       "    <tr>\n",
       "      <th>id</th>\n",
       "      <th></th>\n",
       "      <th></th>\n",
       "      <th></th>\n",
       "      <th></th>\n",
       "      <th></th>\n",
       "      <th></th>\n",
       "    </tr>\n",
       "  </thead>\n",
       "  <tbody>\n",
       "    <tr>\n",
       "      <th>17684</th>\n",
       "      <td> yoga mat</td>\n",
       "      <td> Yoga Mat</td>\n",
       "      <td> </td>\n",
       "      <td> 4</td>\n",
       "      <td> 0</td>\n",
       "      <td> 8</td>\n",
       "    </tr>\n",
       "  </tbody>\n",
       "</table>\n",
       "</div>"
      ],
      "text/plain": [
       "          query product_title product_description  median_relevance  \\\n",
       "id                                                                    \n",
       "17684  yoga mat      Yoga Mat                                     4   \n",
       "\n",
       "       relevance_variance  length  \n",
       "id                                 \n",
       "17684                   0       8  "
      ]
     },
     "execution_count": 10,
     "metadata": {},
     "output_type": "execute_result"
    }
   ],
   "source": [
    "# lets find out shortest query result\n",
    "crowd_train[crowd_train.length == 8]"
   ]
  },
  {
   "cell_type": "code",
   "execution_count": 20,
   "metadata": {
    "collapsed": false
   },
   "outputs": [],
   "source": [
    "# lets find out whether response contains query string or not\n",
    "f = lambda x: int(x['query'].lower() in x['product_title'].lower() or x['query'].lower() in x['product_description'].lower())\n",
    "crowd_train['contains_query'] = crowd_train.apply(f, axis=1)"
   ]
  },
  {
   "cell_type": "code",
   "execution_count": 21,
   "metadata": {
    "collapsed": false
   },
   "outputs": [],
   "source": [
    "g = crowd_train.groupby(['median_relevance', 'contains_query'])"
   ]
  },
  {
   "cell_type": "code",
   "execution_count": 22,
   "metadata": {
    "collapsed": false
   },
   "outputs": [
    {
     "data": {
      "text/plain": [
       "median_relevance  contains_query\n",
       "1                 0                  719\n",
       "                  1                   55\n",
       "2                 0                 1192\n",
       "                  1                  284\n",
       "3                 0                 1213\n",
       "                  1                  524\n",
       "4                 0                 3573\n",
       "                  1                 2598\n",
       "dtype: int64"
      ]
     },
     "execution_count": 22,
     "metadata": {},
     "output_type": "execute_result"
    }
   ],
   "source": [
    "g.size()"
   ]
  },
  {
   "cell_type": "code",
   "execution_count": 26,
   "metadata": {
    "collapsed": false
   },
   "outputs": [],
   "source": [
    "crowd_train['log_length'] = np.log1p(crowd_train['length'])"
   ]
  },
  {
   "cell_type": "code",
   "execution_count": 28,
   "metadata": {
    "collapsed": false
   },
   "outputs": [
    {
     "data": {
      "image/png": "[encoded data removed]",
      "text/plain": [
       "<matplotlib.figure.Figure at 0x116b14b0>"
      ]
     },
     "metadata": {},
     "output_type": "display_data"
    }
   ],
   "source": [
    "crowd_train.hist(column='log_length', by='median_relevance');"
   ]
  },
  {
   "cell_type": "code",
   "execution_count": 41,
   "metadata": {
    "collapsed": false
   },
   "outputs": [
    {
     "data": {
      "text/plain": [
       "array([ '<ul>\\n\\t\\t<li>\\n\\t\\t\\tEnglish \\n\\t\\t\\t\\t</li>\\n    \\t<li>\\n    \\t\\t    \\n    \\t</li>\\n    \\t<li>\\n    \\t\\t\\t \\n    \\t\\t\\t \\n    \\t\\t</li>\\n    \\t</ul>\\n\\n    \\n\\t\\t\\tThis translation tool is for your convenience only. The accuracy and accessibility of the resulting translation is not guaranteed.\\n\\t\\n\\t\\n\\n\\n\\n\\t\\t\\n\\t\\t\\n\\t\\t\\t\\t\\t\\t\\t<ul>\\n\\t\\t\\t\\t\\t\\t\\t\\t<li>\\n\\t\\t\\t\\t\\t\\t\\t\\t\\t\\tEnglishEnglish\\n\\t\\t\\t\\t\\t\\t\\t\\t\\t\\t\\t</li>\\n\\t\\t\\t\\t\\t\\t\\t\\t<li>\\n\\t\\t\\t\\t\\t\\t\\t\\xd8\\xa7\\xd9\\x84\\xd8\\xb9\\xd8\\xb1\\xd8\\xa8\\xd9\\x8a\\xd8\\xa9Arabic\\n\\t\\t\\t\\t\\t\\t\\t\\t</li>\\n\\t\\t\\t\\t\\t<li>\\n\\t\\t\\t\\t\\t\\t\\t\\xe4\\xb8\\xad\\xe6\\x96\\x87\\xef\\xbc\\x88\\xe7\\xae\\x80\\xe4\\xbd\\x93\\xef\\xbc\\x89Chinese (Simplified)\\n\\t\\t\\t\\t\\t\\t\\t\\t</li>\\n\\t\\t\\t\\t\\t<li>\\n\\t\\t\\t\\t\\t\\t\\t\\xe4\\xb8\\xad\\xe6\\x96\\x87\\xef\\xbc\\x88\\xe7\\xb9\\x81\\xe4\\xbd\\x93\\xef\\xbc\\x89Chinese (Traditional)\\n\\t\\t\\t\\t\\t\\t\\t\\t</li>\\n\\t\\t\\t\\t\\t<li>\\n\\t\\t\\t\\t\\t\\t\\t\\xc4\\x8ceskyCzech\\n\\t\\t\\t\\t\\t\\t\\t\\t</li>\\n\\t\\t\\t\\t\\t<li>\\n\\t\\t\\t\\t\\t\\t\\tNederlandsDutch\\n\\t\\t\\t\\t\\t\\t\\t\\t</li>\\n\\t\\t\\t\\t\\t<li>\\n\\t\\t\\t\\t\\t\\t\\tSuomiFinnish\\n\\t\\t\\t\\t\\t\\t\\t\\t</li>\\n\\t\\t\\t\\t\\t<li>\\n\\t\\t\\t\\t\\t\\t\\t\\xce\\x95\\xce\\xbb\\xce\\xbb\\xce\\xb7\\xce\\xbd\\xce\\xb9\\xce\\xba\\xce\\xacGreek\\n\\t\\t\\t\\t\\t\\t\\t\\t</li>\\n\\t\\t\\t\\t\\t<li>\\n\\t\\t\\t\\t\\t\\t\\t\\xd7\\xa2\\xd7\\x91\\xd7\\xa8\\xd7\\x99\\xd7\\xaaHebrew\\n\\t\\t\\t\\t\\t\\t\\t\\t</li>\\n\\t\\t\\t\\t\\t<li>\\n\\t\\t\\t\\t\\t\\t\\tMagyarHungarian\\n\\t\\t\\t\\t\\t\\t\\t\\t</li>\\n\\t\\t\\t\\t\\t</ul>\\n\\t\\t\\t\\t\\t\\t\\n\\t\\t\\t\\t\\t\\n\\t\\t\\t\\t\\t\\t\\t<ul>\\n\\t\\t\\t\\t\\t\\t\\t\\t<li>\\n\\t\\t\\t\\t\\t\\t\\tBahasa IndonesiaIndonesian\\n\\t\\t\\t\\t\\t\\t\\t\\t</li>\\n\\t\\t\\t\\t\\t<li>\\n\\t\\t\\t\\t\\t\\t\\t\\xe6\\x97\\xa5\\xe6\\x9c\\xac\\xe8\\xaa\\x9eJapanese\\n\\t\\t\\t\\t\\t\\t\\t\\t</li>\\n\\t\\t\\t\\t\\t<li>\\n\\t\\t\\t\\t\\t\\t\\t\\xed\\x95\\x9c\\xea\\xb5\\xad\\xec\\x96\\xb4Korean\\n\\t\\t\\t\\t\\t\\t\\t\\t</li>\\n\\t\\t\\t\\t\\t<li>\\n\\t\\t\\t\\t\\t\\t\\tNorskNorwegian\\n\\t\\t\\t\\t\\t\\t\\t\\t</li>\\n\\t\\t\\t\\t\\t<li>\\n\\t\\t\\t\\t\\t\\t\\tPortugu\\xc3\\xaasPortuguese\\n\\t\\t\\t\\t\\t\\t\\t\\t</li>\\n\\t\\t\\t\\t\\t<li>\\n\\t\\t\\t\\t\\t\\t\\tRom\\xc3\\xa2n\\xc4\\x83Romanian\\n\\t\\t\\t\\t\\t\\t\\t\\t</li>\\n\\t\\t\\t\\t\\t<li>\\n\\t\\t\\t\\t\\t\\t\\t\\xd0\\xa0\\xd1\\x83\\xd1\\x81\\xd1\\x81\\xd0\\xba\\xd0\\xb8\\xd0\\xb9Russian\\n\\t\\t\\t\\t\\t\\t\\t\\t</li>\\n\\t\\t\\t\\t\\t<li>\\n\\t\\t\\t\\t\\t\\t\\tSloven\\xc4\\x8dinaSlovak\\n\\t\\t\\t\\t\\t\\t\\t\\t</li>\\n\\t\\t\\t\\t\\t<li>\\n\\t\\t\\t\\t\\t\\t\\t\\n\\t\\t\\t\\t\\t\\t\\t\\t</li>\\n\\t\\t\\t\\t\\t</ul>\\n\\t\\t\\t\\t\\t\\t\\n\\t\\t\\t\\t\\t\\n\\t\\t\\t\\t\\t\\t\\t<ul>\\n\\t\\t\\t\\t\\t\\t\\t\\t<li>\\n\\t\\t\\t\\t\\t\\t\\tFran\\xc3\\xa7aisFrench\\n\\t\\t\\t\\t\\t\\t\\t\\t</li>\\n\\t\\t\\t\\t\\t<li>\\n\\t\\t\\t\\t\\t\\t\\tItalianoItalian\\n\\t\\t\\t\\t\\t\\t\\t\\t</li>\\n\\t\\t\\t\\t\\t<li>\\n\\t\\t\\t\\t\\t\\t\\tEspa\\xc3\\xb1olSpanish\\n\\t\\t\\t\\t\\t\\t\\t\\t</li>\\n\\t\\t\\t\\t\\t<li>\\n\\t\\t\\t\\t\\t\\t\\tSvenskaSwedish\\n\\t\\t\\t\\t\\t\\t\\t\\t</li>\\n\\t\\t\\t\\t\\t<li>\\n\\t\\t\\t\\t\\t\\t\\t\\xe0\\xb8\\xa0\\xe0\\xb8\\xb2\\xe0\\xb8\\xa9\\xe0\\xb8\\xb2\\xe0\\xb9\\x84\\xe0\\xb8\\x97\\xe0\\xb8\\xa2Thai\\n\\t\\t\\t\\t\\t\\t\\t\\t</li>\\n\\t\\t\\t\\t\\t<li>\\n\\t\\t\\t\\t\\t\\t\\tT\\xc3\\xbcrk\\xc3\\xa7eTurkish\\n\\t\\t\\t\\t\\t\\t\\t\\t</li>\\n\\t\\t\\t\\t\\t<li>\\n\\t\\t\\t\\t\\t\\t\\t\\xd0\\xa3\\xd0\\xba\\xd1\\x80\\xd0\\xb0\\xd1\\x97\\xcc\\x81\\xd0\\xbd\\xd1\\x81\\xd1\\x8c\\xd0\\xba\\xd0\\xb0Ukrainian\\n\\t\\t\\t\\t\\t\\t\\t\\t</li>\\n\\t\\t\\t\\t\\t<li>\\n\\t\\t\\t\\t\\t\\t\\tTi\\xe1\\xba\\xbfng Vi\\xe1\\xbb\\x87tVietnamese\\n\\t\\t\\t\\t\\t\\t\\t\\t</li>\\n\\t\\t\\t\\t\\t</ul>\\n\\t\\t\\t\\t\\t\\t\\n\\t\\t\\t\\t\\t\\n\\t\\t\\n\\t\\t\\t<ul>\\n\\t\\t\\t\\t<li></li>\\n\\t\\t\\t\\t<li>Note: The accuracy and accessibility of the resulting translation is not guaranteed.</li>\\n\\t\\t\\t</ul>\\n\\t\\t\\n\\t\\n\\n\\t\\n\\n\\t\\t\\t\\t\\n\\t\\t\\t\\n\\t\\t\\n\\teBay item number:151658458019\\n\\n\\n\\tSeller assumes all responsibility for this listing.\\n\\t\\n\\t\\tLast updated on\\n\\t\\t&nbsp;May 03, 2015 22:58:06 PDT&nbsp;\\n\\t\\tView all revisions\\n\\t\\t\\n\\t\\n\\n\\t\\t\\n\\t\\t\\t\\n\\t\\t\\t\\t\\t<strong>Item specifics</strong>\\n\\t\\t\\t\\t\\t<table>\\n\\t\\t\\t\\t\\t\\t\\n\\t\\t\\t\\t\\t\\t<tr>\\n\\t\\t\\t\\t\\t\\t\\t\\t\\t<td>\\n\\t\\t\\t\\t\\t\\t\\t\\t\\t \\t\\t\\tCondition:</td>\\n\\t\\t\\t\\t\\t\\t\\t\\t\\t\\t\\t \\n\\t\\t\\t\\t\\t\\t\\t\\t\\t\\t\\t<td>\\n\\t\\t\\t\\t\\t\\t\\t\\t\\t\\t\\t\\t\\n\\t\\t\\t\\t\\t\\t\\t\\t\\t\\t\\t\\t\\t\\t\\t\\t\\t\\n\\t\\t\\t\\t\\t\\t\\t\\t\\t\\t\\t\\t\\t\\t\\t\\n\\t\\t\\t\\t\\t\\t\\t\\t\\t\\t\\t\\t\\t\\t\\t\\n\\t\\t\\t\\t\\t\\t\\t\\t\\t\\t\\t\\t\\t\\t\\t\\n\\t\\t\\t\\t\\t\\t\\t\\t\\t\\t\\t\\t\\t\\t\\t\\tNew: A brand-new, unused, unopened, undamaged item (including handmade items). See the seller\\'s listing \\n\\t\\t\\t\\t\\t\\t\\t\\t\\t\\t\\t\\t\\t\\t\\t\\t\\n\\t\\t\\t\\t\\t\\t\\t\\t\\t\\t\\t\\t\\t\\t\\t\\t\\t\\t\\tfor full details.\\n\\t\\t\\t\\t\\t\\t\\t\\t\\t\\t\\t\\t\\t\\t\\t\\t\\t\\t\\t\\t\\tSee all condition definitions<strong>- opens in a new window or tab</strong>\\n\\t\\t\\t\\t\\t\\t\\t\\t\\t\\t\\t\\t\\t\\t\\t\\t\\t\\t\\t\\n\\t\\t\\t\\t\\t\\t\\t\\t\\t\\t\\t\\t\\t\\t\\t\\t\\t\\t\\n\\t\\t\\t\\t\\t\\t\\t\\t\\t\\t\\t\\t\\t\\t\\t\\t\\t\\t\\n\\t\\t\\t\\t\\t\\t\\t\\t\\t\\t\\t\\t\\t\\t\\t\\t\\t\\t\\n\\t\\t\\t\\t\\t\\t\\t\\t\\t\\t\\t\\t\\t\\t\\t\\t\\t\\t\\t... Read more<strong>about the condition</strong>\\t\\n\\t\\t\\t\\t\\t\\t\\t\\t\\t\\t\\t\\t\\t\\t\\t\\t\\t\\t\\n\\t\\t\\t\\t\\t\\t\\t\\t\\t\\t\\t\\t\\t\\t\\t\\t\\t\\n\\t\\t\\t\\t\\t\\t\\t\\t\\t\\t\\t\\t\\t\\t\\t\\n\\t\\t\\t\\t\\t\\t\\t\\t\\t\\t\\t\\t\\t\\t\\n\\t\\t\\t\\t\\t\\t\\t\\t\\t\\t\\t\\t\\t</td>\\n\\t\\t\\t\\t\\t\\t\\t\\t\\t\\t<td>\\n\\t\\t\\t\\t\\t\\t\\t\\t\\t \\t\\t\\tType: </td>\\n\\t\\t\\t\\t\\t\\t\\t\\t\\t\\t\\t \\n\\t\\t\\t\\t\\t\\t\\t\\t\\t\\t\\t<td>\\n\\t\\t\\t\\t\\t\\t\\t\\t\\t\\t\\t\\tDc Comics Direct Action Figure Collection</td>\\n\\t\\t\\t\\t\\t\\t\\t\\t\\t\\t</tr>\\n\\t\\t\\t\\t\\t\\t\\t<tr>\\n\\t\\t\\t\\t\\t\\t\\t\\t\\t<td>\\n\\t\\t\\t\\t\\t\\t\\t\\t\\t \\t\\t\\tMaterial: </td>\\n\\t\\t\\t\\t\\t\\t\\t\\t\\t\\t\\t \\n\\t\\t\\t\\t\\t\\t\\t\\t\\t\\t\\t<td>\\n\\t\\t\\t\\t\\t\\t\\t\\t\\t\\t\\t\\tPVC</td>\\n\\t\\t\\t\\t\\t\\t\\t\\t\\t\\t<td>\\n\\t\\t\\t\\t\\t\\t\\t\\t\\t \\t\\t\\tTheme: </td>\\n\\t\\t\\t\\t\\t\\t\\t\\t\\t\\t\\t \\n\\t\\t\\t\\t\\t\\t\\t\\t\\t\\t\\t<td>\\n\\t\\t\\t\\t\\t\\t\\t\\t\\t\\t\\t\\tBATMAN THE DARK KNIGHT</td>\\n\\t\\t\\t\\t\\t\\t\\t\\t\\t\\t</tr>\\n\\t\\t\\t\\t\\t\\t\\t<tr>\\n\\t\\t\\t\\t\\t\\t\\t\\t\\t<td>\\n\\t\\t\\t\\t\\t\\t\\t\\t\\t \\t\\t\\tBrand: </td>\\n\\t\\t\\t\\t\\t\\t\\t\\t\\t\\t\\t \\n\\t\\t\\t\\t\\t\\t\\t\\t\\t\\t\\t<td>\\n\\t\\t\\t\\t\\t\\t\\t\\t\\t\\t\\t\\t<strong>DC Comics</strong></td>\\n\\t\\t\\t\\t\\t\\t\\t\\t\\t\\t</tr>\\n\\t\\t\\t\\t\\t\\t\\t\\n\\t\\t\\t\\t\\t\\t\\t</table>\\n\\t\\t\\t\\t\\t\\t\\n\\t\\t\\t\\t\\t\\n\\t\\t\\t\\n\\t\\n\\t\\t\\t\\t<table>\\n\\t<tr>\\n\\t\\t<td>\\n\\t\\t\\t   \\n    .realnotdis{display:none;}\\n    html, body, div, span, applet, object, iframe,\\n    h1, h2, h3, h4, h5, h6, ul, p, blockquote, pre,\\n    a, abbr, acronym, address, big, cite, code,\\n    del, dfn, em, img, ins, kbd, q, s, samp,\\n    small, strike, strong, sub, sup, tt, var,\\n    b, u, i, center,\\n    dl, dt, dd, ol,\\n    fieldset, form, label, legend,caption, tbody, tfoot, thead,\\n    article, aside, canvas, details, embed, \\n    figure, figcaption, footer, header, hgroup, \\n    menu, nav, output, ruby, section, summary,\\n    time, mark, audio, video {\\n     margin: 0;\\n     border: 0;\\n    }\\n    /* HTML5 display-role reset for older browsers */\\n    article, aside, details, figcaption, figure, \\n    footer, header, hgroup, menu, nav, section {\\n     display: block;\\n    }\\n    body {\\n     line-height: 1;\\n    }\\n    blockquote, q {\\n     quotes: none;\\n    }\\n    blockquote:before, blockquote:after,\\n    q:before, q:after {\\n     content: \\'\\';\\n     content: none;\\n    }\\n    a img {\\n      border: none;\\n    }\\n    #subbody{margin: 0 auto;position: relative;}\\n   \\n   \\n\\n\\n\\n  \\n  \\n  \\n  \\n  #mmtable {width: 850px;}\\n.mobile-nav-holder {\\n  margin-top: 20px !important;\\n  }\\n  .mobile-nav-holder .mobile-selector, .mobile-topnav-holder .mobile-selector, #mobile-nav, #mobile-nav li a, #mobile-nav li a:hover, .mobile-nav-holder .mobile-selector .selector-down {\\n  border-color: #dadada;\\n  }\\n  .mobile-nav-holder .mobile-selector, .mobile-topnav-holder .mobile-selector {\\n  background: #fff;\\n  border: 1px solid #DADADA;\\n  line-height: 31px;\\n  width: 100%;\\n  position: relative;\\n  font-size: 12px;\\n  cursor: pointer;\\n  }\\n  #mobile-nav {\\n  border-left: 1px solid #DBDBDB;\\n  border-right: 1px solid #DBDBDB;\\n  list-style-type: none;\\n  padding: 0px;\\n  margin: 0px;\\n  width: 100%;\\n  background: #ffffff;\\n  }\\n  #mobile-nav li a {\\n  border-bottom: 1px solid #DBDBDB;\\n  color: #333333;\\n  padding: 10px;\\n  font-size: 12px;\\n  display: block;\\n  line-height: normal;\\n  text-align:left;\\n  text-decoration: none;\\n  }\\n  #mmtable .cimg{text-align: center;}\\n  .cimg{text-align: center;}\\n  #mmtable .mmtabletext{margin-left: 30px; line-height:1; }\\n  #pttable tr td{width: 50%;vertical-align: middle;}\\n  #pttable tr td div{margin: 0px 30px 0px 30px;}\\n  .poster_pic{max-width:800px;}\\n  .ItemSpecificstableALL tr td:first-child,.AttributestableALL tr td:first-child{min-width: 110px;}\\n  .ItemSpecificstableALL tr td:last-child,.AttributestableALL tr td:last-child{min-width: 110px;}\\n  #policy_box1_text,#policy_box2_text,#policy_box3_text,#policy_box4_text,#policy_box5_text,#policy_bot_text{overflow: hidden;}\\n  .hotitemtitle{overflow: hidden;text-overflow: ellipsis;white-space: nowrap;width: 100px;height: 15px;}\\n  .hotitemli{margin: auto;margin-top: 2px;font-size:12px}\\n  .hotitemli div , .hotitemli p{font-size:12px}\\n  .hotitemli td{vertical-align: middle;padding: 2PX;}\\n  #smail_pic_box{margin-left: 4px;}\\n  .abright{display: inline-block;float: right;text-align: left;margin: 2px;}\\n  .ableft{display: inline-block;float: left;text-align: left;margin: 2px;}\\n  .abcenter{display: block;width:100%;margin: auto;text-align: center;margin: 2px;}\\n  .dbbox{margin-bottom: 10px;border: 1px solid transparent; display: inline-block;overflow: hidden;vertical-align: top;border-radius: 10px;transition: box-shadow .25s,min-height .35s;\\n  -moz-transition: box-shadow .25s,min-height .35s;\\n  -webkit-transition: box-shadow .25s,min-height .35s;\\n  transition-delay: box-shadow .75s;\\n  -moz-transition-delay: box-shadow .75s;\\n  -webkit-transition-delay: box-shadow;}\\n  .dbbox:hover{border: 1px solid #f0f0f0;\\n  border-radius: 10px;\\n  box-shadow: 6px 6px 5px rgba(0,0,0,0.1);\\n  z-index: 5;\\n  }\\n  #Next_to_Product_Photo{margin: auto;text-align: center;}\\n  .cbp{ display:inline-block;vertical-align: top;margin-right: 5px;}\\n  #Below_All_Product_Photo,#Below_All_Product_Posters,#above_product_Photo,.MM_h_desc,#desc_html,#feedback_html,#poster_html,#tabContainer,#policy_html{width: 800px;margin: auto;text-align: center;word-break: break-word;}\\n  .mm5{margin:3px}\\n  .needpadding{padding-top: 5px;padding-bottom: 5px;}\\n  #left1080{padding-left: 3px;}\\n  #right1080{max-width: 880px;}\\n  #Attributestable{margin-top: 6px;}\\n  #Attributestable td:first-child{text-align: left;}\\n  #Attributestable td{padding: 3px;border:1px solid #b2b2b2;}\\n  #ItemSpecificstable{margin-top: 6px;}\\n  #ItemSpecificstable td:first-child{text-align: left;}\\n  #ItemSpecificstable td{padding: 3px;border:px  ;}\\n  .navitemc{margin: 3px;}\\n  .mcenter{width:100%;margin: auto;}\\n  .outer{width: 100%;text-align: center;}\\n  .inner{display: inline-block;}\\n  #logo{clear:both;text-align:center;}\\n  .navitemitem{color:#666666}\\n  .top3px{padding-top: 2px;}\\n  #smail_pic_box{}\\n  .table_d {width:100%;}\\n  .m_p{max-width:786px;}\\n  #mobilebox .m_p{width:100%; max-width:786px;}\\n  .mobpovinfo img{display: none;}\\n  #mobilefooter, #mobilebox {display: none}\\n  #mobilebox {width: 0}\\n  #promotion_html{}\\n  #sample2_graphic_setting_Shop_Name_Banner{position: relative;}\\n  .shopsubnameaddon{position: absolute; font-family: Orbitron !important;font-size: 26px;color:#999999;top:95px;left:25px;}\\n  .shopnameaddon{position: absolute;font-family: Frijole !important;font-size: 44px;color:#0000ff;top:-1px;left:320px;}  \\n  .mpicbanner .shopnameaddon{font-size: 22px;}\\n  .settop{height: 35px;}\\n  .topsuname{font-weight:bold;}\\n  .catbutton{cursor: pointer;margin:3px;border-radius: 2px;BORDER: #555 1px solid;text-shadow: 0 1px 1px rgba(0,0,0,.3);box-shadow: 0 1px 2px rgba(0,0,0,.2);FONT-SIZE:10px;min-width: 4em;height: 20px;COLOR: #FFFFFF;background-color: #56aaff;font-family: Arial;}\\n  .catbutton:hover{background-color: #7f7f7f;}\\n  .layoutborder{background-color: #ffffff; top: -3px;margin-bottom: -3px;position: relative;z-index: 0;border-radius: 5px;text-align: left;}\\n  .layoutborder{border:1px solid #d7e6f4;}\\n  .tdescexttd{text-align: inherit !important;}\\n  .gboxout{background-color: #21abc4;  font-family: Snowburst One !important;font-size: 18px;color:#ffffff;position: relative;z-index:1;padding-left: 10px;padding-top: 2px;padding-bottom: 2px;border-top-right-radius: 5px;border-top-left-radius: 5px;}\\n  .gbox{font-family: Arial !important;font-size: 12px;color:#666666 !important;}\\n  .Cattop ul li:hover a{color: #000000;text-decoration: none;}\\n  .widthset850{max-width:850px}\\n  .widthset160{max-width:160px}\\n #floata{float:right;}#c_box{ clear: both;}.fontbox{position: absolute; }\\n\\n  .soout{display:none;position:fixed;width:180px;height:320px;background:rgba(255, 255, 255, 0.9);padding: 10px;flort:left;border-radius: 10px;border: 1px solid #9c9c9c;}\\n  .soout img{height:180px !important;width:180px !important;border: 1px solid #9c9c9c;}\\n  .soout .hotitemtitle{overflow:visible !important;width:170px !important;white-space: normal;height: inherit;height:110px;}\\n  #subbody{border-radius:10px;box-shadow:4px 4px 3px rgba(158,158,158,0.5);line-height:1.5;width:850px;background-color: #ffffff; border: 10px none #7a3232;}\\n  #subbody #big_pic div,#subbody #smail_pic_box div,.imgdiv,.product_photo_need_hide,.product_photo_need_hide div{line-height:0;}\\n  #smail_pic_box img{margin: 2px;}\\n  #mobilebox{background-color: #ffffff; border: 5px none #7a3232;padding:5px 5px 5px 5px;}\\n  .overf{overflow:hidden;}\\n  #menubar{ height:25px;}\\n  .catnbwidthset{max-width:800px;}\\n  .menurow{height:100%;float:left;width:152px;position:relative;font-size:12px;color:#f7f7f6;font-family:Arial;}\\n  .menurow a{position: relative;top: 20%;}\\n  .menurow a:link , .menurow a:visited , .menurow a:hover{font-family:Arial !important;color:#f7f7f6; text-decoration: none;}\\n  .menuright{border-right: #f7f7f6 1px solid ;}\\n  #menudisplay{top: -4px;left: -3px;display: none; position:relative;height:25px;width:850px;background-image:url(http://www.soldeazy.com/pub/navbar/webbar5.png);}\\n  #big_smail_pic{clear:both;padding-left:10px;padding-top:10px}\\n  .navpic{padding-top: 2px;padding-bottom: 2px;}\\n  #feedback_html{text-align:left;border-radius: 10px;box-shadow: 6px 6px 5px rgba(0,0,0,0.1);}\\n  .mobpovinfo{background-color: #1786a5;}\\n  .policy_box{background-color: #1786a5; border-radius: 10px;box-shadow: 6px 6px 5px rgba(0,0,0,0.1);border: 2px none #7f7f7f;}\\n  #poster_html{text-align:center; clear:both ;width: 800px;}\\n  #policy_box1{ text-align:left; margin-top:5px; }\\n  #policy_box2{ text-align:left; margin-top:5px; }\\n  #policy_box3{ text-align:left; margin-top:5px; }\\n  #policy_box4{ text-align:left; margin-top:5px; }\\n  #policy_box5{ text-align:left; margin-top:5px; }\\n  .poster_pic{padding-top:3px;}\\n  #rmpic{position: relative;}\\n  #rmpic_l{position: absolute;left:0px;top:50%;filter: alpha(opacity=40);opacity: 0.4;z-index: 9999;display:none;}\\n  #rmpic_r{position: absolute;right:0px;top:50%;filter: alpha(opacity=40);opacity: 0.4;z-index: 9999;display:none;}\\n  .poster_pic img{max-width: 786px;}\\n  .desc_details{margin-right:auto;text-align:left;font-size:  12PX;font-family: Arial;color: #4c4c4c;overflow: hidden;padding-left:0px !important;}\\n  .desc_details ul{text-align:left;padding:0px;margin-left:20px;list-style:square;}  \\n  .descdiv {margin-right:auto; margin:6px 0px 0px 0px;padding:0px;font-size:12PX;font-family:Arial;color:#4c4c4c;}  \\n  .descdiv ul{}\\n  .desc_details{font-size:12PX;font-family: Arial !important;color: #4c4c4c;}\\n  #linkId{display:inline-block;}\\n  #tabscontent{text-align:left;}\\n  #desc{margin-top:30PX;}\\n  .desc_box{padding-left:5px !important;}\\n  .margin{margin-top:5px;overflow:hidden;}\\n  .mousedown{cursor: pointer;}\\n  .toptwopx{padding-top: 4px;}\\n  .m_pic_r{max-width:1100px;}\\n  .subtitle{ line-height:1.5;padding-top: 30px;padding:10px;text-align:center;color: #4c4c4c;font-family: Impact !important;font-size:25PX;}\\n  #mobile_subtitle{text-align:center;color: #4c4c4c;font-family: Impact !important;font-size:25PX;}\\n  .tabpage{padding:2px 2px 2px 2px;border:2px;border-color:#7f7f7f;border-style:none;border-bottom-left-radius: 10px;border-bottom-right-radius: 10px;}\\n  #tabscontent{margin-bottom:10px}\\n  .w180{font-size: 8px;}\\n  #smail_pic_box{text-align: left;}\\n  #gallery{box-shadow: 3px 3px 5px rgba(0,0,0,0.1);}\\n  .smail_pic{box-shadow: 3px 3px 5px rgba(0,0,0,0.1);display: inline-block;border: 1px solid #9c9c9c;}\\n  .smail_pic:hover{box-shadow: 6px 6px 5px rgba(0,0,0,0.1);}\\n  #tabContainer { background-color: #1786a5;width:800px;border-radius: 10px;box-shadow: 6px 6px 5px rgba(0,0,0,0.1);word-wrap: break-word;}\\n  .pbp{margin-bottom: 3px;border-radius: 10px;border: 1px solid transparent;vertical-align: top;border-radius: 10px;width:180px;overflow: hidden;}\\n  .pbp:hover{}\\n  #tabscontent{clear: both;}\\n  #tabs > ul{margin:0;padding:0;font: 1em;list-style:none;}\\n  #tabs > ul > li{min-height: 12px;box-shadow: 6px 6px 5px rgba(0,0,0,0.1);margin:0 2px 0 0;padding:7px 10px;display:block;float:left;color:#ffffff;-moz-user-select: none;user-select: none;\\n   border-top-left-radius:4px;border-top-right-radius: 4px;border-bottom-right-radius: 0px;border-bottom-left-radius: 0px; background: #56aaff; /* old browsers */\\n   width:138px;font-size:  16PX;font-family: Times !important;\\n  }\\n  .hotitemli > tbody > tr{border-bottom: 1px dashed #E5E5E5;}\\n  .hotitemli > tbody > tr:last-child{border-bottom: 0px dashed #E5E5E5;}\\n  .hotitemli >  tr{border-bottom: 1px dashed #E5E5E5;}\\n  .hotitemli >  tr:last-child{border-bottom:0px dashed #E5E5E5;}\\n  #tabs > ul > li:hover{cursor:pointer;}\\n  .mobpovh{cursor:pointer;background-color:#56aaff;border-top-left-radius: 15px;font-size:18px;padding: 10px;margin-top: 5px;color: #ffffff;}\\n  .mobpovinfo{padding: 5px;overflow:hidden;}\\n  .imgapx2{}\\n  .user_edit ul, .user_edit dl{*margin-right: 0px;padding: 0 40px;list-style: square;}\\n  .user_edit ol{*margin-right: 0px;padding: 0 40px;list-style:decimal;}\\n  .user_edit table, .user_edit td, .user_edit tr{ border: double;}\\n  #Store-Search ul{list-style: none;}\\n  #tabs > ul > li.tabActiveHeader{background: #005fbf; /* old browsers */\\n  color: #ffffff;cursor:pointer;width:138px;}\\n   @font-face {\\n  font-family: \\'Orbitron\\';\\n  font-style: normal;\\n  font-weight: 400;\\n  src: local(\\'Orbitron-Light\\'), local(\\'Orbitron-Regular\\'), url(https://themes.googleusercontent.com/static/fonts/orbitron/v3/94ug0rEgQO_WuI_xKJMFc_esZW2xOQ-xsNqO47m55DA.woff) format(\\'woff\\');\\n}\\n@font-face {\\n  font-family: \\'Frijole\\';\\n  font-style: normal;\\n  font-weight: 400;\\n  src: local(\\'Frijole\\'), url(https://themes.googleusercontent.com/static/fonts/frijole/v2/JMJmIdqpEk7-RyNfk_4Nrw.woff) format(\\'woff\\');\\n}\\n@font-face {\\n  font-family: \\'Snowburst One\\';\\n  font-style: normal;\\n  font-weight: 400;\\n  src: local(\\'Snowburst One\\'), local(\\'SnowburstOne-Regular\\'), url(https://themes.googleusercontent.com/static/fonts/snowburstone/v1/zSQzKOPukXRux2oTqfYJjPn8qdNnd5eCmWXua5W-n7c.woff) format(\\'woff\\');\\n}\\n\\n   .showbtn{display:none;}\\n  #Zoom-Icon{\\n   position: absolute;\\n   bottom: 0px;\\n   padding: 0;\\n   background-image: url(http://soldeazy.com/pub/zoom.gif);\\n   background-repeat: no-repeat;\\n   height: 25px;\\n   width: 25px;\\n   font-size: 0.75em;\\n   color: #A6A6A6;\\n   z-index: 2;\\n   cursor: pointer;\\n   right: 0px;\\n   }\\n   #gallery{position: relative;}\\n   .mpicbox{width:100%;\\n   -webkit-overflow-scrolling: touch;\\n   overflow-y: hidden;\\n   overflow-x: scroll;\\n   margin-top: 1px;\\n   }\\n   .transparent {opacity:.2;-moz-opacity:0.2}\\n   .nonOpaque {opacity:1;-moz-opacity:1}\\n   #zDIV_slideShow a {color:#000;background-color:#fff}\\n   #zDIV_slideShow {top:200px !important;display:none;position:fixed;left:0;width:100%;height:100%;background-position:50% 50%;background-repeat:no-repeat;text-align:center;margin:0;z-index:10/* IE Mac */}\\n   #zA_close {background:transparent !important}\\n   #zA_close img {border:0 !important;position: absolute;}\\n   #zIMG {padding:3px;background:#fff;border:2px solid #000}\\n.Cat_gbox{\\npadding: 5px;\\n}\\nstrong{font-weight:900;}\\n.ebaybtn{\\ntext-decoration: none;\\nbottom: 6px;\\nright: 2px;\\nposition:fixed;\\nbackground: #808A0E;\\ndisplay: inline-block;\\ntext-align: center;\\npadding: 10px 5%;\\ncolor: #fff;\\ntext-decoration: none;\\nfont-weight: bold;\\nline-height: 1;\\nfont-family: \\'Helvetica Neue\\', \\'Helvetica\\', Arial, Verdana, sans-serif !important;\\ncursor: pointer;\\nborder: none;\\noutline: none;\\n-moz-box-shadow: inset 0 1px 0 rgba(255,255,255,.5);\\n-webkit-box-shadow: inset 0 1px 0 rgba(255,255,255,.5);\\nbox-shadow: inset 0 1px 0 rgba(255,255,255,.5);\\ntext-shadow: 0 -1px 1px rgba(0,0,0,0.28);\\nborder: 1px solid #808A0E;\\n-moz-border-radius: 4px;\\n-webkit-border-radius: 4px;\\nborder-radius: 4px;\\nfont-size: 18px;\\nz-index:5;\\n}\\n.ebaybtnbuy{\\nbackground: #3525F3;\\nright: 30%;\\n}\\n.ebaybtnbinclear:after {clear: both; content: \".\"; display: block; font-size: 0; height: 0; visibility: hidden}\\n.showbtn{\\ntext-decoration: none;\\nbottom: 6px;\\nleft:2px;\\nposition:fixed;\\nbackground: red;\\ndisplay: inline-block;\\ntext-align: center;\\npadding: 11px 5%;\\ncolor: #fff;\\ntext-decoration: none;\\nfont-weight: bold;\\nline-height: 1;\\nfont-family: \\'Helvetica Neue\\', \\'Helvetica\\', Arial, Verdana, sans-serif !important;\\ncursor: pointer;\\nborder: none;\\noutline: none;\\n-moz-box-shadow: inset 0 1px 0 rgba(255,255,255,.5);\\n-webkit-box-shadow: inset 0 1px 0 rgba(255,255,255,.5);\\nbox-shadow: inset 0 1px 0 rgba(255,255,255,.5);\\ntext-shadow: 0 -1px 1px rgba(0,0,0,0.28);\\nborder: 1px solid red;\\n-moz-border-radius: 4px;\\n-webkit-border-radius: 4px;\\nborder-radius: 4px;\\nfont-size: 18px;\\nz-index:5;\\n}\\n.catline{cursor: pointer;}\\n.cathide{display:none;}\\n#popupbox{\\n display:none;\\n position:fixed;\\n background:none;\\n width:100%;\\n height:100%;\\n z-index:999;\\n overflow:hidden;\\n top: 0px;\\n left: 0px;\\n }\\n\\n#oimg{\\n position:absolute;\\n z-index:-1;\\n top:0;\\n left:0;\\n background: #000000;\\n width:100%;\\n height:100%;\\n filter:alpha(opacity=50);\\n opacity:.5;}\\n\\n#ct2:hover #oimg{\\n opacity:1;}\\n#ct2{ \\n position:relative;\\n display: inline-block;\\n }\\n #popup_img{\\n max-width:1000px;\\n max-height:1000px;\\n }\\n #popup_c{\\nposition: absolute;\\nright: 0px;\\ntop: 0px;\\ncursor: pointer;\\n}\\n#skeybox{display:none;}\\n#Bwidht{vertical-align: top;}\\n.mpicbanner .shopsubnameaddon{left:2px;}\\n.mpicbanner .shopsubnameaddon{top:inherit;}\\n.mpicbanner .shopsubnameaddon{bottom:8px;}\\n.mpicbanner .shopnameaddon{top:15px;}\\n.mpicbanner .shopnameaddon{left:2px;}\\n  \\n    \\n   \\n    \\n   \\n      </td></tr></table>'], dtype=object)"
      ]
     },
     "execution_count": 41,
     "metadata": {},
     "output_type": "execute_result"
    }
   ],
   "source": [
    "# lets find out the longest description\n",
    "crowd_train[crowd_train.length == 19615.000000].product_description.values"
   ]
  },
  {
   "cell_type": "code",
   "execution_count": 73,
   "metadata": {
    "collapsed": true
   },
   "outputs": [],
   "source": [
    "from sklearn.feature_extraction.text import TfidfVectorizer"
   ]
  },
  {
   "cell_type": "code",
   "execution_count": 74,
   "metadata": {
    "collapsed": false
   },
   "outputs": [],
   "source": [
    "traindata = prepareText(crowd_train.head(10))"
   ]
  },
  {
   "cell_type": "code",
   "execution_count": 75,
   "metadata": {
    "collapsed": false
   },
   "outputs": [],
   "source": [
    "tfidf = TfidfVectorizer(min_df=3, max_features=None, \n",
    "            strip_accents='unicode', analyzer='char',\n",
    "            ngram_range=(1, 5), use_idf=1,smooth_idf=1,sublinear_tf=1,\n",
    "            stop_words = 'english')\n",
    "Xt = tfidf.fit_transform(traindata)"
   ]
  },
  {
   "cell_type": "code",
   "execution_count": null,
   "metadata": {
    "collapsed": true
   },
   "outputs": [],
   "source": []
  },
  {
   "cell_type": "code",
   "execution_count": 64,
   "metadata": {
    "collapsed": true
   },
   "outputs": [],
   "source": [
    "## hand crafted features\n",
    "hand_crafted_features = np.array([crowd_train.length, crowd_train.contains_query]).T"
   ]
  },
  {
   "cell_type": "code",
   "execution_count": 67,
   "metadata": {
    "collapsed": false
   },
   "outputs": [],
   "source": [
    "only_one_features = hand_crafted_features[0]"
   ]
  },
  {
   "cell_type": "code",
   "execution_count": 68,
   "metadata": {
    "collapsed": true
   },
   "outputs": [],
   "source": [
    "from scipy import sparse"
   ]
  },
  {
   "cell_type": "code",
   "execution_count": 69,
   "metadata": {
    "collapsed": true
   },
   "outputs": [],
   "source": [
    "final_feature = sparse.hstack([Xt, only_one_features]).tocsr()"
   ]
  },
  {
   "cell_type": "code",
   "execution_count": 71,
   "metadata": {
    "collapsed": false
   },
   "outputs": [
    {
     "data": {
      "text/plain": [
       "array([  5.51224422e-01,   2.39662792e-02,   4.79325584e-02,\n",
       "         7.18988376e-02,   2.39662792e-02,   4.79325584e-02,\n",
       "         2.39662792e-02,   4.79325584e-02,   2.39662792e-02,\n",
       "         4.79325584e-02,   4.79325584e-02,   4.79325584e-02,\n",
       "         2.39662792e-02,   4.79325584e-02,   2.39662792e-02,\n",
       "         4.79325584e-02,   2.39662792e-02,   2.39662792e-02,\n",
       "         2.39662792e-02,   2.39662792e-02,   4.79325584e-02,\n",
       "         2.39662792e-02,   2.39662792e-02,   2.39662792e-02,\n",
       "         4.79325584e-02,   4.79325584e-02,   2.63629071e-01,\n",
       "         2.39662792e-02,   9.58651168e-02,   2.39662792e-02,\n",
       "         2.39662792e-02,   4.79325584e-02,   4.79325584e-02,\n",
       "         9.58651168e-02,   4.79325584e-02,   4.79325584e-02,\n",
       "         1.67763954e-01,   4.79325584e-02,   4.79325584e-02,\n",
       "         4.79325584e-02,   2.39662792e-02,   1.91730234e-01,\n",
       "         4.79325584e-02,   2.39662792e-02,   2.39662792e-02,\n",
       "         2.39662792e-02,   7.18988376e-02,   3.11561630e-01,\n",
       "         7.18988376e-02,   2.39662792e-02,   7.18988376e-02,\n",
       "         2.39662792e-02,   4.79325584e-02,   4.79325584e-02,\n",
       "         2.39662792e-02,   2.39662792e-02,   2.39662792e-02,\n",
       "         1.43797675e-01,   4.79325584e-02,   4.79325584e-02,\n",
       "         2.39662792e-02,   2.39662792e-02,   2.39662792e-01,\n",
       "         4.79325584e-02,   2.39662792e-02,   4.79325584e-02,\n",
       "         4.79325584e-02,   2.39662792e-02,   4.79325584e-02,\n",
       "         4.79325584e-02,   4.79325584e-02,   1.67763954e-01,\n",
       "         2.39662792e-02,   4.79325584e-02,   4.79325584e-02,\n",
       "         4.79325584e-02,   2.39662792e-02,   2.39662792e-02,\n",
       "         1.43797675e-01,   7.18988376e-02,   2.39662792e-02,\n",
       "         4.79325584e-02,   1.43797675e-01,   2.39662792e-02,\n",
       "         2.39662792e-02,   2.39662792e-02,   7.18988376e-02,\n",
       "         4.79325584e-02,   4.79325584e-02,   2.39662792e-01,\n",
       "         2.39662792e-02,   2.39662792e-02,   9.58651168e-02,\n",
       "         2.39662792e-02,   2.39662792e-02,   4.79325584e-02,\n",
       "         9.58651168e-02,   2.39662792e-02,   2.39662792e-02,\n",
       "         2.39662792e-02,   2.39662792e-02,   2.15696513e-01,\n",
       "         9.58651168e-02,   7.18988376e-02,   4.79325584e-02,\n",
       "         1.19831396e-01,   4.79325584e-02,   2.39662792e-02,\n",
       "         4.79325584e-02,   2.39662792e-02,   2.39662792e-02,\n",
       "         1.17000000e+02])"
      ]
     },
     "execution_count": 71,
     "metadata": {},
     "output_type": "execute_result"
    }
   ],
   "source": [
    "final_feature.data"
   ]
  },
  {
   "cell_type": "code",
   "execution_count": null,
   "metadata": {
    "collapsed": true
   },
   "outputs": [],
   "source": []
  },
  {
   "cell_type": "code",
   "execution_count": null,
   "metadata": {
    "collapsed": true
   },
   "outputs": [],
   "source": []
  },
  {
   "cell_type": "code",
   "execution_count": null,
   "metadata": {
    "collapsed": true
   },
   "outputs": [],
   "source": []
  },
  {
   "cell_type": "code",
   "execution_count": null,
   "metadata": {
    "collapsed": true
   },
   "outputs": [],
   "source": []
  },
  {
   "cell_type": "code",
   "execution_count": null,
   "metadata": {
    "collapsed": true
   },
   "outputs": [],
   "source": []
  },
  {
   "cell_type": "code",
   "execution_count": null,
   "metadata": {
    "collapsed": true
   },
   "outputs": [],
   "source": []
  },
  {
   "cell_type": "code",
   "execution_count": null,
   "metadata": {
    "collapsed": true
   },
   "outputs": [],
   "source": []
  },
  {
   "cell_type": "code",
   "execution_count": null,
   "metadata": {
    "collapsed": true
   },
   "outputs": [],
   "source": []
  },
  {
   "cell_type": "code",
   "execution_count": null,
   "metadata": {
    "collapsed": true
   },
   "outputs": [],
   "source": []
  },
  {
   "cell_type": "code",
   "execution_count": null,
   "metadata": {
    "collapsed": true
   },
   "outputs": [],
   "source": []
  },
  {
   "cell_type": "code",
   "execution_count": null,
   "metadata": {
    "collapsed": true
   },
   "outputs": [],
   "source": []
  },
  {
   "cell_type": "code",
   "execution_count": null,
   "metadata": {
    "collapsed": true
   },
   "outputs": [],
   "source": []
  },
  {
   "cell_type": "code",
   "execution_count": null,
   "metadata": {
    "collapsed": true
   },
   "outputs": [],
   "source": []
  },
  {
   "cell_type": "code",
   "execution_count": null,
   "metadata": {
    "collapsed": true
   },
   "outputs": [],
   "source": []
  },
  {
   "cell_type": "code",
   "execution_count": null,
   "metadata": {
    "collapsed": true
   },
   "outputs": [],
   "source": []
  },
  {
   "cell_type": "code",
   "execution_count": null,
   "metadata": {
    "collapsed": true
   },
   "outputs": [],
   "source": []
  },
  {
   "cell_type": "code",
   "execution_count": null,
   "metadata": {
    "collapsed": true
   },
   "outputs": [],
   "source": []
  },
  {
   "cell_type": "code",
   "execution_count": null,
   "metadata": {
    "collapsed": true
   },
   "outputs": [],
   "source": []
  },
  {
   "cell_type": "code",
   "execution_count": null,
   "metadata": {
    "collapsed": true
   },
   "outputs": [],
   "source": []
  },
  {
   "cell_type": "code",
   "execution_count": null,
   "metadata": {
    "collapsed": true
   },
   "outputs": [],
   "source": []
  },
  {
   "cell_type": "code",
   "execution_count": null,
   "metadata": {
    "collapsed": true
   },
   "outputs": [],
   "source": []
  },
  {
   "cell_type": "code",
   "execution_count": null,
   "metadata": {
    "collapsed": true
   },
   "outputs": [],
   "source": []
  },
  {
   "cell_type": "code",
   "execution_count": null,
   "metadata": {
    "collapsed": true
   },
   "outputs": [],
   "source": []
  },
  {
   "cell_type": "code",
   "execution_count": null,
   "metadata": {
    "collapsed": true
   },
   "outputs": [],
   "source": []
  },
  {
   "cell_type": "code",
   "execution_count": null,
   "metadata": {
    "collapsed": true
   },
   "outputs": [],
   "source": []
  },
  {
   "cell_type": "code",
   "execution_count": null,
   "metadata": {
    "collapsed": true
   },
   "outputs": [],
   "source": []
  },
  {
   "cell_type": "code",
   "execution_count": null,
   "metadata": {
    "collapsed": true
   },
   "outputs": [],
   "source": []
  },
  {
   "cell_type": "code",
   "execution_count": null,
   "metadata": {
    "collapsed": true
   },
   "outputs": [],
   "source": []
  },
  {
   "cell_type": "code",
   "execution_count": null,
   "metadata": {
    "collapsed": true
   },
   "outputs": [],
   "source": []
  },
  {
   "cell_type": "code",
   "execution_count": null,
   "metadata": {
    "collapsed": true
   },
   "outputs": [],
   "source": []
  },
  {
   "cell_type": "code",
   "execution_count": null,
   "metadata": {
    "collapsed": true
   },
   "outputs": [],
   "source": []
  },
  {
   "cell_type": "code",
   "execution_count": null,
   "metadata": {
    "collapsed": true
   },
   "outputs": [],
   "source": []
  },
  {
   "cell_type": "code",
   "execution_count": null,
   "metadata": {
    "collapsed": true
   },
   "outputs": [],
   "source": []
  },
  {
   "cell_type": "code",
   "execution_count": null,
   "metadata": {
    "collapsed": true
   },
   "outputs": [],
   "source": []
  },
  {
   "cell_type": "code",
   "execution_count": null,
   "metadata": {
    "collapsed": true
   },
   "outputs": [],
   "source": []
  },
  {
   "cell_type": "code",
   "execution_count": null,
   "metadata": {
    "collapsed": true
   },
   "outputs": [],
   "source": []
  },
  {
   "cell_type": "code",
   "execution_count": null,
   "metadata": {
    "collapsed": true
   },
   "outputs": [],
   "source": []
  },
  {
   "cell_type": "code",
   "execution_count": null,
   "metadata": {
    "collapsed": true
   },
   "outputs": [],
   "source": []
  },
  {
   "cell_type": "code",
   "execution_count": null,
   "metadata": {
    "collapsed": true
   },
   "outputs": [],
   "source": []
  },
  {
   "cell_type": "code",
   "execution_count": null,
   "metadata": {
    "collapsed": true
   },
   "outputs": [],
   "source": []
  },
  {
   "cell_type": "code",
   "execution_count": null,
   "metadata": {
    "collapsed": true
   },
   "outputs": [],
   "source": []
  },
  {
   "cell_type": "code",
   "execution_count": null,
   "metadata": {
    "collapsed": true
   },
   "outputs": [],
   "source": []
  },
  {
   "cell_type": "code",
   "execution_count": null,
   "metadata": {
    "collapsed": true
   },
   "outputs": [],
   "source": []
  },
  {
   "cell_type": "code",
   "execution_count": null,
   "metadata": {
    "collapsed": true
   },
   "outputs": [],
   "source": []
  },
  {
   "cell_type": "code",
   "execution_count": null,
   "metadata": {
    "collapsed": true
   },
   "outputs": [],
   "source": []
  },
  {
   "cell_type": "code",
   "execution_count": null,
   "metadata": {
    "collapsed": true
   },
   "outputs": [],
   "source": []
  },
  {
   "cell_type": "code",
   "execution_count": null,
   "metadata": {
    "collapsed": true
   },
   "outputs": [],
   "source": []
  },
  {
   "cell_type": "code",
   "execution_count": null,
   "metadata": {
    "collapsed": true
   },
   "outputs": [],
   "source": []
  },
  {
   "cell_type": "code",
   "execution_count": null,
   "metadata": {
    "collapsed": true
   },
   "outputs": [],
   "source": []
  },
  {
   "cell_type": "code",
   "execution_count": null,
   "metadata": {
    "collapsed": true
   },
   "outputs": [],
   "source": []
  },
  {
   "cell_type": "code",
   "execution_count": null,
   "metadata": {
    "collapsed": true
   },
   "outputs": [],
   "source": []
  },
  {
   "cell_type": "code",
   "execution_count": null,
   "metadata": {
    "collapsed": true
   },
   "outputs": [],
   "source": []
  },
  {
   "cell_type": "code",
   "execution_count": null,
   "metadata": {
    "collapsed": true
   },
   "outputs": [],
   "source": []
  },
  {
   "cell_type": "code",
   "execution_count": null,
   "metadata": {
    "collapsed": true
   },
   "outputs": [],
   "source": []
  },
  {
   "cell_type": "code",
   "execution_count": null,
   "metadata": {
    "collapsed": true
   },
   "outputs": [],
   "source": []
  },
  {
   "cell_type": "code",
   "execution_count": null,
   "metadata": {
    "collapsed": true
   },
   "outputs": [],
   "source": []
  },
  {
   "cell_type": "code",
   "execution_count": null,
   "metadata": {
    "collapsed": true
   },
   "outputs": [],
   "source": []
  },
  {
   "cell_type": "code",
   "execution_count": null,
   "metadata": {
    "collapsed": true
   },
   "outputs": [],
   "source": []
  },
  {
   "cell_type": "code",
   "execution_count": null,
   "metadata": {
    "collapsed": true
   },
   "outputs": [],
   "source": []
  },
  {
   "cell_type": "code",
   "execution_count": null,
   "metadata": {
    "collapsed": true
   },
   "outputs": [],
   "source": []
  },
  {
   "cell_type": "code",
   "execution_count": null,
   "metadata": {
    "collapsed": true
   },
   "outputs": [],
   "source": []
  },
  {
   "cell_type": "code",
   "execution_count": null,
   "metadata": {
    "collapsed": true
   },
   "outputs": [],
   "source": []
  },
  {
   "cell_type": "code",
   "execution_count": null,
   "metadata": {
    "collapsed": true
   },
   "outputs": [],
   "source": []
  },
  {
   "cell_type": "code",
   "execution_count": null,
   "metadata": {
    "collapsed": true
   },
   "outputs": [],
   "source": []
  },
  {
   "cell_type": "code",
   "execution_count": null,
   "metadata": {
    "collapsed": true
   },
   "outputs": [],
   "source": []
  },
  {
   "cell_type": "code",
   "execution_count": null,
   "metadata": {
    "collapsed": true
   },
   "outputs": [],
   "source": []
  },
  {
   "cell_type": "code",
   "execution_count": null,
   "metadata": {
    "collapsed": true
   },
   "outputs": [],
   "source": []
  },
  {
   "cell_type": "code",
   "execution_count": null,
   "metadata": {
    "collapsed": true
   },
   "outputs": [],
   "source": []
  },
  {
   "cell_type": "code",
   "execution_count": null,
   "metadata": {
    "collapsed": true
   },
   "outputs": [],
   "source": []
  },
  {
   "cell_type": "code",
   "execution_count": null,
   "metadata": {
    "collapsed": true
   },
   "outputs": [],
   "source": []
  },
  {
   "cell_type": "code",
   "execution_count": null,
   "metadata": {
    "collapsed": true
   },
   "outputs": [],
   "source": []
  },
  {
   "cell_type": "code",
   "execution_count": null,
   "metadata": {
    "collapsed": true
   },
   "outputs": [],
   "source": []
  },
  {
   "cell_type": "code",
   "execution_count": null,
   "metadata": {
    "collapsed": true
   },
   "outputs": [],
   "source": []
  },
  {
   "cell_type": "code",
   "execution_count": null,
   "metadata": {
    "collapsed": true
   },
   "outputs": [],
   "source": []
  },
  {
   "cell_type": "code",
   "execution_count": null,
   "metadata": {
    "collapsed": true
   },
   "outputs": [],
   "source": []
  },
  {
   "cell_type": "code",
   "execution_count": null,
   "metadata": {
    "collapsed": true
   },
   "outputs": [],
   "source": []
  },
  {
   "cell_type": "code",
   "execution_count": null,
   "metadata": {
    "collapsed": true
   },
   "outputs": [],
   "source": []
  },
  {
   "cell_type": "code",
   "execution_count": null,
   "metadata": {
    "collapsed": true
   },
   "outputs": [],
   "source": []
  },
  {
   "cell_type": "code",
   "execution_count": null,
   "metadata": {
    "collapsed": true
   },
   "outputs": [],
   "source": []
  },
  {
   "cell_type": "code",
   "execution_count": null,
   "metadata": {
    "collapsed": true
   },
   "outputs": [],
   "source": []
  },
  {
   "cell_type": "code",
   "execution_count": null,
   "metadata": {
    "collapsed": true
   },
   "outputs": [],
   "source": []
  },
  {
   "cell_type": "code",
   "execution_count": null,
   "metadata": {
    "collapsed": true
   },
   "outputs": [],
   "source": []
  },
  {
   "cell_type": "code",
   "execution_count": null,
   "metadata": {
    "collapsed": true
   },
   "outputs": [],
   "source": []
  },
  {
   "cell_type": "code",
   "execution_count": null,
   "metadata": {
    "collapsed": true
   },
   "outputs": [],
   "source": []
  },
  {
   "cell_type": "code",
   "execution_count": null,
   "metadata": {
    "collapsed": true
   },
   "outputs": [],
   "source": []
  }
 ],
 "metadata": {
  "kernelspec": {
   "display_name": "Python 2",
   "language": "python",
   "name": "python2"
  },
  "language_info": {
   "codemirror_mode": {
    "name": "ipython",
    "version": 2
   },
   "file_extension": ".py",
   "mimetype": "text/x-python",
   "name": "python",
   "nbconvert_exporter": "python",
   "pygments_lexer": "ipython2",
   "version": "2.7.6"
  }
 },
 "nbformat": 4,
 "nbformat_minor": 0
}
