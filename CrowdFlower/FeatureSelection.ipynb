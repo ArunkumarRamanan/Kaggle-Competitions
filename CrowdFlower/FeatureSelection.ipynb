{
 "cells": [
  {
   "cell_type": "code",
   "execution_count": 1,
   "metadata": {
    "collapsed": true
   },
   "outputs": [],
   "source": [
    "import warnings\n",
    "warnings.filterwarnings('ignore')\n",
    "from sklearn.pipeline import Pipeline"
   ]
  },
  {
   "cell_type": "code",
   "execution_count": 2,
   "metadata": {
    "collapsed": true
   },
   "outputs": [],
   "source": [
    "%run query_features.py\n",
    "%run scripts/helper.py\n",
    "%run scripts/model_train_plus_test.py"
   ]
  },
  {
   "cell_type": "code",
   "execution_count": 3,
   "metadata": {
    "collapsed": true
   },
   "outputs": [],
   "source": [
    "crowd_train = load_file('./data/train.csv/train.csv', None)\n",
    "crowd_test = load_file('./data/test.csv/test.csv', None)"
   ]
  },
  {
   "cell_type": "code",
   "execution_count": 4,
   "metadata": {
    "collapsed": true
   },
   "outputs": [],
   "source": [
    "crowd_train = crowd_train[crowd_train.relevance_variance < 0.5]"
   ]
  },
  {
   "cell_type": "code",
   "execution_count": 5,
   "metadata": {
    "collapsed": true
   },
   "outputs": [],
   "source": [
    "target = crowd_train.median_relevance.values"
   ]
  },
  {
   "cell_type": "code",
   "execution_count": 49,
   "metadata": {
    "collapsed": true
   },
   "outputs": [],
   "source": [
    "# train_index, test_index = ssSplit(target, train_size=8000, random_state=44)\n",
    "train_index, test_index = ssSplit(target, train_size=1000, random_state=44)"
   ]
  },
  {
   "cell_type": "code",
   "execution_count": 50,
   "metadata": {
    "collapsed": true
   },
   "outputs": [],
   "source": [
    "Xt = crowd_train.iloc[train_index]\n",
    "Xv = crowd_train.iloc[test_index]\n",
    "\n",
    "# Xt = crowd_train\n",
    "# Xv = crowd_test"
   ]
  },
  {
   "cell_type": "code",
   "execution_count": 51,
   "metadata": {
    "collapsed": true
   },
   "outputs": [],
   "source": [
    "yt = target[train_index]\n",
    "yv = target[test_index]\n",
    "\n",
    "# yt = target"
   ]
  },
  {
   "cell_type": "code",
   "execution_count": 52,
   "metadata": {
    "collapsed": true
   },
   "outputs": [],
   "source": [
    "Xt_tweaked = tweak_text(Xt)\n",
    "Xv_tweaked = tweak_text(Xv)"
   ]
  },
  {
   "cell_type": "code",
   "execution_count": 53,
   "metadata": {
    "collapsed": true
   },
   "outputs": [],
   "source": [
    "Xfitted, tfv = TFIDF(Xt_tweaked, None)"
   ]
  },
  {
   "cell_type": "code",
   "execution_count": 54,
   "metadata": {
    "collapsed": true
   },
   "outputs": [],
   "source": [
    "svd = TruncatedSVD(n_components=200, algorithm='randomized', n_iter=5, random_state=None, tol=0.0)\n",
    "\n",
    "scl = StandardScaler(copy=True, with_mean=True, with_std=True)\n",
    "\n",
    "clf = SVC(C=10.0, kernel='linear', degree=3, \n",
    "        gamma=0.0, coef0=0.0, shrinking=True, probability=False, \n",
    "        tol=0.001, cache_size=200, class_weight=None, \n",
    "        verbose=False, max_iter=-1, random_state=None)\n",
    "\n",
    "keywords = keyword_counter(Xt)"
   ]
  },
  {
   "cell_type": "code",
   "execution_count": 55,
   "metadata": {
    "collapsed": true
   },
   "outputs": [],
   "source": [
    "features = stack([keywords, Xfitted])"
   ]
  },
  {
   "cell_type": "code",
   "execution_count": 56,
   "metadata": {
    "collapsed": false
   },
   "outputs": [],
   "source": [
    "features_svd = svd.fit_transform(features)"
   ]
  },
  {
   "cell_type": "code",
   "execution_count": 57,
   "metadata": {
    "collapsed": false
   },
   "outputs": [],
   "source": [
    "features_scl = scl.fit_transform(features_svd)"
   ]
  },
  {
   "cell_type": "markdown",
   "metadata": {},
   "source": [
    "### Feature selection"
   ]
  },
  {
   "cell_type": "code",
   "execution_count": 58,
   "metadata": {
    "collapsed": true
   },
   "outputs": [],
   "source": [
    "kappa_scorer = get_kappa_scorer()"
   ]
  },
  {
   "cell_type": "code",
   "execution_count": null,
   "metadata": {
    "collapsed": false
   },
   "outputs": [],
   "source": [
    "selector = feature_selection(features_scl, yt, clf, 1, None, kappa_scorer, None, 0)"
   ]
  },
  {
   "cell_type": "code",
   "execution_count": 26,
   "metadata": {
    "collapsed": false
   },
   "outputs": [
    {
     "data": {
      "text/plain": [
       "array([ 0.09551443,  0.08587044,  0.09263525,  0.10222593,  0.10446155,\n",
       "        0.11196421,  0.11980537,  0.1532042 ,  0.18316295,  0.18411899,\n",
       "        0.19283421,  0.18717257,  0.23314848,  0.203963  ,  0.20825379,\n",
       "        0.26279836,  0.30424894,  0.32203741,  0.30186082,  0.25278024,\n",
       "        0.31742312,  0.32569698,  0.30012057,  0.27447408,  0.31833882,\n",
       "        0.31342121,  0.31756955,  0.26548062,  0.22389084,  0.23368437,\n",
       "        0.21912735,  0.21356475,  0.21658899,  0.18873339,  0.197842  ,\n",
       "        0.21829272,  0.20929388,  0.21696621,  0.21999229,  0.24068457,\n",
       "        0.23622419,  0.20397825,  0.21827953,  0.21135912,  0.23446343,\n",
       "        0.19750452,  0.20252151,  0.18871767,  0.17076826,  0.10988198,\n",
       "        0.13213942,  0.14247887,  0.17133736,  0.16121156,  0.13371489,\n",
       "        0.16145429,  0.16127367,  0.17602269,  0.17288821,  0.15778934,\n",
       "        0.17682649,  0.15262014,  0.17968618,  0.17732637,  0.17032855,\n",
       "        0.17693857,  0.16577611,  0.1756472 ,  0.14748799,  0.13333879,\n",
       "        0.13531875,  0.14256728,  0.14421636,  0.1297998 ,  0.12999505,\n",
       "        0.13111776,  0.13347969,  0.13054624,  0.13066804,  0.11786777,\n",
       "        0.10748329,  0.12599375,  0.13164103,  0.12126069,  0.13172245,\n",
       "        0.14973141,  0.1381632 ,  0.14347926,  0.1494687 ,  0.11836732,\n",
       "        0.14209801,  0.11081288,  0.12052675,  0.13134992,  0.15391132,\n",
       "        0.16443798,  0.19489916,  0.18679589,  0.19408882,  0.19987597,\n",
       "        0.19325446,  0.20296309,  0.18869364,  0.17369716,  0.17375526,\n",
       "        0.15641049,  0.16361439,  0.15484795,  0.15943795,  0.16955748,\n",
       "        0.1614979 ,  0.17480293,  0.14640037,  0.147536  ,  0.14943605,\n",
       "        0.15927827,  0.16448356,  0.16394893,  0.14914186,  0.15109373,\n",
       "        0.148167  ,  0.12231477,  0.171927  ,  0.1467997 ,  0.15001508,\n",
       "        0.14589149,  0.14230615,  0.15261398,  0.15127757,  0.15941927,\n",
       "        0.13826314,  0.12325342,  0.11749912,  0.11941622,  0.1273668 ,\n",
       "        0.13661811,  0.11678706,  0.12084   ,  0.13081467,  0.13644204,\n",
       "        0.14650248,  0.13725575,  0.12880575,  0.13964549,  0.11886544,\n",
       "        0.10889425,  0.1252021 ,  0.1262044 ,  0.13128633,  0.1070466 ,\n",
       "        0.10620304,  0.11012552,  0.12194561,  0.1185141 ,  0.10210466,\n",
       "        0.12612228,  0.13550932,  0.1437801 ,  0.13409203,  0.13157652,\n",
       "        0.13754568,  0.13349481,  0.1134101 ,  0.1084755 ,  0.11184213,\n",
       "        0.12546086,  0.10496072,  0.10044754,  0.11875523,  0.12692686,\n",
       "        0.12648058,  0.11382819,  0.10869305,  0.10664844,  0.09421044,\n",
       "        0.11362754,  0.12713682,  0.12993287,  0.12456679,  0.12112542,\n",
       "        0.12439039,  0.12986643,  0.13964398,  0.13674094,  0.11873711,\n",
       "        0.12049872,  0.13033784,  0.12472941,  0.14054241,  0.13845084,\n",
       "        0.14617703,  0.14190381,  0.12295125,  0.12317129,  0.1206635 ,\n",
       "        0.10517095,  0.10900798,  0.10670199,  0.11276843,  0.10644653])"
      ]
     },
     "execution_count": 26,
     "metadata": {},
     "output_type": "execute_result"
    }
   ],
   "source": [
    "selector.grid_scores_"
   ]
  },
  {
   "cell_type": "code",
   "execution_count": 27,
   "metadata": {
    "collapsed": true
   },
   "outputs": [],
   "source": [
    "best_estimator = selector.estimator_"
   ]
  },
  {
   "cell_type": "code",
   "execution_count": 36,
   "metadata": {
    "collapsed": false
   },
   "outputs": [
    {
     "data": {
      "text/plain": [
       "22"
      ]
     },
     "execution_count": 36,
     "metadata": {},
     "output_type": "execute_result"
    }
   ],
   "source": [
    "selector."
   ]
  },
  {
   "cell_type": "markdown",
   "metadata": {},
   "source": [
    "### Predict on test set"
   ]
  },
  {
   "cell_type": "code",
   "execution_count": 28,
   "metadata": {
    "collapsed": true
   },
   "outputs": [],
   "source": [
    "keywords_test = keyword_counter(Xv)"
   ]
  },
  {
   "cell_type": "code",
   "execution_count": 29,
   "metadata": {
    "collapsed": true
   },
   "outputs": [],
   "source": [
    "Xtest_fitted  = tfv.transform(Xv_tweaked)"
   ]
  },
  {
   "cell_type": "code",
   "execution_count": 30,
   "metadata": {
    "collapsed": true
   },
   "outputs": [],
   "source": [
    "features_test = stack([keywords_test, Xtest_fitted])"
   ]
  },
  {
   "cell_type": "code",
   "execution_count": 32,
   "metadata": {
    "collapsed": true
   },
   "outputs": [],
   "source": [
    "features_svd_test = svd.transform(features_test)"
   ]
  },
  {
   "cell_type": "code",
   "execution_count": 33,
   "metadata": {
    "collapsed": true
   },
   "outputs": [],
   "source": [
    "features_scl_test = scl.transform(features_svd_test)"
   ]
  },
  {
   "cell_type": "code",
   "execution_count": 37,
   "metadata": {
    "collapsed": true
   },
   "outputs": [],
   "source": [
    "features_selected_test = selector.transform(features_scl_test)"
   ]
  },
  {
   "cell_type": "code",
   "execution_count": 39,
   "metadata": {
    "collapsed": false
   },
   "outputs": [
    {
     "name": "stdout",
     "output_type": "stream",
     "text": [
      "Weighted kappa score on test set 0.2867 \n"
     ]
    }
   ],
   "source": [
    "print 'Weighted kappa score on test set %0.4f ' % quadratic_weighted_kappa(yv, best_estimator.predict(features_selected_test))"
   ]
  },
  {
   "cell_type": "code",
   "execution_count": null,
   "metadata": {
    "collapsed": true
   },
   "outputs": [],
   "source": []
  },
  {
   "cell_type": "code",
   "execution_count": null,
   "metadata": {
    "collapsed": true
   },
   "outputs": [],
   "source": []
  },
  {
   "cell_type": "code",
   "execution_count": null,
   "metadata": {
    "collapsed": true
   },
   "outputs": [],
   "source": []
  },
  {
   "cell_type": "code",
   "execution_count": null,
   "metadata": {
    "collapsed": true
   },
   "outputs": [],
   "source": []
  }
 ],
 "metadata": {
  "kernelspec": {
   "display_name": "Python 2",
   "language": "python",
   "name": "python2"
  },
  "language_info": {
   "codemirror_mode": {
    "name": "ipython",
    "version": 2
   },
   "file_extension": ".py",
   "mimetype": "text/x-python",
   "name": "python",
   "nbconvert_exporter": "python",
   "pygments_lexer": "ipython2",
   "version": "2.7.6"
  }
 },
 "nbformat": 4,
 "nbformat_minor": 0
}
