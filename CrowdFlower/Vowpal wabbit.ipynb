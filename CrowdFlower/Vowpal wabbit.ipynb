{
 "cells": [
  {
   "cell_type": "code",
   "execution_count": 1,
   "metadata": {
    "collapsed": true
   },
   "outputs": [],
   "source": [
    "# import libraries\n",
    "import numpy as np\n",
    "import pandas as pd\n",
    "import matplotlib.pyplot as plt\n",
    "%matplotlib inline"
   ]
  },
  {
   "cell_type": "code",
   "execution_count": 2,
   "metadata": {
    "collapsed": true
   },
   "outputs": [],
   "source": [
    "%run scripts/helper.py"
   ]
  },
  {
   "cell_type": "code",
   "execution_count": 3,
   "metadata": {
    "collapsed": true
   },
   "outputs": [],
   "source": [
    "crowd_train = load_file('./data/train.csv/train.csv', index_col='id')\n",
    "crowd_test = load_file('./data/test.csv/test.csv', index_col='id')"
   ]
  },
  {
   "cell_type": "code",
   "execution_count": 4,
   "metadata": {
    "collapsed": false
   },
   "outputs": [
    {
     "data": {
      "text/html": [
       "<div style=\"max-height:1000px;max-width:1500px;overflow:auto;\">\n",
       "<table border=\"1\" class=\"dataframe\">\n",
       "  <thead>\n",
       "    <tr style=\"text-align: right;\">\n",
       "      <th></th>\n",
       "      <th>query</th>\n",
       "      <th>product_title</th>\n",
       "      <th>product_description</th>\n",
       "      <th>median_relevance</th>\n",
       "      <th>relevance_variance</th>\n",
       "    </tr>\n",
       "    <tr>\n",
       "      <th>id</th>\n",
       "      <th></th>\n",
       "      <th></th>\n",
       "      <th></th>\n",
       "      <th></th>\n",
       "      <th></th>\n",
       "    </tr>\n",
       "  </thead>\n",
       "  <tbody>\n",
       "    <tr>\n",
       "      <th>1</th>\n",
       "      <td> bridal shower decorations</td>\n",
       "      <td>       Accent Pillow with Heart Design - Red/Black</td>\n",
       "      <td> Red satin accent pillow embroidered with a hea...</td>\n",
       "      <td> 1</td>\n",
       "      <td> 0.000</td>\n",
       "    </tr>\n",
       "    <tr>\n",
       "      <th>2</th>\n",
       "      <td>      led christmas lights</td>\n",
       "      <td> Set of 10 Battery Operated Multi LED Train Chr...</td>\n",
       "      <td> Set of 10 Battery Operated Train Christmas Lig...</td>\n",
       "      <td> 4</td>\n",
       "      <td> 0.000</td>\n",
       "    </tr>\n",
       "    <tr>\n",
       "      <th>4</th>\n",
       "      <td>                 projector</td>\n",
       "      <td>        ViewSonic Pro8200 DLP Multimedia Projector</td>\n",
       "      <td>                                                  </td>\n",
       "      <td> 4</td>\n",
       "      <td> 0.471</td>\n",
       "    </tr>\n",
       "    <tr>\n",
       "      <th>5</th>\n",
       "      <td>                 wine rack</td>\n",
       "      <td> Concept Housewares WR-44526 Solid-Wood Ceiling...</td>\n",
       "      <td> Like a silent and sturdy tree, the Southern En...</td>\n",
       "      <td> 4</td>\n",
       "      <td> 0.000</td>\n",
       "    </tr>\n",
       "    <tr>\n",
       "      <th>7</th>\n",
       "      <td>                light bulb</td>\n",
       "      <td> Wintergreen Lighting Christmas LED Light Bulb ...</td>\n",
       "      <td> WTGR1011\\nFeatures\\nNickel base, 60,000 averag...</td>\n",
       "      <td> 2</td>\n",
       "      <td> 0.471</td>\n",
       "    </tr>\n",
       "  </tbody>\n",
       "</table>\n",
       "</div>"
      ],
      "text/plain": [
       "                        query  \\\n",
       "id                              \n",
       "1   bridal shower decorations   \n",
       "2        led christmas lights   \n",
       "4                   projector   \n",
       "5                   wine rack   \n",
       "7                  light bulb   \n",
       "\n",
       "                                        product_title  \\\n",
       "id                                                      \n",
       "1         Accent Pillow with Heart Design - Red/Black   \n",
       "2   Set of 10 Battery Operated Multi LED Train Chr...   \n",
       "4          ViewSonic Pro8200 DLP Multimedia Projector   \n",
       "5   Concept Housewares WR-44526 Solid-Wood Ceiling...   \n",
       "7   Wintergreen Lighting Christmas LED Light Bulb ...   \n",
       "\n",
       "                                  product_description  median_relevance  \\\n",
       "id                                                                        \n",
       "1   Red satin accent pillow embroidered with a hea...                 1   \n",
       "2   Set of 10 Battery Operated Train Christmas Lig...                 4   \n",
       "4                                                                     4   \n",
       "5   Like a silent and sturdy tree, the Southern En...                 4   \n",
       "7   WTGR1011\\nFeatures\\nNickel base, 60,000 averag...                 2   \n",
       "\n",
       "    relevance_variance  \n",
       "id                      \n",
       "1                0.000  \n",
       "2                0.000  \n",
       "4                0.471  \n",
       "5                0.000  \n",
       "7                0.471  "
      ]
     },
     "execution_count": 4,
     "metadata": {},
     "output_type": "execute_result"
    }
   ],
   "source": [
    "crowd_train.head()"
   ]
  },
  {
   "cell_type": "code",
   "execution_count": 6,
   "metadata": {
    "collapsed": false
   },
   "outputs": [],
   "source": [
    "from sklearn.cross_validation import StratifiedShuffleSplit\n",
    "\n",
    "sss = StratifiedShuffleSplit(crowd_train.median_relevance.values, 3, train_size=7000, random_state=0)\n",
    "\n",
    "train_index, test_index = next(iter(sss))"
   ]
  },
  {
   "cell_type": "code",
   "execution_count": 12,
   "metadata": {
    "collapsed": false
   },
   "outputs": [],
   "source": [
    "traindata = prepareText(crowd_train)\n",
    "testdata = prepareText(crowd_test)\n",
    "y = crowd_train.median_relevance.values"
   ]
  },
  {
   "cell_type": "code",
   "execution_count": 15,
   "metadata": {
    "collapsed": true
   },
   "outputs": [],
   "source": [
    "X = np.array(traindata)[train_index]\n",
    "X_test = np.array(traindata)[test_index]\n",
    "y = crowd_train.median_relevance.values[train_index]\n",
    "y_test = crowd_train.median_relevance.values[test_index]"
   ]
  },
  {
   "cell_type": "code",
   "execution_count": 18,
   "metadata": {
    "collapsed": true
   },
   "outputs": [],
   "source": [
    "import re\n",
    "\n",
    "def clean(s):\n",
    "    return ' '.join(re.findall(r'\\w+', s, flags=re.UNICODE | re.LOCALE)).lower()\n",
    "\n",
    "# creates a vowpal wabbit formatted file\n",
    "def to_vw(data, output_file, test=False):\n",
    "    with open(output_file, 'wb') as outfile:\n",
    "        for i in range(len(data)):\n",
    "            if test:\n",
    "                label = '1'\n",
    "            else:\n",
    "                label = str(int(y[i]))\n",
    "            phrase = clean(data[i])\n",
    "            outfile.write(label + \" '\"+ str(i) +\" |f \" + phrase + \" |a \" + \"word_count:\" + str(phrase.count(' ') + 1) + '\\n')"
   ]
  },
  {
   "cell_type": "code",
   "execution_count": 17,
   "metadata": {
    "collapsed": false
   },
   "outputs": [],
   "source": [
    "# create vw files\n",
    "to_vw(X, './vw/crowd_train.vw')\n",
    "to_vw(X_test, './vw/crowd_test.vw', test=True)"
   ]
  },
  {
   "cell_type": "code",
   "execution_count": 25,
   "metadata": {
    "collapsed": false
   },
   "outputs": [],
   "source": [
    "preds = []\n",
    "\n",
    "with open('./vw/crowd_flower_preds1.txt') as infile:\n",
    "    for line in infile.readlines():\n",
    "        preds.append(int(float(line.split(' ')[0])))"
   ]
  },
  {
   "cell_type": "code",
   "execution_count": 26,
   "metadata": {
    "collapsed": false
   },
   "outputs": [],
   "source": [
    "make_submission(crowd_test.index.values.astype(int), preds, 'vw1.csv')"
   ]
  },
  {
   "cell_type": "code",
   "execution_count": 24,
   "metadata": {
    "collapsed": false
   },
   "outputs": [],
   "source": [
    "from bs4 import BeautifulSoup"
   ]
  },
  {
   "cell_type": "code",
   "execution_count": 26,
   "metadata": {
    "collapsed": false
   },
   "outputs": [
    {
     "data": {
      "text/plain": [
       "'double stroller Contours Options Elite Twin Tandem Double Baby Stroller Sand NEW <table>\\n\\t<tr>\\n\\t\\t<td>\\n\\t\\t\\t\\n\\n\\n\\n.style1 {\\n text-align: center;\\n font-family: \"Berlin Sans FB Demi\";\\n font-size: x-large;\\n color: #800000;\\n}\\n.style2 {\\n text-align: center;\\n font-family: \"Cooper Black\";\\n font-size: large;\\n}\\n.style3 {\\n text-align: center;\\n font-family: \"Berlin Sans FB Demi\";\\n font-size: large;\\n color: #800000;\\n}\\n.style4 {\\n text-align: center;\\n}\\n.style5 {\\n font-family: \"Berlin Sans FB Demi\";\\n font-size: large;\\n}\\n.style6 {\\n font-family: \"Berlin Sans FB Demi\";\\n font-size: large;\\n text-align: center;\\n}\\n.style7 {\\n font-family: \"Gill Sans Ultra Bold\";\\n color: #800000;\\n}\\n.style8 {\\n font-family: \"Arial Black\";\\n font-size: xx-large;\\n text-align: center;\\n}\\n.style9 {\\n font-family: \"Gill Sans Ultra Bold\";\\n font-size: large;\\n text-align: center;\\n text-decoration: underline;\\n color: #800000;\\n}\\n.style10 {\\n font-family: \"Berlin Sans FB Demi\";\\n font-size: large;\\n color: #800000;\\n}\\n.style11 {\\n font-family: \"Gill Sans Ultra Bold\";\\n font-size: large;\\n color: #800000;\\n}\\n.style12 {\\n font-family: \"Cooper Black\";\\n font-size: large;\\n color: #800000;\\n text-decoration: underline;\\n}\\n.style13 {\\n font-family: \"Cooper Black\";\\n color: #800000;\\n text-decoration: underline;\\n}\\n.style14 {\\n color: #800000;\\n}\\n.style15 {\\n font-size: large;\\n}\\n\\n\\n\\n<p>New Contours Options Elite Twin Tandem Double Stroller Sand <p>the best of both worlds\\n<p>We are auth dealers for Contours so your purchase will be covered under full mfg warranty\\n<p>\\n<p></p></p></p></p></p></td></tr></table>'"
      ]
     },
     "execution_count": 26,
     "metadata": {},
     "output_type": "execute_result"
    }
   ],
   "source": [
    "traindata[97]"
   ]
  },
  {
   "cell_type": "code",
   "execution_count": null,
   "metadata": {
    "collapsed": true
   },
   "outputs": [],
   "source": [
    "BeautifulSoup(traindata[97])"
   ]
  },
  {
   "cell_type": "code",
   "execution_count": null,
   "metadata": {
    "collapsed": true
   },
   "outputs": [],
   "source": []
  },
  {
   "cell_type": "code",
   "execution_count": null,
   "metadata": {
    "collapsed": true
   },
   "outputs": [],
   "source": []
  },
  {
   "cell_type": "code",
   "execution_count": null,
   "metadata": {
    "collapsed": true
   },
   "outputs": [],
   "source": []
  },
  {
   "cell_type": "code",
   "execution_count": null,
   "metadata": {
    "collapsed": true
   },
   "outputs": [],
   "source": []
  },
  {
   "cell_type": "code",
   "execution_count": null,
   "metadata": {
    "collapsed": true
   },
   "outputs": [],
   "source": []
  },
  {
   "cell_type": "code",
   "execution_count": null,
   "metadata": {
    "collapsed": true
   },
   "outputs": [],
   "source": []
  },
  {
   "cell_type": "code",
   "execution_count": null,
   "metadata": {
    "collapsed": true
   },
   "outputs": [],
   "source": []
  },
  {
   "cell_type": "code",
   "execution_count": null,
   "metadata": {
    "collapsed": true
   },
   "outputs": [],
   "source": []
  },
  {
   "cell_type": "code",
   "execution_count": null,
   "metadata": {
    "collapsed": true
   },
   "outputs": [],
   "source": []
  },
  {
   "cell_type": "code",
   "execution_count": null,
   "metadata": {
    "collapsed": true
   },
   "outputs": [],
   "source": []
  },
  {
   "cell_type": "code",
   "execution_count": null,
   "metadata": {
    "collapsed": true
   },
   "outputs": [],
   "source": []
  },
  {
   "cell_type": "code",
   "execution_count": null,
   "metadata": {
    "collapsed": true
   },
   "outputs": [],
   "source": []
  },
  {
   "cell_type": "code",
   "execution_count": null,
   "metadata": {
    "collapsed": true
   },
   "outputs": [],
   "source": []
  },
  {
   "cell_type": "code",
   "execution_count": null,
   "metadata": {
    "collapsed": true
   },
   "outputs": [],
   "source": []
  },
  {
   "cell_type": "code",
   "execution_count": null,
   "metadata": {
    "collapsed": true
   },
   "outputs": [],
   "source": []
  },
  {
   "cell_type": "code",
   "execution_count": null,
   "metadata": {
    "collapsed": true
   },
   "outputs": [],
   "source": []
  },
  {
   "cell_type": "code",
   "execution_count": null,
   "metadata": {
    "collapsed": true
   },
   "outputs": [],
   "source": []
  },
  {
   "cell_type": "code",
   "execution_count": null,
   "metadata": {
    "collapsed": true
   },
   "outputs": [],
   "source": []
  },
  {
   "cell_type": "code",
   "execution_count": null,
   "metadata": {
    "collapsed": true
   },
   "outputs": [],
   "source": []
  },
  {
   "cell_type": "code",
   "execution_count": null,
   "metadata": {
    "collapsed": true
   },
   "outputs": [],
   "source": []
  },
  {
   "cell_type": "code",
   "execution_count": null,
   "metadata": {
    "collapsed": true
   },
   "outputs": [],
   "source": []
  },
  {
   "cell_type": "code",
   "execution_count": null,
   "metadata": {
    "collapsed": true
   },
   "outputs": [],
   "source": []
  },
  {
   "cell_type": "code",
   "execution_count": null,
   "metadata": {
    "collapsed": true
   },
   "outputs": [],
   "source": []
  },
  {
   "cell_type": "code",
   "execution_count": null,
   "metadata": {
    "collapsed": true
   },
   "outputs": [],
   "source": []
  },
  {
   "cell_type": "code",
   "execution_count": null,
   "metadata": {
    "collapsed": true
   },
   "outputs": [],
   "source": []
  },
  {
   "cell_type": "code",
   "execution_count": null,
   "metadata": {
    "collapsed": true
   },
   "outputs": [],
   "source": []
  },
  {
   "cell_type": "code",
   "execution_count": null,
   "metadata": {
    "collapsed": true
   },
   "outputs": [],
   "source": []
  },
  {
   "cell_type": "code",
   "execution_count": null,
   "metadata": {
    "collapsed": true
   },
   "outputs": [],
   "source": []
  },
  {
   "cell_type": "code",
   "execution_count": null,
   "metadata": {
    "collapsed": true
   },
   "outputs": [],
   "source": []
  },
  {
   "cell_type": "code",
   "execution_count": null,
   "metadata": {
    "collapsed": true
   },
   "outputs": [],
   "source": []
  }
 ],
 "metadata": {
  "kernelspec": {
   "display_name": "Python 2",
   "language": "python",
   "name": "python2"
  },
  "language_info": {
   "codemirror_mode": {
    "name": "ipython",
    "version": 2
   },
   "file_extension": ".py",
   "mimetype": "text/x-python",
   "name": "python",
   "nbconvert_exporter": "python",
   "pygments_lexer": "ipython2",
   "version": "2.7.6"
  }
 },
 "nbformat": 4,
 "nbformat_minor": 0
}
