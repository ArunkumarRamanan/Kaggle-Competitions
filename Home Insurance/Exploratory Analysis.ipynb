{
 "cells": [
  {
   "cell_type": "code",
   "execution_count": 1,
   "metadata": {
    "collapsed": false
   },
   "outputs": [
    {
     "name": "stderr",
     "output_type": "stream",
     "text": [
      "C:\\Users\\Abhishek\\Anaconda2\\lib\\site-packages\\matplotlib\\__init__.py:872: UserWarning: axes.color_cycle is deprecated and replaced with axes.prop_cycle; please use the latter.\n",
      "  warnings.warn(self.msg_depr % (key, alt_key))\n"
     ]
    }
   ],
   "source": [
    "import pandas as pd\n",
    "import numpy as np\n",
    "\n",
    "from scipy import stats\n",
    "\n",
    "import seaborn as sns\n",
    "sns.set(color_codes=True)\n",
    "\n",
    "import matplotlib.pyplot as plt\n",
    "\n",
    "import warnings\n",
    "warnings.filterwarnings('ignore')\n",
    "\n",
    "%matplotlib inline"
   ]
  },
  {
   "cell_type": "code",
   "execution_count": 40,
   "metadata": {
    "collapsed": true
   },
   "outputs": [],
   "source": [
    "# load train and test file\n",
    "train = pd.read_csv('./data/train.csv', parse_dates=['Original_Quote_Date'], index_col='QuoteNumber')\n",
    "test = pd.read_csv('./data/test.csv', parse_dates=['Original_Quote_Date'], index_col='QuoteNumber')"
   ]
  },
  {
   "cell_type": "code",
   "execution_count": 41,
   "metadata": {
    "collapsed": false
   },
   "outputs": [
    {
     "name": "stdout",
     "output_type": "stream",
     "text": [
      "298\n"
     ]
    }
   ],
   "source": [
    "# number of columns\n",
    "print len(train.columns)"
   ]
  },
  {
   "cell_type": "markdown",
   "metadata": {},
   "source": [
    "## Exploratory Data Analysis"
   ]
  },
  {
   "cell_type": "code",
   "execution_count": 42,
   "metadata": {
    "collapsed": false
   },
   "outputs": [],
   "source": [
    "# check to see if there are missing values\n",
    "def get_cols_with_missing_values(df):\n",
    "    col_with_missing_val = df.isnull().any()\n",
    "    return [col for col in col_with_missing_val.index.values if col_with_missing_val.ix[col]]"
   ]
  },
  {
   "cell_type": "code",
   "execution_count": 43,
   "metadata": {
    "collapsed": false
   },
   "outputs": [
    {
     "name": "stdout",
     "output_type": "stream",
     "text": [
      "['PersonalField7', 'PersonalField84', 'PropertyField3', 'PropertyField4', 'PropertyField29', 'PropertyField32', 'PropertyField34', 'PropertyField36', 'PropertyField38']\n"
     ]
    }
   ],
   "source": [
    "print get_cols_with_missing_values(train)"
   ]
  },
  {
   "cell_type": "code",
   "execution_count": 44,
   "metadata": {
    "collapsed": false
   },
   "outputs": [
    {
     "name": "stdout",
     "output_type": "stream",
     "text": [
      "['PersonalField7', 'PersonalField84', 'PropertyField3', 'PropertyField4', 'PropertyField5', 'PropertyField29', 'PropertyField30', 'PropertyField32', 'PropertyField34', 'PropertyField36', 'PropertyField38']\n"
     ]
    }
   ],
   "source": [
    "print get_cols_with_missing_values(test)"
   ]
  },
  {
   "cell_type": "code",
   "execution_count": 45,
   "metadata": {
    "collapsed": true
   },
   "outputs": [],
   "source": [
    "# lets drop missing data for now\n",
    "train_with_no_missing_values = train.dropna()"
   ]
  },
  {
   "cell_type": "code",
   "execution_count": 46,
   "metadata": {
    "collapsed": false
   },
   "outputs": [
    {
     "data": {
      "text/plain": [
       "0    55240\n",
       "1        2\n",
       "Name: QuoteConversion_Flag, dtype: int64"
      ]
     },
     "execution_count": 46,
     "metadata": {},
     "output_type": "execute_result"
    }
   ],
   "source": [
    "# lets see the distribution of the target variable\n",
    "train_with_no_missing_values.QuoteConversion_Flag.value_counts()"
   ]
  },
  {
   "cell_type": "code",
   "execution_count": 47,
   "metadata": {
    "collapsed": false
   },
   "outputs": [
    {
     "data": {
      "text/plain": [
       "0    211859\n",
       "1     48894\n",
       "Name: QuoteConversion_Flag, dtype: int64"
      ]
     },
     "execution_count": 47,
     "metadata": {},
     "output_type": "execute_result"
    }
   ],
   "source": [
    "train.QuoteConversion_Flag.value_counts()"
   ]
  },
  {
   "cell_type": "markdown",
   "metadata": {},
   "source": [
    "** Most of the positive labels have missing values. **"
   ]
  },
  {
   "cell_type": "code",
   "execution_count": 32,
   "metadata": {
    "collapsed": false
   },
   "outputs": [
    {
     "name": "stdout",
     "output_type": "stream",
     "text": [
      "27\n"
     ]
    }
   ],
   "source": [
    "# lets find out how many categorical features are there\n",
    "print (train.select_dtypes(['object']).shape[1])"
   ]
  },
  {
   "cell_type": "markdown",
   "metadata": {},
   "source": [
    "** 27 of the features are categorical. **"
   ]
  },
  {
   "cell_type": "code",
   "execution_count": 48,
   "metadata": {
    "collapsed": true
   },
   "outputs": [],
   "source": [
    "categorical_features = train.select_dtypes(['object']).columns"
   ]
  },
  {
   "cell_type": "code",
   "execution_count": 55,
   "metadata": {
    "collapsed": false
   },
   "outputs": [
    {
     "data": {
      "text/plain": [
       "Index([u'Field6', u'Field10', u'Field12', u'CoverageField8', u'CoverageField9',\n",
       "       u'SalesField7', u'PersonalField7', u'PersonalField16',\n",
       "       u'PersonalField17', u'PersonalField18', u'PersonalField19',\n",
       "       u'PropertyField3', u'PropertyField4', u'PropertyField5',\n",
       "       u'PropertyField7', u'PropertyField14', u'PropertyField28',\n",
       "       u'PropertyField30', u'PropertyField31', u'PropertyField32',\n",
       "       u'PropertyField33', u'PropertyField34', u'PropertyField36',\n",
       "       u'PropertyField37', u'PropertyField38', u'GeographicField63',\n",
       "       u'GeographicField64'],\n",
       "      dtype='object')"
      ]
     },
     "execution_count": 55,
     "metadata": {},
     "output_type": "execute_result"
    }
   ],
   "source": [
    "categorical_features"
   ]
  },
  {
   "cell_type": "code",
   "execution_count": 64,
   "metadata": {
    "collapsed": false
   },
   "outputs": [],
   "source": [
    "def print_group_by_categorical_dist(df, categorical_features):\n",
    "    for col in categorical_features:\n",
    "        print df.groupby([col, 'QuoteConversion_Flag']).size()\n",
    "        print '\\n\\n'"
   ]
  },
  {
   "cell_type": "code",
   "execution_count": 65,
   "metadata": {
    "collapsed": false
   },
   "outputs": [
    {
     "name": "stdout",
     "output_type": "stream",
     "text": [
      "Field6  QuoteConversion_Flag\n",
      "A       0                          35\n",
      "B       0                       74858\n",
      "        1                       19836\n",
      "C       0                        4956\n",
      "        1                         704\n",
      "D       0                         107\n",
      "        1                         133\n",
      "E       0                       22646\n",
      "        1                        3417\n",
      "F       0                       48476\n",
      "        1                       20577\n",
      "J       0                       48660\n",
      "        1                        3122\n",
      "K       0                       12121\n",
      "        1                        1105\n",
      "dtype: int64\n",
      "\n",
      "\n",
      "\n",
      "Field10  QuoteConversion_Flag\n",
      "1,113    0                       42039\n",
      "         1                        2901\n",
      "1,165    0                       18745\n",
      "         1                        1326\n",
      "1,480    0                       10088\n",
      "         1                        1699\n",
      "1,487    0                       17515\n",
      "         1                        2422\n",
      "548      0                       28151\n",
      "         1                       10914\n",
      "564      0                       20432\n",
      "         1                        9796\n",
      "935      0                       41039\n",
      "         1                       11314\n",
      "965      0                       33850\n",
      "         1                        8522\n",
      "dtype: int64\n",
      "\n",
      "\n",
      "\n",
      "Field12  QuoteConversion_Flag\n",
      "N        0                       194782\n",
      "         1                        47085\n",
      "Y        0                        17077\n",
      "         1                         1809\n",
      "dtype: int64\n",
      "\n",
      "\n",
      "\n",
      "CoverageField8  QuoteConversion_Flag\n",
      "T               0                        84905\n",
      "                1                         8873\n",
      "U               0                          390\n",
      "                1                           87\n",
      "V               0                          360\n",
      "                1                           54\n",
      "W               0                          405\n",
      "                1                            3\n",
      "X               0                        16452\n",
      "                1                         5173\n",
      "Y               0                       108617\n",
      "                1                        34535\n",
      "Z               0                          730\n",
      "                1                          169\n",
      "dtype: int64\n",
      "\n",
      "\n",
      "\n",
      "CoverageField9  QuoteConversion_Flag\n",
      "A               0                       11827\n",
      "                1                        2175\n",
      "B               0                         913\n",
      "                1                         204\n",
      "C               0                         448\n",
      "                1                         118\n",
      "D               0                       46499\n",
      "                1                        3106\n",
      "E               0                       56064\n",
      "                1                       28953\n",
      "F               0                       30494\n",
      "                1                        2026\n",
      "G               0                       30111\n",
      "                1                        2561\n",
      "H               0                         453\n",
      "                1                         116\n",
      "I               0                         667\n",
      "                1                          61\n",
      "J               0                       12625\n",
      "                1                        3759\n",
      "K               0                       21465\n",
      "                1                        5812\n",
      "L               0                         293\n",
      "                1                           3\n",
      "dtype: int64\n",
      "\n",
      "\n",
      "\n",
      "SalesField7  QuoteConversion_Flag\n",
      "K            0                       40570\n",
      "             1                        9691\n",
      "M            0                       14509\n",
      "             1                        1536\n",
      "P            0                       39708\n",
      "             1                        9543\n",
      "Q            0                       32817\n",
      "             1                        8198\n",
      "R            0                       17890\n",
      "             1                        2889\n",
      "T            0                       36261\n",
      "             1                        8893\n",
      "V            0                       30104\n",
      "             1                        8144\n",
      "dtype: int64\n",
      "\n",
      "\n",
      "\n",
      "PersonalField7  QuoteConversion_Flag\n",
      "N               0                       210665\n",
      "                1                        48714\n",
      "Y               0                         1081\n",
      "                1                          180\n",
      "dtype: int64\n",
      "\n",
      "\n",
      "\n",
      "PersonalField16  QuoteConversion_Flag\n",
      "XB               0                       6097\n",
      "                 1                        822\n",
      "XC               0                        976\n",
      "                 1                        294\n",
      "XD               0                       6307\n",
      "                 1                       1836\n",
      "XE               0                       1777\n",
      "                 1                        513\n",
      "XF               0                         11\n",
      "                 1                          1\n",
      "XH               0                       6582\n",
      "                 1                       1317\n",
      "XI               0                        575\n",
      "                 1                        275\n",
      "XJ               0                       7756\n",
      "                 1                       2397\n",
      "XK               0                         47\n",
      "                 1                         85\n",
      "XL               0                        305\n",
      "                 1                        145\n",
      "XM               0                       7205\n",
      "                 1                       2562\n",
      "XN               0                          2\n",
      "                 1                          1\n",
      "XO               0                       6096\n",
      "                 1                        875\n",
      "XP               0                        202\n",
      "                 1                         84\n",
      "XQ               0                       1854\n",
      "                 1                        575\n",
      "                                         ... \n",
      "ZD               1                        145\n",
      "ZE               0                        540\n",
      "                 1                        129\n",
      "ZF               0                       3640\n",
      "                 1                       1213\n",
      "ZG               0                       2226\n",
      "                 1                        680\n",
      "ZH               0                       4368\n",
      "                 1                       1177\n",
      "ZI               0                          2\n",
      "ZJ               0                        420\n",
      "                 1                        184\n",
      "ZK               0                        648\n",
      "                 1                        251\n",
      "ZL               0                          1\n",
      "ZN               0                       3356\n",
      "                 1                       1043\n",
      "ZO               0                          1\n",
      "ZP               1                          1\n",
      "ZQ               0                          1\n",
      "ZR               0                       3691\n",
      "                 1                        948\n",
      "ZS               0                          1\n",
      "ZT               0                       4505\n",
      "                 1                       1031\n",
      "ZU               0                        202\n",
      "                 1                         52\n",
      "ZV               1                          1\n",
      "ZW               0                       1703\n",
      "                 1                        595\n",
      "dtype: int64\n",
      "\n",
      "\n",
      "\n",
      "PersonalField17  QuoteConversion_Flag\n",
      "XB               0                         782\n",
      "                 1                         126\n",
      "XC               0                         258\n",
      "                 1                          66\n",
      "XD               0                           3\n",
      "XE               0                        4753\n",
      "                 1                        1225\n",
      "XG               0                        4385\n",
      "                 1                        1282\n",
      "XH               0                        1094\n",
      "                 1                         185\n",
      "XI               0                         263\n",
      "                 1                          48\n",
      "XJ               0                           1\n",
      "XK               0                        1885\n",
      "                 1                         405\n",
      "XL               0                         640\n",
      "                 1                         117\n",
      "XM               0                           2\n",
      "XN               0                         324\n",
      "                 1                          34\n",
      "XO               0                           1\n",
      "XP               1                           1\n",
      "XQ               0                         234\n",
      "                 1                          48\n",
      "XR               0                        2039\n",
      "                 1                         407\n",
      "XS               0                       12222\n",
      "                 1                        3511\n",
      "XT               0                         295\n",
      "                                         ...  \n",
      "ZG               1                          82\n",
      "ZH               0                        5605\n",
      "                 1                        1320\n",
      "ZI               0                        2446\n",
      "                 1                         477\n",
      "ZK               0                        8392\n",
      "                 1                        2388\n",
      "ZL               0                         887\n",
      "                 1                         253\n",
      "ZM               0                         204\n",
      "                 1                          49\n",
      "ZN               0                         400\n",
      "                 1                          63\n",
      "ZO               0                         363\n",
      "                 1                          98\n",
      "ZP               0                         306\n",
      "                 1                         112\n",
      "ZQ               0                        2679\n",
      "                 1                        1016\n",
      "ZR               1                           2\n",
      "ZS               0                         402\n",
      "                 1                         123\n",
      "ZT               0                         198\n",
      "                 1                          47\n",
      "ZU               0                         282\n",
      "                 1                          72\n",
      "ZV               0                        1783\n",
      "                 1                         215\n",
      "ZW               0                         867\n",
      "                 1                         235\n",
      "dtype: int64\n",
      "\n",
      "\n",
      "\n",
      "PersonalField18  QuoteConversion_Flag\n",
      "XC               0                          621\n",
      "                 1                           54\n",
      "XD               0                           10\n",
      "                 1                            3\n",
      "XE               0                          281\n",
      "                 1                           27\n",
      "XF               0                        12558\n",
      "                 1                         3239\n",
      "XG               0                           47\n",
      "                 1                           85\n",
      "XH               1                            1\n",
      "XI               0                          365\n",
      "                 1                           71\n",
      "XJ               0                          589\n",
      "                 1                          137\n",
      "XK               0                         1298\n",
      "                 1                          310\n",
      "XL               0                          389\n",
      "                 1                           77\n",
      "XM               0                          342\n",
      "                 1                           74\n",
      "XN               0                          788\n",
      "                 1                          175\n",
      "XO               0                         1079\n",
      "                 1                          248\n",
      "XP               0                         1003\n",
      "                 1                          242\n",
      "XQ               0                         4912\n",
      "                 1                         1024\n",
      "XR               0                       104264\n",
      "                                          ...  \n",
      "ZH               1                          338\n",
      "ZI               0                            1\n",
      "ZJ               0                          858\n",
      "                 1                          205\n",
      "ZK               0                          528\n",
      "                 1                          138\n",
      "ZL               0                         1012\n",
      "                 1                          255\n",
      "ZM               0                          109\n",
      "                 1                           10\n",
      "ZN               0                         3285\n",
      "                 1                          668\n",
      "ZO               0                          352\n",
      "                 1                           78\n",
      "ZP               0                         2069\n",
      "                 1                          354\n",
      "ZQ               0                          712\n",
      "                 1                          183\n",
      "ZR               0                          400\n",
      "                 1                           99\n",
      "ZS               0                          122\n",
      "                 1                           17\n",
      "ZT               0                          750\n",
      "                 1                          101\n",
      "ZU               0                          466\n",
      "                 1                           64\n",
      "ZV               0                          775\n",
      "                 1                          186\n",
      "ZW               0                        14235\n",
      "                 1                         4797\n",
      "dtype: int64\n",
      "\n",
      "\n",
      "\n",
      "PersonalField19  QuoteConversion_Flag\n",
      "XB               0                           47\n",
      "                 1                           85\n",
      "XC               0                        53908\n",
      "                 1                        16581\n",
      "XD               0                       104264\n",
      "                 1                        19751\n",
      "XE               0                           76\n",
      "                 1                           11\n",
      "XF               0                          760\n",
      "                 1                          147\n",
      "XG               0                            7\n",
      "                 1                            1\n",
      "XH               0                            7\n",
      "                 1                            1\n",
      "XI               0                          536\n",
      "                 1                           91\n",
      "XJ               0                          268\n",
      "                 1                           50\n",
      "XK               0                          157\n",
      "                 1                           22\n",
      "XL               0                            1\n",
      "XM               0                          410\n",
      "                 1                           99\n",
      "XN               0                          599\n",
      "                 1                          102\n",
      "XO               0                           32\n",
      "                 1                            3\n",
      "XP               0                          650\n",
      "                 1                          124\n",
      "XQ               0                           23\n",
      "                                          ...  \n",
      "ZH               0                          293\n",
      "                 1                           72\n",
      "ZI               0                          552\n",
      "                 1                          111\n",
      "ZJ               0                          896\n",
      "                 1                          194\n",
      "ZK               0                          268\n",
      "                 1                           53\n",
      "ZL               0                          364\n",
      "                 1                           72\n",
      "ZM               0                          108\n",
      "                 1                           13\n",
      "ZN               0                         3297\n",
      "                 1                          896\n",
      "ZO               0                         1331\n",
      "                 1                          260\n",
      "ZP               0                          221\n",
      "                 1                           26\n",
      "ZQ               0                         6921\n",
      "                 1                         1361\n",
      "ZR               0                          106\n",
      "                 1                           12\n",
      "ZT               0                         2362\n",
      "                 1                          713\n",
      "ZU               0                           89\n",
      "                 1                           15\n",
      "ZV               0                         2073\n",
      "                 1                          331\n",
      "ZW               0                          689\n",
      "                 1                          123\n",
      "dtype: int64\n",
      "\n",
      "\n",
      "\n",
      "PropertyField3  QuoteConversion_Flag\n",
      "N               0                       184988\n",
      "                1                        41978\n",
      "Y               0                        26790\n",
      "                1                         6916\n",
      "dtype: int64\n",
      "\n",
      "\n",
      "\n",
      "PropertyField4  QuoteConversion_Flag\n",
      "N               0                       184359\n",
      "                1                        41864\n",
      "Y               0                        27437\n",
      "                1                         7030\n",
      "dtype: int64\n",
      "\n",
      "\n",
      "\n",
      "PropertyField5  QuoteConversion_Flag\n",
      "N               0                          113\n",
      "                1                            3\n",
      "Y               0                       211746\n",
      "                1                        48891\n",
      "dtype: int64\n",
      "\n",
      "\n",
      "\n",
      "PropertyField7  QuoteConversion_Flag\n",
      "A               0                        3369\n",
      "                1                         717\n",
      "B               0                           2\n",
      "C               0                           7\n",
      "D               0                       22227\n",
      "                1                        5915\n",
      "E               0                         711\n",
      "                1                         177\n",
      "F               0                         460\n",
      "                1                          21\n",
      "G               0                         102\n",
      "                1                          30\n",
      "H               0                         988\n",
      "                1                         424\n",
      "I               0                        7792\n",
      "                1                        1185\n",
      "J               0                       32646\n",
      "                1                        3323\n",
      "K               0                        1349\n",
      "                1                         447\n",
      "L               0                         609\n",
      "                1                          50\n",
      "M               0                          23\n",
      "N               0                        9052\n",
      "                1                        2976\n",
      "O               0                       59009\n",
      "                1                       15317\n",
      "P               0                          18\n",
      "Q               0                        5458\n",
      "                1                         421\n",
      "R               0                       52541\n",
      "                1                       16433\n",
      "S               0                       15496\n",
      "                1                        1458\n",
      "dtype: int64\n",
      "\n",
      "\n",
      "\n",
      "PropertyField14  QuoteConversion_Flag\n",
      "A                0                        29177\n",
      "                 1                         7100\n",
      "B                0                        21789\n",
      "                 1                         7057\n",
      "C                0                       160849\n",
      "                 1                        34737\n",
      "D                0                           44\n",
      "dtype: int64\n",
      "\n",
      "\n",
      "\n",
      "PropertyField28  QuoteConversion_Flag\n",
      "A                0                         7576\n",
      "                 1                         1560\n",
      "B                0                       197286\n",
      "                 1                        46088\n",
      "C                0                         1154\n",
      "                 1                           95\n",
      "D                0                         5843\n",
      "                 1                         1151\n",
      "dtype: int64\n",
      "\n",
      "\n",
      "\n",
      "PropertyField30  QuoteConversion_Flag\n",
      "N                0                       198466\n",
      "                 1                        47341\n",
      "Y                0                        13393\n",
      "                 1                         1553\n",
      "dtype: int64\n",
      "\n",
      "\n",
      "\n",
      "PropertyField31  QuoteConversion_Flag\n",
      "K                0                        48520\n",
      "                 1                        12626\n",
      "M                0                         8918\n",
      "                 1                         1349\n",
      "N                0                        28980\n",
      "                 1                         4318\n",
      "O                0                       125441\n",
      "                 1                        30601\n",
      "dtype: int64\n",
      "\n",
      "\n",
      "\n",
      "PropertyField32  QuoteConversion_Flag\n",
      "N                0                        64752\n",
      "                 1                         4304\n",
      "Y                0                       147037\n",
      "                 1                        44590\n",
      "dtype: int64\n",
      "\n",
      "\n",
      "\n",
      "PropertyField33  QuoteConversion_Flag\n",
      "E                0                       36528\n",
      "                 1                       10831\n",
      "F                0                        8352\n",
      "                 1                        1295\n",
      "G                0                       71683\n",
      "                 1                        8966\n",
      "H                0                       95296\n",
      "                 1                       27802\n",
      "dtype: int64\n",
      "\n",
      "\n",
      "\n",
      "PropertyField34  QuoteConversion_Flag\n",
      "N                0                       107936\n",
      "                 1                        11562\n",
      "Y                0                       103853\n",
      "                 1                        37332\n",
      "dtype: int64\n",
      "\n",
      "\n",
      "\n",
      "PropertyField36  QuoteConversion_Flag\n",
      "N                0                       201521\n",
      "                 1                        46781\n",
      "Y                0                        10225\n",
      "                 1                         2113\n",
      "dtype: int64\n",
      "\n",
      "\n",
      "\n",
      "PropertyField37  QuoteConversion_Flag\n",
      "N                0                       157015\n",
      "                 1                        28961\n",
      "Y                0                        54844\n",
      "                 1                        19933\n",
      "dtype: int64\n",
      "\n",
      "\n",
      "\n",
      "PropertyField38  QuoteConversion_Flag\n",
      "N                0                       206039\n",
      "                 1                        47993\n",
      "Y                0                         4600\n",
      "                 1                          901\n",
      "dtype: int64\n",
      "\n",
      "\n",
      "\n",
      "GeographicField63  QuoteConversion_Flag\n",
      "                   0                            2\n",
      "N                  0                       206694\n",
      "                   1                        48018\n",
      "Y                  0                         5163\n",
      "                   1                          876\n",
      "dtype: int64\n",
      "\n",
      "\n",
      "\n",
      "GeographicField64  QuoteConversion_Flag\n",
      "CA                 0                       74889\n",
      "                   1                       19836\n",
      "IL                 0                       27603\n",
      "                   1                        4121\n",
      "NJ                 0                       48583\n",
      "                   1                       20710\n",
      "TX                 0                       60784\n",
      "                   1                        4227\n",
      "dtype: int64\n",
      "\n",
      "\n",
      "\n"
     ]
    }
   ],
   "source": [
    "print_group_by_categorical_dist(train, categorical_features)"
   ]
  },
  {
   "cell_type": "markdown",
   "metadata": {},
   "source": [
    "## Add time related features"
   ]
  },
  {
   "cell_type": "code",
   "execution_count": 66,
   "metadata": {
    "collapsed": true
   },
   "outputs": [],
   "source": [
    "train['year'] = train.Original_Quote_Date.dt.year\n",
    "train['month'] = train.Original_Quote_Date.dt.month"
   ]
  },
  {
   "cell_type": "code",
   "execution_count": 78,
   "metadata": {
    "collapsed": false
   },
   "outputs": [],
   "source": [
    "y = train.groupby(['year', 'QuoteConversion_Flag']).size()\n",
    "y = y.unstack(1)"
   ]
  },
  {
   "cell_type": "code",
   "execution_count": 79,
   "metadata": {
    "collapsed": false
   },
   "outputs": [
    {
     "data": {
      "image/png": "[encoded data removed]",
      "text/plain": [
       "<matplotlib.figure.Figure at 0x44837630>"
      ]
     },
     "metadata": {},
     "output_type": "display_data"
    }
   ],
   "source": [
    "plt.plot(y.index.values, y[0], label='Negative', c='b', alpha=0.3)\n",
    "plt.plot(y.index.values, y[1], label='Positive', c='g', alpha=0.3)\n",
    "plt.legend(loc='best')\n",
    "plt.xlabel('Year')\n",
    "plt.ylabel('Count of different results');"
   ]
  },
  {
   "cell_type": "code",
   "execution_count": 72,
   "metadata": {
    "collapsed": false
   },
   "outputs": [],
   "source": [
    "g = train.groupby(['month', 'QuoteConversion_Flag']).size()\n",
    "g = g.unstack(1)"
   ]
  },
  {
   "cell_type": "code",
   "execution_count": 76,
   "metadata": {
    "collapsed": false
   },
   "outputs": [
    {
     "data": {
      "image/png": "[encoded data removed]",
      "text/plain": [
       "<matplotlib.figure.Figure at 0x277902e8>"
      ]
     },
     "metadata": {},
     "output_type": "display_data"
    }
   ],
   "source": [
    "plt.plot(g.index.values, g[0], label='Negative', c='b', alpha=0.3)\n",
    "plt.plot(g.index.values, g[1], label='Positive', c='g', alpha=0.3)\n",
    "plt.legend(loc='best')\n",
    "plt.xlabel('Month')\n",
    "plt.ylabel('Count of different results');"
   ]
  },
  {
   "cell_type": "code",
   "execution_count": 99,
   "metadata": {
    "collapsed": false
   },
   "outputs": [],
   "source": [
    "# Relationship between year and month of original quote with conversion flag\n",
    "ym = train.groupby(['year', 'month', 'QuoteConversion_Flag']).size()\n",
    "ym = ym.unstack(2)"
   ]
  },
  {
   "cell_type": "code",
   "execution_count": 107,
   "metadata": {
    "collapsed": false
   },
   "outputs": [
    {
     "data": {
      "image/png": "[encoded data removed]",
      "text/plain": [
       "<matplotlib.figure.Figure at 0x6a3f1fd0>"
      ]
     },
     "metadata": {},
     "output_type": "display_data"
    }
   ],
   "source": [
    "ym.plot();"
   ]
  },
  {
   "cell_type": "code",
   "execution_count": null,
   "metadata": {
    "collapsed": true
   },
   "outputs": [],
   "source": []
  }
 ],
 "metadata": {
  "kernelspec": {
   "display_name": "Python 2",
   "language": "python",
   "name": "python2"
  },
  "language_info": {
   "codemirror_mode": {
    "name": "ipython",
    "version": 2
   },
   "file_extension": ".py",
   "mimetype": "text/x-python",
   "name": "python",
   "nbconvert_exporter": "python",
   "pygments_lexer": "ipython2",
   "version": "2.7.10"
  }
 },
 "nbformat": 4,
 "nbformat_minor": 0
}
