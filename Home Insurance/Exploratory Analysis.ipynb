{
 "cells": [
  {
   "cell_type": "code",
   "execution_count": 1,
   "metadata": {
    "collapsed": false
   },
   "outputs": [
    {
     "name": "stderr",
     "output_type": "stream",
     "text": [
      "C:\\Users\\Abhishek\\Anaconda2\\lib\\site-packages\\matplotlib\\__init__.py:872: UserWarning: axes.color_cycle is deprecated and replaced with axes.prop_cycle; please use the latter.\n",
      "  warnings.warn(self.msg_depr % (key, alt_key))\n"
     ]
    }
   ],
   "source": [
    "import pandas as pd\n",
    "import numpy as np\n",
    "\n",
    "from scipy import stats\n",
    "\n",
    "import seaborn as sns\n",
    "sns.set(color_codes=True)\n",
    "\n",
    "import matplotlib.pyplot as plt\n",
    "\n",
    "import warnings\n",
    "warnings.filterwarnings('ignore')\n",
    "\n",
    "%matplotlib inline"
   ]
  },
  {
   "cell_type": "code",
   "execution_count": 2,
   "metadata": {
    "collapsed": true
   },
   "outputs": [],
   "source": [
    "# load train and test file\n",
    "train = pd.read_csv('./data/train.csv', parse_dates=['Original_Quote_Date'], index_col='QuoteNumber')\n",
    "test = pd.read_csv('./data/test.csv', parse_dates=['Original_Quote_Date'], index_col='QuoteNumber')"
   ]
  },
  {
   "cell_type": "code",
   "execution_count": 13,
   "metadata": {
    "collapsed": false
   },
   "outputs": [
    {
     "name": "stdout",
     "output_type": "stream",
     "text": [
      "298\n"
     ]
    }
   ],
   "source": [
    "# number of columns\n",
    "print len(train.columns)"
   ]
  },
  {
   "cell_type": "markdown",
   "metadata": {},
   "source": [
    "## Exploratory Data Analysis"
   ]
  },
  {
   "cell_type": "code",
   "execution_count": null,
   "metadata": {
    "collapsed": false
   },
   "outputs": [],
   "source": [
    "# check to see if there are missing values\n",
    "def get_cols_with_missing_values(df):\n",
    "    col_with_missing_val = df.isnull().any()\n",
    "    return [col for col in col_with_missing_val.index.values if col_with_missing_val.ix[col]]"
   ]
  },
  {
   "cell_type": "code",
   "execution_count": null,
   "metadata": {
    "collapsed": false
   },
   "outputs": [],
   "source": [
    "print get_cols_with_missing_values(train)"
   ]
  },
  {
   "cell_type": "code",
   "execution_count": null,
   "metadata": {
    "collapsed": false
   },
   "outputs": [],
   "source": [
    "print get_cols_with_missing_values(test)"
   ]
  },
  {
   "cell_type": "code",
   "execution_count": null,
   "metadata": {
    "collapsed": true
   },
   "outputs": [],
   "source": [
    "# lets drop missing data for now\n",
    "train_with_no_missing_values = train.dropna()"
   ]
  },
  {
   "cell_type": "code",
   "execution_count": null,
   "metadata": {
    "collapsed": false
   },
   "outputs": [],
   "source": [
    "# lets see the distribution of the target variable\n",
    "train_with_no_missing_values.QuoteConversion_Flag.value_counts()"
   ]
  },
  {
   "cell_type": "code",
   "execution_count": null,
   "metadata": {
    "collapsed": false
   },
   "outputs": [],
   "source": [
    "train.QuoteConversion_Flag.value_counts()"
   ]
  },
  {
   "cell_type": "markdown",
   "metadata": {},
   "source": [
    "** Most of the positive labels have missing values. **"
   ]
  },
  {
   "cell_type": "code",
   "execution_count": null,
   "metadata": {
    "collapsed": false
   },
   "outputs": [],
   "source": [
    "# lets find out how many categorical features are there\n",
    "print (train.select_dtypes(['object']).shape[1])"
   ]
  },
  {
   "cell_type": "markdown",
   "metadata": {},
   "source": [
    "** 27 of the features are categorical. **"
   ]
  },
  {
   "cell_type": "code",
   "execution_count": null,
   "metadata": {
    "collapsed": true
   },
   "outputs": [],
   "source": [
    "categorical_features = train.select_dtypes(['object']).columns"
   ]
  },
  {
   "cell_type": "code",
   "execution_count": null,
   "metadata": {
    "collapsed": false
   },
   "outputs": [],
   "source": [
    "categorical_features"
   ]
  },
  {
   "cell_type": "code",
   "execution_count": null,
   "metadata": {
    "collapsed": false
   },
   "outputs": [],
   "source": [
    "def print_group_by_categorical_dist(df, categorical_features):\n",
    "    for col in categorical_features:\n",
    "        print df.groupby([col, 'QuoteConversion_Flag']).size()\n",
    "        print '\\n\\n'"
   ]
  },
  {
   "cell_type": "code",
   "execution_count": null,
   "metadata": {
    "collapsed": false
   },
   "outputs": [],
   "source": [
    "print_group_by_categorical_dist(train, categorical_features)"
   ]
  },
  {
   "cell_type": "markdown",
   "metadata": {},
   "source": [
    "## Add time related features"
   ]
  },
  {
   "cell_type": "code",
   "execution_count": null,
   "metadata": {
    "collapsed": true
   },
   "outputs": [],
   "source": [
    "train['year'] = train.Original_Quote_Date.dt.year\n",
    "train['month'] = train.Original_Quote_Date.dt.month"
   ]
  },
  {
   "cell_type": "code",
   "execution_count": null,
   "metadata": {
    "collapsed": false
   },
   "outputs": [],
   "source": [
    "y = train.groupby(['year', 'QuoteConversion_Flag']).size()\n",
    "y = y.unstack(1)"
   ]
  },
  {
   "cell_type": "code",
   "execution_count": null,
   "metadata": {
    "collapsed": false
   },
   "outputs": [],
   "source": [
    "plt.plot(y.index.values, y[0], label='Negative', c='b', alpha=0.3)\n",
    "plt.plot(y.index.values, y[1], label='Positive', c='g', alpha=0.3)\n",
    "plt.legend(loc='best')\n",
    "plt.xlabel('Year')\n",
    "plt.ylabel('Count of different results');"
   ]
  },
  {
   "cell_type": "code",
   "execution_count": null,
   "metadata": {
    "collapsed": false
   },
   "outputs": [],
   "source": [
    "g = train.groupby(['month', 'QuoteConversion_Flag']).size()\n",
    "g = g.unstack(1)"
   ]
  },
  {
   "cell_type": "code",
   "execution_count": null,
   "metadata": {
    "collapsed": false
   },
   "outputs": [],
   "source": [
    "plt.plot(g.index.values, g[0], label='Negative', c='b', alpha=0.3)\n",
    "plt.plot(g.index.values, g[1], label='Positive', c='g', alpha=0.3)\n",
    "plt.legend(loc='best')\n",
    "plt.xlabel('Month')\n",
    "plt.ylabel('Count of different results');"
   ]
  },
  {
   "cell_type": "code",
   "execution_count": null,
   "metadata": {
    "collapsed": false
   },
   "outputs": [],
   "source": [
    "# Relationship between year and month of original quote with conversion flag\n",
    "ym = train.groupby(['year', 'month', 'QuoteConversion_Flag']).size()\n",
    "ym = ym.unstack(2)"
   ]
  },
  {
   "cell_type": "code",
   "execution_count": null,
   "metadata": {
    "collapsed": false
   },
   "outputs": [],
   "source": [
    "ym.plot();"
   ]
  },
  {
   "cell_type": "markdown",
   "metadata": {},
   "source": [
    "## Are rest of the features numerical or ordinal ?"
   ]
  },
  {
   "cell_type": "code",
   "execution_count": 9,
   "metadata": {
    "collapsed": true
   },
   "outputs": [],
   "source": [
    "def type_of_features(df, col_types):\n",
    "    cat_features = df.select_dtypes(col_types)\n",
    "    \n",
    "    for cat in cat_features:\n",
    "        print 'Feature Name: {} and number of unique values {} '.format(cat, len(df[cat].unique()))"
   ]
  },
  {
   "cell_type": "code",
   "execution_count": 11,
   "metadata": {
    "collapsed": false
   },
   "outputs": [
    {
     "name": "stdout",
     "output_type": "stream",
     "text": [
      "Feature Name: QuoteConversion_Flag and number of unique values 2 \n",
      "Feature Name: Field7 and number of unique values 28 \n",
      "Feature Name: Field8 and number of unique values 38 \n",
      "Feature Name: Field9 and number of unique values 5 \n",
      "Feature Name: Field11 and number of unique values 11 \n",
      "Feature Name: CoverageField1A and number of unique values 26 \n",
      "Feature Name: CoverageField1B and number of unique values 26 \n",
      "Feature Name: CoverageField2A and number of unique values 25 \n",
      "Feature Name: CoverageField2B and number of unique values 25 \n",
      "Feature Name: CoverageField3A and number of unique values 25 \n",
      "Feature Name: CoverageField3B and number of unique values 25 \n",
      "Feature Name: CoverageField4A and number of unique values 25 \n",
      "Feature Name: CoverageField4B and number of unique values 25 \n",
      "Feature Name: CoverageField5A and number of unique values 3 \n",
      "Feature Name: CoverageField5B and number of unique values 4 \n",
      "Feature Name: CoverageField6A and number of unique values 3 \n",
      "Feature Name: CoverageField6B and number of unique values 4 \n",
      "Feature Name: CoverageField11A and number of unique values 26 \n",
      "Feature Name: CoverageField11B and number of unique values 26 \n",
      "Feature Name: SalesField1A and number of unique values 25 \n",
      "Feature Name: SalesField1B and number of unique values 25 \n",
      "Feature Name: SalesField2A and number of unique values 26 \n",
      "Feature Name: SalesField2B and number of unique values 26 \n",
      "Feature Name: SalesField3 and number of unique values 2 \n",
      "Feature Name: SalesField4 and number of unique values 5 \n",
      "Feature Name: SalesField5 and number of unique values 5 \n",
      "Feature Name: SalesField6 and number of unique values 24 \n",
      "Feature Name: SalesField8 and number of unique values 61530 \n",
      "Feature Name: SalesField9 and number of unique values 2 \n",
      "Feature Name: SalesField10 and number of unique values 19 \n",
      "Feature Name: SalesField11 and number of unique values 20 \n",
      "Feature Name: SalesField12 and number of unique values 22 \n",
      "Feature Name: SalesField13 and number of unique values 8 \n",
      "Feature Name: SalesField14 and number of unique values 12 \n",
      "Feature Name: SalesField15 and number of unique values 12 \n",
      "Feature Name: PersonalField1 and number of unique values 2 \n",
      "Feature Name: PersonalField2 and number of unique values 2 \n",
      "Feature Name: PersonalField4A and number of unique values 26 \n",
      "Feature Name: PersonalField4B and number of unique values 26 \n",
      "Feature Name: PersonalField5 and number of unique values 9 \n",
      "Feature Name: PersonalField6 and number of unique values 2 \n",
      "Feature Name: PersonalField8 and number of unique values 3 \n",
      "Feature Name: PersonalField9 and number of unique values 3 \n",
      "Feature Name: PersonalField10A and number of unique values 26 \n",
      "Feature Name: PersonalField10B and number of unique values 26 \n",
      "Feature Name: PersonalField11 and number of unique values 5 \n",
      "Feature Name: PersonalField12 and number of unique values 5 \n",
      "Feature Name: PersonalField13 and number of unique values 4 \n",
      "Feature Name: PersonalField14 and number of unique values 30 \n",
      "Feature Name: PersonalField15 and number of unique values 22 \n",
      "Feature Name: PersonalField22 and number of unique values 7 \n",
      "Feature Name: PersonalField23 and number of unique values 13 \n",
      "Feature Name: PersonalField24 and number of unique values 14 \n",
      "Feature Name: PersonalField25 and number of unique values 14 \n",
      "Feature Name: PersonalField26 and number of unique values 14 \n",
      "Feature Name: PersonalField27 and number of unique values 17 \n",
      "Feature Name: PersonalField28 and number of unique values 7 \n",
      "Feature Name: PersonalField29 and number of unique values 7 \n",
      "Feature Name: PersonalField30 and number of unique values 12 \n",
      "Feature Name: PersonalField31 and number of unique values 12 \n",
      "Feature Name: PersonalField32 and number of unique values 12 \n",
      "Feature Name: PersonalField33 and number of unique values 12 \n",
      "Feature Name: PersonalField34 and number of unique values 7 \n",
      "Feature Name: PersonalField35 and number of unique values 6 \n",
      "Feature Name: PersonalField36 and number of unique values 6 \n",
      "Feature Name: PersonalField37 and number of unique values 6 \n",
      "Feature Name: PersonalField38 and number of unique values 6 \n",
      "Feature Name: PersonalField39 and number of unique values 9 \n",
      "Feature Name: PersonalField40 and number of unique values 10 \n",
      "Feature Name: PersonalField41 and number of unique values 10 \n",
      "Feature Name: PersonalField42 and number of unique values 10 \n",
      "Feature Name: PersonalField43 and number of unique values 7 \n",
      "Feature Name: PersonalField44 and number of unique values 12 \n",
      "Feature Name: PersonalField45 and number of unique values 12 \n",
      "Feature Name: PersonalField46 and number of unique values 12 \n",
      "Feature Name: PersonalField47 and number of unique values 12 \n",
      "Feature Name: PersonalField48 and number of unique values 7 \n",
      "Feature Name: PersonalField49 and number of unique values 7 \n",
      "Feature Name: PersonalField50 and number of unique values 7 \n",
      "Feature Name: PersonalField51 and number of unique values 7 \n",
      "Feature Name: PersonalField52 and number of unique values 7 \n",
      "Feature Name: PersonalField53 and number of unique values 7 \n",
      "Feature Name: PersonalField54 and number of unique values 11 \n",
      "Feature Name: PersonalField55 and number of unique values 11 \n",
      "Feature Name: PersonalField56 and number of unique values 12 \n",
      "Feature Name: PersonalField57 and number of unique values 13 \n",
      "Feature Name: PersonalField58 and number of unique values 7 \n",
      "Feature Name: PersonalField59 and number of unique values 7 \n",
      "Feature Name: PersonalField60 and number of unique values 7 \n",
      "Feature Name: PersonalField61 and number of unique values 7 \n",
      "Feature Name: PersonalField62 and number of unique values 7 \n",
      "Feature Name: PersonalField63 and number of unique values 7 \n",
      "Feature Name: PersonalField64 and number of unique values 3 \n",
      "Feature Name: PersonalField65 and number of unique values 3 \n",
      "Feature Name: PersonalField66 and number of unique values 3 \n",
      "Feature Name: PersonalField67 and number of unique values 3 \n",
      "Feature Name: PersonalField68 and number of unique values 4 \n",
      "Feature Name: PersonalField69 and number of unique values 6 \n",
      "Feature Name: PersonalField70 and number of unique values 7 \n",
      "Feature Name: PersonalField71 and number of unique values 7 \n",
      "Feature Name: PersonalField72 and number of unique values 8 \n",
      "Feature Name: PersonalField73 and number of unique values 7 \n",
      "Feature Name: PersonalField74 and number of unique values 8 \n",
      "Feature Name: PersonalField75 and number of unique values 9 \n",
      "Feature Name: PersonalField76 and number of unique values 10 \n",
      "Feature Name: PersonalField77 and number of unique values 11 \n",
      "Feature Name: PersonalField78 and number of unique values 7 \n",
      "Feature Name: PersonalField79 and number of unique values 13 \n",
      "Feature Name: PersonalField80 and number of unique values 14 \n",
      "Feature Name: PersonalField81 and number of unique values 14 \n",
      "Feature Name: PersonalField82 and number of unique values 14 \n",
      "Feature Name: PersonalField83 and number of unique values 7 \n",
      "Feature Name: PersonalField84 and number of unique values 8 \n",
      "Feature Name: PropertyField1A and number of unique values 26 \n",
      "Feature Name: PropertyField1B and number of unique values 26 \n",
      "Feature Name: PropertyField2A and number of unique values 2 \n",
      "Feature Name: PropertyField2B and number of unique values 21 \n",
      "Feature Name: PropertyField6 and number of unique values 1 \n",
      "Feature Name: PropertyField8 and number of unique values 2 \n",
      "Feature Name: PropertyField9 and number of unique values 3 \n",
      "Feature Name: PropertyField10 and number of unique values 5 \n",
      "Feature Name: PropertyField11A and number of unique values 2 \n",
      "Feature Name: PropertyField11B and number of unique values 5 \n",
      "Feature Name: PropertyField12 and number of unique values 7 \n",
      "Feature Name: PropertyField13 and number of unique values 4 \n",
      "Feature Name: PropertyField15 and number of unique values 15 \n",
      "Feature Name: PropertyField16A and number of unique values 26 \n",
      "Feature Name: PropertyField16B and number of unique values 26 \n",
      "Feature Name: PropertyField17 and number of unique values 8 \n",
      "Feature Name: PropertyField18 and number of unique values 10 \n",
      "Feature Name: PropertyField19 and number of unique values 10 \n",
      "Feature Name: PropertyField20 and number of unique values 3 \n",
      "Feature Name: PropertyField21A and number of unique values 26 \n",
      "Feature Name: PropertyField21B and number of unique values 26 \n",
      "Feature Name: PropertyField22 and number of unique values 5 \n",
      "Feature Name: PropertyField23 and number of unique values 13 \n",
      "Feature Name: PropertyField24A and number of unique values 26 \n",
      "Feature Name: PropertyField24B and number of unique values 26 \n",
      "Feature Name: PropertyField25 and number of unique values 11 \n",
      "Feature Name: PropertyField26A and number of unique values 26 \n",
      "Feature Name: PropertyField26B and number of unique values 26 \n",
      "Feature Name: PropertyField27 and number of unique values 17 \n",
      "Feature Name: PropertyField29 and number of unique values 3 \n",
      "Feature Name: PropertyField35 and number of unique values 3 \n",
      "Feature Name: PropertyField39A and number of unique values 26 \n",
      "Feature Name: PropertyField39B and number of unique values 26 \n",
      "Feature Name: GeographicField1A and number of unique values 26 \n",
      "Feature Name: GeographicField1B and number of unique values 26 \n",
      "Feature Name: GeographicField2A and number of unique values 26 \n",
      "Feature Name: GeographicField2B and number of unique values 26 \n",
      "Feature Name: GeographicField3A and number of unique values 25 \n",
      "Feature Name: GeographicField3B and number of unique values 25 \n",
      "Feature Name: GeographicField4A and number of unique values 25 \n",
      "Feature Name: GeographicField4B and number of unique values 25 \n",
      "Feature Name: GeographicField5A and number of unique values 2 \n",
      "Feature Name: GeographicField5B and number of unique values 14 \n",
      "Feature Name: GeographicField6A and number of unique values 26 \n",
      "Feature Name: GeographicField6B and number of unique values 26 \n",
      "Feature Name: GeographicField7A and number of unique values 25 \n",
      "Feature Name: GeographicField7B and number of unique values 24 \n",
      "Feature Name: GeographicField8A and number of unique values 26 \n",
      "Feature Name: GeographicField8B and number of unique values 25 \n",
      "Feature Name: GeographicField9A and number of unique values 26 \n",
      "Feature Name: GeographicField9B and number of unique values 26 \n",
      "Feature Name: GeographicField10A and number of unique values 1 \n",
      "Feature Name: GeographicField10B and number of unique values 2 \n",
      "Feature Name: GeographicField11A and number of unique values 26 \n",
      "Feature Name: GeographicField11B and number of unique values 25 \n",
      "Feature Name: GeographicField12A and number of unique values 26 \n",
      "Feature Name: GeographicField12B and number of unique values 24 \n",
      "Feature Name: GeographicField13A and number of unique values 25 \n",
      "Feature Name: GeographicField13B and number of unique values 25 \n",
      "Feature Name: GeographicField14A and number of unique values 2 \n",
      "Feature Name: GeographicField14B and number of unique values 20 \n",
      "Feature Name: GeographicField15A and number of unique values 26 \n",
      "Feature Name: GeographicField15B and number of unique values 24 \n",
      "Feature Name: GeographicField16A and number of unique values 26 \n",
      "Feature Name: GeographicField16B and number of unique values 26 \n",
      "Feature Name: GeographicField17A and number of unique values 26 \n",
      "Feature Name: GeographicField17B and number of unique values 26 \n",
      "Feature Name: GeographicField18A and number of unique values 2 \n",
      "Feature Name: GeographicField18B and number of unique values 25 \n",
      "Feature Name: GeographicField19A and number of unique values 26 \n",
      "Feature Name: GeographicField19B and number of unique values 26 \n",
      "Feature Name: GeographicField20A and number of unique values 26 \n",
      "Feature Name: GeographicField20B and number of unique values 26 \n",
      "Feature Name: GeographicField21A and number of unique values 2 \n",
      "Feature Name: GeographicField21B and number of unique values 23 \n",
      "Feature Name: GeographicField22A and number of unique values 2 \n",
      "Feature Name: GeographicField22B and number of unique values 12 \n",
      "Feature Name: GeographicField23A and number of unique values 2 \n",
      "Feature Name: GeographicField23B and number of unique values 26 \n",
      "Feature Name: GeographicField24A and number of unique values 25 \n",
      "Feature Name: GeographicField24B and number of unique values 25 \n",
      "Feature Name: GeographicField25A and number of unique values 25 \n",
      "Feature Name: GeographicField25B and number of unique values 25 \n",
      "Feature Name: GeographicField26A and number of unique values 26 \n",
      "Feature Name: GeographicField26B and number of unique values 25 \n",
      "Feature Name: GeographicField27A and number of unique values 25 \n",
      "Feature Name: GeographicField27B and number of unique values 24 \n",
      "Feature Name: GeographicField28A and number of unique values 26 \n",
      "Feature Name: GeographicField28B and number of unique values 26 \n",
      "Feature Name: GeographicField29A and number of unique values 26 \n",
      "Feature Name: GeographicField29B and number of unique values 26 \n",
      "Feature Name: GeographicField30A and number of unique values 26 \n",
      "Feature Name: GeographicField30B and number of unique values 26 \n",
      "Feature Name: GeographicField31A and number of unique values 26 \n",
      "Feature Name: GeographicField31B and number of unique values 26 \n",
      "Feature Name: GeographicField32A and number of unique values 26 \n",
      "Feature Name: GeographicField32B and number of unique values 26 \n",
      "Feature Name: GeographicField33A and number of unique values 26 \n",
      "Feature Name: GeographicField33B and number of unique values 26 \n",
      "Feature Name: GeographicField34A and number of unique values 26 \n",
      "Feature Name: GeographicField34B and number of unique values 26 \n",
      "Feature Name: GeographicField35A and number of unique values 26 \n",
      "Feature Name: GeographicField35B and number of unique values 26 \n",
      "Feature Name: GeographicField36A and number of unique values 26 \n",
      "Feature Name: GeographicField36B and number of unique values 26 \n",
      "Feature Name: GeographicField37A and number of unique values 26 \n",
      "Feature Name: GeographicField37B and number of unique values 26 \n",
      "Feature Name: GeographicField38A and number of unique values 26 \n",
      "Feature Name: GeographicField38B and number of unique values 26 \n",
      "Feature Name: GeographicField39A and number of unique values 26 \n",
      "Feature Name: GeographicField39B and number of unique values 26 \n",
      "Feature Name: GeographicField40A and number of unique values 26 \n",
      "Feature Name: GeographicField40B and number of unique values 26 \n",
      "Feature Name: GeographicField41A and number of unique values 26 \n",
      "Feature Name: GeographicField41B and number of unique values 26 \n",
      "Feature Name: GeographicField42A and number of unique values 26 \n",
      "Feature Name: GeographicField42B and number of unique values 26 \n",
      "Feature Name: GeographicField43A and number of unique values 26 \n",
      "Feature Name: GeographicField43B and number of unique values 26 \n",
      "Feature Name: GeographicField44A and number of unique values 26 \n",
      "Feature Name: GeographicField44B and number of unique values 26 \n",
      "Feature Name: GeographicField45A and number of unique values 26 \n",
      "Feature Name: GeographicField45B and number of unique values 26 \n",
      "Feature Name: GeographicField46A and number of unique values 26 \n",
      "Feature Name: GeographicField46B and number of unique values 26 \n",
      "Feature Name: GeographicField47A and number of unique values 26 \n",
      "Feature Name: GeographicField47B and number of unique values 25 \n",
      "Feature Name: GeographicField48A and number of unique values 26 \n",
      "Feature Name: GeographicField48B and number of unique values 26 \n",
      "Feature Name: GeographicField49A and number of unique values 26 \n",
      "Feature Name: GeographicField49B and number of unique values 26 \n",
      "Feature Name: GeographicField50A and number of unique values 26 \n",
      "Feature Name: GeographicField50B and number of unique values 26 \n",
      "Feature Name: GeographicField51A and number of unique values 26 \n",
      "Feature Name: GeographicField51B and number of unique values 26 \n",
      "Feature Name: GeographicField52A and number of unique values 26 \n",
      "Feature Name: GeographicField52B and number of unique values 26 \n",
      "Feature Name: GeographicField53A and number of unique values 26 \n",
      "Feature Name: GeographicField53B and number of unique values 26 \n",
      "Feature Name: GeographicField54A and number of unique values 26 \n",
      "Feature Name: GeographicField54B and number of unique values 26 \n",
      "Feature Name: GeographicField55A and number of unique values 26 \n",
      "Feature Name: GeographicField55B and number of unique values 26 \n",
      "Feature Name: GeographicField56A and number of unique values 2 \n",
      "Feature Name: GeographicField56B and number of unique values 25 \n",
      "Feature Name: GeographicField57A and number of unique values 26 \n",
      "Feature Name: GeographicField57B and number of unique values 26 \n",
      "Feature Name: GeographicField58A and number of unique values 26 \n",
      "Feature Name: GeographicField58B and number of unique values 26 \n",
      "Feature Name: GeographicField59A and number of unique values 26 \n",
      "Feature Name: GeographicField59B and number of unique values 26 \n",
      "Feature Name: GeographicField60A and number of unique values 2 \n",
      "Feature Name: GeographicField60B and number of unique values 26 \n",
      "Feature Name: GeographicField61A and number of unique values 2 \n",
      "Feature Name: GeographicField61B and number of unique values 25 \n",
      "Feature Name: GeographicField62A and number of unique values 2 \n",
      "Feature Name: GeographicField62B and number of unique values 19 \n"
     ]
    }
   ],
   "source": [
    "type_of_features(train, ['int64', 'float64', 'int32', 'float32'])"
   ]
  },
  {
   "cell_type": "code",
   "execution_count": 10,
   "metadata": {
    "collapsed": false
   },
   "outputs": [
    {
     "name": "stdout",
     "output_type": "stream",
     "text": [
      "Feature Name: Field6 and number of unique values 8 \n",
      "Feature Name: Field10 and number of unique values 8 \n",
      "Feature Name: Field12 and number of unique values 2 \n",
      "Feature Name: CoverageField8 and number of unique values 7 \n",
      "Feature Name: CoverageField9 and number of unique values 12 \n",
      "Feature Name: SalesField7 and number of unique values 7 \n",
      "Feature Name: PersonalField7 and number of unique values 3 \n",
      "Feature Name: PersonalField16 and number of unique values 50 \n",
      "Feature Name: PersonalField17 and number of unique values 66 \n",
      "Feature Name: PersonalField18 and number of unique values 61 \n",
      "Feature Name: PersonalField19 and number of unique values 57 \n",
      "Feature Name: PropertyField3 and number of unique values 3 \n",
      "Feature Name: PropertyField4 and number of unique values 3 \n",
      "Feature Name: PropertyField5 and number of unique values 2 \n",
      "Feature Name: PropertyField7 and number of unique values 19 \n",
      "Feature Name: PropertyField14 and number of unique values 4 \n",
      "Feature Name: PropertyField28 and number of unique values 4 \n",
      "Feature Name: PropertyField30 and number of unique values 2 \n",
      "Feature Name: PropertyField31 and number of unique values 4 \n",
      "Feature Name: PropertyField32 and number of unique values 3 \n",
      "Feature Name: PropertyField33 and number of unique values 4 \n",
      "Feature Name: PropertyField34 and number of unique values 3 \n",
      "Feature Name: PropertyField36 and number of unique values 3 \n",
      "Feature Name: PropertyField37 and number of unique values 2 \n",
      "Feature Name: PropertyField38 and number of unique values 3 \n",
      "Feature Name: GeographicField63 and number of unique values 3 \n",
      "Feature Name: GeographicField64 and number of unique values 4 \n"
     ]
    }
   ],
   "source": [
    "type_of_features(train, ['object'])"
   ]
  },
  {
   "cell_type": "code",
   "execution_count": 12,
   "metadata": {
    "collapsed": false
   },
   "outputs": [
    {
     "data": {
      "text/plain": [
       "count    260753.000000\n",
       "mean      33734.858314\n",
       "std       19444.146851\n",
       "min           1.000000\n",
       "25%       16905.000000\n",
       "50%       33864.000000\n",
       "75%       50617.000000\n",
       "max       67164.000000\n",
       "Name: SalesField8, dtype: float64"
      ]
     },
     "execution_count": 12,
     "metadata": {},
     "output_type": "execute_result"
    }
   ],
   "source": [
    "train.SalesField8.describe()"
   ]
  },
  {
   "cell_type": "code",
   "execution_count": null,
   "metadata": {
    "collapsed": true
   },
   "outputs": [],
   "source": []
  },
  {
   "cell_type": "code",
   "execution_count": null,
   "metadata": {
    "collapsed": true
   },
   "outputs": [],
   "source": []
  },
  {
   "cell_type": "code",
   "execution_count": null,
   "metadata": {
    "collapsed": true
   },
   "outputs": [],
   "source": []
  }
 ],
 "metadata": {
  "kernelspec": {
   "display_name": "Python 2",
   "language": "python",
   "name": "python2"
  },
  "language_info": {
   "codemirror_mode": {
    "name": "ipython",
    "version": 2
   },
   "file_extension": ".py",
   "mimetype": "text/x-python",
   "name": "python",
   "nbconvert_exporter": "python",
   "pygments_lexer": "ipython2",
   "version": "2.7.10"
  }
 },
 "nbformat": 4,
 "nbformat_minor": 0
}
