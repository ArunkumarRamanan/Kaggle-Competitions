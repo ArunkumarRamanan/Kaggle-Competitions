{
 "cells": [
  {
   "cell_type": "code",
   "execution_count": 1,
   "metadata": {
    "collapsed": false
   },
   "outputs": [
    {
     "name": "stderr",
     "output_type": "stream",
     "text": [
      "C:\\Users\\Abhishek\\Anaconda2\\lib\\site-packages\\matplotlib\\__init__.py:872: UserWarning: axes.color_cycle is deprecated and replaced with axes.prop_cycle; please use the latter.\n",
      "  warnings.warn(self.msg_depr % (key, alt_key))\n"
     ]
    }
   ],
   "source": [
    "import pandas as pd\n",
    "import numpy as np\n",
    "\n",
    "from scipy import stats\n",
    "\n",
    "import seaborn as sns\n",
    "sns.set(color_codes=True)\n",
    "\n",
    "import matplotlib.pyplot as plt\n",
    "\n",
    "import warnings\n",
    "warnings.filterwarnings('ignore')\n",
    "\n",
    "%matplotlib inline"
   ]
  },
  {
   "cell_type": "code",
   "execution_count": 2,
   "metadata": {
    "collapsed": true
   },
   "outputs": [],
   "source": [
    "# load train and test files\n",
    "train = pd.read_csv('./data/train.csv', parse_dates=['Original_Quote_Date'], index_col='QuoteNumber')\n",
    "test = pd.read_csv('./data/test.csv', parse_dates=['Original_Quote_Date'], index_col='QuoteNumber')"
   ]
  },
  {
   "cell_type": "code",
   "execution_count": 3,
   "metadata": {
    "collapsed": false
   },
   "outputs": [
    {
     "name": "stdout",
     "output_type": "stream",
     "text": [
      "(260753, 298)\n",
      "(173836, 297)\n"
     ]
    }
   ],
   "source": [
    "# size of training and test set\n",
    "\n",
    "print train.shape\n",
    "print test.shape"
   ]
  },
  {
   "cell_type": "code",
   "execution_count": 4,
   "metadata": {
    "collapsed": false
   },
   "outputs": [
    {
     "data": {
      "text/plain": [
       "Index([u'Original_Quote_Date', u'QuoteConversion_Flag', u'Field6', u'Field7',\n",
       "       u'Field8', u'Field9', u'Field10', u'Field11', u'Field12',\n",
       "       u'CoverageField1A',\n",
       "       ...\n",
       "       u'GeographicField59A', u'GeographicField59B', u'GeographicField60A',\n",
       "       u'GeographicField60B', u'GeographicField61A', u'GeographicField61B',\n",
       "       u'GeographicField62A', u'GeographicField62B', u'GeographicField63',\n",
       "       u'GeographicField64'],\n",
       "      dtype='object', length=298)"
      ]
     },
     "execution_count": 4,
     "metadata": {},
     "output_type": "execute_result"
    }
   ],
   "source": [
    "train.columns"
   ]
  },
  {
   "cell_type": "code",
   "execution_count": 5,
   "metadata": {
    "collapsed": true
   },
   "outputs": [],
   "source": [
    "# transform column names to lowercase\n",
    "\n",
    "train.columns = train.columns.map(lambda x: x.lower())\n",
    "test.columns = test.columns.map(lambda x: x.lower())"
   ]
  },
  {
   "cell_type": "code",
   "execution_count": 6,
   "metadata": {
    "collapsed": true
   },
   "outputs": [],
   "source": [
    "%run scripts/helper.py"
   ]
  },
  {
   "cell_type": "code",
   "execution_count": 7,
   "metadata": {
    "collapsed": false
   },
   "outputs": [],
   "source": [
    "# encode categorical features\n",
    "train, test = encode_labels(train, test)"
   ]
  },
  {
   "cell_type": "code",
   "execution_count": 8,
   "metadata": {
    "collapsed": false
   },
   "outputs": [],
   "source": [
    "# convert the original_quote_date into year_original_quote_date,\n",
    "# month_original_quote_date, quarter_original_quote_date and weekday\n",
    "# and drop the original_quote_date feature\n",
    "\n",
    "train['year_original_quote_date'] = train.original_quote_date.dt.year\n",
    "train['month_original_quote_date'] = train.original_quote_date.dt.month\n",
    "train['quarter_original_quote_date'] = train.original_quote_date.dt.quarter\n",
    "train['weekday_original_quote_date'] = train.original_quote_date.dt.weekday\n",
    "\n",
    "test['year_original_quote_date'] = test.original_quote_date.dt.year\n",
    "test['month_original_quote_date'] = test.original_quote_date.dt.month\n",
    "test['quarter_original_quote_date'] = test.original_quote_date.dt.quarter\n",
    "test['weekday_original_quote_date'] = test.original_quote_date.dt.weekday\n",
    "\n",
    "train = train.drop('original_quote_date', axis=1)\n",
    "test = test.drop('original_quote_date', axis=1)"
   ]
  },
  {
   "cell_type": "code",
   "execution_count": 9,
   "metadata": {
    "collapsed": true
   },
   "outputs": [],
   "source": [
    "# drop columns with constant values\n",
    "\n",
    "train = train.drop('propertyfield6', axis=1)\n",
    "train = train.drop('geographicfield10a', axis=1)\n",
    "\n",
    "test = test.drop('propertyfield6', axis=1)\n",
    "test = test.drop('geographicfield10a', axis=1)"
   ]
  },
  {
   "cell_type": "code",
   "execution_count": 10,
   "metadata": {
    "collapsed": true
   },
   "outputs": [],
   "source": [
    "# fill missing value with -1 to indicate that this is a missing value\n",
    "\n",
    "train = train.fillna(-1)\n",
    "test = test.fillna(-1)"
   ]
  },
  {
   "cell_type": "code",
   "execution_count": 21,
   "metadata": {
    "collapsed": false
   },
   "outputs": [],
   "source": [
    "# take stratified sample from the dataset ( only 20% of the total examples )\n",
    "train_sample = get_stratified_sample(train, train.quoteconversion_flag, percentage=0.2)"
   ]
  },
  {
   "cell_type": "code",
   "execution_count": 22,
   "metadata": {
    "collapsed": false
   },
   "outputs": [],
   "source": [
    "# separate features and target variable\n",
    "train_features = train_sample[train_sample.columns.drop('quoteconversion_flag')]\n",
    "target = train_sample.quoteconversion_flag\n",
    "\n",
    "test_features = test"
   ]
  },
  {
   "cell_type": "code",
   "execution_count": 23,
   "metadata": {
    "collapsed": false
   },
   "outputs": [
    {
     "data": {
      "text/plain": [
       "(52150, 298)"
      ]
     },
     "execution_count": 23,
     "metadata": {},
     "output_type": "execute_result"
    }
   ],
   "source": [
    "# size of the samples\n",
    "train_features.shape"
   ]
  },
  {
   "cell_type": "code",
   "execution_count": 24,
   "metadata": {
    "collapsed": true
   },
   "outputs": [],
   "source": [
    "# divide into training and test set\n",
    "from sklearn.cross_validation import train_test_split\n",
    "\n",
    "X_train, X_test, y_train, y_test = train_test_split(train_features, target, test_size=0.3, random_state=0)"
   ]
  },
  {
   "cell_type": "code",
   "execution_count": 25,
   "metadata": {
    "collapsed": false
   },
   "outputs": [
    {
     "name": "stdout",
     "output_type": "stream",
     "text": [
      "(36505, 298) (15645, 298)\n"
     ]
    }
   ],
   "source": [
    "# shape of X_train and X_test\n",
    "print X_train.shape, X_test.shape"
   ]
  },
  {
   "cell_type": "code",
   "execution_count": 26,
   "metadata": {
    "collapsed": true
   },
   "outputs": [],
   "source": [
    "# Stratified K Fold settings\n",
    "\n",
    "from sklearn.cross_validation import StratifiedKFold, cross_val_score\n",
    "skf = StratifiedKFold(y_train, 3)"
   ]
  },
  {
   "cell_type": "code",
   "execution_count": 31,
   "metadata": {
    "collapsed": true
   },
   "outputs": [],
   "source": [
    "import xgboost as xgb\n",
    "\n",
    "from sklearn.pipeline import Pipeline\n",
    "from sklearn.ensemble import RandomForestClassifier\n",
    "from sklearn.linear_model import LogisticRegression\n",
    "\n",
    "from sklearn.metrics import roc_auc_score"
   ]
  },
  {
   "cell_type": "code",
   "execution_count": null,
   "metadata": {
    "collapsed": true
   },
   "outputs": [],
   "source": [
    "xgb_clf = xgb.XGBClassifier()\n",
    "rf_clf = RandomForestClassifier()"
   ]
  },
  {
   "cell_type": "code",
   "execution_count": null,
   "metadata": {
    "collapsed": false
   },
   "outputs": [],
   "source": [
    "# tuning hyperparameters for extreme gradient boosting algorithm\n",
    "parameters = dict([('n_estimators', [75, 150]), ('learning_rate', [.03, .01, 0.08]), ('max_depth', [8, 10]),\n",
    "               ('min_child_weight', [5, 10]), ('subsample', [0.8]), ('colsample_bytree', [0.8])])\n",
    "\n",
    "tuned_xgb_clf = cv_optimize(X_train, y_train, skf, xgb_clf, parameters)\n",
    "\n",
    "print 'best score {} and best classifier \\n {} '.format(tuned_xgb_clf.best_score_, tuned_xgb_clf.best_estimator_)"
   ]
  },
  {
   "cell_type": "code",
   "execution_count": null,
   "metadata": {
    "collapsed": false
   },
   "outputs": [],
   "source": [
    "# tuning hyperparameters for random forest classifier\n",
    "\n",
    "parameters = dict([('n_estimators', [100, 150]), ('criterion', ['gini', 'entropy']), ('min_samples_split', [2, 4]),\n",
    "                   ('min_samples_leaf', [1, 3]), ('class_weight', [None, 'auto'])])\n",
    "\n",
    "tuned_rf_clf = cv_optimize(X_train, y_train, skf, rf_clf, parameters)\n",
    "print 'best score {} and best classifier \\n {} '.format(tuned_rf_clf.best_score_, tuned_rf_clf.best_estimator_)"
   ]
  },
  {
   "cell_type": "code",
   "execution_count": null,
   "metadata": {
    "collapsed": false
   },
   "outputs": [],
   "source": [
    "# let's see how these two finely tuned classifiers perform on the unseen examples\n",
    "\n",
    "predict_xgb = tuned_xgb_clf.best_estimator_.predict_proba(X_test)[:, 1]\n",
    "predict_rf = tuned_rf_clf.best_estimator_.predict_proba(X_test)[:, 1]\n",
    "predict_log = tuned_log_clf.best_estimator_.predict_proba(X_test)[:, 1]\n",
    "\n",
    "xgb_auc = roc_auc_score(y_test, predict_xgb)\n",
    "rf_auc = roc_auc_score(y_test, predict_rf)\n",
    "log_auc = roc_auc_score(y_test, predict_log)\n",
    "\n",
    "print 'AUC score for Xgboost model {} \\nAUC score for Random Forest Model {} \\nAUC score for Logistic Regression '.format(xgb_auc, rf_auc, log_auc)"
   ]
  },
  {
   "cell_type": "code",
   "execution_count": null,
   "metadata": {
    "collapsed": true
   },
   "outputs": [],
   "source": [
    "# ranked ensembling\n",
    "y_xgb_ranked = transform_for_ranked(predict_xgb, X_test.index.values)\n",
    "y_rf_ranked = transform_for_ranked(predict_rf, X_test.index.values)\n",
    "\n",
    "ranked_ensemble = ranked_averaging([y_xgb_ranked, y_rf_ranked])\n",
    "ranks = [k3 for k1, k2, k3 in ranked_ensemble]"
   ]
  },
  {
   "cell_type": "code",
   "execution_count": null,
   "metadata": {
    "collapsed": false
   },
   "outputs": [],
   "source": [
    "ensemble_auc = roc_auc_score(y_test, ranks)\n",
    "\n",
    "print 'AUC score after taking average of the two predictions {} '.format(ensemble_auc)"
   ]
  },
  {
   "cell_type": "code",
   "execution_count": null,
   "metadata": {
    "collapsed": false
   },
   "outputs": [],
   "source": [
    "# lets plot validation curve to see the effect of changing learning rate on the Xgboost model\n",
    "\n",
    "from sklearn.learning_curve import validation_curve\n",
    "\n",
    "param_range = [0.1, 0.08, 0.05, 0.03, 0.01]\n",
    "train_scores, test_scores = validation_curve(\n",
    "    xgb.XGBClassifier(n_estimators=500), X_train, y_train, param_name=\"learning_rate\", param_range=param_range,\n",
    "    cv=skf, scoring=\"roc_auc\", n_jobs=1)\n",
    "train_scores_mean = np.mean(train_scores, axis=1)\n",
    "train_scores_std = np.std(train_scores, axis=1)\n",
    "test_scores_mean = np.mean(test_scores, axis=1)\n",
    "test_scores_std = np.std(test_scores, axis=1)\n",
    "\n",
    "plt.title(\"Validation Curve with Xgboost\")\n",
    "plt.xlabel(\"learning_rate\")\n",
    "plt.ylabel(\"AUC score\")\n",
    "plt.ylim(0.0, 1.1)\n",
    "plt.semilogx(param_range, train_scores_mean, label=\"Training score\", color=\"r\")\n",
    "plt.fill_between(param_range, train_scores_mean - train_scores_std,\n",
    "                 train_scores_mean + train_scores_std, alpha=0.2, color=\"r\")\n",
    "plt.semilogx(param_range, test_scores_mean, label=\"Cross-validation score\",\n",
    "             color=\"g\")\n",
    "plt.fill_between(param_range, test_scores_mean - test_scores_std,\n",
    "                 test_scores_mean + test_scores_std, alpha=0.2, color=\"g\")\n",
    "plt.legend(loc=\"best\")\n",
    "plt.show()"
   ]
  },
  {
   "cell_type": "code",
   "execution_count": 20,
   "metadata": {
    "collapsed": false
   },
   "outputs": [
    {
     "data": {
      "image/png": "[encoded data removed]",
      "text/plain": [
       "<matplotlib.figure.Figure at 0x307d4128>"
      ]
     },
     "metadata": {},
     "output_type": "display_data"
    }
   ],
   "source": [
    "# learning curve to see whether feeding more examples\n",
    "# would improve accuracy or not\n",
    "\n",
    "from sklearn.learning_curve import learning_curve\n",
    "\n",
    "train_sizes = np.linspace(.1, 1.0, 5)\n",
    "\n",
    "plt.xlabel(\"Training examples\")\n",
    "plt.ylabel(\"AUC score\")\n",
    "\n",
    "train_sizes, train_scores, test_scores = learning_curve(\n",
    "    xgb.XGBClassifier(n_estimators=500, learning_rate=0.01, min_child_weight=5, colsample_bytree=0.8, max_depth=10, subsample=0.8), X_train, y_train, cv=skf, train_sizes=train_sizes)\n",
    "\n",
    "train_scores_mean = np.mean(train_scores, axis=1)\n",
    "train_scores_std = np.std(train_scores, axis=1)\n",
    "test_scores_mean = np.mean(test_scores, axis=1)\n",
    "test_scores_std = np.std(test_scores, axis=1)\n",
    "\n",
    "plt.grid()\n",
    "\n",
    "plt.fill_between(train_sizes, train_scores_mean - train_scores_std,\n",
    "                 train_scores_mean + train_scores_std, alpha=0.1,\n",
    "                 color=\"r\")\n",
    "\n",
    "plt.fill_between(train_sizes, test_scores_mean - test_scores_std,\n",
    "                 test_scores_mean + test_scores_std, alpha=0.1, color=\"g\")\n",
    "\n",
    "plt.plot(train_sizes, train_scores_mean, 'o-', color=\"r\",\n",
    "         label=\"Training score\")\n",
    "\n",
    "plt.plot(train_sizes, test_scores_mean, 'o-', color=\"g\",\n",
    "         label=\"Cross-validation score\")\n",
    "\n",
    "plt.legend(loc=\"best\")\n",
    "plt.show()"
   ]
  },
  {
   "cell_type": "code",
   "execution_count": 27,
   "metadata": {
    "collapsed": true
   },
   "outputs": [],
   "source": [
    "# different Xgboost models\n",
    "xgb_clf_1 = xgb.XGBClassifier(n_estimators=500, max_depth=10, learning_rate=0.01, min_child_weight=5, colsample_bytree=0.8, subsample=0.8)"
   ]
  },
  {
   "cell_type": "code",
   "execution_count": null,
   "metadata": {
    "collapsed": false
   },
   "outputs": [],
   "source": [
    "# cross validating Extreme Gradient Classifier on 5% of training examples\n",
    "scores = cross_val_score(xgb_clf_1, X_train, y_train, scoring='roc_auc', cv=skf)\n",
    "print 'Min score {}, Mean score {} and Max score {} '.format(scores.min(), scores.mean(), scores.max())"
   ]
  },
  {
   "cell_type": "code",
   "execution_count": 28,
   "metadata": {
    "collapsed": true
   },
   "outputs": [],
   "source": [
    "xgb_clf_2 = xgb.XGBClassifier(n_estimators=75, max_depth=8, learning_rate=0.1, min_child_weight=5, colsample_bytree=0.6, subsample=0.6)"
   ]
  },
  {
   "cell_type": "code",
   "execution_count": null,
   "metadata": {
    "collapsed": false
   },
   "outputs": [],
   "source": [
    "# cross validating Extreme Gradient Classifier on 5% of training examples\n",
    "scores = cross_val_score(xgb_clf_2, X_train, y_train, scoring='roc_auc', cv=skf)\n",
    "print 'Min score {}, Mean score {} and Max score {} '.format(scores.min(), scores.mean(), scores.max())"
   ]
  },
  {
   "cell_type": "code",
   "execution_count": 29,
   "metadata": {
    "collapsed": false
   },
   "outputs": [
    {
     "data": {
      "text/plain": [
       "XGBClassifier(base_score=0.5, colsample_bytree=0.6, gamma=0,\n",
       "       learning_rate=0.1, max_delta_step=0, max_depth=8,\n",
       "       min_child_weight=5, missing=None, n_estimators=75, nthread=-1,\n",
       "       objective='binary:logistic', seed=0, silent=True, subsample=0.6)"
      ]
     },
     "execution_count": 29,
     "metadata": {},
     "output_type": "execute_result"
    }
   ],
   "source": [
    "# train these two models on the training set\n",
    "xgb_clf_1.fit(X_train, y_train)\n",
    "xgb_clf_2.fit(X_train, y_train)"
   ]
  },
  {
   "cell_type": "code",
   "execution_count": 32,
   "metadata": {
    "collapsed": false
   },
   "outputs": [
    {
     "name": "stdout",
     "output_type": "stream",
     "text": [
      "AUC score clf 1 0.958914362282 \n",
      "AUC score clf 2 0.958269817175\n",
      " AUC score ensemble 0.959140651144\n"
     ]
    }
   ],
   "source": [
    "pred_clf_1 = xgb_clf_1.predict_proba(X_test)[:, 1]\n",
    "pred_clf_2 = xgb_clf_2.predict_proba(X_test)[:, 1]\n",
    "\n",
    "\n",
    "y_clf_1_ranked = transform_for_ranked(pred_clf_1, X_test.index.values)\n",
    "y_clf_2_ranked = transform_for_ranked(pred_clf_2, X_test.index.values)\n",
    "\n",
    "ranked_ensemble = ranked_averaging([y_clf_1_ranked, y_clf_2_ranked])\n",
    "ranks = [k3 for k1, k2, k3 in ranked_ensemble]\n",
    "\n",
    "roc_auc_score_1 = roc_auc_score(y_test, pred_clf_1)\n",
    "roc_auc_score_2 = roc_auc_score(y_test, pred_clf_2)\n",
    "roc_auc_score_ensemble = roc_auc_score(y_test, ranks)\n",
    "\n",
    "print 'AUC score clf 1 {} \\nAUC score clf 2 {}\\n AUC score ensemble {}'.format(roc_auc_score_1, roc_auc_score_2, roc_auc_score_ensemble)"
   ]
  },
  {
   "cell_type": "code",
   "execution_count": null,
   "metadata": {
    "collapsed": false
   },
   "outputs": [],
   "source": [
    "# cross validation Random Forest Classifier on 5% of training examples\n",
    "scores = cross_val_score(RandomForestClassifier(), X_train, y_train, scoring='roc_auc', cv=skf)\n",
    "print 'Min score {}, Mean score {} and Max score {} '.format(scores.min(), scores.mean(), scores.max())"
   ]
  },
  {
   "cell_type": "code",
   "execution_count": null,
   "metadata": {
    "collapsed": true
   },
   "outputs": [],
   "source": []
  },
  {
   "cell_type": "code",
   "execution_count": null,
   "metadata": {
    "collapsed": false
   },
   "outputs": [],
   "source": [
    "# create submission file\n",
    "submission = pd.read_csv('./data/sample_submission.csv')\n",
    "submission['QuoteConversion_Flag'] = predictions\n",
    "submission.to_csv('./submissions/tenth_submission.csv', index=False)"
   ]
  },
  {
   "cell_type": "code",
   "execution_count": null,
   "metadata": {
    "collapsed": true
   },
   "outputs": [],
   "source": []
  },
  {
   "cell_type": "code",
   "execution_count": null,
   "metadata": {
    "collapsed": true
   },
   "outputs": [],
   "source": []
  },
  {
   "cell_type": "code",
   "execution_count": null,
   "metadata": {
    "collapsed": true
   },
   "outputs": [],
   "source": []
  }
 ],
 "metadata": {
  "kernelspec": {
   "display_name": "Python 2",
   "language": "python",
   "name": "python2"
  },
  "language_info": {
   "codemirror_mode": {
    "name": "ipython",
    "version": 2
   },
   "file_extension": ".py",
   "mimetype": "text/x-python",
   "name": "python",
   "nbconvert_exporter": "python",
   "pygments_lexer": "ipython2",
   "version": "2.7.10"
  }
 },
 "nbformat": 4,
 "nbformat_minor": 0
}
