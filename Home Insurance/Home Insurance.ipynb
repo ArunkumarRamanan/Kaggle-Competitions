{
 "cells": [
  {
   "cell_type": "code",
   "execution_count": 1,
   "metadata": {
    "collapsed": false
   },
   "outputs": [
    {
     "name": "stderr",
     "output_type": "stream",
     "text": [
      "C:\\Users\\Abhishek\\Anaconda2\\lib\\site-packages\\matplotlib\\__init__.py:872: UserWarning: axes.color_cycle is deprecated and replaced with axes.prop_cycle; please use the latter.\n",
      "  warnings.warn(self.msg_depr % (key, alt_key))\n"
     ]
    }
   ],
   "source": [
    "import pandas as pd\n",
    "import numpy as np\n",
    "\n",
    "from scipy import stats\n",
    "\n",
    "import seaborn as sns\n",
    "sns.set(color_codes=True)\n",
    "\n",
    "import matplotlib.pyplot as plt\n",
    "\n",
    "%matplotlib inline"
   ]
  },
  {
   "cell_type": "code",
   "execution_count": 2,
   "metadata": {
    "collapsed": true
   },
   "outputs": [],
   "source": [
    "# load train and test files\n",
    "train = pd.read_csv('./data/train.csv', parse_dates=['Original_Quote_Date'], index_col='QuoteNumber')\n",
    "test = pd.read_csv('./data/test.csv', parse_dates=['Original_Quote_Date'], index_col='QuoteNumber')"
   ]
  },
  {
   "cell_type": "code",
   "execution_count": 3,
   "metadata": {
    "collapsed": false
   },
   "outputs": [
    {
     "name": "stdout",
     "output_type": "stream",
     "text": [
      "(260753, 298)\n",
      "(173836, 297)\n"
     ]
    }
   ],
   "source": [
    "# size of training and test set\n",
    "print train.shape\n",
    "print test.shape"
   ]
  },
  {
   "cell_type": "code",
   "execution_count": 4,
   "metadata": {
    "collapsed": true
   },
   "outputs": [],
   "source": [
    "# transform column names to lowercase\n",
    "\n",
    "train.columns = train.columns.map(lambda x: x.lower())\n",
    "test.columns = test.columns.map(lambda x: x.lower())"
   ]
  },
  {
   "cell_type": "code",
   "execution_count": 5,
   "metadata": {
    "collapsed": false
   },
   "outputs": [
    {
     "name": "stderr",
     "output_type": "stream",
     "text": [
      "C:\\Users\\Abhishek\\Anaconda2\\lib\\site-packages\\numpy\\lib\\arraysetops.py:200: FutureWarning: numpy not_equal will not check object identity in the future. The comparison did not return the same result as suggested by the identity (`is`)) and will change.\n",
      "  flag = np.concatenate(([True], aux[1:] != aux[:-1]))\n",
      "C:\\Users\\Abhishek\\Anaconda2\\lib\\site-packages\\numpy\\lib\\arraysetops.py:259: FutureWarning: numpy equal will not check object identity in the future. The comparison did not return the same result as suggested by the identity (`is`)) and will change.\n",
      "  return aux[:-1][aux[1:] == aux[:-1]]\n"
     ]
    }
   ],
   "source": [
    "# encode categorical features\n",
    "from sklearn.preprocessing import LabelEncoder\n",
    "\n",
    "categorical_features_train = train.select_dtypes(include=['object'])\n",
    "categorical_features_test = train.select_dtypes(include=['object'])\n",
    "\n",
    "categorical_features = categorical_features_train.columns\n",
    "\n",
    "categorical_features_train = categorical_features_train[categorical_features]\n",
    "categorical_features_test = categorical_features_test[categorical_features]\n",
    "\n",
    "for col in categorical_features:\n",
    "    total_values = pd.concat([categorical_features_train[col], categorical_features_test[col]], axis=0)\n",
    "    \n",
    "    lbl = LabelEncoder()\n",
    "    \n",
    "    lbl.fit(total_values)\n",
    "    categorical_features_train[col] = lbl.transform(categorical_features_train[col])\n",
    "    categorical_features_test[col] = lbl.transform(categorical_features_test[col])\n",
    "\n",
    "train[categorical_features] = categorical_features_train\n",
    "test[categorical_features] = categorical_features_test"
   ]
  },
  {
   "cell_type": "code",
   "execution_count": 6,
   "metadata": {
    "collapsed": true
   },
   "outputs": [],
   "source": [
    "# convert the original_quote_date into year_original_quote_date,\n",
    "# month_original_quote_date, quarter_original_quote_date\n",
    "# and drop the original_quote_date feature\n",
    "\n",
    "train['year_original_quote_date'] = train.original_quote_date.dt.year\n",
    "train['month_original_quote_date'] = train.original_quote_date.dt.month\n",
    "train['quarter_original_quote_date'] = train.original_quote_date.dt.quarter\n",
    "train['weekday_original_quote_date'] = train.original_quote_date.dt.weekday\n",
    "\n",
    "test['year_original_quote_date'] = test.original_quote_date.dt.year\n",
    "test['month_original_quote_date'] = test.original_quote_date.dt.month\n",
    "test['quarter_original_quote_date'] = test.original_quote_date.dt.quarter\n",
    "test['weekday_original_quote_date'] = test.original_quote_date.dt.weekday\n",
    "\n",
    "train = train.drop('original_quote_date', axis=1)\n",
    "test = test.drop('original_quote_date', axis=1)"
   ]
  },
  {
   "cell_type": "code",
   "execution_count": 7,
   "metadata": {
    "collapsed": true
   },
   "outputs": [],
   "source": [
    "# drop columns with constant values\n",
    "\n",
    "train = train.drop('propertyfield6', axis=1)\n",
    "train = train.drop('geographicfield10a', axis=1)\n",
    "\n",
    "test = test.drop('propertyfield6', axis=1)\n",
    "test = test.drop('geographicfield10a', axis=1)"
   ]
  },
  {
   "cell_type": "code",
   "execution_count": 8,
   "metadata": {
    "collapsed": true
   },
   "outputs": [],
   "source": [
    "# fill missing value with -1 to indicate that this is a missing value\n",
    "\n",
    "train = train.fillna(-1)\n",
    "test = test.fillna(-1)"
   ]
  },
  {
   "cell_type": "code",
   "execution_count": 9,
   "metadata": {
    "collapsed": false
   },
   "outputs": [],
   "source": [
    "# take stratified sample from the dataset ( only 20% of the total examples )\n",
    "from sklearn.cross_validation import StratifiedShuffleSplit\n",
    "\n",
    "sss = StratifiedShuffleSplit(train.quoteconversion_flag, train_size=0.2)\n",
    "train_index, test_index = next(iter(sss))\n",
    "\n",
    "# train_sample = train.iloc[train_index]\n",
    "train_sample  = train"
   ]
  },
  {
   "cell_type": "code",
   "execution_count": 10,
   "metadata": {
    "collapsed": false
   },
   "outputs": [],
   "source": [
    "# separate features and target variable\n",
    "train_features = train_sample[train_sample.columns.drop('quoteconversion_flag')]\n",
    "target = train_sample.quoteconversion_flag\n",
    "\n",
    "test_features = test"
   ]
  },
  {
   "cell_type": "code",
   "execution_count": 11,
   "metadata": {
    "collapsed": false
   },
   "outputs": [
    {
     "data": {
      "text/plain": [
       "(260753, 298)"
      ]
     },
     "execution_count": 11,
     "metadata": {},
     "output_type": "execute_result"
    }
   ],
   "source": [
    "# size of the samples\n",
    "train_features.shape"
   ]
  },
  {
   "cell_type": "code",
   "execution_count": 12,
   "metadata": {
    "collapsed": true
   },
   "outputs": [],
   "source": [
    "# divide into training and test set\n",
    "from sklearn.cross_validation import train_test_split\n",
    "\n",
    "X_train, X_test, y_train, y_test = train_test_split(train_features, target, test_size=0.3, random_state=0)"
   ]
  },
  {
   "cell_type": "code",
   "execution_count": 13,
   "metadata": {
    "collapsed": true
   },
   "outputs": [],
   "source": [
    "from sklearn.pipeline import Pipeline\n",
    "from sklearn.preprocessing import StandardScaler\n",
    "from sklearn.decomposition import PCA\n",
    "from sklearn.linear_model import LogisticRegression\n",
    "from sklearn.ensemble import RandomForestClassifier, GradientBoostingClassifier\n",
    "\n",
    "import xgboost as xgb"
   ]
  },
  {
   "cell_type": "code",
   "execution_count": 14,
   "metadata": {
    "collapsed": false
   },
   "outputs": [],
   "source": [
    "# create pipeline containing standard scaler and logistic regression classifier\n",
    "scaler = StandardScaler()\n",
    "\n",
    "pca = PCA(n_components=200, whiten=True)\n",
    "\n",
    "log = LogisticRegression()\n",
    "rf = RandomForestClassifier(n_estimators=75)\n",
    "gbc = GradientBoostingClassifier()\n",
    "xgb_clf = xgb.XGBClassifier(n_estimators=100, max_depth=10, learning_rate=0.025, min_child_weight=3,\n",
    "                            colsample_bytree=0.8, subsample=0.8,silent=True)\n",
    "\n",
    "# clf = Pipeline([('xgb', xgb_clf)])"
   ]
  },
  {
   "cell_type": "code",
   "execution_count": 32,
   "metadata": {
    "collapsed": true
   },
   "outputs": [],
   "source": [
    "# cross validation\n",
    "from sklearn.cross_validation import StratifiedKFold, cross_val_score\n",
    "\n",
    "skf = StratifiedKFold(y_train, 3)\n",
    "\n",
    "scores = cross_val_score(xgb_clf, X_train, y_train, cv=skf, scoring='roc_auc')"
   ]
  },
  {
   "cell_type": "code",
   "execution_count": 33,
   "metadata": {
    "collapsed": false
   },
   "outputs": [
    {
     "name": "stdout",
     "output_type": "stream",
     "text": [
      "Min score 0.959249, Mean Score 0.961265 and Max Score 0.962310 \n"
     ]
    }
   ],
   "source": [
    "# print min, mean and max scores\n",
    "print 'Min score %f, Mean Score %f and Max Score %f ' %(scores.min(), scores.mean(), scores.max())"
   ]
  },
  {
   "cell_type": "code",
   "execution_count": 35,
   "metadata": {
    "collapsed": false
   },
   "outputs": [
    {
     "name": "stdout",
     "output_type": "stream",
     "text": [
      "Score on the heldout test set 0.961779 \n"
     ]
    }
   ],
   "source": [
    "# score on heldout test set\n",
    "from sklearn.metrics import roc_auc_score\n",
    "\n",
    "# train on training examples\n",
    "xgb_clf.fit(X_train, y_train)\n",
    "\n",
    "# predict on test examples\n",
    "y_test_preds = xgb_clf.predict_proba(X_test)[:, 1]\n",
    "\n",
    "print 'Score on the heldout test set %f ' %(roc_auc_score(y_test, y_test_preds))"
   ]
  },
  {
   "cell_type": "code",
   "execution_count": 24,
   "metadata": {
    "collapsed": false
   },
   "outputs": [
    {
     "data": {
      "text/plain": [
       "XGBClassifier(base_score=0.5, colsample_bytree=0.8, gamma=0,\n",
       "       learning_rate=0.08, max_delta_step=0, max_depth=6,\n",
       "       min_child_weight=1, missing=None, n_estimators=100, nthread=-1,\n",
       "       objective='binary:logistic', seed=0, silent=True, subsample=0.8)"
      ]
     },
     "execution_count": 24,
     "metadata": {},
     "output_type": "execute_result"
    }
   ],
   "source": [
    "# train on the training set\n",
    "xgb_clf.fit(X_train, y_train, eval_metric='auc')"
   ]
  },
  {
   "cell_type": "code",
   "execution_count": 25,
   "metadata": {
    "collapsed": false
   },
   "outputs": [],
   "source": [
    "# predictions on the test set\n",
    "y_test_preds = xgb_clf.predict_proba(X_test)[:, 1]"
   ]
  },
  {
   "cell_type": "code",
   "execution_count": 26,
   "metadata": {
    "collapsed": false
   },
   "outputs": [
    {
     "name": "stdout",
     "output_type": "stream",
     "text": [
      "AUC score on the test set 0.963220 \n"
     ]
    }
   ],
   "source": [
    "# test your AUC score on the test set\n",
    "print 'AUC score on the test set %f ' %(roc_auc_score(y_test, y_test_preds))"
   ]
  },
  {
   "cell_type": "code",
   "execution_count": null,
   "metadata": {
    "collapsed": false
   },
   "outputs": [],
   "source": [
    "# validation curves\n",
    "from sklearn.learning_curve import validation_curve\n",
    "\n",
    "param_range = [10, 50, 75, 100]\n",
    "train_scores, test_scores = validation_curve(\n",
    "    RandomForestClassifier(), train_features, target, param_name=\"n_estimators\", param_range=param_range,\n",
    "    cv=3, scoring=\"roc_auc\", n_jobs=1)\n",
    "\n",
    "train_scores_mean = np.mean(train_scores, axis=1)\n",
    "train_scores_std = np.std(train_scores, axis=1)\n",
    "test_scores_mean = np.mean(test_scores, axis=1)\n",
    "test_scores_std = np.std(test_scores, axis=1)\n",
    "\n",
    "plt.title(\"Validation Curve with Random Forest\")\n",
    "plt.xlabel(\"n_estimators\")\n",
    "plt.ylabel(\"AUC\")\n",
    "plt.xlim(10, 100)\n",
    "plt.ylim(0.0, 1.1)\n",
    "plt.semilogx(param_range, train_scores_mean, label=\"Training score\", color=\"r\")\n",
    "plt.fill_between(param_range, train_scores_mean - train_scores_std,\n",
    "                 train_scores_mean + train_scores_std, alpha=0.2, color=\"r\")\n",
    "plt.semilogx(param_range, test_scores_mean, label=\"Cross-validation score\",\n",
    "             color=\"g\")\n",
    "plt.fill_between(param_range, test_scores_mean - test_scores_std,\n",
    "                 test_scores_mean + test_scores_std, alpha=0.2, color=\"g\")\n",
    "plt.legend(loc=\"best\")\n",
    "plt.show()"
   ]
  },
  {
   "cell_type": "code",
   "execution_count": 15,
   "metadata": {
    "collapsed": false
   },
   "outputs": [
    {
     "data": {
      "text/plain": [
       "XGBClassifier(base_score=0.5, colsample_bytree=0.8, gamma=0,\n",
       "       learning_rate=0.025, max_delta_step=0, max_depth=10,\n",
       "       min_child_weight=3, missing=None, n_estimators=100, nthread=-1,\n",
       "       objective='binary:logistic', seed=0, silent=True, subsample=0.8)"
      ]
     },
     "execution_count": 15,
     "metadata": {},
     "output_type": "execute_result"
    }
   ],
   "source": [
    "# train on full dataset\n",
    "xgb_clf.fit(train_features, target)"
   ]
  },
  {
   "cell_type": "code",
   "execution_count": 16,
   "metadata": {
    "collapsed": true
   },
   "outputs": [],
   "source": [
    "# predictions\n",
    "predictions = xgb_clf.predict_proba(test_features)[:, 1]"
   ]
  },
  {
   "cell_type": "code",
   "execution_count": 17,
   "metadata": {
    "collapsed": false
   },
   "outputs": [],
   "source": [
    "# create submission file\n",
    "submission = pd.read_csv('./data/sample_submission.csv')\n",
    "submission['QuoteConversion_Flag'] = predictions\n",
    "submission.to_csv('./submissions/ninth_submission.csv', index=False)"
   ]
  },
  {
   "cell_type": "code",
   "execution_count": null,
   "metadata": {
    "collapsed": true
   },
   "outputs": [],
   "source": []
  },
  {
   "cell_type": "code",
   "execution_count": null,
   "metadata": {
    "collapsed": true
   },
   "outputs": [],
   "source": []
  },
  {
   "cell_type": "code",
   "execution_count": null,
   "metadata": {
    "collapsed": true
   },
   "outputs": [],
   "source": []
  },
  {
   "cell_type": "code",
   "execution_count": null,
   "metadata": {
    "collapsed": true
   },
   "outputs": [],
   "source": []
  }
 ],
 "metadata": {
  "kernelspec": {
   "display_name": "Python 2",
   "language": "python",
   "name": "python2"
  },
  "language_info": {
   "codemirror_mode": {
    "name": "ipython",
    "version": 2
   },
   "file_extension": ".py",
   "mimetype": "text/x-python",
   "name": "python",
   "nbconvert_exporter": "python",
   "pygments_lexer": "ipython2",
   "version": "2.7.10"
  }
 },
 "nbformat": 4,
 "nbformat_minor": 0
}
