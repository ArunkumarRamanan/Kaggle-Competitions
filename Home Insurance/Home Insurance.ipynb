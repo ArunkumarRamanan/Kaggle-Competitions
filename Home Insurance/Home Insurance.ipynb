{
 "cells": [
  {
   "cell_type": "code",
   "execution_count": 1,
   "metadata": {
    "collapsed": false
   },
   "outputs": [
    {
     "name": "stderr",
     "output_type": "stream",
     "text": [
      "C:\\Users\\Abhishek\\Anaconda2\\lib\\site-packages\\matplotlib\\__init__.py:872: UserWarning: axes.color_cycle is deprecated and replaced with axes.prop_cycle; please use the latter.\n",
      "  warnings.warn(self.msg_depr % (key, alt_key))\n"
     ]
    }
   ],
   "source": [
    "import pandas as pd\n",
    "import numpy as np\n",
    "\n",
    "from scipy import stats\n",
    "\n",
    "import seaborn as sns\n",
    "sns.set(color_codes=True)\n",
    "\n",
    "import matplotlib.pyplot as plt\n",
    "\n",
    "import warnings\n",
    "warnings.filterwarnings('ignore')\n",
    "\n",
    "%matplotlib inline"
   ]
  },
  {
   "cell_type": "code",
   "execution_count": 2,
   "metadata": {
    "collapsed": true
   },
   "outputs": [],
   "source": [
    "# load train and test files\n",
    "train = pd.read_csv('./data/train.csv', parse_dates=['Original_Quote_Date'], index_col='QuoteNumber')\n",
    "test = pd.read_csv('./data/test.csv', parse_dates=['Original_Quote_Date'], index_col='QuoteNumber')"
   ]
  },
  {
   "cell_type": "code",
   "execution_count": 3,
   "metadata": {
    "collapsed": false
   },
   "outputs": [
    {
     "name": "stdout",
     "output_type": "stream",
     "text": [
      "(260753, 298)\n",
      "(173836, 297)\n"
     ]
    }
   ],
   "source": [
    "# size of training and test set\n",
    "\n",
    "print train.shape\n",
    "print test.shape"
   ]
  },
  {
   "cell_type": "code",
   "execution_count": 4,
   "metadata": {
    "collapsed": false
   },
   "outputs": [
    {
     "data": {
      "text/plain": [
       "Index([u'Original_Quote_Date', u'QuoteConversion_Flag', u'Field6', u'Field7',\n",
       "       u'Field8', u'Field9', u'Field10', u'Field11', u'Field12',\n",
       "       u'CoverageField1A',\n",
       "       ...\n",
       "       u'GeographicField59A', u'GeographicField59B', u'GeographicField60A',\n",
       "       u'GeographicField60B', u'GeographicField61A', u'GeographicField61B',\n",
       "       u'GeographicField62A', u'GeographicField62B', u'GeographicField63',\n",
       "       u'GeographicField64'],\n",
       "      dtype='object', length=298)"
      ]
     },
     "execution_count": 4,
     "metadata": {},
     "output_type": "execute_result"
    }
   ],
   "source": [
    "train.columns"
   ]
  },
  {
   "cell_type": "code",
   "execution_count": 5,
   "metadata": {
    "collapsed": true
   },
   "outputs": [],
   "source": [
    "# transform column names to lowercase\n",
    "\n",
    "train.columns = train.columns.map(lambda x: x.lower())\n",
    "test.columns = test.columns.map(lambda x: x.lower())"
   ]
  },
  {
   "cell_type": "code",
   "execution_count": 23,
   "metadata": {
    "collapsed": true
   },
   "outputs": [],
   "source": [
    "%run scripts/helper.py"
   ]
  },
  {
   "cell_type": "code",
   "execution_count": 7,
   "metadata": {
    "collapsed": false
   },
   "outputs": [],
   "source": [
    "# encode categorical features\n",
    "train, test = encode_labels(train, test)"
   ]
  },
  {
   "cell_type": "code",
   "execution_count": 8,
   "metadata": {
    "collapsed": false
   },
   "outputs": [],
   "source": [
    "# convert the original_quote_date into year_original_quote_date,\n",
    "# month_original_quote_date, quarter_original_quote_date and weekday\n",
    "# and drop the original_quote_date feature\n",
    "\n",
    "train['year_original_quote_date'] = train.original_quote_date.dt.year\n",
    "train['month_original_quote_date'] = train.original_quote_date.dt.month\n",
    "train['quarter_original_quote_date'] = train.original_quote_date.dt.quarter\n",
    "train['weekday_original_quote_date'] = train.original_quote_date.dt.weekday\n",
    "\n",
    "test['year_original_quote_date'] = test.original_quote_date.dt.year\n",
    "test['month_original_quote_date'] = test.original_quote_date.dt.month\n",
    "test['quarter_original_quote_date'] = test.original_quote_date.dt.quarter\n",
    "test['weekday_original_quote_date'] = test.original_quote_date.dt.weekday\n",
    "\n",
    "train = train.drop('original_quote_date', axis=1)\n",
    "test = test.drop('original_quote_date', axis=1)"
   ]
  },
  {
   "cell_type": "code",
   "execution_count": 9,
   "metadata": {
    "collapsed": true
   },
   "outputs": [],
   "source": [
    "# drop columns with constant values\n",
    "\n",
    "train = train.drop('propertyfield6', axis=1)\n",
    "train = train.drop('geographicfield10a', axis=1)\n",
    "\n",
    "test = test.drop('propertyfield6', axis=1)\n",
    "test = test.drop('geographicfield10a', axis=1)"
   ]
  },
  {
   "cell_type": "code",
   "execution_count": 10,
   "metadata": {
    "collapsed": true
   },
   "outputs": [],
   "source": [
    "# fill missing value with -1 to indicate that this is a missing value\n",
    "\n",
    "train = train.fillna(-1)\n",
    "test = test.fillna(-1)"
   ]
  },
  {
   "cell_type": "code",
   "execution_count": 11,
   "metadata": {
    "collapsed": false
   },
   "outputs": [],
   "source": [
    "# take stratified sample from the dataset ( only 5% of the total examples )\n",
    "train_sample = get_stratified_sample(train, train.quoteconversion_flag, percentage=0.05)"
   ]
  },
  {
   "cell_type": "code",
   "execution_count": 12,
   "metadata": {
    "collapsed": false
   },
   "outputs": [],
   "source": [
    "# separate features and target variable\n",
    "train_features = train_sample[train_sample.columns.drop('quoteconversion_flag')]\n",
    "target = train_sample.quoteconversion_flag\n",
    "\n",
    "test_features = test"
   ]
  },
  {
   "cell_type": "code",
   "execution_count": 13,
   "metadata": {
    "collapsed": false
   },
   "outputs": [
    {
     "data": {
      "text/plain": [
       "(13037, 298)"
      ]
     },
     "execution_count": 13,
     "metadata": {},
     "output_type": "execute_result"
    }
   ],
   "source": [
    "# size of the samples\n",
    "train_features.shape"
   ]
  },
  {
   "cell_type": "code",
   "execution_count": 14,
   "metadata": {
    "collapsed": true
   },
   "outputs": [],
   "source": [
    "# divide into training and test set\n",
    "from sklearn.cross_validation import train_test_split\n",
    "\n",
    "X_train, X_test, y_train, y_test = train_test_split(train_features, target, test_size=0.3, random_state=0)"
   ]
  },
  {
   "cell_type": "code",
   "execution_count": 15,
   "metadata": {
    "collapsed": false
   },
   "outputs": [
    {
     "name": "stdout",
     "output_type": "stream",
     "text": [
      "(9125, 298) (3912, 298)\n"
     ]
    }
   ],
   "source": [
    "# shape of X_train and X_test\n",
    "print X_train.shape, X_test.shape"
   ]
  },
  {
   "cell_type": "code",
   "execution_count": 16,
   "metadata": {
    "collapsed": true
   },
   "outputs": [],
   "source": [
    "# Stratified K Fold settings\n",
    "\n",
    "from sklearn.cross_validation import StratifiedKFold, cross_val_score\n",
    "skf = StratifiedKFold(y_train, 3)"
   ]
  },
  {
   "cell_type": "code",
   "execution_count": 17,
   "metadata": {
    "collapsed": true
   },
   "outputs": [],
   "source": [
    "import xgboost as xgb\n",
    "\n",
    "from sklearn.pipeline import Pipeline\n",
    "from sklearn.ensemble import RandomForestClassifier"
   ]
  },
  {
   "cell_type": "code",
   "execution_count": 21,
   "metadata": {
    "collapsed": true
   },
   "outputs": [],
   "source": [
    "xgb_clf = xgb.XGBClassifier()\n",
    "rf_clf = RandomForestClassifier()"
   ]
  },
  {
   "cell_type": "code",
   "execution_count": 24,
   "metadata": {
    "collapsed": false
   },
   "outputs": [
    {
     "name": "stdout",
     "output_type": "stream",
     "text": [
      "best score 0.959115884966 and best classifier \n",
      " XGBClassifier(base_score=0.5, colsample_bytree=0.8, gamma=0,\n",
      "       learning_rate=0.03, max_delta_step=0, max_depth=10,\n",
      "       min_child_weight=5, missing=None, n_estimators=150, nthread=-1,\n",
      "       objective='binary:logistic', seed=0, silent=True, subsample=0.8) \n"
     ]
    }
   ],
   "source": [
    "# tuning hyperparameters for extreme gradient boosting algorithm\n",
    "parameters = dict([('n_estimators', [75, 150]), ('learning_rate', [.03, .01, 0.08]), ('max_depth', [8, 10]),\n",
    "               ('min_child_weight', [5, 10]), ('subsample', [0.8]), ('colsample_bytree', [0.8])])\n",
    "\n",
    "tuned_xgb_clf = cv_optimize(X_train, y_train, skf, xgb_clf, parameters)\n",
    "\n",
    "print 'best score {} and best classifier \\n {} '.format(tuned_xgb_clf.best_score_, tuned_xgb_clf.best_estimator_)"
   ]
  },
  {
   "cell_type": "code",
   "execution_count": 27,
   "metadata": {
    "collapsed": false
   },
   "outputs": [
    {
     "name": "stdout",
     "output_type": "stream",
     "text": [
      "best score 0.943722044538 and best classifier \n",
      " RandomForestClassifier(bootstrap=True, class_weight='auto',\n",
      "            criterion='entropy', max_depth=None, max_features='auto',\n",
      "            max_leaf_nodes=None, min_samples_leaf=1, min_samples_split=4,\n",
      "            min_weight_fraction_leaf=0.0, n_estimators=150, n_jobs=1,\n",
      "            oob_score=False, random_state=None, verbose=0,\n",
      "            warm_start=False) \n"
     ]
    }
   ],
   "source": [
    "# tuning hyperparameters for random forest classifier\n",
    "\n",
    "parameters = dict([('n_estimators', [100, 150]), ('criterion', ['gini', 'entropy']), ('min_samples_split', [2, 4]),\n",
    "                   ('min_samples_leaf', [1, 3]), ('class_weight', [None, 'auto'])])\n",
    "\n",
    "tuned_rf_clf = cv_optimize(X_train, y_train, skf, rf_clf, parameters)\n",
    "print 'best score {} and best classifier \\n {} '.format(tuned_rf_clf.best_score_, tuned_rf_clf.best_estimator_)"
   ]
  },
  {
   "cell_type": "code",
   "execution_count": 29,
   "metadata": {
    "collapsed": false
   },
   "outputs": [
    {
     "name": "stdout",
     "output_type": "stream",
     "text": [
      "AUC score for Xgboost model 0.950654161412 \n",
      "AUC score for Random Forest Model 0.931546513411 \n"
     ]
    }
   ],
   "source": [
    "# let's see how these two finely tuned classifiers perform on the unseen examples\n",
    "from sklearn.metrics import roc_auc_score\n",
    "\n",
    "predict_xgb = tuned_xgb_clf.best_estimator_.predict_proba(X_test)[:, 1]\n",
    "predict_rf = tuned_rf_clf.best_estimator_.predict_proba(X_test)[:, 1]\n",
    "\n",
    "xgb_auc = roc_auc_score(y_test, predict_xgb)\n",
    "rf_auc = roc_auc_score(y_test, predict_rf)\n",
    "\n",
    "print 'AUC score for Xgboost model {} \\nAUC score for Random Forest Model {} '.format(xgb_auc, rf_auc)"
   ]
  },
  {
   "cell_type": "code",
   "execution_count": 32,
   "metadata": {
    "collapsed": false
   },
   "outputs": [
    {
     "name": "stdout",
     "output_type": "stream",
     "text": [
      "AUC score after taking average of the two predictions 0.950356582939 \n"
     ]
    }
   ],
   "source": [
    "# lets take average of the two predictions and see if it improves overall accuracy on the \n",
    "# unseen examples\n",
    "\n",
    "predict_ensemble = 0.5 * predict_xgb + predict_rf * 0.5\n",
    "\n",
    "ensemble_auc = roc_auc_score(y_test, predict_ensemble)\n",
    "\n",
    "print 'AUC score after taking average of the two predictions {} '.format(ensemble_auc)"
   ]
  },
  {
   "cell_type": "code",
   "execution_count": 33,
   "metadata": {
    "collapsed": false
   },
   "outputs": [
    {
     "data": {
      "image/png": "[encoded data removed]",
      "text/plain": [
       "<matplotlib.figure.Figure at 0x1c129940>"
      ]
     },
     "metadata": {},
     "output_type": "display_data"
    }
   ],
   "source": [
    "# lets plot validation curve to see the effect of changing learning rate on the Xgboost model\n",
    "\n",
    "from sklearn.learning_curve import validation_curve\n",
    "\n",
    "param_range = [0.1, 0.08, 0.05, 0.03, 0.01]\n",
    "train_scores, test_scores = validation_curve(\n",
    "    xgb.XGBClassifier(n_estimators=500), X_train, y_train, param_name=\"learning_rate\", param_range=param_range,\n",
    "    cv=skf, scoring=\"roc_auc\", n_jobs=1)\n",
    "train_scores_mean = np.mean(train_scores, axis=1)\n",
    "train_scores_std = np.std(train_scores, axis=1)\n",
    "test_scores_mean = np.mean(test_scores, axis=1)\n",
    "test_scores_std = np.std(test_scores, axis=1)\n",
    "\n",
    "plt.title(\"Validation Curve with Xgboost\")\n",
    "plt.xlabel(\"learning_rate\")\n",
    "plt.ylabel(\"AUC score\")\n",
    "plt.ylim(0.0, 1.1)\n",
    "plt.semilogx(param_range, train_scores_mean, label=\"Training score\", color=\"r\")\n",
    "plt.fill_between(param_range, train_scores_mean - train_scores_std,\n",
    "                 train_scores_mean + train_scores_std, alpha=0.2, color=\"r\")\n",
    "plt.semilogx(param_range, test_scores_mean, label=\"Cross-validation score\",\n",
    "             color=\"g\")\n",
    "plt.fill_between(param_range, test_scores_mean - test_scores_std,\n",
    "                 test_scores_mean + test_scores_std, alpha=0.2, color=\"g\")\n",
    "plt.legend(loc=\"best\")\n",
    "plt.show()"
   ]
  },
  {
   "cell_type": "code",
   "execution_count": 34,
   "metadata": {
    "collapsed": true
   },
   "outputs": [],
   "source": [
    "# different Xgboost models\n",
    "xgb_clf_1 = xgb.XGBClassifier(n_estimators=500, max_depth=10, learning_rate=0.01, min_child_weight=5, colsample_bytree=0.8, subsample=0.8)"
   ]
  },
  {
   "cell_type": "code",
   "execution_count": 35,
   "metadata": {
    "collapsed": false
   },
   "outputs": [
    {
     "name": "stdout",
     "output_type": "stream",
     "text": [
      "Min score 0.957363966624, Mean score 0.959451204182 and Max score 0.962442975687 \n"
     ]
    }
   ],
   "source": [
    "# cross validating Extreme Gradient Classifier on 5% of training examples\n",
    "scores = cross_val_score(xgb_clf_1, X_train, y_train, scoring='roc_auc', cv=skf)\n",
    "print 'Min score {}, Mean score {} and Max score {} '.format(scores.min(), scores.mean(), scores.max())"
   ]
  },
  {
   "cell_type": "code",
   "execution_count": 36,
   "metadata": {
    "collapsed": true
   },
   "outputs": [],
   "source": [
    "xgb_clf_2 = xgb.XGBClassifier(n_estimators=75, max_depth=8, learning_rate=0.1, min_child_weight=5, colsample_bytree=0.6, subsample=0.6)"
   ]
  },
  {
   "cell_type": "code",
   "execution_count": 37,
   "metadata": {
    "collapsed": false
   },
   "outputs": [
    {
     "name": "stdout",
     "output_type": "stream",
     "text": [
      "Min score 0.953332611927, Mean score 0.956699424304 and Max score 0.959408798118 \n"
     ]
    }
   ],
   "source": [
    "# cross validating Extreme Gradient Classifier on 5% of training examples\n",
    "scores = cross_val_score(xgb_clf_2, X_train, y_train, scoring='roc_auc', cv=skf)\n",
    "print 'Min score {}, Mean score {} and Max score {} '.format(scores.min(), scores.mean(), scores.max())"
   ]
  },
  {
   "cell_type": "code",
   "execution_count": 38,
   "metadata": {
    "collapsed": false
   },
   "outputs": [
    {
     "name": "stdout",
     "output_type": "stream",
     "text": [
      "AUC score clf 1 0.951913278348 \n",
      "AUC score clf 2 0.948753024778\n",
      " AUC score ensemble 0.951300654374\n"
     ]
    }
   ],
   "source": [
    "# train these two models on the training set\n",
    "xgb_clf_1.fit(X_train, y_train)\n",
    "xgb_clf_2.fit(X_train, y_train)"
   ]
  },
  {
   "cell_type": "code",
   "execution_count": 39,
   "metadata": {
    "collapsed": false
   },
   "outputs": [
    {
     "name": "stdout",
     "output_type": "stream",
     "text": [
      "AUC score clf 1 0.951913278348 \n",
      "AUC score clf 2 0.948753024778\n",
      " AUC score ensemble 0.951817422719\n"
     ]
    }
   ],
   "source": [
    "pred_clf_1 = xgb_clf_1.predict_proba(X_test)[:, 1]\n",
    "pred_clf_2 = xgb_clf_2.predict_proba(X_test)[:, 1]\n",
    "\n",
    "ensemble_preds = 0.7 * pred_clf_1 + pred_clf_2 * 0.3\n",
    "\n",
    "roc_auc_score_1 = roc_auc_score(y_test, pred_clf_1)\n",
    "roc_auc_score_2 = roc_auc_score(y_test, pred_clf_2)\n",
    "roc_auc_score_ensemble = roc_auc_score(y_test, ensemble_preds)\n",
    "\n",
    "print 'AUC score clf 1 {} \\nAUC score clf 2 {}\\n AUC score ensemble {}'.format(roc_auc_score_1, roc_auc_score_2, roc_auc_score_ensemble)"
   ]
  },
  {
   "cell_type": "code",
   "execution_count": 20,
   "metadata": {
    "collapsed": false
   },
   "outputs": [
    {
     "name": "stdout",
     "output_type": "stream",
     "text": [
      "Min score 0.896716937289, Mean score 0.906615145821 and Max score 0.91615005439 \n"
     ]
    }
   ],
   "source": [
    "# cross validation Random Forest Classifier on 5% of training examples\n",
    "scores = cross_val_score(RandomForestClassifier(), X_train, y_train, scoring='roc_auc', cv=skf)\n",
    "print 'Min score {}, Mean score {} and Max score {} '.format(scores.min(), scores.mean(), scores.max())"
   ]
  },
  {
   "cell_type": "code",
   "execution_count": null,
   "metadata": {
    "collapsed": true
   },
   "outputs": [],
   "source": []
  },
  {
   "cell_type": "code",
   "execution_count": null,
   "metadata": {
    "collapsed": false
   },
   "outputs": [],
   "source": [
    "# create submission file\n",
    "submission = pd.read_csv('./data/sample_submission.csv')\n",
    "submission['QuoteConversion_Flag'] = predictions\n",
    "submission.to_csv('./submissions/tenth_submission.csv', index=False)"
   ]
  },
  {
   "cell_type": "code",
   "execution_count": null,
   "metadata": {
    "collapsed": true
   },
   "outputs": [],
   "source": []
  },
  {
   "cell_type": "code",
   "execution_count": null,
   "metadata": {
    "collapsed": true
   },
   "outputs": [],
   "source": []
  },
  {
   "cell_type": "code",
   "execution_count": null,
   "metadata": {
    "collapsed": true
   },
   "outputs": [],
   "source": []
  }
 ],
 "metadata": {
  "kernelspec": {
   "display_name": "Python 2",
   "language": "python",
   "name": "python2"
  },
  "language_info": {
   "codemirror_mode": {
    "name": "ipython",
    "version": 2
   },
   "file_extension": ".py",
   "mimetype": "text/x-python",
   "name": "python",
   "nbconvert_exporter": "python",
   "pygments_lexer": "ipython2",
   "version": "2.7.10"
  }
 },
 "nbformat": 4,
 "nbformat_minor": 0
}
