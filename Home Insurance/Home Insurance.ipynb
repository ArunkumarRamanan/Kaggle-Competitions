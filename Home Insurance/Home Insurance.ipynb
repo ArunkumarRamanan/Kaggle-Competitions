{
 "cells": [
  {
   "cell_type": "code",
   "execution_count": 1,
   "metadata": {
    "collapsed": false
   },
   "outputs": [
    {
     "name": "stderr",
     "output_type": "stream",
     "text": [
      "C:\\Users\\Abhishek\\Anaconda2\\lib\\site-packages\\matplotlib\\__init__.py:872: UserWarning: axes.color_cycle is deprecated and replaced with axes.prop_cycle; please use the latter.\n",
      "  warnings.warn(self.msg_depr % (key, alt_key))\n"
     ]
    }
   ],
   "source": [
    "import pandas as pd\n",
    "import numpy as np\n",
    "\n",
    "from scipy import stats\n",
    "\n",
    "import seaborn as sns\n",
    "sns.set(color_codes=True)\n",
    "\n",
    "import matplotlib.pyplot as plt\n",
    "\n",
    "import warnings\n",
    "warnings.filterwarnings('ignore')\n",
    "\n",
    "%matplotlib inline"
   ]
  },
  {
   "cell_type": "code",
   "execution_count": 2,
   "metadata": {
    "collapsed": true
   },
   "outputs": [],
   "source": [
    "from utils import load_data, prepare_sample"
   ]
  },
  {
   "cell_type": "code",
   "execution_count": 3,
   "metadata": {
    "collapsed": false
   },
   "outputs": [
    {
     "name": "stdout",
     "output_type": "stream",
     "text": [
      "Loading datasets\n",
      "Setting Quote Number as index\n"
     ]
    }
   ],
   "source": [
    "# load train and test files\n",
    "train, test = load_data()"
   ]
  },
  {
   "cell_type": "code",
   "execution_count": 4,
   "metadata": {
    "collapsed": false
   },
   "outputs": [
    {
     "name": "stdout",
     "output_type": "stream",
     "text": [
      "(260753, 298)\n",
      "(173836, 297)\n"
     ]
    }
   ],
   "source": [
    "# size of training and test set\n",
    "\n",
    "print train.shape\n",
    "print test.shape"
   ]
  },
  {
   "cell_type": "code",
   "execution_count": 5,
   "metadata": {
    "collapsed": false
   },
   "outputs": [],
   "source": [
    "# replace missing values with -1\n",
    "\n",
    "train = train.fillna(-1)\n",
    "test = test.fillna(-1)"
   ]
  },
  {
   "cell_type": "code",
   "execution_count": 6,
   "metadata": {
    "collapsed": true
   },
   "outputs": [],
   "source": [
    "# external script\n",
    "%run scripts/helper.py"
   ]
  },
  {
   "cell_type": "code",
   "execution_count": 7,
   "metadata": {
    "collapsed": false
   },
   "outputs": [],
   "source": [
    "# take a sample of the data\n",
    "X, y = prepare_sample(train)"
   ]
  },
  {
   "cell_type": "code",
   "execution_count": 8,
   "metadata": {
    "collapsed": true
   },
   "outputs": [],
   "source": [
    "# divide into training and test set\n",
    "from sklearn.cross_validation import train_test_split\n",
    "\n",
    "X_train, X_test, y_train, y_test = train_test_split(X, y, test_size=0.3, random_state=0)"
   ]
  },
  {
   "cell_type": "code",
   "execution_count": 9,
   "metadata": {
    "collapsed": false
   },
   "outputs": [
    {
     "name": "stdout",
     "output_type": "stream",
     "text": [
      "(2100, 297) (900, 297)\n"
     ]
    }
   ],
   "source": [
    "# shape of X_train and X_test\n",
    "print X_train.shape, X_test.shape"
   ]
  },
  {
   "cell_type": "code",
   "execution_count": 10,
   "metadata": {
    "collapsed": true
   },
   "outputs": [],
   "source": [
    "import xgboost as xgb\n",
    "\n",
    "from sklearn.pipeline import Pipeline\n",
    "from sklearn.preprocessing import StandardScaler\n",
    "from sklearn.linear_model import LogisticRegression\n",
    "from sklearn.feature_selection import VarianceThreshold\n",
    "\n",
    "from sklearn.metrics import roc_auc_score"
   ]
  },
  {
   "cell_type": "code",
   "execution_count": 11,
   "metadata": {
    "collapsed": false
   },
   "outputs": [],
   "source": [
    "from features import FeatureTransformer"
   ]
  },
  {
   "cell_type": "markdown",
   "metadata": {},
   "source": [
    "## Logistic Regression"
   ]
  },
  {
   "cell_type": "code",
   "execution_count": 17,
   "metadata": {
    "collapsed": true
   },
   "outputs": [],
   "source": [
    "ft = FeatureTransformer(train, test)\n",
    "scaler = StandardScaler()\n",
    "log = LogisticRegression(C=0.1)"
   ]
  },
  {
   "cell_type": "code",
   "execution_count": 22,
   "metadata": {
    "collapsed": true
   },
   "outputs": [],
   "source": [
    "pipeline_log = Pipeline([('ft', ft), ('scaler', scaler), ('log', log)])"
   ]
  },
  {
   "cell_type": "code",
   "execution_count": 23,
   "metadata": {
    "collapsed": false
   },
   "outputs": [
    {
     "data": {
      "text/plain": [
       "Pipeline(steps=[('ft', FeatureTransformer(test=None, train=None)), ('scaler', StandardScaler(copy=True, with_mean=True, with_std=True)), ('log', LogisticRegression(C=0.1, class_weight=None, dual=False, fit_intercept=True,\n",
       "          intercept_scaling=1, max_iter=100, multi_class='ovr',\n",
       "          penalty='l2', random_state=None, solver='liblinear', tol=0.0001,\n",
       "          verbose=0))])"
      ]
     },
     "execution_count": 23,
     "metadata": {},
     "output_type": "execute_result"
    }
   ],
   "source": [
    "pipeline_log.fit(X_train, y_train)"
   ]
  },
  {
   "cell_type": "code",
   "execution_count": 24,
   "metadata": {
    "collapsed": false
   },
   "outputs": [],
   "source": [
    "predsTrain = pipeline_log.predict_proba(X_train)[:, 1]\n",
    "predsTest = pipeline_log.predict_proba(X_test)[:, 1]"
   ]
  },
  {
   "cell_type": "code",
   "execution_count": 25,
   "metadata": {
    "collapsed": false
   },
   "outputs": [
    {
     "name": "stdout",
     "output_type": "stream",
     "text": [
      "ROC AUC score on training set 0.972310 \n",
      "ROC AUC score on test set 0.934343 \n"
     ]
    }
   ],
   "source": [
    "print 'ROC AUC score on training set %f ' %(roc_auc_score(y_train, predsTrain))\n",
    "print 'ROC AUC score on test set %f ' %(roc_auc_score(y_test, predsTest))"
   ]
  },
  {
   "cell_type": "markdown",
   "metadata": {},
   "source": [
    "## Random Forest Classifier"
   ]
  },
  {
   "cell_type": "code",
   "execution_count": null,
   "metadata": {
    "collapsed": true
   },
   "outputs": [],
   "source": [
    "from sklearn.ensemble import Random"
   ]
  },
  {
   "cell_type": "code",
   "execution_count": null,
   "metadata": {
    "collapsed": true
   },
   "outputs": [],
   "source": []
  },
  {
   "cell_type": "code",
   "execution_count": null,
   "metadata": {
    "collapsed": true
   },
   "outputs": [],
   "source": [
    "# Stratified K Fold settings\n",
    "\n",
    "from sklearn.cross_validation import StratifiedKFold, cross_val_score\n",
    "skf = StratifiedKFold(y_train, 3)"
   ]
  },
  {
   "cell_type": "code",
   "execution_count": null,
   "metadata": {
    "collapsed": true
   },
   "outputs": [],
   "source": [
    "from sklearn.ensemble import RandomForestClassifier\n",
    "from sklearn.linear_model import LogisticRegression\n",
    "\n"
   ]
  },
  {
   "cell_type": "code",
   "execution_count": null,
   "metadata": {
    "collapsed": true
   },
   "outputs": [],
   "source": [
    "xgb_clf = xgb.XGBClassifier()\n",
    "rf_clf = RandomForestClassifier()"
   ]
  },
  {
   "cell_type": "code",
   "execution_count": null,
   "metadata": {
    "collapsed": false
   },
   "outputs": [],
   "source": [
    "# tuning hyperparameters for extreme gradient boosting classifier 1\n",
    "\n",
    "parameters = dict([('n_estimators', [1000]), ('learning_rate', [.001, .005, 0.08]), ('max_depth', [8, 10]),\n",
    "               ('min_child_weight', [5]), ('subsample', [0.8, 0.6]), ('colsample_bytree', [0.8, 0.6])])\n",
    "\n",
    "tuned_xgb_clf = cv_optimize(X_train, y_train, skf, xgb_clf, parameters)\n",
    "\n",
    "print 'best score {} and best classifier \\n {} '.format(tuned_xgb_clf.best_score_, tuned_xgb_clf.best_estimator_)"
   ]
  },
  {
   "cell_type": "code",
   "execution_count": null,
   "metadata": {
    "collapsed": false
   },
   "outputs": [],
   "source": [
    "# tuning hyperparameters for extreme gradient boosting classifier on feature set 2\n",
    "\n",
    "parameters = dict([('n_estimators', [100, 150]), ('criterion', ['gini', 'entropy']), ('min_samples_split', [2, 4]),\n",
    "                   ('min_samples_leaf', [1, 3]), ('class_weight', [None, 'auto'])])\n",
    "\n",
    "tuned_rf_clf = cv_optimize(X_train, y_train, skf, rf_clf, parameters)\n",
    "print 'best score {} and best classifier \\n {} '.format(tuned_rf_clf.best_score_, tuned_rf_clf.best_estimator_)"
   ]
  },
  {
   "cell_type": "code",
   "execution_count": null,
   "metadata": {
    "collapsed": false
   },
   "outputs": [],
   "source": [
    "# let's see how these two finely tuned classifiers perform on the unseen examples\n",
    "\n",
    "predict_xgb = tuned_xgb_clf.best_estimator_.predict_proba(X_test)[:, 1]\n",
    "\n",
    "xgb_auc = roc_auc_score(y_test, predict_xgb)\n",
    "\n",
    "print 'AUC score for Xgboost model {} \\n '.format(xgb_auc)"
   ]
  },
  {
   "cell_type": "code",
   "execution_count": null,
   "metadata": {
    "collapsed": true
   },
   "outputs": [],
   "source": [
    "# ranked ensembling\n",
    "y_xgb_ranked = transform_for_ranked(predict_xgb, X_test.index.values)\n",
    "y_rf_ranked = transform_for_ranked(predict_rf, X_test.index.values)\n",
    "\n",
    "ranked_ensemble = ranked_averaging([y_xgb_ranked, y_rf_ranked])\n",
    "ranks = [k3 for k1, k2, k3 in ranked_ensemble]"
   ]
  },
  {
   "cell_type": "code",
   "execution_count": null,
   "metadata": {
    "collapsed": false
   },
   "outputs": [],
   "source": [
    "ensemble_auc = roc_auc_score(y_test, ranks)\n",
    "\n",
    "print 'AUC score after taking average of the two predictions {} '.format(ensemble_auc)"
   ]
  },
  {
   "cell_type": "code",
   "execution_count": null,
   "metadata": {
    "collapsed": false
   },
   "outputs": [],
   "source": [
    "# lets plot validation curve to see the effect of changing learning rate on the Xgboost model\n",
    "\n",
    "from sklearn.learning_curve import validation_curve\n",
    "\n",
    "param_range = [0.1, 0.08, 0.05, 0.03, 0.01]\n",
    "train_scores, test_scores = validation_curve(\n",
    "    xgb.XGBClassifier(n_estimators=500), X_train, y_train, param_name=\"learning_rate\", param_range=param_range,\n",
    "    cv=skf, scoring=\"roc_auc\", n_jobs=1)\n",
    "train_scores_mean = np.mean(train_scores, axis=1)\n",
    "train_scores_std = np.std(train_scores, axis=1)\n",
    "test_scores_mean = np.mean(test_scores, axis=1)\n",
    "test_scores_std = np.std(test_scores, axis=1)\n",
    "\n",
    "plt.title(\"Validation Curve with Xgboost\")\n",
    "plt.xlabel(\"learning_rate\")\n",
    "plt.ylabel(\"AUC score\")\n",
    "plt.ylim(0.0, 1.1)\n",
    "plt.semilogx(param_range, train_scores_mean, label=\"Training score\", color=\"r\")\n",
    "plt.fill_between(param_range, train_scores_mean - train_scores_std,\n",
    "                 train_scores_mean + train_scores_std, alpha=0.2, color=\"r\")\n",
    "plt.semilogx(param_range, test_scores_mean, label=\"Cross-validation score\",\n",
    "             color=\"g\")\n",
    "plt.fill_between(param_range, test_scores_mean - test_scores_std,\n",
    "                 test_scores_mean + test_scores_std, alpha=0.2, color=\"g\")\n",
    "plt.legend(loc=\"best\")\n",
    "plt.show()"
   ]
  },
  {
   "cell_type": "code",
   "execution_count": null,
   "metadata": {
    "collapsed": false
   },
   "outputs": [],
   "source": [
    "# learning curve to see whether feeding more examples\n",
    "# would improve accuracy or not\n",
    "\n",
    "from sklearn.learning_curve import learning_curve\n",
    "\n",
    "train_sizes = np.linspace(.1, 1.0, 5)\n",
    "\n",
    "plt.xlabel(\"Training examples\")\n",
    "plt.ylabel(\"AUC score\")\n",
    "\n",
    "train_sizes, train_scores, test_scores = learning_curve(\n",
    "    xgb.XGBClassifier(n_estimators=500, learning_rate=0.01, min_child_weight=5, colsample_bytree=0.8, max_depth=10, subsample=0.8), X_train, y_train, cv=skf, train_sizes=train_sizes)\n",
    "\n",
    "train_scores_mean = np.mean(train_scores, axis=1)\n",
    "train_scores_std = np.std(train_scores, axis=1)\n",
    "test_scores_mean = np.mean(test_scores, axis=1)\n",
    "test_scores_std = np.std(test_scores, axis=1)\n",
    "\n",
    "plt.grid()\n",
    "\n",
    "plt.fill_between(train_sizes, train_scores_mean - train_scores_std,\n",
    "                 train_scores_mean + train_scores_std, alpha=0.1,\n",
    "                 color=\"r\")\n",
    "\n",
    "plt.fill_between(train_sizes, test_scores_mean - test_scores_std,\n",
    "                 test_scores_mean + test_scores_std, alpha=0.1, color=\"g\")\n",
    "\n",
    "plt.plot(train_sizes, train_scores_mean, 'o-', color=\"r\",\n",
    "         label=\"Training score\")\n",
    "\n",
    "plt.plot(train_sizes, test_scores_mean, 'o-', color=\"g\",\n",
    "         label=\"Cross-validation score\")\n",
    "\n",
    "plt.legend(loc=\"best\")\n",
    "plt.show()"
   ]
  },
  {
   "cell_type": "code",
   "execution_count": null,
   "metadata": {
    "collapsed": false
   },
   "outputs": [],
   "source": [
    "# we have two different feature sets fs1, fs2\n",
    "X_train_fs1 = X_train[fs1]\n",
    "X_test_fs1 = X_test[fs1]\n",
    "\n",
    "X_train_fs2 = X_train[fs2]\n",
    "X_test_fs2 = X_test[fs2]"
   ]
  },
  {
   "cell_type": "code",
   "execution_count": null,
   "metadata": {
    "collapsed": false
   },
   "outputs": [],
   "source": [
    "X_train_fs1.head()"
   ]
  },
  {
   "cell_type": "code",
   "execution_count": null,
   "metadata": {
    "collapsed": true
   },
   "outputs": [],
   "source": [
    "# different Xgboost models\n",
    "xgb_clf_1 = xgb.XGBClassifier(n_estimators=1000, max_depth=6, learning_rate=0.05, min_child_weight=5, colsample_bytree=0.6, subsample=0.8)"
   ]
  },
  {
   "cell_type": "code",
   "execution_count": null,
   "metadata": {
    "collapsed": false
   },
   "outputs": [],
   "source": [
    "fs2"
   ]
  },
  {
   "cell_type": "code",
   "execution_count": null,
   "metadata": {
    "collapsed": false
   },
   "outputs": [],
   "source": [
    "# cross validating Extreme Gradient Classifier on 50% of training examples\n",
    "scores = cross_val_score(xgb_clf_1, X_train_fs1, y_train, scoring='roc_auc', cv=skf)\n",
    "print 'Min score {}, Mean score {} and Max score {} '.format(scores.min(), scores.mean(), scores.max())"
   ]
  },
  {
   "cell_type": "code",
   "execution_count": null,
   "metadata": {
    "collapsed": true
   },
   "outputs": [],
   "source": [
    "xgb_clf_2 = xgb.XGBClassifier(n_estimators=500, max_depth=6, learning_rate=0.05, min_child_weight=5, colsample_bytree=0.6, subsample=0.8)"
   ]
  },
  {
   "cell_type": "code",
   "execution_count": null,
   "metadata": {
    "collapsed": false
   },
   "outputs": [],
   "source": [
    "# cross validating Extreme Gradient Classifier on 50% of training examples\n",
    "scores = cross_val_score(xgb_clf_2, X_train, y_train, scoring='roc_auc', cv=skf)\n",
    "print 'Min score {}, Mean score {} and Max score {} '.format(scores.min(), scores.mean(), scores.max())"
   ]
  },
  {
   "cell_type": "code",
   "execution_count": null,
   "metadata": {
    "collapsed": true
   },
   "outputs": [],
   "source": [
    "rf_clf = RandomForestClassifier(n_estimators=500, n_jobs=-1, criterion='entropy', min_samples_split=4)"
   ]
  },
  {
   "cell_type": "code",
   "execution_count": null,
   "metadata": {
    "collapsed": false
   },
   "outputs": [],
   "source": [
    "scores = cross_val_score(rf_clf, X_train, y_train, scoring='roc_auc', cv=skf)\n",
    "print 'Min score {}, Mean score {} and Max score {} '.format(scores.min(), scores.mean(), scores.max())"
   ]
  },
  {
   "cell_type": "code",
   "execution_count": null,
   "metadata": {
    "collapsed": false
   },
   "outputs": [],
   "source": [
    "# train these two models on the training set\n",
    "xgb_clf_1.fit(X_train, y_train)"
   ]
  },
  {
   "cell_type": "code",
   "execution_count": null,
   "metadata": {
    "collapsed": false
   },
   "outputs": [],
   "source": [
    "xgb_clf_2.fit(X_train, y_train)"
   ]
  },
  {
   "cell_type": "code",
   "execution_count": null,
   "metadata": {
    "collapsed": false
   },
   "outputs": [],
   "source": [
    "# train another model on the same data set\n",
    "rf_clf.fit(X_train, y_train)"
   ]
  },
  {
   "cell_type": "code",
   "execution_count": null,
   "metadata": {
    "collapsed": false
   },
   "outputs": [],
   "source": [
    "pred_clf_1 = xgb_clf_1.predict_proba(X_test)[:, 1]\n",
    "pred_clf_2 = xgb_clf_2.predict_proba(X_test)[:, 1]\n",
    "pred_clf_3 = rf_clf.predict_proba(X_test)[:, 1]\n",
    "\n",
    "\n",
    "y_clf_1_ranked = transform_for_ranked(pred_clf_1, X_test.index.values)\n",
    "y_clf_2_ranked = transform_for_ranked(pred_clf_2, X_test.index.values)\n",
    "y_clf_3_ranked = transform_for_ranked(pred_clf_3, X_test.index.values)\n",
    "\n",
    "ranked_ensemble = ranked_averaging([y_clf_1_ranked, y_clf_2_ranked, y_clf_3_ranked])\n",
    "ranks = [k3 for k1, k2, k3 in ranked_ensemble]\n",
    "\n",
    "roc_auc_score_1 = roc_auc_score(y_test, pred_clf_1)\n",
    "roc_auc_score_2 = roc_auc_score(y_test, pred_clf_2)\n",
    "roc_auc_score_3 = roc_auc_score(y_test, pred_clf_3)\n",
    "\n",
    "roc_auc_score_ensemble = roc_auc_score(y_test, ranks)\n",
    "\n",
    "print 'AUC score clf 1 {} \\nAUC score clf 2 {}\\n AUC score for rf {} \\nAUC score ensemble {}'.format(roc_auc_score_1, \n",
    "                                                                                                     roc_auc_score_2,\n",
    "                                                                                                     roc_auc_score_3,\n",
    "                                                                                                     roc_auc_score_ensemble)"
   ]
  },
  {
   "cell_type": "code",
   "execution_count": null,
   "metadata": {
    "collapsed": false
   },
   "outputs": [],
   "source": [
    "# cross validation Random Forest Classifier on 5% of training examples\n",
    "scores = cross_val_score(RandomForestClassifier(), X_train, y_train, scoring='roc_auc', cv=skf)\n",
    "print 'Min score {}, Mean score {} and Max score {} '.format(scores.min(), scores.mean(), scores.max())"
   ]
  },
  {
   "cell_type": "code",
   "execution_count": null,
   "metadata": {
    "collapsed": false
   },
   "outputs": [],
   "source": [
    "# train on all of the training examples\n",
    "\n",
    "# train the first model\n",
    "xgb_clf_1.fit(train_features, target)"
   ]
  },
  {
   "cell_type": "code",
   "execution_count": null,
   "metadata": {
    "collapsed": false
   },
   "outputs": [],
   "source": [
    "# train the second model\n",
    "xgb_clf_2.fit(train_features, target)"
   ]
  },
  {
   "cell_type": "code",
   "execution_count": null,
   "metadata": {
    "collapsed": true
   },
   "outputs": [],
   "source": [
    "# predictions on the test examples\n",
    "pred_clf_1 = xgb_clf_1.predict_proba(test)[:, 1]\n",
    "pred_clf_2 = xgb_clf_2.predict_proba(test)[:, 1]\n",
    "\n",
    "\n",
    "y_clf_1_ranked = transform_for_ranked(pred_clf_1, test.index.values)\n",
    "y_clf_2_ranked = transform_for_ranked(pred_clf_2, test.index.values)\n",
    "\n",
    "ranked_ensemble = ranked_averaging([y_clf_1_ranked, y_clf_2_ranked])\n",
    "ranks = [k3 for k1, k2, k3 in ranked_ensemble]"
   ]
  },
  {
   "cell_type": "code",
   "execution_count": null,
   "metadata": {
    "collapsed": true
   },
   "outputs": [],
   "source": [
    "# rank ensembling 11th and 14th submissions\n",
    "kaggle_script_submission = pd.read_csv('./submissions/kaggle_script_1500.csv')\n",
    "sixteenth_submission = pd.read_csv('./submissions/sixteenth_submission.csv')\n",
    "abhishek_benchmark = pd.read_csv('./submissions/abhishek_benchmark.csv')\n",
    "\n",
    "ranked_kaggle = transform_for_ranked(kaggle_script_submission.QuoteConversion_Flag, kaggle_script_submission.QuoteNumber)\n",
    "ranked_16 = transform_for_ranked(sixteenth_submission.QuoteConversion_Flag, sixteenth_submission.QuoteNumber)\n",
    "ranked_benchmark = transform_for_ranked(abhishek_benchmark.QuoteConversion_Flag, abhishek_benchmark.QuoteNumber)\n",
    "\n",
    "\n",
    "ranked_ensemble = ranked_averaging([ranked_kaggle, ranked_16, ranked_benchmark])\n",
    "ranks = [k3 for k1, k2, k3 in ranked_ensemble]"
   ]
  },
  {
   "cell_type": "code",
   "execution_count": null,
   "metadata": {
    "collapsed": false
   },
   "outputs": [],
   "source": [
    "ranks[:10]"
   ]
  },
  {
   "cell_type": "code",
   "execution_count": null,
   "metadata": {
    "collapsed": false
   },
   "outputs": [],
   "source": [
    "# create submission file\n",
    "submission = pd.read_csv('./data/sample_submission.csv')\n",
    "submission['QuoteConversion_Flag'] = ranks\n",
    "submission.to_csv('./submissions/eighteenth_submission.csv', index=False)"
   ]
  },
  {
   "cell_type": "code",
   "execution_count": null,
   "metadata": {
    "collapsed": true
   },
   "outputs": [],
   "source": []
  },
  {
   "cell_type": "code",
   "execution_count": null,
   "metadata": {
    "collapsed": true
   },
   "outputs": [],
   "source": []
  },
  {
   "cell_type": "code",
   "execution_count": null,
   "metadata": {
    "collapsed": true
   },
   "outputs": [],
   "source": []
  }
 ],
 "metadata": {
  "kernelspec": {
   "display_name": "Python 2",
   "language": "python",
   "name": "python2"
  },
  "language_info": {
   "codemirror_mode": {
    "name": "ipython",
    "version": 2
   },
   "file_extension": ".py",
   "mimetype": "text/x-python",
   "name": "python",
   "nbconvert_exporter": "python",
   "pygments_lexer": "ipython2",
   "version": "2.7.11"
  }
 },
 "nbformat": 4,
 "nbformat_minor": 0
}
