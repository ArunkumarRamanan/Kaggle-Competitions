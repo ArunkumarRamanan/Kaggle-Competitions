{
 "cells": [
  {
   "cell_type": "code",
   "execution_count": 113,
   "metadata": {
    "collapsed": true
   },
   "outputs": [],
   "source": [
    "%matplotlib inline\n",
    "\n",
    "import pandas as pd\n",
    "import numpy as np\n",
    "import os\n",
    "\n",
    "import matplotlib.pyplot as plt\n",
    "import seaborn as sns\n",
    "sns.set_style('whitegrid')\n",
    "sns.set_context('poster')\n",
    "\n",
    "from collections import defaultdict\n",
    "\n",
    "import warnings\n",
    "warnings.filterwarnings('ignore')\n",
    "\n",
    "np.random.seed(2323)\n",
    "\n",
    "DATA_DIR = './data/'"
   ]
  },
  {
   "cell_type": "markdown",
   "metadata": {},
   "source": [
    "Two kinds of historical information are given: __sale log__ and __repair log__. The time period of the __sale log__ is from _January/2005_ to _February/2008_; while the time period of the __repair log__ is from _February/2005_ to _December/2009_. Details of these two files are described in the File description section.\n",
    "\n",
    "Participants should exploit the sale and repair log to predict the the __monthly repair amount__ for each __module-component__ from _January/2010 to July/2011_. In other words, the model should output a series (nineteen elements, one element for one month) of predicted __real-value__ (amount of repair) for each module-component."
   ]
  },
  {
   "cell_type": "code",
   "execution_count": 213,
   "metadata": {
    "collapsed": false
   },
   "outputs": [],
   "source": [
    "# load files\n",
    "repair_train = pd.read_csv(os.path.join(DATA_DIR, 'RepairTrain.csv'), parse_dates=[2, 3])\n",
    "sale_train = pd.read_csv(os.path.join(DATA_DIR, 'SaleTrain.csv'), parse_dates=[2])\n",
    "output_mapping = pd.read_csv(os.path.join(DATA_DIR, 'Output_TargetID_Mapping.csv'))\n",
    "sample_sub = pd.read_csv(os.path.join(DATA_DIR, 'SampleSubmission.csv'))"
   ]
  },
  {
   "cell_type": "code",
   "execution_count": 81,
   "metadata": {
    "collapsed": false
   },
   "outputs": [
    {
     "data": {
      "text/html": [
       "<div>\n",
       "<table border=\"1\" class=\"dataframe\">\n",
       "  <thead>\n",
       "    <tr style=\"text-align: right;\">\n",
       "      <th></th>\n",
       "      <th>module_category</th>\n",
       "      <th>component_category</th>\n",
       "      <th>year/month(sale)</th>\n",
       "      <th>year/month(repair)</th>\n",
       "      <th>number_repair</th>\n",
       "    </tr>\n",
       "  </thead>\n",
       "  <tbody>\n",
       "    <tr>\n",
       "      <th>0</th>\n",
       "      <td>M6</td>\n",
       "      <td>P16</td>\n",
       "      <td>2007-09-01</td>\n",
       "      <td>2009-04-01</td>\n",
       "      <td>1</td>\n",
       "    </tr>\n",
       "    <tr>\n",
       "      <th>1</th>\n",
       "      <td>M2</td>\n",
       "      <td>P30</td>\n",
       "      <td>2007-09-01</td>\n",
       "      <td>2009-08-01</td>\n",
       "      <td>1</td>\n",
       "    </tr>\n",
       "    <tr>\n",
       "      <th>2</th>\n",
       "      <td>M1</td>\n",
       "      <td>P12</td>\n",
       "      <td>2006-10-01</td>\n",
       "      <td>2008-02-01</td>\n",
       "      <td>2</td>\n",
       "    </tr>\n",
       "    <tr>\n",
       "      <th>3</th>\n",
       "      <td>M1</td>\n",
       "      <td>P30</td>\n",
       "      <td>2006-05-01</td>\n",
       "      <td>2007-07-01</td>\n",
       "      <td>1</td>\n",
       "    </tr>\n",
       "    <tr>\n",
       "      <th>4</th>\n",
       "      <td>M3</td>\n",
       "      <td>P06</td>\n",
       "      <td>2007-08-01</td>\n",
       "      <td>2007-12-01</td>\n",
       "      <td>1</td>\n",
       "    </tr>\n",
       "  </tbody>\n",
       "</table>\n",
       "</div>"
      ],
      "text/plain": [
       "  module_category component_category year/month(sale) year/month(repair)  \\\n",
       "0              M6                P16       2007-09-01         2009-04-01   \n",
       "1              M2                P30       2007-09-01         2009-08-01   \n",
       "2              M1                P12       2006-10-01         2008-02-01   \n",
       "3              M1                P30       2006-05-01         2007-07-01   \n",
       "4              M3                P06       2007-08-01         2007-12-01   \n",
       "\n",
       "   number_repair  \n",
       "0              1  \n",
       "1              1  \n",
       "2              2  \n",
       "3              1  \n",
       "4              1  "
      ]
     },
     "execution_count": 81,
     "metadata": {},
     "output_type": "execute_result"
    }
   ],
   "source": [
    "repair_train.head()"
   ]
  },
  {
   "cell_type": "code",
   "execution_count": 82,
   "metadata": {
    "collapsed": false
   },
   "outputs": [
    {
     "data": {
      "text/html": [
       "<div>\n",
       "<table border=\"1\" class=\"dataframe\">\n",
       "  <thead>\n",
       "    <tr style=\"text-align: right;\">\n",
       "      <th></th>\n",
       "      <th>module_category</th>\n",
       "      <th>component_category</th>\n",
       "      <th>year/month</th>\n",
       "      <th>number_sale</th>\n",
       "    </tr>\n",
       "  </thead>\n",
       "  <tbody>\n",
       "    <tr>\n",
       "      <th>0</th>\n",
       "      <td>M4</td>\n",
       "      <td>P27</td>\n",
       "      <td>2005-01-01</td>\n",
       "      <td>0</td>\n",
       "    </tr>\n",
       "    <tr>\n",
       "      <th>1</th>\n",
       "      <td>M4</td>\n",
       "      <td>P27</td>\n",
       "      <td>2005-05-01</td>\n",
       "      <td>1042</td>\n",
       "    </tr>\n",
       "    <tr>\n",
       "      <th>2</th>\n",
       "      <td>M4</td>\n",
       "      <td>P27</td>\n",
       "      <td>2005-09-01</td>\n",
       "      <td>1677</td>\n",
       "    </tr>\n",
       "    <tr>\n",
       "      <th>3</th>\n",
       "      <td>M4</td>\n",
       "      <td>P27</td>\n",
       "      <td>2005-10-01</td>\n",
       "      <td>918</td>\n",
       "    </tr>\n",
       "    <tr>\n",
       "      <th>4</th>\n",
       "      <td>M4</td>\n",
       "      <td>P27</td>\n",
       "      <td>2005-11-01</td>\n",
       "      <td>0</td>\n",
       "    </tr>\n",
       "  </tbody>\n",
       "</table>\n",
       "</div>"
      ],
      "text/plain": [
       "  module_category component_category year/month  number_sale\n",
       "0              M4                P27 2005-01-01            0\n",
       "1              M4                P27 2005-05-01         1042\n",
       "2              M4                P27 2005-09-01         1677\n",
       "3              M4                P27 2005-10-01          918\n",
       "4              M4                P27 2005-11-01            0"
      ]
     },
     "execution_count": 82,
     "metadata": {},
     "output_type": "execute_result"
    }
   ],
   "source": [
    "sale_train.head()"
   ]
  },
  {
   "cell_type": "code",
   "execution_count": 96,
   "metadata": {
    "collapsed": false
   },
   "outputs": [
    {
     "data": {
      "text/html": [
       "<div>\n",
       "<table border=\"1\" class=\"dataframe\">\n",
       "  <thead>\n",
       "    <tr style=\"text-align: right;\">\n",
       "      <th></th>\n",
       "      <th>module_category</th>\n",
       "      <th>component_category</th>\n",
       "      <th>year</th>\n",
       "      <th>month</th>\n",
       "    </tr>\n",
       "  </thead>\n",
       "  <tbody>\n",
       "    <tr>\n",
       "      <th>0</th>\n",
       "      <td>M1</td>\n",
       "      <td>P02</td>\n",
       "      <td>2010</td>\n",
       "      <td>1</td>\n",
       "    </tr>\n",
       "    <tr>\n",
       "      <th>1</th>\n",
       "      <td>M1</td>\n",
       "      <td>P02</td>\n",
       "      <td>2010</td>\n",
       "      <td>2</td>\n",
       "    </tr>\n",
       "    <tr>\n",
       "      <th>2</th>\n",
       "      <td>M1</td>\n",
       "      <td>P02</td>\n",
       "      <td>2010</td>\n",
       "      <td>3</td>\n",
       "    </tr>\n",
       "    <tr>\n",
       "      <th>3</th>\n",
       "      <td>M1</td>\n",
       "      <td>P02</td>\n",
       "      <td>2010</td>\n",
       "      <td>4</td>\n",
       "    </tr>\n",
       "    <tr>\n",
       "      <th>4</th>\n",
       "      <td>M1</td>\n",
       "      <td>P02</td>\n",
       "      <td>2010</td>\n",
       "      <td>5</td>\n",
       "    </tr>\n",
       "  </tbody>\n",
       "</table>\n",
       "</div>"
      ],
      "text/plain": [
       "  module_category component_category  year  month\n",
       "0              M1                P02  2010      1\n",
       "1              M1                P02  2010      2\n",
       "2              M1                P02  2010      3\n",
       "3              M1                P02  2010      4\n",
       "4              M1                P02  2010      5"
      ]
     },
     "execution_count": 96,
     "metadata": {},
     "output_type": "execute_result"
    }
   ],
   "source": [
    "output_mapping.head()"
   ]
  },
  {
   "cell_type": "markdown",
   "metadata": {},
   "source": [
    "** How many of the module and component category are in the training set as well ? **"
   ]
  },
  {
   "cell_type": "code",
   "execution_count": 60,
   "metadata": {
    "collapsed": false
   },
   "outputs": [
    {
     "name": "stdout",
     "output_type": "stream",
     "text": [
      "Number of module and component in the repair_train  224\n",
      "Numbe of module and component in the sale_train  224\n"
     ]
    }
   ],
   "source": [
    "def count_module_components_in_train(df, output_mapping):\n",
    "    num_mod_comp = 0\n",
    "    checked = {}\n",
    "    \n",
    "    output_mapping_without_duplicates = output_mapping[['module_category', 'component_category']].drop_duplicates()\n",
    "    \n",
    "    for mod, comp in zip(output_mapping_without_duplicates['module_category'], output_mapping_without_duplicates['component_category']):\n",
    "        mask = (df.module_category == mod) & (df.component_category == comp)\n",
    "        \n",
    "        if (mod,comp) not in checked  and df.loc[mask].shape[0] > 0:\n",
    "            num_mod_comp += 1\n",
    "            checked[(mod, comp)] = True\n",
    "    \n",
    "    return num_mod_comp\n",
    "\n",
    "print('Number of module and component in the repair_train ', count_module_components_in_train(repair_train, output_mapping))\n",
    "print('Number of module and component in the sale_train ', count_module_components_in_train(sale_train, output_mapping))"
   ]
  },
  {
   "cell_type": "code",
   "execution_count": 84,
   "metadata": {
    "collapsed": false
   },
   "outputs": [],
   "source": [
    "# add month of the repair as a feature\n",
    "repair_train['repair_month'] = repair_train['year/month(repair)'].dt.month"
   ]
  },
  {
   "cell_type": "markdown",
   "metadata": {},
   "source": [
    "** So all of the module and component pairs are present in the sales and repair dataset. **"
   ]
  },
  {
   "cell_type": "code",
   "execution_count": 186,
   "metadata": {
    "collapsed": false
   },
   "outputs": [],
   "source": [
    "repair_per_month = repair_train.pivot_table(values='number_repair', index=['module_category', 'component_category'],\\\n",
    "                         columns=['repair_month'], fill_value=0, aggfunc='sum')"
   ]
  },
  {
   "cell_type": "markdown",
   "metadata": {},
   "source": [
    "### Exponential Decay"
   ]
  },
  {
   "cell_type": "markdown",
   "metadata": {},
   "source": [
    "For every module and component take numbe of repairs in the month of December to be initial value and then at a decay rate $k$, give predictions for the rest 19 months."
   ]
  },
  {
   "cell_type": "code",
   "execution_count": 187,
   "metadata": {
    "collapsed": false
   },
   "outputs": [
    {
     "name": "stdout",
     "output_type": "stream",
     "text": [
      "Number of pairs that need adjustment  29\n",
      "\n",
      "Affected modules  ['M1', 'M1', 'M2', 'M2', 'M2', 'M2', 'M2', 'M2', 'M3', 'M3', 'M3', 'M3', 'M3', 'M4', 'M4', 'M5', 'M5', 'M5', 'M6', 'M6', 'M6', 'M6', 'M6', 'M7', 'M8', 'M8', 'M8', 'M9', 'M9']\n",
      "\n",
      "Affected Components  ['P25', 'P27', 'P07', 'P08', 'P10', 'P14', 'P27', 'P29', 'P01', 'P10', 'P18', 'P23', 'P27', 'P01', 'P27', 'P01', 'P10', 'P27', 'P01', 'P03', 'P10', 'P11', 'P27', 'P27', 'P01', 'P10', 'P27', 'P01', 'P27']\n"
     ]
    }
   ],
   "source": [
    "module_component_unique_pairs = output_mapping[['module_category', 'component_category']].drop_duplicates()\n",
    "needs_adjustment = 0\n",
    "\n",
    "affected_modules = []\n",
    "affected_components = []\n",
    "\n",
    "unique_pairs = zip(module_component_unique_pairs['module_category'], module_component_unique_pairs['component_category'])\n",
    "\n",
    "for mod, comp in unique_pairs:\n",
    "    if repair_per_month.ix[(mod, comp)][12] == 0:\n",
    "        needs_adjustment += 1\n",
    "        \n",
    "        affected_modules.append(mod)\n",
    "        affected_components.append(comp)\n",
    "\n",
    "print('Number of pairs that need adjustment ', needs_adjustment)\n",
    "print('\\nAffected modules ', affected_modules)\n",
    "print('\\nAffected Components ', affected_components)"
   ]
  },
  {
   "cell_type": "code",
   "execution_count": 202,
   "metadata": {
    "collapsed": false
   },
   "outputs": [],
   "source": [
    "def get_initial_value(mod, comp, repair_per_month):\n",
    "    repair_by_months = repair_per_month.ix[(mod, comp)]\n",
    "    \n",
    "    if repair_by_months[12] == 0:\n",
    "        non_zero_elements = np.nonzero(repair_by_months)[0]\n",
    "        \n",
    "        if len(non_zero_elements) == 0:\n",
    "            return 0\n",
    "        else:\n",
    "            return repair_by_months[non_zero_elements.max() + 1]\n",
    "    else:\n",
    "        return repair_by_months[12]\n",
    "\n",
    "def exponential_decay(decay_rate, modules, components, repair_per_month):\n",
    "    prediction_dict = defaultdict(list)\n",
    "    \n",
    "    for mod, comp in zip(modules, components):\n",
    "        N0 = get_initial_value(mod, comp, repair_per_month)\n",
    "        \n",
    "        for i in range(19):\n",
    "            Ni = N0 * np.exp(-decay_rate * (i+1))\n",
    "            prediction_dict[(mod, comp)].append(Ni)\n",
    "    \n",
    "    return prediction_dict"
   ]
  },
  {
   "cell_type": "code",
   "execution_count": 220,
   "metadata": {
    "collapsed": false
   },
   "outputs": [],
   "source": [
    "prediction_dict = exponential_decay(0.91, module_component_unique_pairs['module_category'],\\\n",
    "                                    module_component_unique_pairs['component_category'],repair_per_month)"
   ]
  },
  {
   "cell_type": "markdown",
   "metadata": {},
   "source": [
    "### Submissions"
   ]
  },
  {
   "cell_type": "code",
   "execution_count": 223,
   "metadata": {
    "collapsed": false
   },
   "outputs": [],
   "source": [
    "output_mapping['predictions'] = np.ones(len(output_mapping))"
   ]
  },
  {
   "cell_type": "code",
   "execution_count": 224,
   "metadata": {
    "collapsed": false
   },
   "outputs": [],
   "source": [
    "def prepare_submission(modules, components, output_mapping):\n",
    "    for mod, comp in zip(modules, components):\n",
    "        mask = (output_mapping.module_category == mod) & (output_mapping.component_category == comp)\n",
    "        output_mapping.loc[mask, 'predictions'] = prediction_dict[(mod, comp)]\n",
    "    \n",
    "    return output_mapping"
   ]
  },
  {
   "cell_type": "code",
   "execution_count": 225,
   "metadata": {
    "collapsed": false
   },
   "outputs": [],
   "source": [
    "output_mapping = prepare_submission(module_component_unique_pairs['module_category'],\\\n",
    "                                    module_component_unique_pairs['component_category'],\n",
    "                                    output_mapping)"
   ]
  },
  {
   "cell_type": "code",
   "execution_count": 226,
   "metadata": {
    "collapsed": false
   },
   "outputs": [],
   "source": [
    "sample_sub['target'] = output_mapping.predictions\n",
    "sample_sub.to_csv('./submissions/exponential_decay.csv', index=False)"
   ]
  },
  {
   "cell_type": "code",
   "execution_count": null,
   "metadata": {
    "collapsed": true
   },
   "outputs": [],
   "source": []
  }
 ],
 "metadata": {
  "anaconda-cloud": {},
  "kernelspec": {
   "display_name": "Python [Root]",
   "language": "python",
   "name": "Python [Root]"
  },
  "language_info": {
   "codemirror_mode": {
    "name": "ipython",
    "version": 3
   },
   "file_extension": ".py",
   "mimetype": "text/x-python",
   "name": "python",
   "nbconvert_exporter": "python",
   "pygments_lexer": "ipython3",
   "version": "3.5.2"
  }
 },
 "nbformat": 4,
 "nbformat_minor": 0
}
