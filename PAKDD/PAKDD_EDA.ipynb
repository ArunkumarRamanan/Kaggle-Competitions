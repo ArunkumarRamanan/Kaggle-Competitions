{
 "cells": [
  {
   "cell_type": "code",
   "execution_count": 268,
   "metadata": {
    "collapsed": true
   },
   "outputs": [],
   "source": [
    "%matplotlib inline\n",
    "\n",
    "import pandas as pd\n",
    "import numpy as np\n",
    "import os\n",
    "\n",
    "import matplotlib.pyplot as plt\n",
    "import seaborn as sns\n",
    "sns.set_style('whitegrid')\n",
    "sns.set_context('poster')\n",
    "\n",
    "from collections import defaultdict\n",
    "from scipy import stats\n",
    "\n",
    "import warnings\n",
    "warnings.filterwarnings('ignore')\n",
    "\n",
    "np.random.seed(2323)\n",
    "\n",
    "DATA_DIR = './data/'"
   ]
  },
  {
   "cell_type": "markdown",
   "metadata": {},
   "source": [
    "Two kinds of historical information are given: __sale log__ and __repair log__. The time period of the __sale log__ is from _January/2005_ to _February/2008_; while the time period of the __repair log__ is from _February/2005_ to _December/2009_. Details of these two files are described in the File description section.\n",
    "\n",
    "Participants should exploit the sale and repair log to predict the the __monthly repair amount__ for each __module-component__ from _January/2010 to July/2011_. In other words, the model should output a series (nineteen elements, one element for one month) of predicted __real-value__ (amount of repair) for each module-component."
   ]
  },
  {
   "cell_type": "code",
   "execution_count": 281,
   "metadata": {
    "collapsed": false
   },
   "outputs": [],
   "source": [
    "# load files\n",
    "repair_train = pd.read_csv(os.path.join(DATA_DIR, 'RepairTrain.csv'), parse_dates=[2, 3])\n",
    "sale_train = pd.read_csv(os.path.join(DATA_DIR, 'SaleTrain.csv'), parse_dates=[2])\n",
    "output_mapping = pd.read_csv(os.path.join(DATA_DIR, 'Output_TargetID_Mapping.csv'))\n",
    "sample_sub = pd.read_csv(os.path.join(DATA_DIR, 'SampleSubmission.csv'))"
   ]
  },
  {
   "cell_type": "code",
   "execution_count": 243,
   "metadata": {
    "collapsed": false
   },
   "outputs": [
    {
     "data": {
      "text/html": [
       "<div>\n",
       "<table border=\"1\" class=\"dataframe\">\n",
       "  <thead>\n",
       "    <tr style=\"text-align: right;\">\n",
       "      <th></th>\n",
       "      <th>module_category</th>\n",
       "      <th>component_category</th>\n",
       "      <th>year/month(sale)</th>\n",
       "      <th>year/month(repair)</th>\n",
       "      <th>number_repair</th>\n",
       "    </tr>\n",
       "  </thead>\n",
       "  <tbody>\n",
       "    <tr>\n",
       "      <th>0</th>\n",
       "      <td>M6</td>\n",
       "      <td>P16</td>\n",
       "      <td>2007-09-01</td>\n",
       "      <td>2009-04-01</td>\n",
       "      <td>1</td>\n",
       "    </tr>\n",
       "    <tr>\n",
       "      <th>1</th>\n",
       "      <td>M2</td>\n",
       "      <td>P30</td>\n",
       "      <td>2007-09-01</td>\n",
       "      <td>2009-08-01</td>\n",
       "      <td>1</td>\n",
       "    </tr>\n",
       "    <tr>\n",
       "      <th>2</th>\n",
       "      <td>M1</td>\n",
       "      <td>P12</td>\n",
       "      <td>2006-10-01</td>\n",
       "      <td>2008-02-01</td>\n",
       "      <td>2</td>\n",
       "    </tr>\n",
       "    <tr>\n",
       "      <th>3</th>\n",
       "      <td>M1</td>\n",
       "      <td>P30</td>\n",
       "      <td>2006-05-01</td>\n",
       "      <td>2007-07-01</td>\n",
       "      <td>1</td>\n",
       "    </tr>\n",
       "    <tr>\n",
       "      <th>4</th>\n",
       "      <td>M3</td>\n",
       "      <td>P06</td>\n",
       "      <td>2007-08-01</td>\n",
       "      <td>2007-12-01</td>\n",
       "      <td>1</td>\n",
       "    </tr>\n",
       "  </tbody>\n",
       "</table>\n",
       "</div>"
      ],
      "text/plain": [
       "  module_category component_category year/month(sale) year/month(repair)  \\\n",
       "0              M6                P16       2007-09-01         2009-04-01   \n",
       "1              M2                P30       2007-09-01         2009-08-01   \n",
       "2              M1                P12       2006-10-01         2008-02-01   \n",
       "3              M1                P30       2006-05-01         2007-07-01   \n",
       "4              M3                P06       2007-08-01         2007-12-01   \n",
       "\n",
       "   number_repair  \n",
       "0              1  \n",
       "1              1  \n",
       "2              2  \n",
       "3              1  \n",
       "4              1  "
      ]
     },
     "execution_count": 243,
     "metadata": {},
     "output_type": "execute_result"
    }
   ],
   "source": [
    "repair_train.head()"
   ]
  },
  {
   "cell_type": "code",
   "execution_count": 244,
   "metadata": {
    "collapsed": false
   },
   "outputs": [
    {
     "data": {
      "text/html": [
       "<div>\n",
       "<table border=\"1\" class=\"dataframe\">\n",
       "  <thead>\n",
       "    <tr style=\"text-align: right;\">\n",
       "      <th></th>\n",
       "      <th>module_category</th>\n",
       "      <th>component_category</th>\n",
       "      <th>year/month</th>\n",
       "      <th>number_sale</th>\n",
       "    </tr>\n",
       "  </thead>\n",
       "  <tbody>\n",
       "    <tr>\n",
       "      <th>0</th>\n",
       "      <td>M4</td>\n",
       "      <td>P27</td>\n",
       "      <td>2005-01-01</td>\n",
       "      <td>0</td>\n",
       "    </tr>\n",
       "    <tr>\n",
       "      <th>1</th>\n",
       "      <td>M4</td>\n",
       "      <td>P27</td>\n",
       "      <td>2005-05-01</td>\n",
       "      <td>1042</td>\n",
       "    </tr>\n",
       "    <tr>\n",
       "      <th>2</th>\n",
       "      <td>M4</td>\n",
       "      <td>P27</td>\n",
       "      <td>2005-09-01</td>\n",
       "      <td>1677</td>\n",
       "    </tr>\n",
       "    <tr>\n",
       "      <th>3</th>\n",
       "      <td>M4</td>\n",
       "      <td>P27</td>\n",
       "      <td>2005-10-01</td>\n",
       "      <td>918</td>\n",
       "    </tr>\n",
       "    <tr>\n",
       "      <th>4</th>\n",
       "      <td>M4</td>\n",
       "      <td>P27</td>\n",
       "      <td>2005-11-01</td>\n",
       "      <td>0</td>\n",
       "    </tr>\n",
       "  </tbody>\n",
       "</table>\n",
       "</div>"
      ],
      "text/plain": [
       "  module_category component_category year/month  number_sale\n",
       "0              M4                P27 2005-01-01            0\n",
       "1              M4                P27 2005-05-01         1042\n",
       "2              M4                P27 2005-09-01         1677\n",
       "3              M4                P27 2005-10-01          918\n",
       "4              M4                P27 2005-11-01            0"
      ]
     },
     "execution_count": 244,
     "metadata": {},
     "output_type": "execute_result"
    }
   ],
   "source": [
    "sale_train.head()"
   ]
  },
  {
   "cell_type": "code",
   "execution_count": 245,
   "metadata": {
    "collapsed": false
   },
   "outputs": [
    {
     "data": {
      "text/html": [
       "<div>\n",
       "<table border=\"1\" class=\"dataframe\">\n",
       "  <thead>\n",
       "    <tr style=\"text-align: right;\">\n",
       "      <th></th>\n",
       "      <th>module_category</th>\n",
       "      <th>component_category</th>\n",
       "      <th>year</th>\n",
       "      <th>month</th>\n",
       "    </tr>\n",
       "  </thead>\n",
       "  <tbody>\n",
       "    <tr>\n",
       "      <th>0</th>\n",
       "      <td>M1</td>\n",
       "      <td>P02</td>\n",
       "      <td>2010</td>\n",
       "      <td>1</td>\n",
       "    </tr>\n",
       "    <tr>\n",
       "      <th>1</th>\n",
       "      <td>M1</td>\n",
       "      <td>P02</td>\n",
       "      <td>2010</td>\n",
       "      <td>2</td>\n",
       "    </tr>\n",
       "    <tr>\n",
       "      <th>2</th>\n",
       "      <td>M1</td>\n",
       "      <td>P02</td>\n",
       "      <td>2010</td>\n",
       "      <td>3</td>\n",
       "    </tr>\n",
       "    <tr>\n",
       "      <th>3</th>\n",
       "      <td>M1</td>\n",
       "      <td>P02</td>\n",
       "      <td>2010</td>\n",
       "      <td>4</td>\n",
       "    </tr>\n",
       "    <tr>\n",
       "      <th>4</th>\n",
       "      <td>M1</td>\n",
       "      <td>P02</td>\n",
       "      <td>2010</td>\n",
       "      <td>5</td>\n",
       "    </tr>\n",
       "  </tbody>\n",
       "</table>\n",
       "</div>"
      ],
      "text/plain": [
       "  module_category component_category  year  month\n",
       "0              M1                P02  2010      1\n",
       "1              M1                P02  2010      2\n",
       "2              M1                P02  2010      3\n",
       "3              M1                P02  2010      4\n",
       "4              M1                P02  2010      5"
      ]
     },
     "execution_count": 245,
     "metadata": {},
     "output_type": "execute_result"
    }
   ],
   "source": [
    "output_mapping.head()"
   ]
  },
  {
   "cell_type": "markdown",
   "metadata": {},
   "source": [
    "** How many of the module and component category are in the training set as well ? **"
   ]
  },
  {
   "cell_type": "code",
   "execution_count": 246,
   "metadata": {
    "collapsed": false
   },
   "outputs": [
    {
     "name": "stdout",
     "output_type": "stream",
     "text": [
      "Number of module and component in the repair_train  224\n",
      "Number of module and component in the sale_train  224\n"
     ]
    }
   ],
   "source": [
    "def count_module_components_in_train(df, output_mapping):\n",
    "    num_mod_comp = 0\n",
    "    checked = {}\n",
    "    \n",
    "    output_mapping_without_duplicates = output_mapping[['module_category', 'component_category']].drop_duplicates()\n",
    "    \n",
    "    for mod, comp in zip(output_mapping_without_duplicates['module_category'], output_mapping_without_duplicates['component_category']):\n",
    "        mask = (df.module_category == mod) & (df.component_category == comp)\n",
    "        \n",
    "        if (mod,comp) not in checked  and df.loc[mask].shape[0] > 0:\n",
    "            num_mod_comp += 1\n",
    "            checked[(mod, comp)] = True\n",
    "    \n",
    "    return num_mod_comp\n",
    "\n",
    "print('Number of module and component in the repair_train ', count_module_components_in_train(repair_train, output_mapping))\n",
    "print('Number of module and component in the sale_train ', count_module_components_in_train(sale_train, output_mapping))"
   ]
  },
  {
   "cell_type": "markdown",
   "metadata": {},
   "source": [
    "** So all of the module and component pairs are present in the sales and repair dataset. **"
   ]
  },
  {
   "cell_type": "code",
   "execution_count": 282,
   "metadata": {
    "collapsed": false
   },
   "outputs": [],
   "source": [
    "repair_per_month = repair_train.pivot_table(values='number_repair', index=['module_category', 'component_category'],\\\n",
    "                         columns=['year/month(repair)'], fill_value=0, aggfunc='sum')"
   ]
  },
  {
   "cell_type": "code",
   "execution_count": 283,
   "metadata": {
    "collapsed": false
   },
   "outputs": [],
   "source": [
    "def decrease_in_last_6_months(pair):\n",
    "    module, component = pair\n",
    "    num_decrease = 0\n",
    "    \n",
    "    last_6_month = repair_per_month.ix[(module, component)][-6:]\n",
    "    \n",
    "    for i in range(5):\n",
    "        if last_6_month.iloc[i] > last_6_month.iloc[i+1]:\n",
    "            num_decrease += 1\n",
    "    \n",
    "    return num_decrease\n",
    "\n",
    "repair_per_month['num_decrease'] = list(map(decrease_in_last_6_months, repair_per_month.index.values))"
   ]
  },
  {
   "cell_type": "code",
   "execution_count": 284,
   "metadata": {
    "collapsed": false
   },
   "outputs": [],
   "source": [
    "def log_value(module, component, key):\n",
    "    key = pd.to_datetime(key)\n",
    "    return np.log(1 + repair_per_month.ix[(module, component)][key])\n",
    "\n",
    "years = ['2009/05', '2009/06', '2009/07', '2009/08', '2009/09', '2009/10', '2009/11', '2009/12']\n",
    "\n",
    "repair_per_month['log_1_month'] = [log_value(mod, comp, years[0]) for mod, comp in repair_per_month.index.values]\n",
    "repair_per_month['log_2_month'] = [log_value(mod, comp, years[1]) for mod, comp in repair_per_month.index.values]\n",
    "repair_per_month['log_3_month'] = [log_value(mod, comp, years[2]) for mod, comp in repair_per_month.index.values]\n",
    "repair_per_month['log_4_month'] = [log_value(mod, comp, years[3]) for mod, comp in repair_per_month.index.values]\n",
    "repair_per_month['log_5_month'] = [log_value(mod, comp, years[4]) for mod, comp in repair_per_month.index.values]\n",
    "repair_per_month['log_6_month'] = [log_value(mod, comp, years[5]) for mod, comp in repair_per_month.index.values]\n",
    "repair_per_month['log_7_month'] = [log_value(mod, comp, years[6]) for mod, comp in repair_per_month.index.values]"
   ]
  },
  {
   "cell_type": "code",
   "execution_count": 286,
   "metadata": {
    "collapsed": false
   },
   "outputs": [
    {
     "data": {
      "text/plain": [
       "module_category  component_category\n",
       "M1               P02                   0.693147\n",
       "Name: log_1_month, dtype: float64"
      ]
     },
     "execution_count": 286,
     "metadata": {},
     "output_type": "execute_result"
    }
   ],
   "source": [
    "repair_per_month['log_1_month'].head(1)"
   ]
  },
  {
   "cell_type": "code",
   "execution_count": 293,
   "metadata": {
    "collapsed": false
   },
   "outputs": [],
   "source": [
    "def linear_coefficiect(row):\n",
    "    y = np.hstack((row['log_1_month'], row['log_2_month'], row['log_3_month'],\n",
    "                       row['log_4_month'], row['log_5_month'], row['log_6_month'],\n",
    "                       row['log_7_month']\n",
    "                      )\n",
    "                  )\n",
    "    \n",
    "    x = np.arange(0, 7)\n",
    "    \n",
    "    z = np.polyfit(x, y, 1) # linear estimation\n",
    "    \n",
    "    intercept = z[0]\n",
    "    \n",
    "    if intercept >= 0:\n",
    "        return np.log(0.91)\n",
    "    else:\n",
    "        return intercept\n",
    "\n",
    "repair_per_month['linear_estimation'] = repair_per_month[['log_1_month', 'log_2_month', 'log_3_month', \\\n",
    "                                                          'log_4_month', 'log_5_month','log_6_month', 'log_7_month'\\\n",
    "                                                         ]].apply(linear_coefficiect, axis=1)"
   ]
  },
  {
   "cell_type": "code",
   "execution_count": 294,
   "metadata": {
    "collapsed": true
   },
   "outputs": [],
   "source": [
    "repair_per_month['decay_coefficient'] = np.exp(repair_per_month.linear_estimation)\n",
    "repair_per_month['decay_coefficient_processed'] = repair_per_month.decay_coefficient + \\\n",
    "                                                  (1 - repair_per_month.decay_coefficient) / 2"
   ]
  },
  {
   "cell_type": "code",
   "execution_count": 296,
   "metadata": {
    "collapsed": false
   },
   "outputs": [
    {
     "data": {
      "text/plain": [
       "module_category  component_category\n",
       "M1               P02                   0.964212\n",
       "                 P04                   0.975848\n",
       "Name: decay_coefficient_processed, dtype: float64"
      ]
     },
     "execution_count": 296,
     "metadata": {},
     "output_type": "execute_result"
    }
   ],
   "source": [
    "repair_per_month['decay_coefficient_processed'].head(2)"
   ]
  },
  {
   "cell_type": "markdown",
   "metadata": {},
   "source": [
    "Extrapolate to the future 19 months by using the decay parameter per row and initialize the first element based on the number of decreases. If number of decreases greater than 3 then initialize with the number of repairs in the last month i.e. 2009/12 and multiply with decay rate else take average of last 3 months repair values and then multiply with the decay rate and take that as the initial value."
   ]
  },
  {
   "cell_type": "code",
   "execution_count": 307,
   "metadata": {
    "collapsed": false
   },
   "outputs": [
    {
     "data": {
      "text/plain": [
       "0.0"
      ]
     },
     "execution_count": 307,
     "metadata": {},
     "output_type": "execute_result"
    }
   ],
   "source": [
    "repair_per_month.ix[('M1', 'P02')].num_decrease"
   ]
  },
  {
   "cell_type": "code",
   "execution_count": 316,
   "metadata": {
    "collapsed": false
   },
   "outputs": [],
   "source": [
    "def create_predictions(index):\n",
    "    prediction_dict = defaultdict(list)\n",
    "    \n",
    "    for i in range(len(index)):\n",
    "        mod, comp = index[i]\n",
    "        \n",
    "        row = repair_per_month.ix[index[i]]\n",
    "        decay_coefficient = row['decay_coefficient_processed']\n",
    "        \n",
    "        if row.num_decrease > 3:\n",
    "            prediction_dict[(mod, comp)].append(row[pd.to_datetime('2009/12')] * decay_coefficient)\n",
    "            \n",
    "        else:\n",
    "            average_ = (row[pd.to_datetime('2009/10')] + row[pd.to_datetime('2009/11')] \\\n",
    "                       + row[pd.to_datetime('2009/12')]) / 3.\n",
    "            \n",
    "            prediction_dict[(mod, comp)].append(average_  * decay_coefficient)\n",
    "        \n",
    "        for j in range(1, 19):\n",
    "            prediction_dict[(mod, comp)].append(prediction_dict[(mod, comp)][j-1] * decay_coefficient)\n",
    "    \n",
    "    return prediction_dict\n",
    "\n",
    "prediction_dict = create_predictions(repair_per_month.index.values)"
   ]
  },
  {
   "cell_type": "markdown",
   "metadata": {},
   "source": [
    "### Submissions"
   ]
  },
  {
   "cell_type": "code",
   "execution_count": 317,
   "metadata": {
    "collapsed": false
   },
   "outputs": [],
   "source": [
    "output_mapping['predictions'] = np.ones(len(output_mapping))"
   ]
  },
  {
   "cell_type": "code",
   "execution_count": 318,
   "metadata": {
    "collapsed": false
   },
   "outputs": [],
   "source": [
    "def prepare_submission(modules, components, output_mapping):\n",
    "    for mod, comp in zip(modules, components):\n",
    "        mask = (output_mapping.module_category == mod) & (output_mapping.component_category == comp)\n",
    "        output_mapping.loc[mask, 'predictions'] = prediction_dict[(mod, comp)]\n",
    "    \n",
    "    return output_mapping"
   ]
  },
  {
   "cell_type": "code",
   "execution_count": 319,
   "metadata": {
    "collapsed": false
   },
   "outputs": [],
   "source": [
    "output_mapping = prepare_submission(module_component_unique_pairs['module_category'],\\\n",
    "                                    module_component_unique_pairs['component_category'],\n",
    "                                    output_mapping)"
   ]
  },
  {
   "cell_type": "code",
   "execution_count": 325,
   "metadata": {
    "collapsed": false
   },
   "outputs": [],
   "source": [
    "sample_sub['target'] = output_mapping.predictions\n",
    "sample_sub.to_csv('./submissions/ryan_locar_solution.csv', index=False)"
   ]
  },
  {
   "cell_type": "code",
   "execution_count": null,
   "metadata": {
    "collapsed": true
   },
   "outputs": [],
   "source": []
  }
 ],
 "metadata": {
  "anaconda-cloud": {},
  "kernelspec": {
   "display_name": "Python [Root]",
   "language": "python",
   "name": "Python [Root]"
  },
  "language_info": {
   "codemirror_mode": {
    "name": "ipython",
    "version": 3
   },
   "file_extension": ".py",
   "mimetype": "text/x-python",
   "name": "python",
   "nbconvert_exporter": "python",
   "pygments_lexer": "ipython3",
   "version": "3.5.2"
  }
 },
 "nbformat": 4,
 "nbformat_minor": 0
}
