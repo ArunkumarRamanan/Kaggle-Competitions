{
 "cells": [
  {
   "cell_type": "code",
   "execution_count": 2,
   "metadata": {
    "collapsed": false
   },
   "outputs": [],
   "source": [
    "%matplotlib inline\n",
    "\n",
    "import numpy as np\n",
    "import pandas as pd\n",
    "import os\n",
    "\n",
    "import matplotlib.pyplot as plt\n",
    "import seaborn as sns\n",
    "sns.set_style('whitegrid')\n",
    "sns.set_context('poster')\n",
    "\n",
    "import warnings\n",
    "warnings.filterwarnings('ignore')\n",
    "\n",
    "np.random.seed(2313)\n",
    "DATA_DIR = './data'"
   ]
  },
  {
   "cell_type": "code",
   "execution_count": 3,
   "metadata": {
    "collapsed": true
   },
   "outputs": [],
   "source": [
    "# load files\n",
    "repair_train = pd.read_csv(os.path.join(DATA_DIR, 'RepairTrain.csv'), parse_dates=[2, 3])\n",
    "sale_train = pd.read_csv(os.path.join(DATA_DIR, 'SaleTrain.csv'), parse_dates=[2])\n",
    "output_mapping = pd.read_csv(os.path.join(DATA_DIR, 'Output_TargetID_Mapping.csv'))\n",
    "sample_sub = pd.read_csv(os.path.join(DATA_DIR, 'SampleSubmission.csv'))"
   ]
  },
  {
   "cell_type": "code",
   "execution_count": 4,
   "metadata": {
    "collapsed": true
   },
   "outputs": [],
   "source": [
    "saleyear = sale_train['year/month'].dt.year\n",
    "salemonth = sale_train['year/month'].dt.month\n",
    "saletime = (saleyear - 2005) * 12 + (salemonth - 1)"
   ]
  },
  {
   "cell_type": "code",
   "execution_count": 5,
   "metadata": {
    "collapsed": true
   },
   "outputs": [],
   "source": [
    "repairyearsale = repair_train['year/month(sale)'].dt.year\n",
    "repairmonthsale = repair_train['year/month(sale)'].dt.month\n",
    "repairtimesale = (repairyearsale - 2005) * 12 + (repairmonthsale - 1)"
   ]
  },
  {
   "cell_type": "code",
   "execution_count": 6,
   "metadata": {
    "collapsed": true
   },
   "outputs": [],
   "source": [
    "repairyearrepair = repair_train['year/month(repair)'].dt.year\n",
    "repairmonthrepair = repair_train['year/month(repair)'].dt.month\n",
    "repairtimerepair = (repairyearrepair - 2005) * 12 + (repairmonthrepair - 1)"
   ]
  },
  {
   "cell_type": "code",
   "execution_count": 8,
   "metadata": {
    "collapsed": false
   },
   "outputs": [],
   "source": [
    "# processed dataset\n",
    "sale_train_processed = pd.DataFrame({\n",
    "                            'mc': sale_train.module_category,\n",
    "                            'cc': sale_train.component_category,\n",
    "                            'time_sale': saletime,\n",
    "                            'number_sale': sale_train.number_sale\n",
    "                        })\n",
    "\n",
    "sale_train_processed = sale_train_processed.loc[sale_train_processed.mc != 'M0'] # no need to include this module as this not in the test set\n",
    "\n",
    "repair_train_processed = pd.DataFrame({\n",
    "                            'mc': repair_train.module_category,\n",
    "                            'cc': repair_train.component_category,\n",
    "                            'time_sale': repairtimesale,\n",
    "                            'timerepair': repairtimerepair,\n",
    "                            'timedelta': (repairtimerepair - repairtimesale),\n",
    "                            'number_repair': repair_train.number_repair\n",
    "                        })"
   ]
  },
  {
   "cell_type": "code",
   "execution_count": 19,
   "metadata": {
    "collapsed": false
   },
   "outputs": [],
   "source": [
    "# group by module, component category and time_sale, time_repair, time_delta to summarize values\n",
    "\n",
    "sale_train_processed['mc_cc_time'] = sale_train_processed.groupby(['mc', 'cc', 'time_sale'])['number_sale'].transform(lambda x: sum(x))\n",
    "repair_train_processed['mc_cc_time_delta'] = repair_train_processed.groupby(['mc', 'cc', 'timedelta'])['number_repair'].transform(lambda x: sum(x))\n",
    "repair_train_processed['mc_cc_time_repair'] = repair_train_processed.groupby(['mc', 'cc', 'timerepair'])['number_repair'].transform(lambda x: sum(x))"
   ]
  },
  {
   "cell_type": "code",
   "execution_count": 20,
   "metadata": {
    "collapsed": false
   },
   "outputs": [],
   "source": [
    "# aggregate across modules\n",
    "\n",
    "sale_train_processed['cc_time'] = sale_train_processed.groupby(['cc', 'time_sale'])['number_sale'].transform(lambda x: sum(x))\n",
    "repair_train_processed['cc_time_delta'] = repair_train_processed.groupby(['cc', 'timedelta'])['number_repair'].transform(lambda x: sum(x))"
   ]
  },
  {
   "cell_type": "code",
   "execution_count": 21,
   "metadata": {
    "collapsed": false
   },
   "outputs": [
    {
     "data": {
      "text/html": [
       "<div>\n",
       "<table border=\"1\" class=\"dataframe\">\n",
       "  <thead>\n",
       "    <tr style=\"text-align: right;\">\n",
       "      <th></th>\n",
       "      <th>cc</th>\n",
       "      <th>mc</th>\n",
       "      <th>number_sale</th>\n",
       "      <th>time_sale</th>\n",
       "      <th>mc_cc_time</th>\n",
       "      <th>cc_time</th>\n",
       "    </tr>\n",
       "  </thead>\n",
       "  <tbody>\n",
       "    <tr>\n",
       "      <th>0</th>\n",
       "      <td>P27</td>\n",
       "      <td>M4</td>\n",
       "      <td>0</td>\n",
       "      <td>0</td>\n",
       "      <td>9080</td>\n",
       "      <td>9080</td>\n",
       "    </tr>\n",
       "    <tr>\n",
       "      <th>1</th>\n",
       "      <td>P27</td>\n",
       "      <td>M4</td>\n",
       "      <td>1042</td>\n",
       "      <td>4</td>\n",
       "      <td>50718</td>\n",
       "      <td>50718</td>\n",
       "    </tr>\n",
       "    <tr>\n",
       "      <th>2</th>\n",
       "      <td>P27</td>\n",
       "      <td>M4</td>\n",
       "      <td>1677</td>\n",
       "      <td>8</td>\n",
       "      <td>46076</td>\n",
       "      <td>124524</td>\n",
       "    </tr>\n",
       "    <tr>\n",
       "      <th>3</th>\n",
       "      <td>P27</td>\n",
       "      <td>M4</td>\n",
       "      <td>918</td>\n",
       "      <td>9</td>\n",
       "      <td>43228</td>\n",
       "      <td>198661</td>\n",
       "    </tr>\n",
       "    <tr>\n",
       "      <th>4</th>\n",
       "      <td>P27</td>\n",
       "      <td>M4</td>\n",
       "      <td>0</td>\n",
       "      <td>10</td>\n",
       "      <td>33387</td>\n",
       "      <td>276055</td>\n",
       "    </tr>\n",
       "  </tbody>\n",
       "</table>\n",
       "</div>"
      ],
      "text/plain": [
       "    cc  mc  number_sale  time_sale  mc_cc_time  cc_time\n",
       "0  P27  M4            0          0        9080     9080\n",
       "1  P27  M4         1042          4       50718    50718\n",
       "2  P27  M4         1677          8       46076   124524\n",
       "3  P27  M4          918          9       43228   198661\n",
       "4  P27  M4            0         10       33387   276055"
      ]
     },
     "execution_count": 21,
     "metadata": {},
     "output_type": "execute_result"
    }
   ],
   "source": [
    "sale_train_processed.head()"
   ]
  },
  {
   "cell_type": "code",
   "execution_count": 32,
   "metadata": {
    "collapsed": false
   },
   "outputs": [],
   "source": [
    "def func_(df):\n",
    "    recent_observations = df.loc[df['timerepair'] > 57]\n",
    "    \n",
    "    if sum(recent_observations['number_repair']) > 0:\n",
    "        return sum(recent_observations['number_repair'])\n",
    "    else:\n",
    "        return 0\n",
    "        \n",
    "repairs = repair_train_processed.groupby(['mc', 'cc']).apply(func_)\n",
    "\n",
    "repairs_df = pd.DataFrame({'last_2': repairs})\n",
    "repairs_df = repairs_df.sort_values(by='last_2', ascending=False)\n",
    "\n",
    "repairs_df['pctvar'] = np.round(repairs_df.last_2 / np.sum(repairs_df.last_2) * 100) / 100\n",
    "repairs_df['cumvar'] = np.cumsum(repairs_df['pctvar'])"
   ]
  },
  {
   "cell_type": "code",
   "execution_count": 42,
   "metadata": {
    "collapsed": false
   },
   "outputs": [
    {
     "data": {
      "text/plain": [
       "Index(['cc', 'mc', 'number_sale', 'time_sale', 'mc_cc_time', 'cc_time'], dtype='object')"
      ]
     },
     "execution_count": 42,
     "metadata": {},
     "output_type": "execute_result"
    }
   ],
   "source": [
    "sale_train_processed.columns"
   ]
  },
  {
   "cell_type": "code",
   "execution_count": 50,
   "metadata": {
    "collapsed": false
   },
   "outputs": [
    {
     "name": "stdout",
     "output_type": "stream",
     "text": [
      "myl  29\n",
      "ops for repair  29\n",
      "myl  27\n",
      "ops for repair  29\n",
      "myl  54\n",
      "ops for repair  29\n"
     ]
    },
    {
     "ename": "ValueError",
     "evalue": "operands could not be broadcast together with shapes (29,) (54,) ",
     "output_type": "error",
     "traceback": [
      "\u001b[0;31m---------------------------------------------------------------------------\u001b[0m",
      "\u001b[0;31mValueError\u001b[0m                                Traceback (most recent call last)",
      "\u001b[0;32m<ipython-input-50-056c1f9fb131>\u001b[0m in \u001b[0;36m<module>\u001b[0;34m()\u001b[0m\n\u001b[1;32m     21\u001b[0m         \u001b[0mprint\u001b[0m\u001b[0;34m(\u001b[0m\u001b[0;34m'ops for repair '\u001b[0m\u001b[0;34m,\u001b[0m \u001b[0mlen\u001b[0m\u001b[0;34m(\u001b[0m\u001b[0mopsforrepair\u001b[0m\u001b[0;34m)\u001b[0m\u001b[0;34m)\u001b[0m\u001b[0;34m\u001b[0m\u001b[0m\n\u001b[1;32m     22\u001b[0m \u001b[0;34m\u001b[0m\u001b[0m\n\u001b[0;32m---> 23\u001b[0;31m         \u001b[0mopsforrepair\u001b[0m\u001b[0;34m[\u001b[0m\u001b[0;36m0\u001b[0m\u001b[0;34m:\u001b[0m\u001b[0mmyl\u001b[0m\u001b[0;34m]\u001b[0m \u001b[0;34m=\u001b[0m \u001b[0mopsforrepair\u001b[0m\u001b[0;34m[\u001b[0m\u001b[0;36m0\u001b[0m\u001b[0;34m:\u001b[0m\u001b[0mmyl\u001b[0m\u001b[0;34m]\u001b[0m \u001b[0;34m+\u001b[0m \u001b[0mnp\u001b[0m\u001b[0;34m.\u001b[0m\u001b[0mtile\u001b[0m\u001b[0;34m(\u001b[0m\u001b[0mtmp\u001b[0m\u001b[0;34m.\u001b[0m\u001b[0miloc\u001b[0m\u001b[0;34m[\u001b[0m\u001b[0ml\u001b[0m\u001b[0;34m]\u001b[0m\u001b[0;34m[\u001b[0m\u001b[0;34m'number_sale'\u001b[0m\u001b[0;34m]\u001b[0m\u001b[0;34m,\u001b[0m \u001b[0mmyl\u001b[0m\u001b[0;34m)\u001b[0m\u001b[0;34m\u001b[0m\u001b[0m\n\u001b[0m\u001b[1;32m     24\u001b[0m \u001b[0;34m\u001b[0m\u001b[0m\n\u001b[1;32m     25\u001b[0m     \u001b[0mmask\u001b[0m \u001b[0;34m=\u001b[0m \u001b[0;34m(\u001b[0m\u001b[0mrepair_train_processed\u001b[0m\u001b[0;34m.\u001b[0m\u001b[0mcc\u001b[0m \u001b[0;34m==\u001b[0m \u001b[0mcc\u001b[0m\u001b[0;34m)\u001b[0m \u001b[0;34m&\u001b[0m \u001b[0;34m(\u001b[0m\u001b[0mrepair_train_processed\u001b[0m\u001b[0;34m.\u001b[0m\u001b[0mtimedelta\u001b[0m \u001b[0;34m>\u001b[0m \u001b[0;36m0\u001b[0m\u001b[0;34m)\u001b[0m\u001b[0;34m\u001b[0m\u001b[0m\n",
      "\u001b[0;31mValueError\u001b[0m: operands could not be broadcast together with shapes (29,) (54,) "
     ]
    }
   ],
   "source": [
    "# calculate failure model using component filter as baseline\n",
    "# each entry in filterlist gives the module category, component category, filter coefficients and repair estimate\n",
    "\n",
    "filterlist = []\n",
    "index = repairs_df.index.values\n",
    "\n",
    "for i in range(len(repairs_df)):\n",
    "    mc, cc = index[i]\n",
    "    \n",
    "    # generate filter coefficients\n",
    "    # tmp contains aggregated sales data for a given component across all modules\n",
    "    tmp = sale_train_processed.loc[sale_train_processed.cc == cc]\n",
    "    \n",
    "    # figure out \"denominator\" for filter\n",
    "    opsforrepair = np.zeros((59 - tmp['time_sale'].values[0]))\n",
    "    \n",
    "    for l in range(len(tmp)):\n",
    "        myl = 59 - tmp['time_sale'].values[l]\n",
    "        \n",
    "        print('myl ', myl)\n",
    "        print('ops for repair ', len(opsforrepair))\n",
    "        \n",
    "        opsforrepair[0:myl] = opsforrepair[0:myl] + np.tile(tmp.iloc[l]['number_sale'], myl)\n",
    "    \n",
    "    mask = (repair_train_processed.cc == cc) & (repair_train_processed.timedelta > 0)\n",
    "    nreps = repair_train_processed.loc[mask, 'number_repair'][:len(opsforrepair)] / opsforrepair\n",
    "    \n",
    "    nreps = nreps[0: len(opsforrepair)]\n",
    "    nreps[nreps.isnull()] = 0\n",
    "    \n",
    "    nsales = np.zeros((60))\n",
    "    \n",
    "    for l in range(len(tmp)):\n",
    "        nsales[tmp['time_sale'][l]] = tmp['number_sale'][l]\n",
    "        \n",
    "    filtercoef = nreps"
   ]
  },
  {
   "cell_type": "code",
   "execution_count": null,
   "metadata": {
    "collapsed": true
   },
   "outputs": [],
   "source": []
  }
 ],
 "metadata": {
  "anaconda-cloud": {},
  "kernelspec": {
   "display_name": "Python [Root]",
   "language": "python",
   "name": "Python [Root]"
  },
  "language_info": {
   "codemirror_mode": {
    "name": "ipython",
    "version": 3
   },
   "file_extension": ".py",
   "mimetype": "text/x-python",
   "name": "python",
   "nbconvert_exporter": "python",
   "pygments_lexer": "ipython3",
   "version": "3.5.2"
  }
 },
 "nbformat": 4,
 "nbformat_minor": 0
}
